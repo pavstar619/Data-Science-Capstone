{
  "nbformat": 4,
  "nbformat_minor": 0,
  "metadata": {
    "kernelspec": {
      "display_name": "Python 3",
      "language": "python",
      "name": "python3"
    },
    "language_info": {
      "codemirror_mode": {
        "name": "ipython",
        "version": 3
      },
      "file_extension": ".py",
      "mimetype": "text/x-python",
      "name": "python",
      "nbconvert_exporter": "python",
      "pygments_lexer": "ipython3",
      "version": "3.7.1"
    },
    "colab": {
      "name": "DS Capstone.ipynb",
      "provenance": []
    }
  },
  "cells": [
    {
      "cell_type": "markdown",
      "metadata": {
        "id": "PS--vcQoGel3",
        "colab_type": "text"
      },
      "source": [
        "# Capstone Project (Real or Not? NLP with Disaster Tweets)\n",
        "\n",
        "Predict which Tweets are about real disasters and which ones are not."
      ]
    },
    {
      "cell_type": "markdown",
      "metadata": {
        "id": "h1R3xCs_Gel4",
        "colab_type": "text"
      },
      "source": [
        "## Project Overview\n",
        "\n",
        "Twitter has become an important communication channel in times of emergency.\n",
        "The ubiquitousness of smartphones enables people to announce an emergency they’re observing in real-time. Because of this, more agencies are interested in programatically monitoring tweets(i.e. disaster relief organizations and news agencies) but, it’s not always clear whether a person’s words are actually announcing a disaster.\n",
        "\n",
        "Take an example of a tweet *'On plus side LOOK AT THE SKY LAST NIGHT IT WAS ABLAZE'*.The author of the tweet explicitly uses the word “ABLAZE” but means it metaphorically. This is clear to a human right away, especially with the visual aid but it’s less clear to a machine.\n",
        "\n",
        "Kaggle hosted this challenge on their platform and dataset was created by the company figure-eight originally shared on their ‘Data For Everyone’ website here."
      ]
    },
    {
      "cell_type": "markdown",
      "metadata": {
        "id": "L33CGTcEGel5",
        "colab_type": "text"
      },
      "source": [
        "\n",
        "## The Problem\n",
        "\n",
        "The problem to be solved by this project is how to identify which tweets are about real disasters and which one’s aren’t.This project will build a machine learning model to predict which Tweets are about real disasters and which one’s aren’t.\n"
      ]
    },
    {
      "cell_type": "markdown",
      "metadata": {
        "id": "dcdIrTwYGel6",
        "colab_type": "text"
      },
      "source": [
        "# 1. Analysis "
      ]
    },
    {
      "cell_type": "markdown",
      "metadata": {
        "id": "Ft0KdNbBGel6",
        "colab_type": "text"
      },
      "source": [
        "## Part I: Business understanding\n",
        "\n",
        "Objective of the capstone project is to understand the business domain, analyze and explore the given data set then train and fit the a machine learning model and finally classify given test tweets data into announcing disaster or not.Disaster relief organizations and News Agencies would be the main users of this kind of application. The data is provided by company figure-eight which contains about 10000 tweets and they are hand labeled."
      ]
    },
    {
      "cell_type": "markdown",
      "metadata": {
        "id": "shYMTv5cGel7",
        "colab_type": "text"
      },
      "source": [
        "## Part II: Data Exploration\n",
        "\n",
        "Given dataset contains 3 files:\n",
        "- `train.csv` - the training set\n",
        "- `test.csv` - the test set\n",
        "- `sample_submission.csv` - a sample submission file in the correct format\n",
        "\n",
        "Each sample in the train and test set has the following information:\n",
        "- The text of a tweet\n",
        "- A keyword from that tweet (although this may be blank!)\n",
        "- The location the tweet was sent from (may also be blank)\n",
        "\n",
        "Features in the files:\n",
        "- `id` - a unique identifier for each tweet\n",
        "- `text` - the text of the tweet\n",
        "- `location` - the location the tweet was sent from (may be blank)\n",
        "- `keyword` - a particular keyword from the tweet (may be blank)\n",
        "- `target` - in train.csv only, this denotes whether a tweet is about a real disaster (1) or not (0)"
      ]
    },
    {
      "cell_type": "code",
      "metadata": {
        "id": "wC3UGEtGGel8",
        "colab_type": "code",
        "colab": {
          "base_uri": "https://localhost:8080/",
          "height": 34
        },
        "outputId": "19e887fc-0c12-47ac-b700-322b3239ec7a"
      },
      "source": [
        "#Importing the required libraries to read,visualize and model the givn dataset files\n",
        "import pandas as pd\n",
        "import numpy as np\n",
        "import seaborn as sns\n",
        "import matplotlib.pyplot as plt\n",
        "import plotly.graph_objects as go\n",
        "import plotly.express as px\n",
        "import missingno as msno \n",
        "import warnings\n",
        "warnings.filterwarnings(\"ignore\")\n",
        "import re\n",
        "import re\n",
        "import string\n",
        "import nltk\n",
        "from nltk.corpus import stopwords\n",
        "from sklearn import model_selection\n",
        "from sklearn.feature_extraction.text import CountVectorizer,TfidfVectorizer\n",
        "from sklearn.model_selection import train_test_split,GridSearchCV\n",
        "from sklearn.naive_bayes import MultinomialNB\n",
        "from sklearn.metrics import f1_score\n",
        "from sklearn.metrics import classification_report, confusion_matrix, accuracy_score\n",
        "from sklearn.pipeline import Pipeline\n",
        "from sklearn.feature_extraction.text import TfidfTransformer\n",
        "from sklearn.linear_model import LogisticRegression\n",
        "from sklearn.svm import SVC\n",
        "from sklearn.neighbors import KNeighborsClassifier\n",
        "from sklearn.tree import DecisionTreeClassifier\n",
        "from sklearn.ensemble import RandomForestClassifier\n",
        "from sklearn.multioutput import MultiOutputClassifier\n",
        "from sklearn.model_selection import RepeatedStratifiedKFold\n",
        "import nltk\n",
        "from nltk.tokenize import word_tokenize,RegexpTokenizer\n",
        "from nltk.stem import WordNetLemmatizer\n",
        "from platform import python_version\n",
        "print (python_version())"
      ],
      "execution_count": 6,
      "outputs": [
        {
          "output_type": "stream",
          "text": [
            "3.6.9\n"
          ],
          "name": "stdout"
        }
      ]
    },
    {
      "cell_type": "code",
      "metadata": {
        "id": "9C8fM6dEK-Xd",
        "colab_type": "code",
        "colab": {
          "base_uri": "https://localhost:8080/",
          "height": 816
        },
        "outputId": "37ae89c4-f100-4e3d-e6ec-6fb6782e62a1"
      },
      "source": [
        "nltk.download(\"popular\")"
      ],
      "execution_count": 41,
      "outputs": [
        {
          "output_type": "stream",
          "text": [
            "[nltk_data] Downloading collection 'popular'\n",
            "[nltk_data]    | \n",
            "[nltk_data]    | Downloading package cmudict to /root/nltk_data...\n",
            "[nltk_data]    |   Unzipping corpora/cmudict.zip.\n",
            "[nltk_data]    | Downloading package gazetteers to /root/nltk_data...\n",
            "[nltk_data]    |   Unzipping corpora/gazetteers.zip.\n",
            "[nltk_data]    | Downloading package genesis to /root/nltk_data...\n",
            "[nltk_data]    |   Unzipping corpora/genesis.zip.\n",
            "[nltk_data]    | Downloading package gutenberg to /root/nltk_data...\n",
            "[nltk_data]    |   Unzipping corpora/gutenberg.zip.\n",
            "[nltk_data]    | Downloading package inaugural to /root/nltk_data...\n",
            "[nltk_data]    |   Unzipping corpora/inaugural.zip.\n",
            "[nltk_data]    | Downloading package movie_reviews to\n",
            "[nltk_data]    |     /root/nltk_data...\n",
            "[nltk_data]    |   Unzipping corpora/movie_reviews.zip.\n",
            "[nltk_data]    | Downloading package names to /root/nltk_data...\n",
            "[nltk_data]    |   Unzipping corpora/names.zip.\n",
            "[nltk_data]    | Downloading package shakespeare to /root/nltk_data...\n",
            "[nltk_data]    |   Unzipping corpora/shakespeare.zip.\n",
            "[nltk_data]    | Downloading package stopwords to /root/nltk_data...\n",
            "[nltk_data]    |   Unzipping corpora/stopwords.zip.\n",
            "[nltk_data]    | Downloading package treebank to /root/nltk_data...\n",
            "[nltk_data]    |   Unzipping corpora/treebank.zip.\n",
            "[nltk_data]    | Downloading package twitter_samples to\n",
            "[nltk_data]    |     /root/nltk_data...\n",
            "[nltk_data]    |   Unzipping corpora/twitter_samples.zip.\n",
            "[nltk_data]    | Downloading package omw to /root/nltk_data...\n",
            "[nltk_data]    |   Unzipping corpora/omw.zip.\n",
            "[nltk_data]    | Downloading package wordnet to /root/nltk_data...\n",
            "[nltk_data]    |   Unzipping corpora/wordnet.zip.\n",
            "[nltk_data]    | Downloading package wordnet_ic to /root/nltk_data...\n",
            "[nltk_data]    |   Unzipping corpora/wordnet_ic.zip.\n",
            "[nltk_data]    | Downloading package words to /root/nltk_data...\n",
            "[nltk_data]    |   Unzipping corpora/words.zip.\n",
            "[nltk_data]    | Downloading package maxent_ne_chunker to\n",
            "[nltk_data]    |     /root/nltk_data...\n",
            "[nltk_data]    |   Unzipping chunkers/maxent_ne_chunker.zip.\n",
            "[nltk_data]    | Downloading package punkt to /root/nltk_data...\n",
            "[nltk_data]    |   Unzipping tokenizers/punkt.zip.\n",
            "[nltk_data]    | Downloading package snowball_data to\n",
            "[nltk_data]    |     /root/nltk_data...\n",
            "[nltk_data]    | Downloading package averaged_perceptron_tagger to\n",
            "[nltk_data]    |     /root/nltk_data...\n",
            "[nltk_data]    |   Unzipping taggers/averaged_perceptron_tagger.zip.\n",
            "[nltk_data]    | \n",
            "[nltk_data]  Done downloading collection popular\n"
          ],
          "name": "stdout"
        },
        {
          "output_type": "execute_result",
          "data": {
            "text/plain": [
              "True"
            ]
          },
          "metadata": {
            "tags": []
          },
          "execution_count": 41
        }
      ]
    },
    {
      "cell_type": "code",
      "metadata": {
        "id": "ewMqBDHdGemA",
        "colab_type": "code",
        "colab": {
          "base_uri": "https://localhost:8080/",
          "height": 34
        },
        "outputId": "628a1e68-1c87-4f65-889f-62b1495a056c"
      },
      "source": [
        "# Read the dataset csv files and create pandas datframes\n",
        "train_df=pd.read_csv(\"https://raw.githubusercontent.com/pavstar619/Data-Science-Capstone/master/train.csv\")\n",
        "test_df=pd.read_csv(\"https://raw.githubusercontent.com/pavstar619/Data-Science-Capstone/master/test.csv\")\n",
        "print(\"Train and Test data sets are imported successfully\")\n",
        "#X=train_df.text\n",
        "#y=train_df.target"
      ],
      "execution_count": 7,
      "outputs": [
        {
          "output_type": "stream",
          "text": [
            "Train and Test data sets are imported successfully\n"
          ],
          "name": "stdout"
        }
      ]
    },
    {
      "cell_type": "code",
      "metadata": {
        "id": "yx1H3KTvGemG",
        "colab_type": "code",
        "colab": {}
      },
      "source": [
        "# Define a function to explore the train and test dataframes\n",
        "def explore_data(df):\n",
        "    \n",
        "    '''Input- df= pandas dataframes to be explored\n",
        "       Output- print shape, info and first 5 records of the dataframe \n",
        "    '''\n",
        "    \n",
        "    print(\"-\"*50)\n",
        "    print('Shape of the dataframe:',df.shape)\n",
        "    print(\"Number of records in train data set:\",df.shape[0])\n",
        "    print(\"Information of the dataset:\")\n",
        "    df.info()\n",
        "    print(\"-\"*50)\n",
        "    print(\"First 5 records of the dataset:\")\n",
        "    return df.head()\n",
        "    print(\"-\"*50)"
      ],
      "execution_count": 8,
      "outputs": []
    },
    {
      "cell_type": "code",
      "metadata": {
        "id": "EnTrd1loGemJ",
        "colab_type": "code",
        "colab": {
          "base_uri": "https://localhost:8080/",
          "height": 510
        },
        "outputId": "281c8c92-6542-4c29-c77e-f99a16a3a37f"
      },
      "source": [
        "# Lets use explore_data() function to explore train data\n",
        "explore_data(train_df)"
      ],
      "execution_count": 9,
      "outputs": [
        {
          "output_type": "stream",
          "text": [
            "--------------------------------------------------\n",
            "Shape of the dataframe: (7613, 5)\n",
            "Number of records in train data set: 7613\n",
            "Information of the dataset:\n",
            "<class 'pandas.core.frame.DataFrame'>\n",
            "RangeIndex: 7613 entries, 0 to 7612\n",
            "Data columns (total 5 columns):\n",
            " #   Column    Non-Null Count  Dtype \n",
            "---  ------    --------------  ----- \n",
            " 0   id        7613 non-null   int64 \n",
            " 1   keyword   7552 non-null   object\n",
            " 2   location  5080 non-null   object\n",
            " 3   text      7613 non-null   object\n",
            " 4   target    7613 non-null   int64 \n",
            "dtypes: int64(2), object(3)\n",
            "memory usage: 297.5+ KB\n",
            "--------------------------------------------------\n",
            "First 5 records of the dataset:\n"
          ],
          "name": "stdout"
        },
        {
          "output_type": "execute_result",
          "data": {
            "text/html": [
              "<div>\n",
              "<style scoped>\n",
              "    .dataframe tbody tr th:only-of-type {\n",
              "        vertical-align: middle;\n",
              "    }\n",
              "\n",
              "    .dataframe tbody tr th {\n",
              "        vertical-align: top;\n",
              "    }\n",
              "\n",
              "    .dataframe thead th {\n",
              "        text-align: right;\n",
              "    }\n",
              "</style>\n",
              "<table border=\"1\" class=\"dataframe\">\n",
              "  <thead>\n",
              "    <tr style=\"text-align: right;\">\n",
              "      <th></th>\n",
              "      <th>id</th>\n",
              "      <th>keyword</th>\n",
              "      <th>location</th>\n",
              "      <th>text</th>\n",
              "      <th>target</th>\n",
              "    </tr>\n",
              "  </thead>\n",
              "  <tbody>\n",
              "    <tr>\n",
              "      <th>0</th>\n",
              "      <td>1</td>\n",
              "      <td>NaN</td>\n",
              "      <td>NaN</td>\n",
              "      <td>Our Deeds are the Reason of this #earthquake M...</td>\n",
              "      <td>1</td>\n",
              "    </tr>\n",
              "    <tr>\n",
              "      <th>1</th>\n",
              "      <td>4</td>\n",
              "      <td>NaN</td>\n",
              "      <td>NaN</td>\n",
              "      <td>Forest fire near La Ronge Sask. Canada</td>\n",
              "      <td>1</td>\n",
              "    </tr>\n",
              "    <tr>\n",
              "      <th>2</th>\n",
              "      <td>5</td>\n",
              "      <td>NaN</td>\n",
              "      <td>NaN</td>\n",
              "      <td>All residents asked to 'shelter in place' are ...</td>\n",
              "      <td>1</td>\n",
              "    </tr>\n",
              "    <tr>\n",
              "      <th>3</th>\n",
              "      <td>6</td>\n",
              "      <td>NaN</td>\n",
              "      <td>NaN</td>\n",
              "      <td>13,000 people receive #wildfires evacuation or...</td>\n",
              "      <td>1</td>\n",
              "    </tr>\n",
              "    <tr>\n",
              "      <th>4</th>\n",
              "      <td>7</td>\n",
              "      <td>NaN</td>\n",
              "      <td>NaN</td>\n",
              "      <td>Just got sent this photo from Ruby #Alaska as ...</td>\n",
              "      <td>1</td>\n",
              "    </tr>\n",
              "  </tbody>\n",
              "</table>\n",
              "</div>"
            ],
            "text/plain": [
              "   id keyword  ...                                               text target\n",
              "0   1     NaN  ...  Our Deeds are the Reason of this #earthquake M...      1\n",
              "1   4     NaN  ...             Forest fire near La Ronge Sask. Canada      1\n",
              "2   5     NaN  ...  All residents asked to 'shelter in place' are ...      1\n",
              "3   6     NaN  ...  13,000 people receive #wildfires evacuation or...      1\n",
              "4   7     NaN  ...  Just got sent this photo from Ruby #Alaska as ...      1\n",
              "\n",
              "[5 rows x 5 columns]"
            ]
          },
          "metadata": {
            "tags": []
          },
          "execution_count": 9
        }
      ]
    },
    {
      "cell_type": "code",
      "metadata": {
        "id": "_mUZeld6GemM",
        "colab_type": "code",
        "colab": {
          "base_uri": "https://localhost:8080/",
          "height": 493
        },
        "outputId": "db9a1518-9b36-43f0-8297-de94e5b493e0"
      },
      "source": [
        "# Lets use explore_data() function to explore test data\n",
        "explore_data(test_df)"
      ],
      "execution_count": 10,
      "outputs": [
        {
          "output_type": "stream",
          "text": [
            "--------------------------------------------------\n",
            "Shape of the dataframe: (3263, 4)\n",
            "Number of records in train data set: 3263\n",
            "Information of the dataset:\n",
            "<class 'pandas.core.frame.DataFrame'>\n",
            "RangeIndex: 3263 entries, 0 to 3262\n",
            "Data columns (total 4 columns):\n",
            " #   Column    Non-Null Count  Dtype \n",
            "---  ------    --------------  ----- \n",
            " 0   id        3263 non-null   int64 \n",
            " 1   keyword   3237 non-null   object\n",
            " 2   location  2158 non-null   object\n",
            " 3   text      3263 non-null   object\n",
            "dtypes: int64(1), object(3)\n",
            "memory usage: 102.1+ KB\n",
            "--------------------------------------------------\n",
            "First 5 records of the dataset:\n"
          ],
          "name": "stdout"
        },
        {
          "output_type": "execute_result",
          "data": {
            "text/html": [
              "<div>\n",
              "<style scoped>\n",
              "    .dataframe tbody tr th:only-of-type {\n",
              "        vertical-align: middle;\n",
              "    }\n",
              "\n",
              "    .dataframe tbody tr th {\n",
              "        vertical-align: top;\n",
              "    }\n",
              "\n",
              "    .dataframe thead th {\n",
              "        text-align: right;\n",
              "    }\n",
              "</style>\n",
              "<table border=\"1\" class=\"dataframe\">\n",
              "  <thead>\n",
              "    <tr style=\"text-align: right;\">\n",
              "      <th></th>\n",
              "      <th>id</th>\n",
              "      <th>keyword</th>\n",
              "      <th>location</th>\n",
              "      <th>text</th>\n",
              "    </tr>\n",
              "  </thead>\n",
              "  <tbody>\n",
              "    <tr>\n",
              "      <th>0</th>\n",
              "      <td>0</td>\n",
              "      <td>NaN</td>\n",
              "      <td>NaN</td>\n",
              "      <td>Just happened a terrible car crash</td>\n",
              "    </tr>\n",
              "    <tr>\n",
              "      <th>1</th>\n",
              "      <td>2</td>\n",
              "      <td>NaN</td>\n",
              "      <td>NaN</td>\n",
              "      <td>Heard about #earthquake is different cities, s...</td>\n",
              "    </tr>\n",
              "    <tr>\n",
              "      <th>2</th>\n",
              "      <td>3</td>\n",
              "      <td>NaN</td>\n",
              "      <td>NaN</td>\n",
              "      <td>there is a forest fire at spot pond, geese are...</td>\n",
              "    </tr>\n",
              "    <tr>\n",
              "      <th>3</th>\n",
              "      <td>9</td>\n",
              "      <td>NaN</td>\n",
              "      <td>NaN</td>\n",
              "      <td>Apocalypse lighting. #Spokane #wildfires</td>\n",
              "    </tr>\n",
              "    <tr>\n",
              "      <th>4</th>\n",
              "      <td>11</td>\n",
              "      <td>NaN</td>\n",
              "      <td>NaN</td>\n",
              "      <td>Typhoon Soudelor kills 28 in China and Taiwan</td>\n",
              "    </tr>\n",
              "  </tbody>\n",
              "</table>\n",
              "</div>"
            ],
            "text/plain": [
              "   id keyword location                                               text\n",
              "0   0     NaN      NaN                 Just happened a terrible car crash\n",
              "1   2     NaN      NaN  Heard about #earthquake is different cities, s...\n",
              "2   3     NaN      NaN  there is a forest fire at spot pond, geese are...\n",
              "3   9     NaN      NaN           Apocalypse lighting. #Spokane #wildfires\n",
              "4  11     NaN      NaN      Typhoon Soudelor kills 28 in China and Taiwan"
            ]
          },
          "metadata": {
            "tags": []
          },
          "execution_count": 10
        }
      ]
    },
    {
      "cell_type": "markdown",
      "metadata": {
        "id": "7BNboGutGemQ",
        "colab_type": "text"
      },
      "source": [
        "It seems train and test dataset has 'NaN' values for `keyword` and `location` columns. Let's explore the dataset further for missing data values."
      ]
    },
    {
      "cell_type": "code",
      "metadata": {
        "id": "l3Cq7JjCGemQ",
        "colab_type": "code",
        "colab": {}
      },
      "source": [
        "#Calculate count and percentage of missing values in the dataframe\n",
        "\n",
        "def missing_values(df):\n",
        "    \n",
        "    '''Input- df=pandas dataframe\n",
        "       Output- print missing records count and % of the input dataframe and visualize using MSNO\n",
        "    '''\n",
        "    \n",
        "    print(\"Number of records with missing location:\",df.location.isnull().sum())\n",
        "    print(\"Number of records with missing keywords:\",df.keyword.isnull().sum())\n",
        "    print('{}% of location values are missing from Total Number of Records.'.format(round((df.location.isnull().sum())/(df.shape[0])*100),2))\n",
        "    print('{}% of keywords values are missing from Total Number of Records.'.format(round((df.keyword.isnull().sum())/(df.shape[0])*100),2))\n",
        "    msno.matrix(df);"
      ],
      "execution_count": 11,
      "outputs": []
    },
    {
      "cell_type": "code",
      "metadata": {
        "id": "V9gc5QnNGemU",
        "colab_type": "code",
        "colab": {
          "base_uri": "https://localhost:8080/",
          "height": 619
        },
        "outputId": "06fac42e-09a7-4ec8-9e64-cf95bb2fb769"
      },
      "source": [
        "# Lets use missing_values function to explore train dataset\n",
        "missing_values(train_df)"
      ],
      "execution_count": 12,
      "outputs": [
        {
          "output_type": "stream",
          "text": [
            "Number of records with missing location: 2533\n",
            "Number of records with missing keywords: 61\n",
            "33.0% of location values are missing from Total Number of Records.\n",
            "1.0% of keywords values are missing from Total Number of Records.\n"
          ],
          "name": "stdout"
        },
        {
          "output_type": "display_data",
          "data": {
            "image/png": "[encoded data removed]",
            "text/plain": [
              "<Figure size 1800x720 with 2 Axes>"
            ]
          },
          "metadata": {
            "tags": [],
            "needs_background": "light"
          }
        }
      ]
    },
    {
      "cell_type": "code",
      "metadata": {
        "id": "_WmtxQ_dGemX",
        "colab_type": "code",
        "colab": {
          "base_uri": "https://localhost:8080/",
          "height": 619
        },
        "outputId": "e03d7566-3c64-4ba0-b5b5-a4368f74e238"
      },
      "source": [
        "# Lets use missing_values function to explore train dataset\n",
        "missing_values(test_df);"
      ],
      "execution_count": 13,
      "outputs": [
        {
          "output_type": "stream",
          "text": [
            "Number of records with missing location: 1105\n",
            "Number of records with missing keywords: 26\n",
            "34.0% of location values are missing from Total Number of Records.\n",
            "1.0% of keywords values are missing from Total Number of Records.\n"
          ],
          "name": "stdout"
        },
        {
          "output_type": "display_data",
          "data": {
            "image/png": "[encoded data removed]",
            "text/plain": [
              "<Figure size 1800x720 with 2 Axes>"
            ]
          },
          "metadata": {
            "tags": [],
            "needs_background": "light"
          }
        }
      ]
    },
    {
      "cell_type": "markdown",
      "metadata": {
        "id": "zPi_952hGema",
        "colab_type": "text"
      },
      "source": [
        "From train data frame description and analysis, it is obivous that:\n",
        "- `location` feature is not automatically generated feature, and it seems it is user input hence too many records are missing.In my opinion, `location` column from our dataset could be dropped.\n",
        "- We will keep the `keyword` feature because there are a lot of unique keywords and missing values are very insignificant (< 1 percentage)"
      ]
    },
    {
      "cell_type": "code",
      "metadata": {
        "id": "yB_wrUtLGema",
        "colab_type": "code",
        "colab": {}
      },
      "source": [
        "#Lets visulaize dataframe features using charts\n",
        "def feature_viz(df,feature):\n",
        "    \n",
        "    '''Input- df=pandas dataframe\n",
        "              feature= column to be charted\n",
        "       Output- bar and scatter chart using plotly       \n",
        "    \n",
        "    '''\n",
        "    #Visualize the feature\n",
        "    if feature=='target':\n",
        "        sns.countplot(feature, data=df)\n",
        "        print('Target of 0 is {} % of total'.format(round(df[feature].value_counts()[0]/len(df[feature])*100)))\n",
        "        print('Target of 1 is {} % of total'.format(round(df[feature].value_counts()[1]/len(df[feature])*100)))\n",
        "    else:\n",
        "        #Distinct keywords in train dataset\n",
        "        feat=df[feature].value_counts()\n",
        "        print(feat.head())\n",
        "        fig = px.scatter(feat, x=feat.values, y=feat.index,size=feat.values)\n",
        "        fig.show()"
      ],
      "execution_count": 14,
      "outputs": []
    },
    {
      "cell_type": "code",
      "metadata": {
        "id": "adTl9GKdGemd",
        "colab_type": "code",
        "colab": {
          "base_uri": "https://localhost:8080/",
          "height": 313
        },
        "outputId": "8534b9b0-62ab-4a61-e4a5-192975a6a919"
      },
      "source": [
        "#Lets use feature_viz function to create charts for 'target' column\n",
        "feature_viz(train_df,'target')"
      ],
      "execution_count": 15,
      "outputs": [
        {
          "output_type": "stream",
          "text": [
            "Target of 0 is 57.0 % of total\n",
            "Target of 1 is 43.0 % of total\n"
          ],
          "name": "stdout"
        },
        {
          "output_type": "display_data",
          "data": {
            "image/png": "[encoded data removed]",
            "text/plain": [
              "<Figure size 432x288 with 1 Axes>"
            ]
          },
          "metadata": {
            "tags": [],
            "needs_background": "light"
          }
        }
      ]
    },
    {
      "cell_type": "code",
      "metadata": {
        "id": "o6_ubmjbGemg",
        "colab_type": "code",
        "colab": {
          "base_uri": "https://localhost:8080/",
          "height": 644
        },
        "outputId": "f14e1aba-eff9-42e4-9bb7-7c06eabda2e9"
      },
      "source": [
        "#Lets use feature_viz function to create charts for 'keyword' column\n",
        "feature_viz(train_df,'keyword')"
      ],
      "execution_count": 16,
      "outputs": [
        {
          "output_type": "stream",
          "text": [
            "fatalities    45\n",
            "deluge        42\n",
            "armageddon    42\n",
            "harm          41\n",
            "damage        41\n",
            "Name: keyword, dtype: int64\n"
          ],
          "name": "stdout"
        },
        {
          "output_type": "display_data",
          "data": {
            "text/html": [
              "<html>\n",
              "<head><meta charset=\"utf-8\" /></head>\n",
              "<body>\n",
              "    <div>\n",
              "            <script src=\"https://cdnjs.cloudflare.com/ajax/libs/mathjax/2.7.5/MathJax.js?config=TeX-AMS-MML_SVG\"></script><script type=\"text/javascript\">if (window.MathJax) {MathJax.Hub.Config({SVG: {font: \"STIX-Web\"}});}</script>\n",
              "                <script type=\"text/javascript\">window.PlotlyConfig = {MathJaxConfig: 'local'};</script>\n",
              "        <script src=\"https://cdn.plot.ly/plotly-latest.min.js\"></script>    \n",
              "            <div id=\"a59e12cb-e78e-4741-a7cb-dcefc966e883\" class=\"plotly-graph-div\" style=\"height:525px; width:100%;\"></div>\n",
              "            <script type=\"text/javascript\">\n",
              "                \n",
              "                    window.PLOTLYENV=window.PLOTLYENV || {};\n",
              "                    \n",
              "                if (document.getElementById(\"a59e12cb-e78e-4741-a7cb-dcefc966e883\")) {\n",
              "                    Plotly.newPlot(\n",
              "                        'a59e12cb-e78e-4741-a7cb-dcefc966e883',\n",
              "                        [{\"hoverlabel\": {\"namelength\": 0}, \"hovertemplate\": \"x=%{x}<br>y=%{y}<br>size=%{marker.size}\", \"legendgroup\": \"\", \"marker\": {\"color\": \"#636efa\", \"size\": [45, 42, 42, 41, 41, 41, 41, 40, 40, 40, 40, 40, 40, 40, 39, 39, 39, 39, 39, 39, 39, 39, 39, 39, 39, 39, 39, 39, 38, 38, 38, 38, 38, 38, 38, 38, 38, 38, 38, 38, 38, 38, 38, 38, 37, 37, 37, 37, 37, 37, 37, 37, 37, 37, 37, 37, 37, 37, 37, 37, 37, 37, 37, 36, 36, 36, 36, 36, 36, 36, 36, 36, 36, 36, 36, 36, 36, 36, 36, 36, 36, 36, 36, 35, 35, 35, 35, 35, 35, 35, 35, 35, 35, 35, 35, 35, 35, 35, 35, 35, 35, 35, 35, 35, 35, 35, 35, 35, 35, 35, 35, 35, 35, 35, 34, 34, 34, 34, 34, 34, 34, 34, 34, 34, 34, 34, 34, 34, 34, 34, 34, 34, 34, 34, 34, 34, 34, 34, 34, 34, 34, 34, 34, 34, 33, 33, 33, 33, 33, 33, 33, 33, 33, 33, 33, 33, 33, 33, 33, 33, 33, 33, 33, 33, 33, 33, 33, 33, 33, 33, 32, 32, 32, 32, 32, 32, 32, 32, 32, 32, 32, 32, 32, 32, 32, 31, 31, 31, 31, 31, 31, 31, 31, 31, 30, 30, 30, 30, 30, 30, 29, 29, 29, 29, 29, 29, 29, 29, 28, 28, 27, 27, 26, 25, 24, 22, 19, 12, 11, 10, 9], \"sizemode\": \"area\", \"sizeref\": 0.1125, \"symbol\": \"circle\"}, \"mode\": \"markers\", \"name\": \"\", \"showlegend\": false, \"type\": \"scatter\", \"x\": [45, 42, 42, 41, 41, 41, 41, 40, 40, 40, 40, 40, 40, 40, 39, 39, 39, 39, 39, 39, 39, 39, 39, 39, 39, 39, 39, 39, 38, 38, 38, 38, 38, 38, 38, 38, 38, 38, 38, 38, 38, 38, 38, 38, 37, 37, 37, 37, 37, 37, 37, 37, 37, 37, 37, 37, 37, 37, 37, 37, 37, 37, 37, 36, 36, 36, 36, 36, 36, 36, 36, 36, 36, 36, 36, 36, 36, 36, 36, 36, 36, 36, 36, 35, 35, 35, 35, 35, 35, 35, 35, 35, 35, 35, 35, 35, 35, 35, 35, 35, 35, 35, 35, 35, 35, 35, 35, 35, 35, 35, 35, 35, 35, 35, 34, 34, 34, 34, 34, 34, 34, 34, 34, 34, 34, 34, 34, 34, 34, 34, 34, 34, 34, 34, 34, 34, 34, 34, 34, 34, 34, 34, 34, 34, 33, 33, 33, 33, 33, 33, 33, 33, 33, 33, 33, 33, 33, 33, 33, 33, 33, 33, 33, 33, 33, 33, 33, 33, 33, 33, 32, 32, 32, 32, 32, 32, 32, 32, 32, 32, 32, 32, 32, 32, 32, 31, 31, 31, 31, 31, 31, 31, 31, 31, 30, 30, 30, 30, 30, 30, 29, 29, 29, 29, 29, 29, 29, 29, 28, 28, 27, 27, 26, 25, 24, 22, 19, 12, 11, 10, 9], \"xaxis\": \"x\", \"y\": [\"fatalities\", \"deluge\", \"armageddon\", \"harm\", \"damage\", \"sinking\", \"body%20bags\", \"collided\", \"twister\", \"siren\", \"fear\", \"windstorm\", \"outbreak\", \"evacuate\", \"explosion\", \"sinkhole\", \"weapon\", \"sunk\", \"earthquake\", \"hellfire\", \"whirlwind\", \"flames\", \"wrecked\", \"collision\", \"derailment\", \"weapons\", \"famine\", \"wreckage\", \"upheaval\", \"flooding\", \"fire\", \"derailed\", \"injury\", \"drowned\", \"hurricane\", \"thunder\", \"fatal\", \"explode\", \"deaths\", \"bombed\", \"typhoon\", \"ambulance\", \"blaze\", \"oil%20spill\", \"bioterror\", \"ruin\", \"curfew\", \"panic\", \"blizzard\", \"burning%20buildings\", \"police\", \"quarantined\", \"sandstorm\", \"destroy\", \"emergency\", \"wounded\", \"pandemonium\", \"mudslide\", \"crush\", \"hostages\", \"debris\", \"fatality\", \"wreck\", \"ablaze\", \"danger\", \"displaced\", \"cliff%20fall\", \"screaming\", \"evacuation\", \"death\", \"floods\", \"tragedy\", \"refugees\", \"attack\", \"devastation\", \"dust%20storm\", \"engulfed\", \"nuclear%20reactor\", \"detonate\", \"catastrophe\", \"massacre\", \"desolation\", \"evacuated\", \"bridge%20collapse\", \"hazardous\", \"suicide%20bomb\", \"screams\", \"demolition\", \"injured\", \"tornado\", \"collapsed\", \"rescued\", \"casualties\", \"blood\", \"inundated\", \"drought\", \"bleeding\", \"hijacker\", \"razed\", \"attacked\", \"structural%20failure\", \"rioting\", \"rescuers\", \"emergency%20plan\", \"storm\", \"hail\", \"buildings%20burning\", \"bloody\", \"accident\", \"traumatised\", \"disaster\", \"flood\", \"airplane%20accident\", \"derail\", \"collide\", \"destruction\", \"army\", \"flattened\", \"collapse\", \"hazard\", \"screamed\", \"smoke\", \"natural%20disaster\", \"electrocuted\", \"casualty\", \"loud%20bang\", \"heat%20wave\", \"drowning\", \"aftershock\", \"blazing\", \"lava\", \"annihilated\", \"quarantine\", \"nuclear%20disaster\", \"tsunami\", \"rainstorm\", \"arsonist\", \"terrorism\", \"demolish\", \"crashed\", \"burning\", \"bomb\", \"military\", \"riot\", \"buildings%20on%20fire\", \"chemical%20emergency\", \"blown%20up\", \"exploded\", \"wildfire\", \"panicking\", \"trouble\", \"suicide%20bombing\", \"lightning\", \"hijack\", \"body%20bagging\", \"injuries\", \"mass%20murder\", \"stretcher\", \"burned\", \"meltdown\", \"emergency%20services\", \"body%20bag\", \"blew%20up\", \"wounds\", \"fire%20truck\", \"survived\", \"crash\", \"landslide\", \"violent%20storm\", \"thunderstorm\", \"blight\", \"electrocute\", \"forest%20fires\", \"detonation\", \"hijacking\", \"eyewitness\", \"hailstorm\", \"survive\", \"cyclone\", \"destroyed\", \"arson\", \"trapped\", \"mass%20murderer\", \"apocalypse\", \"drown\", \"terrorist\", \"hostage\", \"wild%20fires\", \"obliterate\", \"devastated\", \"crushed\", \"suicide%20bomber\", \"obliterated\", \"trauma\", \"bioterrorism\", \"survivors\", \"dead\", \"catastrophic\", \"mayhem\", \"avalanche\", \"seismic\", \"desolate\", \"annihilation\", \"sirens\", \"bombing\", \"first%20responders\", \"obliteration\", \"snowstorm\", \"demolished\", \"rubble\", \"volcano\", \"deluged\", \"battle\", \"bush%20fires\", \"war%20zone\", \"rescue\", \"forest%20fire\", \"epicentre\", \"threat\", \"inundation\", \"radiation%20emergency\"], \"yaxis\": \"y\"}],\n",
              "                        {\"legend\": {\"itemsizing\": \"constant\", \"tracegroupgap\": 0}, \"margin\": {\"t\": 60}, \"template\": {\"data\": {\"bar\": [{\"error_x\": {\"color\": \"#2a3f5f\"}, \"error_y\": {\"color\": \"#2a3f5f\"}, \"marker\": {\"line\": {\"color\": \"#E5ECF6\", \"width\": 0.5}}, \"type\": \"bar\"}], \"barpolar\": [{\"marker\": {\"line\": {\"color\": \"#E5ECF6\", \"width\": 0.5}}, \"type\": \"barpolar\"}], \"carpet\": [{\"aaxis\": {\"endlinecolor\": \"#2a3f5f\", \"gridcolor\": \"white\", \"linecolor\": \"white\", \"minorgridcolor\": \"white\", \"startlinecolor\": \"#2a3f5f\"}, \"baxis\": {\"endlinecolor\": \"#2a3f5f\", \"gridcolor\": \"white\", \"linecolor\": \"white\", \"minorgridcolor\": \"white\", \"startlinecolor\": \"#2a3f5f\"}, \"type\": \"carpet\"}], \"choropleth\": [{\"colorbar\": {\"outlinewidth\": 0, \"ticks\": \"\"}, \"type\": \"choropleth\"}], \"contour\": [{\"colorbar\": {\"outlinewidth\": 0, \"ticks\": \"\"}, \"colorscale\": [[0.0, \"#0d0887\"], [0.1111111111111111, \"#46039f\"], [0.2222222222222222, \"#7201a8\"], [0.3333333333333333, \"#9c179e\"], [0.4444444444444444, \"#bd3786\"], [0.5555555555555556, \"#d8576b\"], [0.6666666666666666, \"#ed7953\"], [0.7777777777777778, \"#fb9f3a\"], [0.8888888888888888, \"#fdca26\"], [1.0, \"#f0f921\"]], \"type\": \"contour\"}], \"contourcarpet\": [{\"colorbar\": {\"outlinewidth\": 0, \"ticks\": \"\"}, \"type\": \"contourcarpet\"}], \"heatmap\": [{\"colorbar\": {\"outlinewidth\": 0, \"ticks\": \"\"}, \"colorscale\": [[0.0, \"#0d0887\"], [0.1111111111111111, \"#46039f\"], [0.2222222222222222, \"#7201a8\"], [0.3333333333333333, \"#9c179e\"], [0.4444444444444444, \"#bd3786\"], [0.5555555555555556, \"#d8576b\"], [0.6666666666666666, \"#ed7953\"], [0.7777777777777778, \"#fb9f3a\"], [0.8888888888888888, \"#fdca26\"], [1.0, \"#f0f921\"]], \"type\": \"heatmap\"}], \"heatmapgl\": [{\"colorbar\": {\"outlinewidth\": 0, \"ticks\": \"\"}, \"colorscale\": [[0.0, \"#0d0887\"], [0.1111111111111111, \"#46039f\"], [0.2222222222222222, \"#7201a8\"], [0.3333333333333333, \"#9c179e\"], [0.4444444444444444, \"#bd3786\"], [0.5555555555555556, \"#d8576b\"], [0.6666666666666666, \"#ed7953\"], [0.7777777777777778, \"#fb9f3a\"], [0.8888888888888888, \"#fdca26\"], [1.0, \"#f0f921\"]], \"type\": \"heatmapgl\"}], \"histogram\": [{\"marker\": {\"colorbar\": {\"outlinewidth\": 0, \"ticks\": \"\"}}, \"type\": \"histogram\"}], \"histogram2d\": [{\"colorbar\": {\"outlinewidth\": 0, \"ticks\": \"\"}, \"colorscale\": [[0.0, \"#0d0887\"], [0.1111111111111111, \"#46039f\"], [0.2222222222222222, \"#7201a8\"], [0.3333333333333333, \"#9c179e\"], [0.4444444444444444, \"#bd3786\"], [0.5555555555555556, \"#d8576b\"], [0.6666666666666666, \"#ed7953\"], [0.7777777777777778, \"#fb9f3a\"], [0.8888888888888888, \"#fdca26\"], [1.0, \"#f0f921\"]], \"type\": \"histogram2d\"}], \"histogram2dcontour\": [{\"colorbar\": {\"outlinewidth\": 0, \"ticks\": \"\"}, \"colorscale\": [[0.0, \"#0d0887\"], [0.1111111111111111, \"#46039f\"], [0.2222222222222222, \"#7201a8\"], [0.3333333333333333, \"#9c179e\"], [0.4444444444444444, \"#bd3786\"], [0.5555555555555556, \"#d8576b\"], [0.6666666666666666, \"#ed7953\"], [0.7777777777777778, \"#fb9f3a\"], [0.8888888888888888, \"#fdca26\"], [1.0, \"#f0f921\"]], \"type\": \"histogram2dcontour\"}], \"mesh3d\": [{\"colorbar\": {\"outlinewidth\": 0, \"ticks\": \"\"}, \"type\": \"mesh3d\"}], \"parcoords\": [{\"line\": {\"colorbar\": {\"outlinewidth\": 0, \"ticks\": \"\"}}, \"type\": \"parcoords\"}], \"pie\": [{\"automargin\": true, \"type\": \"pie\"}], \"scatter\": [{\"marker\": {\"colorbar\": {\"outlinewidth\": 0, \"ticks\": \"\"}}, \"type\": \"scatter\"}], \"scatter3d\": [{\"line\": {\"colorbar\": {\"outlinewidth\": 0, \"ticks\": \"\"}}, \"marker\": {\"colorbar\": {\"outlinewidth\": 0, \"ticks\": \"\"}}, \"type\": \"scatter3d\"}], \"scattercarpet\": [{\"marker\": {\"colorbar\": {\"outlinewidth\": 0, \"ticks\": \"\"}}, \"type\": \"scattercarpet\"}], \"scattergeo\": [{\"marker\": {\"colorbar\": {\"outlinewidth\": 0, \"ticks\": \"\"}}, \"type\": \"scattergeo\"}], \"scattergl\": [{\"marker\": {\"colorbar\": {\"outlinewidth\": 0, \"ticks\": \"\"}}, \"type\": \"scattergl\"}], \"scattermapbox\": [{\"marker\": {\"colorbar\": {\"outlinewidth\": 0, \"ticks\": \"\"}}, \"type\": \"scattermapbox\"}], \"scatterpolar\": [{\"marker\": {\"colorbar\": {\"outlinewidth\": 0, \"ticks\": \"\"}}, \"type\": \"scatterpolar\"}], \"scatterpolargl\": [{\"marker\": {\"colorbar\": {\"outlinewidth\": 0, \"ticks\": \"\"}}, \"type\": \"scatterpolargl\"}], \"scatterternary\": [{\"marker\": {\"colorbar\": {\"outlinewidth\": 0, \"ticks\": \"\"}}, \"type\": \"scatterternary\"}], \"surface\": [{\"colorbar\": {\"outlinewidth\": 0, \"ticks\": \"\"}, \"colorscale\": [[0.0, \"#0d0887\"], [0.1111111111111111, \"#46039f\"], [0.2222222222222222, \"#7201a8\"], [0.3333333333333333, \"#9c179e\"], [0.4444444444444444, \"#bd3786\"], [0.5555555555555556, \"#d8576b\"], [0.6666666666666666, \"#ed7953\"], [0.7777777777777778, \"#fb9f3a\"], [0.8888888888888888, \"#fdca26\"], [1.0, \"#f0f921\"]], \"type\": \"surface\"}], \"table\": [{\"cells\": {\"fill\": {\"color\": \"#EBF0F8\"}, \"line\": {\"color\": \"white\"}}, \"header\": {\"fill\": {\"color\": \"#C8D4E3\"}, \"line\": {\"color\": \"white\"}}, \"type\": \"table\"}]}, \"layout\": {\"annotationdefaults\": {\"arrowcolor\": \"#2a3f5f\", \"arrowhead\": 0, \"arrowwidth\": 1}, \"coloraxis\": {\"colorbar\": {\"outlinewidth\": 0, \"ticks\": \"\"}}, \"colorscale\": {\"diverging\": [[0, \"#8e0152\"], [0.1, \"#c51b7d\"], [0.2, \"#de77ae\"], [0.3, \"#f1b6da\"], [0.4, \"#fde0ef\"], [0.5, \"#f7f7f7\"], [0.6, \"#e6f5d0\"], [0.7, \"#b8e186\"], [0.8, \"#7fbc41\"], [0.9, \"#4d9221\"], [1, \"#276419\"]], \"sequential\": [[0.0, \"#0d0887\"], [0.1111111111111111, \"#46039f\"], [0.2222222222222222, \"#7201a8\"], [0.3333333333333333, \"#9c179e\"], [0.4444444444444444, \"#bd3786\"], [0.5555555555555556, \"#d8576b\"], [0.6666666666666666, \"#ed7953\"], [0.7777777777777778, \"#fb9f3a\"], [0.8888888888888888, \"#fdca26\"], [1.0, \"#f0f921\"]], \"sequentialminus\": [[0.0, \"#0d0887\"], [0.1111111111111111, \"#46039f\"], [0.2222222222222222, \"#7201a8\"], [0.3333333333333333, \"#9c179e\"], [0.4444444444444444, \"#bd3786\"], [0.5555555555555556, \"#d8576b\"], [0.6666666666666666, \"#ed7953\"], [0.7777777777777778, \"#fb9f3a\"], [0.8888888888888888, \"#fdca26\"], [1.0, \"#f0f921\"]]}, \"colorway\": [\"#636efa\", \"#EF553B\", \"#00cc96\", \"#ab63fa\", \"#FFA15A\", \"#19d3f3\", \"#FF6692\", \"#B6E880\", \"#FF97FF\", \"#FECB52\"], \"font\": {\"color\": \"#2a3f5f\"}, \"geo\": {\"bgcolor\": \"white\", \"lakecolor\": \"white\", \"landcolor\": \"#E5ECF6\", \"showlakes\": true, \"showland\": true, \"subunitcolor\": \"white\"}, \"hoverlabel\": {\"align\": \"left\"}, \"hovermode\": \"closest\", \"mapbox\": {\"style\": \"light\"}, \"paper_bgcolor\": \"white\", \"plot_bgcolor\": \"#E5ECF6\", \"polar\": {\"angularaxis\": {\"gridcolor\": \"white\", \"linecolor\": \"white\", \"ticks\": \"\"}, \"bgcolor\": \"#E5ECF6\", \"radialaxis\": {\"gridcolor\": \"white\", \"linecolor\": \"white\", \"ticks\": \"\"}}, \"scene\": {\"xaxis\": {\"backgroundcolor\": \"#E5ECF6\", \"gridcolor\": \"white\", \"gridwidth\": 2, \"linecolor\": \"white\", \"showbackground\": true, \"ticks\": \"\", \"zerolinecolor\": \"white\"}, \"yaxis\": {\"backgroundcolor\": \"#E5ECF6\", \"gridcolor\": \"white\", \"gridwidth\": 2, \"linecolor\": \"white\", \"showbackground\": true, \"ticks\": \"\", \"zerolinecolor\": \"white\"}, \"zaxis\": {\"backgroundcolor\": \"#E5ECF6\", \"gridcolor\": \"white\", \"gridwidth\": 2, \"linecolor\": \"white\", \"showbackground\": true, \"ticks\": \"\", \"zerolinecolor\": \"white\"}}, \"shapedefaults\": {\"line\": {\"color\": \"#2a3f5f\"}}, \"ternary\": {\"aaxis\": {\"gridcolor\": \"white\", \"linecolor\": \"white\", \"ticks\": \"\"}, \"baxis\": {\"gridcolor\": \"white\", \"linecolor\": \"white\", \"ticks\": \"\"}, \"bgcolor\": \"#E5ECF6\", \"caxis\": {\"gridcolor\": \"white\", \"linecolor\": \"white\", \"ticks\": \"\"}}, \"title\": {\"x\": 0.05}, \"xaxis\": {\"automargin\": true, \"gridcolor\": \"white\", \"linecolor\": \"white\", \"ticks\": \"\", \"title\": {\"standoff\": 15}, \"zerolinecolor\": \"white\", \"zerolinewidth\": 2}, \"yaxis\": {\"automargin\": true, \"gridcolor\": \"white\", \"linecolor\": \"white\", \"ticks\": \"\", \"title\": {\"standoff\": 15}, \"zerolinecolor\": \"white\", \"zerolinewidth\": 2}}}, \"xaxis\": {\"anchor\": \"y\", \"domain\": [0.0, 1.0], \"title\": {\"text\": \"x\"}}, \"yaxis\": {\"anchor\": \"x\", \"domain\": [0.0, 1.0], \"title\": {\"text\": \"y\"}}},\n",
              "                        {\"responsive\": true}\n",
              "                    ).then(function(){\n",
              "                            \n",
              "var gd = document.getElementById('a59e12cb-e78e-4741-a7cb-dcefc966e883');\n",
              "var x = new MutationObserver(function (mutations, observer) {{\n",
              "        var display = window.getComputedStyle(gd).display;\n",
              "        if (!display || display === 'none') {{\n",
              "            console.log([gd, 'removed!']);\n",
              "            Plotly.purge(gd);\n",
              "            observer.disconnect();\n",
              "        }}\n",
              "}});\n",
              "\n",
              "// Listen for the removal of the full notebook cells\n",
              "var notebookContainer = gd.closest('#notebook-container');\n",
              "if (notebookContainer) {{\n",
              "    x.observe(notebookContainer, {childList: true});\n",
              "}}\n",
              "\n",
              "// Listen for the clearing of the current output cell\n",
              "var outputEl = gd.closest('.output');\n",
              "if (outputEl) {{\n",
              "    x.observe(outputEl, {childList: true});\n",
              "}}\n",
              "\n",
              "                        })\n",
              "                };\n",
              "                \n",
              "            </script>\n",
              "        </div>\n",
              "</body>\n",
              "</html>"
            ]
          },
          "metadata": {
            "tags": []
          }
        }
      ]
    },
    {
      "cell_type": "markdown",
      "metadata": {
        "id": "N9MPLEDWGemw",
        "colab_type": "text"
      },
      "source": [
        "Let's check how often the word 'disaster' come in the 'text' feature in the dataset and whether this help us in determining whether a tweet belongs to a disaster' category or not."
      ]
    },
    {
      "cell_type": "code",
      "metadata": {
        "id": "0KKV6GsVGemx",
        "colab_type": "code",
        "colab": {
          "base_uri": "https://localhost:8080/",
          "height": 68
        },
        "outputId": "3b90e9c1-fa9f-4d53-939d-6358bfacc5d4"
      },
      "source": [
        "train_df.loc[train_df['text'].str.contains('disaster', na=False, case=False)].target.value_counts()"
      ],
      "execution_count": 17,
      "outputs": [
        {
          "output_type": "execute_result",
          "data": {
            "text/plain": [
              "1    102\n",
              "0     40\n",
              "Name: target, dtype: int64"
            ]
          },
          "metadata": {
            "tags": []
          },
          "execution_count": 17
        }
      ]
    },
    {
      "cell_type": "markdown",
      "metadata": {
        "id": "M0U5lGTDGemz",
        "colab_type": "text"
      },
      "source": [
        "It seems even though word disaster is part of the tweets but that doesn't mean tweet announces a real disaster."
      ]
    },
    {
      "cell_type": "code",
      "metadata": {
        "id": "M0z6-bPvGem0",
        "colab_type": "code",
        "colab": {
          "base_uri": "https://localhost:8080/",
          "height": 644
        },
        "outputId": "489388d5-3437-4442-e2fa-8e80592c1479"
      },
      "source": [
        "#Lets use feature_viz function to create charts for 'location' column\n",
        "feature_viz(train_df,'location')"
      ],
      "execution_count": 18,
      "outputs": [
        {
          "output_type": "stream",
          "text": [
            "USA              104\n",
            "New York          71\n",
            "United States     50\n",
            "London            45\n",
            "Canada            29\n",
            "Name: location, dtype: int64\n"
          ],
          "name": "stdout"
        },
        {
          "output_type": "display_data",
          "data": {
            "text/html": [
              "<html>\n",
              "<head><meta charset=\"utf-8\" /></head>\n",
              "<body>\n",
              "    <div>\n",
              "            <script src=\"https://cdnjs.cloudflare.com/ajax/libs/mathjax/2.7.5/MathJax.js?config=TeX-AMS-MML_SVG\"></script><script type=\"text/javascript\">if (window.MathJax) {MathJax.Hub.Config({SVG: {font: \"STIX-Web\"}});}</script>\n",
              "                <script type=\"text/javascript\">window.PlotlyConfig = {MathJaxConfig: 'local'};</script>\n",
              "        <script src=\"https://cdn.plot.ly/plotly-latest.min.js\"></script>    \n",
              "            <div id=\"cd27e56f-d8dd-4d95-a4d0-0f78fdd194ab\" class=\"plotly-graph-div\" style=\"height:525px; width:100%;\"></div>\n",
              "            <script type=\"text/javascript\">\n",
              "                \n",
              "                    window.PLOTLYENV=window.PLOTLYENV || {};\n",
              "                    \n",
              "                if (document.getElementById(\"cd27e56f-d8dd-4d95-a4d0-0f78fdd194ab\")) {\n",
              "                    Plotly.newPlot(\n",
              "                        'cd27e56f-d8dd-4d95-a4d0-0f78fdd194ab',\n",
              "                        [{\"hoverlabel\": {\"namelength\": 0}, \"hovertemplate\": \"x=%{x}<br>y=%{y}<br>size=%{marker.size}\", \"legendgroup\": \"\", \"marker\": {\"color\": \"#636efa\", \"size\": [104, 71, 50, 45, 29, 28, 27, 26, 24, 22, 21, 20, 19, 18, 18, 17, 15, 15, 15, 14, 14, 14, 13, 13, 13, 12, 12, 12, 11, 11, 11, 11, 10, 10, 10, 10, 10, 10, 10, 9, 9, 9, 9, 9, 9, 9, 9, 8, 8, 8, 7, 7, 7, 7, 7, 7, 7, 7, 6, 6, 6, 6, 6, 6, 6, 6, 6, 6, 6, 6, 6, 6, 6, 6, 6, 6, 5, 5, 5, 5, 5, 5, 5, 5, 5, 5, 5, 5, 5, 5, 5, 5, 5, 5, 5, 5, 5, 5, 5, 5, 5, 5, 5, 5, 5, 5, 5, 4, 4, 4, 4, 4, 4, 4, 4, 4, 4, 4, 4, 4, 4, 4, 4, 4, 4, 4, 4, 4, 4, 4, 4, 4, 4, 4, 4, 4, 4, 4, 4, 4, 4, 4, 4, 4, 4, 4, 4, 4, 4, 4, 4, 4, 4, 4, 4, 4, 4, 3, 3, 3, 3, 3, 3, 3, 3, 3, 3, 3, 3, 3, 3, 3, 3, 3, 3, 3, 3, 3, 3, 3, 3, 3, 3, 3, 3, 3, 3, 3, 3, 3, 3, 3, 3, 3, 3, 3, 3, 3, 3, 3, 3, 3, 3, 3, 3, 3, 3, 3, 3, 3, 3, 3, 3, 3, 3, 3, 3, 3, 3, 3, 3, 3, 3, 3, 3, 3, 3, 3, 3, 3, 3, 3, 3, 3, 3, 3, 3, 3, 3, 3, 3, 3, 3, 3, 3, 3, 3, 3, 3, 3, 3, 3, 3, 3, 3, 3, 3, 2, 2, 2, 2, 2, 2, 2, 2, 2, 2, 2, 2, 2, 2, 2, 2, 2, 2, 2, 2, 2, 2, 2, 2, 2, 2, 2, 2, 2, 2, 2, 2, 2, 2, 2, 2, 2, 2, 2, 2, 2, 2, 2, 2, 2, 2, 2, 2, 2, 2, 2, 2, 2, 2, 2, 2, 2, 2, 2, 2, 2, 2, 2, 2, 2, 2, 2, 2, 2, 2, 2, 2, 2, 2, 2, 2, 2, 2, 2, 2, 2, 2, 2, 2, 2, 2, 2, 2, 2, 2, 2, 2, 2, 2, 2, 2, 2, 2, 2, 2, 2, 2, 2, 2, 2, 2, 2, 2, 2, 2, 2, 2, 2, 2, 2, 2, 2, 2, 2, 2, 2, 2, 2, 2, 2, 2, 2, 2, 2, 2, 2, 2, 2, 2, 2, 2, 2, 2, 2, 2, 2, 2, 2, 2, 2, 2, 2, 2, 2, 2, 2, 2, 2, 2, 2, 2, 2, 2, 2, 2, 2, 2, 2, 2, 2, 2, 2, 2, 2, 2, 2, 2, 2, 2, 2, 2, 2, 2, 2, 2, 2, 2, 2, 2, 2, 2, 2, 2, 2, 2, 2, 2, 2, 2, 2, 2, 2, 2, 2, 2, 2, 2, 2, 2, 2, 2, 2, 2, 2, 2, 2, 2, 2, 2, 2, 2, 2, 2, 2, 2, 2, 2, 2, 2, 2, 2, 2, 2, 2, 2, 2, 2, 2, 2, 2, 2, 2, 2, 2, 2, 2, 2, 2, 2, 2, 2, 2, 2, 2, 2, 2, 2, 2, 2, 2, 2, 2, 2, 2, 2, 2, 2, 2, 2, 2, 2, 1, 1, 1, 1, 1, 1, 1, 1, 1, 1, 1, 1, 1, 1, 1, 1, 1, 1, 1, 1, 1, 1, 1, 1, 1, 1, 1, 1, 1, 1, 1, 1, 1, 1, 1, 1, 1, 1, 1, 1, 1, 1, 1, 1, 1, 1, 1, 1, 1, 1, 1, 1, 1, 1, 1, 1, 1, 1, 1, 1, 1, 1, 1, 1, 1, 1, 1, 1, 1, 1, 1, 1, 1, 1, 1, 1, 1, 1, 1, 1, 1, 1, 1, 1, 1, 1, 1, 1, 1, 1, 1, 1, 1, 1, 1, 1, 1, 1, 1, 1, 1, 1, 1, 1, 1, 1, 1, 1, 1, 1, 1, 1, 1, 1, 1, 1, 1, 1, 1, 1, 1, 1, 1, 1, 1, 1, 1, 1, 1, 1, 1, 1, 1, 1, 1, 1, 1, 1, 1, 1, 1, 1, 1, 1, 1, 1, 1, 1, 1, 1, 1, 1, 1, 1, 1, 1, 1, 1, 1, 1, 1, 1, 1, 1, 1, 1, 1, 1, 1, 1, 1, 1, 1, 1, 1, 1, 1, 1, 1, 1, 1, 1, 1, 1, 1, 1, 1, 1, 1, 1, 1, 1, 1, 1, 1, 1, 1, 1, 1, 1, 1, 1, 1, 1, 1, 1, 1, 1, 1, 1, 1, 1, 1, 1, 1, 1, 1, 1, 1, 1, 1, 1, 1, 1, 1, 1, 1, 1, 1, 1, 1, 1, 1, 1, 1, 1, 1, 1, 1, 1, 1, 1, 1, 1, 1, 1, 1, 1, 1, 1, 1, 1, 1, 1, 1, 1, 1, 1, 1, 1, 1, 1, 1, 1, 1, 1, 1, 1, 1, 1, 1, 1, 1, 1, 1, 1, 1, 1, 1, 1, 1, 1, 1, 1, 1, 1, 1, 1, 1, 1, 1, 1, 1, 1, 1, 1, 1, 1, 1, 1, 1, 1, 1, 1, 1, 1, 1, 1, 1, 1, 1, 1, 1, 1, 1, 1, 1, 1, 1, 1, 1, 1, 1, 1, 1, 1, 1, 1, 1, 1, 1, 1, 1, 1, 1, 1, 1, 1, 1, 1, 1, 1, 1, 1, 1, 1, 1, 1, 1, 1, 1, 1, 1, 1, 1, 1, 1, 1, 1, 1, 1, 1, 1, 1, 1, 1, 1, 1, 1, 1, 1, 1, 1, 1, 1, 1, 1, 1, 1, 1, 1, 1, 1, 1, 1, 1, 1, 1, 1, 1, 1, 1, 1, 1, 1, 1, 1, 1, 1, 1, 1, 1, 1, 1, 1, 1, 1, 1, 1, 1, 1, 1, 1, 1, 1, 1, 1, 1, 1, 1, 1, 1, 1, 1, 1, 1, 1, 1, 1, 1, 1, 1, 1, 1, 1, 1, 1, 1, 1, 1, 1, 1, 1, 1, 1, 1, 1, 1, 1, 1, 1, 1, 1, 1, 1, 1, 1, 1, 1, 1, 1, 1, 1, 1, 1, 1, 1, 1, 1, 1, 1, 1, 1, 1, 1, 1, 1, 1, 1, 1, 1, 1, 1, 1, 1, 1, 1, 1, 1, 1, 1, 1, 1, 1, 1, 1, 1, 1, 1, 1, 1, 1, 1, 1, 1, 1, 1, 1, 1, 1, 1, 1, 1, 1, 1, 1, 1, 1, 1, 1, 1, 1, 1, 1, 1, 1, 1, 1, 1, 1, 1, 1, 1, 1, 1, 1, 1, 1, 1, 1, 1, 1, 1, 1, 1, 1, 1, 1, 1, 1, 1, 1, 1, 1, 1, 1, 1, 1, 1, 1, 1, 1, 1, 1, 1, 1, 1, 1, 1, 1, 1, 1, 1, 1, 1, 1, 1, 1, 1, 1, 1, 1, 1, 1, 1, 1, 1, 1, 1, 1, 1, 1, 1, 1, 1, 1, 1, 1, 1, 1, 1, 1, 1, 1, 1, 1, 1, 1, 1, 1, 1, 1, 1, 1, 1, 1, 1, 1, 1, 1, 1, 1, 1, 1, 1, 1, 1, 1, 1, 1, 1, 1, 1, 1, 1, 1, 1, 1, 1, 1, 1, 1, 1, 1, 1, 1, 1, 1, 1, 1, 1, 1, 1, 1, 1, 1, 1, 1, 1, 1, 1, 1, 1, 1, 1, 1, 1, 1, 1, 1, 1, 1, 1, 1, 1, 1, 1, 1, 1, 1, 1, 1, 1, 1, 1, 1, 1, 1, 1, 1, 1, 1, 1, 1, 1, 1, 1, 1, 1, 1, 1, 1, 1, 1, 1, 1, 1, 1, 1, 1, 1, 1, 1, 1, 1, 1, 1, 1, 1, 1, 1, 1, 1, 1, 1, 1, 1, 1, 1, 1, 1, 1, 1, 1, 1, 1, 1, 1, 1, 1, 1, 1, 1, 1, 1, 1, 1, 1, 1, 1, 1, 1, 1, 1, 1, 1, 1, 1, 1, 1, 1, 1, 1, 1, 1, 1, 1, 1, 1, 1, 1, 1, 1, 1, 1, 1, 1, 1, 1, 1, 1, 1, 1, 1, 1, 1, 1, 1, 1, 1, 1, 1, 1, 1, 1, 1, 1, 1, 1, 1, 1, 1, 1, 1, 1, 1, 1, 1, 1, 1, 1, 1, 1, 1, 1, 1, 1, 1, 1, 1, 1, 1, 1, 1, 1, 1, 1, 1, 1, 1, 1, 1, 1, 1, 1, 1, 1, 1, 1, 1, 1, 1, 1, 1, 1, 1, 1, 1, 1, 1, 1, 1, 1, 1, 1, 1, 1, 1, 1, 1, 1, 1, 1, 1, 1, 1, 1, 1, 1, 1, 1, 1, 1, 1, 1, 1, 1, 1, 1, 1, 1, 1, 1, 1, 1, 1, 1, 1, 1, 1, 1, 1, 1, 1, 1, 1, 1, 1, 1, 1, 1, 1, 1, 1, 1, 1, 1, 1, 1, 1, 1, 1, 1, 1, 1, 1, 1, 1, 1, 1, 1, 1, 1, 1, 1, 1, 1, 1, 1, 1, 1, 1, 1, 1, 1, 1, 1, 1, 1, 1, 1, 1, 1, 1, 1, 1, 1, 1, 1, 1, 1, 1, 1, 1, 1, 1, 1, 1, 1, 1, 1, 1, 1, 1, 1, 1, 1, 1, 1, 1, 1, 1, 1, 1, 1, 1, 1, 1, 1, 1, 1, 1, 1, 1, 1, 1, 1, 1, 1, 1, 1, 1, 1, 1, 1, 1, 1, 1, 1, 1, 1, 1, 1, 1, 1, 1, 1, 1, 1, 1, 1, 1, 1, 1, 1, 1, 1, 1, 1, 1, 1, 1, 1, 1, 1, 1, 1, 1, 1, 1, 1, 1, 1, 1, 1, 1, 1, 1, 1, 1, 1, 1, 1, 1, 1, 1, 1, 1, 1, 1, 1, 1, 1, 1, 1, 1, 1, 1, 1, 1, 1, 1, 1, 1, 1, 1, 1, 1, 1, 1, 1, 1, 1, 1, 1, 1, 1, 1, 1, 1, 1, 1, 1, 1, 1, 1, 1, 1, 1, 1, 1, 1, 1, 1, 1, 1, 1, 1, 1, 1, 1, 1, 1, 1, 1, 1, 1, 1, 1, 1, 1, 1, 1, 1, 1, 1, 1, 1, 1, 1, 1, 1, 1, 1, 1, 1, 1, 1, 1, 1, 1, 1, 1, 1, 1, 1, 1, 1, 1, 1, 1, 1, 1, 1, 1, 1, 1, 1, 1, 1, 1, 1, 1, 1, 1, 1, 1, 1, 1, 1, 1, 1, 1, 1, 1, 1, 1, 1, 1, 1, 1, 1, 1, 1, 1, 1, 1, 1, 1, 1, 1, 1, 1, 1, 1, 1, 1, 1, 1, 1, 1, 1, 1, 1, 1, 1, 1, 1, 1, 1, 1, 1, 1, 1, 1, 1, 1, 1, 1, 1, 1, 1, 1, 1, 1, 1, 1, 1, 1, 1, 1, 1, 1, 1, 1, 1, 1, 1, 1, 1, 1, 1, 1, 1, 1, 1, 1, 1, 1, 1, 1, 1, 1, 1, 1, 1, 1, 1, 1, 1, 1, 1, 1, 1, 1, 1, 1, 1, 1, 1, 1, 1, 1, 1, 1, 1, 1, 1, 1, 1, 1, 1, 1, 1, 1, 1, 1, 1, 1, 1, 1, 1, 1, 1, 1, 1, 1, 1, 1, 1, 1, 1, 1, 1, 1, 1, 1, 1, 1, 1, 1, 1, 1, 1, 1, 1, 1, 1, 1, 1, 1, 1, 1, 1, 1, 1, 1, 1, 1, 1, 1, 1, 1, 1, 1, 1, 1, 1, 1, 1, 1, 1, 1, 1, 1, 1, 1, 1, 1, 1, 1, 1, 1, 1, 1, 1, 1, 1, 1, 1, 1, 1, 1, 1, 1, 1, 1, 1, 1, 1, 1, 1, 1, 1, 1, 1, 1, 1, 1, 1, 1, 1, 1, 1, 1, 1, 1, 1, 1, 1, 1, 1, 1, 1, 1, 1, 1, 1, 1, 1, 1, 1, 1, 1, 1, 1, 1, 1, 1, 1, 1, 1, 1, 1, 1, 1, 1, 1, 1, 1, 1, 1, 1, 1, 1, 1, 1, 1, 1, 1, 1, 1, 1, 1, 1, 1, 1, 1, 1, 1, 1, 1, 1, 1, 1, 1, 1, 1, 1, 1, 1, 1, 1, 1, 1, 1, 1, 1, 1, 1, 1, 1, 1, 1, 1, 1, 1, 1, 1, 1, 1, 1, 1, 1, 1, 1, 1, 1, 1, 1, 1, 1, 1, 1, 1, 1, 1, 1, 1, 1, 1, 1, 1, 1, 1, 1, 1, 1, 1, 1, 1, 1, 1, 1, 1, 1, 1, 1, 1, 1, 1, 1, 1, 1, 1, 1, 1, 1, 1, 1, 1, 1, 1, 1, 1, 1, 1, 1, 1, 1, 1, 1, 1, 1, 1, 1, 1, 1, 1, 1, 1, 1, 1, 1, 1, 1, 1, 1, 1, 1, 1, 1, 1, 1, 1, 1, 1, 1, 1, 1, 1, 1, 1, 1, 1, 1, 1, 1, 1, 1, 1, 1, 1, 1, 1, 1, 1, 1, 1, 1, 1, 1, 1, 1, 1, 1, 1, 1, 1, 1, 1, 1, 1, 1, 1, 1, 1, 1, 1, 1, 1, 1, 1, 1, 1, 1, 1, 1, 1, 1, 1, 1, 1, 1, 1, 1, 1, 1, 1, 1, 1, 1, 1, 1, 1, 1, 1, 1, 1, 1, 1, 1, 1, 1, 1, 1, 1, 1, 1, 1, 1, 1, 1, 1, 1, 1, 1, 1, 1, 1, 1, 1, 1, 1, 1, 1, 1, 1, 1, 1, 1, 1, 1, 1, 1, 1, 1, 1, 1, 1, 1, 1, 1, 1, 1, 1, 1, 1, 1, 1, 1, 1, 1, 1, 1, 1, 1, 1, 1, 1, 1, 1, 1, 1, 1, 1, 1, 1, 1, 1, 1, 1, 1, 1, 1, 1, 1, 1, 1, 1, 1, 1, 1, 1, 1, 1, 1, 1, 1, 1, 1, 1, 1, 1, 1, 1, 1, 1, 1, 1, 1, 1, 1, 1, 1, 1, 1, 1, 1, 1, 1, 1, 1, 1, 1, 1, 1, 1, 1, 1, 1, 1, 1, 1, 1, 1, 1, 1, 1, 1, 1, 1, 1, 1, 1, 1, 1, 1, 1, 1, 1, 1, 1, 1, 1, 1, 1, 1, 1, 1, 1, 1, 1, 1, 1, 1, 1, 1, 1, 1, 1, 1, 1, 1, 1, 1, 1, 1, 1, 1, 1, 1, 1, 1, 1, 1, 1, 1, 1, 1, 1, 1, 1, 1, 1, 1, 1, 1, 1, 1, 1, 1, 1, 1, 1, 1, 1, 1, 1, 1, 1, 1, 1, 1, 1, 1, 1, 1, 1, 1, 1, 1, 1, 1, 1, 1, 1, 1, 1, 1, 1, 1, 1, 1, 1, 1, 1, 1, 1, 1, 1, 1, 1, 1, 1, 1, 1, 1, 1, 1, 1, 1, 1, 1, 1, 1, 1, 1, 1, 1, 1, 1, 1, 1, 1, 1, 1, 1, 1, 1, 1, 1, 1, 1, 1, 1, 1, 1, 1, 1, 1, 1, 1, 1, 1, 1, 1, 1, 1, 1, 1, 1, 1, 1, 1, 1, 1, 1, 1, 1, 1, 1, 1, 1, 1, 1, 1, 1, 1, 1, 1, 1, 1, 1, 1, 1, 1, 1, 1, 1, 1, 1, 1, 1, 1, 1, 1, 1, 1, 1, 1, 1, 1, 1, 1, 1, 1, 1, 1, 1, 1, 1, 1, 1, 1, 1, 1, 1, 1, 1, 1, 1, 1, 1, 1, 1, 1, 1, 1, 1, 1, 1, 1, 1, 1, 1, 1, 1, 1, 1, 1, 1, 1, 1, 1, 1, 1, 1, 1, 1, 1, 1, 1, 1, 1, 1, 1, 1, 1, 1, 1, 1, 1, 1, 1, 1, 1, 1, 1, 1, 1, 1, 1, 1, 1, 1, 1, 1, 1, 1, 1, 1, 1, 1, 1, 1, 1, 1, 1, 1, 1, 1, 1, 1, 1, 1, 1, 1, 1, 1, 1, 1, 1, 1, 1, 1, 1, 1, 1, 1, 1, 1, 1, 1, 1, 1, 1, 1, 1, 1, 1, 1, 1, 1, 1, 1, 1, 1, 1, 1, 1, 1, 1, 1, 1, 1, 1, 1, 1, 1, 1, 1, 1, 1, 1, 1, 1, 1, 1, 1, 1, 1, 1, 1, 1, 1, 1, 1, 1, 1, 1, 1, 1, 1, 1, 1, 1, 1, 1, 1, 1, 1, 1, 1, 1, 1, 1, 1, 1, 1, 1, 1, 1, 1, 1, 1, 1, 1, 1, 1, 1, 1, 1, 1, 1, 1, 1, 1, 1, 1, 1, 1, 1, 1, 1, 1, 1, 1, 1, 1, 1, 1, 1, 1, 1, 1, 1, 1, 1, 1, 1, 1, 1, 1, 1, 1, 1, 1, 1, 1, 1, 1, 1, 1, 1, 1, 1, 1, 1, 1, 1, 1, 1, 1, 1, 1, 1, 1, 1, 1, 1, 1, 1, 1, 1, 1, 1, 1, 1, 1, 1, 1, 1, 1, 1, 1, 1, 1, 1, 1, 1, 1, 1, 1, 1, 1, 1, 1, 1, 1, 1, 1, 1, 1, 1, 1, 1, 1, 1, 1, 1, 1, 1, 1, 1, 1, 1, 1, 1, 1, 1, 1, 1, 1, 1, 1, 1, 1, 1, 1, 1, 1, 1, 1, 1, 1, 1, 1, 1, 1, 1, 1, 1, 1, 1, 1, 1, 1, 1, 1, 1, 1, 1, 1, 1, 1, 1, 1, 1, 1, 1, 1, 1, 1, 1, 1, 1, 1, 1, 1, 1, 1, 1, 1, 1, 1, 1, 1, 1, 1, 1, 1, 1, 1, 1, 1, 1, 1, 1, 1, 1, 1, 1, 1, 1, 1, 1, 1, 1, 1, 1, 1, 1, 1, 1, 1, 1, 1, 1, 1, 1, 1, 1, 1, 1, 1, 1, 1, 1, 1, 1, 1, 1, 1, 1, 1, 1, 1, 1, 1, 1, 1, 1, 1, 1, 1, 1, 1, 1, 1, 1, 1, 1, 1, 1, 1, 1, 1, 1, 1, 1, 1, 1, 1, 1, 1, 1, 1, 1, 1, 1, 1, 1, 1, 1, 1, 1, 1, 1, 1, 1, 1, 1, 1, 1, 1, 1, 1, 1, 1, 1, 1, 1, 1, 1, 1, 1, 1, 1, 1, 1, 1, 1, 1, 1, 1, 1, 1, 1, 1, 1, 1, 1, 1, 1, 1, 1, 1, 1, 1, 1, 1, 1, 1, 1, 1, 1, 1, 1, 1, 1, 1, 1, 1, 1, 1, 1, 1, 1, 1, 1, 1, 1, 1, 1, 1, 1, 1, 1, 1, 1, 1, 1, 1, 1, 1, 1, 1, 1, 1, 1, 1, 1, 1, 1, 1, 1, 1, 1, 1, 1, 1, 1, 1, 1, 1, 1, 1, 1, 1, 1, 1, 1, 1, 1, 1, 1, 1, 1, 1, 1, 1, 1, 1, 1, 1, 1, 1, 1, 1, 1, 1, 1, 1, 1, 1, 1, 1, 1, 1, 1, 1, 1, 1, 1, 1, 1, 1, 1, 1, 1, 1, 1, 1, 1, 1, 1, 1, 1, 1, 1, 1, 1, 1, 1, 1, 1, 1, 1, 1, 1, 1, 1, 1, 1, 1, 1, 1, 1, 1, 1, 1, 1, 1, 1, 1, 1, 1, 1, 1, 1, 1, 1, 1, 1, 1, 1, 1, 1, 1, 1, 1, 1, 1, 1, 1, 1, 1, 1, 1, 1, 1, 1, 1, 1, 1, 1, 1, 1, 1, 1, 1, 1, 1, 1, 1, 1, 1, 1, 1, 1, 1, 1, 1, 1, 1, 1, 1, 1, 1, 1, 1, 1, 1, 1, 1, 1, 1, 1, 1, 1, 1, 1, 1, 1, 1, 1, 1, 1, 1, 1, 1, 1, 1, 1, 1, 1, 1, 1, 1, 1, 1, 1, 1, 1, 1, 1, 1, 1, 1, 1, 1, 1, 1, 1, 1, 1, 1, 1, 1, 1, 1, 1, 1, 1, 1, 1, 1, 1, 1, 1, 1, 1, 1, 1, 1, 1, 1, 1, 1, 1, 1, 1, 1, 1, 1, 1, 1, 1, 1, 1, 1, 1, 1, 1, 1, 1, 1, 1, 1, 1, 1, 1, 1, 1, 1, 1, 1, 1, 1, 1, 1, 1, 1, 1, 1, 1, 1, 1, 1, 1, 1, 1, 1, 1, 1, 1, 1, 1, 1, 1, 1, 1, 1, 1, 1, 1, 1, 1, 1, 1, 1, 1, 1, 1, 1, 1, 1, 1, 1, 1, 1, 1, 1, 1, 1, 1, 1, 1, 1, 1, 1, 1, 1, 1, 1, 1, 1, 1, 1, 1, 1, 1, 1, 1, 1, 1, 1, 1, 1, 1, 1, 1, 1, 1, 1, 1, 1, 1, 1, 1, 1, 1, 1, 1, 1, 1, 1, 1, 1, 1, 1, 1, 1, 1, 1, 1, 1], \"sizemode\": \"area\", \"sizeref\": 0.26, \"symbol\": \"circle\"}, \"mode\": \"markers\", \"name\": \"\", \"showlegend\": false, \"type\": \"scattergl\", \"x\": [104, 71, 50, 45, 29, 28, 27, 26, 24, 22, 21, 20, 19, 18, 18, 17, 15, 15, 15, 14, 14, 14, 13, 13, 13, 12, 12, 12, 11, 11, 11, 11, 10, 10, 10, 10, 10, 10, 10, 9, 9, 9, 9, 9, 9, 9, 9, 8, 8, 8, 7, 7, 7, 7, 7, 7, 7, 7, 6, 6, 6, 6, 6, 6, 6, 6, 6, 6, 6, 6, 6, 6, 6, 6, 6, 6, 5, 5, 5, 5, 5, 5, 5, 5, 5, 5, 5, 5, 5, 5, 5, 5, 5, 5, 5, 5, 5, 5, 5, 5, 5, 5, 5, 5, 5, 5, 5, 4, 4, 4, 4, 4, 4, 4, 4, 4, 4, 4, 4, 4, 4, 4, 4, 4, 4, 4, 4, 4, 4, 4, 4, 4, 4, 4, 4, 4, 4, 4, 4, 4, 4, 4, 4, 4, 4, 4, 4, 4, 4, 4, 4, 4, 4, 4, 4, 4, 4, 3, 3, 3, 3, 3, 3, 3, 3, 3, 3, 3, 3, 3, 3, 3, 3, 3, 3, 3, 3, 3, 3, 3, 3, 3, 3, 3, 3, 3, 3, 3, 3, 3, 3, 3, 3, 3, 3, 3, 3, 3, 3, 3, 3, 3, 3, 3, 3, 3, 3, 3, 3, 3, 3, 3, 3, 3, 3, 3, 3, 3, 3, 3, 3, 3, 3, 3, 3, 3, 3, 3, 3, 3, 3, 3, 3, 3, 3, 3, 3, 3, 3, 3, 3, 3, 3, 3, 3, 3, 3, 3, 3, 3, 3, 3, 3, 3, 3, 3, 3, 2, 2, 2, 2, 2, 2, 2, 2, 2, 2, 2, 2, 2, 2, 2, 2, 2, 2, 2, 2, 2, 2, 2, 2, 2, 2, 2, 2, 2, 2, 2, 2, 2, 2, 2, 2, 2, 2, 2, 2, 2, 2, 2, 2, 2, 2, 2, 2, 2, 2, 2, 2, 2, 2, 2, 2, 2, 2, 2, 2, 2, 2, 2, 2, 2, 2, 2, 2, 2, 2, 2, 2, 2, 2, 2, 2, 2, 2, 2, 2, 2, 2, 2, 2, 2, 2, 2, 2, 2, 2, 2, 2, 2, 2, 2, 2, 2, 2, 2, 2, 2, 2, 2, 2, 2, 2, 2, 2, 2, 2, 2, 2, 2, 2, 2, 2, 2, 2, 2, 2, 2, 2, 2, 2, 2, 2, 2, 2, 2, 2, 2, 2, 2, 2, 2, 2, 2, 2, 2, 2, 2, 2, 2, 2, 2, 2, 2, 2, 2, 2, 2, 2, 2, 2, 2, 2, 2, 2, 2, 2, 2, 2, 2, 2, 2, 2, 2, 2, 2, 2, 2, 2, 2, 2, 2, 2, 2, 2, 2, 2, 2, 2, 2, 2, 2, 2, 2, 2, 2, 2, 2, 2, 2, 2, 2, 2, 2, 2, 2, 2, 2, 2, 2, 2, 2, 2, 2, 2, 2, 2, 2, 2, 2, 2, 2, 2, 2, 2, 2, 2, 2, 2, 2, 2, 2, 2, 2, 2, 2, 2, 2, 2, 2, 2, 2, 2, 2, 2, 2, 2, 2, 2, 2, 2, 2, 2, 2, 2, 2, 2, 2, 2, 2, 2, 2, 2, 2, 2, 2, 2, 2, 2, 2, 2, 2, 2, 1, 1, 1, 1, 1, 1, 1, 1, 1, 1, 1, 1, 1, 1, 1, 1, 1, 1, 1, 1, 1, 1, 1, 1, 1, 1, 1, 1, 1, 1, 1, 1, 1, 1, 1, 1, 1, 1, 1, 1, 1, 1, 1, 1, 1, 1, 1, 1, 1, 1, 1, 1, 1, 1, 1, 1, 1, 1, 1, 1, 1, 1, 1, 1, 1, 1, 1, 1, 1, 1, 1, 1, 1, 1, 1, 1, 1, 1, 1, 1, 1, 1, 1, 1, 1, 1, 1, 1, 1, 1, 1, 1, 1, 1, 1, 1, 1, 1, 1, 1, 1, 1, 1, 1, 1, 1, 1, 1, 1, 1, 1, 1, 1, 1, 1, 1, 1, 1, 1, 1, 1, 1, 1, 1, 1, 1, 1, 1, 1, 1, 1, 1, 1, 1, 1, 1, 1, 1, 1, 1, 1, 1, 1, 1, 1, 1, 1, 1, 1, 1, 1, 1, 1, 1, 1, 1, 1, 1, 1, 1, 1, 1, 1, 1, 1, 1, 1, 1, 1, 1, 1, 1, 1, 1, 1, 1, 1, 1, 1, 1, 1, 1, 1, 1, 1, 1, 1, 1, 1, 1, 1, 1, 1, 1, 1, 1, 1, 1, 1, 1, 1, 1, 1, 1, 1, 1, 1, 1, 1, 1, 1, 1, 1, 1, 1, 1, 1, 1, 1, 1, 1, 1, 1, 1, 1, 1, 1, 1, 1, 1, 1, 1, 1, 1, 1, 1, 1, 1, 1, 1, 1, 1, 1, 1, 1, 1, 1, 1, 1, 1, 1, 1, 1, 1, 1, 1, 1, 1, 1, 1, 1, 1, 1, 1, 1, 1, 1, 1, 1, 1, 1, 1, 1, 1, 1, 1, 1, 1, 1, 1, 1, 1, 1, 1, 1, 1, 1, 1, 1, 1, 1, 1, 1, 1, 1, 1, 1, 1, 1, 1, 1, 1, 1, 1, 1, 1, 1, 1, 1, 1, 1, 1, 1, 1, 1, 1, 1, 1, 1, 1, 1, 1, 1, 1, 1, 1, 1, 1, 1, 1, 1, 1, 1, 1, 1, 1, 1, 1, 1, 1, 1, 1, 1, 1, 1, 1, 1, 1, 1, 1, 1, 1, 1, 1, 1, 1, 1, 1, 1, 1, 1, 1, 1, 1, 1, 1, 1, 1, 1, 1, 1, 1, 1, 1, 1, 1, 1, 1, 1, 1, 1, 1, 1, 1, 1, 1, 1, 1, 1, 1, 1, 1, 1, 1, 1, 1, 1, 1, 1, 1, 1, 1, 1, 1, 1, 1, 1, 1, 1, 1, 1, 1, 1, 1, 1, 1, 1, 1, 1, 1, 1, 1, 1, 1, 1, 1, 1, 1, 1, 1, 1, 1, 1, 1, 1, 1, 1, 1, 1, 1, 1, 1, 1, 1, 1, 1, 1, 1, 1, 1, 1, 1, 1, 1, 1, 1, 1, 1, 1, 1, 1, 1, 1, 1, 1, 1, 1, 1, 1, 1, 1, 1, 1, 1, 1, 1, 1, 1, 1, 1, 1, 1, 1, 1, 1, 1, 1, 1, 1, 1, 1, 1, 1, 1, 1, 1, 1, 1, 1, 1, 1, 1, 1, 1, 1, 1, 1, 1, 1, 1, 1, 1, 1, 1, 1, 1, 1, 1, 1, 1, 1, 1, 1, 1, 1, 1, 1, 1, 1, 1, 1, 1, 1, 1, 1, 1, 1, 1, 1, 1, 1, 1, 1, 1, 1, 1, 1, 1, 1, 1, 1, 1, 1, 1, 1, 1, 1, 1, 1, 1, 1, 1, 1, 1, 1, 1, 1, 1, 1, 1, 1, 1, 1, 1, 1, 1, 1, 1, 1, 1, 1, 1, 1, 1, 1, 1, 1, 1, 1, 1, 1, 1, 1, 1, 1, 1, 1, 1, 1, 1, 1, 1, 1, 1, 1, 1, 1, 1, 1, 1, 1, 1, 1, 1, 1, 1, 1, 1, 1, 1, 1, 1, 1, 1, 1, 1, 1, 1, 1, 1, 1, 1, 1, 1, 1, 1, 1, 1, 1, 1, 1, 1, 1, 1, 1, 1, 1, 1, 1, 1, 1, 1, 1, 1, 1, 1, 1, 1, 1, 1, 1, 1, 1, 1, 1, 1, 1, 1, 1, 1, 1, 1, 1, 1, 1, 1, 1, 1, 1, 1, 1, 1, 1, 1, 1, 1, 1, 1, 1, 1, 1, 1, 1, 1, 1, 1, 1, 1, 1, 1, 1, 1, 1, 1, 1, 1, 1, 1, 1, 1, 1, 1, 1, 1, 1, 1, 1, 1, 1, 1, 1, 1, 1, 1, 1, 1, 1, 1, 1, 1, 1, 1, 1, 1, 1, 1, 1, 1, 1, 1, 1, 1, 1, 1, 1, 1, 1, 1, 1, 1, 1, 1, 1, 1, 1, 1, 1, 1, 1, 1, 1, 1, 1, 1, 1, 1, 1, 1, 1, 1, 1, 1, 1, 1, 1, 1, 1, 1, 1, 1, 1, 1, 1, 1, 1, 1, 1, 1, 1, 1, 1, 1, 1, 1, 1, 1, 1, 1, 1, 1, 1, 1, 1, 1, 1, 1, 1, 1, 1, 1, 1, 1, 1, 1, 1, 1, 1, 1, 1, 1, 1, 1, 1, 1, 1, 1, 1, 1, 1, 1, 1, 1, 1, 1, 1, 1, 1, 1, 1, 1, 1, 1, 1, 1, 1, 1, 1, 1, 1, 1, 1, 1, 1, 1, 1, 1, 1, 1, 1, 1, 1, 1, 1, 1, 1, 1, 1, 1, 1, 1, 1, 1, 1, 1, 1, 1, 1, 1, 1, 1, 1, 1, 1, 1, 1, 1, 1, 1, 1, 1, 1, 1, 1, 1, 1, 1, 1, 1, 1, 1, 1, 1, 1, 1, 1, 1, 1, 1, 1, 1, 1, 1, 1, 1, 1, 1, 1, 1, 1, 1, 1, 1, 1, 1, 1, 1, 1, 1, 1, 1, 1, 1, 1, 1, 1, 1, 1, 1, 1, 1, 1, 1, 1, 1, 1, 1, 1, 1, 1, 1, 1, 1, 1, 1, 1, 1, 1, 1, 1, 1, 1, 1, 1, 1, 1, 1, 1, 1, 1, 1, 1, 1, 1, 1, 1, 1, 1, 1, 1, 1, 1, 1, 1, 1, 1, 1, 1, 1, 1, 1, 1, 1, 1, 1, 1, 1, 1, 1, 1, 1, 1, 1, 1, 1, 1, 1, 1, 1, 1, 1, 1, 1, 1, 1, 1, 1, 1, 1, 1, 1, 1, 1, 1, 1, 1, 1, 1, 1, 1, 1, 1, 1, 1, 1, 1, 1, 1, 1, 1, 1, 1, 1, 1, 1, 1, 1, 1, 1, 1, 1, 1, 1, 1, 1, 1, 1, 1, 1, 1, 1, 1, 1, 1, 1, 1, 1, 1, 1, 1, 1, 1, 1, 1, 1, 1, 1, 1, 1, 1, 1, 1, 1, 1, 1, 1, 1, 1, 1, 1, 1, 1, 1, 1, 1, 1, 1, 1, 1, 1, 1, 1, 1, 1, 1, 1, 1, 1, 1, 1, 1, 1, 1, 1, 1, 1, 1, 1, 1, 1, 1, 1, 1, 1, 1, 1, 1, 1, 1, 1, 1, 1, 1, 1, 1, 1, 1, 1, 1, 1, 1, 1, 1, 1, 1, 1, 1, 1, 1, 1, 1, 1, 1, 1, 1, 1, 1, 1, 1, 1, 1, 1, 1, 1, 1, 1, 1, 1, 1, 1, 1, 1, 1, 1, 1, 1, 1, 1, 1, 1, 1, 1, 1, 1, 1, 1, 1, 1, 1, 1, 1, 1, 1, 1, 1, 1, 1, 1, 1, 1, 1, 1, 1, 1, 1, 1, 1, 1, 1, 1, 1, 1, 1, 1, 1, 1, 1, 1, 1, 1, 1, 1, 1, 1, 1, 1, 1, 1, 1, 1, 1, 1, 1, 1, 1, 1, 1, 1, 1, 1, 1, 1, 1, 1, 1, 1, 1, 1, 1, 1, 1, 1, 1, 1, 1, 1, 1, 1, 1, 1, 1, 1, 1, 1, 1, 1, 1, 1, 1, 1, 1, 1, 1, 1, 1, 1, 1, 1, 1, 1, 1, 1, 1, 1, 1, 1, 1, 1, 1, 1, 1, 1, 1, 1, 1, 1, 1, 1, 1, 1, 1, 1, 1, 1, 1, 1, 1, 1, 1, 1, 1, 1, 1, 1, 1, 1, 1, 1, 1, 1, 1, 1, 1, 1, 1, 1, 1, 1, 1, 1, 1, 1, 1, 1, 1, 1, 1, 1, 1, 1, 1, 1, 1, 1, 1, 1, 1, 1, 1, 1, 1, 1, 1, 1, 1, 1, 1, 1, 1, 1, 1, 1, 1, 1, 1, 1, 1, 1, 1, 1, 1, 1, 1, 1, 1, 1, 1, 1, 1, 1, 1, 1, 1, 1, 1, 1, 1, 1, 1, 1, 1, 1, 1, 1, 1, 1, 1, 1, 1, 1, 1, 1, 1, 1, 1, 1, 1, 1, 1, 1, 1, 1, 1, 1, 1, 1, 1, 1, 1, 1, 1, 1, 1, 1, 1, 1, 1, 1, 1, 1, 1, 1, 1, 1, 1, 1, 1, 1, 1, 1, 1, 1, 1, 1, 1, 1, 1, 1, 1, 1, 1, 1, 1, 1, 1, 1, 1, 1, 1, 1, 1, 1, 1, 1, 1, 1, 1, 1, 1, 1, 1, 1, 1, 1, 1, 1, 1, 1, 1, 1, 1, 1, 1, 1, 1, 1, 1, 1, 1, 1, 1, 1, 1, 1, 1, 1, 1, 1, 1, 1, 1, 1, 1, 1, 1, 1, 1, 1, 1, 1, 1, 1, 1, 1, 1, 1, 1, 1, 1, 1, 1, 1, 1, 1, 1, 1, 1, 1, 1, 1, 1, 1, 1, 1, 1, 1, 1, 1, 1, 1, 1, 1, 1, 1, 1, 1, 1, 1, 1, 1, 1, 1, 1, 1, 1, 1, 1, 1, 1, 1, 1, 1, 1, 1, 1, 1, 1, 1, 1, 1, 1, 1, 1, 1, 1, 1, 1, 1, 1, 1, 1, 1, 1, 1, 1, 1, 1, 1, 1, 1, 1, 1, 1, 1, 1, 1, 1, 1, 1, 1, 1, 1, 1, 1, 1, 1, 1, 1, 1, 1, 1, 1, 1, 1, 1, 1, 1, 1, 1, 1, 1, 1, 1, 1, 1, 1, 1, 1, 1, 1, 1, 1, 1, 1, 1, 1, 1, 1, 1, 1, 1, 1, 1, 1, 1, 1, 1, 1, 1, 1, 1, 1, 1, 1, 1, 1, 1, 1, 1, 1, 1, 1, 1, 1, 1, 1, 1, 1, 1, 1, 1, 1, 1, 1, 1, 1, 1, 1, 1, 1, 1, 1, 1, 1, 1, 1, 1, 1, 1, 1, 1, 1, 1, 1, 1, 1, 1, 1, 1, 1, 1, 1, 1, 1, 1, 1, 1, 1, 1, 1, 1, 1, 1, 1, 1, 1, 1, 1, 1, 1, 1, 1, 1, 1, 1, 1, 1, 1, 1, 1, 1, 1, 1, 1, 1, 1, 1, 1, 1, 1, 1, 1, 1, 1, 1, 1, 1, 1, 1, 1, 1, 1, 1, 1, 1, 1, 1, 1, 1, 1, 1, 1, 1, 1, 1, 1, 1, 1, 1, 1, 1, 1, 1, 1, 1, 1, 1, 1, 1, 1, 1, 1, 1, 1, 1, 1, 1, 1, 1, 1, 1, 1, 1, 1, 1, 1, 1, 1, 1, 1, 1, 1, 1, 1, 1, 1, 1, 1, 1, 1, 1, 1, 1, 1, 1, 1, 1, 1, 1, 1, 1, 1, 1, 1, 1, 1, 1, 1, 1, 1, 1, 1, 1, 1, 1, 1, 1, 1, 1, 1, 1, 1, 1, 1, 1, 1, 1, 1, 1, 1, 1, 1, 1, 1, 1, 1, 1, 1, 1, 1, 1, 1, 1, 1, 1, 1, 1, 1, 1, 1, 1, 1, 1, 1, 1, 1, 1, 1, 1, 1, 1, 1, 1, 1, 1, 1, 1, 1, 1, 1, 1, 1, 1, 1, 1, 1, 1, 1, 1, 1, 1, 1, 1, 1, 1, 1, 1, 1, 1, 1, 1, 1, 1, 1, 1, 1, 1, 1, 1, 1, 1, 1, 1, 1, 1, 1, 1, 1, 1, 1, 1, 1, 1, 1, 1, 1, 1, 1, 1, 1, 1, 1, 1, 1, 1, 1, 1, 1, 1, 1, 1, 1, 1, 1, 1, 1, 1, 1, 1, 1, 1, 1, 1, 1, 1, 1, 1, 1, 1, 1, 1, 1, 1, 1, 1, 1, 1, 1, 1, 1, 1, 1, 1, 1, 1, 1, 1, 1, 1, 1, 1, 1, 1, 1, 1, 1, 1, 1, 1, 1, 1, 1, 1, 1, 1, 1, 1, 1, 1, 1, 1, 1, 1, 1, 1, 1, 1, 1, 1, 1, 1, 1, 1, 1, 1, 1, 1, 1, 1, 1, 1, 1, 1, 1, 1, 1, 1, 1, 1, 1, 1, 1, 1, 1, 1, 1, 1, 1, 1, 1, 1, 1, 1, 1, 1, 1, 1, 1, 1, 1, 1, 1, 1, 1, 1, 1, 1, 1, 1, 1, 1, 1, 1, 1, 1, 1, 1, 1, 1, 1, 1, 1, 1, 1, 1, 1, 1, 1, 1, 1, 1, 1, 1, 1, 1, 1, 1, 1, 1, 1, 1, 1, 1, 1, 1, 1, 1, 1, 1, 1, 1, 1, 1, 1, 1, 1, 1, 1, 1, 1, 1, 1, 1, 1, 1, 1, 1, 1, 1, 1, 1, 1, 1, 1, 1, 1, 1, 1, 1, 1, 1, 1, 1, 1, 1, 1, 1, 1, 1, 1, 1, 1, 1, 1, 1, 1, 1, 1, 1, 1, 1, 1, 1, 1, 1, 1, 1, 1, 1, 1, 1, 1, 1, 1, 1, 1, 1, 1, 1, 1, 1, 1, 1, 1, 1, 1, 1, 1, 1, 1, 1, 1, 1, 1, 1, 1, 1, 1, 1, 1, 1, 1, 1, 1, 1, 1, 1, 1, 1, 1, 1, 1, 1, 1, 1, 1, 1, 1, 1, 1, 1, 1, 1, 1, 1, 1, 1, 1, 1, 1, 1, 1, 1, 1, 1, 1, 1, 1, 1, 1, 1, 1, 1, 1, 1, 1, 1, 1, 1, 1, 1, 1, 1, 1, 1, 1, 1, 1, 1, 1, 1, 1, 1, 1, 1, 1, 1, 1, 1, 1, 1, 1, 1, 1, 1, 1, 1, 1, 1, 1, 1, 1, 1, 1, 1, 1, 1, 1, 1, 1, 1, 1, 1, 1, 1, 1, 1, 1, 1, 1, 1, 1, 1, 1, 1, 1, 1, 1, 1, 1, 1, 1, 1, 1, 1, 1, 1, 1, 1, 1, 1, 1, 1, 1, 1, 1, 1, 1, 1, 1, 1, 1, 1, 1, 1, 1, 1, 1, 1, 1, 1, 1, 1, 1, 1, 1, 1, 1, 1, 1, 1, 1, 1, 1, 1, 1, 1, 1, 1, 1, 1, 1, 1, 1, 1, 1, 1, 1, 1, 1, 1, 1, 1, 1, 1, 1, 1, 1, 1, 1, 1, 1, 1, 1, 1, 1, 1, 1, 1, 1, 1, 1, 1, 1, 1, 1, 1, 1, 1, 1, 1, 1, 1, 1, 1, 1, 1, 1, 1, 1, 1, 1, 1, 1, 1, 1, 1, 1, 1, 1, 1, 1, 1, 1, 1, 1, 1, 1, 1, 1, 1, 1, 1, 1, 1, 1, 1, 1, 1, 1, 1, 1, 1, 1, 1, 1, 1, 1, 1, 1, 1, 1, 1, 1, 1, 1, 1, 1, 1, 1, 1, 1, 1, 1, 1, 1, 1, 1, 1, 1, 1, 1, 1, 1, 1, 1, 1, 1, 1, 1, 1, 1, 1, 1, 1, 1, 1, 1, 1, 1, 1, 1, 1, 1, 1, 1, 1, 1, 1, 1, 1, 1, 1, 1, 1, 1, 1, 1, 1, 1, 1, 1, 1, 1, 1, 1, 1, 1, 1, 1, 1, 1, 1, 1, 1, 1, 1, 1, 1, 1, 1, 1, 1, 1, 1, 1, 1, 1, 1, 1, 1, 1, 1, 1, 1, 1, 1, 1, 1, 1, 1, 1, 1, 1, 1, 1, 1, 1, 1, 1, 1, 1, 1, 1, 1, 1, 1, 1, 1, 1, 1, 1, 1, 1, 1, 1, 1, 1, 1, 1, 1, 1, 1, 1, 1, 1, 1, 1, 1, 1, 1, 1, 1, 1, 1, 1, 1, 1, 1, 1, 1, 1, 1, 1, 1, 1, 1, 1, 1, 1, 1, 1, 1, 1, 1, 1, 1, 1, 1, 1, 1, 1, 1, 1, 1, 1, 1, 1, 1, 1, 1, 1, 1, 1, 1, 1, 1, 1, 1, 1, 1, 1, 1, 1, 1, 1, 1, 1, 1, 1, 1, 1, 1, 1, 1, 1, 1, 1, 1, 1, 1, 1, 1, 1, 1, 1, 1, 1, 1, 1, 1, 1, 1, 1, 1, 1, 1, 1, 1, 1, 1, 1, 1, 1, 1, 1, 1, 1, 1, 1, 1, 1, 1, 1, 1, 1, 1, 1, 1, 1, 1, 1, 1, 1, 1, 1, 1, 1, 1, 1, 1, 1, 1, 1, 1, 1, 1, 1, 1, 1, 1, 1, 1, 1, 1, 1, 1, 1, 1, 1, 1, 1, 1, 1, 1, 1, 1, 1, 1, 1, 1, 1, 1, 1, 1, 1, 1, 1, 1, 1, 1, 1, 1, 1, 1, 1, 1, 1, 1, 1, 1, 1, 1, 1, 1, 1, 1, 1, 1, 1, 1, 1, 1, 1, 1, 1, 1, 1, 1, 1, 1, 1, 1, 1, 1, 1, 1, 1, 1, 1, 1, 1, 1, 1, 1, 1, 1, 1, 1, 1, 1, 1, 1, 1, 1, 1, 1, 1, 1, 1, 1, 1, 1, 1, 1, 1, 1, 1, 1], \"xaxis\": \"x\", \"y\": [\"USA\", \"New York\", \"United States\", \"London\", \"Canada\", \"Nigeria\", \"UK\", \"Los Angeles, CA\", \"India\", \"Mumbai\", \"Washington, DC\", \"Kenya\", \"Worldwide\", \"Australia\", \"Chicago, IL\", \"California\", \"California, USA\", \"New York, NY\", \"Everywhere\", \"San Francisco\", \"United Kingdom\", \"Florida\", \"Washington, D.C.\", \"Indonesia\", \"Los Angeles\", \"NYC\", \"Toronto\", \"Ireland\", \"Earth\", \"Seattle\", \"Chicago\", \"San Francisco, CA\", \"London, UK\", \"Atlanta, GA\", \"Texas\", \"London, England\", \"Sacramento, CA\", \"New York City\", \"ss\", \"Dallas, TX\", \"San Diego, CA\", \"World\", \"US\", \"Manchester\", \"Nashville, TN\", \"304\", \"Denver, Colorado\", \"Houston, TX\", \"South Africa\", \"Scotland\", \"Tennessee\", \"Pennsylvania, USA\", \"Austin, TX\", \"Memphis, TN\", \"worldwide\", \"Seattle, WA\", \"Denver, CO\", \"Sydney\", \"Calgary, Alberta\", \"Colorado\", \"??????\", \"Orlando, FL\", \"Pedophile hunting ground\", \"Paterson, New Jersey \", \"Oklahoma City, OK\", \"Global\", \"Brooklyn, NY\", \"Planet Earth\", \"California, United States\", \"Charlotte, NC\", \"Portland, OR\", \" Road to the Billionaires Club\", \"Singapore\", \"Atlanta\", \"Morioh, Japan\", \"Massachusetts\", \"Southern California\", \"Brasil\", \"Asheville, NC\", \"Calgary, AB\", \"Melbourne, Australia\", \"Philippines\", \"NY\", \"Newcastle\", \"Coventry\", \"Indiana\", \"Tampa, FL\", \"Puerto Rico\", \"The Netherlands\", \"Pakistan\", \"Pennsylvania\", \"Lagos\", \"Lagos, Nigeria\", \"Leeds, England\", \"Vancouver, BC\", \"North Carolina\", \"Wisconsin\", \"New Hampshire\", \"in the Word of God\", \"Cleveland, OH\", \"New York, USA\", \"Texas, USA\", \"New Jersey\", \"Florida, USA\", \"Boston, MA\", \"San Jose, CA\", \"WorldWide\", \"Portland, Oregon\", \"Phoenix, AZ\", \"Republic of Texas\", \"British Columbia, Canada\", \"Melbourne\", \"Haddonfield, NJ\", \"Bend, Oregon\", \"?\", \"canada\", \"Midwest\", \"Japan\", \"?????\", \"Cape Town\", \"Sydney, New South Wales\", \"San Francisco Bay Area\", \"Mumbai, Maharashtra\", \"Barbados\", \"Manchester, England\", \"Happily Married with 2 kids \", \"Atlanta Georgia \", \"Nairobi-KENYA\", \"Leicester\", \"Edinburgh\", \"Paignton\", \"Jamaica\", \"MAD as Hell\", \"U.S.A\", \"Calgary\", \"North Carolina, USA\", \"Sacramento\", \"china\", \"Birmingham\", \"Tokyo\", \"Sydney, Australia\", \"Oakland, CA\", \"Massachusetts, USA\", \"Port Harcourt, Nigeria\", \"Geneva\", \"Maryland\", \"Switzerland\", \"Nigeria \", \"Jakarta/Kuala Lumpur/S'pore\", \"Michigan\", \"Seattle, Washington\", \"??\", \"Kansas City\", \"Oregon\", \"Philadelphia, PA\", \"london\", \"Las Vegas, Nevada\", \"Milwaukee, WI\", \"Asia\", \"America\", \"Dublin, Ireland\", \"Birmingham, England\", \"Adelaide, Australia\", \"San Diego\", \"Gotham City\", \"Karachi Pakistan\", \"Buffalo, NY\", \"Rio de Janeiro\", \"Inexpressible Island \", \"Oklahoma City\", \"Virginia, USA\", \"Haysville, KS\", \"Oregon, USA\", \"Las Vegas\", \"Los Angeles, California\", \"Illinois, USA\", \"St. Louis, MO\", \"Victoria, British Columbia\", \"Arlington, TX\", \"State College, PA\", \"Nairobi, Kenya\", \"new york\", \"Madison, WI\", \"nyc\", \"East Coast\", \"Nairobi\", \"Italy\", \"Africa\", \"America of Founding Fathers\", \"india\", \"Subconscious LA\", \"Utah\", \"Tulsa, Oklahoma\", \"Virginia\", \"England\", \"China\", \"iTunes\", \"Kansas City, MO\", \"Toronto, Ontario\", \"Narnia\", \"Anchorage, AK\", \"Malaysia\", \"CA via Brum\", \"Sweden\", \"Raleigh, NC\", \"Indianapolis, IN\", \"Columbus, OH\", \"Karachi\", \"Taylor Swift\", \"Georgia\", \"Winston-Salem, NC\", \"21.462446,-158.022017\", \"???\", \"New Orleans, LA\", \"uk\", \"Nowhere. Everywhere.\", \"Washington DC\", \"Kama | 18 | France \", \"Calgary, AB, Canada\", \"California \", \"Johannesburg, South Africa\", \"Victoria, BC\", \"Buy Give Me My Money \", \"NYC :) Ex- #Islamophobe\", \"Hawaii, USA\", \"Germany\", \"South, USA\", \"Naperville\", \"PA\", \"Boston\", \"Washington D.C.\", \"Memphis\", \"Five down from the Coffeeshop\", \"MA\", \"#FLIGHTCITY UK  \", \"Anonymous\", \"Austin, Texas\", \"Des Moines, IA\", \"Stockholm, Sweden\", \"Financial News and Views\", \"Brazil\", \"Ontario, Canada\", \"NJ\", \"World Wide\", \"Upstairs.\", \"CA\", \"Nottingham, England\", \"Iraq|Afghanistan| RSA |Baghdad\", \"London UK\", \"Vancouver, British Columbia\", \"Manhattan, NY\", \"ARGENTINA\", \"Hong Kong\", \"New Orleans ,Louisiana\", \"Glasgow\", \"Arizona\", \"Baltimore, MD\", \"Perth, Western Australia\", \"New York, New York\", \"HTX\", \"Chicago, Illinois\", \"Vietnam\", \"Does it really matter!\", \"Venezuela\", \"Istanbul\", \"Georgia, USA\", \"Greensboro, North Carolina\", \"CA physically- Boston Strong?\", \"DC\", \"Arizona \", \"Lagos Nigeria\", \"anzio,italy\", \"GLOBAL\", \"Location\", \"Norway\", \"Swaning Around\", \"Cleveland, OH - San Diego, CA\", \"Ontario Canada\", \"Pittsburgh\", \"Paris\", \"Melbourne Australia\", \"Ukraine\", \"Roaming around the world\", \"World Wide Web\", \"Boston MA\", \"Mackay, QLD, Australia\", \"Chile\", \"Manchester, UK\", \"Leesburg, FL\", \"va\", \"Winnipeg, Manitoba\", \"Manchester, NH\", \"Moscow\", \"Alaska\", \"Fresno, CA\", \"Alexandria, VA\", \"Silver Spring, MD\", \"Mo.City\", \"EIC\", \"Gold Coast, Australia\", \"Odawara, Japan\", \"Bangalore, India\", \"mumbai\", \"Breaking News\", \"107-18 79TH STREET\", \"Unknown\", \"Live On Webcam\", \"Wales\", \"Michigan, USA\", \"Silicon Valley\", \"world\", \"Phoenix\", \"Here.\", \"Derby\", \"434\", \"Brisbane\", \"Mumbai , India\", \"19.600858, -99.047821\", \"West\", \"El Dorado, Arkansas\", \"somewhere USA \", \"Berlin, Germany\", \"Melbourne, Victoria\", \"Global-NoLocation\", \"Toronto, Canada\", \"Renfrew, Scotland\", \"Orange County, California\", \"Dubai\", \"EastCarolina\", \"Rocky Mountains\", \"Dundee\", \"???  Dreamz\", \"Jerusalem\", \"Muntinlupa City, Philippines\", \"Houston TX\", \"Above the snake line - #YoNews\", \"Pretoria\", \"Manila, Philippines\", \"San Antonio, TX\", \"St Charles, MD\", \"Victoria, Australia, Earth\", \"Wilmington, NC\", \"Madison, GA\", \"Israel\", \"Kent\", \"Charlotte NC\", \"England, United Kingdom\", \"Niagara Falls, Ontario\", \"Kashmir!\", \"everywhere\", \"Erie, PA\", \"Louisiana\", \"Instagram - @heyimginog \", \"Hackney, London\", \"Somalia\", \"tx\", \"New Hanover County, NC\", \"Heaven\", \"#HarleyChick#PJNT#RunBenRun\", \"Portugal\", \"Bakersfield, California\", \"Liverpool\", \"Ewa Beach, HI\", \"Lincoln, NE\", \"ph\", \"Dime's Palace\", \"Trinidad & Tobago\", \"Moncton, New Brunswick\", \"Sand springs oklahoma\", \"Berlin - Germany\", \"Washington, USA\", \"Palo Alto, California\", \"New York \", \"Scotland, United Kingdom\", \"Newcastle Upon Tyne, England\", \"Macon, GA\", \"Glasgow, Scotland\", \"USA (Formerly @usNOAAgov)\", \"New Delhi, Delhi\", \"302\", \"Lisbon, Portugal\", \"Yogya Berhati Nyaman\", \"Reddit \", \"Trinidad and Tobago\", \"Jakarta\", \"Ohio, USA\", \"Halifax\", \"New England\", \"Honduras\", \"TX\", \"texas\", \"Na:tinixw / Hoopa, Berkeley\", \"Sarasota, FL\", \"Charlotte\", \"Roanoke, VA\", \"Portland, Ore. \", \"Selma2Oakland\", \"SWMO\", \"Connecticut\", \"vancouver usa\", \"Bournemouth\", \"Washington, DC & Charlotte, NC\", \"To The Right of You!\", \"Houston\", \"Thailand\", \"Blackpool\", \"U.K.\", \"Durham, NC\", \"Riyadh\", \"Dallas Fort-Worth\", \"Philadelphia, PA \", \"\\u00cc\\u00cfT: 10.614817868480726,12.195582811791382\", \"online \", \"Cumming, GA\", \"Los Angeles \", \"Somewhere in the Canada\", \"New Zealand\", \"Bronx NY\", \"los angeles, ca\", \"Gainesville, FL\", \"In the potters hands\", \"Spare 'Oom\", \"Bandung\", \"Decatur, GA\", \"Karachi, Pakistan\", \"Helsinki\", \"Orlando, Fl\", \"Belgium\", \"Olympia, WA\", \"Buenos Aires, Argentina\", \"dallas\", \"Miami, FL\", \"617-BTOWN-BEATDOWN\", \"Detroit\", \"Palo Alto, CA\", \"Huntsville, AL\", \"Santa Cruz, CA\", \"Kolkata\", \"? \", \"Vancouver BC\", \"Kingston, Jamaica\", \"Suplex City\", \"Incognito\", \"Costa Rica\", \"South Stand\", \"Ottawa, Canada\", \"Dublin City, Ireland\", \"Boise, Idaho\", \"Cherry Creek Denver CO\", \"rome\", \"Buenos Aires\", \"San Diego California 92101\", \"http://www.amazon.com/dp/B00HR\", \"NIGERIA\", \"Alabama\", \"Jupiter\", \"Washington State\", \"Newark, NJ\", \"Adelaide, South Australia\", \"A little house in the outback.\", \"Dubai, UAE\", \"In Hell\", \"Auckland, New Zealand\", \"Europe\", \"Epic City, BB.\", \"Maldives\", \"Spokane, WA\", \"the insane asylum. \", \"New Delhi, India\", \"The Universe\", \"Columbia, SC\", \"San Jose, California\", \"Desde Republica Argentina\", \"Sydney Australia\", \"they/them \", \"Washington\", \"Detroit, MI\", \"SF Bay Area\", \" Queensland, Australia\", \"WA State\", \"United States of America\", \"Minna, Nigeria\", \"Mongolia\", \"The American Wasteland (MV)\", \"????\", \"Street of Dallas\", \"140920-21 & 150718-19 BEIJING\", \"Colombia\", \"Baton Rouge, LA\", \"Yamaku Academy, Class 3-4\", \"Rock Hill, SC\", \"Baltimore\", \"Columbus\", \"Evanston, IL\", \"hell\", \"Bukittinggi  ?? Sumatera Barat\", \"scandinavia\", \"Federal Capital Territory\", \"Philadelphia\", \"Enfield, UK\", \"Eldoret, kenya\", \"Ashburn, VA\", \"Oakland\", \"Budapest, Hungary\", \"Accra,Ghana\", \"West Virginia, USA\", \"Auckland\", \"Macclesfield\", \"Korea\", \"Knoxville, TN\", \"Mesa, AZ\", \"REPUBLICA DOMINICANA\", \"Your screen\", \"far away\", \"NC\", \"Lyallpur, Pakistan\", \"Redding, California, USA\", \"Somewhere Only We Know ?\", \"S\\u00cc\\u00a3o Paulo\", \"St Paul, MN\", \"Chevy Chase, MD\", \"New Sweden\", \"Winnipeg\", \"Jersey - C.I\", \"Lizzy's Knee\", \"Mentor OH\", \"#EngleWood CHICAGO \", \"the road to success\", \"Somewhere else...\", \"Frisco, TX\", \"Nigeria, Global\", \"illinois. united state \", \"L'Enfant Plaza Metro Station\", \"... -.- -.--\", \"trapped in America\", \"Tring \", \"Florida but I wanna be n Texas\", \"lesa * she/her\", \"Orlando\", \"Tema,Accra\", \"NY Capital District\", \"high way 99\", \"Peru\", \"Greenpoint, Brooklyn\", \"Docker container\", \"Saint Lucia\", \"ohio\", \"Chicago - Lake Buena Vista\", \"Hinterestland\", \"Fruit Bowl\", \"Midwest City, OK\", \"WASHINGTON,DC\", \"maryland\", \"Adventuring in Narnia\", \"Hearts & Minds\", \"The land of New Jersey. \", \"Sydney & Worldwide\", \"North-East Region, Singapore\", \"new york, ny\", \"Boston/Montreal \", \"Okuma Town, Fukushima\", \"San Francisco , CA\", \"West Lancashire, UK.\", \"Blackpool, England, UK.\", \"Lincoln City Oregon\", \"Virgo Supercluster\", \"Nashua NH\", \"Quincy MA\", \"Amarillo\", \"Top Secret\", \"NIFC\", \"Geneva. And beyond. \", \"Gold Coast\", \"ELVY\", \"\\u00cc\\u00cfT: 35.223347,-80.827834\", \"S\\u00cc\\u00a3o Paulo SP,  Brasil\", \"Geneva, Switzerland\", \"Behind The Obama Curtain\", \"Bloomington, Indiana\", \"Otsego, MI\", \"mainly California\", \"Phoenix Az\", \"The TARDIS\", \"Your notifications\", \"Nicoma Park, OK\", \"3000 miles from everyone\", \"where I'm supposed to be\", \"Honolulu, Hawaii\", \"Funtua, Nigeria\", \"Varies \", \"WestEnd, Puritan Ave \", \"05/04/2014 18:23 ?\", \"Visit our  dedicated website @\", \"Gurgaon, Haryana. \", \"In the middle of no where\", \"IN our hearts  Earth Global \", \"www.twitch.tv/PKSparkxx\", \"Free State, South Africa\", \"#expelcl*y\", \"Detroit, Michigan\", \" ?currently writing a book?\", \"Ylisse\", \"Chester Football Club\", \"?Gangsta OC / MV RP; 18+.?\", \"CAMARILLO, CA\", \"Groningen, Netherlands, Europe\", \"Nevada (wishing for Colorado)\", \"NYC,US - Cali, Colombia\", \"Hemel Hempstead\", \"Sacramento, California\", \"Peterborough, Ont.\", \"Giddy, Greenland\", \"Somewhere \", \"Walker County, Alabama\", \"Houston,  TX\", \"Bronx NYC / M-City NY\", \"Bug Forest\", \"GCC\", \"somewhere over a rainbow\", \"w. Nykae \", \"Earth \", \"UK & Ibiza\", \"California or Colorado\", \"The Low-Cal Calzone Zone\", \"AUSTRALIA-SOUTHAFRICA-CAMBODIA\", \"Livonia, MI\", \"Aveiro, Portugal\", \"Aix-en-Provence/Utrecht\", \"La Grange Park, IL\", \"709?\", \"Where ever i please\", \"Overland Park, KS\", \"Brazos Valley, Texas\", \"England \", \"Hogwarts\", \"Highland Park, CA\", \"Yadkinville, NC\", \"austin tx\", \"Arlington, VA and DC\", \"The D\", \"Tulsa, OK\", \"Thailand Malaysia Indonesia \", \"Henderson, Nevada\", \"36 & 38\", \"?? Cloud Mafia ??\", \"Gloucester, MA\", \"Madisonville TN\", \"Wrigley Field\", \"Earth: Senseless nonsense\", \"Very SW CA, USA....Draenor\", \"Harlem, New York\", \"access to njh/5 and cth/4\", \"Innerhalb der L\\u00cc_cke\", \"ny\", \"oxford\", \"St. Catharines, Ontario\", \"Durban, South Africa\", \"Ad Majorem Dei Glorium\", \"Novi, MI\", \"Downtown Churubusco, Indiana\", \"West Africa\", \"Frostburg\", \"but i love kaylen ??\", \"labuan, malaysia\", \"Liberty Township, Ohio\", \"Definitely NOT the stables\", \"Helsinki, Finland\", \"Baker City Oregon\", \"www.tmgcgart.com\", \"Avon\", \"satan's colon\", \"Fredonia,NY\", \"City of Angels, CA\", \"southwest, Tx\", \"St. Louis Mo.\", \"Hamilton, Ontario Canada\", \"316\", \"Vancouver, Colombie-Britannique\", \"Massachusetts \", \"Orbost, Victoria, Australia\", \"Rural Northern Nevada\", \"Las Vegas, NV USA\", \"Hawthorne, NE\", \"Manila City\", \"sneaking glances at Thancred\", \"Columbus ?? North Carolina\", \"Lansdale,Pennsylvania\", \"Cleveland, Ohio\", \"Unknown \", \"Georgia, U.S.A.\", \"we?it \\u0089\\u00db\\u00a2 ixwin\", \"Sligo and Galway, Ireland\", \"Forging my Story\", \"Okanagan Valley, BC\", \"Sanganer, Rajasthan\", \"IM LOST \", \"Oneonta, NY/ Staten Island, NY\", \"Riverside, CA\", \"Welt\", \"Ktx\", \"scumbernauld\", \"Louisiana, USA\", \"Charleston, WV\", \"Rochester Hills, MI\", \"Tennessee, USA\", \"texasss\", \"San Jose, CA, USA\", \"Sumter, SC\", \"Cimahi,West Java,Indonesia\", \"Rocketing through the galaxy\", \"Vilnius\", \"Mackem in Bolton\", \"instagram: bribriony\", \"Chicago, Il\", \"Hamilton County, IN\", \"WorldWideWeb\", \"Sunrise Manor, NV\", \"Wildomar, CA\", \"ca(NADA) \", \"@ ForSL/RP\", \"Sicamous, British Columbia\", \"Valparaiso \", \"Bon Temps Louisiana\", \"russia\", \"us\", \"South Carolina\", \"The Weird Part of Wonderland\", \"Tamworth\", \"Tallahassee, FL\", \"Utah, USA\", \"btwn a rock and a hard place\", \"PA, USA\", \"Russia\", \"52.479722, 62.184971\", \"Regalo Island\", \" |IG: imaginedragoner\", \"sitting on Eddie Vedders lap,\", \"Based in CA - Serve Nationwide\", \"eating strawberry shitsickles\", \"In Your Notifications \", \"the void, U.S.A\", \"Lynchburg, VA\", \"Jacksonville, FL\", \"Mumbai india\", \"??+ ... ??+\", \"in my head\", \"JamDung\", \"Fort Walton Beach, Fl\", \"Huntington, WV\", \"iamdigitalent.com\", \"los angeles\", \"956\", \"Missouri, USA\", \"CLT\", \"Northampton, MA\", \"STL ?NOLA\", \"IDN\", \"#Gladiator \\u0089\\u00db\\u00a2860\\u0089\\u00db\\u00a2757\\u0089\\u00db\\u00a2\", \"Narnia, Maryland\", \"North East / Middlesbrough \", \"1D | 5SOS | AG\", \"LITTLETON, CO, USA, TERRAN\", \"West Coast, USA\", \"Whole World \", \"Hueco Mundo\", \"PDX\", \"Brooklyn\", \"NYC&NJ\", \"United States where it's warm\", \"Miami via Lima\", \"Surulere Lagos,Home Of Swagg\", \"DC Metro area\", \"guaravitas\", \"204, 555 11 Ave. S.W.\", \"Pon Di Gully\", \"Conversing In Janet's Caf\\u00cc\\u00ac\", \"ARBAILO\", \"Brazil \", \"St Louis, MO\", \" Quantico Marine Base, VA.\", \"Football Field\", \"glasgow\", \"LiVE M\\u00cc\\u0081S\", \"phuket thailand\", \"Havenford\", \"Hollywood\", \"Vancouver Canada\", \"Amsterdam\", \" Nevada Carson City,Freeman St\", \"Patra-Greece.\", \"New York ? ATL\", \"london / st catharines ?\", \"global\", \"I O W A\", \"Coasts of Maine & California\", \"Lehigh Valley, PA\", \"Crato - CE \", \"In my own world!!!\", \"PA.USA\", \"Portoviejo-Manabi-Ecuador\", \"manchester, uk.\", \"New York City, NY\", \"Every where\", \"West Chester, PA\", \"City Of Joy\", \"a feminist, modernist hag.\", \"Palestine \", \"Houma La\", \"$ad $hawty\", \"Nadiad ,Gujarat , India!!\", \"Seattle native in Prescott, AZ\", \"ATL ? SEA \", \"ayr\", \"Adventist - Lesson Sabbath\", \"Inside your webcam. Stop that.\", \"emily | helen | shelley \", \"Bucharest\", \"lagos. Unilag\", \"Some Where in this World\", \"Hell\", \"Killarney\", \"Near Yosemite\", \"Corpus Christi, Texas\", \"NAIROBI  KENYA \", \"WESTSIDE OF PHILLY 7? BLOCK??\", \"Lurking\", \"The Triskelion\", \"Tyler, TX\", \"taco bell\", \"#UNITE THE BLUE  \", \"2005 |-/\", \"they/them\", \"Watertown, Mass.\", \"??? ??? ????? ??? ???.\", \"lakewood colorado\", \"Amsterdam & Worldwide\", \"Rotterdam, Zuid-Holland\", \"the moon\", \"perth, australia \", \"?semekeepschanging@soyeh?\", \"Im In Route \", \"The windy plains of Denver\", \"Bacon\", \"SOUTHERN CALIFORNIA DESERT\", \"Shirley, NY\", \"Reading a romance novel\", \"EGYPT\", \"Soufside\", \"Fort Fizz, Ohio\", \"Maryland \", \"somewhere in Indiana \", \"Here & There\", \"Vidalia GA\", \"Palermo, Sicily\", \"Somewhere\", \"SD |Norway| KSA\", \"Paname City\", \"London / Berlin / Online\", \"Calgary,AB, Canada\", \"5-Feb\", \"???????????\", \"Miami,FL\", \"Bridport, England\", \"Miami Beach, Fl\", \"The dark\", \"73101\", \"Poplar, London\", \"PS4, now stop asking\", \"650/559\", \"Greensboro, NC\", \"Edappally,Kochi\", \"US, PA\", \"IUPUI '19\", \"Frankfort, KY\", \"Ames, Iowa\", \"#BlackLivesMatter\", \"Passamaquoddy\", \"Uyo, Akwa Ibom State, Nigeria\", \"Columbia Heights, MN\", \"Espoo, Finland\", \"Eagle Pass, Texas\", \"Reston, VA, USA\", \"brisbane, australia\", \"One World\", \"In #Fairie, where else? ;-)\", \"rowyso dallas \", \"East Kilbride\", \"Slatina,Romania\", \"honeymoon avenue\", \"Santa Maria, CA\", \"Dorset, UK\", \"?? Made in the Philippines ??\", \"kenya\", \"627\", \"The Sanctuary Network, Rome\", \"London, United Kingdom\", \"Norman, Oklahoma\", \"Morris, IL\", \"Jersey City, New Jersey\", \"East Islip, NY\", \"The Shady Hyenatown of Finland\", \"bangalore\", \"New Your\", \"Kingswinford\", \"sindria\", \"11/4/14\", \"NYC / International\", \"New Jersey/ D.R.\", \"New Britain, CT\", \"nap central\", \"East Atlanta, Georgia\", \"  Glasgow \", \"Denton, Texas\", \"Intramuros, Manila\", \"Downtown Oklahoma City\", \"Ikorodu\", \"#PhanTrash\", \"southern california\", \"Darlington\", \"seattle grace mercy death\", \"Eastlake, OH\", \"\\u00e5\\u00f8\\\\_(?)_/\\u00e5\\u00f8\", \"Washington state\", \"Mpela'zwe \", \"#937??#734\", \"xiumin's nonexistent solos\", \"Polmont \", \"Slappin and Smackin \", \"san gabriel la union\", \"Nigeria, WORLDWIDE\", \"Londonstan\", \"Aix-en-Provence, France\", \"Columbus, Georgia\", \"Pocatello, Idaho\", \"Gloucestershire , UK\", \"Someday I'll live in England. \", \"Some where\", \"Hamilton, Ontario CA\", \"RhodeIsland\", \"Earth, Milky Way, Universe\", \"Nomad, USA\", \"Milton Keynes \", \"peshawar pakistan \", \"Cape Cod\", \"toronto \\u0089\\u00db\\u00a2 dallas\", \"Long Island, NY\", \"Tampa\", \"?205?478?\", \"Rapid City, South Dakota\", \"Baydestrian\", \"timeline kamu\", \"North Cack/919\", \"Kamloops, BC\", \"Pontefract UK\", \"Beit El - Israel\", \"NYHC\", \"Sale, England\", \"i'm a Citizen of the World\", \"Palm Desert, CA\", \"W.I.T.S Academy\", \"philly \", \"NEPA/570\", \"Kyiv, Ukraine\", \"Melbourne, Florida\", \"Rock Springs, WY\", \"St.Cloud, MN\", \"INDIA\", \"Neath, South Wales\", \"YA MOTHA BED\", \"Pleasanton, CA\", \"@notoriousD12\", \"Arkansas\", \"University of Toronto\", \"On a beach \", \"cleveland, oh\", \"Fort Knox, KY 40121\", \"Anywhere\", \"Sharkatraz/Bindle's Cleft, PA\", \"South africa\", \"-6.152261,106.775995\", \"followurDREAMS(& my instagram)\", \"Minneapolis - St. Paul\", \"Roanoke VA\", \"a van down by the river\", \"Pakistan, Islamabad\", \"calgary,ab\", \"Fort Valley,GA/Fayetteville,AR\", \"PG County, MD\", \"The Internet\", \"Torrance, CA\", \"Bronx, New York\", \"Greenville\", \"Stalybridge, Tameside\", \"Oslo, Norway\", \"MIchigan\", \"livin life in the 610\", \"Chicago Area\", \"\\u00cc\\u00cfT: 19.123127,72.825133\", \"justin & ari follow || tvd\", \"USA/SO FLORIDA via BROOKLYN NY\", \"Numenor\", \"Somewhere with Clyde\", \"Rochelle, GA\", \"Vero Beach , FL\", \"CHICAGO\", \"Bayonne, NJ\", \"Conroe, TX\", \"Milton Keynes, England\", \" Neverland \", \"Corpus - Las Vegas - Houston\", \"|-/\", \"Denver Colorado. Fun Times\", \"Charleston, SC\", \"You're not 19 forever   \", \"pittsboro\", \"Upper manhattan, New York\", \"mpls. \", \"MNL\", \"Indiana, USA\", \"chillin at ceder rapids\", \"neil's kitchen  |  32215\", \"Wailuku, Maui\", \"3rd Eye Chakra\", \"England.\", \"Pro-American and Anti-#Occupy\", \"Dudetown\", \"Daruka (near Tamworth) NSW\", \"Littleton, CO, USA\", \"he/him or she/her (ask)\", \"Use #TMW in tweets get #RT\", \"BKI-KUA\", \"MAURITIUS\", \"Fort Myers, Florida\", \"Williamsbridge, Bronx, New Yor\", \"Boulder, CO\", \"Greensburg, PA\", \"Orange County, CA\", \"Jaipur, India\", \"port matilda pa\", \"Lahore\", \"Proudly Canadian!\", \"Cymru araul\", \"CHICAGO (312)\", \"Cairo, Egypt.\", \"??9?\", \"Shipwreck Cove\", \"Hustletown\", \"Melbourne, Australia.\", \"leyland\", \"New York, United States\", \"British girl in Texas\", \"california | oregon | peru |\", \"Whippany, NJ\", \"Cairo, Egypt\", \"Nowhere Islands/Smash Manor\", \"i luv raquel\", \"Kansas City, Mo.\", \"Online 24/7. Not even kidding.\", \"Bangkok Thailand\", \"Detroit Tigers Dugout\", \"Cuernavaca, Morelos, M\\u00cc\\u00a9xico.\", \"denver colorado\", \"IRAQ\", \"Queensland\", \"Haiku, Maui, Hawaii\", \"District 12 - Orange County\", \"L/S/Z/L/T/H/C/H/R/A/S/C\", \"Charlottetown\", \"District of Gentrification/ DC\", \"Playa del Carmen, Mexico\", \"on the go\", \"The World\", \"Ogba, Lagos, Nigeria\", \"Toledo, OH\", \"M\\u00cc\\u00a9xico D.F.\", \"Las Cruces, NM\", \" New England\", \"somewhere outside\", \"Athens,Greece\", \"Studio\", \"Tucson, Az\", \"Pratt-on-Wye\", \"Royton\", \"Horsemind, MI\", \"?????? ???? ??????\", \"302???? 815\", \"Thane\", \"Inside your mind.\", \"Two Up Two Down\", \"Tips on my blog at\", \"West Palm Beach, Florida\", \"Fort Collins, CO\", \"Philadelphia, PA USA\", \"Alicante, Valencia\", \"S\\u00cc\\u00a3o Paulo, Brasil\", \"Freeport il \", \"Joshua Tree, CA\", \"hey Georgia\", \"Weston super mare\", \"Cardiff, Wales\", \"Kuala Lumpur, Malaysia\", \"T E X A S | wwat 8.24.14\", \"Stamford & Cork (& Shropshire)\", \"Ames, IA\", \"401 livin'\", \"Spokane, Washington 99206\", \"Sunshine Coast, Queensland\", \"Honeymoon \\u00cc\\u00a3ve.\", \"Ebola\", \"Afghanistan\", \"Cambridge, MA\", \"Lancashire, United Kingdom\", \"Rafael castillo\", \"London/Surrey \", \"Hamilton, ON\", \"Kolkata, India\", \"Eau Claire, Wisconsin\", \"A small federal enclave\", \"Dagenham, Essex\", \"The green and pleasant land.\", \"Erbil\", \"Higher Places\", \"Nirvana\", \"turner fenton\", \"hatena bookmark\", \"Planet of da Bathing Apes\", \"Winnipeg, MB, Canada\", \"Memphis,TN/ World Wide\", \"Menasha, WI\", \"Cavite, Philippines\", \"U.S.\", \"Mid West\", \"94123\", \"DFW, Texas\", \"Dublin\", \"Montana, USA\", \"South Asia\", \"England & Wales Border, UK\", \"Inside the Beltway (DC Area)\", \"mexico\", \"Charlotte \", \"North Jersey\", \"Lincoln\", \"Philadelphia, Pennsylvania USA\", \"Frome, Somerset, England\", \"Raleigh (Garner/Cleveland) NC\", \"Warri\", \"Leeds, U.K.\", \"St PetersburgFL\", \"Black Canyon New River, AZ\", \"Peoria\", \"On the court \", \"New Chicago\", \"Wood Buffalo, Alberta\", \"New York NYC\", \"ducked off . . . \", \"Northern Kentucky, USA\", \"Kalamazoo, Michigan\", \"Not where I want to be, yet\", \"Vista, CA\", \"BROKE NIGGAS DREAM!!\", \"Shrewsbury\", \"Yooooooo\", \"NJ/NY/NM/NE/ND\", \"Wiltshire\", \"Camaqu\\u00cc\\u00a3/Pelotas\", \"Vancouver, BC.\", \"DMV\", \"Tipperary (Long Way) \", \"Birmingham & Bristol\", \"Made Here In Detroit \", \"Dalston, Hackney\", \"Bandar Lampung, Indonesia\", \"beijing .China\", \"Louisville, KY \", \"Mooseknuckle, Maine\", \"Melton, GA\", \"Ciudad Aut\\u00cc_noma de Buenos Aires, Argentina\", \"The Hammock, FL, USA\", \"Afghanistan, USA\", \"Peshawar\", \"The P (South Philly)\", \"Garrett\", \"Holland MI via Houston, CLE\", \"London/Bristol/Guildford\", \"Yobe State\", \" Indiana\", \"2B Hindhede Rd, Singapore\", \"Austin | San Diego\", \"MA via PA\", \"Doghouse\", \"Fort Calhoun, NE\", \"Thornton  Colorado\", \"a botanical garden probably\", \"Guayaquil\", \"Zero Branco\", \"bahstun/porta reeko\", \"on a catwalk somewhere\", \"Storybrooke \", \"Sandton, South Africa\", \"Corpus Christi\", \"Atlanta(ish), GA\", \"????? ???? ????\", \"??????????? ???????????..? \", \"elizabeth king\", \"SEC Country\", \"Somewhere Around You\", \"New York 2099\", \"\\u00cc\\u00cfT: 1.50225,103.742992\", \"qosqo\", \"Score Team Goals Buying @\", \"nor*cal\", \" Jariana Town\", \"eritrean\", \"lowestoft\", \" 45\\u00e5\\u00a1 5'12.53N   14\\u00e5\\u00a1 7'24.93E\", \"seattle wa\", \"Ocean City, NJ\", \"Your Six\", \"IN\", \"Dalkeith, Scotland\", \"Wild Wild Web\", \"mind ya business\", \"Timaru District, New Zealand\", \"Espa\\u00cc\\u00b1a - Spain - Espagne\", \"BrowardCounty // Florida \", \"Slateport City, Hoenn\", \"\\u00cc\\u00f8\\u00e5\\u00c0\\u00e5_T: 40.736324,-73.990062\", \"Malang\", \"Hawaii USA\", \"Gainesville/Tampa, FL\", \"nigeria\", \"Cascadia\", \"DC, frequently NYC/San Diego\", \"Sioux Falls, S.D. \", \"Campinas Sp\", \"GrC Founder, 8,000 Subscribers\", \"On the toilet having a dump \", \"The Desert of the Real\", \"The barn\", \"Sioux Falls, SD\", \"The Canopy Kingdom\", \"Charleston, IL\", \"Mexico City\", \"Beirut, Lebanon\", \"sisterhood\", \"LA/OC/Vegas\", \"Islamabad\", \"Uganda\", \"The Desert\", \"Sunbury, Ohio\", \"Oxford, MS\", \"Lawrence, KS via Emporia, KS\", \"Atlanta - FAU class of '18\", \"Buffalo NY\", \"The Jewfnited State\", \"Bremerton, WA\", \"Concord, CA\", \"Cloud 9\", \"Former Yugoslav Republic of Macedonia\", \"Victoria, BC  Canada\", \"liverpool \", \"M\\u00cc\\u00a9xico\", \"laying on the bass\", \"Texas \", \"Caserta-Roma, Italy \", \"USA , AZ\", \"Espa\\u00cc\\u00b1a, Spain\", \"Serva Fidem\", \"aggressive cannoli eater \", \"Tulalip, Washington\", \"Alexandria, VA, USA\", \"Anaheim\", \"Swag Francisco\", \"Halfrica\", \"Hendersonville, NC\", \"Duncan\", \"Cosmic Oneness\", \"philly\", \"Medford, Oregon\", \"Spring Tx\", \"Warrandyte, Australia\", \"Elizabeth, NJ\", \"somewhere in cali \", \"Porto Alegre, Rio Grande do Sul\", \"Edinburgh, Scotland\", \"Devon/London \", \"i love the smurfs 2\", \"beacon hills \", \"Njoro, Kenya\", \"Goa, India\", \"Catskills\", \"Somewhere out there\", \" snapchat // fvck_casper \", \"PROV\", \"Madison, Wisconsin, USA\", \"EVERYWHERE\", \"Xi'an, China\", \"CT, USA\", \"Brighton and Hove\", \"( ?\\u00e5\\u00a1 ?? ?\\u00e5\\u00a1), \", \"Gages Lake, IL\", \"cyprus\", \"Burbank,CA\", \"In your mind\", \"New York, NY \", \"North Ferriby, East Yorkshire\", \"Henderson, NV\", \" Nxgerxa\", \"Norwich\", \"Arthas US\", \"austin, texas\", \"Texas-USA\\u0089\\u00e3\\u00a2 ?\", \"Instagram: trillrebel_\", \"Pluto\", \"Realville\", \"#SandraBland\", \"Uruguay / Westeros / Gallifrey\", \"Somewhere Powerbraking A Chevy\", \"In a graveyard \", \"PH\", \"Saltillo, Coahuila de Zaragoza\", \"Kodiak, AK\", \"Nebraska, Colorado & The GLOBE\", \"#RedSoxNation\", \"The Internet & NYC\", \"Official Website\", \"Tafekop Ga-Matsepe\", \"\\u00cc\\u00cfT: -26.695807,27.837865\", \"Chicago, but Philly is home\", \"Estados Unidos\", \"Philippines \", \"ATL, GA\", \"Watch Those Videos -\", \"Earth-616\", \"The Windy City\", \"South, England\", \"walking the tightrope\", \"Pelham, AL\", \"Croydon\", \"#Bummerville otw\", \"261 5th Avenue New York, NY \", \"Macon, Georgia\", \"Australia \", \"Chicago, IL 60607\", \"Alicante, Spain\", \"Pune, mostly \", \"PARACHUTE\", \"T-Ville\", \"Mumbai, India\", \"LYNBROOK\", \"IJmuiden, The Netherlands\", \"they/her\", \"Pennsylvania, PA\", \"Emirates\", \"toronto, ontario\", \"TechFish \", \"Across the Atlantic\", \"Ikeja, Nigeria\", \"Leeds, UK\", \"Fountain Valley, CA\", \"Waco, Texas\", \"THE 6IX\", \"Gumptown\", \"dreamy lake\", \"NYC, New York\", \"Florida USA\", \"Twitterville\", \"The Circle of Life\", \"Elk Grove, CA, USA\", \"The Shire\", \"In my studio\", \"Between the worlds \", \" ? ??????? ? ( ?? \\u00e5\\u00a1 ? ? ? \\u00e5\\u00a1)\", \"call me peach or sam lo\", \"Sheffield Township, Ohio\", \"probably not home\", \"Littleton, CO\", \"Plano,TX\", \"Upstate New York\", \"County Durham, United Kingdom\", \"mnl\", \"\\u00cc\\u00cfT: 0.0,0.0\", \"South Carolina, USA\", \"Holly, MI\", \"Vancouver, Canada\", \"Lancaster, CA\", \"Charlotte County Florida\", \"Pittsburgh \", \"Bristol\", \"tri state\", \"Eugene, Oregon\", \"Srinagar,Kashmir\", \"\\u00cc\\u00cfT: 36.142163,-95.979189\", \"Richmond Heights, OH\", \"D(M)V  \", \"the Refrigerator \", \"Greeley, CO\", \"Greenville,SC\", \"Greg's place\", \"Espa\\u00cc\\u00b1a\", \"africa\", \"New York Brooklyn\", \"SEA Server\", \"10 Steps Ahead.  Cloud 9\", \"USA, WA\", \"5/5 access / rt link please x\", \"Olathe, KS\", \"Pomfret/Providence\", \"Big NorthEast Litter Box\", \"Manila\", \"Based out of Portland, Oregon\", \"Bangor, Co.Down\", \"Alameda, CA\", \"Get our App\", \"planeta H2o\", \"Robin Hood's County \", \"Maricopa, AZ\", \"Ventura\", \"Hoxton, London\", \"#GDJB #ASOT\", \"cedar rapids ia\", \"Live4Heed??\", \"518\", \"New Delhi,India\", \"Minority Privilege, USA\", \"Glendale, CA\", \"Cyprus\", \"Kalimantan Timur, Indonesia\", \"3?3?7?SLOPelousas??2?2?5?\", \"#ODU\", \"Pittsburgh PA\", \"An eight-sided polygon\", \"Antarctica\", \"Itirapina, S\\u00cc\\u00a3o Paulo\", \"\\u00cc\\u00cfT: 6.488400524109015,3.352798039832285\", \"Victoria, Canada\", \"Tucson, Arizona \", \"Murray Hill, New Jersey\", \"Books Published, USA\", \"Surrey & Manchester\", \"The South & WestCoast \", \"Antioch, CA \", \"Saint Paul\", \"New South Wales, Australia\", \"Belgrade\", \"Chiswick, London\", \"Bay Area, CA\", \"Loveland Colorado\", \"Griffin :3\", \"Mountains\", \"on twitter\", \"Pueblo, CO\", \"the burrow\", \"Mostly Yuin.\", \"twitch.tv/naturalemblem26\", \"21 | PNW\", \"music.\", \"Live m\\u00cc\\u00c1s\", \"Hame\", \"In My Lab Creating \", \"Antigua ?? NYC \", \"Mankato, MN\", \"Alberta Pack\", \"Fresno, California\", \"Some other mansion\", \"College Station, TX\", \"Jerusalem, Israel\", \"? Philly Baby ?\", \"central chazifornia\", \"Kingston, Pennsylvania\", \"Halton Region\", \"ATLANTA , GEORGIA \", \"Charlotte, North Carolina\", \"Laredo, TX\", \"San Diego, California\", \"Huber Heights, OH\", \"pissing off antis\", \"rzl ?\", \"Washington, DC NATIVE\", \"Carol Stream, Illinois\", \"D\\u00cc_sseldorf, Germany\", \"God is Love. \", \"Bhopal, Madhya Pradesh, India.\", \"Santiago de Chile\", \"Bod\\u00cc\\u00fc, Norge\", \"Honolulu,Hawaii \", \"Sugar Land, TX\", \"Spain\", \"Los Angeles New York\", \"Amazon Seller , Propagandist\", \"The Pig Sty\", \"Killafornia made me \", \"Paranaque City\", \"Here, unless there.  \", \"Hospital, bc of SKH vid.\", \"AFRICA\", \"Miami,Fla\", \"moss chamber b\", \"statesboro/vidalia\", \"sri lanka\", \"Alvin, TX\", \"\\u0081\\u00cawagger!\\u00cc\\u0090ominican\\u00cc\\u00f7\", \"Port Williams NS\", \"In @4SkinChan 's arms\", \"Manhattan\", \"Kilkenny\", \"Surabaya\", \"Halton, Ontario\", \"Chicopee MA\", \"#BossNation!\", \"Lytham St Anne's \", \"Soul Somalia/Body Montreal\", \"The Great State of Texas\", \"Co. Tyrone Northern Ireland\", \"Hatteras, North Carolina\", \"TV5, Philippines\", \"Banbridge\", \"potters bar\", \"????s ?? ????\\u00cc\\u00f8????\\u00cc\\u00a1a\", \"Beautiful British Columbia\", \"Notts\", \"Asgard\", \"Pacific Northwest\", \"she/her/your majesty/empress\", \"NEWCASTLE\", \"Mount Vernon, NY\", \"cognitive dissonance town\", \"Ontario\", \"In the Shadows\", \"New Jersey, USA\", \"Pembroke NH\", \"Inang Pamantasan\", \"Rheinbach / Germany\", \"LIVERPOOL\", \"Abuja, Nigeria\", \"Sheff/Bangor/Salamanca/Madrid\", \"Charlotte, NC | K\\u00cc\\u00a6ln, NRW\", \"Near Warrington\", \"St Austell, Cornwall\", \"North Hastings Ontario\", \"Queensland, Australia\", \"Annapolis, MD\", \"Hermitage, PA\", \"VISIT MY YOUTUBE CHANNEL.\", \"i got 1/13 menpa replies, omg\", \"Nunya\", \"18 | 509 \", \"planet earth\", \"BestCoast\", \"Saint Louis, Missouri\", \"Wasington, DC\", \"At Work\", \"Derry, 17 \", \"'Merica\", \"Rapid City, Black Hills, SD\", \"alberta, canada\", \"Pueblo, Colorado\", \"Wilmington, DE\", \"Newcastle upon Tyne\", \"PURPLE BOOTH STUDIO\\u0089\\u00e3\\u00a2\", \"khartoum sudan\", \"Sheffield/Leeds\", \"Gameday\", \"Duval, WV 25573, USA ?\", \"Fort Worth, Texas\", \"Fairy Tail! \", \"Blogland\", \"Redondo Beach, CA\", \"Birmingham, United Kingdom\", \"Harlingen, TX\", \"shoujo hell \", \"Overton NV\", \"America | New Zealand \", \"17th Dimension\", \"M!$$!$$!PP!\", \"Boston, Massachusetts\", \"Bartholomew County, Indiana\", \"Aro Diaspora\", \"Wellington\", \"h+l\", \"Durand, MI\", \"Huntsville AL\", \"Bagalkote Karnataka \", \"Moore, OK\", \"Northern Colorado\", \"\\u00e5_\\u00e5_Los Mina City\\u0089\\u00e3\\u00a2\", \"ColoRADo\", \"Planet Eyal, Shandral System\", \"Vancouver, BC, Canada\", \"dope show\", \"Wrex\", \"Grimsby, England\", \"on twitter \", \"Belleville, Illinois\", \"icon: cheese3d\", \"New Jersey \", \"Fort Wayne, IN\", \"|| c h i c a g o ||\", \"PG Chillin!\", \"The Memesphere\", \"Terlingua, Texas\", \"louisville, kentucky\", \"Thibodaux, LA\", \"Eaubonne, 95, France\", \" Somewhere.\", \"Kwara, Nigeria\", \"Chester, IL\", \"buffalo / madrid / granada\", \"World Wide!!\", \"London/Lagos/FL \\u00cc\\u00cfT: 6.6200132,\", \"Stay Fly?\", \"Whiterun, Skyrim\", \"Harlem, NY or Chocolate City\", \"EARTH\", \"Caribbean\", \"N?? Y???.\", \"Lynwood, CA\", \"Reading UK\", \"Somewhere between here & there\", \"Ted&Qz Inc, Ireland, Europe\", \"Oklahoma\", \"San Diego, Calif.\", \"Sacae Plains\", \"labyrinthia\", \"#partsunknown\", \"Worldwide.\", \"Stateless Global Citizen\", \"La Puente, CA\", \"Essex, England\", \"don't buy the s*n\", \"The Wood\", \"Warm Heart Of Africa\", \"Pontevedra, Galicia\", \"Wonderland\\u0089\\u00db\\u00d3 ?????? ???? ??????\", \"NY, NY\", \"Arvada, CO\", \"Savage States of America\", \"Calgary, Alberta, Canada\", \"505 W. Maple, Suite 100\", \"Northern California U.S.A.\", \"Wherever I'm sent\", \" The World\", \"Palestine Texas\", \"Hollywood, CA\", \"Vancouver (HQ) and worldwide\", \"watford\", \"Chandler, AZ\", \"???????, ??'??????\", \"\\u00e5\\u00ca(?\\u0089\\u00db\\u00a2`?\\u0089\\u00db\\u00a2\\u00e5\\u00ab)??\", \"1313 W.Patrick St, Frederick\", \"Yeezy Taught Me , NV\", \"right here\", \"Tractor land aka Bristol\", \"2 high 2 come down \", \"too far\", \"Here, there and everywhere\", \"Shady Pines \", \"Bedford IN \", \"taken by piper curda\", \"ECSU16\", \"canberra\", \"H / pez & sophia \", \"No ID, No VOTE!!!\", \"West Richland, WA\", \"Lakewood, Tennessee\", \"instagram- Chloe_Bellx\", \"Los Angeles,CA, USA\", \"westwestwestwestwestwestwest\", \"m3, k, a, d\", \"Netherlands\", \"Clean World\", \"Wilbraham, MA\", \"Around the world\", \"Birmingham, UK\", \"ARIZONA\", \"West Wales\", \"Flushing, Queens\", \"Phila.\", \"Leeds\", \"?? ??\", \"The 5th Dimension. \", \"48.870833,2.399227\", \"Tarragona\", \"Bokaro Steel City, Jharkhand\", \"Layang-Layang, Perak\", \"atx\", \"St. Louis, Mo\", \"Los Angeles... CA... USA\", \"State of Dreaming\", \"Charlotte, N.C.\", \"Wisconsin, USA\", \"Lake Monticello, VA\", \"St Joseph de Beauce\", \"Palm Beach County, FL\", \"LP, MN USA\", \"Cambridge, Massachusetts\", \"Norf Carolina\", \"Cottonwood Arizona\", \"South Korea GMT+9\", \"Land of Lincoln\", \"Kentucky, USA\", \"Bloomington, IN\", \"Copenhagen, Capital Region of Denmark\", \"lost in my thoughts\", \"Johannesburg, South Africa \", \"Kuala Lumpur\", \"Ukraine and Ireland\", \"ANDY 4 LEADER X\", \"9/1/13\", \"Scottsdale, AZ\", \"Newport, Wales, UK\", \"WORLDWI$E \", \"Brum/Lestah \", \"Illinois\", \"Youngstown, OH\", \"GREENSBORO,NORTH CAROLINA\", \"Delhi\", \"lost in history\", \"Cassadaga Florida\", \"At your back\", \"#MadeInNorthumberland\", \"Dorset, United Kingdom\", \" Alberta\", \"Mostly Wellington, NZ \", \"Dundas, Ontario\", \"Medan,Indonesia\", \"nap queen\", \"italy\", \"Ely, Cambridgeshire\", \"LONG ISLAND, NY\", \"Team Slytherin\", \"Cypress, CA 90630\", \"Akure city in ondo state \", \"In Space\", \"WAISTDEEP, TX\", \"UK  & Germany\", \"Americas Newsroom\", \"South Florida\", \"Displaced Son of TEXAS!\", \"Fort Walton Beach, FL\", \"Suitland\", \"Azeroth\", \"#LemonGang \", \"Gettysburg, PA\", \"Maryland,Baltimore\", \"West Vancouver, B.C.\", \"[ kate + they/them + infp-t ]\", \"?????? in Yokohama Japan\", \"Anywhere Safe\", \"Western New York\", \"Punjab\", \"oklahoma\", \"Chicora ?? Oakland\", \"Central Illinois\", \"Reddit\", \"Leitchfield Kentucky\", \"\\u0089\\u00db\\u00a2FLG\\u0089\\u00db\\u00a2\", \"Nottingham, United Kingdom\", \"ljp/4\", \"Charter Member of the VRWC\", \"Athens, Greece\", \"Athens - Nicosia\", \"Medford, NJ\", \"North West England UK\", \"Moscow, Russia\", \"South West, England\", \"Aztec NM\", \"Tring, UK\", \"Essex/Brighton\", \"?????????????, Thailand \", \"Laventillemoorings \", \"on the web\", \"Orm\", \"Manavadar, Gujarat\", \"Bournemouth, Dorset, UK\", \"Vancouver\", \"Greater Los Angeles Bearia\", \"at my home\", \"CORNFIELDS\", \"Rhyme Or Reason?\", \"Riverside, California.\", \"\\u00cc\\u00cfT: 27.9136024,-81.6078532\", \"Davidson, NC\", \"Headed To The Top\", \"OES 4th Point. sisSTAR & TI\", \"UAE,Sharjah/ AbuDhabi\", \"Speaking the Truth in Love\", \"//RP\\\\ ot @Mort3mer\\\\\\\\\", \"kansas\", \"Nairobi, Kenya \", \"the own zone layer \", \"Fakefams\", \"probably petting an animal\", \"Ashford, Kent, United Kingdom\", \"UGA '15 Alumnus - Economics \", \"San Diego CA\", \"412 NW 5th Ave. Portland OR\", \"Newton Centre, Massachusetts\", \"cigarknub@gmail.com\", \"Wakefield, West Yorkshire\", \"Lethbridge, Alberta, Canada\", \"Ashxjonespr@gmail.com\", \"Alger-New York-San Francisco\", \"Calgary/Airdrie/RedDeer/AB\", \"ilford\", \"Roads/Trails Everywhere\", \"Santiago,Rep\\u00cc\\u00bcblica Dominicana\", \"the local dump\", \"Caracas, Venezuela.\", \"Porthcawl\", \"Madison, WI & St. Louis MO\", \"Harper Woods, MI\", \"\\u00e5_: ?? \\u00cc\\u00d1 ? : ?\", \"New Brunswick, NJ\", \"california mermaid ? \", \"LAGOS\", \"toledo\", \"Hartford, Connecticut\", \"Aberdeenshire\", \"Milton keynes\", \"Sevier County.\", \"Intermountain West\", \"The shores of Lake Kilby\", \"Santiago de Cmpostela Galicia\", \"Coventry, UK\", \"Bangalore\", \"Salt Lake City, Utah\", \"Santo Domingo Alma Rosa \", \"Beacon Hills\", \"Principality of Zeron\", \"Bedford, England\", \"Selena | Britney | Hilary\", \"WORLDWIDE!\", \"Spinning through time.\", \"Darnley, Prince Edward Island\", \"Winston Salem, North Carolina\", \"Oklahoma, USA\", \"Calgary, Canada\", \"\\u00cc\\u00cfT: 42.910975,-78.865828\", \"highlands&slands scotland\", \"Fukuoka, Japan\", \"Brentwood, NY\", \"Galatians 2:20 \", \"Vail Valley\", \"fujo garbage heaven \", \"Jubail IC, Saudi Arabia.\", \"my deli\", \"Haarlem\", \"Quezon City, Philippines\", \"MI\", \"[ Blonde Bi Fry. ]\", \"SWinfo@dot.state.al.us\", \"Milton/Tallahassee\", \"London/Outlaw Country \", \"jeddah | Khartoum\", \"BIG D  HOUSTON/BOSTON/DENVER\", \"elena's bed // info on link\", \"A Hoop Somewhere\", \"Santa Clara, CA\", \"Linton Hall, VA\", \"My heart is a ghost town!\", \"N. California USA\", \"LFC x GSW\", \"Las Vegas, NV\", \"Florida Forever\", \"Republica Dominicana\", \"Ljubljana, Slovenia\", \"Atlantic Highlands, NJ\", \"Orange County, NY\", \"\\u0089\\u00db\\u00a2OlderCandyBloom\\u0089\\u00db\\u00a2\", \"Pensacola, FL\", \"Silvermoon or Ironforge\", \"Palm Bay, FL (Kissimmee)\", \"North Memphis/Global Citizen\", \"#keepthefaith J&J\", \"between ideas & 3-5pm AEST\", \"youtube.com/channel/UCHWTLC9B4ZjUGh7yDlb55Iw\", \"Tampa-St. Petersburg, FL\", \"big boy \\u0089\\u00db\\u00a2 0802\", \"Groton, CT\", \"Oldenburg // London\", \"Enniscrone & Aughris, Sligo \", \"Webster, TX\", \"Searching for Bae \", \"Portsmouth, VA\", \"heart of darkness, unholy ?\", \"Sylacauga, Alabama\", \"International\", \"El Paso, TX\", \"CCH \", \"Email: Lovethterry@gmail.com\", \"Cheshire. London. #allover\", \"Hammersmith, London\", \"Louavul, KY\", \"Lima, Ohio\", \"TN\", \"Southern Califorina\", \"Amman, Jordan\", \"Memphis, in the Tennessees\", \"Alphen aan den Rijn, Holland\", \"Tacoma,Washington\", \"Berlin, NY, DC, Malibu\", \"South 37\", \"NYC-LA-MIAMI\", \"MUM-DEL\", \"Toronto, ON\", \"CPT & JHB, South Africa\", \"IG : Sincerely_TSUNAMI\", \"International \", \"Gidi\", \"fl\", \"Dallas, Tejas\", \"\\u0089\\u00db\\u00a2901\\u0089\\u00db\\u00a2\", \"Rockford, IL\", \"(RP)\", \"Kelowna, BC\", \"St. John's, NL, Canada\", \"Trapped in my Conscience \", \"Fashion Heaven. IG: TMId_\", \"Arlington, VA\", \"MI - CA\", \"Elmwood Park, NJ\", \"gaffney, sc \", \"Bangkok\", \"Attock\", \"From a torn up town MANCHESTER\", \"Arundel \", \"Panam\\u00cc\\u00c1 \", \"\\u0089\\u00db\\u00ca\\u0089\\u00db\\u00ca\\u0089\\u00db\\u00ca\", \"Sao Paulo, Brazil\", \"dundalk ireland\", \"right next to you\", \"Suva, Fiji Islands.\", \"Rochester, NY\", \"Wahpeton, ND\", \"Waterford MI\", \"NY, CT & Greece\", \"Multinational *****\", \"Cochrane, Alberta, Canada\", \"az\", \"Amman,Jordan\", \"Colorado/WorldWide\", \"Chapel Hill, NC\", \"Over the Moon...\", \"San Antonio-ish, TX\", \"UK Great Britain \", \"Bangalore City, India\", \"Aurora, IL\", \"EveryWhere\", \"Kaneohe\", \"Hensley Street, Portland\", \"Traverse City, MI\", \"828??864??803\", \"Orlando,FL  USA\", \"Homs- Syria\", \"Kernow\", \"Birmingham UK\", \"Back East in PA\", \"New Delhi\", \"570 Vanderbilt; Brooklyn, NY\", \"Lowell, MA\", \"6\", \"HI\\u0089\\u00db\\u00a2UT\\u0089\\u00db\\u00a2AS\", \"Beside Basketball\", \"Clearwater, FL\", \"germany\", \"Ile-Ife,Osun state, Nigeria\", \"New Mexico, USA\", \"17-Feb\", \"Hinton, W.Va.\", \"Leaving Bikini Bottom\", \"\\u00cc\\u00cfT: 30.307558,-81.403118\", \"Nova Scotia, Canada\", \"Ecuador\", \"Arnhem, the Netherlands\", \"SE London(heart is by the sea)\", \"Long Beach, CA\", \"Kansas\", \"Oshawa/Toronto\", \"Depok\", \"Jersey Shore\", \"North Carolina \", \"Deployed in the Middle East\", \"Temecula, CA\", \"Edmonton, Alberta - Treaty 6\", \"Level 3 Garrison, Sector G\", \"West Hollywood\", \"Chicago Heights, IL\", \"Ellensburg to Spokane\", \"Lincoln, IL\", \"University Heights, Ohio\", \"manaus\", \"Waco TX\", \"The North\", \"Enterprise, NV\", \"Franklin, TN near Nashville\", \"hyderabad\", \"Bi\\u00cc\\u00b1an,Laguna\", \"Not Of This World\", \"Aarhus, Central Jutland\", \"Queens New York\", \"Bombardment Bay\", \"nj/ny\", \"Houston, TX  \", \"Cambridge, Massachusetts, U.S.\", \"Not Los Angeles, Not New York.\", \"Im Around ... Jersey\", \"with Doflamingo\", \"boston\", \"Derbyshire, United Kingdom\", \"on to the next adventure\", \"Paradise City\", \"Bolton & Tewkesbury, UK\", \"Jacksonville Beach, FL\", \"IL\", \"COMING SOON\", \"@cockerelshoes\", \"Hudson Valley, NY\", \"Unnamed City\", \"Eagle River Alaska\", \"LA ??\", \"In The Mansion\", \"Tokyo & Osaka\", \"Edmonton, Alberta\", \"Jackson TN\", \"Belfast\", \"Playa\", \"Fort Lauderdale, FL\", \"Cedar Island, Clinton CT 06413\", \"\\u00cc\\u00cfT: 40.562796,-75.488849\", \"QLD Australia\", \"chicago\", \"Morganville, Texas.\", \"International Action\", \"Le Memenet\", \"SoCal\", \"?@symbolicjensen?\", \"Chippenham/Bath, UK\", \"Castaic, CA\", \"Zimbabwe\", \"Island Lake, IL\", \"dmv ?? fashion school @ KSU. \", \"Rutherfordton, NC\", \"sheffield // rotherham\", \"Hannover, Germany\", \"Paulton, England\", \"US: 44.414510,8.942499\", \"Danville, VA\", \"Global Edition\", \"prob turning up with sheen\", \"North Vancouver, BC\", \"Sunnyvale, CA\", \"Bozeman, Montana\", \"#1 Vacation Destination,HAWAII\", \"probably watching survivor\", \"mi\", \"@UntmdOutdoors #T.O.R.K \", \"Trumann, Arkansas\", \"Fort Worth,  Texas \", \"Positive 852\", \"cereal aisle #17:i4\", \"Walthamstow, London\", \" BC, US, Asia or Europe.\", \"Lives in London\", \"Toronto, Worldwide \", \"Roadside\", \"England, Great Britain.\", \"Freeport Ny\", \"Freddy Fazbears pizzeria\", \"Somewhere in Jersey\", \"North Port, FL\", \"Jersey\", \"Bushkill pa\", \"I rap to burn shame.\", \"Long Island\", \"Spain - China - Latin America.\", \"Somerset, UK\", \"Abuja,Nigeria\", \"Detroit/Windsor\", \"Top secret bunker \", \"Va Beach, Virginia\", \"Midwestern USA\", \"Alaska, USA\", \"Canada BC\", \"Las Vegas aka Hell\", \"Hope Road, Jamaica \", \"not so cool KY\", \"Madrid\", \"Merica!\", \"Warszawa\", \"L. A.\", \"50% Queanbeyan - 50% Sydney\", \"Detroit, MI, United States\", \"ALWAYS DYING NEVER RESTING\", \"Bucks County, Pa\", \"Lethbridge, AB, Canada\", \"oman muscat al seeb \", \"Menlo Park. SFO. The World.\", \"Every Where in the World\", \"Seattle WA\", \"Inglewood, CA\", \"zboyer@washingtontimes.com\", \"Ideally under a big tree\", \"Magnolia\", \"New York - Connecticut\", \"Turkmenistan\", \"victoria moz\\u00cc\\u00a3o \", \"WORDLDWIDE\", \"University of Chicago\", \"playing soccer & eating pizza\", \"Quantico, VA\", \"New Hampshire, USA\", \"Augusta, GA\", \"The Waystone Inn\", \"eARth 3\", \"Kabul, Tuebingen, Innsbruck\", \"Halifax, Nouvelle-\\u00cc\\u00e4cosse\", \"Cape Neddick, ME\", \"y(our) boyfriends legs \", \"Stratford, CT\", \"Kleenex factory\", \"lugo\", \"Our Empire State\", \"Wema building\", \"Madrid, Comunidad de Madrid\", \"ngapain?\", \"Saskatchewan, Canada\", \"Bishops Stortford, England\", \"taking pain like pleasure\", \" 616 \\u0089\\u00db\\u00a2 Kentwood , MI \", \"Hampshire UK\", \"Lancaster California\", \"Zac Newsome loves me\", \"Jamshedpur, Jharkhand\", \"Albany/NY\", \"Somecity, Somerset, MD\", \"WORLDWIDE-BOSTON\", \"Kettering, OH\", \"www.youtube.com?Malkavius2\", \"Lubbock, TX\", \"Des Moines, Iowa \", \"Everett, WA\", \"Proudly frozen Canuck eh !!\", \"Alabama, USA\", \"#SOUTHAMPTON ENGLAND\", \"\\u00cc\\u00cfT: 39.982988,-75.261624\", \"st.louis county missouri \", \"Port Charlotte, FL\", \"indiana\", \"tokyo\", \"houston\", \"Chennai\", \"WORLD WIDE\", \"PROUD INDIANS\", \"Halifax, NS, Canada\", \"Davao City\", \" Miami Beach\", \"Wakanda\", \"CT ? NYC\", \"Meereen \", \"Orlando/Cocoa Beach, FL\", \"Largo, MD\", \"Cameroon\", \"Marietta, GA\", \"Tornado Alley, USA \", \"Morocco\", \"Asunci\\u00cc_n-PY / T\\u00cc_bingen-GER\", \"Savannah, GA\", \"Shelby County\", \"  News\", \"Minneapolis/St. Paul\", \"Storybrooke / The Moors\", \"Penn Hills, PA\", \"Frascati\", \"dublin \", \"cody, austin follows ?*?\", \"All around the world!\", \"Jackson, MS\", \"Virginia, United States\", \"Made in America\", \"heccfidmss@gmail.com\", \"sitting on the fence, New York\", \"lrhcthband;four - bournemouth\", \"U.S.A and Canada\", \"Am International\", \"USA, Alabama\", \"In the clouds...\", \"Ohio\", \"Hartford  London Hong Kong\", \"ON\", \"proudly South African\", \"Port Jervis, NY\", \"Carry On Jutta!!!\", \"london essex england uk\", \"FOLLOWS YOU everywhere you go\", \"Fife, WA\", \"Rome, Italy\", \"bajaur\", \"Shity land of Northern Ireland\", \"Van Buren, MO\", \"Reality\", \"Piedmont Triad, NC\", \"Manchester UK\", \"Cardiff, UK\", \"Roppongi, Minato, Tokyo \", \"FIMAK A.S Ist Bolge Muduru\", \"Essex\", \"somewhere too cold for me\", \"Gander NF\", \"Birdland, New Meridian, FD\", \"Third rock from the Sun\", \"Dubai, United Arab Emirates\", \"Chatham, IL\", \"Plano, IL\", \"BROOKLYN, NYC\", \"LOCAL ATLANTA NEWS 4/28/00 - 4/28/15 FREELANCER\", \"Bikini bottom\", \"Oregon and Washington\", \"New Jersey/New York\", \"The Forever Girl\", \"Los Angeles, Calif.\", \"Eastern Iowa\", \"From NY. In Scranton, PA\", \"M\\u00cc\\u00a9rida, Yucat\\u00cc\\u00c1n\", \"Central Coast, California\", \"Bay Area\", \"Bellevue NE\", \"Brooklyn, New York\", \"Jersey City, NJ\", \"DaKounty, Pa\", \"23 countries and counting!\", \"Jackson\", \"Plano, Texas\", \"Peterborough, Ontario, Canada\", \"#WhereverI'mAt\", \"Room 234\", \"Heinz Field \", \"Eww, I'm not Paul Elam\", \"[Gia.] | #KardashianEmpire\", \"sydney, australia\", \"Wausau, Wisconsin\", \"Clayton, NC\", \"Lansing, Michigan\", \"Lahar & Gwalior\", \"University of South Florida\", \"We are global!\", \"The Pumpkin Carriage of Dreams\", \"Warwick, RI @Dollarocracy also\", \"North Highlands, CA\", \"Your Conversation\", \"Worcester, MA\", \"PunPunl\\u00cc\\u00a2ndia\", \"back in japan ??????????\", \"Rockville, Maryland\", \"Greenville, S.C.\", \"North America\", \"GLOBAL/WORLDWIDE\", \"Saipan, CNMI\", \"NJ/NYC\", \"Far Away From Home\", \"nashville, tn \", \"Tunbridge Wells\", \"amsterdayum 120615 062415\", \"DRAW A CIRCLE THAT'S THE EARTH\", \"Middle Earth / Asgard / Berk\", \"Anywhere I like\", \"Bathtub de Bett \", \"Den Helder, Rijkswerf\", \"Isle of Man\", \"Campo Grande-MS\", \"SouthEast Asia\", \"balvanera\", \"BILASPUR,CHHATTISGARH,495001\", \"Liberty Lake, WA\", \"Westerland\", \" Baku & Erzurum \", \"London.\", \"OK\", \"IG: AyshBanaysh\", \"Ashland, Oregon\", \"South Central Wales\", \"R'lyeh, South Pacific\", \"Fukushima city Fukushima.pref\", \"Bishops Lydeard, England\", \"QUEENS.\", \"Trost District\", \"1/10 Taron squad\", \"Photo : Blue Mountains \", \"East TN.\", \"y/e/l\", \"nc\", \"I-75 in Florida\", \"Catalonia, Spain\", \"Yewa zone\", \"Newcastle, OK\", \"Albuquerque New Mexico\", \"Karachi \", \"U.S.A. - Global Members Site\", \"1648 Queen St. West, Toronto.\", \"Bow, NH\", \"Mysore, Karnataka\", \"  \", \"Keighley, England\", \"Eastbourne England\", \"ChicagoRObotz\", \"The Great State of Maine \", \"T\\u00cc\\u00c1chira - Venezuela\", \"Brackley Beach, PE, Canada\", \"'soooota\", \"Nelspruit, South Africa\", \"The Globe\", \"Chorley, Lancashire, UK\", \"Lynnfield, MA\", \"New York / Worldwide\", \"im definitely taller than you.\", \"a box\", \"KurveZ@GearHeadCentral.net\", \"Los Angeles, London, Kent\", \"Fairfield, California\", \"Bristol, England\", \"East London. \", \"santo domingo\", \"Chamblee, Georgia\", \"VCU\", \"Bulgaria\", \"San Diego, Texas.\", \"??? ?????????????\", \"Chiyoda Ward, Tokyo\", \"Gaborone, Botswana\", \"?s????ss? a?????\", \"Harbour Heights, FL\", \"Quilmes , Arg\", \"THE WORLD T.G.G / M.M.M \", \"Carterville\", \"Montr\\u00cc\\u00a9al, Qu\\u00cc\\u00a9bec\", \"south of heaven \", \"Romania\", \"South east of U.K\", \"Yellowknife\", \"3.28.15|7.20.15|7.25.15\", \"Hogsmeade\", \"Kwajalein/Virginia/Dayton, OH\", \"? icon by @Hashiren_3 ?\", \"Nanaimo, BC, Canada\", \"???? ???????\", \"Finland\", \"JKT48-Muse-A7X\", \"Me mammy's belly\", \"Dunwoody, GA\", \"Purgatory, USA\", \"wisco\", \"U.S. Northern Virginia\", \"Contoocook Valley Region of Ne\", \"Livingston, MT\", \"kediri,,jawa timur\", \"@potteratthedisc\", \"Unite. Bless. Wallahi \", \"Victorville, CA\", \"Elchilicitanierraversal \", \"  \\u00e5_ \", \"Pioneer Village, KY\", \"fluffy cloud\", \"Halifax, Nova Scotia\", \"Leduc, Alberta, Canada\", \"Buxton, Venice, and Nottingham\", \"St. Patrick's Purgatory\", \"marysville ca \", \"Carregado\", \"GOT7SupportPH\", \"All around the world\", \"Argus Industries \\\\m/666\\\\m/\", \"Kirkwall\", \"Waterloo, Ont\", \"France\", \"West Hollywood, CA\", \"Bakersfield, CA\", \"Adelaide\", \"USA, North Dakota\", \"North London\", \"dorito land\", \"london town..\", \"Western Washington\", \"Central Florida\", \"MI,USA\", \"Durham N.C \", \"New York City ,NY\", \"Milwaukee WI\", \"The Sun's Corona\", \"Australian Capital Territory\", \"I ACCEPT SONG REQUESTS\", \"Republic of the Philippines\", \"Norwalk, CT\", \"Sutton, London UK\", \"Earth 0\", \"Home is where we park it!\", \"Scottsdale. AZ\", \"Dallas, TX \", \"London, Greater London, UK\", \"Piedmont Area, North Carolina\", \"Viejo\", \"Tri-Cities, Wash.\", \"Also follow ?\", \"Danbury, CT\", \"The Meadow\", \"Elkhart, IN\", \"Wakefield MA\", \"Newton, NJ 07860\", \"Skyhold\", \"Fairfax, VA\", \"Voorhees, NJ\", \"UPTOWN \", \"PSA Nursing \", \"Dreieich, Germany\", \"Crayford, London\", \" Tropical SE FLorida\", \"come here in 20 minutes for an ass kicking\", \"Dimapur\", \"Spying on your thoughts\", \"Baton Rouge\", \"Hooters on Peachtree\", \"Utica NY\", \"Texas af\", \"Lake Highlands\", \"Houston, Texas\", \"Greenfield, Massachusetts\", \"The Citadel, Oldtown, Westeros\", \"Suburban Detroit, Michigan\", \"IG/SC:bjfordiani\", \"\\u0089\\u00db\\u00a25\\u0089\\u00db\\u00a212\\u0089\\u00db\\u00a214\\u0089\\u00db\\u00a2 | \\u00e5\\u00c8#SaviourSquad\\u00e5\\u00c7\", \"Georgia ? Tennessee\", \"Manchester, The World, England\", \"North\", \"Asia Pacific   \", \"Belbroughton, England\", \"V-RP @OZRP_ ?MV, AU, R18+?\", \"Rockland County, NY\", \"www.aprylpooley.com\", \"Fountain City, IN \", \"Trinity, Bailiwick of Jersey\", \"Dappar (Mohali) Punjab\", \"Jonesboro, Arkansas USA\", \"828/704(Soufside)/while looking goofy in NJ\", \"Suginami-ku, Tokyo, Japan\", \"772 Temperance Permenence\", \"FILM OUT LATE 2015\", \"under the blanket\", \"USAoV\", \"? Jet Life ?\", \"Aperture Science Test Facility\", \"Dayton, Ohio\", \"Oakland, Ca\", \"Southern Maine\", \"AUS\", \"\\u00e5\\u00a1\\u00e5\\u00a1Midwest \\u0089\\u00db\\u00a2\\u0089\\u00db\\u00a2\", \"Nottingham\", \"NYC metro\", \"PSN: Pipbois \", \"14/cis/istj \", \"BOT ACCOUNT\", \"AZ\", \"In a crazy genius mind\", \"The Empire/First Order\", \"Canberra, Australian Capital Territory\", \"Wandsworth, London\", \"Vermont, USA\", \"Somewhere Out There\", \"East London\", \"#goingdownthetoilet Illinois\", \"San Fransokyo\", \"??????????????????\", \"Milky Way galaxy \", \"Weyburn\", \"Center for Domestic Preparedness\", \"nowhere\", \"Winter Park, Colorado\", \"Jammu and Kashmir\", \"Lebanon, Tennessee\", \"Bangalore. India\", \"THANJAVUR\", \"Concord, NH \", \"belleville\", \"SURROUNDED BY WEEABOOS\", \"bk. \", \"Not Steven Yeun / AMC.\", \"Deadend, UK\", \"Sugarhouse, UT\", \"am everywhere\", \"SEATTLE, WA USA\", \"Alexandria, Egypt.\", \"http://twitch.tv/jcmonkey\", \"Silesia, Poland\", \"Kuwait \", \"Nagpur\", \"San Luis Obispo, CA\", \"Hattiesburg, MS\", \"Hagerstown, MD\", \"FLYEST HIPPIE YOU KNOW \", \"All around the world baby\", \"hkXfYMhEx\", \"Napa, CA\", \"God.Family.Money\", \"blackfalds.\", \"The ?? below ???\", \"wherever the $$$ at\", \"kissimmee,fl.\", \"Hyderabad Telangana INDIA\", \"Aurora, Ontario \", \"Centurion \", \"Lima, Per\\u00cc\\u00bc\", \"Own planet!!\", \"I Heard #2MBikers\", \"don't run\", \"518 \\u00e5\\u00e1 NY\", \"Idaho\", \"Worldwide - Global\", \"New Jersey, usually\", \"Guelph Ontario Canada\", \"My mind is my world\", \"Kawartha Lakes, Ontario, Canad\", \"Scituate, MA\", \"Justin and Ariana follow\", \"Canada \", \"Fresno\", \"CA, AZ & NV\", \"FSC '19\", \"Brecksville, OH\", \"Lubbock, Texas\", \"midwest\", \"??? ?? ??????? \", \"jayankondacholapuram.tamilnadu\", \"Where I Need To Be\", \"Saline, MI\", \"Kicking Horse Pass\", \"Wynne, AR\", \"LA - everywhere\", \"My contac 27B80F7E 08170156520\", \"??????????????\", \"iTunes - RSS\", \"Pune, Maharashtra\", \"Davis, California\", \"My subconscious\", \"10-Jul\", \"Near Richmond, VA\", \"Augusta, Maine, 04330\", \"the Dirty D\", \"The Harbinger.\", \"hertfordshire.\", \"Grand Rapids MI\", \"City of London, London\", \"Elsewhere, NZ\", \"United Kingdom,Fraserburgh\", \"portland, oregon\", \"(he/him)\", \"Somewhere in Spain\", \"keli x\", \"Coolidge, AZ\", \"Cuttack, Orissa\", \"Atlanta Georgia\", \"Atlanta,Ga\", \"Brasil, Fortaleza ce\", \"New Orleans, Louisiana\", \"United Hoods of the Globe\", \"houstn\", \"whs '17\", \"Swindon,England \", \"Rhode Island\", \"#HAMont\", \"Austin TX\", \"Inverness, Nova Scotia\", \"Perenjori, WA\", \"Tucson, AZ\", \"Kajang ? UiTM Puncak Alam\", \"Tennessee/Gallifrey\", \"11th dimension, los angeles\", \"Paonia, Colorado \", \"UK, Republic of Ireland and Australia\", \"Play For Ryan ??\", \"I'm standing behind you\", \"Nakhon Si Thammarat\", \"Hailing from Dayton \", \"Esp\\u00cc_rito Santo\", \"Jonesboro, AR MO, IOWA USA\", \"Bhubneshwar\", \"Primum non nocere\", \"Kenosha, WI 53143\", \"Gwersyllt, Wales\", \"Did anybody see me here ??\", \"Barcelona, Spain\", \"Brasil,SP\", \"The Main \", \"Bossland\", \"??t?a\", \"brooklyn, NYC\", \"Mariveles, Bataan\", \"Nantes, France\", \"Ottawa,Ontario Canada\", \"Lima-Peru\", \"The Internetz\", \"travelling to tae's pants\", \"buhh\", \"Freeport IL. USA\", \"all over the world\", \"The Web\", \"Uppsala, Sweden\", \"yorkshire\\n\", \"North East, England\", \"St. Joseph, Minnesota\", \"Mogadishu, New Jersey\", \"Greenwich Meridian\", \"South of D.C.\", \"Milwaukee County\", \"Hampton Roads, VA\", \"East Aurora, NY\", \"Waddesdon\", \"Bleak House\", \"Kenton, Ohio\", \"Quito, Ecuador.\", \"Biloxi, Mississippi\", \"Wellington, New Zealand\", \"Galapa / Atl\\u00cc\\u00c1ntico\", \"New Haven, Connecticut\", \"Perthshire \", \"Wales, United Kingdom\", \"Gloucester\", \"the azure cloud\", \"toronto\", \"Here And There\", \"EastAtlanta ??#WestGeorgia'18\", \"www.facebook.com/stuntfm\", \"hollywoodland \", \"Newcastle, England\", \"Temporary Towers\", \"Queen Creek AZ\", \"Lima, OH\", \"11202\", \"Arkansas, Jonesboro\", \"missouri USA\", \"Nevada, USA\", \"Htx\", \"London, Sydney\", \"Oshawa, Canada\", \"Westchester\", \"Skyport de la Rosa\", \"Harris County, Texas\", \"in my own personal hell (:\", \"My old New England home\", \"1/3 of the blam squad \", \"July 11th, 2015. ?\", \"Montreal\", \"marvel | books | hp | tmr\", \"Haveli, Maharashtra\", \"NH via Boston, MA\", \"iPhone: 33.104393,-96.628624\", \"Iowa, USA\", \"i beg vines sorry \", \"KOLKATA\", \"Williamstown, VT\", \" New Delhi \", \"Leicester, England\", \"probably the strip club\", \"Yuuko-san's shop\", \"North Dartmouth, Massachusetts\", \"ACCRA GHANA\", \"Not a U.S resident\", \"ATX\", \"Coconut Creek, Florida\", \"Harpurhey, Manchester, UK\", \"Shanghai\", \"New York. NY\", \"Auburn, AL\", \"Ventura, Ca\", \"Illumination \", \"Marysville, MI\", \"Spain but Opa-Locka, FL\", \" Eugene, Oregon\", \"See the barn of bleakness\", \"death star\", \"Like us on Face \", \"dubai \", \"ava\", \"Laguna Beach, Calif. \", \"cuba\", \"Huntsville, Alabama\", \"eBooks, North America\", \"nbc washington\", \"Anderson, SC\", \"Long Island NY & San Francisco\", \"Dammam- KSA\", \"Alberta, VA\", \"EIU  Chucktown/LaSalle IL\", \"46.950109,7.439469\", \"Wherever I'm needed\", \"somewhere in Portugal\", \"London / Birmingham\", \"Paris, France\", \"NC || OR\", \"Loughton, Essex, UK\", \"Flipadelphia\", \"\\u0089\\u00db\\u00a2III.XII.MMXI\\u0089\\u00db\\u00a2\", \"Argentina\", \"Rotterdam, The Netherlands\", \"Alliston Ontario\", \"Yellowknife, NT\", \"Minneapolis,MN,US\", \"Albuquerque\", \"???????? ?????????.\", \"Buscame EL tu Melte\", \"Iliff,Colorado  \", \"Niall's arms\", \"Namjoon's pants\", \"swindon\", \"california\", \"London, Kent & SE England.\", \"Alberta | Sask. | Montana\", \"Maracay y Nirgua, Venezuela\", \"LEALMAN, FLORIDA\", \"Loading...\", \"Marrakech M\\u00cc\\u00a9dina, Marrakech - Tensift - Al Haouz\", \"cork\", \"Bristol, UK\", \"ITALY\", \"Chasing My Dreams w/Jass??\", \"The UK\", \"snapchat~ maddzz_babby \", \"The Grey Area\", \"Ormond By The Sea, FL\", \"FCT, Abuja \", \"Vit\\u00cc_ria (ES)\", \"??? ???? ?f glory. ?\", \"Eddyville, Oregon 97343\", \"\\u00cc\\u00cfT: 40.707762,-74.014213\", \"Montgomery County, MD\", \"?? ?+254? ? \\\\??\\u00e5\\u00a1_??\\u00e5\\u00a1_???\\u00e5\\u00a1_?/??\", \"Hermosa Beach, CA\", \"Home of the Takers.\", \"World news\", \"Boulder\", \"Colombo,Sri Lanka.\", \"Chattanooga TN\", \"miami x dallas \", \"Live Oak, TX\", \"Under Santa Barbara Skies\", \"Hartford,  connecticut\", \"Anna Maria, FL\", \"Semarang, Indonesia\", \"Nashville, Tennessee\", \"Coventry, Rhode Island\", \"Greater Manchester, UK\", \"Dindigul,TamilNadu.\", \"V\\u00cc_a L\\u00cc\\u00c1ctea\", \"Silang, Cavite / Para\\u00cc\\u00b1aque\", \"Predjama, Eslovenia.\", \"Head Office: United Kingdom\", \"Saudi Arabia\", \"Right here\", \"State of Georgia\", \"Numa casa de old yellow bricks\", \"Jogja, Indonesia Slowly Asia\", \"In the Shadows...\", \"Evansville, IN\", \"Benedict College\", \"Daddy Kink Central\", \"Bras\\u00cc_lia\", \"Spokane, Washington\", \"Los Angeles for now\", \"Gotham City,USA\", \"ATL??AL??\", \" Bouvet Island\", \"please H? ?:??\", \"????????????\", \"Travelling around the world \", \"Bronx, NY\", \"rio de janeiro | brazil\", \"South Pasadena, CA\", \"Delhi \", \"3???2???????\", \"Christiana,Tennessee\", \" Blood Indian Reserve\", \"Chester \", \"infj \", \"#ForeverWithBAP 8 \", \"Colonial Heights, VA\", \"Na waffi\", \"Somewhere in China.\", \"Abuja\", \"Richardson TX\", \"RSN: Tru\", \"UK,singer,songwriter,?2 act\", \"Johannesburg \", \"Mooresville, NC\", \"Poconos\", \"Philadelphia, Pennsylvania\", \"Where the money at\", \"Newcastle, England \", \"Nicola Valley\", \"Neverland\", \"Evergreen Colorado\", \"Diamondville\", \"KADUNA, NIGERIA\", \"Nice places \", \"Basketball City, USA \", \"Orange County, Calif.\", \"Asia European Continent Korea \", \"gamertag: bexrayandvav \", \"Gotham\", \"  Melbourne, Australia\", \"sweden\", \"di langit 7 bidadari (^,^ )\", \"Waterfront\", \"V\\u00cc_ster\\u00cc\\u00b4s, Sweden\", \"Pawnee\", \"El Paso, Texas\", \"[marvel\\u0089\\u00db\\u00a2dragon age\\u0089\\u00db\\u00a2wicdiv]\", \"JDB/LJC/AGB/TW/PLL\", \"Richmond, VA\", \"Jammu | Kashmir | Delhi\", \"Chappaqua NY and Redlands CA\", \"St. Louis, Missouri\", \"Absecon, NJ\", \"Washington, D.C. \", \"Starling City\", \"{GoT | Modern AU | Lizz}\", \"McLean, VA\", \"Isolated City In World Perth\", \"Bolivar, MO\", \"Miami?Gainesville\", \"English Midlands\", \"Score More Goals Buying @\", \"Dundee, UK\", \"Palma, Islas Baleares\", \"Minneapolis, MN\", \"876 Jamrock.\", \"A.A.S my Aztec Princess\", \"atlanta\", \"garowe puntland somalia\", \"Jerusalem!\", \"Rogersville, MO\", \"All Around the World\", \"@protectingtitan's side.\", \"Ibadan,Oyo state\", \"Innsmouth, Mass.\", \"92\", \"khanna\", \"Ivano-Frankivsk\", \"Lindenhurst\", \"In the spirit world\", \"NV\", \"paradise\", \"Buffalo/DC\", \"Scotts Valley, CA\", \"Paris (France)\", \"nearest trash can \", \"Fairgrounds Resident\", \"Atmosphere\", \"VONT ISLAND, LAGOS\", \"Some pum pum\", \"Cincinnati, OH\", \"Ealing, London\", \"Metro Manila\", \"Valle Del Sol\", \"LA\", \"? miranda ? 521 mi\", \"CA ??DC\", \"israel\", \"Tallahassee Florida\", \"Tn\", \"Gujranwala, Pakistan\", \"Burlington, VT\", \"Malaysia/Jordan\", \"Ziam af \", \"Melrose\", \"Ab, Canada\", \"Right next to Compton\", \"Washington, Krasnodar (Russia)\", \"Hyrule\", \"-?s?s?j??s-\", \"Santa Monica, CA\", \"my house\", \"where the wild things are\", \"Benton City, Washington\", \"Guatemala\", \"Screwston, TX\", \"253\", \"U.S\", \"The Orwellion police-state\", \"Canadian bread\", \"Dhaka\", \"Jeddah_Saudi Arabia.\", \"washington, d.c.\", \"Killa Hill, CO\", \"Amsterdam | San Francisco\", \"Here there and everywhere\", \"Mexico! ^_^\", \"Host of #MindMoversPodcast\", \"Boksburg\", \"by a piano probably. \", \"Asheboro, NC\", \"Upper St Clair, PA\", \"Waverly, IA\", \"Providence RI / Lisnaskea \", \"Chicago IL\", \"Dutch/English/German\", \"London, Riyadh\", \"texas a&m university\", \"Camberwell, Melbourne\", \"BC\", \"???????, Texas\", \"Somewhere between Chicago & Milwaukee\", \"Beirut/Toronto\", \"Ottawa, Ontario\", \"Up a hill\", \"The Howling\", \"University of Limerick\", \"//??//\", \"taking bath do not disturb\", \"In your head\", \"#iminchina\", \"South Bloomfield, OH\", \"Land Of The Kings\", \"Orlando \", \"Bellville, Ohio\", \"Alberta \", \"Park Ridge, Illinois\", \"Aracaju - Sergipe\", \"Thrissur\", \"England,UK,Europe,Sol 3.\", \"Smash Manor/Kanto\", \"West Coast, Cali USA\", \"Riyadh ')\", \"Medell\\u00cc_n, Antioquia\", \"State College, Pa\", \"K\\u00cc\\u00a6ln, Nordrhein-Westfalen\", \"Benicia, CA \", \"Queens, NY\", \"San Juan, Puerto Rico\", \"Hughes, AR\", \"ANYWEHERE !!\", \"Broadview Heights, Ohio\", \"Lexington\", \"Ankara - Malatya - ad Orontem\", \"Eureka, California, USA\", \"Outside The Matrix, I Think.\", \"Pompano Beach, FL\", \"s\\u00cc\\u00a3o luis\", \"Wolmers Trust School for Boys \", \"Unites States\", \"Houston, Texas ! \", \"Oxford, OH\", \"Cobblestone\", \"MY RTs ARE NOT ENDORSEMENTS\", \"Sochi, KDA, RU\", \"HOMRA.\", \"Jakarta, Indonesia\", \"?^\\u00e5\\u00e1??\\u00e5\\u00e1?^?? ??\", \"Palmyra, NJ\", \"The Peach State\", \"White Plains, NY\", \"Maryland, USA\", \"ATL ??\", \"Brizzle City !\", \"Canterbury kent\", \"Hamburg, DE\", \"Yuba City, CA\", \"rural ohio (fuck)\", \"Scotland \", \"Netherlands,Amsterdam-Virtual \", \"have car; will travel\", \"Garden City, NY\", \"| CA \\u0089\\u00db\\u00a2 GA  |\", \"Your Sister's Bedroom\", \"facebook.com/tradcatknights\", \"Dhaka, Bangladsh\", \"Windsor,Ontario\", \"Colchester Essex \", \"Auburn \", \"Chicago,Illinois\", \"Between Dire and Radiant\", \"Perth, Australia\", \"Wolverhampton\", \"Sunny South florida \", \"North East USA\", \"Brentwood,TN\", \"U.S.A.   FEMA Region 5\", \"Insula Barataria\", \"2,360 miles away\", \"livin in a plastic world\", \"Port Orange, FL\", \"denmark\", \"Sherwood, Brisbane, Australia\", \"Surry Hills, Sydney\", \"#otrakansascity\", \"Austin\", \"Waukesha, WI\", \"Viterbo BFA Acting '18\", \"USA - Canada - Europe - Asia\", \"Li\\u00cc\\u00acge\", \"Konoha Village\", \"Colorado Springs\", \"Washington, D.C., area\", \"North East Unsigned Radio\", \"Hilton Head, SC  \", \"St. Louis\", \"Eagle Mountain, Texas \", \"Stage with Trey Songz\", \"Paris.\", \"\\u00cc\\u00cfT: 43.631838,-79.55807\", \" Alex/Mika/Leo|18|he/she/they\", \"front row at a show\", \"Dakar\", \"TonyJ@Centralizedhockey.com\", \"60th St (SS)\", \"norway\", \"Chester\", \"Mass\", \"Miami\", \"todaysbigstock.com\", \"Hillsville/Lynchburg, VA\", \"Livingston, IL  U.S.A.\", \"Los Angles, CA\", \"??????? ??????? ????????\", \"Paducah, KY\", \"Born in Baltimore Living in PA\", \"Atlanta g.a.\", \"Wolverhampton/Brum/Jersey\", \"Earthling (For now!)\", \"Ontario, Canada. \", \"middle eastern palace\", \"Las Vegas, NV \", \"Kokomo, In\", \"Vineyard\", \"miami\", \"Cimerak - Pangandaran\", \"Hampshire, UK\", \"\\u0089\\u00db\\u00a2 Views From The Six \\u0089\\u00db\\u00a2\", \"kano\", \"Why should you know?\", \"Konoha\", \"Miami, Florida\", \"buenos aires argentina\", \"south africa eastern cape\", \"Toronto-Citizen of Canada & US\", \"Stockton on tees Teesside UK\", \"#NewcastleuponTyne #UK\", \"Torry Alvarez love forever ? ?\", \"Click the link below, okay \", \"Brisbane, Queensland\", \"NAWF SIDE POKING OUT \", \"Michigan \", \"Glenview to Knoxville \", \"In the moment\", \"Phoenix, Arizona, USA\", \"Malibu/SantaFe/Winning!\", \"Varanasi\", \"Jump City\", \"Kauai, Hawaii\", \"Shah Alam,Malaysia\", \"Stanford University\", \"Pig Symbol, Alabama\", \"D.C. - Baltimore - Annapolis\", \"#freegucci\", \"S.F. Bay area\", \"Paris \", \"Bahrain\", \"Petaluma, CA\", \"Internet\", \"Santiago Bernabeau\", \"Trancy Manor\", \"it's a journey \", \"tripoli international airport\", \"The Multiverse\", \"Irving , Texas\", \"home \", \"InterplanetaryZone\", \"peekskill. new york, 10566 \", \"Raleigh Durham, NC\", \"Portage, IN / Worldwide\", \"Fleet/Oxford, UK\", \"lia\\u0089\\u00db\\u00a2dani\\u0089\\u00db\\u00a2laura\", \"Huntley, IL\", \"ur\\u00cc\\u00a3nus\", \"Fredericksburg, Virginia\", \"65\", \"Hawaii\", \"WORLD\", \"The Land of MAss Stupidity\", \"IndiLand \", \"CT & NY\", \"Michel Delving.\", \"Northern Ireland\", \"Riverdale, GA \", \"Brisbane Australia\", \"Kensington, MD\", \"Stowmarket\", \"This Is Paradise. Relax. \", \"kisumu\", \"Mumbai (India)\", \"Melbourne-ish\", \"Dicky Beach\", \"Warsaw\", \"Loughborough, England\", \"everywhere \", \"Greenpoint\", \"{Detailed}\", \"Rochester\", \"Methville, CA\", \"801 SL,UT\", \"\\u00cc\\u00cfT: 33.209923,-87.545328\", \"Mid north coast of NSW\", \"wrapped arnd hyuk's finger\", \"iPhone: -27.499212,153.011072\", \"Garden Grove\", \"Heathrow\", \"Cape Town, Khayelitsha\", \"North West London\", \"Mississauga, Ontario\", \"Dayton, OH\", \"melbourne\", \"NBO\", \"Melbourne, FL\", \"Jerseyville, IL\", \"We're All Mad Here\", \"Fiore, Lamia Scale\", \"Bangalore, INDIA\", \"Cleveland, TN\", \"Nashville, Tn\", \"Swan River\", \"Marbella. Spain\", \"Basking Ridge, NJ\", \"San Jose\", \"Wanderlust\", \"Crouch End, London\", \"AEP\", \"GO BLUE! HAIL YES!!\", \"Telangana\", \"[@blackparavde is my frankie]\", \"#MayGodHelpUS\", \"wherever-the-fuck washington\", \"Plain O' Texas\", \"Austin/Los Angeles\", \"Making Worldwide Change Near U\", \"Sao Paulo\", \"Leeds, United Kingdom\", \"Pocatello, ID\", \"Loughborough.\", \"Ojodu,Lagos\", \"Statute Of Limitations_\", \"At Da Laundry Mat Wit Nivea \", \"Indonesia\\n\", \"Woosley\", \"NOLA ?? TX\", \"Still. ??S.A.N.D.O.S??\", \"Chicago, IL \", \"Lima, Peru\", \"Selangor\", \"Victoria, Tx.\", \"Purfleet\", \"London/New York\", \"Nashville\", \"West Bank, Gaza Strip\", \"Beaumont, TX\", \"KSU 2017\", \"West Midlands\", \"SF Bay Area, California / Greater Phoenix, AZ\", \"POFFIN\", \"?????? ??? ?????? ????????\", \"everydaynigerian@gmail.com\", \"San Mateo County, CA\", \"Atlanta, Ga\", \"WV, love the blue and gold\", \"ill yorker\", \"Portsmouth, UK\", \"Terre Haute, IN\", \"Tripsburg, ms.\", \"winston-salem north carolina\", \"Magnolia, Fiore \", \"Escondido, CA\", \"Pekanbaru\\u00e5\\u00a1Batam Island\\u00e5\\u00a1Medan\", \"Atlantic, IA\", \"Toronto, Bob-Lo, Miami Beach\", \"contactSimpleNews@gmail.com\", \"ona block w/ my BOY ??\", \"seoul\", \"Reading MA\", \"milky way\", \"The Epicenter, and Beyond\", \"Louisville, KY\", \"Himalayan Mountains\", \"Guildford, UK\", \"Yulee, FL\", \"Monterrey, M\\u00cc\\u00a9xico\", \"M!A: None\", \"Brisbane.\", \"Trackside California\", \"Friendswood, TX\", \"Woodcreek HS, Roseville, CA\", \"EPTX\", \"Desert Storm?? |BCHS|\", \" Little Rock, AR\", \"Broomfield, CO\", \"Proud @BuckMasonUSA supporter!\", \"us-east-1a\", \"Lancaster, Pennsylvania, USA\", \"en el pais de los arrechos\", \"NY || live easy? \", \"Salt Lake City, UT\", \"Stay Tuned ;) \", \"Gold Coast, Qld, Australia\", \"Houston \", \"jersey \", \"Balikesir - Eskisehir\", \"Kutztown, PA\", \"#KaumElite;#F?VOR;#SMOFC\", \"BOSTON-LONDON\", \"Kansas, The Free State! ~ KC\", \"Cydia\", \"Whitby, ON\", \"i love you zayn\", \"Birmingham and the Marches\", \"Dil's Campsite\", \"Jaipur, Rajasthan, India\", \"#????? Libya#\", \"Johns Creek, GA\", \"Colorado, USA\", \"Miami ??\", \"Chicagoland\", \"Hickville, USA\", \"Est. September 2012 - Bristol\", \"US-PR\", \"NEW YORK\", \"Atlanta, Georgia USA\", \"staggering on tenement roofs\", \"??? ???? ??????\", \"Le Moyne '16\", \"Twitter Lockout in progress\", \"Tama, Iowa\", \"Lahti, Finland\", \"Rio\", \"Coimbatore\", \"Karolinska v\\u00cc_gen 18, Solna\", \"(Spain)\", \"Lucknow, India\", \"The Kingdom of Fife, Scotland\", \"(a) property of the universe\", \"A sofa\", \"Atlanta, Georgia\", \"lee london\", \"Prehistoric Earth\", \"KLA,Uganda\", \"Long Eaton \\u00e5\\u00e1 Derbyshire \\u00e5\\u00e1 UK\", \"USA \", \"Maharashtra\", \"B&B near Alton Towers\", \"Dallas, Texas. \", \"Ondo\", \"21, Porto\", \"Concord, N.C.\", \"SoDak\", \"Waialua, Hawaii\", \"Canada Eh! \", \"#WashingtonState #Seattle\", \"someplace living my life\", \"Holly Springs, NC \", \"Topeka, KS\", \"Wilmington, Delaware\", \"lagos nigeria\", \"pettyville, usa\", \"\\u00cc\\u00cfT: 41.252426,-96.072013\", \"Cape Cod, Massachusetts USA\", \"Saint Marys, GA\", \"Zeerust, South Africa\", \"Just Happy to Be Anywhere\", \"Houston |??| Corsicana\", \"Washington DC / Nantes, France\", \"Galveston, Texas\", \"Extraterrestrial Highway\", \"Astley, Manchester\", \"Christchurch New Zealand\", \"Waterloo, ON\", \"Paradise, NV\", \"nj\", \"plymouth\", \"Fort Smith, AR\", \"Montgomery, AL\", \"in Dimitri's arms\", \"Quincy\", \"japon\", \"Jubail IC, Saudi Arabia\", \"Tampa, Fl\", \"Alameda and Pleasanton, CA\", \"Oblivion?\", \"Bracknell\", \"Peterborough, On\", \"Charleston S.C.\", \"AKRON OHIO USA\", \"Area 8 \", \"London \", \"Avon, OH\", \"Cornwall\", \"'SAN ANTONIOOOOO'\", \"Sydney, NSW\", \"East Lansing, MI\", \"Dover, DE\", \"Enterprise, Alabama\", \"Mars\", \"teh internets\", \"Montana \", \"Light and dark, form and void\", \"18 \\u0089\\u00db\\u00a2 CC\", \"Riverview, FL \", \"Kualar Lumpur, Malaysia\", \"antoine fisher \", \"Toronto, ON, Canada\", \"NYC area\", \"golborne, north west england.\", \"Hertfordshire \", \"Spring Grove, IL\", \"wherever there's netflix\", \"El Dorado, KS\", \"Kuwait\", \"CLVLND\", \"EARTH \", \"MD\", \"Williamsburg, VA\", \"USA, Haiti, Nepal\", \"Oxford / bristol\", \"Noida, NCR, India\", \"antioch, california\", \"Wyoming, MI (Grand Rapids)\", \"Makai\", \"PLFD cuh..\", \"Washington, DC 20009\", \"wny\", \"Boston \\u0089\\u00db\\u00a2 Cape Cod ?\", \"SaudI arabia - riyadh \", \"Nairobi , Kenya\", \"Old Blighty\", \"Mogadishu, Somalia\", \"columbus ohio\", \"\\u00cc\\u00cfT: 6.4682,3.18287\", \"Hampstead, London.\"], \"yaxis\": \"y\"}],\n",
              "                        {\"legend\": {\"itemsizing\": \"constant\", \"tracegroupgap\": 0}, \"margin\": {\"t\": 60}, \"template\": {\"data\": {\"bar\": [{\"error_x\": {\"color\": \"#2a3f5f\"}, \"error_y\": {\"color\": \"#2a3f5f\"}, \"marker\": {\"line\": {\"color\": \"#E5ECF6\", \"width\": 0.5}}, \"type\": \"bar\"}], \"barpolar\": [{\"marker\": {\"line\": {\"color\": \"#E5ECF6\", \"width\": 0.5}}, \"type\": \"barpolar\"}], \"carpet\": [{\"aaxis\": {\"endlinecolor\": \"#2a3f5f\", \"gridcolor\": \"white\", \"linecolor\": \"white\", \"minorgridcolor\": \"white\", \"startlinecolor\": \"#2a3f5f\"}, \"baxis\": {\"endlinecolor\": \"#2a3f5f\", \"gridcolor\": \"white\", \"linecolor\": \"white\", \"minorgridcolor\": \"white\", \"startlinecolor\": \"#2a3f5f\"}, \"type\": \"carpet\"}], \"choropleth\": [{\"colorbar\": {\"outlinewidth\": 0, \"ticks\": \"\"}, \"type\": \"choropleth\"}], \"contour\": [{\"colorbar\": {\"outlinewidth\": 0, \"ticks\": \"\"}, \"colorscale\": [[0.0, \"#0d0887\"], [0.1111111111111111, \"#46039f\"], [0.2222222222222222, \"#7201a8\"], [0.3333333333333333, \"#9c179e\"], [0.4444444444444444, \"#bd3786\"], [0.5555555555555556, \"#d8576b\"], [0.6666666666666666, \"#ed7953\"], [0.7777777777777778, \"#fb9f3a\"], [0.8888888888888888, \"#fdca26\"], [1.0, \"#f0f921\"]], \"type\": \"contour\"}], \"contourcarpet\": [{\"colorbar\": {\"outlinewidth\": 0, \"ticks\": \"\"}, \"type\": \"contourcarpet\"}], \"heatmap\": [{\"colorbar\": {\"outlinewidth\": 0, \"ticks\": \"\"}, \"colorscale\": [[0.0, \"#0d0887\"], [0.1111111111111111, \"#46039f\"], [0.2222222222222222, \"#7201a8\"], [0.3333333333333333, \"#9c179e\"], [0.4444444444444444, \"#bd3786\"], [0.5555555555555556, \"#d8576b\"], [0.6666666666666666, \"#ed7953\"], [0.7777777777777778, \"#fb9f3a\"], [0.8888888888888888, \"#fdca26\"], [1.0, \"#f0f921\"]], \"type\": \"heatmap\"}], \"heatmapgl\": [{\"colorbar\": {\"outlinewidth\": 0, \"ticks\": \"\"}, \"colorscale\": [[0.0, \"#0d0887\"], [0.1111111111111111, \"#46039f\"], [0.2222222222222222, \"#7201a8\"], [0.3333333333333333, \"#9c179e\"], [0.4444444444444444, \"#bd3786\"], [0.5555555555555556, \"#d8576b\"], [0.6666666666666666, \"#ed7953\"], [0.7777777777777778, \"#fb9f3a\"], [0.8888888888888888, \"#fdca26\"], [1.0, \"#f0f921\"]], \"type\": \"heatmapgl\"}], \"histogram\": [{\"marker\": {\"colorbar\": {\"outlinewidth\": 0, \"ticks\": \"\"}}, \"type\": \"histogram\"}], \"histogram2d\": [{\"colorbar\": {\"outlinewidth\": 0, \"ticks\": \"\"}, \"colorscale\": [[0.0, \"#0d0887\"], [0.1111111111111111, \"#46039f\"], [0.2222222222222222, \"#7201a8\"], [0.3333333333333333, \"#9c179e\"], [0.4444444444444444, \"#bd3786\"], [0.5555555555555556, \"#d8576b\"], [0.6666666666666666, \"#ed7953\"], [0.7777777777777778, \"#fb9f3a\"], [0.8888888888888888, \"#fdca26\"], [1.0, \"#f0f921\"]], \"type\": \"histogram2d\"}], \"histogram2dcontour\": [{\"colorbar\": {\"outlinewidth\": 0, \"ticks\": \"\"}, \"colorscale\": [[0.0, \"#0d0887\"], [0.1111111111111111, \"#46039f\"], [0.2222222222222222, \"#7201a8\"], [0.3333333333333333, \"#9c179e\"], [0.4444444444444444, \"#bd3786\"], [0.5555555555555556, \"#d8576b\"], [0.6666666666666666, \"#ed7953\"], [0.7777777777777778, \"#fb9f3a\"], [0.8888888888888888, \"#fdca26\"], [1.0, \"#f0f921\"]], \"type\": \"histogram2dcontour\"}], \"mesh3d\": [{\"colorbar\": {\"outlinewidth\": 0, \"ticks\": \"\"}, \"type\": \"mesh3d\"}], \"parcoords\": [{\"line\": {\"colorbar\": {\"outlinewidth\": 0, \"ticks\": \"\"}}, \"type\": \"parcoords\"}], \"pie\": [{\"automargin\": true, \"type\": \"pie\"}], \"scatter\": [{\"marker\": {\"colorbar\": {\"outlinewidth\": 0, \"ticks\": \"\"}}, \"type\": \"scatter\"}], \"scatter3d\": [{\"line\": {\"colorbar\": {\"outlinewidth\": 0, \"ticks\": \"\"}}, \"marker\": {\"colorbar\": {\"outlinewidth\": 0, \"ticks\": \"\"}}, \"type\": \"scatter3d\"}], \"scattercarpet\": [{\"marker\": {\"colorbar\": {\"outlinewidth\": 0, \"ticks\": \"\"}}, \"type\": \"scattercarpet\"}], \"scattergeo\": [{\"marker\": {\"colorbar\": {\"outlinewidth\": 0, \"ticks\": \"\"}}, \"type\": \"scattergeo\"}], \"scattergl\": [{\"marker\": {\"colorbar\": {\"outlinewidth\": 0, \"ticks\": \"\"}}, \"type\": \"scattergl\"}], \"scattermapbox\": [{\"marker\": {\"colorbar\": {\"outlinewidth\": 0, \"ticks\": \"\"}}, \"type\": \"scattermapbox\"}], \"scatterpolar\": [{\"marker\": {\"colorbar\": {\"outlinewidth\": 0, \"ticks\": \"\"}}, \"type\": \"scatterpolar\"}], \"scatterpolargl\": [{\"marker\": {\"colorbar\": {\"outlinewidth\": 0, \"ticks\": \"\"}}, \"type\": \"scatterpolargl\"}], \"scatterternary\": [{\"marker\": {\"colorbar\": {\"outlinewidth\": 0, \"ticks\": \"\"}}, \"type\": \"scatterternary\"}], \"surface\": [{\"colorbar\": {\"outlinewidth\": 0, \"ticks\": \"\"}, \"colorscale\": [[0.0, \"#0d0887\"], [0.1111111111111111, \"#46039f\"], [0.2222222222222222, \"#7201a8\"], [0.3333333333333333, \"#9c179e\"], [0.4444444444444444, \"#bd3786\"], [0.5555555555555556, \"#d8576b\"], [0.6666666666666666, \"#ed7953\"], [0.7777777777777778, \"#fb9f3a\"], [0.8888888888888888, \"#fdca26\"], [1.0, \"#f0f921\"]], \"type\": \"surface\"}], \"table\": [{\"cells\": {\"fill\": {\"color\": \"#EBF0F8\"}, \"line\": {\"color\": \"white\"}}, \"header\": {\"fill\": {\"color\": \"#C8D4E3\"}, \"line\": {\"color\": \"white\"}}, \"type\": \"table\"}]}, \"layout\": {\"annotationdefaults\": {\"arrowcolor\": \"#2a3f5f\", \"arrowhead\": 0, \"arrowwidth\": 1}, \"coloraxis\": {\"colorbar\": {\"outlinewidth\": 0, \"ticks\": \"\"}}, \"colorscale\": {\"diverging\": [[0, \"#8e0152\"], [0.1, \"#c51b7d\"], [0.2, \"#de77ae\"], [0.3, \"#f1b6da\"], [0.4, \"#fde0ef\"], [0.5, \"#f7f7f7\"], [0.6, \"#e6f5d0\"], [0.7, \"#b8e186\"], [0.8, \"#7fbc41\"], [0.9, \"#4d9221\"], [1, \"#276419\"]], \"sequential\": [[0.0, \"#0d0887\"], [0.1111111111111111, \"#46039f\"], [0.2222222222222222, \"#7201a8\"], [0.3333333333333333, \"#9c179e\"], [0.4444444444444444, \"#bd3786\"], [0.5555555555555556, \"#d8576b\"], [0.6666666666666666, \"#ed7953\"], [0.7777777777777778, \"#fb9f3a\"], [0.8888888888888888, \"#fdca26\"], [1.0, \"#f0f921\"]], \"sequentialminus\": [[0.0, \"#0d0887\"], [0.1111111111111111, \"#46039f\"], [0.2222222222222222, \"#7201a8\"], [0.3333333333333333, \"#9c179e\"], [0.4444444444444444, \"#bd3786\"], [0.5555555555555556, \"#d8576b\"], [0.6666666666666666, \"#ed7953\"], [0.7777777777777778, \"#fb9f3a\"], [0.8888888888888888, \"#fdca26\"], [1.0, \"#f0f921\"]]}, \"colorway\": [\"#636efa\", \"#EF553B\", \"#00cc96\", \"#ab63fa\", \"#FFA15A\", \"#19d3f3\", \"#FF6692\", \"#B6E880\", \"#FF97FF\", \"#FECB52\"], \"font\": {\"color\": \"#2a3f5f\"}, \"geo\": {\"bgcolor\": \"white\", \"lakecolor\": \"white\", \"landcolor\": \"#E5ECF6\", \"showlakes\": true, \"showland\": true, \"subunitcolor\": \"white\"}, \"hoverlabel\": {\"align\": \"left\"}, \"hovermode\": \"closest\", \"mapbox\": {\"style\": \"light\"}, \"paper_bgcolor\": \"white\", \"plot_bgcolor\": \"#E5ECF6\", \"polar\": {\"angularaxis\": {\"gridcolor\": \"white\", \"linecolor\": \"white\", \"ticks\": \"\"}, \"bgcolor\": \"#E5ECF6\", \"radialaxis\": {\"gridcolor\": \"white\", \"linecolor\": \"white\", \"ticks\": \"\"}}, \"scene\": {\"xaxis\": {\"backgroundcolor\": \"#E5ECF6\", \"gridcolor\": \"white\", \"gridwidth\": 2, \"linecolor\": \"white\", \"showbackground\": true, \"ticks\": \"\", \"zerolinecolor\": \"white\"}, \"yaxis\": {\"backgroundcolor\": \"#E5ECF6\", \"gridcolor\": \"white\", \"gridwidth\": 2, \"linecolor\": \"white\", \"showbackground\": true, \"ticks\": \"\", \"zerolinecolor\": \"white\"}, \"zaxis\": {\"backgroundcolor\": \"#E5ECF6\", \"gridcolor\": \"white\", \"gridwidth\": 2, \"linecolor\": \"white\", \"showbackground\": true, \"ticks\": \"\", \"zerolinecolor\": \"white\"}}, \"shapedefaults\": {\"line\": {\"color\": \"#2a3f5f\"}}, \"ternary\": {\"aaxis\": {\"gridcolor\": \"white\", \"linecolor\": \"white\", \"ticks\": \"\"}, \"baxis\": {\"gridcolor\": \"white\", \"linecolor\": \"white\", \"ticks\": \"\"}, \"bgcolor\": \"#E5ECF6\", \"caxis\": {\"gridcolor\": \"white\", \"linecolor\": \"white\", \"ticks\": \"\"}}, \"title\": {\"x\": 0.05}, \"xaxis\": {\"automargin\": true, \"gridcolor\": \"white\", \"linecolor\": \"white\", \"ticks\": \"\", \"title\": {\"standoff\": 15}, \"zerolinecolor\": \"white\", \"zerolinewidth\": 2}, \"yaxis\": {\"automargin\": true, \"gridcolor\": \"white\", \"linecolor\": \"white\", \"ticks\": \"\", \"title\": {\"standoff\": 15}, \"zerolinecolor\": \"white\", \"zerolinewidth\": 2}}}, \"xaxis\": {\"anchor\": \"y\", \"domain\": [0.0, 1.0], \"title\": {\"text\": \"x\"}}, \"yaxis\": {\"anchor\": \"x\", \"domain\": [0.0, 1.0], \"title\": {\"text\": \"y\"}}},\n",
              "                        {\"responsive\": true}\n",
              "                    ).then(function(){\n",
              "                            \n",
              "var gd = document.getElementById('cd27e56f-d8dd-4d95-a4d0-0f78fdd194ab');\n",
              "var x = new MutationObserver(function (mutations, observer) {{\n",
              "        var display = window.getComputedStyle(gd).display;\n",
              "        if (!display || display === 'none') {{\n",
              "            console.log([gd, 'removed!']);\n",
              "            Plotly.purge(gd);\n",
              "            observer.disconnect();\n",
              "        }}\n",
              "}});\n",
              "\n",
              "// Listen for the removal of the full notebook cells\n",
              "var notebookContainer = gd.closest('#notebook-container');\n",
              "if (notebookContainer) {{\n",
              "    x.observe(notebookContainer, {childList: true});\n",
              "}}\n",
              "\n",
              "// Listen for the clearing of the current output cell\n",
              "var outputEl = gd.closest('.output');\n",
              "if (outputEl) {{\n",
              "    x.observe(outputEl, {childList: true});\n",
              "}}\n",
              "\n",
              "                        })\n",
              "                };\n",
              "                \n",
              "            </script>\n",
              "        </div>\n",
              "</body>\n",
              "</html>"
            ]
          },
          "metadata": {
            "tags": []
          }
        }
      ]
    },
    {
      "cell_type": "markdown",
      "metadata": {
        "id": "E7NeNwoMGem2",
        "colab_type": "text"
      },
      "source": [
        "### Exploring the 'location' column\n",
        "\n",
        "Even though the column 'location' has lots of missing values, let's check the top 20 locations present in the dataset. Since some of the locations are duplicated, lets clean the duplicate locations and plot them."
      ]
    },
    {
      "cell_type": "code",
      "metadata": {
        "id": "21VOr-XQGem3",
        "colab_type": "code",
        "colab": {
          "base_uri": "https://localhost:8080/",
          "height": 0
        },
        "outputId": "37c1749a-a648-4ff9-9b7d-c240085a8bf7"
      },
      "source": [
        "# Replacing the ambigious locations name with standard names and create a dictionary object\n",
        "\n",
        "loc_dict={'United States':'USA','New York':'USA',\"London\":'UK',\"Los Angeles, CA\":'USA',\"Washington, D.C.\":'USA',\n",
        "          \"California\":'USA',\"Chicago, IL\":'USA',\"Chicago\":'USA',\"New York, NY\":'USA',\"California, USA\":'USA',\n",
        "          \"FLorida\":'USA',\"Nigeria\":'Africa',\"Kenya\":'Africa',\"Everywhere\":'Worldwide',\"San Francisco\":'USA',\n",
        "          \"Florida\":'USA',\"United Kingdom\":'UK',\"Los Angeles\":'USA',\"Toronto\":'Canada',\"San Francisco, CA\":'USA',\n",
        "          \"NYC\":'USA',\"Seattle\":'USA',\"Earth\":'Worldwide',\"Ireland\":'UK',\"London, England\":'UK',\"New York City\":'USA',\n",
        "          \"Texas\":'USA',\"London, UK\":'UK',\"Atlanta, GA\":'USA',\"Mumbai\":\"India\"}\n",
        "\n",
        "train_df['location'].replace(loc_dict,inplace=True)\n",
        "\n",
        "#Create barchart for top 10 locations using seaborn\n",
        "sns.barplot(y=train_df['location'].value_counts()[:10].index,x=train_df['location'].value_counts()[:10],\n",
        "            orient='h');"
      ],
      "execution_count": 19,
      "outputs": [
        {
          "output_type": "display_data",
          "data": {
            "image/png": "[encoded data removed]",
            "text/plain": [
              "<Figure size 432x288 with 1 Axes>"
            ]
          },
          "metadata": {
            "tags": [],
            "needs_background": "light"
          }
        }
      ]
    },
    {
      "cell_type": "markdown",
      "metadata": {
        "id": "xjvNanSSGem5",
        "colab_type": "text"
      },
      "source": [
        "It doesn't seem that `location` feature has any value in our analysis and could be dropped from the dataframe."
      ]
    },
    {
      "cell_type": "code",
      "metadata": {
        "id": "1DfnRVzuGem5",
        "colab_type": "code",
        "colab": {}
      },
      "source": [
        "# Drop the column 'location' from the training dataset\n",
        "train_df=train_df.drop(['location'],axis=1)"
      ],
      "execution_count": 20,
      "outputs": []
    },
    {
      "cell_type": "markdown",
      "metadata": {
        "id": "k8q1NdomGem8",
        "colab_type": "text"
      },
      "source": [
        "Lets further analyize the `text` feature and if there is any correlation between `text` and length of the tweets itself."
      ]
    },
    {
      "cell_type": "code",
      "metadata": {
        "id": "R_YHkjECGem9",
        "colab_type": "code",
        "colab": {
          "base_uri": "https://localhost:8080/",
          "height": 0
        },
        "outputId": "757ffb71-7475-4584-b299-98a3c33c4b36"
      },
      "source": [
        "# Lets find the length of the 'text' for each row and add a new cloumn to train dataframe \n",
        "train_df['text_length'] = train_df['text'].apply(lambda x : len(x))\n",
        "train_df.head(4)"
      ],
      "execution_count": 21,
      "outputs": [
        {
          "output_type": "execute_result",
          "data": {
            "text/html": [
              "<div>\n",
              "<style scoped>\n",
              "    .dataframe tbody tr th:only-of-type {\n",
              "        vertical-align: middle;\n",
              "    }\n",
              "\n",
              "    .dataframe tbody tr th {\n",
              "        vertical-align: top;\n",
              "    }\n",
              "\n",
              "    .dataframe thead th {\n",
              "        text-align: right;\n",
              "    }\n",
              "</style>\n",
              "<table border=\"1\" class=\"dataframe\">\n",
              "  <thead>\n",
              "    <tr style=\"text-align: right;\">\n",
              "      <th></th>\n",
              "      <th>id</th>\n",
              "      <th>keyword</th>\n",
              "      <th>text</th>\n",
              "      <th>target</th>\n",
              "      <th>text_length</th>\n",
              "    </tr>\n",
              "  </thead>\n",
              "  <tbody>\n",
              "    <tr>\n",
              "      <th>0</th>\n",
              "      <td>1</td>\n",
              "      <td>NaN</td>\n",
              "      <td>Our Deeds are the Reason of this #earthquake M...</td>\n",
              "      <td>1</td>\n",
              "      <td>69</td>\n",
              "    </tr>\n",
              "    <tr>\n",
              "      <th>1</th>\n",
              "      <td>4</td>\n",
              "      <td>NaN</td>\n",
              "      <td>Forest fire near La Ronge Sask. Canada</td>\n",
              "      <td>1</td>\n",
              "      <td>38</td>\n",
              "    </tr>\n",
              "    <tr>\n",
              "      <th>2</th>\n",
              "      <td>5</td>\n",
              "      <td>NaN</td>\n",
              "      <td>All residents asked to 'shelter in place' are ...</td>\n",
              "      <td>1</td>\n",
              "      <td>133</td>\n",
              "    </tr>\n",
              "    <tr>\n",
              "      <th>3</th>\n",
              "      <td>6</td>\n",
              "      <td>NaN</td>\n",
              "      <td>13,000 people receive #wildfires evacuation or...</td>\n",
              "      <td>1</td>\n",
              "      <td>65</td>\n",
              "    </tr>\n",
              "  </tbody>\n",
              "</table>\n",
              "</div>"
            ],
            "text/plain": [
              "   id keyword  ... target  text_length\n",
              "0   1     NaN  ...      1           69\n",
              "1   4     NaN  ...      1           38\n",
              "2   5     NaN  ...      1          133\n",
              "3   6     NaN  ...      1           65\n",
              "\n",
              "[4 rows x 5 columns]"
            ]
          },
          "metadata": {
            "tags": []
          },
          "execution_count": 21
        }
      ]
    },
    {
      "cell_type": "code",
      "metadata": {
        "id": "to6K9iFhGenA",
        "colab_type": "code",
        "colab": {
          "base_uri": "https://localhost:8080/",
          "height": 0
        },
        "outputId": "a911421a-6926-46e8-e90c-8deaaffb5aa7"
      },
      "source": [
        "train_df.text_length.describe()"
      ],
      "execution_count": 22,
      "outputs": [
        {
          "output_type": "execute_result",
          "data": {
            "text/plain": [
              "count    7613.000000\n",
              "mean      101.037436\n",
              "std        33.781325\n",
              "min         7.000000\n",
              "25%        78.000000\n",
              "50%       107.000000\n",
              "75%       133.000000\n",
              "max       157.000000\n",
              "Name: text_length, dtype: float64"
            ]
          },
          "metadata": {
            "tags": []
          },
          "execution_count": 22
        }
      ]
    },
    {
      "cell_type": "code",
      "metadata": {
        "id": "fJOzvcOdGenC",
        "colab_type": "code",
        "colab": {
          "base_uri": "https://localhost:8080/",
          "height": 0
        },
        "outputId": "e62e6541-c0a4-4b9b-97c0-3979243d8f63"
      },
      "source": [
        "#Create distribution chart to visualize text length distribution\n",
        "ax=sns.distplot(train_df['text_length']).set_title('Distribution of the tweet lengths');\n",
        "plt.grid(True)"
      ],
      "execution_count": 23,
      "outputs": [
        {
          "output_type": "display_data",
          "data": {
            "image/png": "[encoded data removed]",
            "text/plain": [
              "<Figure size 432x288 with 1 Axes>"
            ]
          },
          "metadata": {
            "tags": [],
            "needs_background": "light"
          }
        }
      ]
    },
    {
      "cell_type": "code",
      "metadata": {
        "id": "tSjYqrPzGenE",
        "colab_type": "code",
        "colab": {
          "base_uri": "https://localhost:8080/",
          "height": 0
        },
        "outputId": "1eb318f3-1b70-4f95-f043-231fff1ca27f"
      },
      "source": [
        "#Create visualization of the distribution of text length in comparision to target feature\n",
        "f, (ax1, ax2) = plt.subplots(1, 2, sharex=True,figsize=(10,6))\n",
        "sns.distplot(train_df[(train_df['target'] == 1)]['text_length'], ax=ax1, kde=False, color='green',label='Disater Tweets')\n",
        "sns.distplot(train_df[(train_df['target'] == 0)]['text_length'],ax=ax2, kde=False, color='red',label='Non-Disater Tweets');\n",
        "f.suptitle('Tweet length distribution')\n",
        "f.legend(loc='upper right')\n",
        "ax1.grid()\n",
        "ax2.grid()\n",
        "plt.show()"
      ],
      "execution_count": 24,
      "outputs": [
        {
          "output_type": "display_data",
          "data": {
            "image/png": "[encoded data removed]",
            "text/plain": [
              "<Figure size 720x432 with 2 Axes>"
            ]
          },
          "metadata": {
            "tags": [],
            "needs_background": "light"
          }
        }
      ]
    },
    {
      "cell_type": "markdown",
      "metadata": {
        "id": "r7L28p8FGenG",
        "colab_type": "text"
      },
      "source": [
        "The distribution of both kind of tweets seems to be almost same.About 120 to 140 characters in a tweet are the most common among both."
      ]
    },
    {
      "cell_type": "code",
      "metadata": {
        "id": "x2Jvbmh4GenG",
        "colab_type": "code",
        "colab": {
          "base_uri": "https://localhost:8080/",
          "height": 0
        },
        "outputId": "e8c07647-11ae-40dc-b258-355319c3c82a"
      },
      "source": [
        "#Create visualization of the distribution of the word counts in comparision to target feature\n",
        "fig,(ax1,ax2)=plt.subplots(1,2,figsize=(10,5))\n",
        "dis_tweet=train_df[train_df['target']==1]['text'].str.split().map(lambda x: len(x))\n",
        "ax1.hist(dis_tweet,color='blue')\n",
        "ax1.set_title('Disaster tweets')\n",
        "ax1.grid()\n",
        "nondis_tweet=train_df[train_df['target']==0]['text'].str.split().map(lambda x: len(x))\n",
        "ax2.hist(nondis_tweet,color='red')\n",
        "ax2.set_title('Non-disaster tweets')\n",
        "ax2.grid()\n",
        "fig.suptitle('Words in a tweet')\n",
        "plt.show()"
      ],
      "execution_count": 25,
      "outputs": [
        {
          "output_type": "display_data",
          "data": {
            "image/png": "[encoded data removed]",
            "text/plain": [
              "<Figure size 720x360 with 2 Axes>"
            ]
          },
          "metadata": {
            "tags": [],
            "needs_background": "light"
          }
        }
      ]
    },
    {
      "cell_type": "markdown",
      "metadata": {
        "id": "Tv4glIFWGenI",
        "colab_type": "text"
      },
      "source": [
        "### Exploring the Target Column\n",
        "\n",
        "- Distribution of the Target Column-\n",
        "   - We have to predict whether a given tweet is about a real disaster or not.\n",
        "   - If real disaster, predict a `1`. If not, predict a `0`.\n",
        "- Exploring the Target Column- Let's look at what the disaster and the non disaster tweets look like."
      ]
    },
    {
      "cell_type": "code",
      "metadata": {
        "id": "OBK7QDjMGenJ",
        "colab_type": "code",
        "colab": {
          "base_uri": "https://localhost:8080/",
          "height": 0
        },
        "outputId": "18063f2c-752f-42c8-b578-a1f60007efe7"
      },
      "source": [
        "# A disaster tweet exmaple\n",
        "train_df[train_df['target']==1]['text'][10:20]"
      ],
      "execution_count": 26,
      "outputs": [
        {
          "output_type": "execute_result",
          "data": {
            "text/plain": [
              "10          Three people died from the heat wave so far\n",
              "11    Haha South Tampa is getting flooded hah- WAIT ...\n",
              "12    #raining #flooding #Florida #TampaBay #Tampa 1...\n",
              "13              #Flood in Bago Myanmar #We arrived Bago\n",
              "14    Damage to school bus on 80 in multi car crash ...\n",
              "31    @bbcmtd Wholesale Markets ablaze http://t.co/l...\n",
              "33    #AFRICANBAZE: Breaking news:Nigeria flag set a...\n",
              "37    INEC Office in Abia Set Ablaze - http://t.co/3...\n",
              "38    Barbados #Bridgetown JAMAICA ÛÒ Two cars set ...\n",
              "46    How the West was burned: Thousands of wildfire...\n",
              "Name: text, dtype: object"
            ]
          },
          "metadata": {
            "tags": []
          },
          "execution_count": 26
        }
      ]
    },
    {
      "cell_type": "code",
      "metadata": {
        "id": "L1JMtuvMGenL",
        "colab_type": "code",
        "colab": {
          "base_uri": "https://localhost:8080/",
          "height": 0
        },
        "outputId": "0f784d84-e8df-4d47-a0f5-a663f0348ac2"
      },
      "source": [
        "#A non-disaster tweet example\n",
        "train_df[train_df['target']==0]['text'][10:20]"
      ],
      "execution_count": 27,
      "outputs": [
        {
          "output_type": "execute_result",
          "data": {
            "text/plain": [
              "25                       No way...I can't eat that shit\n",
              "26                                Was in NYC last week!\n",
              "27                                   Love my girlfriend\n",
              "28                                            Cooool :)\n",
              "29                                   Do you like pasta?\n",
              "30                                             The end!\n",
              "32    We always try to bring the heavy. #metal #RT h...\n",
              "34                   Crying out for more! Set me ablaze\n",
              "35    On plus side LOOK AT THE SKY LAST NIGHT IT WAS...\n",
              "36    @PhDSquares #mufc they've built so much hype a...\n",
              "Name: text, dtype: object"
            ]
          },
          "metadata": {
            "tags": []
          },
          "execution_count": 27
        }
      ]
    },
    {
      "cell_type": "markdown",
      "metadata": {
        "id": "4Vg1c7itGenN",
        "colab_type": "text"
      },
      "source": [
        "# 2. Data Preprocessing"
      ]
    },
    {
      "cell_type": "markdown",
      "metadata": {
        "id": "OVW0TItuGenO",
        "colab_type": "text"
      },
      "source": [
        "### Data Cleaning\n",
        "\n",
        "Before starting any NLP project, text data needs to be pre-processed to convert it into in a consistent format.Text will be cleaned, tokneized and converted into a matrix.\n",
        "\n",
        "Some of the basic text pre-processing techniques includes:\n",
        "### Make text all lower or uppercase\n",
        "Algorithms does not treat the same word different in different cases.\n",
        "### Removing Noise\n",
        "Everything in the text that isn’t a standard number or letter i.e. Punctuation, Numerical values,etc.\n",
        "###  Tokenization\n",
        "Tokenization is just the term used to describe the process of converting the normal text strings into a list of tokens i.e. words.Sentence tokenizer can be used to find the list of sentences and Word tokenizer can be used to find the list of words in strings.\n",
        "### Stopword Removal\n",
        "Sometimes, some extremely common words which would appear to be of little value in helping select documents matching a user need are excluded from the vocabulary entirely. These words are called stop words\n",
        "\n",
        "### Stemming\n",
        "Stemming is the process of reducing inflected (or sometimes derived) words to their stem, base or root form — generally a written word form. Example if we were to stem the following words: “Stems”, “Stemming”, “Stemmed”, “and Stemtization”, the result would be a single word “stem”.\n",
        "### Lemmatization\n",
        "A slight variant of stemming is lemmatization. The major difference between these is, that, stemming can often create non-existent words, whereas lemmas are actual words. So, your root stem, meaning the word you end up with, is not something you can just look up in a dictionary, but you can look up a lemma. Examples of Lemmatization are that “run” is a base form for words like “running” or “ran” or that the word “better” and “good” are in the same lemma so they are considered the same."
      ]
    },
    {
      "cell_type": "code",
      "metadata": {
        "id": "CUlD_ut1GenO",
        "colab_type": "code",
        "colab": {
          "base_uri": "https://localhost:8080/",
          "height": 0
        },
        "outputId": "9f26edcc-12c2-4dd0-e0ac-6f73b740775f"
      },
      "source": [
        "#Lets have a quick look of the text data\n",
        "train_df['text'][:5]"
      ],
      "execution_count": 28,
      "outputs": [
        {
          "output_type": "execute_result",
          "data": {
            "text/plain": [
              "0    Our Deeds are the Reason of this #earthquake M...\n",
              "1               Forest fire near La Ronge Sask. Canada\n",
              "2    All residents asked to 'shelter in place' are ...\n",
              "3    13,000 people receive #wildfires evacuation or...\n",
              "4    Just got sent this photo from Ruby #Alaska as ...\n",
              "Name: text, dtype: object"
            ]
          },
          "metadata": {
            "tags": []
          },
          "execution_count": 28
        }
      ]
    },
    {
      "cell_type": "code",
      "metadata": {
        "id": "I2f7Yvv5GenR",
        "colab_type": "code",
        "colab": {}
      },
      "source": [
        "# Create a function to clean the text\n",
        "\n",
        "def clean_text(text):\n",
        "\n",
        "    '''\n",
        "    Input- 'text' to be cleaned\n",
        "       \n",
        "       Output- Convert input 'text' to lowercase,remove square brackets,links,punctuation\n",
        "       and words containing numbers. Return clean text.\n",
        "    \n",
        "    '''\n",
        "    text = text.lower()\n",
        "    text = re.sub('\\[.*?\\]', '', text)\n",
        "    text = re.sub('https?://\\S+|www\\.\\S+', '', text)\n",
        "    text = re.sub('<.*?>+', '', text)\n",
        "    text = re.sub('[%s]' % re.escape(string.punctuation), '', text)\n",
        "    text = re.sub('\\n', '', text)\n",
        "    text = re.sub('\\w*\\d\\w*', '', text)\n",
        "    return text"
      ],
      "execution_count": 29,
      "outputs": []
    },
    {
      "cell_type": "code",
      "metadata": {
        "id": "t4Xy3SB3GenT",
        "colab_type": "code",
        "colab": {}
      },
      "source": [
        "# Lets apply the clean_text function to both test and training datasets copies\n",
        "train_df1=train_df.copy()\n",
        "test_df1=test_df.copy()\n",
        "train_df1['text'] = train_df1['text'].apply(lambda x: clean_text(x))\n",
        "test_df1['text'] = test_df1['text'].apply(lambda x: clean_text(x))"
      ],
      "execution_count": 30,
      "outputs": []
    },
    {
      "cell_type": "code",
      "metadata": {
        "id": "jecLk_0SGenV",
        "colab_type": "code",
        "colab": {}
      },
      "source": [
        "#Lets look cleaned text data\n",
        "def text_after_preprocess(before_text,after_text):\n",
        "    \n",
        "    '''\n",
        "    Input- before_text=text column before cleanup\n",
        "              after_text= text column after cleanup\n",
        "       Output- print before and after text to compare how it looks after cleanup\n",
        "       \n",
        "    '''\n",
        "    print('-'*60)\n",
        "    print('Text before cleanup')\n",
        "    print('-'*60)\n",
        "    print(before_text.head(5))\n",
        "    print('-'*60)\n",
        "    print('Text after cleanup')\n",
        "    print('-'*60)\n",
        "    print(after_text.head(5))"
      ],
      "execution_count": 31,
      "outputs": []
    },
    {
      "cell_type": "code",
      "metadata": {
        "id": "JITjpv--GenX",
        "colab_type": "code",
        "colab": {
          "base_uri": "https://localhost:8080/",
          "height": 0
        },
        "outputId": "7c3ae5bb-9d89-4c3e-c7f4-e5f426beb1ac"
      },
      "source": [
        "text_after_preprocess(train_df.text,train_df1.text)"
      ],
      "execution_count": 32,
      "outputs": [
        {
          "output_type": "stream",
          "text": [
            "------------------------------------------------------------\n",
            "Text before cleanup\n",
            "------------------------------------------------------------\n",
            "0    Our Deeds are the Reason of this #earthquake M...\n",
            "1               Forest fire near La Ronge Sask. Canada\n",
            "2    All residents asked to 'shelter in place' are ...\n",
            "3    13,000 people receive #wildfires evacuation or...\n",
            "4    Just got sent this photo from Ruby #Alaska as ...\n",
            "Name: text, dtype: object\n",
            "------------------------------------------------------------\n",
            "Text after cleanup\n",
            "------------------------------------------------------------\n",
            "0    our deeds are the reason of this earthquake ma...\n",
            "1                forest fire near la ronge sask canada\n",
            "2    all residents asked to shelter in place are be...\n",
            "3     people receive wildfires evacuation orders in...\n",
            "4    just got sent this photo from ruby alaska as s...\n",
            "Name: text, dtype: object\n"
          ],
          "name": "stdout"
        }
      ]
    },
    {
      "cell_type": "code",
      "metadata": {
        "id": "Xc7Xp983GenZ",
        "colab_type": "code",
        "colab": {
          "base_uri": "https://localhost:8080/",
          "height": 0
        },
        "outputId": "02a261b6-c028-47dd-a0d8-b99a18e30003"
      },
      "source": [
        "text_after_preprocess(test_df.text,test_df1.text)"
      ],
      "execution_count": 33,
      "outputs": [
        {
          "output_type": "stream",
          "text": [
            "------------------------------------------------------------\n",
            "Text before cleanup\n",
            "------------------------------------------------------------\n",
            "0                   Just happened a terrible car crash\n",
            "1    Heard about #earthquake is different cities, s...\n",
            "2    there is a forest fire at spot pond, geese are...\n",
            "3             Apocalypse lighting. #Spokane #wildfires\n",
            "4        Typhoon Soudelor kills 28 in China and Taiwan\n",
            "Name: text, dtype: object\n",
            "------------------------------------------------------------\n",
            "Text after cleanup\n",
            "------------------------------------------------------------\n",
            "0                   just happened a terrible car crash\n",
            "1    heard about earthquake is different cities sta...\n",
            "2    there is a forest fire at spot pond geese are ...\n",
            "3                apocalypse lighting spokane wildfires\n",
            "4          typhoon soudelor kills  in china and taiwan\n",
            "Name: text, dtype: object\n"
          ],
          "name": "stdout"
        }
      ]
    },
    {
      "cell_type": "code",
      "metadata": {
        "id": "9vr7oc0EGenc",
        "colab_type": "code",
        "colab": {
          "base_uri": "https://localhost:8080/",
          "height": 0
        },
        "outputId": "a0c1a489-2cc3-462f-efe7-697ef4de86f8"
      },
      "source": [
        "test_df.text[1]"
      ],
      "execution_count": 34,
      "outputs": [
        {
          "output_type": "execute_result",
          "data": {
            "application/vnd.google.colaboratory.intrinsic+json": {
              "type": "string"
            },
            "text/plain": [
              "'Heard about #earthquake is different cities, stay safe everyone.'"
            ]
          },
          "metadata": {
            "tags": []
          },
          "execution_count": 34
        }
      ]
    },
    {
      "cell_type": "markdown",
      "metadata": {
        "id": "N565rdbFGene",
        "colab_type": "text"
      },
      "source": [
        "### Tokenization\n",
        "Tokenization is a process which splits an input text into tokens and the tokens can be a word, sentence, paragraph etc.\n",
        "\n",
        "Following code will show how tokenization of text works:"
      ]
    },
    {
      "cell_type": "code",
      "metadata": {
        "id": "9_ELvCk1Genf",
        "colab_type": "code",
        "colab": {
          "base_uri": "https://localhost:8080/",
          "height": 0
        },
        "outputId": "72401f5b-849f-453f-f0c6-abcb5b2ce014"
      },
      "source": [
        "# Example how tokenization of text works\n",
        "text = \"Heard about #earthquake is different cities, stay safe everyone.\"\n",
        "tokenizer1 = nltk.tokenize.WhitespaceTokenizer()\n",
        "tokenizer2 = nltk.tokenize.TreebankWordTokenizer()\n",
        "tokenizer3 = nltk.tokenize.WordPunctTokenizer()\n",
        "tokenizer4 = nltk.tokenize.RegexpTokenizer(r'\\w+')\n",
        "print(\"-\"*100)\n",
        "print(\"Example Text: \",text)\n",
        "print(\"-\"*100)\n",
        "print(\"Tokenization by whitespace:- \",tokenizer1.tokenize(text))\n",
        "print(\"Tokenization by words using Treebank Word Tokenizer:- \",tokenizer2.tokenize(text))\n",
        "print(\"Tokenization by punctuation:- \",tokenizer3.tokenize(text))\n",
        "print(\"Tokenization by regular expression:- \",tokenizer4.tokenize(text))"
      ],
      "execution_count": 35,
      "outputs": [
        {
          "output_type": "stream",
          "text": [
            "----------------------------------------------------------------------------------------------------\n",
            "Example Text:  Heard about #earthquake is different cities, stay safe everyone.\n",
            "----------------------------------------------------------------------------------------------------\n",
            "Tokenization by whitespace:-  ['Heard', 'about', '#earthquake', 'is', 'different', 'cities,', 'stay', 'safe', 'everyone.']\n",
            "Tokenization by words using Treebank Word Tokenizer:-  ['Heard', 'about', '#', 'earthquake', 'is', 'different', 'cities', ',', 'stay', 'safe', 'everyone', '.']\n",
            "Tokenization by punctuation:-  ['Heard', 'about', '#', 'earthquake', 'is', 'different', 'cities', ',', 'stay', 'safe', 'everyone', '.']\n",
            "Tokenization by regular expression:-  ['Heard', 'about', 'earthquake', 'is', 'different', 'cities', 'stay', 'safe', 'everyone']\n"
          ],
          "name": "stdout"
        }
      ]
    },
    {
      "cell_type": "code",
      "metadata": {
        "id": "SjArD3p-Genh",
        "colab_type": "code",
        "colab": {}
      },
      "source": [
        "# Lets Tokenize the training and the test dataset copies with RegEx tokenizer\n",
        "tokenizer = nltk.tokenize.RegexpTokenizer(r'\\w+')\n",
        "train_df1['text'] = train_df1['text'].apply(lambda x: tokenizer.tokenize(x))\n",
        "test_df1['text'] = test_df1['text'].apply(lambda x: tokenizer.tokenize(x))"
      ],
      "execution_count": 36,
      "outputs": []
    },
    {
      "cell_type": "code",
      "metadata": {
        "id": "jAYzdnvDGenj",
        "colab_type": "code",
        "colab": {
          "base_uri": "https://localhost:8080/",
          "height": 0
        },
        "outputId": "55537990-a707-4c31-d11b-6ee0c1824df3"
      },
      "source": [
        "#Lets checy tokenized text\n",
        "train_df1['text'].head()"
      ],
      "execution_count": 37,
      "outputs": [
        {
          "output_type": "execute_result",
          "data": {
            "text/plain": [
              "0    [our, deeds, are, the, reason, of, this, earth...\n",
              "1        [forest, fire, near, la, ronge, sask, canada]\n",
              "2    [all, residents, asked, to, shelter, in, place...\n",
              "3    [people, receive, wildfires, evacuation, order...\n",
              "4    [just, got, sent, this, photo, from, ruby, ala...\n",
              "Name: text, dtype: object"
            ]
          },
          "metadata": {
            "tags": []
          },
          "execution_count": 37
        }
      ]
    },
    {
      "cell_type": "code",
      "metadata": {
        "id": "0deNDQpiGenl",
        "colab_type": "code",
        "colab": {
          "base_uri": "https://localhost:8080/",
          "height": 0
        },
        "outputId": "bf96ba89-7fba-4776-eea0-962fefb64eb9"
      },
      "source": [
        "test_df1['text'].head()"
      ],
      "execution_count": 38,
      "outputs": [
        {
          "output_type": "execute_result",
          "data": {
            "text/plain": [
              "0            [just, happened, a, terrible, car, crash]\n",
              "1    [heard, about, earthquake, is, different, citi...\n",
              "2    [there, is, a, forest, fire, at, spot, pond, g...\n",
              "3           [apocalypse, lighting, spokane, wildfires]\n",
              "4    [typhoon, soudelor, kills, in, china, and, tai...\n",
              "Name: text, dtype: object"
            ]
          },
          "metadata": {
            "tags": []
          },
          "execution_count": 38
        }
      ]
    },
    {
      "cell_type": "markdown",
      "metadata": {
        "id": "bAlw79dqGenn",
        "colab_type": "text"
      },
      "source": [
        "### Stopwords Removal\n",
        "\n",
        "Now, let's get rid of the stopwords i.e words which occur very frequently and have possible value like a, an, the, are etc."
      ]
    },
    {
      "cell_type": "code",
      "metadata": {
        "id": "qGve1r6-Genn",
        "colab_type": "code",
        "colab": {}
      },
      "source": [
        "#Create a funtion to remove stopwords\n",
        "def remove_stopwords(text):\n",
        "    \n",
        "    \"\"\"\n",
        "    Input- text=text from which english stopwprds will be removed\n",
        "    Output- return text without english stopwords \n",
        "    \n",
        "    \"\"\"\n",
        "    words = [w for w in text if w not in stopwords.words('english')]\n",
        "    return words"
      ],
      "execution_count": 39,
      "outputs": []
    },
    {
      "cell_type": "code",
      "metadata": {
        "id": "hwmvvzV1Genp",
        "colab_type": "code",
        "colab": {}
      },
      "source": [
        "train_df1['text'] = train_df1['text'].apply(lambda x : remove_stopwords(x))\n",
        "test_df1['text'] = test_df1['text'].apply(lambda x : remove_stopwords(x))"
      ],
      "execution_count": 43,
      "outputs": []
    },
    {
      "cell_type": "code",
      "metadata": {
        "id": "42W3vowEGenr",
        "colab_type": "code",
        "colab": {
          "base_uri": "https://localhost:8080/",
          "height": 119
        },
        "outputId": "41ab94bb-461d-46ef-b98d-3d5f697ce068"
      },
      "source": [
        "train_df1.text.head()"
      ],
      "execution_count": 44,
      "outputs": [
        {
          "output_type": "execute_result",
          "data": {
            "text/plain": [
              "0    [deeds, reason, earthquake, may, allah, forgiv...\n",
              "1        [forest, fire, near, la, ronge, sask, canada]\n",
              "2    [residents, asked, shelter, place, notified, o...\n",
              "3    [people, receive, wildfires, evacuation, order...\n",
              "4    [got, sent, photo, ruby, alaska, smoke, wildfi...\n",
              "Name: text, dtype: object"
            ]
          },
          "metadata": {
            "tags": []
          },
          "execution_count": 44
        }
      ]
    },
    {
      "cell_type": "code",
      "metadata": {
        "id": "7so9peq6Genu",
        "colab_type": "code",
        "colab": {
          "base_uri": "https://localhost:8080/",
          "height": 119
        },
        "outputId": "33177d1b-5c73-4238-e9dc-a16f526fdc23"
      },
      "source": [
        "test_df1.text.head()"
      ],
      "execution_count": 45,
      "outputs": [
        {
          "output_type": "execute_result",
          "data": {
            "text/plain": [
              "0                     [happened, terrible, car, crash]\n",
              "1    [heard, earthquake, different, cities, stay, s...\n",
              "2    [forest, fire, spot, pond, geese, fleeing, acr...\n",
              "3           [apocalypse, lighting, spokane, wildfires]\n",
              "4            [typhoon, soudelor, kills, china, taiwan]\n",
              "Name: text, dtype: object"
            ]
          },
          "metadata": {
            "tags": []
          },
          "execution_count": 45
        }
      ]
    },
    {
      "cell_type": "markdown",
      "metadata": {
        "id": "Q_GZFkFBGenx",
        "colab_type": "text"
      },
      "source": [
        "### Stemming and Lemmatization\n",
        "- **Stemming**: Removing and replacing suffixes to get to the root form of the word, which is called the stem for instance cats - cat, wolves - wolv\n",
        "- **Lemmatization** : Returns the base or dictionary form of a word, which is known as the lemma\n",
        "\n",
        "It is important to note that stemming and lemmatization sometimes doesnt necessarily improve results as sometimes we dont want to trim words rather preserve their original form.Its usage from problem to problem and for this problem it wouldnt be good idea to use it."
      ]
    },
    {
      "cell_type": "code",
      "metadata": {
        "id": "t474E1ixGenx",
        "colab_type": "code",
        "colab": {
          "base_uri": "https://localhost:8080/",
          "height": 51
        },
        "outputId": "a88eb33b-0231-4bf9-f88c-c4a9acc69bab"
      },
      "source": [
        "# Stemming and Lemmatization examples\n",
        "text =  \"ran deduced dogs talking studies\"\n",
        "\n",
        "tokenizer = nltk.tokenize.TreebankWordTokenizer()\n",
        "tokens = tokenizer.tokenize(text)\n",
        "\n",
        "# Stemmer\n",
        "stemmer = nltk.stem.PorterStemmer()\n",
        "print(\"Stemming the sentence: \", \" \".join(stemmer.stem(token) for token in tokens))\n",
        "\n",
        "# Lemmatizer\n",
        "lemmatizer=nltk.stem.WordNetLemmatizer()\n",
        "print(\"Lemmatizing the sentence: \", \" \".join(lemmatizer.lemmatize(token) for token in tokens))"
      ],
      "execution_count": 46,
      "outputs": [
        {
          "output_type": "stream",
          "text": [
            "Stemming the sentence:  ran deduc dog talk studi\n",
            "Lemmatizing the sentence:  ran deduced dog talking study\n"
          ],
          "name": "stdout"
        }
      ]
    },
    {
      "cell_type": "code",
      "metadata": {
        "id": "fEFZlw8dGen0",
        "colab_type": "code",
        "colab": {}
      },
      "source": [
        "# Lets combine text after processing it\n",
        "def combine_text(text):\n",
        "    \n",
        "    '''\n",
        "    Input-text= list cleand and tokenized text\n",
        "    Output- Takes a list of text and returns combined one large chunk of text.\n",
        "    \n",
        "    '''\n",
        "    all_text = ' '.join(text)\n",
        "    return all_text"
      ],
      "execution_count": 47,
      "outputs": []
    },
    {
      "cell_type": "code",
      "metadata": {
        "id": "6RHna4roGen3",
        "colab_type": "code",
        "colab": {}
      },
      "source": [
        "train_df1['text'] = train_df1['text'].apply(lambda x : combine_text(x))\n",
        "test_df1['text'] = test_df1['text'].apply(lambda x : combine_text(x))"
      ],
      "execution_count": 48,
      "outputs": []
    },
    {
      "cell_type": "code",
      "metadata": {
        "id": "r8iMd9TvGen5",
        "colab_type": "code",
        "colab": {
          "base_uri": "https://localhost:8080/",
          "height": 204
        },
        "outputId": "e8d03f80-6d03-4893-b20f-dd6dbe4f5f66"
      },
      "source": [
        "train_df1.head()"
      ],
      "execution_count": 49,
      "outputs": [
        {
          "output_type": "execute_result",
          "data": {
            "text/html": [
              "<div>\n",
              "<style scoped>\n",
              "    .dataframe tbody tr th:only-of-type {\n",
              "        vertical-align: middle;\n",
              "    }\n",
              "\n",
              "    .dataframe tbody tr th {\n",
              "        vertical-align: top;\n",
              "    }\n",
              "\n",
              "    .dataframe thead th {\n",
              "        text-align: right;\n",
              "    }\n",
              "</style>\n",
              "<table border=\"1\" class=\"dataframe\">\n",
              "  <thead>\n",
              "    <tr style=\"text-align: right;\">\n",
              "      <th></th>\n",
              "      <th>id</th>\n",
              "      <th>keyword</th>\n",
              "      <th>text</th>\n",
              "      <th>target</th>\n",
              "      <th>text_length</th>\n",
              "    </tr>\n",
              "  </thead>\n",
              "  <tbody>\n",
              "    <tr>\n",
              "      <th>0</th>\n",
              "      <td>1</td>\n",
              "      <td>NaN</td>\n",
              "      <td>deeds reason earthquake may allah forgive us</td>\n",
              "      <td>1</td>\n",
              "      <td>69</td>\n",
              "    </tr>\n",
              "    <tr>\n",
              "      <th>1</th>\n",
              "      <td>4</td>\n",
              "      <td>NaN</td>\n",
              "      <td>forest fire near la ronge sask canada</td>\n",
              "      <td>1</td>\n",
              "      <td>38</td>\n",
              "    </tr>\n",
              "    <tr>\n",
              "      <th>2</th>\n",
              "      <td>5</td>\n",
              "      <td>NaN</td>\n",
              "      <td>residents asked shelter place notified officer...</td>\n",
              "      <td>1</td>\n",
              "      <td>133</td>\n",
              "    </tr>\n",
              "    <tr>\n",
              "      <th>3</th>\n",
              "      <td>6</td>\n",
              "      <td>NaN</td>\n",
              "      <td>people receive wildfires evacuation orders cal...</td>\n",
              "      <td>1</td>\n",
              "      <td>65</td>\n",
              "    </tr>\n",
              "    <tr>\n",
              "      <th>4</th>\n",
              "      <td>7</td>\n",
              "      <td>NaN</td>\n",
              "      <td>got sent photo ruby alaska smoke wildfires pou...</td>\n",
              "      <td>1</td>\n",
              "      <td>88</td>\n",
              "    </tr>\n",
              "  </tbody>\n",
              "</table>\n",
              "</div>"
            ],
            "text/plain": [
              "   id keyword  ... target  text_length\n",
              "0   1     NaN  ...      1           69\n",
              "1   4     NaN  ...      1           38\n",
              "2   5     NaN  ...      1          133\n",
              "3   6     NaN  ...      1           65\n",
              "4   7     NaN  ...      1           88\n",
              "\n",
              "[5 rows x 5 columns]"
            ]
          },
          "metadata": {
            "tags": []
          },
          "execution_count": 49
        }
      ]
    },
    {
      "cell_type": "markdown",
      "metadata": {
        "id": "0Dkq6IArGen8",
        "colab_type": "text"
      },
      "source": [
        "### Text Pre-processing Function\n",
        "\n",
        "Putting all above functions together, below will be final function to pre-process the text before modeling with ML algorithms."
      ]
    },
    {
      "cell_type": "code",
      "metadata": {
        "id": "MRGGBOp4Gen9",
        "colab_type": "code",
        "colab": {}
      },
      "source": [
        "# Create a function to pre-process the tweets\n",
        "def pre_process_text_combined(text):\n",
        "    \n",
        "    \"\"\"\n",
        "    Input- text= text to be pre-processed\n",
        "    \n",
        "    Oputput- return cleaned and combined text to be vectrorized for Machine learning.\n",
        "\n",
        "    \"\"\"\n",
        "    #Initiate a tokenizer\n",
        "    tokenizer = nltk.tokenize.RegexpTokenizer(r'\\w+')\n",
        "    # Clean the text using clean_text function\n",
        "    cleaned_txt = clean_text(text)\n",
        "    tokenized_text = tokenizer.tokenize(cleaned_txt)\n",
        "    remove_stopwords = [w for w in tokenized_text if w not in stopwords.words('english')]\n",
        "    combined_text = ' '.join(remove_stopwords)\n",
        "    return  combined_text"
      ],
      "execution_count": 50,
      "outputs": []
    },
    {
      "cell_type": "code",
      "metadata": {
        "id": "eMFds3l7GeoB",
        "colab_type": "code",
        "colab": {}
      },
      "source": [
        "# Create a function to pre-process the tweets\n",
        "def pre_process_text(text):\n",
        "    \"\"\"\n",
        "    Input- text= text to be pre-processed\n",
        "    \n",
        "    Oputput- return cleaned text to be vectrorized for Machine learning.\n",
        "\n",
        "    \"\"\"\n",
        "    #Initiate a tokenizer\n",
        "    tokenizer = nltk.tokenize.RegexpTokenizer(r'\\w+')\n",
        "    # Clean the text using clean_text function\n",
        "    cleaned_txt = clean_text(text)\n",
        "    tokenized_text = tokenizer.tokenize(cleaned_txt)\n",
        "    remove_stopwords = [w for w in tokenized_text if w not in stopwords.words('english')]\n",
        "    return remove_stopwords"
      ],
      "execution_count": 51,
      "outputs": []
    },
    {
      "cell_type": "code",
      "metadata": {
        "id": "khzXeecPGeoE",
        "colab_type": "code",
        "colab": {
          "base_uri": "https://localhost:8080/",
          "height": 119
        },
        "outputId": "0546cee2-6b8d-4af2-a854-ca0ea6606b32"
      },
      "source": [
        "# Text before pre-processing\n",
        "train_df.text.head()"
      ],
      "execution_count": 52,
      "outputs": [
        {
          "output_type": "execute_result",
          "data": {
            "text/plain": [
              "0    Our Deeds are the Reason of this #earthquake M...\n",
              "1               Forest fire near La Ronge Sask. Canada\n",
              "2    All residents asked to 'shelter in place' are ...\n",
              "3    13,000 people receive #wildfires evacuation or...\n",
              "4    Just got sent this photo from Ruby #Alaska as ...\n",
              "Name: text, dtype: object"
            ]
          },
          "metadata": {
            "tags": []
          },
          "execution_count": 52
        }
      ]
    },
    {
      "cell_type": "code",
      "metadata": {
        "id": "A7AZPAlTGeoH",
        "colab_type": "code",
        "colab": {}
      },
      "source": [
        "# Lets pre-process train data text\n",
        "train_df2=train_df.copy()\n",
        "train_df2['text'] = train_df2['text'].apply(lambda x : pre_process_text_combined(x))"
      ],
      "execution_count": 53,
      "outputs": []
    },
    {
      "cell_type": "code",
      "metadata": {
        "id": "21Lhy5V1GeoK",
        "colab_type": "code",
        "colab": {
          "base_uri": "https://localhost:8080/",
          "height": 204
        },
        "outputId": "dd175806-b382-45ca-df88-c9a34d8a9d05"
      },
      "source": [
        "# Text after pre-processing the text column\n",
        "train_df2.head()"
      ],
      "execution_count": 54,
      "outputs": [
        {
          "output_type": "execute_result",
          "data": {
            "text/html": [
              "<div>\n",
              "<style scoped>\n",
              "    .dataframe tbody tr th:only-of-type {\n",
              "        vertical-align: middle;\n",
              "    }\n",
              "\n",
              "    .dataframe tbody tr th {\n",
              "        vertical-align: top;\n",
              "    }\n",
              "\n",
              "    .dataframe thead th {\n",
              "        text-align: right;\n",
              "    }\n",
              "</style>\n",
              "<table border=\"1\" class=\"dataframe\">\n",
              "  <thead>\n",
              "    <tr style=\"text-align: right;\">\n",
              "      <th></th>\n",
              "      <th>id</th>\n",
              "      <th>keyword</th>\n",
              "      <th>text</th>\n",
              "      <th>target</th>\n",
              "      <th>text_length</th>\n",
              "    </tr>\n",
              "  </thead>\n",
              "  <tbody>\n",
              "    <tr>\n",
              "      <th>0</th>\n",
              "      <td>1</td>\n",
              "      <td>NaN</td>\n",
              "      <td>deeds reason earthquake may allah forgive us</td>\n",
              "      <td>1</td>\n",
              "      <td>69</td>\n",
              "    </tr>\n",
              "    <tr>\n",
              "      <th>1</th>\n",
              "      <td>4</td>\n",
              "      <td>NaN</td>\n",
              "      <td>forest fire near la ronge sask canada</td>\n",
              "      <td>1</td>\n",
              "      <td>38</td>\n",
              "    </tr>\n",
              "    <tr>\n",
              "      <th>2</th>\n",
              "      <td>5</td>\n",
              "      <td>NaN</td>\n",
              "      <td>residents asked shelter place notified officer...</td>\n",
              "      <td>1</td>\n",
              "      <td>133</td>\n",
              "    </tr>\n",
              "    <tr>\n",
              "      <th>3</th>\n",
              "      <td>6</td>\n",
              "      <td>NaN</td>\n",
              "      <td>people receive wildfires evacuation orders cal...</td>\n",
              "      <td>1</td>\n",
              "      <td>65</td>\n",
              "    </tr>\n",
              "    <tr>\n",
              "      <th>4</th>\n",
              "      <td>7</td>\n",
              "      <td>NaN</td>\n",
              "      <td>got sent photo ruby alaska smoke wildfires pou...</td>\n",
              "      <td>1</td>\n",
              "      <td>88</td>\n",
              "    </tr>\n",
              "  </tbody>\n",
              "</table>\n",
              "</div>"
            ],
            "text/plain": [
              "   id keyword  ... target  text_length\n",
              "0   1     NaN  ...      1           69\n",
              "1   4     NaN  ...      1           38\n",
              "2   5     NaN  ...      1          133\n",
              "3   6     NaN  ...      1           65\n",
              "4   7     NaN  ...      1           88\n",
              "\n",
              "[5 rows x 5 columns]"
            ]
          },
          "metadata": {
            "tags": []
          },
          "execution_count": 54
        }
      ]
    },
    {
      "cell_type": "code",
      "metadata": {
        "id": "LWFPWpIZGeoO",
        "colab_type": "code",
        "colab": {}
      },
      "source": [
        "# Lets pre-process test data text\n",
        "test_df2=test_df.copy()\n",
        "test_df2['text'] = test_df2['text'].apply(lambda x : pre_process_text_combined(x))"
      ],
      "execution_count": 55,
      "outputs": []
    },
    {
      "cell_type": "code",
      "metadata": {
        "id": "yb6CQRoyGeoQ",
        "colab_type": "code",
        "colab": {
          "base_uri": "https://localhost:8080/",
          "height": 359
        },
        "outputId": "636492e3-8107-42cf-e108-614442e59372"
      },
      "source": [
        "# Text after pre-processing the text column\n",
        "test_df2.head(10)"
      ],
      "execution_count": 56,
      "outputs": [
        {
          "output_type": "execute_result",
          "data": {
            "text/html": [
              "<div>\n",
              "<style scoped>\n",
              "    .dataframe tbody tr th:only-of-type {\n",
              "        vertical-align: middle;\n",
              "    }\n",
              "\n",
              "    .dataframe tbody tr th {\n",
              "        vertical-align: top;\n",
              "    }\n",
              "\n",
              "    .dataframe thead th {\n",
              "        text-align: right;\n",
              "    }\n",
              "</style>\n",
              "<table border=\"1\" class=\"dataframe\">\n",
              "  <thead>\n",
              "    <tr style=\"text-align: right;\">\n",
              "      <th></th>\n",
              "      <th>id</th>\n",
              "      <th>keyword</th>\n",
              "      <th>location</th>\n",
              "      <th>text</th>\n",
              "    </tr>\n",
              "  </thead>\n",
              "  <tbody>\n",
              "    <tr>\n",
              "      <th>0</th>\n",
              "      <td>0</td>\n",
              "      <td>NaN</td>\n",
              "      <td>NaN</td>\n",
              "      <td>happened terrible car crash</td>\n",
              "    </tr>\n",
              "    <tr>\n",
              "      <th>1</th>\n",
              "      <td>2</td>\n",
              "      <td>NaN</td>\n",
              "      <td>NaN</td>\n",
              "      <td>heard earthquake different cities stay safe ev...</td>\n",
              "    </tr>\n",
              "    <tr>\n",
              "      <th>2</th>\n",
              "      <td>3</td>\n",
              "      <td>NaN</td>\n",
              "      <td>NaN</td>\n",
              "      <td>forest fire spot pond geese fleeing across str...</td>\n",
              "    </tr>\n",
              "    <tr>\n",
              "      <th>3</th>\n",
              "      <td>9</td>\n",
              "      <td>NaN</td>\n",
              "      <td>NaN</td>\n",
              "      <td>apocalypse lighting spokane wildfires</td>\n",
              "    </tr>\n",
              "    <tr>\n",
              "      <th>4</th>\n",
              "      <td>11</td>\n",
              "      <td>NaN</td>\n",
              "      <td>NaN</td>\n",
              "      <td>typhoon soudelor kills china taiwan</td>\n",
              "    </tr>\n",
              "    <tr>\n",
              "      <th>5</th>\n",
              "      <td>12</td>\n",
              "      <td>NaN</td>\n",
              "      <td>NaN</td>\n",
              "      <td>shakingits earthquake</td>\n",
              "    </tr>\n",
              "    <tr>\n",
              "      <th>6</th>\n",
              "      <td>21</td>\n",
              "      <td>NaN</td>\n",
              "      <td>NaN</td>\n",
              "      <td>theyd probably still show life arsenal yesterd...</td>\n",
              "    </tr>\n",
              "    <tr>\n",
              "      <th>7</th>\n",
              "      <td>22</td>\n",
              "      <td>NaN</td>\n",
              "      <td>NaN</td>\n",
              "      <td>hey</td>\n",
              "    </tr>\n",
              "    <tr>\n",
              "      <th>8</th>\n",
              "      <td>27</td>\n",
              "      <td>NaN</td>\n",
              "      <td>NaN</td>\n",
              "      <td>nice hat</td>\n",
              "    </tr>\n",
              "    <tr>\n",
              "      <th>9</th>\n",
              "      <td>29</td>\n",
              "      <td>NaN</td>\n",
              "      <td>NaN</td>\n",
              "      <td>fuck</td>\n",
              "    </tr>\n",
              "  </tbody>\n",
              "</table>\n",
              "</div>"
            ],
            "text/plain": [
              "   id keyword location                                               text\n",
              "0   0     NaN      NaN                        happened terrible car crash\n",
              "1   2     NaN      NaN  heard earthquake different cities stay safe ev...\n",
              "2   3     NaN      NaN  forest fire spot pond geese fleeing across str...\n",
              "3   9     NaN      NaN              apocalypse lighting spokane wildfires\n",
              "4  11     NaN      NaN                typhoon soudelor kills china taiwan\n",
              "5  12     NaN      NaN                              shakingits earthquake\n",
              "6  21     NaN      NaN  theyd probably still show life arsenal yesterd...\n",
              "7  22     NaN      NaN                                                hey\n",
              "8  27     NaN      NaN                                           nice hat\n",
              "9  29     NaN      NaN                                               fuck"
            ]
          },
          "metadata": {
            "tags": []
          },
          "execution_count": 56
        }
      ]
    },
    {
      "cell_type": "code",
      "metadata": {
        "id": "5bHqNJL_GeoT",
        "colab_type": "code",
        "colab": {}
      },
      "source": [
        "# Lets pre-process train data text\n",
        "train_df3=train_df.copy()\n",
        "train_df3['text'] = train_df3['text'].apply(lambda x : pre_process_text(x))"
      ],
      "execution_count": 57,
      "outputs": []
    },
    {
      "cell_type": "code",
      "metadata": {
        "id": "gtC3LEQBGeoX",
        "colab_type": "code",
        "colab": {
          "base_uri": "https://localhost:8080/",
          "height": 204
        },
        "outputId": "3062acc2-20f3-4e89-f4de-811d381ce793"
      },
      "source": [
        "train_df3.head()"
      ],
      "execution_count": 58,
      "outputs": [
        {
          "output_type": "execute_result",
          "data": {
            "text/html": [
              "<div>\n",
              "<style scoped>\n",
              "    .dataframe tbody tr th:only-of-type {\n",
              "        vertical-align: middle;\n",
              "    }\n",
              "\n",
              "    .dataframe tbody tr th {\n",
              "        vertical-align: top;\n",
              "    }\n",
              "\n",
              "    .dataframe thead th {\n",
              "        text-align: right;\n",
              "    }\n",
              "</style>\n",
              "<table border=\"1\" class=\"dataframe\">\n",
              "  <thead>\n",
              "    <tr style=\"text-align: right;\">\n",
              "      <th></th>\n",
              "      <th>id</th>\n",
              "      <th>keyword</th>\n",
              "      <th>text</th>\n",
              "      <th>target</th>\n",
              "      <th>text_length</th>\n",
              "    </tr>\n",
              "  </thead>\n",
              "  <tbody>\n",
              "    <tr>\n",
              "      <th>0</th>\n",
              "      <td>1</td>\n",
              "      <td>NaN</td>\n",
              "      <td>[deeds, reason, earthquake, may, allah, forgiv...</td>\n",
              "      <td>1</td>\n",
              "      <td>69</td>\n",
              "    </tr>\n",
              "    <tr>\n",
              "      <th>1</th>\n",
              "      <td>4</td>\n",
              "      <td>NaN</td>\n",
              "      <td>[forest, fire, near, la, ronge, sask, canada]</td>\n",
              "      <td>1</td>\n",
              "      <td>38</td>\n",
              "    </tr>\n",
              "    <tr>\n",
              "      <th>2</th>\n",
              "      <td>5</td>\n",
              "      <td>NaN</td>\n",
              "      <td>[residents, asked, shelter, place, notified, o...</td>\n",
              "      <td>1</td>\n",
              "      <td>133</td>\n",
              "    </tr>\n",
              "    <tr>\n",
              "      <th>3</th>\n",
              "      <td>6</td>\n",
              "      <td>NaN</td>\n",
              "      <td>[people, receive, wildfires, evacuation, order...</td>\n",
              "      <td>1</td>\n",
              "      <td>65</td>\n",
              "    </tr>\n",
              "    <tr>\n",
              "      <th>4</th>\n",
              "      <td>7</td>\n",
              "      <td>NaN</td>\n",
              "      <td>[got, sent, photo, ruby, alaska, smoke, wildfi...</td>\n",
              "      <td>1</td>\n",
              "      <td>88</td>\n",
              "    </tr>\n",
              "  </tbody>\n",
              "</table>\n",
              "</div>"
            ],
            "text/plain": [
              "   id keyword  ... target  text_length\n",
              "0   1     NaN  ...      1           69\n",
              "1   4     NaN  ...      1           38\n",
              "2   5     NaN  ...      1          133\n",
              "3   6     NaN  ...      1           65\n",
              "4   7     NaN  ...      1           88\n",
              "\n",
              "[5 rows x 5 columns]"
            ]
          },
          "metadata": {
            "tags": []
          },
          "execution_count": 58
        }
      ]
    },
    {
      "cell_type": "code",
      "metadata": {
        "id": "gKx6zZu7Geoa",
        "colab_type": "code",
        "colab": {}
      },
      "source": [
        "# Lets pre-process train data text\n",
        "test_df3=test_df.copy()\n",
        "test_df3['text'] = test_df3['text'].apply(lambda x : pre_process_text(x))"
      ],
      "execution_count": 59,
      "outputs": []
    },
    {
      "cell_type": "code",
      "metadata": {
        "id": "WRR_dxL5Geod",
        "colab_type": "code",
        "colab": {
          "base_uri": "https://localhost:8080/",
          "height": 204
        },
        "outputId": "17528f83-f2ee-4a54-db1f-0faf85787cd9"
      },
      "source": [
        "test_df3.head()"
      ],
      "execution_count": 60,
      "outputs": [
        {
          "output_type": "execute_result",
          "data": {
            "text/html": [
              "<div>\n",
              "<style scoped>\n",
              "    .dataframe tbody tr th:only-of-type {\n",
              "        vertical-align: middle;\n",
              "    }\n",
              "\n",
              "    .dataframe tbody tr th {\n",
              "        vertical-align: top;\n",
              "    }\n",
              "\n",
              "    .dataframe thead th {\n",
              "        text-align: right;\n",
              "    }\n",
              "</style>\n",
              "<table border=\"1\" class=\"dataframe\">\n",
              "  <thead>\n",
              "    <tr style=\"text-align: right;\">\n",
              "      <th></th>\n",
              "      <th>id</th>\n",
              "      <th>keyword</th>\n",
              "      <th>location</th>\n",
              "      <th>text</th>\n",
              "    </tr>\n",
              "  </thead>\n",
              "  <tbody>\n",
              "    <tr>\n",
              "      <th>0</th>\n",
              "      <td>0</td>\n",
              "      <td>NaN</td>\n",
              "      <td>NaN</td>\n",
              "      <td>[happened, terrible, car, crash]</td>\n",
              "    </tr>\n",
              "    <tr>\n",
              "      <th>1</th>\n",
              "      <td>2</td>\n",
              "      <td>NaN</td>\n",
              "      <td>NaN</td>\n",
              "      <td>[heard, earthquake, different, cities, stay, s...</td>\n",
              "    </tr>\n",
              "    <tr>\n",
              "      <th>2</th>\n",
              "      <td>3</td>\n",
              "      <td>NaN</td>\n",
              "      <td>NaN</td>\n",
              "      <td>[forest, fire, spot, pond, geese, fleeing, acr...</td>\n",
              "    </tr>\n",
              "    <tr>\n",
              "      <th>3</th>\n",
              "      <td>9</td>\n",
              "      <td>NaN</td>\n",
              "      <td>NaN</td>\n",
              "      <td>[apocalypse, lighting, spokane, wildfires]</td>\n",
              "    </tr>\n",
              "    <tr>\n",
              "      <th>4</th>\n",
              "      <td>11</td>\n",
              "      <td>NaN</td>\n",
              "      <td>NaN</td>\n",
              "      <td>[typhoon, soudelor, kills, china, taiwan]</td>\n",
              "    </tr>\n",
              "  </tbody>\n",
              "</table>\n",
              "</div>"
            ],
            "text/plain": [
              "   id keyword location                                               text\n",
              "0   0     NaN      NaN                   [happened, terrible, car, crash]\n",
              "1   2     NaN      NaN  [heard, earthquake, different, cities, stay, s...\n",
              "2   3     NaN      NaN  [forest, fire, spot, pond, geese, fleeing, acr...\n",
              "3   9     NaN      NaN         [apocalypse, lighting, spokane, wildfires]\n",
              "4  11     NaN      NaN          [typhoon, soudelor, kills, china, taiwan]"
            ]
          },
          "metadata": {
            "tags": []
          },
          "execution_count": 60
        }
      ]
    },
    {
      "cell_type": "code",
      "metadata": {
        "id": "zewa8pGYGeog",
        "colab_type": "code",
        "colab": {
          "base_uri": "https://localhost:8080/",
          "height": 397
        },
        "outputId": "64abeaa7-92bf-49ce-d525-f7ec1f5802a3"
      },
      "source": [
        "#Lets have a quick look of the tweets in wordcloud\n",
        "from wordcloud import WordCloud\n",
        "fig, ax = plt.subplots(figsize=[10, 6])\n",
        "wordcloud = WordCloud( background_color='white',\n",
        "                        width=600,\n",
        "                        height=400).generate(\" \".join(train_df2.text))\n",
        "ax.imshow(wordcloud)\n",
        "ax.axis('off')\n",
        "ax.set_title('Disaster Tweets',fontsize=40);"
      ],
      "execution_count": 61,
      "outputs": [
        {
          "output_type": "display_data",
          "data": {
            "image/png": "[encoded data removed]",
            "text/plain": [
              "<Figure size 720x432 with 1 Axes>"
            ]
          },
          "metadata": {
            "tags": [],
            "needs_background": "light"
          }
        }
      ]
    },
    {
      "cell_type": "markdown",
      "metadata": {
        "id": "JzCCSaTCGeok",
        "colab_type": "text"
      },
      "source": [
        "# 3. Vectorization of text\n",
        "\n",
        "Pre-process text needs to be transformed into a vetor matrix of numbers before a machine learning model can undertsand it and learn from it.This can be done by a number of tecniques:\n",
        "\n",
        "## 1. Bag of Words\n",
        "\n",
        "The bag of words is a representation of text that describes the occurrence of words within a document. It involves two things:\n",
        "- A vocabulary of known words.\n",
        "- A measure of the presence of known words.\n",
        "\n",
        "**Why is it is called a “bag” of words?** Its called bag of words because any information about the order or structure of words in the document is discarded and the model is only concerned with whether the known words occur in the document, not where they occur in the document.\n",
        "\n",
        "### Bag of Words - Countvectorizer Features\n",
        "\n",
        "`Countvectorizer` converts a collection of text documents to a matrix of token counts. It is important to note that `CountVectorizer` comes with a lot of options to automatically do preprocessing, tokenization, and stop word removal. However, all the pre-processing of the text has already been performed by creating a function.Only vanilla version of `Countvectorizer` will be used.\n",
        "\n",
        "## 2. TFIDF Features\n",
        "\n",
        "A problem with the bag of words approach is that highly frequent words start to dominate in the document (e.g. larger score) but may not contain as much “informational content” this will lead to more weight to longer documents than shorter documents.\n",
        "\n",
        "To avoid that, one approach is to rescale the frequency of words by how often they appear in all documents so that the scores for frequent words like “the” that are also frequent across all documents are penalized. This approach to scoring is called \"Term Frequency-Inverse Document Frequency\", or TF-IDF for short, where:\n",
        "\n",
        "**Term Frequency**: is a scoring of the frequency of the word in the current document.\n",
        "\n",
        "`TF = (Number of times term t appears in a document)/(Number of terms in the document)`\n",
        "\n",
        "**Inverse Document Frequency**: is a scoring of how rare the word is across documents.\n",
        "\n",
        "`IDF = 1+log(N/n), where, N is the number of documents and n is the number of documents a term t has appeared in.`"
      ]
    },
    {
      "cell_type": "code",
      "metadata": {
        "id": "kNsaGojSGeol",
        "colab_type": "code",
        "colab": {
          "base_uri": "https://localhost:8080/",
          "height": 34
        },
        "outputId": "6b077c83-e7cb-458e-fdb8-6418c6c4dc0e"
      },
      "source": [
        "# Vectorize the text using CountVectorizer\n",
        "count_vectorizer = CountVectorizer()\n",
        "train_cv = count_vectorizer.fit_transform(train_df2['text'])\n",
        "test_cv = count_vectorizer.transform(test_df2[\"text\"])\n",
        "\n",
        "## Keeping only non-zero elements to preserve space \n",
        "print(train_cv[0].todense())"
      ],
      "execution_count": 62,
      "outputs": [
        {
          "output_type": "stream",
          "text": [
            "[[0 0 0 ... 0 0 0]]\n"
          ],
          "name": "stdout"
        }
      ]
    },
    {
      "cell_type": "code",
      "metadata": {
        "id": "sM9cNPKqGeon",
        "colab_type": "code",
        "colab": {}
      },
      "source": [
        "# Vectorize the text using TFIDF\n",
        "tfidf = TfidfVectorizer(min_df=2, max_df=0.5, ngram_range=(1, 2))\n",
        "train_tf = tfidf.fit_transform(train_df2['text'])\n",
        "test_tf = tfidf.transform(test_df2[\"text\"])"
      ],
      "execution_count": 63,
      "outputs": []
    },
    {
      "cell_type": "markdown",
      "metadata": {
        "id": "i4rc88vwGeoo",
        "colab_type": "text"
      },
      "source": [
        "# 4. Build a Text Classification Machine Learning model\n",
        "\n",
        "Lets create a simple classification model using commonly used calssification algorithms and check how the models performs."
      ]
    },
    {
      "cell_type": "code",
      "metadata": {
        "id": "CsPPAhiqGeop",
        "colab_type": "code",
        "colab": {}
      },
      "source": [
        "#Split the CountVector vectorized data into train and test datasets for model training and testing\n",
        "X_train_cv, X_test_cv, y_train_cv, y_test_cv =train_test_split(train_cv,train_df.target,test_size=0.2,random_state=2020)"
      ],
      "execution_count": 64,
      "outputs": []
    },
    {
      "cell_type": "code",
      "metadata": {
        "id": "x2YaGUWcGeos",
        "colab_type": "code",
        "colab": {}
      },
      "source": [
        "#Define a function to fit and predict on training and test data sets\n",
        "def fit_and_predict(model,X_train,y_train,X_test,y_test):\n",
        "    \n",
        "    '''Input- model=model to be trained\n",
        "              X_train, y_train= traing data set\n",
        "              X_test,  y_test = testing data set\n",
        "       Output- Print accuracy of model for training and test data sets   \n",
        "    '''\n",
        "    \n",
        "    # Fitting a simple Logistic Regression on Counts\n",
        "    clf = model\n",
        "    clf.fit(X_train, y_train)\n",
        "    predictions=clf.predict(X_test)\n",
        "    confusion_matrix(y_test,predictions)\n",
        "    print(classification_report(y_test,predictions))\n",
        "    print('-'*50)\n",
        "    print(\"{}\" .format(model))\n",
        "    print('-'*50)\n",
        "    print('Accuracy of classifier on training set:{}%'.format(round(clf.score(X_train, y_train)*100)))\n",
        "    print('-'*50)\n",
        "    print('Accuracy of classifier on test set:{}%' .format(round(accuracy_score(y_test,predictions)*100)))\n",
        "    print('-'*50)"
      ],
      "execution_count": 65,
      "outputs": []
    },
    {
      "cell_type": "code",
      "metadata": {
        "id": "l69IV13wGeou",
        "colab_type": "code",
        "colab": {}
      },
      "source": [
        "# Create a list of the regression models to be used\n",
        "models=[LogisticRegression(C=1.0),SVC(),MultinomialNB(),DecisionTreeClassifier(),\n",
        "        KNeighborsClassifier(n_neighbors=5),RandomForestClassifier()]"
      ],
      "execution_count": 66,
      "outputs": []
    },
    {
      "cell_type": "code",
      "metadata": {
        "id": "cmZ9WegeGeow",
        "colab_type": "code",
        "colab": {
          "base_uri": "https://localhost:8080/",
          "height": 1000
        },
        "outputId": "5baf604b-cdcd-4ed5-8800-9d06ac0936fc"
      },
      "source": [
        "# Loop through the list of models and use 'fit_and_predict()' function to trian and make predictions\n",
        "for model in models:\n",
        "    fit_and_predict(model,X_train_cv, y_train_cv,X_test_cv,y_test_cv)"
      ],
      "execution_count": 67,
      "outputs": [
        {
          "output_type": "stream",
          "text": [
            "              precision    recall  f1-score   support\n",
            "\n",
            "           0       0.79      0.89      0.84       849\n",
            "           1       0.84      0.71      0.77       674\n",
            "\n",
            "    accuracy                           0.81      1523\n",
            "   macro avg       0.81      0.80      0.80      1523\n",
            "weighted avg       0.81      0.81      0.81      1523\n",
            "\n",
            "--------------------------------------------------\n",
            "LogisticRegression(C=1.0, class_weight=None, dual=False, fit_intercept=True,\n",
            "                   intercept_scaling=1, l1_ratio=None, max_iter=100,\n",
            "                   multi_class='auto', n_jobs=None, penalty='l2',\n",
            "                   random_state=None, solver='lbfgs', tol=0.0001, verbose=0,\n",
            "                   warm_start=False)\n",
            "--------------------------------------------------\n",
            "Accuracy of classifier on training set:96.0%\n",
            "--------------------------------------------------\n",
            "Accuracy of classifier on test set:81.0%\n",
            "--------------------------------------------------\n",
            "              precision    recall  f1-score   support\n",
            "\n",
            "           0       0.77      0.93      0.84       849\n",
            "           1       0.88      0.65      0.75       674\n",
            "\n",
            "    accuracy                           0.80      1523\n",
            "   macro avg       0.82      0.79      0.79      1523\n",
            "weighted avg       0.82      0.80      0.80      1523\n",
            "\n",
            "--------------------------------------------------\n",
            "SVC(C=1.0, break_ties=False, cache_size=200, class_weight=None, coef0=0.0,\n",
            "    decision_function_shape='ovr', degree=3, gamma='scale', kernel='rbf',\n",
            "    max_iter=-1, probability=False, random_state=None, shrinking=True,\n",
            "    tol=0.001, verbose=False)\n",
            "--------------------------------------------------\n",
            "Accuracy of classifier on training set:95.0%\n",
            "--------------------------------------------------\n",
            "Accuracy of classifier on test set:80.0%\n",
            "--------------------------------------------------\n",
            "              precision    recall  f1-score   support\n",
            "\n",
            "           0       0.81      0.85      0.83       849\n",
            "           1       0.80      0.74      0.77       674\n",
            "\n",
            "    accuracy                           0.80      1523\n",
            "   macro avg       0.80      0.80      0.80      1523\n",
            "weighted avg       0.80      0.80      0.80      1523\n",
            "\n",
            "--------------------------------------------------\n",
            "MultinomialNB(alpha=1.0, class_prior=None, fit_prior=True)\n",
            "--------------------------------------------------\n",
            "Accuracy of classifier on training set:92.0%\n",
            "--------------------------------------------------\n",
            "Accuracy of classifier on test set:80.0%\n",
            "--------------------------------------------------\n",
            "              precision    recall  f1-score   support\n",
            "\n",
            "           0       0.76      0.82      0.79       849\n",
            "           1       0.75      0.67      0.71       674\n",
            "\n",
            "    accuracy                           0.75      1523\n",
            "   macro avg       0.75      0.75      0.75      1523\n",
            "weighted avg       0.75      0.75      0.75      1523\n",
            "\n",
            "--------------------------------------------------\n",
            "DecisionTreeClassifier(ccp_alpha=0.0, class_weight=None, criterion='gini',\n",
            "                       max_depth=None, max_features=None, max_leaf_nodes=None,\n",
            "                       min_impurity_decrease=0.0, min_impurity_split=None,\n",
            "                       min_samples_leaf=1, min_samples_split=2,\n",
            "                       min_weight_fraction_leaf=0.0, presort='deprecated',\n",
            "                       random_state=None, splitter='best')\n",
            "--------------------------------------------------\n",
            "Accuracy of classifier on training set:99.0%\n",
            "--------------------------------------------------\n",
            "Accuracy of classifier on test set:75.0%\n",
            "--------------------------------------------------\n",
            "              precision    recall  f1-score   support\n",
            "\n",
            "           0       0.65      0.97      0.78       849\n",
            "           1       0.90      0.34      0.49       674\n",
            "\n",
            "    accuracy                           0.69      1523\n",
            "   macro avg       0.78      0.65      0.63      1523\n",
            "weighted avg       0.76      0.69      0.65      1523\n",
            "\n",
            "--------------------------------------------------\n",
            "KNeighborsClassifier(algorithm='auto', leaf_size=30, metric='minkowski',\n",
            "                     metric_params=None, n_jobs=None, n_neighbors=5, p=2,\n",
            "                     weights='uniform')\n",
            "--------------------------------------------------\n",
            "Accuracy of classifier on training set:76.0%\n",
            "--------------------------------------------------\n",
            "Accuracy of classifier on test set:69.0%\n",
            "--------------------------------------------------\n",
            "              precision    recall  f1-score   support\n",
            "\n",
            "           0       0.77      0.91      0.83       849\n",
            "           1       0.85      0.66      0.75       674\n",
            "\n",
            "    accuracy                           0.80      1523\n",
            "   macro avg       0.81      0.79      0.79      1523\n",
            "weighted avg       0.81      0.80      0.79      1523\n",
            "\n",
            "--------------------------------------------------\n",
            "RandomForestClassifier(bootstrap=True, ccp_alpha=0.0, class_weight=None,\n",
            "                       criterion='gini', max_depth=None, max_features='auto',\n",
            "                       max_leaf_nodes=None, max_samples=None,\n",
            "                       min_impurity_decrease=0.0, min_impurity_split=None,\n",
            "                       min_samples_leaf=1, min_samples_split=2,\n",
            "                       min_weight_fraction_leaf=0.0, n_estimators=100,\n",
            "                       n_jobs=None, oob_score=False, random_state=None,\n",
            "                       verbose=0, warm_start=False)\n",
            "--------------------------------------------------\n",
            "Accuracy of classifier on training set:99.0%\n",
            "--------------------------------------------------\n",
            "Accuracy of classifier on test set:80.0%\n",
            "--------------------------------------------------\n"
          ],
          "name": "stdout"
        }
      ]
    },
    {
      "cell_type": "code",
      "metadata": {
        "id": "ym3ooZd7Geox",
        "colab_type": "code",
        "colab": {}
      },
      "source": [
        "# Split the TFDIF vectorized data into train and test datasets for model training and testing\n",
        "X_train_tf, X_test_tf, y_train_tf, y_test_tf =train_test_split(train_tf,train_df.target,test_size=0.2,random_state=2020)"
      ],
      "execution_count": 68,
      "outputs": []
    },
    {
      "cell_type": "code",
      "metadata": {
        "id": "jX6yOJ47Geoz",
        "colab_type": "code",
        "colab": {
          "base_uri": "https://localhost:8080/",
          "height": 1000
        },
        "outputId": "e76c52cd-d51c-4741-c0c8-b24ed2c07a87"
      },
      "source": [
        "# Loop through the list of models and use 'fit_and_predict()' function to train and make predictions on the TFDIF vectororized data\n",
        "for model in models:\n",
        "    fit_and_predict(model,X_train_tf, y_train_tf,X_test_tf,y_test_tf)"
      ],
      "execution_count": 69,
      "outputs": [
        {
          "output_type": "stream",
          "text": [
            "              precision    recall  f1-score   support\n",
            "\n",
            "           0       0.78      0.91      0.84       849\n",
            "           1       0.86      0.67      0.75       674\n",
            "\n",
            "    accuracy                           0.80      1523\n",
            "   macro avg       0.82      0.79      0.79      1523\n",
            "weighted avg       0.81      0.80      0.80      1523\n",
            "\n",
            "--------------------------------------------------\n",
            "LogisticRegression(C=1.0, class_weight=None, dual=False, fit_intercept=True,\n",
            "                   intercept_scaling=1, l1_ratio=None, max_iter=100,\n",
            "                   multi_class='auto', n_jobs=None, penalty='l2',\n",
            "                   random_state=None, solver='lbfgs', tol=0.0001, verbose=0,\n",
            "                   warm_start=False)\n",
            "--------------------------------------------------\n",
            "Accuracy of classifier on training set:88.0%\n",
            "--------------------------------------------------\n",
            "Accuracy of classifier on test set:80.0%\n",
            "--------------------------------------------------\n",
            "              precision    recall  f1-score   support\n",
            "\n",
            "           0       0.77      0.92      0.84       849\n",
            "           1       0.86      0.65      0.74       674\n",
            "\n",
            "    accuracy                           0.80      1523\n",
            "   macro avg       0.81      0.78      0.79      1523\n",
            "weighted avg       0.81      0.80      0.79      1523\n",
            "\n",
            "--------------------------------------------------\n",
            "SVC(C=1.0, break_ties=False, cache_size=200, class_weight=None, coef0=0.0,\n",
            "    decision_function_shape='ovr', degree=3, gamma='scale', kernel='rbf',\n",
            "    max_iter=-1, probability=False, random_state=None, shrinking=True,\n",
            "    tol=0.001, verbose=False)\n",
            "--------------------------------------------------\n",
            "Accuracy of classifier on training set:96.0%\n",
            "--------------------------------------------------\n",
            "Accuracy of classifier on test set:80.0%\n",
            "--------------------------------------------------\n",
            "              precision    recall  f1-score   support\n",
            "\n",
            "           0       0.77      0.92      0.83       849\n",
            "           1       0.86      0.65      0.74       674\n",
            "\n",
            "    accuracy                           0.80      1523\n",
            "   macro avg       0.81      0.78      0.79      1523\n",
            "weighted avg       0.81      0.80      0.79      1523\n",
            "\n",
            "--------------------------------------------------\n",
            "MultinomialNB(alpha=1.0, class_prior=None, fit_prior=True)\n",
            "--------------------------------------------------\n",
            "Accuracy of classifier on training set:87.0%\n",
            "--------------------------------------------------\n",
            "Accuracy of classifier on test set:80.0%\n",
            "--------------------------------------------------\n",
            "              precision    recall  f1-score   support\n",
            "\n",
            "           0       0.76      0.79      0.78       849\n",
            "           1       0.72      0.68      0.70       674\n",
            "\n",
            "    accuracy                           0.74      1523\n",
            "   macro avg       0.74      0.74      0.74      1523\n",
            "weighted avg       0.74      0.74      0.74      1523\n",
            "\n",
            "--------------------------------------------------\n",
            "DecisionTreeClassifier(ccp_alpha=0.0, class_weight=None, criterion='gini',\n",
            "                       max_depth=None, max_features=None, max_leaf_nodes=None,\n",
            "                       min_impurity_decrease=0.0, min_impurity_split=None,\n",
            "                       min_samples_leaf=1, min_samples_split=2,\n",
            "                       min_weight_fraction_leaf=0.0, presort='deprecated',\n",
            "                       random_state=None, splitter='best')\n",
            "--------------------------------------------------\n",
            "Accuracy of classifier on training set:98.0%\n",
            "--------------------------------------------------\n",
            "Accuracy of classifier on test set:74.0%\n",
            "--------------------------------------------------\n",
            "              precision    recall  f1-score   support\n",
            "\n",
            "           0       0.62      0.98      0.76       849\n",
            "           1       0.93      0.24      0.38       674\n",
            "\n",
            "    accuracy                           0.66      1523\n",
            "   macro avg       0.77      0.61      0.57      1523\n",
            "weighted avg       0.76      0.66      0.59      1523\n",
            "\n",
            "--------------------------------------------------\n",
            "KNeighborsClassifier(algorithm='auto', leaf_size=30, metric='minkowski',\n",
            "                     metric_params=None, n_jobs=None, n_neighbors=5, p=2,\n",
            "                     weights='uniform')\n",
            "--------------------------------------------------\n",
            "Accuracy of classifier on training set:72.0%\n",
            "--------------------------------------------------\n",
            "Accuracy of classifier on test set:66.0%\n",
            "--------------------------------------------------\n",
            "              precision    recall  f1-score   support\n",
            "\n",
            "           0       0.77      0.90      0.83       849\n",
            "           1       0.83      0.66      0.74       674\n",
            "\n",
            "    accuracy                           0.79      1523\n",
            "   macro avg       0.80      0.78      0.78      1523\n",
            "weighted avg       0.80      0.79      0.79      1523\n",
            "\n",
            "--------------------------------------------------\n",
            "RandomForestClassifier(bootstrap=True, ccp_alpha=0.0, class_weight=None,\n",
            "                       criterion='gini', max_depth=None, max_features='auto',\n",
            "                       max_leaf_nodes=None, max_samples=None,\n",
            "                       min_impurity_decrease=0.0, min_impurity_split=None,\n",
            "                       min_samples_leaf=1, min_samples_split=2,\n",
            "                       min_weight_fraction_leaf=0.0, n_estimators=100,\n",
            "                       n_jobs=None, oob_score=False, random_state=None,\n",
            "                       verbose=0, warm_start=False)\n",
            "--------------------------------------------------\n",
            "Accuracy of classifier on training set:98.0%\n",
            "--------------------------------------------------\n",
            "Accuracy of classifier on test set:79.0%\n",
            "--------------------------------------------------\n"
          ],
          "name": "stdout"
        }
      ]
    },
    {
      "cell_type": "markdown",
      "metadata": {
        "id": "-W8_tHlPGeo3",
        "colab_type": "text"
      },
      "source": [
        "# 5. Results\n",
        "\n",
        "Based on the above results, lets print the various classifier performance results:"
      ]
    },
    {
      "cell_type": "code",
      "metadata": {
        "id": "IcxDK0boGeo3",
        "colab_type": "code",
        "colab": {
          "base_uri": "https://localhost:8080/",
          "height": 235
        },
        "outputId": "8ccf2cd4-af90-4a91-f806-b29e0b6f9889"
      },
      "source": [
        "# Printing model performance results.\n",
        "results_dict={'Classifier':['Logistic regression', 'SVC', 'MultinomialNB', 'DecisionTreeClassifier',\n",
        "                            'KNeighborsClassifier','RandomForestClassifier'],\n",
        "              'F1-Score':[0.81, 0.40, .80, .75,0.65,0.76],'Accuracy':['81%', '56%', '80%','75%','69%','77%']} \n",
        "results=pd.DataFrame(results_dict)\n",
        "results"
      ],
      "execution_count": 70,
      "outputs": [
        {
          "output_type": "execute_result",
          "data": {
            "text/html": [
              "<div>\n",
              "<style scoped>\n",
              "    .dataframe tbody tr th:only-of-type {\n",
              "        vertical-align: middle;\n",
              "    }\n",
              "\n",
              "    .dataframe tbody tr th {\n",
              "        vertical-align: top;\n",
              "    }\n",
              "\n",
              "    .dataframe thead th {\n",
              "        text-align: right;\n",
              "    }\n",
              "</style>\n",
              "<table border=\"1\" class=\"dataframe\">\n",
              "  <thead>\n",
              "    <tr style=\"text-align: right;\">\n",
              "      <th></th>\n",
              "      <th>Classifier</th>\n",
              "      <th>F1-Score</th>\n",
              "      <th>Accuracy</th>\n",
              "    </tr>\n",
              "  </thead>\n",
              "  <tbody>\n",
              "    <tr>\n",
              "      <th>0</th>\n",
              "      <td>Logistic regression</td>\n",
              "      <td>0.81</td>\n",
              "      <td>81%</td>\n",
              "    </tr>\n",
              "    <tr>\n",
              "      <th>1</th>\n",
              "      <td>SVC</td>\n",
              "      <td>0.40</td>\n",
              "      <td>56%</td>\n",
              "    </tr>\n",
              "    <tr>\n",
              "      <th>2</th>\n",
              "      <td>MultinomialNB</td>\n",
              "      <td>0.80</td>\n",
              "      <td>80%</td>\n",
              "    </tr>\n",
              "    <tr>\n",
              "      <th>3</th>\n",
              "      <td>DecisionTreeClassifier</td>\n",
              "      <td>0.75</td>\n",
              "      <td>75%</td>\n",
              "    </tr>\n",
              "    <tr>\n",
              "      <th>4</th>\n",
              "      <td>KNeighborsClassifier</td>\n",
              "      <td>0.65</td>\n",
              "      <td>69%</td>\n",
              "    </tr>\n",
              "    <tr>\n",
              "      <th>5</th>\n",
              "      <td>RandomForestClassifier</td>\n",
              "      <td>0.76</td>\n",
              "      <td>77%</td>\n",
              "    </tr>\n",
              "  </tbody>\n",
              "</table>\n",
              "</div>"
            ],
            "text/plain": [
              "               Classifier  F1-Score Accuracy\n",
              "0     Logistic regression      0.81      81%\n",
              "1                     SVC      0.40      56%\n",
              "2           MultinomialNB      0.80      80%\n",
              "3  DecisionTreeClassifier      0.75      75%\n",
              "4    KNeighborsClassifier      0.65      69%\n",
              "5  RandomForestClassifier      0.76      77%"
            ]
          },
          "metadata": {
            "tags": []
          },
          "execution_count": 70
        }
      ]
    },
    {
      "cell_type": "markdown",
      "metadata": {
        "id": "XPsth1b3Geo4",
        "colab_type": "text"
      },
      "source": [
        "It seems from all the classifiers tested, `LogisticRegression()` classifier performed best with `CountVectorizer()`."
      ]
    },
    {
      "cell_type": "code",
      "metadata": {
        "id": "pC9ODnAMGeo5",
        "colab_type": "code",
        "colab": {
          "base_uri": "https://localhost:8080/",
          "height": 204
        },
        "outputId": "356b5689-07e6-4248-de20-b5b12b4128e8"
      },
      "source": [
        "# Fitting 'LogisticRegression()' with CountVectorizer() fit dataset\n",
        "clf_logreg = LogisticRegression(C=1.0)\n",
        "clf_logreg.fit(X_train_cv, y_train_cv)\n",
        "pred=clf_logreg.predict(X_test_cv)\n",
        "confusion_matrix(y_test_cv,pred)\n",
        "print(classification_report(y_test_cv,pred))\n",
        "print('Accuracy of classifier on training set:{}%'.format(round(clf_logreg.score(X_train_cv, y_train_cv)*100)))\n",
        "print('Accuracy of classifier on test set:{}%' .format(round(accuracy_score(y_test_cv,pred)*100)))"
      ],
      "execution_count": 71,
      "outputs": [
        {
          "output_type": "stream",
          "text": [
            "              precision    recall  f1-score   support\n",
            "\n",
            "           0       0.79      0.89      0.84       849\n",
            "           1       0.84      0.71      0.77       674\n",
            "\n",
            "    accuracy                           0.81      1523\n",
            "   macro avg       0.81      0.80      0.80      1523\n",
            "weighted avg       0.81      0.81      0.81      1523\n",
            "\n",
            "Accuracy of classifier on training set:96.0%\n",
            "Accuracy of classifier on test set:81.0%\n"
          ],
          "name": "stdout"
        }
      ]
    },
    {
      "cell_type": "code",
      "metadata": {
        "id": "wJ0tAwB5Geo6",
        "colab_type": "code",
        "colab": {
          "base_uri": "https://localhost:8080/",
          "height": 102
        },
        "outputId": "8eed909f-dd17-47b0-b11b-06171f4b0347"
      },
      "source": [
        "clf_logreg"
      ],
      "execution_count": 72,
      "outputs": [
        {
          "output_type": "execute_result",
          "data": {
            "text/plain": [
              "LogisticRegression(C=1.0, class_weight=None, dual=False, fit_intercept=True,\n",
              "                   intercept_scaling=1, l1_ratio=None, max_iter=100,\n",
              "                   multi_class='auto', n_jobs=None, penalty='l2',\n",
              "                   random_state=None, solver='lbfgs', tol=0.0001, verbose=0,\n",
              "                   warm_start=False)"
            ]
          },
          "metadata": {
            "tags": []
          },
          "execution_count": 72
        }
      ]
    },
    {
      "cell_type": "markdown",
      "metadata": {
        "id": "1mLh74e1Geo7",
        "colab_type": "text"
      },
      "source": [
        "### Model Performance Metrics\n",
        "\n",
        "After implementing a model and getting some output in forms of a probability or a class, the next step is to find out how effective is the model based on some metric using test data sets.Different performance metrics are used to evaluate different Machine Learning Algorithms.\n",
        "\n",
        "This problem is a classification problem hence I have claculated confusion matrix, F1-score and accuracy as a performacne metric to evaluate model performance.\n",
        "\n",
        "**1.Confusion Matrix:**\n",
        "\n",
        "The confusion matrix, is a table with two dimensions (“Actual” and “Predicted”), and sets of “classes” in both dimensions. Our Actual classifications are columns and Predicted ones are Rows.\n",
        "![image.png](attachment:image.png)\n",
        "\n",
        "The Confusion matrix in itself is not a performance measure as such, but almost all of the performance metrics are based on Confusion Matrix and the numbers inside it.\n",
        "\n",
        "**3.F1-Score:**\n",
        "\n",
        "F1-score combines precision and recall relative to a specific positive class. The F1-score can be interpreted as a weighted average of the precision and recall, where an F1-score reaches its best value at 1 and worst at 0.\n",
        "\n",
        "**2.Accuracy**:\n",
        "\n",
        "Accuracy in classification problems is the number of correct predictions made by the model over all predictions made.\n",
        "\n",
        "Accuracy is good measure when target class variable in the training dataset is nearly balanced.The distribution of the target class in provided training set is 57% for `0` class to 43% for `1` class which is about equally distributed.\n",
        "Due to this reason i chose 'accuracy' to be model performance evalution metric for this problem."
      ]
    },
    {
      "cell_type": "markdown",
      "metadata": {
        "id": "qnlfieitGeo8",
        "colab_type": "text"
      },
      "source": [
        "### Model Improvements\n",
        "\n",
        "The result from `LogisticRegression()` classifier seems good enough than rest of the classifiers to be used as a final model.Based on the above results, it seems the classifier is not over fitting but lets try to improve the model by tuning some hyper parameters of the classifier."
      ]
    },
    {
      "cell_type": "code",
      "metadata": {
        "id": "1oPGu_ZYGeo8",
        "colab_type": "code",
        "colab": {
          "base_uri": "https://localhost:8080/",
          "height": 34
        },
        "outputId": "decb6587-b922-4ea5-c290-533573d271c0"
      },
      "source": [
        "# Create the list of various hyper parameters to try\n",
        "solvers = ['newton-cg', 'lbfgs', 'liblinear']\n",
        "penalty = ['l2']\n",
        "c_values = [100, 10, 1.0, 0.1, 0.01]\n",
        "logreg= LogisticRegression()\n",
        "\n",
        "# Define and fit grid search\n",
        "grid = dict(solver=solvers,penalty=penalty,C=c_values)\n",
        "cv = RepeatedStratifiedKFold(n_splits=10, n_repeats=3, random_state=1)\n",
        "grid_search = GridSearchCV(estimator=logreg, param_grid=grid, n_jobs=-1, cv=cv, scoring='accuracy',error_score=0)\n",
        "grid_result = grid_search.fit(X_train_cv, y_train_cv)\n",
        "\n",
        "# Summarize and print results\n",
        "print(\"Best: %f using %s\" % (grid_result.best_score_, grid_result.best_params_))"
      ],
      "execution_count": 73,
      "outputs": [
        {
          "output_type": "stream",
          "text": [
            "Best: 0.795676 using {'C': 0.1, 'penalty': 'l2', 'solver': 'liblinear'}\n"
          ],
          "name": "stdout"
        }
      ]
    },
    {
      "cell_type": "markdown",
      "metadata": {
        "id": "t-Hc0hc5Geo9",
        "colab_type": "text"
      },
      "source": [
        "From above results, it seems orignal classifier with default parameters performed best so that will be used as the final model for test data predictions."
      ]
    },
    {
      "cell_type": "code",
      "metadata": {
        "id": "2yfHINBkGeo-",
        "colab_type": "code",
        "colab": {}
      },
      "source": [
        "# Lets apply pre-processing function to clean and pre-process text data before vectorizing\n",
        "test_df_final=test_df.copy()\n",
        "test_df_final['text'] = test_df_final['text'].apply(lambda x : pre_process_text_combined(x))"
      ],
      "execution_count": 74,
      "outputs": []
    },
    {
      "cell_type": "code",
      "metadata": {
        "id": "PFUU6WPWGepB",
        "colab_type": "code",
        "colab": {}
      },
      "source": [
        "# Lets fit the test data with Countvectorizer() method to vectroize the data\n",
        "test_vector = count_vectorizer.transform(test_df_final[\"text\"])"
      ],
      "execution_count": 75,
      "outputs": []
    },
    {
      "cell_type": "markdown",
      "metadata": {
        "id": "c_cQD490GepD",
        "colab_type": "text"
      },
      "source": [
        "Lets create a function to generate predictions for the provided test data for submission."
      ]
    },
    {
      "cell_type": "code",
      "metadata": {
        "id": "LezXHWexGepD",
        "colab_type": "code",
        "colab": {}
      },
      "source": [
        "# Define a function to generate predictions and store in a.csv file for submission on Kaggle\n",
        "def submission(sub_file,model,test_vector):\n",
        "    \n",
        "    '''Input- sub_file=Location of the file submission file\n",
        "              model=final fit model to be used for predictions\n",
        "              test_vector=pre-processed and vectorized test dataset\n",
        "       Output- submission file in .csv format with predictions       \n",
        "    \n",
        "    '''\n",
        "    sub_df = pd.read_csv(sub_file)\n",
        "    sub_df[\"target\"] = model.predict(test_vector)\n",
        "    sub_df.to_csv(\"submission.csv\", index=False)"
      ],
      "execution_count": 76,
      "outputs": []
    },
    {
      "cell_type": "code",
      "metadata": {
        "id": "j6XpGQdoGepF",
        "colab_type": "code",
        "colab": {}
      },
      "source": [
        "# Use Submission() function to generate submission file for posting on Kaggle\n",
        "sub_file = \"https://raw.githubusercontent.com/pavstar619/Data-Science-Capstone/master/sample_submission.csv\"\n",
        "test_vector=test_vector\n",
        "submission(sub_file,clf_logreg,test_vector)"
      ],
      "execution_count": 78,
      "outputs": []
    },
    {
      "cell_type": "markdown",
      "metadata": {
        "id": "Yl8nSf3qGepH",
        "colab_type": "text"
      },
      "source": [
        "# 6. Challenges\n",
        "\n",
        "Working on this data science capstone project went pretty smoothly without many issues. Even though every step in developing this project was smooth, following complications were faced:\n",
        "\n",
        "- There are only about 7000 data records for training which seems low and hence accuracy of model suffers.\n",
        "- I took the NLP challenge for my capstone project and this area is new and challenging for me since i had to start from scratch. \n",
        "- Learning new area and working on a capstone project was little difficult due to the fact that I don't have much time left  on my nano degree.  \n",
        "- New topic and less time also restricted me to test few more models from deep neural network area.\n"
      ]
    },
    {
      "cell_type": "markdown",
      "metadata": {
        "id": "qkGjZAduGepH",
        "colab_type": "text"
      },
      "source": [
        "# 7. Conclusion\n",
        "\n",
        "In this capstone project, I took a Kaggle challenge to classify tweets into disaster tweets in real or not?. First, I have analyzed and explored all the provided tweets data to visualize the statistical and other properties of the presented data.Next, I performed some exploratory analysis of the data to check type of the data, whether there are unwanted features and if features have missing data. Based on the analysis, I decided to drop ‘location’ column since it has most the data missing and really have no effect on classification of tweets. The ‘text’ columns is all text data along with alpha numeric, special characters and embedded URLs.The ‘text’ column data needs to be cleaned and pre processed and vectorized before it can be used with a machine learning algorithm for the classification of the tweets.\n",
        "\n",
        "After pre processing the train and test data,the data was vectorized using `CountVectorizer` and `TFIDF` features and then it was split into training and test data, and then various classifiers were fit on the data and predictions were made.Out of all classifiers tested, LogisticRegression() performed the best with the test accuracy of 81%. An effort was made to tune some hyper parameters of the final classifier to see if accuracy can be improved.It turned out that classifier with default parameters preformed little better than tuned model .\n",
        "\n",
        "Finally, `LogisticRegression()` classifier with default parameters was selected as final model for this NLP classifications challenge and predictions were made on the test data. Kaggle submission³ of the predictions resulted in an accuracy of 79%."
      ]
    },
    {
      "cell_type": "markdown",
      "metadata": {
        "id": "g0eK9oD3GepH",
        "colab_type": "text"
      },
      "source": [
        "# 8. Improvements\n",
        "\n",
        "I believe there are definitely opportunities to try out various machine learning models to see if there are better performing models could be found to solve this problem with higher than 79% accuracy.\n",
        "\n",
        "Trying neural network and deep neural network models such as `RNN(Recurrent Neural Network)` might result in higher accuracy and better performance but may be very costly in terms of compute resources used.\n",
        "\n",
        "Another way to improve the accuracy of the models would be to have more training data than given."
      ]
    },
    {
      "cell_type": "code",
      "metadata": {
        "id": "_PZlXhPAGepI",
        "colab_type": "code",
        "colab": {}
      },
      "source": [
        ""
      ],
      "execution_count": 78,
      "outputs": []
    },
    {
      "cell_type": "code",
      "metadata": {
        "id": "WRyPmMjpGepJ",
        "colab_type": "code",
        "colab": {}
      },
      "source": [
        ""
      ],
      "execution_count": 78,
      "outputs": []
    }
  ]
}
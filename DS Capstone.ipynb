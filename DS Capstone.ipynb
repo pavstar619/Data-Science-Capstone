{
  "nbformat": 4,
  "nbformat_minor": 0,
  "metadata": {
    "kernelspec": {
      "display_name": "Python 3",
      "language": "python",
      "name": "python3"
    },
    "language_info": {
      "codemirror_mode": {
        "name": "ipython",
        "version": 3
      },
      "file_extension": ".py",
      "mimetype": "text/x-python",
      "name": "python",
      "nbconvert_exporter": "python",
      "pygments_lexer": "ipython3",
      "version": "3.7.1"
    },
    "colab": {
      "name": "DS Capstone.ipynb",
      "provenance": []
    }
  },
  "cells": [
    {
      "cell_type": "markdown",
      "metadata": {
        "id": "PS--vcQoGel3"
      },
      "source": [
        "# Capstone Project (Real or Not? NLP with Disaster Tweets)\n",
        "\n",
        "Predict which Tweets are about real disasters and which ones are not."
      ]
    },
    {
      "cell_type": "markdown",
      "metadata": {
        "id": "h1R3xCs_Gel4"
      },
      "source": [
        "## Project Overview\n",
        "\n",
        "Twitter has become an important communication channel in times of emergency.\n",
        "The ubiquitousness of smartphones enables people to announce an emergency they’re observing in real-time. Because of this, more agencies are interested in programatically monitoring tweets(i.e. disaster relief organizations and news agencies) but, it’s not always clear whether a person’s words are actually announcing a disaster.\n",
        "\n",
        "Take an example of a tweet *'On plus side LOOK AT THE SKY LAST NIGHT IT WAS ABLAZE'*.The author of the tweet explicitly uses the word “ABLAZE” but means it metaphorically. This is clear to a human right away, especially with the visual aid but it’s less clear to a machine.\n",
        "\n",
        "Kaggle hosted this challenge on their platform and dataset was created by the company figure-eight originally shared on their ‘Data For Everyone’ website here."
      ]
    },
    {
      "cell_type": "markdown",
      "metadata": {
        "id": "L33CGTcEGel5"
      },
      "source": [
        "\n",
        "## The Problem\n",
        "\n",
        "The problem to be solved by this project is how to identify which tweets are about real disasters and which one’s aren’t.This project will build a machine learning model to predict which Tweets are about real disasters and which one’s aren’t.\n"
      ]
    },
    {
      "cell_type": "markdown",
      "metadata": {
        "id": "dcdIrTwYGel6"
      },
      "source": [
        "# 1. Analysis "
      ]
    },
    {
      "cell_type": "markdown",
      "metadata": {
        "id": "Ft0KdNbBGel6"
      },
      "source": [
        "## Part I: Business understanding\n",
        "\n",
        "Objective of the capstone project is to understand the business domain, analyze and explore the given data set then train and fit the a machine learning model and finally classify given test tweets data into announcing disaster or not.Disaster relief organizations and News Agencies would be the main users of this kind of application. The data is provided by company figure-eight which contains about 10000 tweets and they are hand labeled."
      ]
    },
    {
      "cell_type": "markdown",
      "metadata": {
        "id": "shYMTv5cGel7"
      },
      "source": [
        "## Part II: Data Exploration\n",
        "\n",
        "Given dataset contains 3 files:\n",
        "- `train.csv` - the training set\n",
        "- `test.csv` - the test set\n",
        "- `sample_submission.csv` - a sample submission file in the correct format\n",
        "\n",
        "Each sample in the train and test set has the following information:\n",
        "- The text of a tweet\n",
        "- A keyword from that tweet (although this may be blank!)\n",
        "- The location the tweet was sent from (may also be blank)\n",
        "\n",
        "Features in the files:\n",
        "- `id` - a unique identifier for each tweet\n",
        "- `text` - the text of the tweet\n",
        "- `location` - the location the tweet was sent from (may be blank)\n",
        "- `keyword` - a particular keyword from the tweet (may be blank)\n",
        "- `target` - in train.csv only, this denotes whether a tweet is about a real disaster (1) or not (0)"
      ]
    },
    {
      "cell_type": "code",
      "metadata": {
        "id": "wC3UGEtGGel8",
        "outputId": "0bd87660-805b-4727-e0aa-9378106ca1d3",
        "colab": {
          "base_uri": "https://localhost:8080/",
          "height": 34
        }
      },
      "source": [
        "#Importing the required libraries to read,visualize and model the givn dataset files\n",
        "import pandas as pd\n",
        "import numpy as np\n",
        "import seaborn as sns\n",
        "import matplotlib.pyplot as plt\n",
        "import plotly.graph_objects as go\n",
        "import plotly.express as px\n",
        "import missingno as msno \n",
        "import warnings\n",
        "warnings.filterwarnings(\"ignore\")\n",
        "import re\n",
        "import re\n",
        "import string\n",
        "import nltk\n",
        "from nltk.corpus import stopwords\n",
        "from sklearn import model_selection\n",
        "from sklearn.feature_extraction.text import CountVectorizer,TfidfVectorizer\n",
        "from sklearn.model_selection import train_test_split,GridSearchCV\n",
        "from sklearn.naive_bayes import MultinomialNB\n",
        "from sklearn.metrics import f1_score\n",
        "from sklearn.metrics import classification_report, confusion_matrix, accuracy_score\n",
        "from sklearn.pipeline import Pipeline\n",
        "from sklearn.feature_extraction.text import TfidfTransformer\n",
        "from sklearn.linear_model import LogisticRegression\n",
        "from sklearn.svm import SVC\n",
        "from sklearn.neighbors import KNeighborsClassifier\n",
        "from sklearn.tree import DecisionTreeClassifier\n",
        "from sklearn.ensemble import RandomForestClassifier\n",
        "from sklearn.multioutput import MultiOutputClassifier\n",
        "from sklearn.model_selection import RepeatedStratifiedKFold\n",
        "import nltk\n",
        "from nltk.tokenize import word_tokenize,RegexpTokenizer\n",
        "from nltk.stem import WordNetLemmatizer\n",
        "from platform import python_version\n",
        "print (python_version())"
      ],
      "execution_count": 131,
      "outputs": [
        {
          "output_type": "stream",
          "text": [
            "3.6.9\n"
          ],
          "name": "stdout"
        }
      ]
    },
    {
      "cell_type": "code",
      "metadata": {
        "id": "9C8fM6dEK-Xd",
        "outputId": "02567fd6-b3a7-411d-9806-4225a1cd6b84",
        "colab": {
          "base_uri": "https://localhost:8080/",
          "height": 850
        }
      },
      "source": [
        "nltk.download(\"popular\")"
      ],
      "execution_count": 132,
      "outputs": [
        {
          "output_type": "stream",
          "text": [
            "[nltk_data] Downloading collection 'popular'\n",
            "[nltk_data]    | \n",
            "[nltk_data]    | Downloading package cmudict to /root/nltk_data...\n",
            "[nltk_data]    |   Package cmudict is already up-to-date!\n",
            "[nltk_data]    | Downloading package gazetteers to /root/nltk_data...\n",
            "[nltk_data]    |   Package gazetteers is already up-to-date!\n",
            "[nltk_data]    | Downloading package genesis to /root/nltk_data...\n",
            "[nltk_data]    |   Package genesis is already up-to-date!\n",
            "[nltk_data]    | Downloading package gutenberg to /root/nltk_data...\n",
            "[nltk_data]    |   Package gutenberg is already up-to-date!\n",
            "[nltk_data]    | Downloading package inaugural to /root/nltk_data...\n",
            "[nltk_data]    |   Package inaugural is already up-to-date!\n",
            "[nltk_data]    | Downloading package movie_reviews to\n",
            "[nltk_data]    |     /root/nltk_data...\n",
            "[nltk_data]    |   Package movie_reviews is already up-to-date!\n",
            "[nltk_data]    | Downloading package names to /root/nltk_data...\n",
            "[nltk_data]    |   Package names is already up-to-date!\n",
            "[nltk_data]    | Downloading package shakespeare to /root/nltk_data...\n",
            "[nltk_data]    |   Package shakespeare is already up-to-date!\n",
            "[nltk_data]    | Downloading package stopwords to /root/nltk_data...\n",
            "[nltk_data]    |   Package stopwords is already up-to-date!\n",
            "[nltk_data]    | Downloading package treebank to /root/nltk_data...\n",
            "[nltk_data]    |   Package treebank is already up-to-date!\n",
            "[nltk_data]    | Downloading package twitter_samples to\n",
            "[nltk_data]    |     /root/nltk_data...\n",
            "[nltk_data]    |   Package twitter_samples is already up-to-date!\n",
            "[nltk_data]    | Downloading package omw to /root/nltk_data...\n",
            "[nltk_data]    |   Package omw is already up-to-date!\n",
            "[nltk_data]    | Downloading package wordnet to /root/nltk_data...\n",
            "[nltk_data]    |   Package wordnet is already up-to-date!\n",
            "[nltk_data]    | Downloading package wordnet_ic to /root/nltk_data...\n",
            "[nltk_data]    |   Package wordnet_ic is already up-to-date!\n",
            "[nltk_data]    | Downloading package words to /root/nltk_data...\n",
            "[nltk_data]    |   Package words is already up-to-date!\n",
            "[nltk_data]    | Downloading package maxent_ne_chunker to\n",
            "[nltk_data]    |     /root/nltk_data...\n",
            "[nltk_data]    |   Package maxent_ne_chunker is already up-to-date!\n",
            "[nltk_data]    | Downloading package punkt to /root/nltk_data...\n",
            "[nltk_data]    |   Package punkt is already up-to-date!\n",
            "[nltk_data]    | Downloading package snowball_data to\n",
            "[nltk_data]    |     /root/nltk_data...\n",
            "[nltk_data]    |   Package snowball_data is already up-to-date!\n",
            "[nltk_data]    | Downloading package averaged_perceptron_tagger to\n",
            "[nltk_data]    |     /root/nltk_data...\n",
            "[nltk_data]    |   Package averaged_perceptron_tagger is already up-\n",
            "[nltk_data]    |       to-date!\n",
            "[nltk_data]    | \n",
            "[nltk_data]  Done downloading collection popular\n"
          ],
          "name": "stdout"
        },
        {
          "output_type": "execute_result",
          "data": {
            "text/plain": [
              "True"
            ]
          },
          "metadata": {
            "tags": []
          },
          "execution_count": 132
        }
      ]
    },
    {
      "cell_type": "code",
      "metadata": {
        "id": "ewMqBDHdGemA",
        "outputId": "64995bc5-cc03-4796-c6dc-624e24108f92",
        "colab": {
          "base_uri": "https://localhost:8080/",
          "height": 34
        }
      },
      "source": [
        "# Read the dataset csv files and create pandas datframes\n",
        "train_df=pd.read_csv(\"https://raw.githubusercontent.com/pavstar619/Data-Science-Capstone/master/train.csv\")\n",
        "test_df=pd.read_csv(\"https://raw.githubusercontent.com/pavstar619/Data-Science-Capstone/master/test.csv\")\n",
        "print(\"Train and Test data sets are imported successfully\")\n",
        "#X=train_df.text\n",
        "#y=train_df.target"
      ],
      "execution_count": 133,
      "outputs": [
        {
          "output_type": "stream",
          "text": [
            "Train and Test data sets are imported successfully\n"
          ],
          "name": "stdout"
        }
      ]
    },
    {
      "cell_type": "code",
      "metadata": {
        "id": "yx1H3KTvGemG"
      },
      "source": [
        "# Define a function to explore the train and test dataframes\n",
        "def explore_data(df):\n",
        "    \n",
        "    '''Input- df= pandas dataframes to be explored\n",
        "       Output- print shape, info and first 5 records of the dataframe \n",
        "    '''\n",
        "    \n",
        "    print(\"-\"*50)\n",
        "    print('Shape of the dataframe:',df.shape)\n",
        "    print(\"Number of records in train data set:\",df.shape[0])\n",
        "    print(\"Information of the dataset:\")\n",
        "    df.info()\n",
        "    print(\"-\"*50)\n",
        "    print(\"First 5 records of the dataset:\")\n",
        "    return df.head()\n",
        "    print(\"-\"*50)"
      ],
      "execution_count": 134,
      "outputs": []
    },
    {
      "cell_type": "code",
      "metadata": {
        "id": "EnTrd1loGemJ",
        "outputId": "233db846-abf5-4dfb-d0ac-f6402f3b4aff",
        "colab": {
          "base_uri": "https://localhost:8080/",
          "height": 510
        }
      },
      "source": [
        "# Lets use explore_data() function to explore train data\n",
        "explore_data(train_df)"
      ],
      "execution_count": 135,
      "outputs": [
        {
          "output_type": "stream",
          "text": [
            "--------------------------------------------------\n",
            "Shape of the dataframe: (7613, 5)\n",
            "Number of records in train data set: 7613\n",
            "Information of the dataset:\n",
            "<class 'pandas.core.frame.DataFrame'>\n",
            "RangeIndex: 7613 entries, 0 to 7612\n",
            "Data columns (total 5 columns):\n",
            " #   Column    Non-Null Count  Dtype \n",
            "---  ------    --------------  ----- \n",
            " 0   id        7613 non-null   int64 \n",
            " 1   keyword   7552 non-null   object\n",
            " 2   location  5080 non-null   object\n",
            " 3   text      7613 non-null   object\n",
            " 4   target    7613 non-null   int64 \n",
            "dtypes: int64(2), object(3)\n",
            "memory usage: 297.5+ KB\n",
            "--------------------------------------------------\n",
            "First 5 records of the dataset:\n"
          ],
          "name": "stdout"
        },
        {
          "output_type": "execute_result",
          "data": {
            "text/html": [
              "<div>\n",
              "<style scoped>\n",
              "    .dataframe tbody tr th:only-of-type {\n",
              "        vertical-align: middle;\n",
              "    }\n",
              "\n",
              "    .dataframe tbody tr th {\n",
              "        vertical-align: top;\n",
              "    }\n",
              "\n",
              "    .dataframe thead th {\n",
              "        text-align: right;\n",
              "    }\n",
              "</style>\n",
              "<table border=\"1\" class=\"dataframe\">\n",
              "  <thead>\n",
              "    <tr style=\"text-align: right;\">\n",
              "      <th></th>\n",
              "      <th>id</th>\n",
              "      <th>keyword</th>\n",
              "      <th>location</th>\n",
              "      <th>text</th>\n",
              "      <th>target</th>\n",
              "    </tr>\n",
              "  </thead>\n",
              "  <tbody>\n",
              "    <tr>\n",
              "      <th>0</th>\n",
              "      <td>1</td>\n",
              "      <td>NaN</td>\n",
              "      <td>NaN</td>\n",
              "      <td>Our Deeds are the Reason of this #earthquake M...</td>\n",
              "      <td>1</td>\n",
              "    </tr>\n",
              "    <tr>\n",
              "      <th>1</th>\n",
              "      <td>4</td>\n",
              "      <td>NaN</td>\n",
              "      <td>NaN</td>\n",
              "      <td>Forest fire near La Ronge Sask. Canada</td>\n",
              "      <td>1</td>\n",
              "    </tr>\n",
              "    <tr>\n",
              "      <th>2</th>\n",
              "      <td>5</td>\n",
              "      <td>NaN</td>\n",
              "      <td>NaN</td>\n",
              "      <td>All residents asked to 'shelter in place' are ...</td>\n",
              "      <td>1</td>\n",
              "    </tr>\n",
              "    <tr>\n",
              "      <th>3</th>\n",
              "      <td>6</td>\n",
              "      <td>NaN</td>\n",
              "      <td>NaN</td>\n",
              "      <td>13,000 people receive #wildfires evacuation or...</td>\n",
              "      <td>1</td>\n",
              "    </tr>\n",
              "    <tr>\n",
              "      <th>4</th>\n",
              "      <td>7</td>\n",
              "      <td>NaN</td>\n",
              "      <td>NaN</td>\n",
              "      <td>Just got sent this photo from Ruby #Alaska as ...</td>\n",
              "      <td>1</td>\n",
              "    </tr>\n",
              "  </tbody>\n",
              "</table>\n",
              "</div>"
            ],
            "text/plain": [
              "   id keyword  ...                                               text target\n",
              "0   1     NaN  ...  Our Deeds are the Reason of this #earthquake M...      1\n",
              "1   4     NaN  ...             Forest fire near La Ronge Sask. Canada      1\n",
              "2   5     NaN  ...  All residents asked to 'shelter in place' are ...      1\n",
              "3   6     NaN  ...  13,000 people receive #wildfires evacuation or...      1\n",
              "4   7     NaN  ...  Just got sent this photo from Ruby #Alaska as ...      1\n",
              "\n",
              "[5 rows x 5 columns]"
            ]
          },
          "metadata": {
            "tags": []
          },
          "execution_count": 135
        }
      ]
    },
    {
      "cell_type": "code",
      "metadata": {
        "id": "_mUZeld6GemM",
        "outputId": "38b06ba2-f91a-493a-9cc2-5de7f58459cf",
        "colab": {
          "base_uri": "https://localhost:8080/",
          "height": 493
        }
      },
      "source": [
        "# Lets use explore_data() function to explore test data\n",
        "explore_data(test_df)"
      ],
      "execution_count": 136,
      "outputs": [
        {
          "output_type": "stream",
          "text": [
            "--------------------------------------------------\n",
            "Shape of the dataframe: (3263, 4)\n",
            "Number of records in train data set: 3263\n",
            "Information of the dataset:\n",
            "<class 'pandas.core.frame.DataFrame'>\n",
            "RangeIndex: 3263 entries, 0 to 3262\n",
            "Data columns (total 4 columns):\n",
            " #   Column    Non-Null Count  Dtype \n",
            "---  ------    --------------  ----- \n",
            " 0   id        3263 non-null   int64 \n",
            " 1   keyword   3237 non-null   object\n",
            " 2   location  2158 non-null   object\n",
            " 3   text      3263 non-null   object\n",
            "dtypes: int64(1), object(3)\n",
            "memory usage: 102.1+ KB\n",
            "--------------------------------------------------\n",
            "First 5 records of the dataset:\n"
          ],
          "name": "stdout"
        },
        {
          "output_type": "execute_result",
          "data": {
            "text/html": [
              "<div>\n",
              "<style scoped>\n",
              "    .dataframe tbody tr th:only-of-type {\n",
              "        vertical-align: middle;\n",
              "    }\n",
              "\n",
              "    .dataframe tbody tr th {\n",
              "        vertical-align: top;\n",
              "    }\n",
              "\n",
              "    .dataframe thead th {\n",
              "        text-align: right;\n",
              "    }\n",
              "</style>\n",
              "<table border=\"1\" class=\"dataframe\">\n",
              "  <thead>\n",
              "    <tr style=\"text-align: right;\">\n",
              "      <th></th>\n",
              "      <th>id</th>\n",
              "      <th>keyword</th>\n",
              "      <th>location</th>\n",
              "      <th>text</th>\n",
              "    </tr>\n",
              "  </thead>\n",
              "  <tbody>\n",
              "    <tr>\n",
              "      <th>0</th>\n",
              "      <td>0</td>\n",
              "      <td>NaN</td>\n",
              "      <td>NaN</td>\n",
              "      <td>Just happened a terrible car crash</td>\n",
              "    </tr>\n",
              "    <tr>\n",
              "      <th>1</th>\n",
              "      <td>2</td>\n",
              "      <td>NaN</td>\n",
              "      <td>NaN</td>\n",
              "      <td>Heard about #earthquake is different cities, s...</td>\n",
              "    </tr>\n",
              "    <tr>\n",
              "      <th>2</th>\n",
              "      <td>3</td>\n",
              "      <td>NaN</td>\n",
              "      <td>NaN</td>\n",
              "      <td>there is a forest fire at spot pond, geese are...</td>\n",
              "    </tr>\n",
              "    <tr>\n",
              "      <th>3</th>\n",
              "      <td>9</td>\n",
              "      <td>NaN</td>\n",
              "      <td>NaN</td>\n",
              "      <td>Apocalypse lighting. #Spokane #wildfires</td>\n",
              "    </tr>\n",
              "    <tr>\n",
              "      <th>4</th>\n",
              "      <td>11</td>\n",
              "      <td>NaN</td>\n",
              "      <td>NaN</td>\n",
              "      <td>Typhoon Soudelor kills 28 in China and Taiwan</td>\n",
              "    </tr>\n",
              "  </tbody>\n",
              "</table>\n",
              "</div>"
            ],
            "text/plain": [
              "   id keyword location                                               text\n",
              "0   0     NaN      NaN                 Just happened a terrible car crash\n",
              "1   2     NaN      NaN  Heard about #earthquake is different cities, s...\n",
              "2   3     NaN      NaN  there is a forest fire at spot pond, geese are...\n",
              "3   9     NaN      NaN           Apocalypse lighting. #Spokane #wildfires\n",
              "4  11     NaN      NaN      Typhoon Soudelor kills 28 in China and Taiwan"
            ]
          },
          "metadata": {
            "tags": []
          },
          "execution_count": 136
        }
      ]
    },
    {
      "cell_type": "markdown",
      "metadata": {
        "id": "7BNboGutGemQ"
      },
      "source": [
        "It seems train and test dataset has 'NaN' values for `keyword` and `location` columns. Let's explore the dataset further for missing data values."
      ]
    },
    {
      "cell_type": "code",
      "metadata": {
        "id": "l3Cq7JjCGemQ"
      },
      "source": [
        "#Calculate count and percentage of missing values in the dataframe\n",
        "\n",
        "def missing_values(df):\n",
        "    \n",
        "    '''Input- df=pandas dataframe\n",
        "       Output- print missing records count and % of the input dataframe and visualize using MSNO\n",
        "    '''\n",
        "    \n",
        "    print(\"Number of records with missing location:\",df.location.isnull().sum())\n",
        "    print(\"Number of records with missing keywords:\",df.keyword.isnull().sum())\n",
        "    print('{}% of location values are missing from Total Number of Records.'.format(round((df.location.isnull().sum())/(df.shape[0])*100),2))\n",
        "    print('{}% of keywords values are missing from Total Number of Records.'.format(round((df.keyword.isnull().sum())/(df.shape[0])*100),2))\n",
        "    msno.matrix(df);"
      ],
      "execution_count": 137,
      "outputs": []
    },
    {
      "cell_type": "code",
      "metadata": {
        "id": "V9gc5QnNGemU",
        "outputId": "4a1b0d49-6330-4833-c82b-7ac86ecaeac3",
        "colab": {
          "base_uri": "https://localhost:8080/",
          "height": 619
        }
      },
      "source": [
        "# Lets use missing_values function to explore train dataset\n",
        "missing_values(train_df)"
      ],
      "execution_count": 138,
      "outputs": [
        {
          "output_type": "stream",
          "text": [
            "Number of records with missing location: 2533\n",
            "Number of records with missing keywords: 61\n",
            "33.0% of location values are missing from Total Number of Records.\n",
            "1.0% of keywords values are missing from Total Number of Records.\n"
          ],
          "name": "stdout"
        },
        {
          "output_type": "display_data",
          "data": {
            "image/png": "[encoded data removed]",
            "text/plain": [
              "<Figure size 1800x720 with 2 Axes>"
            ]
          },
          "metadata": {
            "tags": [],
            "needs_background": "light"
          }
        }
      ]
    },
    {
      "cell_type": "code",
      "metadata": {
        "id": "_WmtxQ_dGemX",
        "outputId": "f3266d15-7071-46dc-be9c-983674b2f055",
        "colab": {
          "base_uri": "https://localhost:8080/",
          "height": 619
        }
      },
      "source": [
        "# Lets use missing_values function to explore train dataset\n",
        "missing_values(test_df);"
      ],
      "execution_count": 139,
      "outputs": [
        {
          "output_type": "stream",
          "text": [
            "Number of records with missing location: 1105\n",
            "Number of records with missing keywords: 26\n",
            "34.0% of location values are missing from Total Number of Records.\n",
            "1.0% of keywords values are missing from Total Number of Records.\n"
          ],
          "name": "stdout"
        },
        {
          "output_type": "display_data",
          "data": {
            "image/png": "[encoded data removed]",
            "text/plain": [
              "<Figure size 1800x720 with 2 Axes>"
            ]
          },
          "metadata": {
            "tags": [],
            "needs_background": "light"
          }
        }
      ]
    },
    {
      "cell_type": "markdown",
      "metadata": {
        "id": "zPi_952hGema"
      },
      "source": [
        "From train data frame description and analysis, it is obivous that:\n",
        "- `location` feature is not automatically generated feature, and it seems it is user input hence too many records are missing.In my opinion, `location` column from our dataset could be dropped.\n",
        "- We will keep the `keyword` feature because there are a lot of unique keywords and missing values are very insignificant (< 1 percentage)"
      ]
    },
    {
      "cell_type": "code",
      "metadata": {
        "id": "yB_wrUtLGema"
      },
      "source": [
        "#Lets visulaize dataframe features using charts\n",
        "def feature_viz(df,feature):\n",
        "    \n",
        "    '''Input- df=pandas dataframe\n",
        "              feature= column to be charted\n",
        "       Output- bar and scatter chart using plotly       \n",
        "    \n",
        "    '''\n",
        "    #Visualize the feature\n",
        "    if feature=='target':\n",
        "        sns.countplot(feature, data=df)\n",
        "        print('Target of 0 is {} % of total'.format(round(df[feature].value_counts()[0]/len(df[feature])*100)))\n",
        "        print('Target of 1 is {} % of total'.format(round(df[feature].value_counts()[1]/len(df[feature])*100)))\n",
        "    else:\n",
        "        #Distinct keywords in train dataset\n",
        "        feat=df[feature].value_counts()\n",
        "        print(feat.head())\n",
        "        fig = px.scatter(feat, x=feat.values, y=feat.index,size=feat.values)\n",
        "        fig.show()"
      ],
      "execution_count": 140,
      "outputs": []
    },
    {
      "cell_type": "code",
      "metadata": {
        "id": "adTl9GKdGemd",
        "outputId": "bfaaa8f1-2312-436c-e2c7-968505c65064",
        "colab": {
          "base_uri": "https://localhost:8080/",
          "height": 313
        }
      },
      "source": [
        "#Lets use feature_viz function to create charts for 'target' column\n",
        "feature_viz(train_df,'target')"
      ],
      "execution_count": 141,
      "outputs": [
        {
          "output_type": "stream",
          "text": [
            "Target of 0 is 57.0 % of total\n",
            "Target of 1 is 43.0 % of total\n"
          ],
          "name": "stdout"
        },
        {
          "output_type": "display_data",
          "data": {
            "image/png": "[encoded data removed]",
            "text/plain": [
              "<Figure size 432x288 with 1 Axes>"
            ]
          },
          "metadata": {
            "tags": [],
            "needs_background": "light"
          }
        }
      ]
    },
    {
      "cell_type": "code",
      "metadata": {
        "id": "o6_ubmjbGemg",
        "outputId": "be241640-4e3e-44ed-9400-f5e492b6537c",
        "colab": {
          "base_uri": "https://localhost:8080/",
          "height": 644
        }
      },
      "source": [
        "#Lets use feature_viz function to create charts for 'keyword' column\n",
        "feature_viz(train_df,'keyword')"
      ],
      "execution_count": 142,
      "outputs": [
        {
          "output_type": "stream",
          "text": [
            "fatalities    45\n",
            "deluge        42\n",
            "armageddon    42\n",
            "damage        41\n",
            "sinking       41\n",
            "Name: keyword, dtype: int64\n"
          ],
          "name": "stdout"
        },
        {
          "output_type": "display_data",
          "data": {
            "text/html": [
              "<html>\n",
              "<head><meta charset=\"utf-8\" /></head>\n",
              "<body>\n",
              "    <div>\n",
              "            <script src=\"https://cdnjs.cloudflare.com/ajax/libs/mathjax/2.7.5/MathJax.js?config=TeX-AMS-MML_SVG\"></script><script type=\"text/javascript\">if (window.MathJax) {MathJax.Hub.Config({SVG: {font: \"STIX-Web\"}});}</script>\n",
              "                <script type=\"text/javascript\">window.PlotlyConfig = {MathJaxConfig: 'local'};</script>\n",
              "        <script src=\"https://cdn.plot.ly/plotly-latest.min.js\"></script>    \n",
              "            <div id=\"f00dc10c-4ea4-4a8b-a755-fce43a807760\" class=\"plotly-graph-div\" style=\"height:525px; width:100%;\"></div>\n",
              "            <script type=\"text/javascript\">\n",
              "                \n",
              "                    window.PLOTLYENV=window.PLOTLYENV || {};\n",
              "                    \n",
              "                if (document.getElementById(\"f00dc10c-4ea4-4a8b-a755-fce43a807760\")) {\n",
              "                    Plotly.newPlot(\n",
              "                        'f00dc10c-4ea4-4a8b-a755-fce43a807760',\n",
              "                        [{\"hoverlabel\": {\"namelength\": 0}, \"hovertemplate\": \"x=%{x}<br>y=%{y}<br>size=%{marker.size}\", \"legendgroup\": \"\", \"marker\": {\"color\": \"#636efa\", \"size\": [45, 42, 42, 41, 41, 41, 41, 40, 40, 40, 40, 40, 40, 40, 39, 39, 39, 39, 39, 39, 39, 39, 39, 39, 39, 39, 39, 39, 38, 38, 38, 38, 38, 38, 38, 38, 38, 38, 38, 38, 38, 38, 38, 38, 37, 37, 37, 37, 37, 37, 37, 37, 37, 37, 37, 37, 37, 37, 37, 37, 37, 37, 37, 36, 36, 36, 36, 36, 36, 36, 36, 36, 36, 36, 36, 36, 36, 36, 36, 36, 36, 36, 36, 35, 35, 35, 35, 35, 35, 35, 35, 35, 35, 35, 35, 35, 35, 35, 35, 35, 35, 35, 35, 35, 35, 35, 35, 35, 35, 35, 35, 35, 35, 35, 34, 34, 34, 34, 34, 34, 34, 34, 34, 34, 34, 34, 34, 34, 34, 34, 34, 34, 34, 34, 34, 34, 34, 34, 34, 34, 34, 34, 34, 34, 33, 33, 33, 33, 33, 33, 33, 33, 33, 33, 33, 33, 33, 33, 33, 33, 33, 33, 33, 33, 33, 33, 33, 33, 33, 33, 32, 32, 32, 32, 32, 32, 32, 32, 32, 32, 32, 32, 32, 32, 32, 31, 31, 31, 31, 31, 31, 31, 31, 31, 30, 30, 30, 30, 30, 30, 29, 29, 29, 29, 29, 29, 29, 29, 28, 28, 27, 27, 26, 25, 24, 22, 19, 12, 11, 10, 9], \"sizemode\": \"area\", \"sizeref\": 0.1125, \"symbol\": \"circle\"}, \"mode\": \"markers\", \"name\": \"\", \"showlegend\": false, \"type\": \"scatter\", \"x\": [45, 42, 42, 41, 41, 41, 41, 40, 40, 40, 40, 40, 40, 40, 39, 39, 39, 39, 39, 39, 39, 39, 39, 39, 39, 39, 39, 39, 38, 38, 38, 38, 38, 38, 38, 38, 38, 38, 38, 38, 38, 38, 38, 38, 37, 37, 37, 37, 37, 37, 37, 37, 37, 37, 37, 37, 37, 37, 37, 37, 37, 37, 37, 36, 36, 36, 36, 36, 36, 36, 36, 36, 36, 36, 36, 36, 36, 36, 36, 36, 36, 36, 36, 35, 35, 35, 35, 35, 35, 35, 35, 35, 35, 35, 35, 35, 35, 35, 35, 35, 35, 35, 35, 35, 35, 35, 35, 35, 35, 35, 35, 35, 35, 35, 34, 34, 34, 34, 34, 34, 34, 34, 34, 34, 34, 34, 34, 34, 34, 34, 34, 34, 34, 34, 34, 34, 34, 34, 34, 34, 34, 34, 34, 34, 33, 33, 33, 33, 33, 33, 33, 33, 33, 33, 33, 33, 33, 33, 33, 33, 33, 33, 33, 33, 33, 33, 33, 33, 33, 33, 32, 32, 32, 32, 32, 32, 32, 32, 32, 32, 32, 32, 32, 32, 32, 31, 31, 31, 31, 31, 31, 31, 31, 31, 30, 30, 30, 30, 30, 30, 29, 29, 29, 29, 29, 29, 29, 29, 28, 28, 27, 27, 26, 25, 24, 22, 19, 12, 11, 10, 9], \"xaxis\": \"x\", \"y\": [\"fatalities\", \"deluge\", \"armageddon\", \"damage\", \"sinking\", \"harm\", \"body%20bags\", \"fear\", \"windstorm\", \"outbreak\", \"twister\", \"evacuate\", \"siren\", \"collided\", \"weapons\", \"collision\", \"sunk\", \"derailment\", \"hellfire\", \"weapon\", \"earthquake\", \"famine\", \"flames\", \"wrecked\", \"wreckage\", \"sinkhole\", \"whirlwind\", \"explosion\", \"upheaval\", \"typhoon\", \"derailed\", \"flooding\", \"fatal\", \"ambulance\", \"drowned\", \"explode\", \"fire\", \"oil%20spill\", \"thunder\", \"blaze\", \"hurricane\", \"deaths\", \"bombed\", \"injury\", \"pandemonium\", \"curfew\", \"debris\", \"panic\", \"destroy\", \"crush\", \"bioterror\", \"sandstorm\", \"emergency\", \"mudslide\", \"hostages\", \"blizzard\", \"police\", \"quarantined\", \"wreck\", \"ruin\", \"burning%20buildings\", \"fatality\", \"wounded\", \"displaced\", \"screaming\", \"catastrophe\", \"detonate\", \"devastation\", \"engulfed\", \"ablaze\", \"desolation\", \"evacuated\", \"danger\", \"attack\", \"cliff%20fall\", \"evacuation\", \"massacre\", \"nuclear%20reactor\", \"dust%20storm\", \"refugees\", \"floods\", \"tragedy\", \"death\", \"screams\", \"accident\", \"rescued\", \"tornado\", \"buildings%20burning\", \"airplane%20accident\", \"derail\", \"rioting\", \"bleeding\", \"inundated\", \"drought\", \"hijacker\", \"attacked\", \"bridge%20collapse\", \"hazardous\", \"bloody\", \"demolition\", \"rescuers\", \"collapsed\", \"injured\", \"structural%20failure\", \"emergency%20plan\", \"hail\", \"blood\", \"storm\", \"casualties\", \"disaster\", \"traumatised\", \"suicide%20bomb\", \"razed\", \"flood\", \"hazard\", \"terrorism\", \"rainstorm\", \"drowning\", \"bomb\", \"smoke\", \"riot\", \"tsunami\", \"collide\", \"aftershock\", \"nuclear%20disaster\", \"burning\", \"lava\", \"crashed\", \"annihilated\", \"casualty\", \"military\", \"destruction\", \"demolish\", \"loud%20bang\", \"electrocuted\", \"screamed\", \"quarantine\", \"blazing\", \"army\", \"natural%20disaster\", \"flattened\", \"collapse\", \"heat%20wave\", \"arsonist\", \"exploded\", \"violent%20storm\", \"wounds\", \"emergency%20services\", \"survived\", \"mass%20murder\", \"stretcher\", \"blew%20up\", \"trouble\", \"chemical%20emergency\", \"crash\", \"burned\", \"thunderstorm\", \"wildfire\", \"body%20bag\", \"body%20bagging\", \"meltdown\", \"suicide%20bombing\", \"lightning\", \"injuries\", \"hijack\", \"blown%20up\", \"fire%20truck\", \"landslide\", \"buildings%20on%20fire\", \"panicking\", \"hijacking\", \"cyclone\", \"eyewitness\", \"hailstorm\", \"survive\", \"forest%20fires\", \"blight\", \"arson\", \"apocalypse\", \"mass%20murderer\", \"drown\", \"trapped\", \"destroyed\", \"detonation\", \"electrocute\", \"wild%20fires\", \"obliterated\", \"terrorist\", \"obliterate\", \"crushed\", \"hostage\", \"suicide%20bomber\", \"devastated\", \"trauma\", \"bioterrorism\", \"survivors\", \"dead\", \"avalanche\", \"catastrophic\", \"mayhem\", \"obliteration\", \"snowstorm\", \"first%20responders\", \"annihilation\", \"desolate\", \"seismic\", \"bombing\", \"sirens\", \"rubble\", \"demolished\", \"volcano\", \"deluged\", \"battle\", \"bush%20fires\", \"war%20zone\", \"rescue\", \"forest%20fire\", \"epicentre\", \"threat\", \"inundation\", \"radiation%20emergency\"], \"yaxis\": \"y\"}],\n",
              "                        {\"legend\": {\"itemsizing\": \"constant\", \"tracegroupgap\": 0}, \"margin\": {\"t\": 60}, \"template\": {\"data\": {\"bar\": [{\"error_x\": {\"color\": \"#2a3f5f\"}, \"error_y\": {\"color\": \"#2a3f5f\"}, \"marker\": {\"line\": {\"color\": \"#E5ECF6\", \"width\": 0.5}}, \"type\": \"bar\"}], \"barpolar\": [{\"marker\": {\"line\": {\"color\": \"#E5ECF6\", \"width\": 0.5}}, \"type\": \"barpolar\"}], \"carpet\": [{\"aaxis\": {\"endlinecolor\": \"#2a3f5f\", \"gridcolor\": \"white\", \"linecolor\": \"white\", \"minorgridcolor\": \"white\", \"startlinecolor\": \"#2a3f5f\"}, \"baxis\": {\"endlinecolor\": \"#2a3f5f\", \"gridcolor\": \"white\", \"linecolor\": \"white\", \"minorgridcolor\": \"white\", \"startlinecolor\": \"#2a3f5f\"}, \"type\": \"carpet\"}], \"choropleth\": [{\"colorbar\": {\"outlinewidth\": 0, \"ticks\": \"\"}, \"type\": \"choropleth\"}], \"contour\": [{\"colorbar\": {\"outlinewidth\": 0, \"ticks\": \"\"}, \"colorscale\": [[0.0, \"#0d0887\"], [0.1111111111111111, \"#46039f\"], [0.2222222222222222, \"#7201a8\"], [0.3333333333333333, \"#9c179e\"], [0.4444444444444444, \"#bd3786\"], [0.5555555555555556, \"#d8576b\"], [0.6666666666666666, \"#ed7953\"], [0.7777777777777778, \"#fb9f3a\"], [0.8888888888888888, \"#fdca26\"], [1.0, \"#f0f921\"]], \"type\": \"contour\"}], \"contourcarpet\": [{\"colorbar\": {\"outlinewidth\": 0, \"ticks\": \"\"}, \"type\": \"contourcarpet\"}], \"heatmap\": [{\"colorbar\": {\"outlinewidth\": 0, \"ticks\": \"\"}, \"colorscale\": [[0.0, \"#0d0887\"], [0.1111111111111111, \"#46039f\"], [0.2222222222222222, \"#7201a8\"], [0.3333333333333333, \"#9c179e\"], [0.4444444444444444, \"#bd3786\"], [0.5555555555555556, \"#d8576b\"], [0.6666666666666666, \"#ed7953\"], [0.7777777777777778, \"#fb9f3a\"], [0.8888888888888888, \"#fdca26\"], [1.0, \"#f0f921\"]], \"type\": \"heatmap\"}], \"heatmapgl\": [{\"colorbar\": {\"outlinewidth\": 0, \"ticks\": \"\"}, \"colorscale\": [[0.0, \"#0d0887\"], [0.1111111111111111, \"#46039f\"], [0.2222222222222222, \"#7201a8\"], [0.3333333333333333, \"#9c179e\"], [0.4444444444444444, \"#bd3786\"], [0.5555555555555556, \"#d8576b\"], [0.6666666666666666, \"#ed7953\"], [0.7777777777777778, \"#fb9f3a\"], [0.8888888888888888, \"#fdca26\"], [1.0, \"#f0f921\"]], \"type\": \"heatmapgl\"}], \"histogram\": [{\"marker\": {\"colorbar\": {\"outlinewidth\": 0, \"ticks\": \"\"}}, \"type\": \"histogram\"}], \"histogram2d\": [{\"colorbar\": {\"outlinewidth\": 0, \"ticks\": \"\"}, \"colorscale\": [[0.0, \"#0d0887\"], [0.1111111111111111, \"#46039f\"], [0.2222222222222222, \"#7201a8\"], [0.3333333333333333, \"#9c179e\"], [0.4444444444444444, \"#bd3786\"], [0.5555555555555556, \"#d8576b\"], [0.6666666666666666, \"#ed7953\"], [0.7777777777777778, \"#fb9f3a\"], [0.8888888888888888, \"#fdca26\"], [1.0, \"#f0f921\"]], \"type\": \"histogram2d\"}], \"histogram2dcontour\": [{\"colorbar\": {\"outlinewidth\": 0, \"ticks\": \"\"}, \"colorscale\": [[0.0, \"#0d0887\"], [0.1111111111111111, \"#46039f\"], [0.2222222222222222, \"#7201a8\"], [0.3333333333333333, \"#9c179e\"], [0.4444444444444444, \"#bd3786\"], [0.5555555555555556, \"#d8576b\"], [0.6666666666666666, \"#ed7953\"], [0.7777777777777778, \"#fb9f3a\"], [0.8888888888888888, \"#fdca26\"], [1.0, \"#f0f921\"]], \"type\": \"histogram2dcontour\"}], \"mesh3d\": [{\"colorbar\": {\"outlinewidth\": 0, \"ticks\": \"\"}, \"type\": \"mesh3d\"}], \"parcoords\": [{\"line\": {\"colorbar\": {\"outlinewidth\": 0, \"ticks\": \"\"}}, \"type\": \"parcoords\"}], \"pie\": [{\"automargin\": true, \"type\": \"pie\"}], \"scatter\": [{\"marker\": {\"colorbar\": {\"outlinewidth\": 0, \"ticks\": \"\"}}, \"type\": \"scatter\"}], \"scatter3d\": [{\"line\": {\"colorbar\": {\"outlinewidth\": 0, \"ticks\": \"\"}}, \"marker\": {\"colorbar\": {\"outlinewidth\": 0, \"ticks\": \"\"}}, \"type\": \"scatter3d\"}], \"scattercarpet\": [{\"marker\": {\"colorbar\": {\"outlinewidth\": 0, \"ticks\": \"\"}}, \"type\": \"scattercarpet\"}], \"scattergeo\": [{\"marker\": {\"colorbar\": {\"outlinewidth\": 0, \"ticks\": \"\"}}, \"type\": \"scattergeo\"}], \"scattergl\": [{\"marker\": {\"colorbar\": {\"outlinewidth\": 0, \"ticks\": \"\"}}, \"type\": \"scattergl\"}], \"scattermapbox\": [{\"marker\": {\"colorbar\": {\"outlinewidth\": 0, \"ticks\": \"\"}}, \"type\": \"scattermapbox\"}], \"scatterpolar\": [{\"marker\": {\"colorbar\": {\"outlinewidth\": 0, \"ticks\": \"\"}}, \"type\": \"scatterpolar\"}], \"scatterpolargl\": [{\"marker\": {\"colorbar\": {\"outlinewidth\": 0, \"ticks\": \"\"}}, \"type\": \"scatterpolargl\"}], \"scatterternary\": [{\"marker\": {\"colorbar\": {\"outlinewidth\": 0, \"ticks\": \"\"}}, \"type\": \"scatterternary\"}], \"surface\": [{\"colorbar\": {\"outlinewidth\": 0, \"ticks\": \"\"}, \"colorscale\": [[0.0, \"#0d0887\"], [0.1111111111111111, \"#46039f\"], [0.2222222222222222, \"#7201a8\"], [0.3333333333333333, \"#9c179e\"], [0.4444444444444444, \"#bd3786\"], [0.5555555555555556, \"#d8576b\"], [0.6666666666666666, \"#ed7953\"], [0.7777777777777778, \"#fb9f3a\"], [0.8888888888888888, \"#fdca26\"], [1.0, \"#f0f921\"]], \"type\": \"surface\"}], \"table\": [{\"cells\": {\"fill\": {\"color\": \"#EBF0F8\"}, \"line\": {\"color\": \"white\"}}, \"header\": {\"fill\": {\"color\": \"#C8D4E3\"}, \"line\": {\"color\": \"white\"}}, \"type\": \"table\"}]}, \"layout\": {\"annotationdefaults\": {\"arrowcolor\": \"#2a3f5f\", \"arrowhead\": 0, \"arrowwidth\": 1}, \"coloraxis\": {\"colorbar\": {\"outlinewidth\": 0, \"ticks\": \"\"}}, \"colorscale\": {\"diverging\": [[0, \"#8e0152\"], [0.1, \"#c51b7d\"], [0.2, \"#de77ae\"], [0.3, \"#f1b6da\"], [0.4, \"#fde0ef\"], [0.5, \"#f7f7f7\"], [0.6, \"#e6f5d0\"], [0.7, \"#b8e186\"], [0.8, \"#7fbc41\"], [0.9, \"#4d9221\"], [1, \"#276419\"]], \"sequential\": [[0.0, \"#0d0887\"], [0.1111111111111111, \"#46039f\"], [0.2222222222222222, \"#7201a8\"], [0.3333333333333333, \"#9c179e\"], [0.4444444444444444, \"#bd3786\"], [0.5555555555555556, \"#d8576b\"], [0.6666666666666666, \"#ed7953\"], [0.7777777777777778, \"#fb9f3a\"], [0.8888888888888888, \"#fdca26\"], [1.0, \"#f0f921\"]], \"sequentialminus\": [[0.0, \"#0d0887\"], [0.1111111111111111, \"#46039f\"], [0.2222222222222222, \"#7201a8\"], [0.3333333333333333, \"#9c179e\"], [0.4444444444444444, \"#bd3786\"], [0.5555555555555556, \"#d8576b\"], [0.6666666666666666, \"#ed7953\"], [0.7777777777777778, \"#fb9f3a\"], [0.8888888888888888, \"#fdca26\"], [1.0, \"#f0f921\"]]}, \"colorway\": [\"#636efa\", \"#EF553B\", \"#00cc96\", \"#ab63fa\", \"#FFA15A\", \"#19d3f3\", \"#FF6692\", \"#B6E880\", \"#FF97FF\", \"#FECB52\"], \"font\": {\"color\": \"#2a3f5f\"}, \"geo\": {\"bgcolor\": \"white\", \"lakecolor\": \"white\", \"landcolor\": \"#E5ECF6\", \"showlakes\": true, \"showland\": true, \"subunitcolor\": \"white\"}, \"hoverlabel\": {\"align\": \"left\"}, \"hovermode\": \"closest\", \"mapbox\": {\"style\": \"light\"}, \"paper_bgcolor\": \"white\", \"plot_bgcolor\": \"#E5ECF6\", \"polar\": {\"angularaxis\": {\"gridcolor\": \"white\", \"linecolor\": \"white\", \"ticks\": \"\"}, \"bgcolor\": \"#E5ECF6\", \"radialaxis\": {\"gridcolor\": \"white\", \"linecolor\": \"white\", \"ticks\": \"\"}}, \"scene\": {\"xaxis\": {\"backgroundcolor\": \"#E5ECF6\", \"gridcolor\": \"white\", \"gridwidth\": 2, \"linecolor\": \"white\", \"showbackground\": true, \"ticks\": \"\", \"zerolinecolor\": \"white\"}, \"yaxis\": {\"backgroundcolor\": \"#E5ECF6\", \"gridcolor\": \"white\", \"gridwidth\": 2, \"linecolor\": \"white\", \"showbackground\": true, \"ticks\": \"\", \"zerolinecolor\": \"white\"}, \"zaxis\": {\"backgroundcolor\": \"#E5ECF6\", \"gridcolor\": \"white\", \"gridwidth\": 2, \"linecolor\": \"white\", \"showbackground\": true, \"ticks\": \"\", \"zerolinecolor\": \"white\"}}, \"shapedefaults\": {\"line\": {\"color\": \"#2a3f5f\"}}, \"ternary\": {\"aaxis\": {\"gridcolor\": \"white\", \"linecolor\": \"white\", \"ticks\": \"\"}, \"baxis\": {\"gridcolor\": \"white\", \"linecolor\": \"white\", \"ticks\": \"\"}, \"bgcolor\": \"#E5ECF6\", \"caxis\": {\"gridcolor\": \"white\", \"linecolor\": \"white\", \"ticks\": \"\"}}, \"title\": {\"x\": 0.05}, \"xaxis\": {\"automargin\": true, \"gridcolor\": \"white\", \"linecolor\": \"white\", \"ticks\": \"\", \"title\": {\"standoff\": 15}, \"zerolinecolor\": \"white\", \"zerolinewidth\": 2}, \"yaxis\": {\"automargin\": true, \"gridcolor\": \"white\", \"linecolor\": \"white\", \"ticks\": \"\", \"title\": {\"standoff\": 15}, \"zerolinecolor\": \"white\", \"zerolinewidth\": 2}}}, \"xaxis\": {\"anchor\": \"y\", \"domain\": [0.0, 1.0], \"title\": {\"text\": \"x\"}}, \"yaxis\": {\"anchor\": \"x\", \"domain\": [0.0, 1.0], \"title\": {\"text\": \"y\"}}},\n",
              "                        {\"responsive\": true}\n",
              "                    ).then(function(){\n",
              "                            \n",
              "var gd = document.getElementById('f00dc10c-4ea4-4a8b-a755-fce43a807760');\n",
              "var x = new MutationObserver(function (mutations, observer) {{\n",
              "        var display = window.getComputedStyle(gd).display;\n",
              "        if (!display || display === 'none') {{\n",
              "            console.log([gd, 'removed!']);\n",
              "            Plotly.purge(gd);\n",
              "            observer.disconnect();\n",
              "        }}\n",
              "}});\n",
              "\n",
              "// Listen for the removal of the full notebook cells\n",
              "var notebookContainer = gd.closest('#notebook-container');\n",
              "if (notebookContainer) {{\n",
              "    x.observe(notebookContainer, {childList: true});\n",
              "}}\n",
              "\n",
              "// Listen for the clearing of the current output cell\n",
              "var outputEl = gd.closest('.output');\n",
              "if (outputEl) {{\n",
              "    x.observe(outputEl, {childList: true});\n",
              "}}\n",
              "\n",
              "                        })\n",
              "                };\n",
              "                \n",
              "            </script>\n",
              "        </div>\n",
              "</body>\n",
              "</html>"
            ]
          },
          "metadata": {
            "tags": []
          }
        }
      ]
    },
    {
      "cell_type": "markdown",
      "metadata": {
        "id": "N9MPLEDWGemw"
      },
      "source": [
        "Let's check how often the word 'disaster' come in the 'text' feature in the dataset and whether this help us in determining whether a tweet belongs to a disaster' category or not."
      ]
    },
    {
      "cell_type": "code",
      "metadata": {
        "id": "0KKV6GsVGemx",
        "outputId": "81688139-dc19-41cc-81d6-c80e1460068a",
        "colab": {
          "base_uri": "https://localhost:8080/",
          "height": 68
        }
      },
      "source": [
        "train_df.loc[train_df['text'].str.contains('disaster', na=False, case=False)].target.value_counts()"
      ],
      "execution_count": 143,
      "outputs": [
        {
          "output_type": "execute_result",
          "data": {
            "text/plain": [
              "1    102\n",
              "0     40\n",
              "Name: target, dtype: int64"
            ]
          },
          "metadata": {
            "tags": []
          },
          "execution_count": 143
        }
      ]
    },
    {
      "cell_type": "markdown",
      "metadata": {
        "id": "M0U5lGTDGemz"
      },
      "source": [
        "It seems even though word disaster is part of the tweets but that doesn't mean tweet announces a real disaster."
      ]
    },
    {
      "cell_type": "code",
      "metadata": {
        "id": "M0z6-bPvGem0",
        "outputId": "bba6dfda-7daf-441e-ff53-ad100a42f613",
        "colab": {
          "base_uri": "https://localhost:8080/",
          "height": 644
        }
      },
      "source": [
        "#Lets use feature_viz function to create charts for 'location' column\n",
        "feature_viz(train_df,'location')"
      ],
      "execution_count": 144,
      "outputs": [
        {
          "output_type": "stream",
          "text": [
            "USA              104\n",
            "New York          71\n",
            "United States     50\n",
            "London            45\n",
            "Canada            29\n",
            "Name: location, dtype: int64\n"
          ],
          "name": "stdout"
        },
        {
          "output_type": "display_data",
          "data": {
            "text/html": [
              "<html>\n",
              "<head><meta charset=\"utf-8\" /></head>\n",
              "<body>\n",
              "    <div>\n",
              "            <script src=\"https://cdnjs.cloudflare.com/ajax/libs/mathjax/2.7.5/MathJax.js?config=TeX-AMS-MML_SVG\"></script><script type=\"text/javascript\">if (window.MathJax) {MathJax.Hub.Config({SVG: {font: \"STIX-Web\"}});}</script>\n",
              "                <script type=\"text/javascript\">window.PlotlyConfig = {MathJaxConfig: 'local'};</script>\n",
              "        <script src=\"https://cdn.plot.ly/plotly-latest.min.js\"></script>    \n",
              "            <div id=\"b54cb36f-1851-495b-b9ba-016dec55d405\" class=\"plotly-graph-div\" style=\"height:525px; width:100%;\"></div>\n",
              "            <script type=\"text/javascript\">\n",
              "                \n",
              "                    window.PLOTLYENV=window.PLOTLYENV || {};\n",
              "                    \n",
              "                if (document.getElementById(\"b54cb36f-1851-495b-b9ba-016dec55d405\")) {\n",
              "                    Plotly.newPlot(\n",
              "                        'b54cb36f-1851-495b-b9ba-016dec55d405',\n",
              "                        [{\"hoverlabel\": {\"namelength\": 0}, \"hovertemplate\": \"x=%{x}<br>y=%{y}<br>size=%{marker.size}\", \"legendgroup\": \"\", \"marker\": {\"color\": \"#636efa\", \"size\": [104, 71, 50, 45, 29, 28, 27, 26, 24, 22, 21, 20, 19, 18, 18, 17, 15, 15, 15, 14, 14, 14, 13, 13, 13, 12, 12, 12, 11, 11, 11, 11, 10, 10, 10, 10, 10, 10, 10, 9, 9, 9, 9, 9, 9, 9, 9, 8, 8, 8, 7, 7, 7, 7, 7, 7, 7, 7, 6, 6, 6, 6, 6, 6, 6, 6, 6, 6, 6, 6, 6, 6, 6, 6, 6, 6, 5, 5, 5, 5, 5, 5, 5, 5, 5, 5, 5, 5, 5, 5, 5, 5, 5, 5, 5, 5, 5, 5, 5, 5, 5, 5, 5, 5, 5, 5, 5, 4, 4, 4, 4, 4, 4, 4, 4, 4, 4, 4, 4, 4, 4, 4, 4, 4, 4, 4, 4, 4, 4, 4, 4, 4, 4, 4, 4, 4, 4, 4, 4, 4, 4, 4, 4, 4, 4, 4, 4, 4, 4, 4, 4, 4, 4, 4, 4, 4, 4, 3, 3, 3, 3, 3, 3, 3, 3, 3, 3, 3, 3, 3, 3, 3, 3, 3, 3, 3, 3, 3, 3, 3, 3, 3, 3, 3, 3, 3, 3, 3, 3, 3, 3, 3, 3, 3, 3, 3, 3, 3, 3, 3, 3, 3, 3, 3, 3, 3, 3, 3, 3, 3, 3, 3, 3, 3, 3, 3, 3, 3, 3, 3, 3, 3, 3, 3, 3, 3, 3, 3, 3, 3, 3, 3, 3, 3, 3, 3, 3, 3, 3, 3, 3, 3, 3, 3, 3, 3, 3, 3, 3, 3, 3, 3, 3, 3, 3, 3, 3, 2, 2, 2, 2, 2, 2, 2, 2, 2, 2, 2, 2, 2, 2, 2, 2, 2, 2, 2, 2, 2, 2, 2, 2, 2, 2, 2, 2, 2, 2, 2, 2, 2, 2, 2, 2, 2, 2, 2, 2, 2, 2, 2, 2, 2, 2, 2, 2, 2, 2, 2, 2, 2, 2, 2, 2, 2, 2, 2, 2, 2, 2, 2, 2, 2, 2, 2, 2, 2, 2, 2, 2, 2, 2, 2, 2, 2, 2, 2, 2, 2, 2, 2, 2, 2, 2, 2, 2, 2, 2, 2, 2, 2, 2, 2, 2, 2, 2, 2, 2, 2, 2, 2, 2, 2, 2, 2, 2, 2, 2, 2, 2, 2, 2, 2, 2, 2, 2, 2, 2, 2, 2, 2, 2, 2, 2, 2, 2, 2, 2, 2, 2, 2, 2, 2, 2, 2, 2, 2, 2, 2, 2, 2, 2, 2, 2, 2, 2, 2, 2, 2, 2, 2, 2, 2, 2, 2, 2, 2, 2, 2, 2, 2, 2, 2, 2, 2, 2, 2, 2, 2, 2, 2, 2, 2, 2, 2, 2, 2, 2, 2, 2, 2, 2, 2, 2, 2, 2, 2, 2, 2, 2, 2, 2, 2, 2, 2, 2, 2, 2, 2, 2, 2, 2, 2, 2, 2, 2, 2, 2, 2, 2, 2, 2, 2, 2, 2, 2, 2, 2, 2, 2, 2, 2, 2, 2, 2, 2, 2, 2, 2, 2, 2, 2, 2, 2, 2, 2, 2, 2, 2, 2, 2, 2, 2, 2, 2, 2, 2, 2, 2, 2, 2, 2, 2, 2, 2, 2, 2, 2, 2, 2, 2, 2, 2, 2, 1, 1, 1, 1, 1, 1, 1, 1, 1, 1, 1, 1, 1, 1, 1, 1, 1, 1, 1, 1, 1, 1, 1, 1, 1, 1, 1, 1, 1, 1, 1, 1, 1, 1, 1, 1, 1, 1, 1, 1, 1, 1, 1, 1, 1, 1, 1, 1, 1, 1, 1, 1, 1, 1, 1, 1, 1, 1, 1, 1, 1, 1, 1, 1, 1, 1, 1, 1, 1, 1, 1, 1, 1, 1, 1, 1, 1, 1, 1, 1, 1, 1, 1, 1, 1, 1, 1, 1, 1, 1, 1, 1, 1, 1, 1, 1, 1, 1, 1, 1, 1, 1, 1, 1, 1, 1, 1, 1, 1, 1, 1, 1, 1, 1, 1, 1, 1, 1, 1, 1, 1, 1, 1, 1, 1, 1, 1, 1, 1, 1, 1, 1, 1, 1, 1, 1, 1, 1, 1, 1, 1, 1, 1, 1, 1, 1, 1, 1, 1, 1, 1, 1, 1, 1, 1, 1, 1, 1, 1, 1, 1, 1, 1, 1, 1, 1, 1, 1, 1, 1, 1, 1, 1, 1, 1, 1, 1, 1, 1, 1, 1, 1, 1, 1, 1, 1, 1, 1, 1, 1, 1, 1, 1, 1, 1, 1, 1, 1, 1, 1, 1, 1, 1, 1, 1, 1, 1, 1, 1, 1, 1, 1, 1, 1, 1, 1, 1, 1, 1, 1, 1, 1, 1, 1, 1, 1, 1, 1, 1, 1, 1, 1, 1, 1, 1, 1, 1, 1, 1, 1, 1, 1, 1, 1, 1, 1, 1, 1, 1, 1, 1, 1, 1, 1, 1, 1, 1, 1, 1, 1, 1, 1, 1, 1, 1, 1, 1, 1, 1, 1, 1, 1, 1, 1, 1, 1, 1, 1, 1, 1, 1, 1, 1, 1, 1, 1, 1, 1, 1, 1, 1, 1, 1, 1, 1, 1, 1, 1, 1, 1, 1, 1, 1, 1, 1, 1, 1, 1, 1, 1, 1, 1, 1, 1, 1, 1, 1, 1, 1, 1, 1, 1, 1, 1, 1, 1, 1, 1, 1, 1, 1, 1, 1, 1, 1, 1, 1, 1, 1, 1, 1, 1, 1, 1, 1, 1, 1, 1, 1, 1, 1, 1, 1, 1, 1, 1, 1, 1, 1, 1, 1, 1, 1, 1, 1, 1, 1, 1, 1, 1, 1, 1, 1, 1, 1, 1, 1, 1, 1, 1, 1, 1, 1, 1, 1, 1, 1, 1, 1, 1, 1, 1, 1, 1, 1, 1, 1, 1, 1, 1, 1, 1, 1, 1, 1, 1, 1, 1, 1, 1, 1, 1, 1, 1, 1, 1, 1, 1, 1, 1, 1, 1, 1, 1, 1, 1, 1, 1, 1, 1, 1, 1, 1, 1, 1, 1, 1, 1, 1, 1, 1, 1, 1, 1, 1, 1, 1, 1, 1, 1, 1, 1, 1, 1, 1, 1, 1, 1, 1, 1, 1, 1, 1, 1, 1, 1, 1, 1, 1, 1, 1, 1, 1, 1, 1, 1, 1, 1, 1, 1, 1, 1, 1, 1, 1, 1, 1, 1, 1, 1, 1, 1, 1, 1, 1, 1, 1, 1, 1, 1, 1, 1, 1, 1, 1, 1, 1, 1, 1, 1, 1, 1, 1, 1, 1, 1, 1, 1, 1, 1, 1, 1, 1, 1, 1, 1, 1, 1, 1, 1, 1, 1, 1, 1, 1, 1, 1, 1, 1, 1, 1, 1, 1, 1, 1, 1, 1, 1, 1, 1, 1, 1, 1, 1, 1, 1, 1, 1, 1, 1, 1, 1, 1, 1, 1, 1, 1, 1, 1, 1, 1, 1, 1, 1, 1, 1, 1, 1, 1, 1, 1, 1, 1, 1, 1, 1, 1, 1, 1, 1, 1, 1, 1, 1, 1, 1, 1, 1, 1, 1, 1, 1, 1, 1, 1, 1, 1, 1, 1, 1, 1, 1, 1, 1, 1, 1, 1, 1, 1, 1, 1, 1, 1, 1, 1, 1, 1, 1, 1, 1, 1, 1, 1, 1, 1, 1, 1, 1, 1, 1, 1, 1, 1, 1, 1, 1, 1, 1, 1, 1, 1, 1, 1, 1, 1, 1, 1, 1, 1, 1, 1, 1, 1, 1, 1, 1, 1, 1, 1, 1, 1, 1, 1, 1, 1, 1, 1, 1, 1, 1, 1, 1, 1, 1, 1, 1, 1, 1, 1, 1, 1, 1, 1, 1, 1, 1, 1, 1, 1, 1, 1, 1, 1, 1, 1, 1, 1, 1, 1, 1, 1, 1, 1, 1, 1, 1, 1, 1, 1, 1, 1, 1, 1, 1, 1, 1, 1, 1, 1, 1, 1, 1, 1, 1, 1, 1, 1, 1, 1, 1, 1, 1, 1, 1, 1, 1, 1, 1, 1, 1, 1, 1, 1, 1, 1, 1, 1, 1, 1, 1, 1, 1, 1, 1, 1, 1, 1, 1, 1, 1, 1, 1, 1, 1, 1, 1, 1, 1, 1, 1, 1, 1, 1, 1, 1, 1, 1, 1, 1, 1, 1, 1, 1, 1, 1, 1, 1, 1, 1, 1, 1, 1, 1, 1, 1, 1, 1, 1, 1, 1, 1, 1, 1, 1, 1, 1, 1, 1, 1, 1, 1, 1, 1, 1, 1, 1, 1, 1, 1, 1, 1, 1, 1, 1, 1, 1, 1, 1, 1, 1, 1, 1, 1, 1, 1, 1, 1, 1, 1, 1, 1, 1, 1, 1, 1, 1, 1, 1, 1, 1, 1, 1, 1, 1, 1, 1, 1, 1, 1, 1, 1, 1, 1, 1, 1, 1, 1, 1, 1, 1, 1, 1, 1, 1, 1, 1, 1, 1, 1, 1, 1, 1, 1, 1, 1, 1, 1, 1, 1, 1, 1, 1, 1, 1, 1, 1, 1, 1, 1, 1, 1, 1, 1, 1, 1, 1, 1, 1, 1, 1, 1, 1, 1, 1, 1, 1, 1, 1, 1, 1, 1, 1, 1, 1, 1, 1, 1, 1, 1, 1, 1, 1, 1, 1, 1, 1, 1, 1, 1, 1, 1, 1, 1, 1, 1, 1, 1, 1, 1, 1, 1, 1, 1, 1, 1, 1, 1, 1, 1, 1, 1, 1, 1, 1, 1, 1, 1, 1, 1, 1, 1, 1, 1, 1, 1, 1, 1, 1, 1, 1, 1, 1, 1, 1, 1, 1, 1, 1, 1, 1, 1, 1, 1, 1, 1, 1, 1, 1, 1, 1, 1, 1, 1, 1, 1, 1, 1, 1, 1, 1, 1, 1, 1, 1, 1, 1, 1, 1, 1, 1, 1, 1, 1, 1, 1, 1, 1, 1, 1, 1, 1, 1, 1, 1, 1, 1, 1, 1, 1, 1, 1, 1, 1, 1, 1, 1, 1, 1, 1, 1, 1, 1, 1, 1, 1, 1, 1, 1, 1, 1, 1, 1, 1, 1, 1, 1, 1, 1, 1, 1, 1, 1, 1, 1, 1, 1, 1, 1, 1, 1, 1, 1, 1, 1, 1, 1, 1, 1, 1, 1, 1, 1, 1, 1, 1, 1, 1, 1, 1, 1, 1, 1, 1, 1, 1, 1, 1, 1, 1, 1, 1, 1, 1, 1, 1, 1, 1, 1, 1, 1, 1, 1, 1, 1, 1, 1, 1, 1, 1, 1, 1, 1, 1, 1, 1, 1, 1, 1, 1, 1, 1, 1, 1, 1, 1, 1, 1, 1, 1, 1, 1, 1, 1, 1, 1, 1, 1, 1, 1, 1, 1, 1, 1, 1, 1, 1, 1, 1, 1, 1, 1, 1, 1, 1, 1, 1, 1, 1, 1, 1, 1, 1, 1, 1, 1, 1, 1, 1, 1, 1, 1, 1, 1, 1, 1, 1, 1, 1, 1, 1, 1, 1, 1, 1, 1, 1, 1, 1, 1, 1, 1, 1, 1, 1, 1, 1, 1, 1, 1, 1, 1, 1, 1, 1, 1, 1, 1, 1, 1, 1, 1, 1, 1, 1, 1, 1, 1, 1, 1, 1, 1, 1, 1, 1, 1, 1, 1, 1, 1, 1, 1, 1, 1, 1, 1, 1, 1, 1, 1, 1, 1, 1, 1, 1, 1, 1, 1, 1, 1, 1, 1, 1, 1, 1, 1, 1, 1, 1, 1, 1, 1, 1, 1, 1, 1, 1, 1, 1, 1, 1, 1, 1, 1, 1, 1, 1, 1, 1, 1, 1, 1, 1, 1, 1, 1, 1, 1, 1, 1, 1, 1, 1, 1, 1, 1, 1, 1, 1, 1, 1, 1, 1, 1, 1, 1, 1, 1, 1, 1, 1, 1, 1, 1, 1, 1, 1, 1, 1, 1, 1, 1, 1, 1, 1, 1, 1, 1, 1, 1, 1, 1, 1, 1, 1, 1, 1, 1, 1, 1, 1, 1, 1, 1, 1, 1, 1, 1, 1, 1, 1, 1, 1, 1, 1, 1, 1, 1, 1, 1, 1, 1, 1, 1, 1, 1, 1, 1, 1, 1, 1, 1, 1, 1, 1, 1, 1, 1, 1, 1, 1, 1, 1, 1, 1, 1, 1, 1, 1, 1, 1, 1, 1, 1, 1, 1, 1, 1, 1, 1, 1, 1, 1, 1, 1, 1, 1, 1, 1, 1, 1, 1, 1, 1, 1, 1, 1, 1, 1, 1, 1, 1, 1, 1, 1, 1, 1, 1, 1, 1, 1, 1, 1, 1, 1, 1, 1, 1, 1, 1, 1, 1, 1, 1, 1, 1, 1, 1, 1, 1, 1, 1, 1, 1, 1, 1, 1, 1, 1, 1, 1, 1, 1, 1, 1, 1, 1, 1, 1, 1, 1, 1, 1, 1, 1, 1, 1, 1, 1, 1, 1, 1, 1, 1, 1, 1, 1, 1, 1, 1, 1, 1, 1, 1, 1, 1, 1, 1, 1, 1, 1, 1, 1, 1, 1, 1, 1, 1, 1, 1, 1, 1, 1, 1, 1, 1, 1, 1, 1, 1, 1, 1, 1, 1, 1, 1, 1, 1, 1, 1, 1, 1, 1, 1, 1, 1, 1, 1, 1, 1, 1, 1, 1, 1, 1, 1, 1, 1, 1, 1, 1, 1, 1, 1, 1, 1, 1, 1, 1, 1, 1, 1, 1, 1, 1, 1, 1, 1, 1, 1, 1, 1, 1, 1, 1, 1, 1, 1, 1, 1, 1, 1, 1, 1, 1, 1, 1, 1, 1, 1, 1, 1, 1, 1, 1, 1, 1, 1, 1, 1, 1, 1, 1, 1, 1, 1, 1, 1, 1, 1, 1, 1, 1, 1, 1, 1, 1, 1, 1, 1, 1, 1, 1, 1, 1, 1, 1, 1, 1, 1, 1, 1, 1, 1, 1, 1, 1, 1, 1, 1, 1, 1, 1, 1, 1, 1, 1, 1, 1, 1, 1, 1, 1, 1, 1, 1, 1, 1, 1, 1, 1, 1, 1, 1, 1, 1, 1, 1, 1, 1, 1, 1, 1, 1, 1, 1, 1, 1, 1, 1, 1, 1, 1, 1, 1, 1, 1, 1, 1, 1, 1, 1, 1, 1, 1, 1, 1, 1, 1, 1, 1, 1, 1, 1, 1, 1, 1, 1, 1, 1, 1, 1, 1, 1, 1, 1, 1, 1, 1, 1, 1, 1, 1, 1, 1, 1, 1, 1, 1, 1, 1, 1, 1, 1, 1, 1, 1, 1, 1, 1, 1, 1, 1, 1, 1, 1, 1, 1, 1, 1, 1, 1, 1, 1, 1, 1, 1, 1, 1, 1, 1, 1, 1, 1, 1, 1, 1, 1, 1, 1, 1, 1, 1, 1, 1, 1, 1, 1, 1, 1, 1, 1, 1, 1, 1, 1, 1, 1, 1, 1, 1, 1, 1, 1, 1, 1, 1, 1, 1, 1, 1, 1, 1, 1, 1, 1, 1, 1, 1, 1, 1, 1, 1, 1, 1, 1, 1, 1, 1, 1, 1, 1, 1, 1, 1, 1, 1, 1, 1, 1, 1, 1, 1, 1, 1, 1, 1, 1, 1, 1, 1, 1, 1, 1, 1, 1, 1, 1, 1, 1, 1, 1, 1, 1, 1, 1, 1, 1, 1, 1, 1, 1, 1, 1, 1, 1, 1, 1, 1, 1, 1, 1, 1, 1, 1, 1, 1, 1, 1, 1, 1, 1, 1, 1, 1, 1, 1, 1, 1, 1, 1, 1, 1, 1, 1, 1, 1, 1, 1, 1, 1, 1, 1, 1, 1, 1, 1, 1, 1, 1, 1, 1, 1, 1, 1, 1, 1, 1, 1, 1, 1, 1, 1, 1, 1, 1, 1, 1, 1, 1, 1, 1, 1, 1, 1, 1, 1, 1, 1, 1, 1, 1, 1, 1, 1, 1, 1, 1, 1, 1, 1, 1, 1, 1, 1, 1, 1, 1, 1, 1, 1, 1, 1, 1, 1, 1, 1, 1, 1, 1, 1, 1, 1, 1, 1, 1, 1, 1, 1, 1, 1, 1, 1, 1, 1, 1, 1, 1, 1, 1, 1, 1, 1, 1, 1, 1, 1, 1, 1, 1, 1, 1, 1, 1, 1, 1, 1, 1, 1, 1, 1, 1, 1, 1, 1, 1, 1, 1, 1, 1, 1, 1, 1, 1, 1, 1, 1, 1, 1, 1, 1, 1, 1, 1, 1, 1, 1, 1, 1, 1, 1, 1, 1, 1, 1, 1, 1, 1, 1, 1, 1, 1, 1, 1, 1, 1, 1, 1, 1, 1, 1, 1, 1, 1, 1, 1, 1, 1, 1, 1, 1, 1, 1, 1, 1, 1, 1, 1, 1, 1, 1, 1, 1, 1, 1, 1, 1, 1, 1, 1, 1, 1, 1, 1, 1, 1, 1, 1, 1, 1, 1, 1, 1, 1, 1, 1, 1, 1, 1, 1, 1, 1, 1, 1, 1, 1, 1, 1, 1, 1, 1, 1, 1, 1, 1, 1, 1, 1, 1, 1, 1, 1, 1, 1, 1, 1, 1, 1, 1, 1, 1, 1, 1, 1, 1, 1, 1, 1, 1, 1, 1, 1, 1, 1, 1, 1, 1, 1, 1, 1, 1, 1, 1, 1, 1, 1, 1, 1, 1, 1, 1, 1, 1, 1, 1, 1, 1, 1, 1, 1, 1, 1, 1, 1, 1, 1, 1, 1, 1, 1, 1, 1, 1, 1, 1, 1, 1, 1, 1, 1, 1, 1, 1, 1, 1, 1, 1, 1, 1, 1, 1, 1, 1, 1, 1, 1, 1, 1, 1, 1, 1, 1, 1, 1, 1, 1, 1, 1, 1, 1, 1, 1, 1, 1, 1, 1, 1, 1, 1, 1, 1, 1, 1, 1, 1, 1, 1, 1, 1, 1, 1, 1, 1, 1, 1, 1, 1, 1, 1, 1, 1, 1, 1, 1, 1, 1, 1, 1, 1, 1, 1, 1, 1, 1, 1, 1, 1, 1, 1, 1, 1, 1, 1, 1, 1, 1, 1, 1, 1, 1, 1, 1, 1, 1, 1, 1, 1, 1, 1, 1, 1, 1, 1, 1, 1, 1, 1, 1, 1, 1, 1, 1, 1, 1, 1, 1, 1, 1, 1, 1, 1, 1, 1, 1, 1, 1, 1, 1, 1, 1, 1, 1, 1, 1, 1, 1, 1, 1, 1, 1, 1, 1, 1, 1, 1, 1, 1, 1, 1, 1, 1, 1, 1, 1, 1, 1, 1, 1, 1, 1, 1, 1, 1, 1, 1, 1, 1, 1, 1, 1, 1, 1, 1, 1, 1, 1, 1, 1, 1, 1, 1, 1, 1, 1, 1, 1, 1, 1, 1, 1, 1, 1, 1, 1, 1, 1, 1, 1, 1, 1, 1, 1, 1, 1, 1, 1, 1, 1, 1, 1, 1, 1, 1, 1, 1, 1, 1, 1, 1, 1, 1, 1, 1, 1, 1, 1, 1, 1, 1, 1, 1, 1, 1, 1, 1, 1, 1, 1, 1, 1, 1, 1, 1, 1, 1, 1, 1, 1, 1, 1, 1, 1, 1, 1, 1, 1, 1, 1, 1, 1, 1, 1, 1, 1, 1, 1, 1, 1, 1, 1, 1, 1, 1, 1, 1, 1, 1, 1, 1, 1, 1, 1, 1, 1, 1, 1, 1, 1, 1, 1, 1, 1, 1, 1, 1, 1, 1, 1, 1, 1, 1, 1, 1, 1, 1, 1, 1, 1, 1, 1, 1, 1, 1, 1, 1, 1, 1, 1, 1, 1, 1, 1, 1, 1, 1, 1, 1, 1, 1, 1, 1, 1, 1, 1, 1, 1, 1, 1, 1, 1, 1, 1, 1, 1, 1, 1, 1, 1, 1, 1, 1, 1, 1, 1, 1, 1, 1, 1, 1, 1, 1, 1, 1, 1, 1, 1, 1, 1, 1, 1, 1, 1, 1, 1, 1, 1, 1, 1, 1, 1, 1, 1, 1, 1, 1, 1, 1, 1, 1, 1, 1, 1, 1, 1, 1, 1, 1, 1, 1, 1, 1, 1, 1, 1, 1, 1, 1, 1, 1, 1, 1, 1, 1, 1, 1, 1, 1, 1, 1, 1, 1, 1, 1, 1, 1, 1, 1, 1, 1, 1, 1, 1, 1, 1, 1, 1, 1, 1, 1, 1, 1, 1, 1, 1, 1, 1, 1, 1, 1, 1, 1, 1, 1, 1, 1, 1, 1, 1, 1, 1, 1, 1, 1, 1, 1, 1, 1, 1, 1, 1, 1, 1, 1, 1, 1, 1, 1, 1, 1, 1, 1, 1, 1, 1, 1, 1, 1, 1, 1, 1, 1, 1, 1, 1, 1, 1, 1, 1, 1, 1, 1, 1, 1, 1, 1, 1, 1, 1, 1, 1, 1, 1, 1, 1, 1, 1, 1, 1, 1, 1, 1, 1, 1, 1, 1, 1, 1, 1, 1, 1, 1, 1, 1, 1, 1, 1, 1, 1, 1, 1, 1, 1, 1, 1, 1, 1, 1, 1, 1, 1, 1, 1, 1, 1, 1, 1, 1, 1, 1, 1, 1, 1, 1, 1, 1, 1, 1, 1, 1, 1, 1, 1, 1, 1, 1, 1, 1, 1, 1, 1, 1, 1, 1, 1, 1, 1, 1, 1, 1], \"sizemode\": \"area\", \"sizeref\": 0.26, \"symbol\": \"circle\"}, \"mode\": \"markers\", \"name\": \"\", \"showlegend\": false, \"type\": \"scattergl\", \"x\": [104, 71, 50, 45, 29, 28, 27, 26, 24, 22, 21, 20, 19, 18, 18, 17, 15, 15, 15, 14, 14, 14, 13, 13, 13, 12, 12, 12, 11, 11, 11, 11, 10, 10, 10, 10, 10, 10, 10, 9, 9, 9, 9, 9, 9, 9, 9, 8, 8, 8, 7, 7, 7, 7, 7, 7, 7, 7, 6, 6, 6, 6, 6, 6, 6, 6, 6, 6, 6, 6, 6, 6, 6, 6, 6, 6, 5, 5, 5, 5, 5, 5, 5, 5, 5, 5, 5, 5, 5, 5, 5, 5, 5, 5, 5, 5, 5, 5, 5, 5, 5, 5, 5, 5, 5, 5, 5, 4, 4, 4, 4, 4, 4, 4, 4, 4, 4, 4, 4, 4, 4, 4, 4, 4, 4, 4, 4, 4, 4, 4, 4, 4, 4, 4, 4, 4, 4, 4, 4, 4, 4, 4, 4, 4, 4, 4, 4, 4, 4, 4, 4, 4, 4, 4, 4, 4, 4, 3, 3, 3, 3, 3, 3, 3, 3, 3, 3, 3, 3, 3, 3, 3, 3, 3, 3, 3, 3, 3, 3, 3, 3, 3, 3, 3, 3, 3, 3, 3, 3, 3, 3, 3, 3, 3, 3, 3, 3, 3, 3, 3, 3, 3, 3, 3, 3, 3, 3, 3, 3, 3, 3, 3, 3, 3, 3, 3, 3, 3, 3, 3, 3, 3, 3, 3, 3, 3, 3, 3, 3, 3, 3, 3, 3, 3, 3, 3, 3, 3, 3, 3, 3, 3, 3, 3, 3, 3, 3, 3, 3, 3, 3, 3, 3, 3, 3, 3, 3, 2, 2, 2, 2, 2, 2, 2, 2, 2, 2, 2, 2, 2, 2, 2, 2, 2, 2, 2, 2, 2, 2, 2, 2, 2, 2, 2, 2, 2, 2, 2, 2, 2, 2, 2, 2, 2, 2, 2, 2, 2, 2, 2, 2, 2, 2, 2, 2, 2, 2, 2, 2, 2, 2, 2, 2, 2, 2, 2, 2, 2, 2, 2, 2, 2, 2, 2, 2, 2, 2, 2, 2, 2, 2, 2, 2, 2, 2, 2, 2, 2, 2, 2, 2, 2, 2, 2, 2, 2, 2, 2, 2, 2, 2, 2, 2, 2, 2, 2, 2, 2, 2, 2, 2, 2, 2, 2, 2, 2, 2, 2, 2, 2, 2, 2, 2, 2, 2, 2, 2, 2, 2, 2, 2, 2, 2, 2, 2, 2, 2, 2, 2, 2, 2, 2, 2, 2, 2, 2, 2, 2, 2, 2, 2, 2, 2, 2, 2, 2, 2, 2, 2, 2, 2, 2, 2, 2, 2, 2, 2, 2, 2, 2, 2, 2, 2, 2, 2, 2, 2, 2, 2, 2, 2, 2, 2, 2, 2, 2, 2, 2, 2, 2, 2, 2, 2, 2, 2, 2, 2, 2, 2, 2, 2, 2, 2, 2, 2, 2, 2, 2, 2, 2, 2, 2, 2, 2, 2, 2, 2, 2, 2, 2, 2, 2, 2, 2, 2, 2, 2, 2, 2, 2, 2, 2, 2, 2, 2, 2, 2, 2, 2, 2, 2, 2, 2, 2, 2, 2, 2, 2, 2, 2, 2, 2, 2, 2, 2, 2, 2, 2, 2, 2, 2, 2, 2, 2, 2, 2, 2, 2, 2, 2, 2, 2, 2, 1, 1, 1, 1, 1, 1, 1, 1, 1, 1, 1, 1, 1, 1, 1, 1, 1, 1, 1, 1, 1, 1, 1, 1, 1, 1, 1, 1, 1, 1, 1, 1, 1, 1, 1, 1, 1, 1, 1, 1, 1, 1, 1, 1, 1, 1, 1, 1, 1, 1, 1, 1, 1, 1, 1, 1, 1, 1, 1, 1, 1, 1, 1, 1, 1, 1, 1, 1, 1, 1, 1, 1, 1, 1, 1, 1, 1, 1, 1, 1, 1, 1, 1, 1, 1, 1, 1, 1, 1, 1, 1, 1, 1, 1, 1, 1, 1, 1, 1, 1, 1, 1, 1, 1, 1, 1, 1, 1, 1, 1, 1, 1, 1, 1, 1, 1, 1, 1, 1, 1, 1, 1, 1, 1, 1, 1, 1, 1, 1, 1, 1, 1, 1, 1, 1, 1, 1, 1, 1, 1, 1, 1, 1, 1, 1, 1, 1, 1, 1, 1, 1, 1, 1, 1, 1, 1, 1, 1, 1, 1, 1, 1, 1, 1, 1, 1, 1, 1, 1, 1, 1, 1, 1, 1, 1, 1, 1, 1, 1, 1, 1, 1, 1, 1, 1, 1, 1, 1, 1, 1, 1, 1, 1, 1, 1, 1, 1, 1, 1, 1, 1, 1, 1, 1, 1, 1, 1, 1, 1, 1, 1, 1, 1, 1, 1, 1, 1, 1, 1, 1, 1, 1, 1, 1, 1, 1, 1, 1, 1, 1, 1, 1, 1, 1, 1, 1, 1, 1, 1, 1, 1, 1, 1, 1, 1, 1, 1, 1, 1, 1, 1, 1, 1, 1, 1, 1, 1, 1, 1, 1, 1, 1, 1, 1, 1, 1, 1, 1, 1, 1, 1, 1, 1, 1, 1, 1, 1, 1, 1, 1, 1, 1, 1, 1, 1, 1, 1, 1, 1, 1, 1, 1, 1, 1, 1, 1, 1, 1, 1, 1, 1, 1, 1, 1, 1, 1, 1, 1, 1, 1, 1, 1, 1, 1, 1, 1, 1, 1, 1, 1, 1, 1, 1, 1, 1, 1, 1, 1, 1, 1, 1, 1, 1, 1, 1, 1, 1, 1, 1, 1, 1, 1, 1, 1, 1, 1, 1, 1, 1, 1, 1, 1, 1, 1, 1, 1, 1, 1, 1, 1, 1, 1, 1, 1, 1, 1, 1, 1, 1, 1, 1, 1, 1, 1, 1, 1, 1, 1, 1, 1, 1, 1, 1, 1, 1, 1, 1, 1, 1, 1, 1, 1, 1, 1, 1, 1, 1, 1, 1, 1, 1, 1, 1, 1, 1, 1, 1, 1, 1, 1, 1, 1, 1, 1, 1, 1, 1, 1, 1, 1, 1, 1, 1, 1, 1, 1, 1, 1, 1, 1, 1, 1, 1, 1, 1, 1, 1, 1, 1, 1, 1, 1, 1, 1, 1, 1, 1, 1, 1, 1, 1, 1, 1, 1, 1, 1, 1, 1, 1, 1, 1, 1, 1, 1, 1, 1, 1, 1, 1, 1, 1, 1, 1, 1, 1, 1, 1, 1, 1, 1, 1, 1, 1, 1, 1, 1, 1, 1, 1, 1, 1, 1, 1, 1, 1, 1, 1, 1, 1, 1, 1, 1, 1, 1, 1, 1, 1, 1, 1, 1, 1, 1, 1, 1, 1, 1, 1, 1, 1, 1, 1, 1, 1, 1, 1, 1, 1, 1, 1, 1, 1, 1, 1, 1, 1, 1, 1, 1, 1, 1, 1, 1, 1, 1, 1, 1, 1, 1, 1, 1, 1, 1, 1, 1, 1, 1, 1, 1, 1, 1, 1, 1, 1, 1, 1, 1, 1, 1, 1, 1, 1, 1, 1, 1, 1, 1, 1, 1, 1, 1, 1, 1, 1, 1, 1, 1, 1, 1, 1, 1, 1, 1, 1, 1, 1, 1, 1, 1, 1, 1, 1, 1, 1, 1, 1, 1, 1, 1, 1, 1, 1, 1, 1, 1, 1, 1, 1, 1, 1, 1, 1, 1, 1, 1, 1, 1, 1, 1, 1, 1, 1, 1, 1, 1, 1, 1, 1, 1, 1, 1, 1, 1, 1, 1, 1, 1, 1, 1, 1, 1, 1, 1, 1, 1, 1, 1, 1, 1, 1, 1, 1, 1, 1, 1, 1, 1, 1, 1, 1, 1, 1, 1, 1, 1, 1, 1, 1, 1, 1, 1, 1, 1, 1, 1, 1, 1, 1, 1, 1, 1, 1, 1, 1, 1, 1, 1, 1, 1, 1, 1, 1, 1, 1, 1, 1, 1, 1, 1, 1, 1, 1, 1, 1, 1, 1, 1, 1, 1, 1, 1, 1, 1, 1, 1, 1, 1, 1, 1, 1, 1, 1, 1, 1, 1, 1, 1, 1, 1, 1, 1, 1, 1, 1, 1, 1, 1, 1, 1, 1, 1, 1, 1, 1, 1, 1, 1, 1, 1, 1, 1, 1, 1, 1, 1, 1, 1, 1, 1, 1, 1, 1, 1, 1, 1, 1, 1, 1, 1, 1, 1, 1, 1, 1, 1, 1, 1, 1, 1, 1, 1, 1, 1, 1, 1, 1, 1, 1, 1, 1, 1, 1, 1, 1, 1, 1, 1, 1, 1, 1, 1, 1, 1, 1, 1, 1, 1, 1, 1, 1, 1, 1, 1, 1, 1, 1, 1, 1, 1, 1, 1, 1, 1, 1, 1, 1, 1, 1, 1, 1, 1, 1, 1, 1, 1, 1, 1, 1, 1, 1, 1, 1, 1, 1, 1, 1, 1, 1, 1, 1, 1, 1, 1, 1, 1, 1, 1, 1, 1, 1, 1, 1, 1, 1, 1, 1, 1, 1, 1, 1, 1, 1, 1, 1, 1, 1, 1, 1, 1, 1, 1, 1, 1, 1, 1, 1, 1, 1, 1, 1, 1, 1, 1, 1, 1, 1, 1, 1, 1, 1, 1, 1, 1, 1, 1, 1, 1, 1, 1, 1, 1, 1, 1, 1, 1, 1, 1, 1, 1, 1, 1, 1, 1, 1, 1, 1, 1, 1, 1, 1, 1, 1, 1, 1, 1, 1, 1, 1, 1, 1, 1, 1, 1, 1, 1, 1, 1, 1, 1, 1, 1, 1, 1, 1, 1, 1, 1, 1, 1, 1, 1, 1, 1, 1, 1, 1, 1, 1, 1, 1, 1, 1, 1, 1, 1, 1, 1, 1, 1, 1, 1, 1, 1, 1, 1, 1, 1, 1, 1, 1, 1, 1, 1, 1, 1, 1, 1, 1, 1, 1, 1, 1, 1, 1, 1, 1, 1, 1, 1, 1, 1, 1, 1, 1, 1, 1, 1, 1, 1, 1, 1, 1, 1, 1, 1, 1, 1, 1, 1, 1, 1, 1, 1, 1, 1, 1, 1, 1, 1, 1, 1, 1, 1, 1, 1, 1, 1, 1, 1, 1, 1, 1, 1, 1, 1, 1, 1, 1, 1, 1, 1, 1, 1, 1, 1, 1, 1, 1, 1, 1, 1, 1, 1, 1, 1, 1, 1, 1, 1, 1, 1, 1, 1, 1, 1, 1, 1, 1, 1, 1, 1, 1, 1, 1, 1, 1, 1, 1, 1, 1, 1, 1, 1, 1, 1, 1, 1, 1, 1, 1, 1, 1, 1, 1, 1, 1, 1, 1, 1, 1, 1, 1, 1, 1, 1, 1, 1, 1, 1, 1, 1, 1, 1, 1, 1, 1, 1, 1, 1, 1, 1, 1, 1, 1, 1, 1, 1, 1, 1, 1, 1, 1, 1, 1, 1, 1, 1, 1, 1, 1, 1, 1, 1, 1, 1, 1, 1, 1, 1, 1, 1, 1, 1, 1, 1, 1, 1, 1, 1, 1, 1, 1, 1, 1, 1, 1, 1, 1, 1, 1, 1, 1, 1, 1, 1, 1, 1, 1, 1, 1, 1, 1, 1, 1, 1, 1, 1, 1, 1, 1, 1, 1, 1, 1, 1, 1, 1, 1, 1, 1, 1, 1, 1, 1, 1, 1, 1, 1, 1, 1, 1, 1, 1, 1, 1, 1, 1, 1, 1, 1, 1, 1, 1, 1, 1, 1, 1, 1, 1, 1, 1, 1, 1, 1, 1, 1, 1, 1, 1, 1, 1, 1, 1, 1, 1, 1, 1, 1, 1, 1, 1, 1, 1, 1, 1, 1, 1, 1, 1, 1, 1, 1, 1, 1, 1, 1, 1, 1, 1, 1, 1, 1, 1, 1, 1, 1, 1, 1, 1, 1, 1, 1, 1, 1, 1, 1, 1, 1, 1, 1, 1, 1, 1, 1, 1, 1, 1, 1, 1, 1, 1, 1, 1, 1, 1, 1, 1, 1, 1, 1, 1, 1, 1, 1, 1, 1, 1, 1, 1, 1, 1, 1, 1, 1, 1, 1, 1, 1, 1, 1, 1, 1, 1, 1, 1, 1, 1, 1, 1, 1, 1, 1, 1, 1, 1, 1, 1, 1, 1, 1, 1, 1, 1, 1, 1, 1, 1, 1, 1, 1, 1, 1, 1, 1, 1, 1, 1, 1, 1, 1, 1, 1, 1, 1, 1, 1, 1, 1, 1, 1, 1, 1, 1, 1, 1, 1, 1, 1, 1, 1, 1, 1, 1, 1, 1, 1, 1, 1, 1, 1, 1, 1, 1, 1, 1, 1, 1, 1, 1, 1, 1, 1, 1, 1, 1, 1, 1, 1, 1, 1, 1, 1, 1, 1, 1, 1, 1, 1, 1, 1, 1, 1, 1, 1, 1, 1, 1, 1, 1, 1, 1, 1, 1, 1, 1, 1, 1, 1, 1, 1, 1, 1, 1, 1, 1, 1, 1, 1, 1, 1, 1, 1, 1, 1, 1, 1, 1, 1, 1, 1, 1, 1, 1, 1, 1, 1, 1, 1, 1, 1, 1, 1, 1, 1, 1, 1, 1, 1, 1, 1, 1, 1, 1, 1, 1, 1, 1, 1, 1, 1, 1, 1, 1, 1, 1, 1, 1, 1, 1, 1, 1, 1, 1, 1, 1, 1, 1, 1, 1, 1, 1, 1, 1, 1, 1, 1, 1, 1, 1, 1, 1, 1, 1, 1, 1, 1, 1, 1, 1, 1, 1, 1, 1, 1, 1, 1, 1, 1, 1, 1, 1, 1, 1, 1, 1, 1, 1, 1, 1, 1, 1, 1, 1, 1, 1, 1, 1, 1, 1, 1, 1, 1, 1, 1, 1, 1, 1, 1, 1, 1, 1, 1, 1, 1, 1, 1, 1, 1, 1, 1, 1, 1, 1, 1, 1, 1, 1, 1, 1, 1, 1, 1, 1, 1, 1, 1, 1, 1, 1, 1, 1, 1, 1, 1, 1, 1, 1, 1, 1, 1, 1, 1, 1, 1, 1, 1, 1, 1, 1, 1, 1, 1, 1, 1, 1, 1, 1, 1, 1, 1, 1, 1, 1, 1, 1, 1, 1, 1, 1, 1, 1, 1, 1, 1, 1, 1, 1, 1, 1, 1, 1, 1, 1, 1, 1, 1, 1, 1, 1, 1, 1, 1, 1, 1, 1, 1, 1, 1, 1, 1, 1, 1, 1, 1, 1, 1, 1, 1, 1, 1, 1, 1, 1, 1, 1, 1, 1, 1, 1, 1, 1, 1, 1, 1, 1, 1, 1, 1, 1, 1, 1, 1, 1, 1, 1, 1, 1, 1, 1, 1, 1, 1, 1, 1, 1, 1, 1, 1, 1, 1, 1, 1, 1, 1, 1, 1, 1, 1, 1, 1, 1, 1, 1, 1, 1, 1, 1, 1, 1, 1, 1, 1, 1, 1, 1, 1, 1, 1, 1, 1, 1, 1, 1, 1, 1, 1, 1, 1, 1, 1, 1, 1, 1, 1, 1, 1, 1, 1, 1, 1, 1, 1, 1, 1, 1, 1, 1, 1, 1, 1, 1, 1, 1, 1, 1, 1, 1, 1, 1, 1, 1, 1, 1, 1, 1, 1, 1, 1, 1, 1, 1, 1, 1, 1, 1, 1, 1, 1, 1, 1, 1, 1, 1, 1, 1, 1, 1, 1, 1, 1, 1, 1, 1, 1, 1, 1, 1, 1, 1, 1, 1, 1, 1, 1, 1, 1, 1, 1, 1, 1, 1, 1, 1, 1, 1, 1, 1, 1, 1, 1, 1, 1, 1, 1, 1, 1, 1, 1, 1, 1, 1, 1, 1, 1, 1, 1, 1, 1, 1, 1, 1, 1, 1, 1, 1, 1, 1, 1, 1, 1, 1, 1, 1, 1, 1, 1, 1, 1, 1, 1, 1, 1, 1, 1, 1, 1, 1, 1, 1, 1, 1, 1, 1, 1, 1, 1, 1, 1, 1, 1, 1, 1, 1, 1, 1, 1, 1, 1, 1, 1, 1, 1, 1, 1, 1, 1, 1, 1, 1, 1, 1, 1, 1, 1, 1, 1, 1, 1, 1, 1, 1, 1, 1, 1, 1, 1, 1, 1, 1, 1, 1, 1, 1, 1, 1, 1, 1, 1, 1, 1, 1, 1, 1, 1, 1, 1, 1, 1, 1, 1, 1, 1, 1, 1, 1, 1, 1, 1, 1, 1, 1, 1, 1, 1, 1, 1, 1, 1, 1, 1, 1, 1, 1, 1, 1, 1, 1, 1, 1, 1, 1, 1, 1, 1, 1, 1, 1, 1, 1, 1, 1, 1, 1, 1, 1, 1, 1, 1, 1, 1, 1, 1, 1, 1, 1, 1, 1, 1, 1, 1, 1, 1, 1, 1, 1, 1, 1, 1, 1, 1, 1, 1, 1, 1, 1, 1, 1, 1, 1, 1, 1, 1, 1, 1, 1, 1, 1, 1, 1, 1, 1, 1, 1, 1, 1, 1, 1, 1, 1, 1, 1, 1, 1, 1, 1, 1, 1, 1, 1, 1, 1, 1, 1, 1, 1, 1, 1, 1, 1, 1, 1, 1, 1, 1, 1, 1, 1, 1, 1, 1, 1, 1, 1, 1, 1, 1, 1, 1, 1, 1, 1, 1, 1, 1, 1, 1, 1, 1, 1, 1, 1, 1, 1, 1, 1, 1, 1, 1, 1, 1, 1, 1, 1, 1, 1, 1, 1, 1, 1, 1, 1, 1, 1, 1, 1, 1, 1, 1, 1, 1, 1, 1, 1, 1, 1, 1, 1, 1, 1, 1, 1, 1, 1, 1, 1, 1, 1, 1, 1, 1, 1, 1, 1, 1, 1, 1, 1, 1, 1, 1, 1, 1, 1, 1, 1, 1, 1, 1, 1, 1, 1, 1, 1, 1, 1, 1, 1, 1, 1, 1, 1, 1, 1, 1, 1, 1, 1, 1, 1, 1, 1, 1, 1, 1, 1, 1, 1, 1, 1, 1, 1, 1, 1, 1, 1, 1, 1, 1, 1, 1, 1, 1, 1, 1, 1, 1, 1, 1, 1, 1, 1, 1, 1, 1, 1, 1, 1, 1, 1, 1, 1, 1, 1, 1, 1, 1, 1, 1, 1, 1, 1, 1, 1, 1, 1, 1, 1, 1, 1, 1, 1, 1, 1, 1, 1, 1, 1, 1, 1, 1, 1, 1, 1, 1, 1, 1, 1, 1, 1, 1, 1, 1, 1, 1, 1, 1, 1, 1, 1, 1, 1, 1, 1, 1, 1, 1, 1, 1, 1, 1, 1, 1, 1, 1, 1, 1, 1, 1, 1, 1, 1, 1, 1, 1, 1, 1, 1, 1, 1, 1, 1, 1, 1, 1, 1, 1, 1, 1, 1, 1, 1, 1, 1, 1, 1, 1, 1, 1, 1, 1, 1, 1, 1, 1, 1, 1, 1, 1, 1, 1, 1, 1, 1, 1, 1, 1, 1, 1, 1, 1, 1, 1, 1, 1, 1, 1, 1, 1, 1, 1, 1, 1, 1, 1, 1, 1, 1, 1, 1, 1, 1, 1, 1, 1, 1, 1, 1, 1, 1, 1, 1, 1, 1, 1, 1, 1, 1, 1, 1, 1, 1, 1, 1, 1, 1, 1, 1, 1, 1, 1, 1, 1, 1, 1, 1, 1, 1, 1, 1, 1, 1, 1, 1, 1, 1, 1, 1, 1, 1, 1, 1, 1, 1, 1, 1, 1, 1, 1, 1, 1, 1, 1, 1, 1, 1, 1, 1, 1, 1, 1, 1, 1, 1, 1, 1, 1, 1, 1, 1, 1, 1, 1, 1, 1, 1, 1, 1, 1, 1, 1, 1, 1, 1, 1, 1, 1, 1, 1, 1, 1, 1, 1, 1, 1, 1, 1, 1, 1, 1, 1, 1, 1, 1, 1, 1, 1, 1, 1, 1, 1, 1, 1, 1, 1, 1, 1, 1, 1, 1, 1, 1, 1, 1, 1, 1, 1, 1, 1, 1, 1, 1, 1, 1, 1, 1, 1, 1, 1, 1, 1, 1, 1, 1, 1, 1, 1, 1, 1, 1, 1, 1, 1, 1, 1, 1, 1, 1, 1, 1, 1, 1, 1, 1, 1, 1, 1, 1, 1, 1, 1, 1, 1, 1, 1, 1, 1, 1, 1, 1, 1, 1, 1, 1, 1, 1, 1, 1, 1, 1, 1, 1, 1, 1, 1, 1, 1, 1, 1, 1, 1, 1, 1, 1, 1, 1, 1, 1, 1, 1, 1, 1, 1, 1, 1, 1, 1, 1, 1, 1, 1, 1, 1, 1, 1, 1, 1, 1, 1, 1, 1, 1, 1, 1, 1, 1, 1, 1, 1, 1, 1, 1, 1, 1, 1, 1, 1, 1, 1, 1, 1, 1, 1, 1, 1, 1, 1, 1, 1, 1, 1, 1, 1, 1, 1, 1, 1, 1, 1, 1, 1, 1, 1, 1, 1, 1, 1, 1, 1, 1, 1, 1, 1, 1, 1, 1, 1, 1, 1, 1, 1, 1, 1, 1, 1, 1, 1, 1, 1, 1, 1, 1, 1, 1, 1, 1, 1, 1, 1, 1, 1, 1, 1, 1, 1, 1, 1, 1, 1, 1, 1, 1, 1, 1, 1, 1, 1, 1, 1, 1, 1, 1, 1, 1, 1, 1, 1, 1, 1, 1, 1, 1, 1, 1, 1, 1, 1, 1, 1, 1, 1, 1, 1, 1, 1, 1, 1, 1, 1, 1, 1, 1, 1, 1, 1, 1, 1, 1, 1, 1, 1, 1, 1, 1, 1, 1, 1, 1, 1, 1], \"xaxis\": \"x\", \"y\": [\"USA\", \"New York\", \"United States\", \"London\", \"Canada\", \"Nigeria\", \"UK\", \"Los Angeles, CA\", \"India\", \"Mumbai\", \"Washington, DC\", \"Kenya\", \"Worldwide\", \"Australia\", \"Chicago, IL\", \"California\", \"Everywhere\", \"California, USA\", \"New York, NY\", \"Florida\", \"United Kingdom\", \"San Francisco\", \"Indonesia\", \"Los Angeles\", \"Washington, D.C.\", \"NYC\", \"Toronto\", \"Ireland\", \"Earth\", \"Seattle\", \"San Francisco, CA\", \"Chicago\", \"Sacramento, CA\", \"London, England\", \"New York City\", \"Texas\", \"London, UK\", \"Atlanta, GA\", \"ss\", \"304\", \"World\", \"San Diego, CA\", \"US\", \"Manchester\", \"Denver, Colorado\", \"Nashville, TN\", \"Dallas, TX\", \"Houston, TX\", \"Scotland\", \"South Africa\", \"Tennessee\", \"Memphis, TN\", \"Austin, TX\", \"Denver, CO\", \"Sydney\", \"Seattle, WA\", \"worldwide\", \"Pennsylvania, USA\", \"Oklahoma City, OK\", \"Charlotte, NC\", \"Global\", \"Portland, OR\", \"Atlanta\", \" Road to the Billionaires Club\", \"Paterson, New Jersey \", \"California, United States\", \"Massachusetts\", \"Morioh, Japan\", \"Singapore\", \"Planet Earth\", \"Pedophile hunting ground\", \"Calgary, Alberta\", \"Orlando, FL\", \"Colorado\", \"Brooklyn, NY\", \"??????\", \"Newcastle\", \"Florida, USA\", \"Vancouver, BC\", \"Calgary, AB\", \"in the Word of God\", \"Pakistan\", \"Texas, USA\", \"New York, USA\", \"San Jose, CA\", \"Melbourne, Australia\", \"Cleveland, OH\", \"NY\", \"New Hampshire\", \"WorldWide\", \"The Netherlands\", \"Wisconsin\", \"Indiana\", \"Philippines\", \"Tampa, FL\", \"Puerto Rico\", \"Coventry\", \"North Carolina\", \"Boston, MA\", \"Pennsylvania\", \"Lagos\", \"Lagos, Nigeria\", \"New Jersey\", \"Brasil\", \"Leeds, England\", \"Asheville, NC\", \"Southern California\", \"Midwest\", \"Switzerland\", \"Maryland\", \"Oregon\", \"Republic of Texas\", \"Sacramento\", \"?\", \"Bend, Oregon\", \"Haddonfield, NJ\", \"Tokyo\", \"Edinburgh\", \"?????\", \"Sydney, Australia\", \"Nigeria \", \"Philadelphia, PA\", \"Oakland, CA\", \"Jamaica\", \"Seattle, Washington\", \"Port Harcourt, Nigeria\", \"Japan\", \"Happily Married with 2 kids \", \"Portland, Oregon\", \"MAD as Hell\", \"Kansas City\", \"Nairobi-KENYA\", \"Calgary\", \"Mumbai, Maharashtra\", \"china\", \"San Francisco Bay Area\", \"North Carolina, USA\", \"Sydney, New South Wales\", \"??\", \"Phoenix, AZ\", \"Birmingham\", \"British Columbia, Canada\", \"Cape Town\", \"canada\", \"Paignton\", \"Leicester\", \"Michigan\", \"Jakarta/Kuala Lumpur/S'pore\", \"Barbados\", \"london\", \"Melbourne\", \"Geneva\", \"Manchester, England\", \"Massachusetts, USA\", \"Las Vegas, Nevada\", \"Atlanta Georgia \", \"U.S.A\", \"Victoria, BC\", \"Nairobi, Kenya\", \"Anchorage, AK\", \"MA\", \"Kansas City, MO\", \"Germany\", \"China\", \"World Wide\", \"Stockholm, Sweden\", \"Vancouver, British Columbia\", \"Kama | 18 | France \", \"Madison, WI\", \"Iraq|Afghanistan| RSA |Baghdad\", \"Virginia\", \"CA\", \"Brazil\", \"Karachi Pakistan\", \"Baltimore, MD\", \"Nowhere. Everywhere.\", \"Buffalo, NY\", \"Malaysia\", \"Italy\", \"Raleigh, NC\", \"Five down from the Coffeeshop\", \"England\", \"Rio de Janeiro\", \"Upstairs.\", \"State College, PA\", \"Birmingham, England\", \"Winston-Salem, NC\", \"New Orleans ,Louisiana\", \"America\", \"Naperville\", \"Nottingham, England\", \"#FLIGHTCITY UK  \", \"Oklahoma City\", \"Africa\", \"nyc\", \"Taylor Swift\", \"Georgia\", \"???\", \"Buy Give Me My Money \", \"Illinois, USA\", \"Boston\", \"Narnia\", \"Financial News and Views\", \"uk\", \"Toronto, Ontario\", \"Washington DC\", \"Austin, Texas\", \"Manhattan, NY\", \"Calgary, AB, Canada\", \"New Orleans, LA\", \"Milwaukee, WI\", \"Hawaii, USA\", \"South, USA\", \"Inexpressible Island \", \"Victoria, British Columbia\", \"PA\", \"Arizona\", \"Glasgow\", \"Las Vegas\", \"Oregon, USA\", \"Nairobi\", \"St. Louis, MO\", \"Haysville, KS\", \"india\", \"Hong Kong\", \"Indianapolis, IN\", \"Des Moines, IA\", \"Johannesburg, South Africa\", \"Virginia, USA\", \"Gotham City\", \"East Coast\", \"Sweden\", \"Tulsa, Oklahoma\", \"Subconscious LA\", \"Ontario, Canada\", \"ARGENTINA\", \"21.462446,-158.022017\", \"Washington D.C.\", \"Dublin, Ireland\", \"San Diego\", \"Adelaide, Australia\", \"Karachi\", \"Columbus, OH\", \"new york\", \"iTunes\", \"Los Angeles, California\", \"Arlington, TX\", \"Anonymous\", \"California \", \"London UK\", \"NJ\", \"America of Founding Fathers\", \"Asia\", \"CA via Brum\", \"Memphis\", \"Utah\", \"NYC :) Ex- #Islamophobe\", \"St Paul, MN\", \"Toronto, Canada\", \"Decatur, GA\", \"Does it really matter!\", \"302\", \"Charlotte NC\", \"Spokane, WA\", \"Lincoln, NE\", \"Instagram - @heyimginog \", \"Boston MA\", \"Minna, Nigeria\", \"New Hanover County, NC\", \"Sydney Australia\", \"Bronx NY\", \"Olympia, WA\", \"online \", \"Arizona \", \"Norway\", \"Victoria, Australia, Earth\", \"Washington, DC & Charlotte, NC\", \"Cumming, GA\", \"Winnipeg, Manitoba\", \"The Universe\", \"Winnipeg\", \"Phoenix\", \"Scotland, United Kingdom\", \"Louisiana\", \"Niagara Falls, Ontario\", \"Colombia\", \"Chicago, Illinois\", \"Silver Spring, MD\", \"Columbia, SC\", \"Helsinki\", \"Brisbane\", \"Leesburg, FL\", \"Miami, FL\", \"Detroit, MI\", \"Your screen\", \"Unknown\", \"To The Right of You!\", \"S\\u00cc\\u00a3o Paulo\", \"EIC\", \"Los Angeles \", \"United States of America\", \"Live On Webcam\", \"Blackpool\", \"Ukraine\", \"los angeles, ca\", \"Vietnam\", \"Pretoria\", \"Wilmington, NC\", \"New Delhi, India\", \"Oakland\", \"Ohio, USA\", \"hell\", \"Liverpool\", \"Karachi, Pakistan\", \"Portugal\", \"Yamaku Academy, Class 3-4\", \"Israel\", \"Suplex City\", \"Alexandria, VA\", \"Moscow\", \"Fresno, CA\", \"vancouver usa\", \"Buenos Aires, Argentina\", \"Thailand\", \"Dubai\", \"Gold Coast, Australia\", \"REPUBLICA DOMINICANA\", \"Kashmir!\", \"Bandung\", \"World Wide Web\", \"Alaska\", \"Muntinlupa City, Philippines\", \"SWMO\", \"San Jose, California\", \"anzio,italy\", \"New England\", \"New Delhi, Delhi\", \"Wales\", \"Macclesfield\", \"Epic City, BB.\", \"far away\", \"Knoxville, TN\", \"New Zealand\", \"Orlando, Fl\", \"Manchester, UK\", \"Newcastle Upon Tyne, England\", \"Lisbon, Portugal\", \"Ottawa, Canada\", \"Ashburn, VA\", \"Bakersfield, California\", \"Orange County, California\", \"Greensboro, North Carolina\", \"Rock Hill, SC\", \"Connecticut\", \"Spare 'Oom\", \"world\", \"Cleveland, OH - San Diego, CA\", \"USA (Formerly @usNOAAgov)\", \"Ewa Beach, HI\", \"Moncton, New Brunswick\", \"Swaning Around\", \"Boise, Idaho\", \"???  Dreamz\", \"Buenos Aires\", \"Istanbul\", \"West\", \"Trinidad and Tobago\", \"ph\", \"Houston TX\", \"Desde Republica Argentina\", \"SF Bay Area\", \"Sarasota, FL\", \"Melbourne Australia\", \"South Stand\", \"Glasgow, Scotland\", \"\\u00cc\\u00cfT: 10.614817868480726,12.195582811791382\", \"Maldives\", \"Roaming around the world\", \"New Sweden\", \"scandinavia\", \"Roanoke, VA\", \"Houston\", \"In Hell\", \"tx\", \"Eldoret, kenya\", \"texas\", \"HTX\", \"Kingston, Jamaica\", \"Macon, GA\", \"GLOBAL\", \"Mackay, QLD, Australia\", \"Somewhere in the Canada\", \"somewhere USA \", \"#HarleyChick#PJNT#RunBenRun\", \"New York \", \"Washington, USA\", \"Ontario Canada\", \"Europe\", \"Charlotte\", \"NIGERIA\", \"England, United Kingdom\", \"Philadelphia, PA \", \"Kent\", \"Evanston, IL\", \"Rocky Mountains\", \"rome\", \"????\", \"Somalia\", \"Alabama\", \"TX\", \"Newark, NJ\", \"Mongolia\", \"El Dorado, Arkansas\", \"Venezuela\", \"Accra,Ghana\", \"Dime's Palace\", \"they/them \", \"Detroit\", \"Jakarta\", \"Selma2Oakland\", \"Halifax\", \"Belgium\", \"Lagos Nigeria\", \"Street of Dallas\", \"Portland, Ore. \", \"Chile\", \"19.600858, -99.047821\", \"Adelaide, South Australia\", \"Lyallpur, Pakistan\", \"? \", \"Honduras\", \"Odawara, Japan\", \"va\", \"Riyadh\", \"Incognito\", \"The American Wasteland (MV)\", \"Baltimore\", \"Reddit \", \"dallas\", \"Dallas Fort-Worth\", \"Sand springs oklahoma\", \"Chevy Chase, MD\", \"Palo Alto, California\", \"Bangalore, India\", \"mumbai\", \"Hackney, London\", \"everywhere\", \"Here.\", \"Na:tinixw / Hoopa, Berkeley\", \"Redding, California, USA\", \"West Virginia, USA\", \"107-18 79TH STREET\", \"Federal Capital Territory\", \"Silicon Valley\", \"Madison, GA\", \"San Antonio, TX\", \"San Diego California 92101\", \" Queensland, Australia\", \"434\", \"Erie, PA\", \"Breaking News\", \"DC\", \"Mesa, AZ\", \"St Charles, MD\", \"Jupiter\", \"Dublin City, Ireland\", \"Cherry Creek Denver CO\", \"Columbus\", \"Bukittinggi  ?? Sumatera Barat\", \"U.K.\", \"http://www.amazon.com/dp/B00HR\", \"Costa Rica\", \"Above the snake line - #YoNews\", \"Melbourne, Victoria\", \"Berlin, Germany\", \"Perth, Western Australia\", \"Heaven\", \"A little house in the outback.\", \"Trinidad & Tobago\", \"Durham, NC\", \"Paris\", \"EastCarolina\", \"New York, New York\", \"Korea\", \"Baton Rouge, LA\", \"NC\", \"Gainesville, FL\", \"Manchester, NH\", \"Jerusalem\", \"Vancouver BC\", \"Auckland\", \"Pittsburgh\", \"Dubai, UAE\", \"Dundee\", \"Washington State\", \"Philadelphia\", \"Global-NoLocation\", \"Mo.City\", \"WA State\", \"Location\", \"Yogya Berhati Nyaman\", \"Renfrew, Scotland\", \"Auckland, New Zealand\", \"CA physically- Boston Strong?\", \"Manila, Philippines\", \"617-BTOWN-BEATDOWN\", \"Georgia, USA\", \"Michigan, USA\", \"In the potters hands\", \"Huntsville, AL\", \"the insane asylum. \", \"Budapest, Hungary\", \"Palo Alto, CA\", \"Enfield, UK\", \"Santa Cruz, CA\", \"Washington\", \"Derby\", \"Mumbai , India\", \"140920-21 & 150718-19 BEIJING\", \"Somewhere Only We Know ?\", \"Berlin - Germany\", \"Bournemouth\", \"Kolkata\", \"LiVE M\\u00cc\\u0081S\", \"OES 4th Point. sisSTAR & TI\", \"rural ohio (fuck)\", \"Ideally under a big tree\", \"Chasing My Dreams w/Jass??\", \"Depok\", \"Tri-Cities, Wash.\", \"ANDY 4 LEADER X\", \"Nashville, Tennessee\", \"Greensburg, PA\", \"Amarillo\", \"staggering on tenement roofs\", \"Paranaque City\", \"Fountain City, IN \", \"New Jersey, usually\", \"Nowhere Islands/Smash Manor\", \"PARACHUTE\", \"Fort Wayne, IN\", \"Raleigh (Garner/Cleveland) NC\", \"Blogland\", \"SEC Country\", \"by a piano probably. \", \" Little Rock, AR\", \"Ogba, Lagos, Nigeria\", \"CT & NY\", \"Innerhalb der L\\u00cc_cke\", \"Palm Desert, CA\", \"Upper St Clair, PA\", \"Waverly, IA\", \"Downtown Churubusco, Indiana\", \"#UNITE THE BLUE  \", \"Asunci\\u00cc_n-PY / T\\u00cc_bingen-GER\", \"Toronto, ON, Canada\", \"Santa Maria, CA\", \"Chicora ?? Oakland\", \"Michel Delving.\", \"Unite. Bless. Wallahi \", \"Dudetown\", \"Home of the Takers.\", \" Tropical SE FLorida\", \"North East, England\", \"Los Angeles for now\", \"DC, frequently NYC/San Diego\", \"Evansville, IN\", \"Paulton, England\", \"Chicago, IL \", \"Somewhere in China.\", \"antioch, california\", \"pissing off antis\", \"ny\", \"tri state\", \"a feminist, modernist hag.\", \"Vancouver, BC.\", \"412 NW 5th Ave. Portland OR\", \"London/Bristol/Guildford\", \"Bokaro Steel City, Jharkhand\", \"Plano,TX\", \"KSU 2017\", \"FCT, Abuja \", \"Minority Privilege, USA\", \"Greensboro, NC\", \"#SandraBland\", \"we?it \\u0089\\u00db\\u00a2 ixwin\", \"california\", \"\\u00cc\\u00cfT: 33.209923,-87.545328\", \"Asheboro, NC\", \"Rotterdam, Zuid-Holland\", \"Cairo, Egypt.\", \"Halifax, Nova Scotia\", \"Marysville, MI\", \"Halton, Ontario\", \"Westchester\", \"Score More Goals Buying @\", \"Charlottetown\", \"New Orleans, Louisiana\", \"Kodiak, AK\", \"Behind The Obama Curtain\", \"Islamabad\", \"CLT\", \"PROUD INDIANS\", \"Brisbane.\", \"YA MOTHA BED\", \"Manhattan\", \"Ontario, Canada. \", \"Hartford,  connecticut\", \"LYNBROOK\", \"Huber Heights, OH\", \"Delhi \", \"L. A.\", \"Flushing, Queens\", \"www.aprylpooley.com\", \"1/3 of the blam squad \", \"Jammu | Kashmir | Delhi\", \"... -.- -.--\", \"Did anybody see me here ??\", \"Duncan\", \"Aurora, IL\", \"Just Happy to Be Anywhere\", \"DaKounty, Pa\", \"??????? ??????? ????????\", \"Lethbridge, AB, Canada\", \"#ForeverWithBAP 8 \", \"Alliston Ontario\", \"????s ?? ????\\u00cc\\u00f8????\\u00cc\\u00a1a\", \"Westerland\", \"Cleveland, TN\", \"Konoha\", \"Eastlake, OH\", \"Livingston, MT\", \"Colorado, USA\", \"Woodcreek HS, Roseville, CA\", \"Glendale, CA\", \"Honolulu,Hawaii \", \"Unnamed City\", \"Guelph Ontario Canada\", \"Frostburg\", \"New Jersey/New York\", \"\\u00cc\\u00cfT: 0.0,0.0\", \"Blackpool, England, UK.\", \"btwn a rock and a hard place\", \"Huntley, IL\", \"Metro Manila\", \"texas a&m university\", \"#BossNation!\", \"Biloxi, Mississippi\", \"Newcastle, England\", \"St PetersburgFL\", \"South 37\", \"Hartford  London Hong Kong\", \"Temecula, CA\", \"Chicopee MA\", \"Regalo Island\", \"glasgow\", \"Enterprise, NV\", \"perth, australia \", \"Jubail IC, Saudi Arabia.\", \"CPT & JHB, South Africa\", \"Jerseyville, IL\", \"FILM OUT LATE 2015\", \"Miami via Lima\", \"Florida USA\", \"Manavadar, Gujarat\", \"PROV\", \"Dallas, Texas. \", \"Jackson TN\", \"Hattiesburg, MS\", \"Crouch End, London\", \"todaysbigstock.com\", \"Kirkwall\", \"#LemonGang \", \"Texas \", \"Makai\", \"Utah, USA\", \"(Spain)\", \"Darnley, Prince Edward Island\", \"back in japan ??????????\", \"North Memphis/Global Citizen\", \"ljp/4\", \"God.Family.Money\", \"snapchat~ maddzz_babby \", \"manaus\", \"Asia Pacific   \", \"Santa Clara, CA\", \"The Citadel, Oldtown, Westeros\", \"plymouth\", \"taken by piper curda\", \"Loughton, Essex, UK\", \"#KaumElite;#F?VOR;#SMOFC\", \"Hammersmith, London\", \"Okanagan Valley, BC\", \"West Hollywood\", \"Berlin, NY, DC, Malibu\", \"Chiyoda Ward, Tokyo\", \"Somewhere in Jersey\", \"Screwston, TX\", \"Uyo, Akwa Ibom State, Nigeria\", \"Jammu and Kashmir\", \"london town..\", \"Hooters on Peachtree\", \"Aix-en-Provence, France\", \"South, England\", \"rio de janeiro | brazil\", \"don't buy the s*n\", \"Fort Worth, Texas\", \"White Plains, NY\", \"NYC-LA-MIAMI\", \"Kansas City, Mo.\", \"Bandar Lampung, Indonesia\", \"Kalimantan Timur, Indonesia\", \"MNL\", \"Perthshire \", \"North East USA\", \"Palm Bay, FL (Kissimmee)\", \"kissimmee,fl.\", \"UAE,Sharjah/ AbuDhabi\", \"buhh\", \"Bracknell\", \"Gotham\", \"London/New York\", \"the azure cloud\", \"Halifax, Nouvelle-\\u00cc\\u00e4cosse\", \"Canada BC\", \"Leicester, England\", \"Long Island, NY\", \"Area 8 \", \"Homs- Syria\", \"In The Mansion\", \"Vilnius\", \"Des Moines, Iowa \", \"lesa * she/her\", \"Lancaster, Pennsylvania, USA\", \"wisco\", \"Harpurhey, Manchester, UK\", \"big boy \\u0089\\u00db\\u00a2 0802\", \"The TARDIS\", \"Top Secret\", \"Eddyville, Oregon 97343\", \"Chicagoland\", \"Santiago de Cmpostela Galicia\", \"Fakefams\", \"I O W A\", \"Paducah, KY\", \"The Harbinger.\", \"tripoli international airport\", \"County Durham, United Kingdom\", \"Tripsburg, ms.\", \"11202\", \"Santo Domingo Alma Rosa \", \"port matilda pa\", \"Gotham City,USA\", \"Ashford, Kent, United Kingdom\", \"Charleston, WV\", \"South africa\", \"Bristol\", \"Indonesia\\n\", \"#otrakansascity\", \"Huntington, WV\", \"Santa Monica, CA\", \"Iowa, USA\", \"Rochelle, GA\", \"Northern Ireland\", \"Mass\", \"the Dirty D\", \"North West London\", \"Washington, Krasnodar (Russia)\", \"africa\", \"Around the world\", \"Den Helder, Rijkswerf\", \"BrowardCounty // Florida \", \"Kansas, The Free State! ~ KC\", \"Ukraine and Ireland\", \"portland, oregon\", \"Adventist - Lesson Sabbath\", \"somewhere too cold for me\", \"Sevier County.\", \"Orbost, Victoria, Australia\", \"high way 99\", \"IG : Sincerely_TSUNAMI\", \"?Gangsta OC / MV RP; 18+.?\", \"Neath, South Wales\", \"Perenjori, WA\", \"On the court \", \"Rocketing through the galaxy\", \"Albany/NY\", \"Proudly frozen Canuck eh !!\", \"Not where I want to be, yet\", \"Waco, Texas\", \"Halfrica\", \"Madrid\", \"Colorado Springs\", \"Burbank,CA\", \"Coolidge, AZ\", \"Twitterville\", \"Newton Centre, Massachusetts\", \"Australia \", \"English Midlands\", \"Mooseknuckle, Maine\", \"Baker City Oregon\", \"North Hastings Ontario\", \"East London\", \"Asia European Continent Korea \", \"DRAW A CIRCLE THAT'S THE EARTH\", \"Buffalo NY\", \"OK\", \"Weyburn\", \"@ ForSL/RP\", \"FLYEST HIPPIE YOU KNOW \", \"Menlo Park. SFO. The World.\", \"Augusta, GA\", \"Lima, Ohio\", \"Chicago Heights, IL\", \"V\\u00cc_a L\\u00cc\\u00c1ctea\", \"Lancashire, United Kingdom\", \"The World\", \"Geneva, Switzerland\", \"somewhere over a rainbow\", \"Peterborough, On\", \"Baydestrian\", \"Harlem, New York\", \"Virginia, United States\", \"houstn\", \"NY || live easy? \", \"Hollywood, CA\", \"Chester, IL\", \"Loughborough.\", \"Ebola\", \"253\", \"INDIA\", \"Spokane, Washington\", \"Bras\\u00cc_lia\", \"In My Lab Creating \", \"Saipan, CNMI\", \"SoCal\", \"LP, MN USA\", \"Dicky Beach\", \"Meereen \", \"Kenosha, WI 53143\", \"Sligo and Galway, Ireland\", \"McLean, VA\", \"The Desert of the Real\", \"ayr\", \"Nigeria, WORLDWIDE\", \"Ormond By The Sea, FL\", \"Use #TMW in tweets get #RT\", \"Kauai, Hawaii\", \"Nelspruit, South Africa\", \"Kwara, Nigeria\", \"East Atlanta, Georgia\", \"miami x dallas \", \"The Howling\", \"Crato - CE \", \"wrapped arnd hyuk's finger\", \"Books Published, USA\", \"North Ferriby, East Yorkshire\", \"65\", \"Vineyard\", \"justin & ari follow || tvd\", \"Tractor land aka Bristol\", \"British girl in Texas\", \"Lima, Per\\u00cc\\u00bc\", \"South Asia\", \"Pontefract UK\", \"S.F. Bay area\", \"Okuma Town, Fukushima\", \"Dhaka, Bangladsh\", \"Kuala Lumpur, Malaysia\", \"Dindigul,TamilNadu.\", \"Chicago, but Philly is home\", \"Hemel Hempstead\", \"5/5 access / rt link please x\", \"honeymoon avenue\", \"FIMAK A.S Ist Bolge Muduru\", \"Greg's place\", \"probably petting an animal\", \"The Empire/First Order\", \"Tampa, Fl\", \"A.A.S my Aztec Princess\", \"cognitive dissonance town\", \"Nakhon Si Thammarat\", \"Jerusalem, Israel\", \"SE London(heart is by the sea)\", \"Beirut/Toronto\", \"Milton keynes\", \"Telangana\", \"In a crazy genius mind\", \"Haiku, Maui, Hawaii\", \"Manila\", \"Camberwell, Melbourne\", \"Vit\\u00cc_ria (ES)\", \"Wanderlust\", \"Evergreen Colorado\", \"Tipperary (Long Way) \", \"San Diego, California\", \"Williamsbridge, Bronx, New Yor\", \"Mentor OH\", \"Purfleet\", \"sheffield // rotherham\", \"IUPUI '19\", \"Oldenburg // London\", \"Port Orange, FL\", \"Freeport Ny\", \"60th St (SS)\", \"Stamford & Cork (& Shropshire)\", \"Bucharest\", \"westwestwestwestwestwestwest\", \"Canterbury kent\", \"In my own world!!!\", \"germany\", \"hatena bookmark\", \"Beautiful British Columbia\", \"Melbourne, Florida\", \"Paradise, NV\", \"blackfalds.\", \"West Richland, WA\", \"London, Greater London, UK\", \"In Space\", \"brooklyn, NYC\", \"Minneapolis, MN\", \"West Hollywood, CA\", \"Alger-New York-San Francisco\", \"Northern Colorado\", \"Rio\", \"Waialua, Hawaii\", \"Suburban Detroit, Michigan\", \"Savage States of America\", \"The Shady Hyenatown of Finland\", \"Coimbatore\", \"probably watching survivor\", \"In your mind\", \"Your notifications\", \"Orlando\", \"Roppongi, Minato, Tokyo \", \"Azeroth\", \"Port Williams NS\", \"San Jose, CA, USA\", \"Gwersyllt, Wales\", \"rowyso dallas \", \"right here\", \"Central Coast, California\", \"it's a journey \", \"Cheshire. London. #allover\", \"beacon hills \", \"Leaving Bikini Bottom\", \"NH via Boston, MA\", \"Im In Route \", \"the local dump\", \"Based in CA - Serve Nationwide\", \"Windsor,Ontario\", \"{Detailed}\", \"$ad $hawty\", \"Cimahi,West Java,Indonesia\", \"\\u00cc\\u00cfT: 27.9136024,-81.6078532\", \"Sherwood, Brisbane, Australia\", \"Rhyme Or Reason?\", \"Fort Knox, KY 40121\", \"Ecuador\", \"Avon\", \"JDB/LJC/AGB/TW/PLL\", \"Colonial Heights, VA\", \"Fruit Bowl\", \"Wolverhampton\", \"but i love kaylen ??\", \"Orlando \", \"Detroit Tigers Dugout\", \"Norf Carolina\", \"victoria moz\\u00cc\\u00a3o \", \"Playa\", \"\\u0089\\u00db\\u00a25\\u0089\\u00db\\u00a212\\u0089\\u00db\\u00a214\\u0089\\u00db\\u00a2 | \\u00e5\\u00c8#SaviourSquad\\u00e5\\u00c7\", \"Hartford, Connecticut\", \"Louisville, KY \", \"New Chicago\", \"Piedmont Triad, NC\", \"heart of darkness, unholy ?\", \"Victoria, BC  Canada\", \"Canberra, Australian Capital Territory\", \"La Grange Park, IL\", \"Boulder\", \"Littleton, CO, USA\", \"Thornton  Colorado\", \"#Bummerville otw\", \"Netherlands,Amsterdam-Virtual \", \"Norwich\", \"Chorley, Lancashire, UK\", \"Toronto, Worldwide \", \"Karachi \", \"Wilmington, Delaware\", \"UK  & Germany\", \"U.S.A and Canada\", \"Get our App\", \"LA\", \"Sanganer, Rajasthan\", \"LA/OC/Vegas\", \"Laventillemoorings \", \"Coventry, UK\", \"Rochester Hills, MI\", \"South West, England\", \"Annapolis, MD\", \"???????? ?????????.\", \"Paradise City\", \"keli x\", \"satan's colon\", \"'Merica\", \"nc\", \"Bangalore\", \"\\u0089\\u00db\\u00a2FLG\\u0089\\u00db\\u00a2\", \"Bangalore City, India\", \"Fresno, California\", \"San Mateo County, CA\", \"Somewhere between here & there\", \"The South & WestCoast \", \"#????? Libya#\", \"Hinterestland\", \"Bloomington, Indiana\", \"central chazifornia\", \"PSN: Pipbois \", \"New York 2099\", \"Calgary, Canada\", \"Patra-Greece.\", \"El Paso, TX\", \"iPhone: -27.499212,153.011072\", \"Roadside\", \"Vancouver\", \" 45\\u00e5\\u00a1 5'12.53N   14\\u00e5\\u00a1 7'24.93E\", \"\\u00cc\\u00cfT: 30.307558,-81.403118\", \"Pawnee\", \"The Globe\", \"God is Love. \", \"the Refrigerator \", \"Carterville\", \"Storybrooke \", \"Aix-en-Provence/Utrecht\", \"St.Cloud, MN\", \"Republic of the Philippines\", \"Nantes, France\", \"New Mexico, USA\", \"Higher Places\", \"Belleville, Illinois\", \"LITTLETON, CO, USA, TERRAN\", \"eating strawberry shitsickles\", \"Definitely NOT the stables\", \"Coasts of Maine & California\", \"Earth-616\", \"Kuwait \", \"boston\", \"Malibu/SantaFe/Winning!\", \"Guayaquil\", \"Tennessee/Gallifrey\", \"Buscame EL tu Melte\", \"taco bell\", \"Everett, WA\", \"The Land of MAss Stupidity\", \"QLD Australia\", \"Gaborone, Botswana\", \"828/704(Soufside)/while looking goofy in NJ\", \"Antarctica\", \"St. Joseph, Minnesota\", \"where the wild things are\", \"Aveiro, Portugal\", \"ohio\", \"Milton Keynes \", \"Montr\\u00cc\\u00a9al, Qu\\u00cc\\u00a9bec\", \"University of Toronto\", \"Global Edition\", \"Bolton & Tewkesbury, UK\", \"Aro Diaspora\", \"Holly Springs, NC \", \"Anaheim\", \"Newcastle, OK\", \"Live Oak, TX\", \"Washington, DC NATIVE\", \" Nevada Carson City,Freeman St\", \"Jogja, Indonesia Slowly Asia\", \"Me mammy's belly\", \"Bay Area, CA\", \" The World\", \"mpls. \", \"North London\", \"CAMARILLO, CA\", \"Tarragona\", \"Georgia ? Tennessee\", \"Scotts Valley, CA\", \"golborne, north west england.\", \"New York, United States\", \"The Jewfnited State\", \" Alex/Mika/Leo|18|he/she/they\", \"Quantico, VA\", \"nbc washington\", \"ELVY\", \"Varies \", \"oxford\", \"Mumbai india\", \"Riverside, California.\", \"Pig Symbol, Alabama\", \"Uruguay / Westeros / Gallifrey\", \"Whole World \", \"Charleston, IL\", \"Sydney & Worldwide\", \"Moore, OK\", \"Cincinnati, OH\", \"mi\", \"The 5th Dimension. \", \"????? ???? ????\", \"#MadeInNorthumberland\", \"NAIROBI  KENYA \", \"Based out of Portland, Oregon\", \"Columbia Heights, MN\", \"Virgo Supercluster\", \"Pontevedra, Galicia\", \"A Hoop Somewhere\", \"Missouri, USA\", \"Auburn \", \"Arnhem, the Netherlands\", \"US-PR\", \"EVERYWHERE\", \"toronto\", \"dorito land\", \"atx\", \"en el pais de los arrechos\", \"Pocatello, ID\", \"Uppsala, Sweden\", \"Milwaukee County\", \"followurDREAMS(& my instagram)\", \"My subconscious\", \"The Great State of Maine \", \"V-RP @OZRP_ ?MV, AU, R18+?\", \"Tulalip, Washington\", \"The Kingdom of Fife, Scotland\", \"Where ever i please\", \"Geneva. And beyond. \", \"Escondido, CA\", \"Between the worlds \", \"CCH \", \"Reading a romance novel\", \"y/e/l\", \"Ventura, Ca\", \"Greenville,SC\", \"wherever there's netflix\", \"?@symbolicjensen?\", \"Bombardment Bay\", \"Ile-Ife,Osun state, Nigeria\", \"North\", \"Indiana, USA\", \"Charlotte, N.C.\", \"Suitland\", \"Hoxton, London\", \"Groton, CT\", \"Minneapolis - St. Paul\", \"NYC&NJ\", \"Shirley, NY\", \"DFW, Texas\", \"Killarney\", \"#SOUTHAMPTON ENGLAND\", \"UK & Ibiza\", \"Palma, Islas Baleares\", \"Espoo, Finland\", \"Forging my Story\", \"Hampshire UK\", \"Hamilton County, IN\", \"fluffy cloud\", \"Kokomo, In\", \"Porto Alegre, Rio Grande do Sul\", \"New Your\", \"Still. ??S.A.N.D.O.S??\", \"Ikeja, Nigeria\", \"USA \", \"antoine fisher \", \"Middle Earth / Asgard / Berk\", \"Online 24/7. Not even kidding.\", \"nj\", \"Cornwall\", \"KLA,Uganda\", \"Near Warrington\", \"the own zone layer \", \"lakewood colorado\", \"Bedford, England\", \"paradise\", \"Earth \", \"BC\", \"University of Limerick\", \"Banbridge\", \"hkXfYMhEx\", \"toronto \\u0089\\u00db\\u00a2 dallas\", \"14/cis/istj \", \"Enniscrone & Aughris, Sligo \", \"Richardson TX\", \"Afghanistan, USA\", \"#Gladiator \\u0089\\u00db\\u00a2860\\u0089\\u00db\\u00a2757\\u0089\\u00db\\u00a2\", \"Unites States\", \"Lima-Peru\", \"Waterloo, ON\", \"Cloud 9\", \" Neverland \", \"Ylisse\", \"San Diego CA\", \"labyrinthia\", \"qosqo\", \"Aarhus, Central Jutland\", \"CA, AZ & NV\", \"Intermountain West\", \"Alphen aan den Rijn, Holland\", \"London / Berlin / Online\", \"Brizzle City !\", \"Brentwood, NY\", \"everywhere \", \"D(M)V  \", \"GREENSBORO,NORTH CAROLINA\", \"Montgomery, AL\", \"T-Ville\", \"lugo\", \"Nottingham\", \"sitting on Eddie Vedders lap,\", \"All around the world baby\", \"Bhubneshwar\", \"houston\", \"Ontario\", \"Cimerak - Pangandaran\", \"Londonstan\", \"Denver Colorado. Fun Times\", \"IJmuiden, The Netherlands\", \"ARIZONA\", \"Montreal\", \"Smash Manor/Kanto\", \"Diamondville\", \"indiana\", \"Mexico! ^_^\", \"infj \", \"Gainesville/Tampa, FL\", \"Leitchfield Kentucky\", \"My heart is a ghost town!\", \"Aurora, Ontario \", \"#HAMont\", \"Piedmont Area, North Carolina\", \"south africa eastern cape\", \"Not Of This World\", \"Malaysia/Jordan\", \"City of Angels, CA\", \"Galapa / Atl\\u00cc\\u00c1ntico\", \"Here & There\", \"Somewhere else...\", \"Elchilicitanierraversal \", \"Liberty Lake, WA\", \"NIFC\", \"Athens, Greece\", \"Here, there and everywhere\", \"guaravitas\", \"Salt Lake City, UT\", \"Suginami-ku, Tokyo, Japan\", \"New Haven, Connecticut\", \"Thrissur\", \"Spokane, Washington 99206\", \"One World\", \"Your Conversation\", \"santo domingo\", \"Wailuku, Maui\", \"Made in America\", \"Leduc, Alberta, Canada\", \"50% Queanbeyan - 50% Sydney\", \"Cedar Island, Clinton CT 06413\", \"Saint Louis, Missouri\", \"jersey \", \"Shrewsbury\", \"bajaur\", \"Lincoln\", \"Oxford / bristol\", \"Bakersfield, CA\", \"Chiswick, London\", \"Plain O' Texas\", \"Illumination \", \"sneaking glances at Thancred\", \"St. Catharines, Ontario\", \"chillin at ceder rapids\", \"Waddesdon\", \"LEALMAN, FLORIDA\", \"Dundas, Ontario\", \"Corpus Christi\", \"The Weird Part of Wonderland\", \"Rock Springs, WY\", \"Slateport City, Hoenn\", \"Absecon, NJ\", \"Greenpoint\", \"Ondo\", \"Fredonia,NY\", \"Sumter, SC\", \"Nadiad ,Gujarat , India!!\", \"District 12 - Orange County\", \"Columbus ?? North Carolina\", \"planeta H2o\", \"Fairfax, VA\", \"Arvada, CO\", \"LIVERPOOL\", \"Trost District\", \"Mostly Yuin.\", \"Arkansas\", \"JKT48-Muse-A7X\", \"United Kingdom,Fraserburgh\", \"Holly, MI\", \"-?s?s?j??s-\", \"\\u00cc\\u00cfT: 39.982988,-75.261624\", \"Li\\u00cc\\u00acge\", \"UPTOWN \", \"Tucson, Az\", \"Ashxjonespr@gmail.com\", \"#GDJB #ASOT\", \"T\\u00cc\\u00c1chira - Venezuela\", \"The Shire\", \"Hannover, Germany\", \"Where I Need To Be\", \"Amman,Jordan\", \"Contoocook Valley Region of Ne\", \"\\u00e5\\u00ca(?\\u0089\\u00db\\u00a2`?\\u0089\\u00db\\u00a2\\u00e5\\u00ab)??\", \"Ventura\", \"Elizabeth, NJ\", \"Host of #MindMoversPodcast\", \"My mind is my world\", \"NOLA ?? TX\", \"ATL ? SEA \", \"amsterdayum 120615 062415\", \"jayankondacholapuram.tamilnadu\", \"204, 555 11 Ave. S.W.\", \"Santiago,Rep\\u00cc\\u00bcblica Dominicana\", \"Greenfield, Massachusetts\", \"Oakland, Ca\", \"\\u00cc\\u00cfT: 6.4682,3.18287\", \"[marvel\\u0089\\u00db\\u00a2dragon age\\u0089\\u00db\\u00a2wicdiv]\", \"Shity land of Northern Ireland\", \"Eureka, California, USA\", \"Winston Salem, North Carolina\", \"Melbourne, FL\", \"Austin\", \"We're All Mad Here\", \"Los Angeles New York\", \"IG/SC:bjfordiani\", \"wny\", \"In the clouds...\", \"Bloomington, IN\", \"between ideas & 3-5pm AEST\", \"Trapped in my Conscience \", \"Birmingham and the Marches\", \"Dil's Campsite\", \"Daddy Kink Central\", \"The Low-Cal Calzone Zone\", \"ngapain?\", \"R'lyeh, South Pacific\", \"V\\u00cc_ster\\u00cc\\u00b4s, Sweden\", \"North West England UK\", \"Terlingua, Texas\", \"ChicagoRObotz\", \"Bristol, UK\", \"Varanasi\", \"Auburn, AL\", \"Gloucestershire , UK\", \"neil's kitchen  |  32215\", \"Croydon\", \"Fukushima city Fukushima.pref\", \"Morganville, Texas.\", \"Somerset, UK\", \"West Chester, PA\", \"Cyprus\", \"Devon/London \", \"Chester\", \"ona block w/ my BOY ??\", \"Killa Hill, CO\", \"Newport, Wales, UK\", \"Belgrade\", \"??????????? ???????????..? \", \"www.tmgcgart.com\", \"Argentina\", \"Zeerust, South Africa\", \"Mysore, Karnataka\", \"Also follow ?\", \"Australian Capital Territory\", \"Antigua ?? NYC \", \"Phila.\", \"maryland\", \"Leeds, United Kingdom\", \"Brisbane Australia\", \"Brum/Lestah \", \"seoul\", \"Melton, GA\", \"New York ? ATL\", \"Himalayan Mountains\", \"Durand, MI\", \"Romania\", \"Pueblo, Colorado\", \"Surabaya\", \"Lytham St Anne's \", \"Western Washington\", \"Jersey City, NJ\", \"all over the world\", \"don't run\", \"Colorado/WorldWide\", \"Tampa\", \"Victoria, Canada\", \"Black Canyon New River, AZ\", \"Hatteras, North Carolina\", \"Yobe State\", \"Orange County, Calif.\", \"\\u0089\\u00db\\u00ca\\u0089\\u00db\\u00ca\\u0089\\u00db\\u00ca\", \"San Antonio-ish, TX\", \"Iliff,Colorado  \", \"livin in a plastic world\", \"??9?\", \"Erbil\", \"Hampton Roads, VA\", \"Alberta Pack\", \"w. Nykae \", \"am everywhere\", \"Palestine \", \"cleveland, oh\", \"Alexandria, VA, USA\", \"Atlanta(ish), GA\", \"Scotland \", \"BIG D  HOUSTON/BOSTON/DENVER\", \"Memphis, in the Tennessees\", \"Greeley, CO\", \"on to the next adventure\", \"Some where\", \"The Pumpkin Carriage of Dreams\", \"Leeds, U.K.\", \"Fashion Heaven. IG: TMId_\", \"chicago\", \"Walthamstow, London\", \"Tornado Alley, USA \", \"NV\", \"oman muscat al seeb \", \"England,UK,Europe,Sol 3.\", \"Fort Fizz, Ohio\", \"Light and dark, form and void\", \"Dover, DE\", \"Guildford, UK\", \"\\u00cc\\u00cfT: 41.252426,-96.072013\", \"Elkhart, IN\", \"Hamilton, ON\", \"New Delhi,India\", \"hyderabad\", \"?? ?+254? ? \\\\??\\u00e5\\u00a1_??\\u00e5\\u00a1_???\\u00e5\\u00a1_?/??\", \"#NewcastleuponTyne #UK\", \"Jonesboro, Arkansas USA\", \"The Memesphere\", \"Hyrule\", \"Waterfront\", \"Hillsville/Lynchburg, VA\", \"The Epicenter, and Beyond\", \"Sandton, South Africa\", \"phuket thailand\", \"11th dimension, los angeles\", \"Gold Coast, Qld, Australia\", \"WV, love the blue and gold\", \"Elsewhere, NZ\", \"City Of Joy\", \"front row at a show\", \"Houston, Texas\", \"Kolkata, India\", \"Am International\", \"i luv raquel\", \"WESTSIDE OF PHILLY 7? BLOCK??\", \"Mumbai (India)\", \"Pratt-on-Wye\", \"Niall's arms\", \"Detroit/Windsor\", \"please H? ?:??\", \"Rochester, NY\", \"Grimsby, England\", \"Bartholomew County, Indiana\", \"Adventuring in Narnia\", \"State of Dreaming\", \"http://twitch.tv/jcmonkey\", \"Uganda\", \"Trackside California\", \"Edmonton, Alberta\", \"Inang Pamantasan\", \" Blood Indian Reserve\", \"Anderson, SC\", \"taking pain like pleasure\", \"Carol Stream, Illinois\", \"Aberdeenshire\", \"Joshua Tree, CA\", \"KADUNA, NIGERIA\", \"leyland\", \"AZ\", \"Very SW CA, USA....Draenor\", \"3.28.15|7.20.15|7.25.15\", \"M\\u00cc\\u00a9xico\", \"Liberty Township, Ohio\", \"trapped in America\", \"USA, Alabama\", \"Rockford, IL\", \"?????? in Yokohama Japan\", \"From a torn up town MANCHESTER\", \"Dallas, Tejas\", \"Kleenex factory\", \"Quincy\", \"Bug Forest\", \"The Pig Sty\", \"Norwalk, CT\", \"Ealing, London\", \"Kamloops, BC\", \"Arkansas, Jonesboro\", \"Quincy MA\", \"POFFIN\", \"Somewhere \", \"Overland Park, KS\", \"marysville ca \", \"All around the world!\", \"Email: Lovethterry@gmail.com\", \"Whiterun, Skyrim\", \"Wakanda\", \"MI\", \"Home is where we park it!\", \"Alvin, TX\", \"Rockville, Maryland\", \"khartoum sudan\", \"Hawaii USA\", \"Jakarta, Indonesia\", \"Philippines \", \"Every where\", \"Not a U.S resident\", \"Htx\", \"Bangalore, INDIA\", \"Las Vegas, NV\", \"Some other mansion\", \"London.\", \"Gloucester\", \"Raleigh Durham, NC\", \"@cockerelshoes\", \"Gettysburg, PA\", \"Lawrence, KS via Emporia, KS\", \"Peterborough, Ont.\", \"Palestine Texas\", \"??????????????\", \"Kaneohe\", \"they/them\", \"Rome, Italy\", \"Asgard\", \"Kualar Lumpur, Malaysia\", \"nigeria\", \" New Delhi \", \"London, Sydney\", \"Beside Basketball\", \"Cleveland, Ohio\", \"Norman, Oklahoma\", \"Bangalore. India\", \"Cassadaga Florida\", \"650/559\", \"kano\", \"Somewhere out there\", \"Fort Lauderdale, FL\", \"?? ??\", \"?????? ???? ??????\", \"2B Hindhede Rd, Singapore\", \"Hertfordshire \", \"seattle grace mercy death\", \"South Bloomfield, OH\", \"Team Slytherin\", \"Eugene, Oregon\", \"Chippenham/Bath, UK\", \"Charlotte County Florida\", \"1D | 5SOS | AG\", \"liverpool \", \"W.I.T.S Academy\", \"West Bank, Gaza Strip\", \"Fort Walton Beach, Fl\", \"Fort Calhoun, NE\", \"probably the strip club\", \"Semarang, Indonesia\", \"Sioux Falls, S.D. \", \"Flipadelphia\", \"Mars\", \"Wrex\", \"Idaho\", \"Inverness, Nova Scotia\", \"Scituate, MA\", \"Kuwait\", \"The D\", \"Shah Alam,Malaysia\", \"yorkshire\\n\", \"Hensley Street, Portland\", \"36 & 38\", \"Realville\", \"Palermo, Sicily\", \"GO BLUE! HAIL YES!!\", \"Rhode Island\", \"Kernow\", \"Greenwich Meridian\", \"Bournemouth, Dorset, UK\", \"Durban, South Africa\", \"i got 1/13 menpa replies, omg\", \"Madisonville TN\", \"NC || OR\", \"in my own personal hell (:\", \"FOLLOWS YOU everywhere you go\", \"bk. \", \"Brighton and Hove\", \"The Peach State\", \"IRAQ\", \"Sydney, NSW\", \"The Great State of Texas\", \"NYHC\", \"MY RTs ARE NOT ENDORSEMENTS\", \"Bishops Stortford, England\", \"Instagram: trillrebel_\", \"russia\", \"ilford\", \"L/S/Z/L/T/H/C/H/R/A/S/C\", \"Cape Neddick, ME\", \"EARTH\", \"ColoRADo\", \"Adelaide\", \"BOSTON-LONDON\", \"Queen Creek AZ\", \"ill yorker\", \"Mexico City\", \"Kingswinford\", \"Arlington, VA\", \"NEW YORK\", \"Vancouver, BC, Canada\", \"Atlanta - FAU class of '18\", \"Brasil,SP\", \"Newton, NJ 07860\", \"Bronx, New York\", \"America | New Zealand \", \"Boulder, CO\", \"Paris (France)\", \"ducked off . . . \", \"Tulsa, OK\", \"Lubbock, Texas\", \"Somewhere in Spain\", \"Birmingham & Bristol\", \"ALWAYS DYING NEVER RESTING\", \"us\", \"Houston \", \"H / pez & sophia \", \"Spying on your thoughts\", \"California or Colorado\", \"South east of U.K\", \"Hustletown\", \"Jamshedpur, Jharkhand\", \"Milton/Tallahassee\", \"Nairobi , Kenya\", \"Wynne, AR\", \"North Cack/919\", \"Official Website\", \"Trancy Manor\", \"Honeymoon \\u00cc\\u00a3ve.\", \"Alexandria, Egypt.\", \"Saline, MI\", \"Right next to Compton\", \"Centurion \", \"Tallahassee Florida\", \"Viejo\", \"Planet Eyal, Shandral System\", \"on twitter \", \"Clean World\", \"Wausau, Wisconsin\", \"Columbus, Georgia\", \"London, United Kingdom\", \"lagos nigeria\", \"Statute Of Limitations_\", \"East London. \", \"Dubai, United Arab Emirates\", \"Head Office: United Kingdom\", \"North East Unsigned Radio\", \"eARth 3\", \"Clayton, NC\", \"Jersey Shore\", \"N. California USA\", \"Here And There\", \"www.twitch.tv/PKSparkxx\", \"the moon\", \"Lizzy's Knee\", \"Esp\\u00cc_rito Santo\", \"Lansing, Michigan\", \"Benedict College\", \" Somewhere.\", \"TechFish \", \"570 Vanderbilt; Brooklyn, NY\", \"Youngstown, OH\", \"Afghanistan\", \"Houston, TX  \", \"Spain - China - Latin America.\", \"St Joseph de Beauce\", \"Montana \", \"Peoria\", \"Hampstead, London.\", \"Wandsworth, London\", \"Some Where in this World\", \"not so cool KY\", \"whs '17\", \"Garden Grove\", \"Le Moyne '16\", \"Freeport IL. USA\", \"Eww, I'm not Paul Elam\", \"ARBAILO\", \"Melbourne-ish\", \"New Hampshire, USA\", \"Panam\\u00cc\\u00c1 \", \"taking bath do not disturb\", \"LONG ISLAND, NY\", \"Dallas, TX \", \"K\\u00cc\\u00a6ln, Nordrhein-Westfalen\", \"Cape Cod\", \"Loveland Colorado\", \"Ibadan,Oyo state\", \"Stay Fly?\", \"Bacon\", \"Bolivar, MO\", \"Malang\", \"ATX\", \"Tema,Accra\", \"St. John's, NL, Canada\", \"? miranda ? 521 mi\", \"?205?478?\", \"Avon, OH\", \"West Wales\", \"Hughes, AR\", \"Espa\\u00cc\\u00b1a - Spain - Espagne\", \"Numa casa de old yellow bricks\", \"New South Wales, Australia\", \"italy\", \"??? ???? ??????\", \"Lincoln, IL\", \"winston-salem north carolina\", \"Murray Hill, New Jersey\", \"New York. NY\", \"Kawartha Lakes, Ontario, Canad\", \"i love the smurfs 2\", \"Serva Fidem\", \"Maryland,Baltimore\", \"Port Charlotte, FL\", \"Proudly Canadian!\", \"??????????????????\", \"Antioch, CA \", \"NJ/NYC\", \"Victoria, Tx.\", \"Cochrane, Alberta, Canada\", \"  \\u00e5_ \", \"Born in Baltimore Living in PA\", \"\\u00cc\\u00cfT: 43.631838,-79.55807\", \"St Austell, Cornwall\", \"Wyoming, MI (Grand Rapids)\", \"Danbury, CT\", \"nowhere\", \"Williamstown, VT\", \"Lahar & Gwalior\", \"956\", \"Dreieich, Germany\", \"Calgary/Airdrie/RedDeer/AB\", \"Bucks County, Pa\", \"South Florida\", \"AFRICA\", \"Polmont \", \"  Melbourne, Australia\", \"in Dimitri's arms\", \"Aperture Science Test Facility\", \"Nicoma Park, OK\", \"walking the tightrope\", \"Lucknow, India\", \"L'Enfant Plaza Metro Station\", \"Oslo, Norway\", \"At your back\", \"Earth 0\", \"ava\", \"  News\", \"southern california\", \"im definitely taller than you.\", \"San Diego, Calif.\", \"Canadian bread\", \"San Juan, Puerto Rico\", \"THANJAVUR\", \"#keepthefaith J&J\", \"Searching for Bae \", \"Score Team Goals Buying @\", \"Mount Vernon, NY\", \"xiumin's nonexistent solos\", \"Vancouver, Colombie-Britannique\", \"Hinton, W.Va.\", \"Pelham, AL\", \"Isle of Man\", \"Pennsylvania, PA\", \"eBooks, North America\", \"Minneapolis/St. Paul\", \"on the web\", \"s\\u00cc\\u00a3o luis\", \"a botanical garden probably\", \"Spring Grove, IL\", \"Inside the Beltway (DC Area)\", \"Cambridge, MA\", \"BROOKLYN, NYC\", \"48.870833,2.399227\", \"Melrose\", \"Athens - Nicosia\", \"Concord, N.C.\", \"1/10 Taron squad\", \"Laguna Beach, Calif. \", \"Texas af\", \"92\", \"RSN: Tru\", \"Prehistoric Earth\", \"cereal aisle #17:i4\", \"iTunes - RSS\", \"Own planet!!\", \"under the blanket\", \"i'm a Citizen of the World\", \"Ad Majorem Dei Glorium\", \"Charleston S.C.\", \"United States where it's warm\", \"Wakefield MA\", \"Houma La\", \"The Windy City\", \"KOLKATA\", \"St. Patrick's Purgatory\", \"?????? ??? ?????? ????????\", \"??t?a\", \"London/Lagos/FL \\u00cc\\u00cfT: 6.6200132,\", \"Balikesir - Eskisehir\", \"Greater Los Angeles Bearia\", \"Thibodaux, LA\", \"Overton NV\", \"France\", \"Long Island NY & San Francisco\", \"cedar rapids ia\", \"Orange County, CA\", \"Fredericksburg, Virginia\", \"Davidson, NC\", \"Jacksonville Beach, FL\", \"Portage, IN / Worldwide\", \"Morocco\", \"MI,USA\", \"SaudI arabia - riyadh \", \"Bhopal, Madhya Pradesh, India.\", \"Cardiff, Wales\", \"17-Feb\", \"Manchester UK\", \"Freddy Fazbears pizzeria\", \"Yuuko-san's shop\", \"The barn\", \"Cypress, CA 90630\", \" ?currently writing a book?\", \"Long Beach, CA\", \"Amman, Jordan\", \"Colombo,Sri Lanka.\", \"my house\", \"#WashingtonState #Seattle\", \"Garden City, NY\", \"Peterborough, Ontario, Canada\", \"Bon Temps Louisiana\", \"Extraterrestrial Highway\", \"401 livin'\", \"Albuquerque\", \"Rheinbach / Germany\", \"Boksburg\", \"?????????????, Thailand \", \"midwest\", \"Basketball City, USA \", \"Killafornia made me \", \"South of D.C.\", \"WorldWideWeb\", \"Outside The Matrix, I Think.\", \"missouri USA\", \"Leeds\", \"Newcastle, England \", \"PURPLE BOOTH STUDIO\\u0089\\u00e3\\u00a2\", \"Harris County, Texas\", \"Cardiff, UK\", \" Bouvet Island\", \"Holland MI via Houston, CLE\", \"MA via PA\", \"Long Island\", \"Hermosa Beach, CA\", \"Kingston, Pennsylvania\", \"cork\", \"ON\", \"Cavite, Philippines\", \"Watertown, Mass.\", \"st.louis county missouri \", \"Portsmouth, VA\", \"Mountains\", \"Lowell, MA\", \"Phoenix, Arizona, USA\", \"Memphis,TN/ World Wide\", \"Hell\", \"17th Dimension\", \"Nicola Valley\", \"melbourne\", \"AEP\", \"All around the world\", \"IN\", \"State of Georgia\", \"Cape Cod, Massachusetts USA\", \"ITALY\", \"h+l\", \"Jacksonville, FL\", \"IL\", \"Pon Di Gully\", \"Enterprise, Alabama\", \"The windy plains of Denver\", \"Jackson, MS\", \"Chattanooga TN\", \"Attock\", \"Charlotte \", \"Warwick, RI @Dollarocracy also\", \"Ellensburg to Spokane\", \"Punjab\", \"//??//\", \"Downtown Oklahoma City\", \"Wonderland\\u0089\\u00db\\u00d3 ?????? ???? ??????\", \"Duval, WV 25573, USA ?\", \"Purgatory, USA\", \"The Orwellion police-state\", \"Brentwood,TN\", \"Free State, South Africa\", \"i love you zayn\", \"England, Great Britain.\", \"Atlanta, Georgia USA\", \"Thane\", \"EGYPT\", \"Sunrise Manor, NV\", \"The Desert\", \"buenos aires argentina\", \"Wisconsin, USA\", \"Dagenham, Essex\", \"876 Jamrock.\", \"Spinning through time.\", \"Washington, D.C., area\", \"ATLANTA , GEORGIA \", \"@UntmdOutdoors #T.O.R.K \", \"Frankfort, KY\", \"austin, texas\", \"Tamworth\", \"Caribbean\", \"Mackem in Bolton\", \"The Hammock, FL, USA\", \"Nashville, Tn\", \"????????????\", \"Vancouver (HQ) and worldwide\", \"828??864??803\", \"LAGOS\", \"Sheffield Township, Ohio\", \"East Kilbride\", \"Arthas US\", \"The shores of Lake Kilby\", \"Frome, Somerset, England\", \"1648 Queen St. West, Toronto.\", \"Park Ridge, Illinois\", \"Queens, NY\", \"Greenpoint, Brooklyn\", \"Pensacola, FL\", \"Football Field\", \"Espa\\u00cc\\u00b1a, Spain\", \"Dayton, Ohio\", \"Level 3 Garrison, Sector G\", \"Earth, Milky Way, Universe\", \" |IG: imaginedragoner\", \"Vermont, USA\", \"Beacon Hills\", \"Cottonwood Arizona\", \"toledo\", \"Beaumont, TX\", \"Gumptown\", \"Paris \", \"North Carolina \", \"Southern Califorina\", \"Internet\", \"Selangor\", \"Orange County, NY\", \"The Waystone Inn\", \"Fairy Tail! \", \"Alaska, USA\", \"CT, USA\", \"Brooklyn, New York\", \"Nairobi, Kenya \", \"Lexington\", \"Ted&Qz Inc, Ireland, Europe\", \" Jariana Town\", \"Manchester, The World, England\", \"Skyport de la Rosa\", \"NEWCASTLE\", \"I ACCEPT SONG REQUESTS\", \"Greenville, S.C.\", \"japon\", \"Hilton Head, SC  \", \"Slatina,Romania\", \"where I'm supposed to be\", \"London/Outlaw Country \", \"Glenview to Knoxville \", \"dublin \", \"Valle Del Sol\", \"New Jersey \", \"#MayGodHelpUS\", \"Ktx\", \"LOCAL ATLANTA NEWS 4/28/00 - 4/28/15 FREELANCER\", \"music.\", \"Cobblestone\", \"Sylacauga, Alabama\", \"WORLDWIDE-BOSTON\", \"WAISTDEEP, TX\", \"Chandler, AZ\", \"West Lancashire, UK.\", \"United Hoods of the Globe\", \"Surrey & Manchester\", \"Positive 852\", \"Tunbridge Wells\", \"Paname City\", \"Toledo, OH\", \"Hudson Valley, NY\", \"Greater Manchester, UK\", \"Pioneer Village, KY\", \"94123\", \"Republica Dominicana\", \"RhodeIsland\", \"Ljubljana, Slovenia\", \"[ kate + they/them + infp-t ]\", \"BOT ACCOUNT\", \"\\u0089\\u00db\\u00a2OlderCandyBloom\\u0089\\u00db\\u00a2\", \"somewhere outside\", \"Va Beach, Virginia\", \"Petaluma, CA\", \"Dhaka\", \"Lincoln City Oregon\", \"The Internet\", \"Frisco, TX\", \"@notoriousD12\", \"austin tx\", \"garowe puntland somalia\", \"NYC metro\", \"Bikini bottom\", \"Whippany, NJ\", \"Palm Beach County, FL\", \"NEPA/570\", \"Shelby County\", \"Marrakech M\\u00cc\\u00a9dina, Marrakech - Tensift - Al Haouz\", \"Eagle Pass, Texas\", \"NJ/NY/NM/NE/ND\", \"St. Louis, Mo\", \"Lynnfield, MA\", \"south of heaven \", \"Los Angeles, Calif.\", \"Atlanta, Ga\", \"Mogadishu, Somalia\", \"Justin and Ariana follow\", \"Danville, VA\", \"Davis, California\", \"Sacramento, California\", \"Brazil \", \"Russia\", \"Somewhere with Clyde\", \"Miami ??\", \"Gages Lake, IL\", \"Yuba City, CA\", \"52.479722, 62.184971\", \"Hendersonville, NC\", \"Yewa zone\", \"Stage with Trey Songz\", \"Alameda, CA\", \"Spring Tx\", \"Atlanta g.a.\", \"Thailand Malaysia Indonesia \", \"dope show\", \"An eight-sided polygon\", \"NY Capital District\", \"Bridport, England\", \"Weston super mare\", \"MUM-DEL\", \"Greenville\", \"?s????ss? a?????\", \"Vancouver, Canada\", \"kisumu\", \"the void, U.S.A\", \"Chicago, IL 60607\", \"M\\u00cc\\u00a9rida, Yucat\\u00cc\\u00c1n\", \"US: 44.414510,8.942499\", \"Louisville, KY\", \"Benicia, CA \", \"Huntsville AL\", \"Quilmes , Arg\", \"Lynchburg, VA\", \"San Diego, Texas.\", \"everydaynigerian@gmail.com\", \"North Dartmouth, Massachusetts\", \"Rural Northern Nevada\", \"Bronx, NY\", \"Estados Unidos\", \"nj/ny\", \"Sugarhouse, UT\", \"Traverse City, MI\", \"brisbane, australia\", \"Valparaiso \", \"Morris, IL\", \"Amsterdam\", \"D.C. - Baltimore - Annapolis\", \"BestCoast\", \"World news\", \"Henderson, NV\", \"Jerusalem!\", \"London, Kent & SE England.\", \"Quezon City, Philippines\", \"Pompano Beach, FL\", \"Pacific Northwest\", \"eritrean\", \"Ocean City, NJ\", \"Live4Heed??\", \"Top secret bunker \", \"Delhi\", \"beijing .China\", \"The P (South Philly)\", \"Harlingen, TX\", \"Narnia, Maryland\", \"Los Angles, CA\", \"San Francisco , CA\", \"instagram- Chloe_Bellx\", \"Welt\", \"Doghouse\", \"Beirut, Lebanon\", \"Nagpur\", \"Central Illinois\", \"Selena | Britney | Hilary\", \"SOUTHERN CALIFORNIA DESERT\", \"Otsego, MI\", \"Back East in PA\", \" Nxgerxa\", \"buffalo / madrid / granada\", \"Central Florida\", \"  \", \"9/1/13\", \"Fort Collins, CO\", \"prob turning up with sheen\", \"Alberta | Sask. | Montana\", \"Vista, CA\", \" Indiana\", \"shoujo hell \", \"\\u00cc\\u00cfT: 40.707762,-74.014213\", \"Hailing from Dayton \", \"University Heights, Ohio\", \"Pembroke NH\", \"Canada Eh! \", \"Temporary Towers\", \"Sheffield/Leeds\", \"#BlackLivesMatter\", \"Hawthorne, NE\", \"Van Buren, MO\", \"death star\", \"Pocatello, Idaho\", \"I-75 in Florida\", \"Ames, IA\", \"texasss\", \"USA - Canada - Europe - Asia\", \"USA, WA\", \"fujo garbage heaven \", \"Waterloo, Ont\", \"Ziam af \", \"Fukuoka, Japan\", \"Johannesburg \", \"\\u00cc\\u00cfT: 40.562796,-75.488849\", \"IN our hearts  Earth Global \", \"Eastern Iowa\", \"cody, austin follows ?*?\", \"Big NorthEast Litter Box\", \"See the barn of bleakness\", \"WORLDWIDE!\", \"Pomfret/Providence\", \"Medford, NJ\", \"Bellevue NE\", \"\\u00cc\\u00cfT: 42.910975,-78.865828\", \"Miami Beach, Fl\", \"Crayford, London\", \"turner fenton\", \"Displaced Son of TEXAS!\", \"St. Louis Mo.\", \"Zero Branco\", \"Wellington\", \"Frascati\", \"18 \\u0089\\u00db\\u00a2 CC\", \"Louisiana, USA\", \"Burlington, VT\", \"\\u00e5_\\u00e5_Los Mina City\\u0089\\u00e3\\u00a2\", \"STL ?NOLA\", \"Montgomery County, MD\", \"?^\\u00e5\\u00e1??\\u00e5\\u00e1?^?? ??\", \"Ohio\", \"10-Jul\", \"Kalamazoo, Michigan\", \"AUS\", \"518\", \"ANYWEHERE !!\", \"louisville, kentucky\", \"Penn Hills, PA\", \"statesboro/vidalia\", \"Poplar, London\", \"CLVLND\", \"??? ???? ?f glory. ?\", \"Milwaukee WI\", \"aggressive cannoli eater \", \"World Wide!!\", \"Le Memenet\", \"Harper Woods, MI\", \"Starling City\", \"Walker County, Alabama\", \"Oklahoma, USA\", \"Davao City\", \"Sunshine Coast, Queensland\", \"milky way\", \"Victorville, CA\", \"elizabeth king\", \"Austin TX\", \"NAWF SIDE POKING OUT \", \"Michigan \", \"Gloucester, MA\", \"Fort Myers, Florida\", \"In the middle of no where\", \"\\u00cc\\u00cfT: 1.50225,103.742992\", \"6\", \"Lehigh Valley, PA\", \"Wema building\", \"Bagalkote Karnataka \", \"Lancaster, CA\", \"NBO\", \"Yadkinville, NC\", \"In Your Notifications \", \"di langit 7 bidadari (^,^ )\", \"Mogadishu, New Jersey\", \"Sicamous, British Columbia\", \"heccfidmss@gmail.com\", \"El Dorado, KS\", \"2,360 miles away\", \"Port Jervis, NY\", \"Pluto\", \"Isolated City In World Perth\", \"Highland Park, CA\", \"Peru\", \"Milton Keynes, England\", \"SWinfo@dot.state.al.us\", \"We are global!\", \"Castaic, CA\", \"Multinational *****\", \"USA , AZ\", \"Cuernavaca, Morelos, M\\u00cc\\u00a9xico.\", \"SURROUNDED BY WEEABOOS\", \"Kensington, MD\", \"(he/him)\", \"Reston, VA, USA\", \"Lake Highlands\", \"Upstate New York\", \"New York - Connecticut\", \"Cairo, Egypt\", \"Novi, MI\", \"SEA Server\", \"Dundee, UK\", \"Hospital, bc of SKH vid.\", \"\\u00cc\\u00cfT: 35.223347,-80.827834\", \"Vero Beach , FL\", \"my deli\", \"Kansas\", \"USA, Haiti, Nepal\", \"Mississauga, Ontario\", \"US, PA\", \"Vidalia GA\", \"Moscow, Russia\", \"www.youtube.com?Malkavius2\", \"Riverdale, GA \", \"he/him or she/her (ask)\", \"Florida Forever\", \"Pueblo, CO\", \"Sao Paulo, Brazil\", \"Silesia, Poland\", \"dubai \", \"Reading UK\", \"-6.152261,106.775995\", \"Kwajalein/Virginia/Dayton, OH\", \"Sutton, London UK\", \"21 | PNW\", \"Timaru District, New Zealand\", \"??+ ... ??+\", \"WORLD\", \"Passamaquoddy\", \"www.facebook.com/stuntfm\", \"potters bar\", \"\\u0081\\u00cawagger!\\u00cc\\u0090ominican\\u00cc\\u00f7\", \"call me peach or sam lo\", \"Land Of The Kings\", \"Dappar (Mohali) Punjab\", \"DMV\", \"Atlantic Highlands, NJ\", \"Hampshire, UK\", \"Photo : Blue Mountains \", \"Belbroughton, England\", \"Arundel \", \"Tucson, AZ\", \"Los Angeles,CA, USA\", \"In the spirit world\", \"Methville, CA\", \"Fort Worth,  Texas \", \"Insula Barataria\", \"Bleak House\", \"Southern Maine\", \"Fresno\", \"#937??#734\", \"london / st catharines ?\", \"Torrance, CA\", \"Havenford\", \"Oneonta, NY/ Staten Island, NY\", \"Fairgrounds Resident\", \"T E X A S | wwat 8.24.14\", \"Reality\", \"Jeddah_Saudi Arabia.\", \"England \", \"The green and pleasant land.\", \"Your Sister's Bedroom\", \"sitting on the fence, New York\", \"Edinburgh, Scotland\", \"The ?? below ???\", \"In the Shadows\", \"West Midlands\", \"@potteratthedisc\", \"Wakefield, West Yorkshire\", \"#iminchina\", \"Halton Region\", \"WORDLDWIDE\", \"khanna\", \"Menasha, WI\", \"2005 |-/\", \"Tafekop Ga-Matsepe\", \"Worldwide.\", \"Funtua, Nigeria\", \"LA ??\", \"Co. Tyrone Northern Ireland\", \"Wood Buffalo, Alberta\", \"Nova Scotia, Canada\", \"3000 miles from everyone\", \"? icon by @Hashiren_3 ?\", \"Pittsburgh PA\", \"ATL, GA\", \"Nigeria, Global\", \"Pro-American and Anti-#Occupy\", \"West Africa\", \"Basking Ridge, NJ\", \"THE 6IX\", \"Sunny South florida \", \"Tama, Iowa\", \"Worcester, MA\", \"Illinois\", \"Lurking\", \"peekskill. new york, 10566 \", \"Baton Rouge\", \"Ab, Canada\", \"icon: cheese3d\", \"access to njh/5 and cth/4\", \"Charlotte, NC | K\\u00cc\\u00a6ln, NRW\", \"U.S.A.   FEMA Region 5\", \"Fountain Valley, CA\", \"swindon\", \"1313 W.Patrick St, Frederick\", \"Alabama, USA\", \"UK, Republic of Ireland and Australia\", \"VISIT MY YOUTUBE CHANNEL.\", \"Stanford University\", \"have car; will travel\", \"#EngleWood CHICAGO \", \"Warsaw\", \"Robin Hood's County \", \"College Station, TX\", \"LFC x GSW\", \"Someday I'll live in England. \", \"Travelling around the world \", \"West Palm Beach, Florida\", \"ca(NADA) \", \"Barcelona, Spain\", \"Anywhere\", \"New York, NY \", \"Fleet/Oxford, UK\", \"St Louis, MO\", \"Stalybridge, Tameside\", \"Mid West\", \"Riyadh ')\", \"Abuja,Nigeria\", \"Alberta, VA\", \"Abuja, Nigeria\", \"La Puente, CA\", \"Bronx NYC / M-City NY\", \"zboyer@washingtontimes.com\", \"Utica NY\", \"Principality of Zeron\", \"Every Where in the World\", \"Franklin, TN near Nashville\", \"Cascadia\", \"Rapid City, Black Hills, SD\", \"washington, d.c.\", \"dundalk ireland\", \"Salt Lake City, Utah\", \"SEATTLE, WA USA\", \"???????, ??'??????\", \"Giddy, Greenland\", \"JamDung\", \"Layang-Layang, Perak\", \"\\u0089\\u00db\\u00a2III.XII.MMXI\\u0089\\u00db\\u00a2\", \"Headed To The Top\", \"cuba\", \"Somecity, Somerset, MD\", \"West Coast, Cali USA\", \"come here in 20 minutes for an ass kicking\", \"New York / Worldwide\", \"Srinagar,Kashmir\", \"Amsterdam & Worldwide\", \"Washington, DC 20009\", \"San Luis Obispo, CA\", \"NYC,US - Cali, Colombia\", \"manchester, uk.\", \"'SAN ANTONIOOOOO'\", \"Wiltshire\", \"??? ?????????????\", \"Athens,Greece\", \"Amazon Seller , Propagandist\", \"Campo Grande-MS\", \"South Carolina, USA\", \"Bozeman, Montana\", \"dreamy lake\", \"WestEnd, Puritan Ave \", \"Lahore\", \"Charleston, SC\", \"D\\u00cc_sseldorf, Germany\", \"A sofa\", \"Jonesboro, AR MO, IOWA USA\", \"Saltillo, Coahuila de Zaragoza\", \"PunPunl\\u00cc\\u00a2ndia\", \"Somewhere Powerbraking A Chevy\", \"#RedSoxNation\", \"Ivano-Frankivsk\", \"On the toilet having a dump \", \"balvanera\", \"elena's bed // info on link\", \"The Wood\", \"Heinz Field \", \"518 \\u00e5\\u00e1 NY\", \"Helsinki, Finland\", \"\\u00e5\\u00a1\\u00e5\\u00a1Midwest \\u0089\\u00db\\u00a2\\u0089\\u00db\\u00a2\", \"Yulee, FL\", \"SoDak\", \"InterplanetaryZone\", \"PS4, now stop asking\", \"S\\u00cc\\u00a3o Paulo, Brasil\", \"Miami, Florida\", \"wherever-the-fuck washington\", \"Buxton, Venice, and Nottingham\", \"Tips on my blog at\", \"kansas\", \"Broadview Heights, Ohio\", \"North America\", \"USA/SO FLORIDA via BROOKLYN NY\", \"#goingdownthetoilet Illinois\", \"This Is Paradise. Relax. \", \"Espa\\u00cc\\u00b1a\", \"ACCRA GHANA\", \"Brazos Valley, Texas\", \"Somewhere Around You\", \"twitch.tv/naturalemblem26\", \"Bathtub de Bett \", \"marvel | books | hp | tmr\", \"GOT7SupportPH\", \"Cameroon\", \"Conversing In Janet's Caf\\u00cc\\u00ac\", \"Noida, NCR, India\", \"IG: AyshBanaysh\", \"Some pum pum\", \"Seattle WA\", \"norway\", \"Austin/Los Angeles\", \"Littleton, CO\", \"Wild Wild Web\", \"Tallahassee, FL\", \"The Canopy Kingdom\", \"Waterford MI\", \"Cymru araul\", \"GLOBAL/WORLDWIDE\", \"Haveli, Maharashtra\", \"Northern Kentucky, USA\", \"Swan River\", \"Pune, mostly \", \"Tyler, TX\", \"Soufside\", \"Bushkill pa\", \"san gabriel la union\", \"Palmyra, NJ\", \"Chicago,Illinois\", \"VCU\", \"EARTH \", \"Live m\\u00cc\\u00c1s\", \"israel\", \"Halifax, NS, Canada\", \"Paris, France\", \"The UK\", \"University of South Florida\", \"EastAtlanta ??#WestGeorgia'18\", \"Nevada (wishing for Colorado)\", \"Atlanta,Ga\", \"Sunbury, Ohio\", \"Neverland\", \"CA ??DC\", \"GCC\", \"nearest trash can \", \"Hollywood\", \"Lahti, Finland\", \"\\u00e5\\u00f8\\\\_(?)_/\\u00e5\\u00f8\", \"On a beach \", \"Rochester\", \"Alicante, Valencia\", \"Astley, Manchester\", \"Hamburg, DE\", \"PSA Nursing \", \"Goa, India\", \"In my studio\", \"NYC, New York\", \"PA, USA\", \"Trumann, Arkansas\", \"on the go\", \"belleville\", \"Tucson, Arizona \", \"Oshawa, Canada\", \"Fort Walton Beach, FL\", \"Orlando,FL  USA\", \"probably not home\", \"timeline kamu\", \"Lynwood, CA\", \"Wolverhampton/Brum/Jersey\", \"TV5, Philippines\", \"( ?\\u00e5\\u00a1 ?? ?\\u00e5\\u00a1), \", \"The land of New Jersey. \", \"Whitby, ON\", \"Northampton, MA\", \"nap central\", \"Magnolia\", \"Maryland \", \"Eaubonne, 95, France\", \"Americas Newsroom\", \"they/her\", \"somewhere in cali \", \"Two Up Two Down\", \"Topeka, KS\", \"Fort Smith, AR\", \"East Islip, NY\", \"Pleasanton, CA\", \"Las Vegas aka Hell\", \"Across the Atlantic\", \"Bedford IN \", \"NYC area\", \"Stay Tuned ;) \", \"5-Feb\", \"PA.USA\", \"Saudi Arabia\", \"Hamilton, Ontario CA\", \"Kenton, Ohio\", \"Skyhold\", \"261 5th Avenue New York, NY \", \"gamertag: bexrayandvav \", \"Chennai\", \"Scottsdale. AZ\", \"Jubail IC, Saudi Arabia\", \"Carregado\", \"Queens New York\", \"???? ???????\", \"I rap to burn shame.\", \"Over the Moon...\", \"Surulere Lagos,Home Of Swagg\", \"Orlando/Cocoa Beach, FL\", \"Inside your mind.\", \"Atlantic, IA\", \"Chicago - Lake Buena Vista\", \"Slappin and Smackin \", \"Lansdale,Pennsylvania\", \"Miami?Gainesville\", \"Washington, D.C. \", \"U.S.\", \"U.S\", \"Christiana,Tennessee\", \"Louavul, KY\", \"Broomfield, CO\", \"Aztec NM\", \"Philadelphia, Pennsylvania USA\", \"The Triskelion\", \"Land of Lincoln\", \"Nevada, USA\", \"LA - everywhere\", \"philly \", \"Atlanta, Georgia\", \"Plano, Texas\", \"Keighley, England\", \"The North\", \"Los Angeles... CA... USA\", \"Canada \", \"alberta, canada\", \"Tampa-St. Petersburg, FL\", \"Bangkok\", \"Bulgaria\", \"The Internetz\", \"NY, NY\", \"Bayonne, NJ\", \"M!$$!$$!PP!\", \"Wherever I'm sent\", \"Brasil, Fortaleza ce\", \"Saskatchewan, Canada\", \" Miami Beach\", \"Room 234\", \"Brooklyn\", \"South Korea GMT+9\", \"UK,singer,songwriter,?2 act\", \"Cape Town, Khayelitsha\", \"Dublin\", \"Deployed in the Middle East\", \"Warri\", \"miami\", \"M!A: None\", \"[ Blonde Bi Fry. ]\", \"mnl\", \"Washington DC / Nantes, France\", \"New York City ,NY\", \"Bangor, Co.Down\", \"The dark\", \"Winnipeg, MB, Canada\", \"Nirvana\", \"Kajang ? UiTM Puncak Alam\", \"The Internet & NYC\", \"Nanaimo, BC, Canada\", \"City of London, London\", \"Island Lake, IL\", \"Portoviejo-Manabi-Ecuador\", \"Swag Francisco\", \"Lima, OH\", \"CHICAGO\", \"i beg vines sorry \", \"jeddah | Khartoum\", \"Ames, Iowa\", \"cigarknub@gmail.com\", \"Studio\", \"Cuttack, Orissa\", \"Sharkatraz/Bindle's Cleft, PA\", \"Viterbo BFA Acting '18\", \"Pune, Maharashtra\", \"kenya\", \"No ID, No VOTE!!!\", \"m3, k, a, d\", \"Kuala Lumpur\", \"Kilkenny\", \"USAoV\", \"London / Birmingham\", \"Like us on Face \", \"BROKE NIGGAS DREAM!!\", \"Rogersville, MO\", \"middle eastern palace\", \"Bod\\u00cc\\u00fc, Norge\", \"Medford, Oregon\", \"Rapid City, South Dakota\", \"In a graveyard \", \"Calgary, Alberta, Canada\", \"Scottsdale, AZ\", \"laying on the bass\", \"In the Shadows...\", \"scumbernauld\", \"PG Chillin!\", \"West Coast, USA\", \"Up a hill\", \"Nice places \", \"Georgia, U.S.A.\", \"ECSU16\", \"Cambridge, Massachusetts, U.S.\", \"somewhere in Portugal\", \"Birdland, New Meridian, FD\", \"Predjama, Eslovenia.\", \"gaffney, sc \", \"Hame\", \"Here there and everywhere\", \"???????, Texas\", \"pittsboro\", \"Copenhagen, Capital Region of Denmark\", \"Argus Industries \\\\m/666\\\\m/\", \"New Delhi\", \"oklahoma\", \"Yeezy Taught Me , NV\", \"canberra\", \"627\", \"Wrigley Field\", \"??? ??? ????? ??? ???.\", \"on twitter\", \"watford\", \"Jaipur, India\", \"Gold Coast\", \"New Britain, CT\", \"Pekanbaru\\u00e5\\u00a1Batam Island\\u00e5\\u00a1Medan\", \"Houston |??| Corsicana\", \"cyprus\", \"\\u0089\\u00db\\u00a2901\\u0089\\u00db\\u00a2\", \"\\u00cc\\u00cfT: 19.123127,72.825133\", \"PH\", \"M\\u00cc\\u00a9xico D.F.\", \"MD\", \"Reddit\", \"#1 Vacation Destination,HAWAII\", \"Hueco Mundo\", \"Waco TX\", \"My old New England home\", \"WORLD WIDE\", \"Bremerton, WA\", \"Brackley Beach, PE, Canada\", \"Corpus - Las Vegas - Houston\", \"Lebanon, Tennessee\", \"Im Around ... Jersey\", \"#PhanTrash\", \"GrC Founder, 8,000 Subscribers\", \"Watch Those Videos -\", \"Largo, MD\", \"Wilbraham, MA\", \"Midwest City, OK\", \"Seattle native in Prescott, AZ\", \"Elmwood Park, NJ\", \"Ottawa,Ontario Canada\", \"Freeport il \", \"Henderson, Nevada\", \"HOMRA.\", \"SF Bay Area, California / Greater Phoenix, AZ\", \"Gurgaon, Haryana. \", \"Former Yugoslav Republic of Macedonia\", \"Soul Somalia/Body Montreal\", \"Sochi, KDA, RU\", \"the burrow\", \"Newcastle upon Tyne\", \"Friendswood, TX\", \"[Gia.] | #KardashianEmpire\", \"Yooooooo\", \"Warrandyte, Australia\", \"in my head\", \"Tacoma,Washington\", \"Colchester Essex \", \"Amsterdam | San Francisco\", \"St. Louis, Missouri\", \"Webster, TX\", \"You're not 19 forever   \", \"AUSTRALIA-SOUTHAFRICA-CAMBODIA\", \"Providence RI / Lisnaskea \", \"East Lansing, MI\", \"New Brunswick, NJ\", \"Birmingham, UK\", \"Las Vegas, NV USA\", \"QUEENS.\", \"Napa, CA\", \"Stratford, CT\", \"Bossland\", \"Shipwreck Cove\", \"Arlington, VA and DC\", \"Porthcawl\", \"Warm Heart Of Africa\", \"The Meadow\", \"Toronto-Citizen of Canada & US\", \"The Main \", \"Gameday\", \"Cambridge, Massachusetts\", \"DC Metro area\", \"U.S.A. - Global Members Site\", \"fl\", \"Ely, Cambridgeshire\", \"Tokyo & Osaka\", \"@protectingtitan's side.\", \"nashville, tn \", \"Miami\", \"Hogsmeade\", \"Lancaster California\", \"#ODU\", \"Akure city in ondo state \", \"Sunnyvale, CA\", \"Ciudad Aut\\u00cc_noma de Buenos Aires, Argentina\", \"Saint Paul\", \"Magnolia, Fiore \", \"sweden\", \"Between Dire and Radiant\", \"?? Made in the Philippines ??\", \"Bi\\u00cc\\u00b1an,Laguna\", \"Honolulu, Hawaii\", \"Saint Lucia\", \"WORLDWI$E \", \"los angeles\", \"Vancouver Canada\", \"rzl ?\", \"23 countries and counting!\", \"Bellville, Ohio\", \"Near Richmond, VA\", \"Manila City\", \"Yellowknife\", \"Dayton, OH\", \" Baku & Erzurum \", \"  Glasgow \", \"Philadelphia, Pennsylvania\", \"709?\", \"Netherlands\", \"Far Away From Home\", \"Essex, England\", \"#partsunknown\", \"Haarlem\", \"PG County, MD\", \"Medan,Indonesia\", \"Oblivion?\", \"Hagerstown, MD\", \"AKRON OHIO USA\", \"Harlem, NY or Chocolate City\", \" snapchat // fvck_casper \", \"Jump City\", \"Boston \\u0089\\u00db\\u00a2 Cape Cod ?\", \"Johns Creek, GA\", \"lrhcthband;four - bournemouth\", \"London \", \"Cosmic Oneness\", \"Lima, Peru\", \"a van down by the river\", \"lowestoft\", \"Made Here In Detroit \", \"Laredo, TX\", \"Charlotte, North Carolina\", \"Rockland County, NY\", \"Chamblee, Georgia\", \"Florida but I wanna be n Texas\", \"Johannesburg, South Africa \", \"Pittsburgh \", \"Madison, Wisconsin, USA\", \"Tennessee, USA\", \"Brecksville, OH\", \"BILASPUR,CHHATTISGARH,495001\", \"Vail Valley\", \"In the moment\", \"peshawar pakistan \", \"Las Cruces, NM\", \"The Multiverse\", \"Namjoon's pants\", \"Derry, 17 \", \"Houston, Texas ! \", \"right next to you\", \"Minneapolis,MN,US\", \"Elk Grove, CA, USA\", \"HI\\u0089\\u00db\\u00a2UT\\u0089\\u00db\\u00a2AS\", \"Numenor\", \"[@blackparavde is my frankie]\", \"?? Cloud Mafia ??\", \"?semekeepschanging@soyeh?\", \"Wolmers Trust School for Boys \", \"3???2???????\", \"Right here\", \"3rd Eye Chakra\", \"Somewhere between Chicago & Milwaukee\", \"denver colorado\", \"Trinity, Bailiwick of Jersey\", \"Why should you know?\", \"Cydia\", \"Camaqu\\u00cc\\u00a3/Pelotas\", \"Western New York\", \"atlanta\", \"Hickville, USA\", \"Hope Road, Jamaica \", \"3?3?7?SLOPelousas??2?2?5?\", \"Richmond, VA\", \"with Doflamingo\", \"Boston, Massachusetts\", \"18 | 509 \", \"{GoT | Modern AU | Lizz}\", \"Chester Football Club\", \"y(our) boyfriends legs \", \"Chatham, IL\", \"contactSimpleNews@gmail.com\", \"Stockton on tees Teesside UK\", \"In #Fairie, where else? ;-)\", \"Concord, NH \", \"In @4SkinChan 's arms\", \"B&B near Alton Towers\", \"lia\\u0089\\u00db\\u00a2dani\\u0089\\u00db\\u00a2laura\", \"Monterrey, M\\u00cc\\u00a9xico\", \"hertfordshire.\", \"Alameda and Pleasanton, CA\", \"Saint Marys, GA\", \"IDN\", \"dmv ?? fashion school @ KSU. \", \"Shady Pines \", \"\\u00cc\\u00cfT: -26.695807,27.837865\", \"Darlington\", \"Storybrooke / The Moors\", \"ATL ??\", \"Detroit, Michigan\", \"Visit our  dedicated website @\", \"a box\", \"seattle wa\", \"??? ?? ??????? \", \"sri lanka\", \"denmark\", \"Wilmington, DE\", \"Swindon,England \", \"wherever the $$$ at\", \"sindria\", \"Birmingham, United Kingdom\", \"Torry Alvarez love forever ? ?\", \"S\\u00cc\\u00a3o Paulo SP,  Brasil\", \"West Vancouver, B.C.\", \"At Da Laundry Mat Wit Nivea \", \"East Aurora, NY\", \"Planet of da Bathing Apes\", \"Nashua NH\", \"Mostly Wellington, NZ \", \"Chappaqua NY and Redlands CA\", \"Sugar Land, TX\", \"Making Worldwide Change Near U\", \"302???? 815\", \"Leeds, UK\", \"Dammam- KSA\", \"At Work\", \"illinois. united state \", \"us-east-1a\", \"IndiLand \", \" Quantico Marine Base, VA.\", \" 616 \\u0089\\u00db\\u00a2 Kentwood , MI \", \"Not Steven Yeun / AMC.\", \"Dalkeith, Scotland\", \"Notts\", \"Heathrow\", \"San Fransokyo\", \"emily | helen | shelley \", \"Proud @BuckMasonUSA supporter!\", \"Belfast\", \"MIchigan\", \"Aracaju - Sergipe\", \"Roanoke VA\", \"the road to success\", \"mind ya business\", \"Third rock from the Sun\", \"new york, ny\", \"too far\", \"proudly South African\", \"Lives in London\", \"Santiago de Chile\", \"The Sanctuary Network, Rome\", \"Derbyshire, United Kingdom\", \"Stowmarket\", \"Yellowknife, NT\", \"Irving , Texas\", \"Silang, Cavite / Para\\u00cc\\u00b1aque\", \"Buffalo/DC\", \"Not Los Angeles, Not New York.\", \"Loading...\", \"Kutztown, PA\", \"USA, North Dakota\", \"iPhone: 33.104393,-96.628624\", \"Spain but Opa-Locka, FL\", \"Kettering, OH\", \"sydney, australia\", \"Essex\", \"Quito, Ecuador.\", \"Kicking Horse Pass\", \"Innsmouth, Mass.\", \"21, Porto\", \"Warszawa\", \"youtube.com/channel/UCHWTLC9B4ZjUGh7yDlb55Iw\", \"Abuja\", \"Hermitage, PA\", \"Wellington, New Zealand\", \"Sale, England\", \"Royton\", \"\\u00cc\\u00cfT: 6.488400524109015,3.352798039832285\", \"South Carolina\", \"MI - CA\", \"Queensland\", \"EIU  Chucktown/LaSalle IL\", \"05/04/2014 18:23 ?\", \"Docker container\", \"Silvermoon or Ironforge\", \"Gidi\", \"Mooresville, NC\", \"CT ? NYC\", \"california | oregon | peru |\", \"July 11th, 2015. ?\", \"mainly California\", \"Mankato, MN\", \"Galveston, Texas\", \"FSC '19\", \"Jersey\", \"Catalonia, Spain\", \"| CA \\u0089\\u00db\\u00a2 GA  |\", \" New England\", \"Shanghai\", \"Caserta-Roma, Italy \", \"Augusta, Maine, 04330\", \"Albuquerque New Mexico\", \"11/4/14\", \"Oregon and Washington\", \"Ottawa, Ontario\", \"Suva, Fiji Islands.\", \"U.S. Northern Virginia\", \"Paris.\", \"Brisbane, Queensland\", \"Maryland, USA\", \"Near Yosemite\", \"Maricopa, AZ\", \"calgary,ab\", \"'soooota\", \"North Port, FL\", \"Kabul, Tuebingen, Innsbruck\", \"Merica!\", \"Speaking the Truth in Love\", \"Surry Hills, Sydney\", \"lost in history\", \"Williamsburg, VA\", \"Chicago, Il\", \"Charter Member of the VRWC\", \"Sheff/Bangor/Salamanca/Madrid\", \"10 Steps Ahead.  Cloud 9\", \"Earthling (For now!)\", \"Gander NF\", \"New York NYC\", \"home \", \"Old Blighty\", \"NYC / International\", \"Coventry, Rhode Island\", \"International\", \"Medell\\u00cc_n, Antioquia\", \"Playa del Carmen, Mexico\", \"Long Eaton \\u00e5\\u00e1 Derbyshire \\u00e5\\u00e1 UK\", \"california mermaid ? \", \"Olathe, KS\", \"England & Wales Border, UK\", \"Inside your webcam. Stop that.\", \"southwest, Tx\", \"Wales, United Kingdom\", \"Savannah, GA\", \"highlands&slands scotland\", \"london essex england uk\", \"VONT ISLAND, LAGOS\", \"New Jersey, USA\", \"International \", \"PDX\", \"The Forever Girl\", \"Edmonton, Alberta - Treaty 6\", \"Paonia, Colorado \", \"lost in my thoughts\", \"nor*cal\", \"\\u00cc\\u00f8\\u00e5\\u00c0\\u00e5_T: 40.736324,-73.990062\", \"???????????\", \"46.950109,7.439469\", \"EPTX\", \"MAURITIUS\", \"Lake Monticello, VA\", \"England.\", \"Anywhere Safe\", \"Fairfield, California\", \"Livingston, IL  U.S.A.\", \"she/her/your majesty/empress\", \"Austin | San Diego\", \"Orm\", \"Your Six\", \"Hawaii\", \"Jackson\", \"Ojodu,Lagos\", \"Hearts & Minds\", \"316\", \"Maracay y Nirgua, Venezuela\", \"Waukesha, WI\", \"Voorhees, NJ\", \"Oxford, MS\", \"#WhereverI'mAt\", \"teh internets\", \"Lindenhurst\", \"Harbour Heights, FL\", \"Wildomar, CA\", \"International Action\", \"Santiago Bernabeau\", \"Ikorodu\", \"South Central Wales\", \"#freegucci\", \"COMING SOON\", \"sisterhood\", \"Massachusetts \", \"Atmosphere\", \"505 W. Maple, Suite 100\", \"columbus ohio\", \"Riverside, CA\", \"|| c h i c a g o ||\", \"North Jersey\", \"iamdigitalent.com\", \"BKI-KUA\", \"Fife, WA\", \"Loughborough, England\", \"Lubbock, TX\", \"? Jet Life ?\", \"Konoha Village\", \"Sacae Plains\", \"Our Empire State\", \"The Sun's Corona\", \"hey Georgia\", \"Detroit, MI, United States\", \"Dorset, UK\", \"toronto, ontario\", \"TN\", \"Concord, CA\", \"Tn\", \"someplace living my life\", \"Eau Claire, Wisconsin\", \"Desert Storm?? |BCHS|\", \"global\", \"Northern California U.S.A.\", \"Hyderabad Telangana INDIA\", \"Hogwarts\", \"Daruka (near Tamworth) NSW\", \"ATL??AL??\", \"Dutch/English/German\", \"Alberta \", \"Dunwoody, GA\", \"\\u00e5_: ?? \\u00cc\\u00d1 ? : ?\", \"Turkmenistan\", \"Chicago IL\", \"Richmond Heights, OH\", \"In your head\", \" Eugene, Oregon\", \"labuan, malaysia\", \"PLFD cuh..\", \"South Pasadena, CA\", \"Durham N.C \", \"Ankara - Malatya - ad Orontem\", \"Maharashtra\", \"(a) property of the universe\", \"Chester \", \"Portsmouth, UK\", \"I'm standing behind you\", \"Winter Park, Colorado\", \"Montana, USA\", \"Somewhere\", \"District of Gentrification/ DC\", \"kediri,,jawa timur\", \"Oklahoma\", \"Ashland, Oregon\", \"Marietta, GA\", \"Carry On Jutta!!!\", \"London, Riyadh\", \"Rotterdam, The Netherlands\", \"SouthEast Asia\", \"Eagle River Alaska\", \"All Around the World\", \"\\u00cc\\u00cfT: 36.142163,-95.979189\", \"Pakistan, Islamabad\", \"N?? Y???.\", \"Nomad, USA\", \"Kyiv, Ukraine\", \"Eastbourne England\", \"UK Great Britain \", \"The Grey Area\", \"Miami,FL\", \"bangalore\", \"Dakar\", \"Mid north coast of NSW\", \"73101\", \"Clearwater, FL\", \"Livonia, MI\", \"Calgary,AB, Canada\", \"//RP\\\\ ot @Mort3mer\\\\\\\\\", \"Inglewood, CA\", \"facebook.com/tradcatknights\", \"on a catwalk somewhere\", \"Toronto, ON\", \"Toronto, Bob-Lo, Miami Beach\", \"New Jersey/ D.R.\", \"Bangkok Thailand\", \"Bay Area\", \"instagram: bribriony\", \"Riverview, FL \", \"Philadelphia, PA USA\", \"Macon, Georgia\", \"Center for Domestic Preparedness\", \"Earth: Senseless nonsense\", \"A small federal enclave\", \"Zac Newsome loves me\", \"The Web\", \"Wahpeton, ND\", \"philly\", \"KurveZ@GearHeadCentral.net\", \"bahstun/porta reeko\", \"lee london\", \"Nashville\", \"East TN.\", \"Bristol, England\", \"Est. September 2012 - Bristol\", \"(RP)\", \"Fort Valley,GA/Fayetteville,AR\", \"Emirates\", \"Grand Rapids MI\", \"Melbourne, Australia.\", \"Campinas Sp\", \"Roads/Trails Everywhere\", \"Anywhere I like\", \"Sao Paulo\", \"Twitter Lockout in progress\", \"San Jose\", \" ? ??????? ? ( ?? \\u00e5\\u00a1 ? ? ? \\u00e5\\u00a1)\", \"Groningen, Netherlands, Europe\", \"Hamilton, Ontario Canada\", \"Eagle Mountain, Texas \", \"playing soccer & eating pizza\", \"Benton City, Washington\", \"Nunya\", \"Wasington, DC\", \"Texas-USA\\u0089\\u00e3\\u00a2 ?\", \"#expelcl*y\", \"UGA '15 Alumnus - Economics \", \"Play For Ryan ??\", \"Bow, NH\", \"Houston,  TX\", \"somewhere in Indiana \", \"Garrett\", \"New York City, NY\", \"Where the money at\", \"Los Angeles, London, Kent\", \"Denton, Texas\", \"Edappally,Kochi\", \"Essex/Brighton\", \"Mpela'zwe \", \"at my home\", \"Reading MA\", \"Lethbridge, Alberta, Canada\", \"St. Louis\", \"North Highlands, CA\", \"Dorset, United Kingdom\", \"Rutherfordton, NC\", \"Xi'an, China\", \"Deadend, UK\", \"Linton Hall, VA\", \"Stateless Global Citizen\", \"Madison, WI & St. Louis MO\", \"Primum non nocere\", \"Queensland, Australia\", \"EveryWhere\", \"Redondo Beach, CA\", \"nap queen\", \"livin life in the 610\", \"North East / Middlesbrough \", \"Conroe, TX\", \"Griffin :3\", \"Itirapina, S\\u00cc\\u00a3o Paulo\", \"North-East Region, Singapore\", \"Poconos\", \"Christchurch New Zealand\", \"THE WORLD T.G.G / M.M.M \", \"Milky Way galaxy \", \" BC, US, Asia or Europe.\", \"CORNFIELDS\", \"Corpus Christi, Texas\", \"801 SL,UT\", \"Oxford, OH\", \"Rafael castillo\", \"\\u0089\\u00db\\u00a2 Views From The Six \\u0089\\u00db\\u00a2\", \"hollywoodland \", \"pettyville, usa\", \"Chapel Hill, NC\", \"Madrid, Comunidad de Madrid\", \"Guatemala\", \"Worldwide - Global\", \"My contac 27B80F7E 08170156520\", \"Phoenix Az\", \"Dalston, Hackney\", \"The Circle of Life\", \"TonyJ@Centralizedhockey.com\", \"Catskills\", \"IM LOST \", \"SD |Norway| KSA\", \"Intramuros, Manila\", \"Birmingham UK\", \"mexico\", \"Finland\", \"Tring \", \"Upper manhattan, New York\", \"Jersey - C.I\", \"Terre Haute, IN\", \"Na waffi\", \"El Paso, Texas\", \"Coconut Creek, Florida\", \"moss chamber b\", \"Mariveles, Bataan\", \"ur\\u00cc\\u00a3nus\", \"Spain\", \"Marbella. Spain\", \"Alicante, Spain\", \"Njoro, Kenya\", \"Mumbai, India\", \"Huntsville, Alabama\", \"Here, unless there.  \", \"Somewhere Out There\", \"Chicago Area\", \"Jersey City, New Jersey\", \"Dimapur\", \"Tring, UK\", \"Atlanta Georgia\", \"Peshawar\", \"Unknown \", \"State College, Pa\", \"London/Surrey \", \"CHICAGO (312)\", \"Bishops Lydeard, England\", \"Sioux Falls, SD\", \"Miami,Fla\", \"Beit El - Israel\", \"Nottingham, United Kingdom\", \" Alberta\", \"Click the link below, okay \", \"Boston/Montreal \", \"Las Vegas, NV \", \"? Philly Baby ?\", \"New York Brooklyn\", \"Wherever I'm needed\", \"WASHINGTON,DC\", \"Under Santa Barbara Skies\", \"az\", \"Bahrain\", \"Woosley\", \"Gujranwala, Pakistan\", \"Anna Maria, FL\", \"Galatians 2:20 \", \"lagos. Unilag\", \"Caracas, Venezuela.\", \"|-/\", \"Fiore, Lamia Scale\", \"Horsemind, MI\", \"University of Chicago\", \"Plano, IL\", \"travelling to tae's pants\", \"Perth, Australia\", \"Karolinska v\\u00cc_gen 18, Solna\", \"planet earth\", \"Midwestern USA\", \"From NY. In Scranton, PA\", \"I Heard #2MBikers\", \"Lakewood, Tennessee\", \"2 high 2 come down \", \"tokyo\", \"Oshawa/Toronto\", \"Kentucky, USA\", \"772 Temperance Permenence\", \"Kelowna, BC\", \"North Vancouver, BC\", \"Washington state\", \"Nebraska, Colorado & The GLOBE\", \"Zimbabwe\", \"NY, CT & Greece\", \"Jaipur, Rajasthan, India\"], \"yaxis\": \"y\"}],\n",
              "                        {\"legend\": {\"itemsizing\": \"constant\", \"tracegroupgap\": 0}, \"margin\": {\"t\": 60}, \"template\": {\"data\": {\"bar\": [{\"error_x\": {\"color\": \"#2a3f5f\"}, \"error_y\": {\"color\": \"#2a3f5f\"}, \"marker\": {\"line\": {\"color\": \"#E5ECF6\", \"width\": 0.5}}, \"type\": \"bar\"}], \"barpolar\": [{\"marker\": {\"line\": {\"color\": \"#E5ECF6\", \"width\": 0.5}}, \"type\": \"barpolar\"}], \"carpet\": [{\"aaxis\": {\"endlinecolor\": \"#2a3f5f\", \"gridcolor\": \"white\", \"linecolor\": \"white\", \"minorgridcolor\": \"white\", \"startlinecolor\": \"#2a3f5f\"}, \"baxis\": {\"endlinecolor\": \"#2a3f5f\", \"gridcolor\": \"white\", \"linecolor\": \"white\", \"minorgridcolor\": \"white\", \"startlinecolor\": \"#2a3f5f\"}, \"type\": \"carpet\"}], \"choropleth\": [{\"colorbar\": {\"outlinewidth\": 0, \"ticks\": \"\"}, \"type\": \"choropleth\"}], \"contour\": [{\"colorbar\": {\"outlinewidth\": 0, \"ticks\": \"\"}, \"colorscale\": [[0.0, \"#0d0887\"], [0.1111111111111111, \"#46039f\"], [0.2222222222222222, \"#7201a8\"], [0.3333333333333333, \"#9c179e\"], [0.4444444444444444, \"#bd3786\"], [0.5555555555555556, \"#d8576b\"], [0.6666666666666666, \"#ed7953\"], [0.7777777777777778, \"#fb9f3a\"], [0.8888888888888888, \"#fdca26\"], [1.0, \"#f0f921\"]], \"type\": \"contour\"}], \"contourcarpet\": [{\"colorbar\": {\"outlinewidth\": 0, \"ticks\": \"\"}, \"type\": \"contourcarpet\"}], \"heatmap\": [{\"colorbar\": {\"outlinewidth\": 0, \"ticks\": \"\"}, \"colorscale\": [[0.0, \"#0d0887\"], [0.1111111111111111, \"#46039f\"], [0.2222222222222222, \"#7201a8\"], [0.3333333333333333, \"#9c179e\"], [0.4444444444444444, \"#bd3786\"], [0.5555555555555556, \"#d8576b\"], [0.6666666666666666, \"#ed7953\"], [0.7777777777777778, \"#fb9f3a\"], [0.8888888888888888, \"#fdca26\"], [1.0, \"#f0f921\"]], \"type\": \"heatmap\"}], \"heatmapgl\": [{\"colorbar\": {\"outlinewidth\": 0, \"ticks\": \"\"}, \"colorscale\": [[0.0, \"#0d0887\"], [0.1111111111111111, \"#46039f\"], [0.2222222222222222, \"#7201a8\"], [0.3333333333333333, \"#9c179e\"], [0.4444444444444444, \"#bd3786\"], [0.5555555555555556, \"#d8576b\"], [0.6666666666666666, \"#ed7953\"], [0.7777777777777778, \"#fb9f3a\"], [0.8888888888888888, \"#fdca26\"], [1.0, \"#f0f921\"]], \"type\": \"heatmapgl\"}], \"histogram\": [{\"marker\": {\"colorbar\": {\"outlinewidth\": 0, \"ticks\": \"\"}}, \"type\": \"histogram\"}], \"histogram2d\": [{\"colorbar\": {\"outlinewidth\": 0, \"ticks\": \"\"}, \"colorscale\": [[0.0, \"#0d0887\"], [0.1111111111111111, \"#46039f\"], [0.2222222222222222, \"#7201a8\"], [0.3333333333333333, \"#9c179e\"], [0.4444444444444444, \"#bd3786\"], [0.5555555555555556, \"#d8576b\"], [0.6666666666666666, \"#ed7953\"], [0.7777777777777778, \"#fb9f3a\"], [0.8888888888888888, \"#fdca26\"], [1.0, \"#f0f921\"]], \"type\": \"histogram2d\"}], \"histogram2dcontour\": [{\"colorbar\": {\"outlinewidth\": 0, \"ticks\": \"\"}, \"colorscale\": [[0.0, \"#0d0887\"], [0.1111111111111111, \"#46039f\"], [0.2222222222222222, \"#7201a8\"], [0.3333333333333333, \"#9c179e\"], [0.4444444444444444, \"#bd3786\"], [0.5555555555555556, \"#d8576b\"], [0.6666666666666666, \"#ed7953\"], [0.7777777777777778, \"#fb9f3a\"], [0.8888888888888888, \"#fdca26\"], [1.0, \"#f0f921\"]], \"type\": \"histogram2dcontour\"}], \"mesh3d\": [{\"colorbar\": {\"outlinewidth\": 0, \"ticks\": \"\"}, \"type\": \"mesh3d\"}], \"parcoords\": [{\"line\": {\"colorbar\": {\"outlinewidth\": 0, \"ticks\": \"\"}}, \"type\": \"parcoords\"}], \"pie\": [{\"automargin\": true, \"type\": \"pie\"}], \"scatter\": [{\"marker\": {\"colorbar\": {\"outlinewidth\": 0, \"ticks\": \"\"}}, \"type\": \"scatter\"}], \"scatter3d\": [{\"line\": {\"colorbar\": {\"outlinewidth\": 0, \"ticks\": \"\"}}, \"marker\": {\"colorbar\": {\"outlinewidth\": 0, \"ticks\": \"\"}}, \"type\": \"scatter3d\"}], \"scattercarpet\": [{\"marker\": {\"colorbar\": {\"outlinewidth\": 0, \"ticks\": \"\"}}, \"type\": \"scattercarpet\"}], \"scattergeo\": [{\"marker\": {\"colorbar\": {\"outlinewidth\": 0, \"ticks\": \"\"}}, \"type\": \"scattergeo\"}], \"scattergl\": [{\"marker\": {\"colorbar\": {\"outlinewidth\": 0, \"ticks\": \"\"}}, \"type\": \"scattergl\"}], \"scattermapbox\": [{\"marker\": {\"colorbar\": {\"outlinewidth\": 0, \"ticks\": \"\"}}, \"type\": \"scattermapbox\"}], \"scatterpolar\": [{\"marker\": {\"colorbar\": {\"outlinewidth\": 0, \"ticks\": \"\"}}, \"type\": \"scatterpolar\"}], \"scatterpolargl\": [{\"marker\": {\"colorbar\": {\"outlinewidth\": 0, \"ticks\": \"\"}}, \"type\": \"scatterpolargl\"}], \"scatterternary\": [{\"marker\": {\"colorbar\": {\"outlinewidth\": 0, \"ticks\": \"\"}}, \"type\": \"scatterternary\"}], \"surface\": [{\"colorbar\": {\"outlinewidth\": 0, \"ticks\": \"\"}, \"colorscale\": [[0.0, \"#0d0887\"], [0.1111111111111111, \"#46039f\"], [0.2222222222222222, \"#7201a8\"], [0.3333333333333333, \"#9c179e\"], [0.4444444444444444, \"#bd3786\"], [0.5555555555555556, \"#d8576b\"], [0.6666666666666666, \"#ed7953\"], [0.7777777777777778, \"#fb9f3a\"], [0.8888888888888888, \"#fdca26\"], [1.0, \"#f0f921\"]], \"type\": \"surface\"}], \"table\": [{\"cells\": {\"fill\": {\"color\": \"#EBF0F8\"}, \"line\": {\"color\": \"white\"}}, \"header\": {\"fill\": {\"color\": \"#C8D4E3\"}, \"line\": {\"color\": \"white\"}}, \"type\": \"table\"}]}, \"layout\": {\"annotationdefaults\": {\"arrowcolor\": \"#2a3f5f\", \"arrowhead\": 0, \"arrowwidth\": 1}, \"coloraxis\": {\"colorbar\": {\"outlinewidth\": 0, \"ticks\": \"\"}}, \"colorscale\": {\"diverging\": [[0, \"#8e0152\"], [0.1, \"#c51b7d\"], [0.2, \"#de77ae\"], [0.3, \"#f1b6da\"], [0.4, \"#fde0ef\"], [0.5, \"#f7f7f7\"], [0.6, \"#e6f5d0\"], [0.7, \"#b8e186\"], [0.8, \"#7fbc41\"], [0.9, \"#4d9221\"], [1, \"#276419\"]], \"sequential\": [[0.0, \"#0d0887\"], [0.1111111111111111, \"#46039f\"], [0.2222222222222222, \"#7201a8\"], [0.3333333333333333, \"#9c179e\"], [0.4444444444444444, \"#bd3786\"], [0.5555555555555556, \"#d8576b\"], [0.6666666666666666, \"#ed7953\"], [0.7777777777777778, \"#fb9f3a\"], [0.8888888888888888, \"#fdca26\"], [1.0, \"#f0f921\"]], \"sequentialminus\": [[0.0, \"#0d0887\"], [0.1111111111111111, \"#46039f\"], [0.2222222222222222, \"#7201a8\"], [0.3333333333333333, \"#9c179e\"], [0.4444444444444444, \"#bd3786\"], [0.5555555555555556, \"#d8576b\"], [0.6666666666666666, \"#ed7953\"], [0.7777777777777778, \"#fb9f3a\"], [0.8888888888888888, \"#fdca26\"], [1.0, \"#f0f921\"]]}, \"colorway\": [\"#636efa\", \"#EF553B\", \"#00cc96\", \"#ab63fa\", \"#FFA15A\", \"#19d3f3\", \"#FF6692\", \"#B6E880\", \"#FF97FF\", \"#FECB52\"], \"font\": {\"color\": \"#2a3f5f\"}, \"geo\": {\"bgcolor\": \"white\", \"lakecolor\": \"white\", \"landcolor\": \"#E5ECF6\", \"showlakes\": true, \"showland\": true, \"subunitcolor\": \"white\"}, \"hoverlabel\": {\"align\": \"left\"}, \"hovermode\": \"closest\", \"mapbox\": {\"style\": \"light\"}, \"paper_bgcolor\": \"white\", \"plot_bgcolor\": \"#E5ECF6\", \"polar\": {\"angularaxis\": {\"gridcolor\": \"white\", \"linecolor\": \"white\", \"ticks\": \"\"}, \"bgcolor\": \"#E5ECF6\", \"radialaxis\": {\"gridcolor\": \"white\", \"linecolor\": \"white\", \"ticks\": \"\"}}, \"scene\": {\"xaxis\": {\"backgroundcolor\": \"#E5ECF6\", \"gridcolor\": \"white\", \"gridwidth\": 2, \"linecolor\": \"white\", \"showbackground\": true, \"ticks\": \"\", \"zerolinecolor\": \"white\"}, \"yaxis\": {\"backgroundcolor\": \"#E5ECF6\", \"gridcolor\": \"white\", \"gridwidth\": 2, \"linecolor\": \"white\", \"showbackground\": true, \"ticks\": \"\", \"zerolinecolor\": \"white\"}, \"zaxis\": {\"backgroundcolor\": \"#E5ECF6\", \"gridcolor\": \"white\", \"gridwidth\": 2, \"linecolor\": \"white\", \"showbackground\": true, \"ticks\": \"\", \"zerolinecolor\": \"white\"}}, \"shapedefaults\": {\"line\": {\"color\": \"#2a3f5f\"}}, \"ternary\": {\"aaxis\": {\"gridcolor\": \"white\", \"linecolor\": \"white\", \"ticks\": \"\"}, \"baxis\": {\"gridcolor\": \"white\", \"linecolor\": \"white\", \"ticks\": \"\"}, \"bgcolor\": \"#E5ECF6\", \"caxis\": {\"gridcolor\": \"white\", \"linecolor\": \"white\", \"ticks\": \"\"}}, \"title\": {\"x\": 0.05}, \"xaxis\": {\"automargin\": true, \"gridcolor\": \"white\", \"linecolor\": \"white\", \"ticks\": \"\", \"title\": {\"standoff\": 15}, \"zerolinecolor\": \"white\", \"zerolinewidth\": 2}, \"yaxis\": {\"automargin\": true, \"gridcolor\": \"white\", \"linecolor\": \"white\", \"ticks\": \"\", \"title\": {\"standoff\": 15}, \"zerolinecolor\": \"white\", \"zerolinewidth\": 2}}}, \"xaxis\": {\"anchor\": \"y\", \"domain\": [0.0, 1.0], \"title\": {\"text\": \"x\"}}, \"yaxis\": {\"anchor\": \"x\", \"domain\": [0.0, 1.0], \"title\": {\"text\": \"y\"}}},\n",
              "                        {\"responsive\": true}\n",
              "                    ).then(function(){\n",
              "                            \n",
              "var gd = document.getElementById('b54cb36f-1851-495b-b9ba-016dec55d405');\n",
              "var x = new MutationObserver(function (mutations, observer) {{\n",
              "        var display = window.getComputedStyle(gd).display;\n",
              "        if (!display || display === 'none') {{\n",
              "            console.log([gd, 'removed!']);\n",
              "            Plotly.purge(gd);\n",
              "            observer.disconnect();\n",
              "        }}\n",
              "}});\n",
              "\n",
              "// Listen for the removal of the full notebook cells\n",
              "var notebookContainer = gd.closest('#notebook-container');\n",
              "if (notebookContainer) {{\n",
              "    x.observe(notebookContainer, {childList: true});\n",
              "}}\n",
              "\n",
              "// Listen for the clearing of the current output cell\n",
              "var outputEl = gd.closest('.output');\n",
              "if (outputEl) {{\n",
              "    x.observe(outputEl, {childList: true});\n",
              "}}\n",
              "\n",
              "                        })\n",
              "                };\n",
              "                \n",
              "            </script>\n",
              "        </div>\n",
              "</body>\n",
              "</html>"
            ]
          },
          "metadata": {
            "tags": []
          }
        }
      ]
    },
    {
      "cell_type": "markdown",
      "metadata": {
        "id": "E7NeNwoMGem2"
      },
      "source": [
        "### Exploring the 'location' column\n",
        "\n",
        "Even though the column 'location' has lots of missing values, let's check the top 20 locations present in the dataset. Since some of the locations are duplicated, lets clean the duplicate locations and plot them."
      ]
    },
    {
      "cell_type": "code",
      "metadata": {
        "id": "21VOr-XQGem3",
        "outputId": "2cddd261-b83f-4a45-c7a4-bd6e2a66bbaf",
        "colab": {
          "base_uri": "https://localhost:8080/",
          "height": 0
        }
      },
      "source": [
        "# Replacing the ambigious locations name with standard names and create a dictionary object\n",
        "\n",
        "loc_dict={'United States':'USA','New York':'USA',\"London\":'UK',\"Los Angeles, CA\":'USA',\"Washington, D.C.\":'USA',\n",
        "          \"California\":'USA',\"Chicago, IL\":'USA',\"Chicago\":'USA',\"New York, NY\":'USA',\"California, USA\":'USA',\n",
        "          \"FLorida\":'USA',\"Nigeria\":'Africa',\"Kenya\":'Africa',\"Everywhere\":'Worldwide',\"San Francisco\":'USA',\n",
        "          \"Florida\":'USA',\"United Kingdom\":'UK',\"Los Angeles\":'USA',\"Toronto\":'Canada',\"San Francisco, CA\":'USA',\n",
        "          \"NYC\":'USA',\"Seattle\":'USA',\"Earth\":'Worldwide',\"Ireland\":'UK',\"London, England\":'UK',\"New York City\":'USA',\n",
        "          \"Texas\":'USA',\"London, UK\":'UK',\"Atlanta, GA\":'USA',\"Mumbai\":\"India\"}\n",
        "\n",
        "train_df['location'].replace(loc_dict,inplace=True)\n",
        "\n",
        "#Create barchart for top 10 locations using seaborn\n",
        "sns.barplot(y=train_df['location'].value_counts()[:10].index,x=train_df['location'].value_counts()[:10],\n",
        "            orient='h');"
      ],
      "execution_count": 145,
      "outputs": [
        {
          "output_type": "display_data",
          "data": {
            "image/png": "[encoded data removed]",
            "text/plain": [
              "<Figure size 432x288 with 1 Axes>"
            ]
          },
          "metadata": {
            "tags": [],
            "needs_background": "light"
          }
        }
      ]
    },
    {
      "cell_type": "markdown",
      "metadata": {
        "id": "xjvNanSSGem5"
      },
      "source": [
        "It doesn't seem that `location` feature has any value in our analysis and could be dropped from the dataframe."
      ]
    },
    {
      "cell_type": "code",
      "metadata": {
        "id": "1DfnRVzuGem5"
      },
      "source": [
        "# Drop the column 'location' from the training dataset\n",
        "train_df=train_df.drop(['location'],axis=1)"
      ],
      "execution_count": 146,
      "outputs": []
    },
    {
      "cell_type": "markdown",
      "metadata": {
        "id": "k8q1NdomGem8"
      },
      "source": [
        "Lets further analyize the `text` feature and if there is any correlation between `text` and length of the tweets itself."
      ]
    },
    {
      "cell_type": "code",
      "metadata": {
        "id": "R_YHkjECGem9",
        "outputId": "49cb7492-b014-4c0c-ace6-de69c9f7073e",
        "colab": {
          "base_uri": "https://localhost:8080/",
          "height": 0
        }
      },
      "source": [
        "# Lets find the length of the 'text' for each row and add a new cloumn to train dataframe \n",
        "train_df['text_length'] = train_df['text'].apply(lambda x : len(x))\n",
        "train_df.head(4)"
      ],
      "execution_count": 147,
      "outputs": [
        {
          "output_type": "execute_result",
          "data": {
            "text/html": [
              "<div>\n",
              "<style scoped>\n",
              "    .dataframe tbody tr th:only-of-type {\n",
              "        vertical-align: middle;\n",
              "    }\n",
              "\n",
              "    .dataframe tbody tr th {\n",
              "        vertical-align: top;\n",
              "    }\n",
              "\n",
              "    .dataframe thead th {\n",
              "        text-align: right;\n",
              "    }\n",
              "</style>\n",
              "<table border=\"1\" class=\"dataframe\">\n",
              "  <thead>\n",
              "    <tr style=\"text-align: right;\">\n",
              "      <th></th>\n",
              "      <th>id</th>\n",
              "      <th>keyword</th>\n",
              "      <th>text</th>\n",
              "      <th>target</th>\n",
              "      <th>text_length</th>\n",
              "    </tr>\n",
              "  </thead>\n",
              "  <tbody>\n",
              "    <tr>\n",
              "      <th>0</th>\n",
              "      <td>1</td>\n",
              "      <td>NaN</td>\n",
              "      <td>Our Deeds are the Reason of this #earthquake M...</td>\n",
              "      <td>1</td>\n",
              "      <td>69</td>\n",
              "    </tr>\n",
              "    <tr>\n",
              "      <th>1</th>\n",
              "      <td>4</td>\n",
              "      <td>NaN</td>\n",
              "      <td>Forest fire near La Ronge Sask. Canada</td>\n",
              "      <td>1</td>\n",
              "      <td>38</td>\n",
              "    </tr>\n",
              "    <tr>\n",
              "      <th>2</th>\n",
              "      <td>5</td>\n",
              "      <td>NaN</td>\n",
              "      <td>All residents asked to 'shelter in place' are ...</td>\n",
              "      <td>1</td>\n",
              "      <td>133</td>\n",
              "    </tr>\n",
              "    <tr>\n",
              "      <th>3</th>\n",
              "      <td>6</td>\n",
              "      <td>NaN</td>\n",
              "      <td>13,000 people receive #wildfires evacuation or...</td>\n",
              "      <td>1</td>\n",
              "      <td>65</td>\n",
              "    </tr>\n",
              "  </tbody>\n",
              "</table>\n",
              "</div>"
            ],
            "text/plain": [
              "   id keyword  ... target  text_length\n",
              "0   1     NaN  ...      1           69\n",
              "1   4     NaN  ...      1           38\n",
              "2   5     NaN  ...      1          133\n",
              "3   6     NaN  ...      1           65\n",
              "\n",
              "[4 rows x 5 columns]"
            ]
          },
          "metadata": {
            "tags": []
          },
          "execution_count": 147
        }
      ]
    },
    {
      "cell_type": "code",
      "metadata": {
        "id": "to6K9iFhGenA",
        "outputId": "49ab7505-1c93-410e-9600-a05f23f46330",
        "colab": {
          "base_uri": "https://localhost:8080/",
          "height": 0
        }
      },
      "source": [
        "train_df.text_length.describe()"
      ],
      "execution_count": 148,
      "outputs": [
        {
          "output_type": "execute_result",
          "data": {
            "text/plain": [
              "count    7613.000000\n",
              "mean      101.037436\n",
              "std        33.781325\n",
              "min         7.000000\n",
              "25%        78.000000\n",
              "50%       107.000000\n",
              "75%       133.000000\n",
              "max       157.000000\n",
              "Name: text_length, dtype: float64"
            ]
          },
          "metadata": {
            "tags": []
          },
          "execution_count": 148
        }
      ]
    },
    {
      "cell_type": "code",
      "metadata": {
        "id": "fJOzvcOdGenC",
        "outputId": "97ca1f41-4f6e-47b5-94db-3f130ab49505",
        "colab": {
          "base_uri": "https://localhost:8080/",
          "height": 0
        }
      },
      "source": [
        "#Create distribution chart to visualize text length distribution\n",
        "ax=sns.distplot(train_df['text_length']).set_title('Distribution of the tweet lengths');\n",
        "plt.grid(True)"
      ],
      "execution_count": 149,
      "outputs": [
        {
          "output_type": "display_data",
          "data": {
            "image/png": "[encoded data removed]",
            "text/plain": [
              "<Figure size 432x288 with 1 Axes>"
            ]
          },
          "metadata": {
            "tags": [],
            "needs_background": "light"
          }
        }
      ]
    },
    {
      "cell_type": "code",
      "metadata": {
        "id": "tSjYqrPzGenE",
        "outputId": "698250de-1372-45ec-f3d8-ead615b6b341",
        "colab": {
          "base_uri": "https://localhost:8080/",
          "height": 0
        }
      },
      "source": [
        "#Create visualization of the distribution of text length in comparision to target feature\n",
        "f, (ax1, ax2) = plt.subplots(1, 2, sharex=True,figsize=(10,6))\n",
        "sns.distplot(train_df[(train_df['target'] == 1)]['text_length'], ax=ax1, kde=False, color='green',label='Disater Tweets')\n",
        "sns.distplot(train_df[(train_df['target'] == 0)]['text_length'],ax=ax2, kde=False, color='red',label='Non-Disater Tweets');\n",
        "f.suptitle('Tweet length distribution')\n",
        "f.legend(loc='upper right')\n",
        "ax1.grid()\n",
        "ax2.grid()\n",
        "plt.show()"
      ],
      "execution_count": 150,
      "outputs": [
        {
          "output_type": "display_data",
          "data": {
            "image/png": "[encoded data removed]",
            "text/plain": [
              "<Figure size 720x432 with 2 Axes>"
            ]
          },
          "metadata": {
            "tags": [],
            "needs_background": "light"
          }
        }
      ]
    },
    {
      "cell_type": "markdown",
      "metadata": {
        "id": "r7L28p8FGenG"
      },
      "source": [
        "The distribution of both kind of tweets seems to be almost same.About 120 to 140 characters in a tweet are the most common among both."
      ]
    },
    {
      "cell_type": "code",
      "metadata": {
        "id": "x2Jvbmh4GenG",
        "outputId": "eb620759-af6d-4edb-d483-0d923c74019a",
        "colab": {
          "base_uri": "https://localhost:8080/",
          "height": 0
        }
      },
      "source": [
        "#Create visualization of the distribution of the word counts in comparision to target feature\n",
        "fig,(ax1,ax2)=plt.subplots(1,2,figsize=(10,5))\n",
        "dis_tweet=train_df[train_df['target']==1]['text'].str.split().map(lambda x: len(x))\n",
        "ax1.hist(dis_tweet,color='blue')\n",
        "ax1.set_title('Disaster tweets')\n",
        "ax1.grid()\n",
        "nondis_tweet=train_df[train_df['target']==0]['text'].str.split().map(lambda x: len(x))\n",
        "ax2.hist(nondis_tweet,color='red')\n",
        "ax2.set_title('Non-disaster tweets')\n",
        "ax2.grid()\n",
        "fig.suptitle('Words in a tweet')\n",
        "plt.show()"
      ],
      "execution_count": 151,
      "outputs": [
        {
          "output_type": "display_data",
          "data": {
            "image/png": "[encoded data removed]",
            "text/plain": [
              "<Figure size 720x360 with 2 Axes>"
            ]
          },
          "metadata": {
            "tags": [],
            "needs_background": "light"
          }
        }
      ]
    },
    {
      "cell_type": "markdown",
      "metadata": {
        "id": "Tv4glIFWGenI"
      },
      "source": [
        "### Exploring the Target Column\n",
        "\n",
        "- Distribution of the Target Column-\n",
        "   - We have to predict whether a given tweet is about a real disaster or not.\n",
        "   - If real disaster, predict a `1`. If not, predict a `0`.\n",
        "- Exploring the Target Column- Let's look at what the disaster and the non disaster tweets look like."
      ]
    },
    {
      "cell_type": "code",
      "metadata": {
        "id": "OBK7QDjMGenJ",
        "outputId": "10c0eab9-d2d4-4866-9024-8545abd056a8",
        "colab": {
          "base_uri": "https://localhost:8080/",
          "height": 0
        }
      },
      "source": [
        "# A disaster tweet exmaple\n",
        "train_df[train_df['target']==1]['text'][10:20]"
      ],
      "execution_count": 152,
      "outputs": [
        {
          "output_type": "execute_result",
          "data": {
            "text/plain": [
              "10          Three people died from the heat wave so far\n",
              "11    Haha South Tampa is getting flooded hah- WAIT ...\n",
              "12    #raining #flooding #Florida #TampaBay #Tampa 1...\n",
              "13              #Flood in Bago Myanmar #We arrived Bago\n",
              "14    Damage to school bus on 80 in multi car crash ...\n",
              "31    @bbcmtd Wholesale Markets ablaze http://t.co/l...\n",
              "33    #AFRICANBAZE: Breaking news:Nigeria flag set a...\n",
              "37    INEC Office in Abia Set Ablaze - http://t.co/3...\n",
              "38    Barbados #Bridgetown JAMAICA ÛÒ Two cars set ...\n",
              "46    How the West was burned: Thousands of wildfire...\n",
              "Name: text, dtype: object"
            ]
          },
          "metadata": {
            "tags": []
          },
          "execution_count": 152
        }
      ]
    },
    {
      "cell_type": "code",
      "metadata": {
        "id": "L1JMtuvMGenL",
        "outputId": "dbcb96c1-0ac8-4b1e-b61d-5f5c9a3095d1",
        "colab": {
          "base_uri": "https://localhost:8080/",
          "height": 0
        }
      },
      "source": [
        "#A non-disaster tweet example\n",
        "train_df[train_df['target']==0]['text'][10:20]"
      ],
      "execution_count": 153,
      "outputs": [
        {
          "output_type": "execute_result",
          "data": {
            "text/plain": [
              "25                       No way...I can't eat that shit\n",
              "26                                Was in NYC last week!\n",
              "27                                   Love my girlfriend\n",
              "28                                            Cooool :)\n",
              "29                                   Do you like pasta?\n",
              "30                                             The end!\n",
              "32    We always try to bring the heavy. #metal #RT h...\n",
              "34                   Crying out for more! Set me ablaze\n",
              "35    On plus side LOOK AT THE SKY LAST NIGHT IT WAS...\n",
              "36    @PhDSquares #mufc they've built so much hype a...\n",
              "Name: text, dtype: object"
            ]
          },
          "metadata": {
            "tags": []
          },
          "execution_count": 153
        }
      ]
    },
    {
      "cell_type": "markdown",
      "metadata": {
        "id": "4Vg1c7itGenN"
      },
      "source": [
        "# 2. Data Preprocessing"
      ]
    },
    {
      "cell_type": "markdown",
      "metadata": {
        "id": "OVW0TItuGenO"
      },
      "source": [
        "### Data Cleaning\n",
        "\n",
        "Before starting any NLP project, text data needs to be pre-processed to convert it into in a consistent format.Text will be cleaned, tokneized and converted into a matrix.\n",
        "\n",
        "Some of the basic text pre-processing techniques includes:\n",
        "### Make text all lower or uppercase\n",
        "Algorithms does not treat the same word different in different cases.\n",
        "### Removing Noise\n",
        "Everything in the text that isn’t a standard number or letter i.e. Punctuation, Numerical values,etc.\n",
        "###  Tokenization\n",
        "Tokenization is just the term used to describe the process of converting the normal text strings into a list of tokens i.e. words.Sentence tokenizer can be used to find the list of sentences and Word tokenizer can be used to find the list of words in strings.\n",
        "### Stopword Removal\n",
        "Sometimes, some extremely common words which would appear to be of little value in helping select documents matching a user need are excluded from the vocabulary entirely. These words are called stop words\n",
        "\n",
        "### Stemming\n",
        "Stemming is the process of reducing inflected (or sometimes derived) words to their stem, base or root form — generally a written word form. Example if we were to stem the following words: “Stems”, “Stemming”, “Stemmed”, “and Stemtization”, the result would be a single word “stem”.\n",
        "### Lemmatization\n",
        "A slight variant of stemming is lemmatization. The major difference between these is, that, stemming can often create non-existent words, whereas lemmas are actual words. So, your root stem, meaning the word you end up with, is not something you can just look up in a dictionary, but you can look up a lemma. Examples of Lemmatization are that “run” is a base form for words like “running” or “ran” or that the word “better” and “good” are in the same lemma so they are considered the same."
      ]
    },
    {
      "cell_type": "code",
      "metadata": {
        "id": "CUlD_ut1GenO",
        "outputId": "741304ce-9ee0-416c-eefd-153a310e390a",
        "colab": {
          "base_uri": "https://localhost:8080/",
          "height": 0
        }
      },
      "source": [
        "#Lets have a quick look of the text data\n",
        "train_df['text'][:5]"
      ],
      "execution_count": 154,
      "outputs": [
        {
          "output_type": "execute_result",
          "data": {
            "text/plain": [
              "0    Our Deeds are the Reason of this #earthquake M...\n",
              "1               Forest fire near La Ronge Sask. Canada\n",
              "2    All residents asked to 'shelter in place' are ...\n",
              "3    13,000 people receive #wildfires evacuation or...\n",
              "4    Just got sent this photo from Ruby #Alaska as ...\n",
              "Name: text, dtype: object"
            ]
          },
          "metadata": {
            "tags": []
          },
          "execution_count": 154
        }
      ]
    },
    {
      "cell_type": "code",
      "metadata": {
        "id": "I2f7Yvv5GenR"
      },
      "source": [
        "# Create a function to clean the text\n",
        "\n",
        "def clean_text(text):\n",
        "\n",
        "    '''\n",
        "    Input- 'text' to be cleaned\n",
        "       \n",
        "       Output- Convert input 'text' to lowercase,remove square brackets,links,punctuation\n",
        "       and words containing numbers. Return clean text.\n",
        "    \n",
        "    '''\n",
        "    text = text.lower()\n",
        "    text = re.sub('\\[.*?\\]', '', text)\n",
        "    text = re.sub('https?://\\S+|www\\.\\S+', '', text)\n",
        "    text = re.sub('<.*?>+', '', text)\n",
        "    text = re.sub('[%s]' % re.escape(string.punctuation), '', text)\n",
        "    text = re.sub('\\n', '', text)\n",
        "    text = re.sub('\\w*\\d\\w*', '', text)\n",
        "    return text"
      ],
      "execution_count": 155,
      "outputs": []
    },
    {
      "cell_type": "code",
      "metadata": {
        "id": "t4Xy3SB3GenT"
      },
      "source": [
        "# Lets apply the clean_text function to both test and training datasets copies\n",
        "train_df1=train_df.copy()\n",
        "test_df1=test_df.copy()\n",
        "train_df1['text'] = train_df1['text'].apply(lambda x: clean_text(x))\n",
        "test_df1['text'] = test_df1['text'].apply(lambda x: clean_text(x))"
      ],
      "execution_count": 156,
      "outputs": []
    },
    {
      "cell_type": "code",
      "metadata": {
        "id": "GhX4l3YTkotJ",
        "outputId": "314691f2-4e15-459d-8999-fb9435e64706",
        "colab": {
          "base_uri": "https://localhost:8080/",
          "height": 0
        }
      },
      "source": [
        "train_df1['text'][:5]"
      ],
      "execution_count": 157,
      "outputs": [
        {
          "output_type": "execute_result",
          "data": {
            "text/plain": [
              "0    our deeds are the reason of this earthquake ma...\n",
              "1                forest fire near la ronge sask canada\n",
              "2    all residents asked to shelter in place are be...\n",
              "3     people receive wildfires evacuation orders in...\n",
              "4    just got sent this photo from ruby alaska as s...\n",
              "Name: text, dtype: object"
            ]
          },
          "metadata": {
            "tags": []
          },
          "execution_count": 157
        }
      ]
    },
    {
      "cell_type": "code",
      "metadata": {
        "id": "jecLk_0SGenV"
      },
      "source": [
        "#Lets look cleaned text data\n",
        "def text_after_preprocess(before_text,after_text):\n",
        "    \n",
        "    '''\n",
        "    Input- before_text=text column before cleanup\n",
        "              after_text= text column after cleanup\n",
        "       Output- print before and after text to compare how it looks after cleanup\n",
        "       \n",
        "    '''\n",
        "    print('-'*60)\n",
        "    print('Text before cleanup')\n",
        "    print('-'*60)\n",
        "    print(before_text.head(5))\n",
        "    print('-'*60)\n",
        "    print('Text after cleanup')\n",
        "    print('-'*60)\n",
        "    print(after_text.head(5))"
      ],
      "execution_count": 158,
      "outputs": []
    },
    {
      "cell_type": "code",
      "metadata": {
        "id": "JITjpv--GenX",
        "outputId": "079237bb-f908-49a1-ee8b-30b963df25b3",
        "colab": {
          "base_uri": "https://localhost:8080/",
          "height": 0
        }
      },
      "source": [
        "text_after_preprocess(train_df.text,train_df1.text)"
      ],
      "execution_count": 159,
      "outputs": [
        {
          "output_type": "stream",
          "text": [
            "------------------------------------------------------------\n",
            "Text before cleanup\n",
            "------------------------------------------------------------\n",
            "0    Our Deeds are the Reason of this #earthquake M...\n",
            "1               Forest fire near La Ronge Sask. Canada\n",
            "2    All residents asked to 'shelter in place' are ...\n",
            "3    13,000 people receive #wildfires evacuation or...\n",
            "4    Just got sent this photo from Ruby #Alaska as ...\n",
            "Name: text, dtype: object\n",
            "------------------------------------------------------------\n",
            "Text after cleanup\n",
            "------------------------------------------------------------\n",
            "0    our deeds are the reason of this earthquake ma...\n",
            "1                forest fire near la ronge sask canada\n",
            "2    all residents asked to shelter in place are be...\n",
            "3     people receive wildfires evacuation orders in...\n",
            "4    just got sent this photo from ruby alaska as s...\n",
            "Name: text, dtype: object\n"
          ],
          "name": "stdout"
        }
      ]
    },
    {
      "cell_type": "code",
      "metadata": {
        "id": "Xc7Xp983GenZ",
        "outputId": "23b1bdcf-602a-41da-89ef-e523c48673dc",
        "colab": {
          "base_uri": "https://localhost:8080/",
          "height": 0
        }
      },
      "source": [
        "text_after_preprocess(test_df.text,test_df1.text)"
      ],
      "execution_count": 160,
      "outputs": [
        {
          "output_type": "stream",
          "text": [
            "------------------------------------------------------------\n",
            "Text before cleanup\n",
            "------------------------------------------------------------\n",
            "0                   Just happened a terrible car crash\n",
            "1    Heard about #earthquake is different cities, s...\n",
            "2    there is a forest fire at spot pond, geese are...\n",
            "3             Apocalypse lighting. #Spokane #wildfires\n",
            "4        Typhoon Soudelor kills 28 in China and Taiwan\n",
            "Name: text, dtype: object\n",
            "------------------------------------------------------------\n",
            "Text after cleanup\n",
            "------------------------------------------------------------\n",
            "0                   just happened a terrible car crash\n",
            "1    heard about earthquake is different cities sta...\n",
            "2    there is a forest fire at spot pond geese are ...\n",
            "3                apocalypse lighting spokane wildfires\n",
            "4          typhoon soudelor kills  in china and taiwan\n",
            "Name: text, dtype: object\n"
          ],
          "name": "stdout"
        }
      ]
    },
    {
      "cell_type": "code",
      "metadata": {
        "id": "9vr7oc0EGenc",
        "outputId": "cccf4c21-02ec-410d-d7e1-080396a87966",
        "colab": {
          "base_uri": "https://localhost:8080/",
          "height": 0
        }
      },
      "source": [
        "test_df.text[1]"
      ],
      "execution_count": 161,
      "outputs": [
        {
          "output_type": "execute_result",
          "data": {
            "application/vnd.google.colaboratory.intrinsic+json": {
              "type": "string"
            },
            "text/plain": [
              "'Heard about #earthquake is different cities, stay safe everyone.'"
            ]
          },
          "metadata": {
            "tags": []
          },
          "execution_count": 161
        }
      ]
    },
    {
      "cell_type": "markdown",
      "metadata": {
        "id": "N565rdbFGene"
      },
      "source": [
        "### Tokenization\n",
        "Tokenization is a process which splits an input text into tokens and the tokens can be a word, sentence, paragraph etc.\n",
        "\n",
        "Following code will show how tokenization of text works:"
      ]
    },
    {
      "cell_type": "code",
      "metadata": {
        "id": "9_ELvCk1Genf",
        "outputId": "f9d515f4-5233-484d-e8eb-5eb7a0d26fc9",
        "colab": {
          "base_uri": "https://localhost:8080/",
          "height": 0
        }
      },
      "source": [
        "# Example how tokenization of text works\n",
        "text = \"Heard about #earthquake is different cities, stay safe everyone.\"\n",
        "tokenizer1 = nltk.tokenize.WhitespaceTokenizer()\n",
        "tokenizer2 = nltk.tokenize.TreebankWordTokenizer()\n",
        "tokenizer3 = nltk.tokenize.WordPunctTokenizer()\n",
        "tokenizer4 = nltk.tokenize.RegexpTokenizer(r'\\w+')\n",
        "print(\"-\"*100)\n",
        "print(\"Example Text: \",text)\n",
        "print(\"-\"*100)\n",
        "print(\"Tokenization by whitespace:- \",tokenizer1.tokenize(text))\n",
        "print(\"Tokenization by words using Treebank Word Tokenizer:- \",tokenizer2.tokenize(text))\n",
        "print(\"Tokenization by punctuation:- \",tokenizer3.tokenize(text))\n",
        "print(\"Tokenization by regular expression:- \",tokenizer4.tokenize(text))"
      ],
      "execution_count": 162,
      "outputs": [
        {
          "output_type": "stream",
          "text": [
            "----------------------------------------------------------------------------------------------------\n",
            "Example Text:  Heard about #earthquake is different cities, stay safe everyone.\n",
            "----------------------------------------------------------------------------------------------------\n",
            "Tokenization by whitespace:-  ['Heard', 'about', '#earthquake', 'is', 'different', 'cities,', 'stay', 'safe', 'everyone.']\n",
            "Tokenization by words using Treebank Word Tokenizer:-  ['Heard', 'about', '#', 'earthquake', 'is', 'different', 'cities', ',', 'stay', 'safe', 'everyone', '.']\n",
            "Tokenization by punctuation:-  ['Heard', 'about', '#', 'earthquake', 'is', 'different', 'cities', ',', 'stay', 'safe', 'everyone', '.']\n",
            "Tokenization by regular expression:-  ['Heard', 'about', 'earthquake', 'is', 'different', 'cities', 'stay', 'safe', 'everyone']\n"
          ],
          "name": "stdout"
        }
      ]
    },
    {
      "cell_type": "code",
      "metadata": {
        "id": "SjArD3p-Genh"
      },
      "source": [
        "# Lets Tokenize the training and the test dataset copies with RegEx tokenizer\n",
        "tokenizer = nltk.tokenize.RegexpTokenizer(r'\\w+')\n",
        "train_df1['text'] = train_df1['text'].apply(lambda x: tokenizer.tokenize(x))\n",
        "test_df1['text'] = test_df1['text'].apply(lambda x: tokenizer.tokenize(x))"
      ],
      "execution_count": 163,
      "outputs": []
    },
    {
      "cell_type": "code",
      "metadata": {
        "id": "jAYzdnvDGenj",
        "outputId": "116d10c8-499b-4cc0-ef4f-1d3768325728",
        "colab": {
          "base_uri": "https://localhost:8080/",
          "height": 0
        }
      },
      "source": [
        "#Lets checy tokenized text\n",
        "train_df1['text'].head()"
      ],
      "execution_count": 164,
      "outputs": [
        {
          "output_type": "execute_result",
          "data": {
            "text/plain": [
              "0    [our, deeds, are, the, reason, of, this, earth...\n",
              "1        [forest, fire, near, la, ronge, sask, canada]\n",
              "2    [all, residents, asked, to, shelter, in, place...\n",
              "3    [people, receive, wildfires, evacuation, order...\n",
              "4    [just, got, sent, this, photo, from, ruby, ala...\n",
              "Name: text, dtype: object"
            ]
          },
          "metadata": {
            "tags": []
          },
          "execution_count": 164
        }
      ]
    },
    {
      "cell_type": "code",
      "metadata": {
        "id": "0deNDQpiGenl",
        "outputId": "1b53b608-99dc-4f5e-d35f-0e1c8d9ea289",
        "colab": {
          "base_uri": "https://localhost:8080/",
          "height": 0
        }
      },
      "source": [
        "test_df1['text'].head()"
      ],
      "execution_count": 165,
      "outputs": [
        {
          "output_type": "execute_result",
          "data": {
            "text/plain": [
              "0            [just, happened, a, terrible, car, crash]\n",
              "1    [heard, about, earthquake, is, different, citi...\n",
              "2    [there, is, a, forest, fire, at, spot, pond, g...\n",
              "3           [apocalypse, lighting, spokane, wildfires]\n",
              "4    [typhoon, soudelor, kills, in, china, and, tai...\n",
              "Name: text, dtype: object"
            ]
          },
          "metadata": {
            "tags": []
          },
          "execution_count": 165
        }
      ]
    },
    {
      "cell_type": "markdown",
      "metadata": {
        "id": "bAlw79dqGenn"
      },
      "source": [
        "### Stopwords Removal\n",
        "\n",
        "Now, let's get rid of the stopwords i.e words which occur very frequently and have possible value like a, an, the, are etc."
      ]
    },
    {
      "cell_type": "code",
      "metadata": {
        "id": "qGve1r6-Genn"
      },
      "source": [
        "#Create a funtion to remove stopwords\n",
        "def remove_stopwords(text):\n",
        "    \n",
        "    \"\"\"\n",
        "    Input- text=text from which english stopwprds will be removed\n",
        "    Output- return text without english stopwords \n",
        "    \n",
        "    \"\"\"\n",
        "    words = [w for w in text if w not in stopwords.words('english')]\n",
        "    return words"
      ],
      "execution_count": 166,
      "outputs": []
    },
    {
      "cell_type": "code",
      "metadata": {
        "id": "hwmvvzV1Genp"
      },
      "source": [
        "train_df1['text'] = train_df1['text'].apply(lambda x : remove_stopwords(x))\n",
        "test_df1['text'] = test_df1['text'].apply(lambda x : remove_stopwords(x))"
      ],
      "execution_count": 167,
      "outputs": []
    },
    {
      "cell_type": "code",
      "metadata": {
        "id": "42W3vowEGenr",
        "outputId": "4c47d5e5-a575-4774-a0d9-612b7e53ab1c",
        "colab": {
          "base_uri": "https://localhost:8080/",
          "height": 0
        }
      },
      "source": [
        "train_df1.text.head()"
      ],
      "execution_count": 168,
      "outputs": [
        {
          "output_type": "execute_result",
          "data": {
            "text/plain": [
              "0    [deeds, reason, earthquake, may, allah, forgiv...\n",
              "1        [forest, fire, near, la, ronge, sask, canada]\n",
              "2    [residents, asked, shelter, place, notified, o...\n",
              "3    [people, receive, wildfires, evacuation, order...\n",
              "4    [got, sent, photo, ruby, alaska, smoke, wildfi...\n",
              "Name: text, dtype: object"
            ]
          },
          "metadata": {
            "tags": []
          },
          "execution_count": 168
        }
      ]
    },
    {
      "cell_type": "code",
      "metadata": {
        "id": "7so9peq6Genu",
        "outputId": "5a43b602-3ab7-4ed7-f869-422553e06d07",
        "colab": {
          "base_uri": "https://localhost:8080/",
          "height": 0
        }
      },
      "source": [
        "test_df1.text.head()"
      ],
      "execution_count": 169,
      "outputs": [
        {
          "output_type": "execute_result",
          "data": {
            "text/plain": [
              "0                     [happened, terrible, car, crash]\n",
              "1    [heard, earthquake, different, cities, stay, s...\n",
              "2    [forest, fire, spot, pond, geese, fleeing, acr...\n",
              "3           [apocalypse, lighting, spokane, wildfires]\n",
              "4            [typhoon, soudelor, kills, china, taiwan]\n",
              "Name: text, dtype: object"
            ]
          },
          "metadata": {
            "tags": []
          },
          "execution_count": 169
        }
      ]
    },
    {
      "cell_type": "markdown",
      "metadata": {
        "id": "Q_GZFkFBGenx"
      },
      "source": [
        "### Stemming and Lemmatization\n",
        "- **Stemming**: Removing and replacing suffixes to get to the root form of the word, which is called the stem for instance cats - cat, wolves - wolv\n",
        "- **Lemmatization** : Returns the base or dictionary form of a word, which is known as the lemma\n",
        "\n",
        "It is important to note that stemming and lemmatization sometimes doesnt necessarily improve results as sometimes we dont want to trim words rather preserve their original form.Its usage from problem to problem and for this problem it wouldnt be good idea to use it."
      ]
    },
    {
      "cell_type": "code",
      "metadata": {
        "id": "t474E1ixGenx",
        "outputId": "89d82e22-3496-4969-d368-e7045556456f",
        "colab": {
          "base_uri": "https://localhost:8080/",
          "height": 0
        }
      },
      "source": [
        "# Stemming and Lemmatization examples\n",
        "text =  \"ran deduced dogs talking studies\"\n",
        "\n",
        "tokenizer = nltk.tokenize.TreebankWordTokenizer()\n",
        "tokens = tokenizer.tokenize(text)\n",
        "\n",
        "# Stemmer\n",
        "stemmer = nltk.stem.PorterStemmer()\n",
        "print(\"Stemming the sentence: \", \" \".join(stemmer.stem(token) for token in tokens))\n",
        "\n",
        "# Lemmatizer\n",
        "lemmatizer=nltk.stem.WordNetLemmatizer()\n",
        "print(\"Lemmatizing the sentence: \", \" \".join(lemmatizer.lemmatize(token) for token in tokens))"
      ],
      "execution_count": 170,
      "outputs": [
        {
          "output_type": "stream",
          "text": [
            "Stemming the sentence:  ran deduc dog talk studi\n",
            "Lemmatizing the sentence:  ran deduced dog talking study\n"
          ],
          "name": "stdout"
        }
      ]
    },
    {
      "cell_type": "code",
      "metadata": {
        "id": "fEFZlw8dGen0"
      },
      "source": [
        "# Lets combine text after processing it\n",
        "def combine_text(text):\n",
        "    \n",
        "    '''\n",
        "    Input-text= list cleand and tokenized text\n",
        "    Output- Takes a list of text and returns combined one large chunk of text.\n",
        "    \n",
        "    '''\n",
        "    all_text = ' '.join(text)\n",
        "    return all_text"
      ],
      "execution_count": 171,
      "outputs": []
    },
    {
      "cell_type": "code",
      "metadata": {
        "id": "6RHna4roGen3"
      },
      "source": [
        "train_df1['text'] = train_df1['text'].apply(lambda x : combine_text(x))\n",
        "test_df1['text'] = test_df1['text'].apply(lambda x : combine_text(x))"
      ],
      "execution_count": 172,
      "outputs": []
    },
    {
      "cell_type": "code",
      "metadata": {
        "id": "r8iMd9TvGen5",
        "outputId": "45f660ce-34f4-4857-d62d-387cffa19684",
        "colab": {
          "base_uri": "https://localhost:8080/",
          "height": 0
        }
      },
      "source": [
        "train_df1.head()"
      ],
      "execution_count": 173,
      "outputs": [
        {
          "output_type": "execute_result",
          "data": {
            "text/html": [
              "<div>\n",
              "<style scoped>\n",
              "    .dataframe tbody tr th:only-of-type {\n",
              "        vertical-align: middle;\n",
              "    }\n",
              "\n",
              "    .dataframe tbody tr th {\n",
              "        vertical-align: top;\n",
              "    }\n",
              "\n",
              "    .dataframe thead th {\n",
              "        text-align: right;\n",
              "    }\n",
              "</style>\n",
              "<table border=\"1\" class=\"dataframe\">\n",
              "  <thead>\n",
              "    <tr style=\"text-align: right;\">\n",
              "      <th></th>\n",
              "      <th>id</th>\n",
              "      <th>keyword</th>\n",
              "      <th>text</th>\n",
              "      <th>target</th>\n",
              "      <th>text_length</th>\n",
              "    </tr>\n",
              "  </thead>\n",
              "  <tbody>\n",
              "    <tr>\n",
              "      <th>0</th>\n",
              "      <td>1</td>\n",
              "      <td>NaN</td>\n",
              "      <td>deeds reason earthquake may allah forgive us</td>\n",
              "      <td>1</td>\n",
              "      <td>69</td>\n",
              "    </tr>\n",
              "    <tr>\n",
              "      <th>1</th>\n",
              "      <td>4</td>\n",
              "      <td>NaN</td>\n",
              "      <td>forest fire near la ronge sask canada</td>\n",
              "      <td>1</td>\n",
              "      <td>38</td>\n",
              "    </tr>\n",
              "    <tr>\n",
              "      <th>2</th>\n",
              "      <td>5</td>\n",
              "      <td>NaN</td>\n",
              "      <td>residents asked shelter place notified officer...</td>\n",
              "      <td>1</td>\n",
              "      <td>133</td>\n",
              "    </tr>\n",
              "    <tr>\n",
              "      <th>3</th>\n",
              "      <td>6</td>\n",
              "      <td>NaN</td>\n",
              "      <td>people receive wildfires evacuation orders cal...</td>\n",
              "      <td>1</td>\n",
              "      <td>65</td>\n",
              "    </tr>\n",
              "    <tr>\n",
              "      <th>4</th>\n",
              "      <td>7</td>\n",
              "      <td>NaN</td>\n",
              "      <td>got sent photo ruby alaska smoke wildfires pou...</td>\n",
              "      <td>1</td>\n",
              "      <td>88</td>\n",
              "    </tr>\n",
              "  </tbody>\n",
              "</table>\n",
              "</div>"
            ],
            "text/plain": [
              "   id keyword  ... target  text_length\n",
              "0   1     NaN  ...      1           69\n",
              "1   4     NaN  ...      1           38\n",
              "2   5     NaN  ...      1          133\n",
              "3   6     NaN  ...      1           65\n",
              "4   7     NaN  ...      1           88\n",
              "\n",
              "[5 rows x 5 columns]"
            ]
          },
          "metadata": {
            "tags": []
          },
          "execution_count": 173
        }
      ]
    },
    {
      "cell_type": "markdown",
      "metadata": {
        "id": "0Dkq6IArGen8"
      },
      "source": [
        "### Text Pre-processing Function\n",
        "\n",
        "Putting all above functions together, below will be final function to pre-process the text before modeling with ML algorithms."
      ]
    },
    {
      "cell_type": "code",
      "metadata": {
        "id": "MRGGBOp4Gen9"
      },
      "source": [
        "# Create a function to pre-process the tweets\n",
        "def pre_process_text_combined(text):\n",
        "    \n",
        "    \"\"\"\n",
        "    Input- text= text to be pre-processed\n",
        "    \n",
        "    Oputput- return cleaned and combined text to be vectrorized for Machine learning.\n",
        "\n",
        "    \"\"\"\n",
        "    #Initiate a tokenizer\n",
        "    tokenizer = nltk.tokenize.RegexpTokenizer(r'\\w+')\n",
        "    # Clean the text using clean_text function\n",
        "    cleaned_txt = clean_text(text)\n",
        "    tokenized_text = tokenizer.tokenize(cleaned_txt)\n",
        "    remove_stopwords = [w for w in tokenized_text if w not in stopwords.words('english')]\n",
        "    combined_text = ' '.join(remove_stopwords)\n",
        "    return  combined_text"
      ],
      "execution_count": 174,
      "outputs": []
    },
    {
      "cell_type": "code",
      "metadata": {
        "id": "eMFds3l7GeoB"
      },
      "source": [
        "# Create a function to pre-process the tweets\n",
        "def pre_process_text(text):\n",
        "    \"\"\"\n",
        "    Input- text= text to be pre-processed\n",
        "    \n",
        "    Oputput- return cleaned text to be vectrorized for Machine learning.\n",
        "\n",
        "    \"\"\"\n",
        "    #Initiate a tokenizer\n",
        "    tokenizer = nltk.tokenize.RegexpTokenizer(r'\\w+')\n",
        "    # Clean the text using clean_text function\n",
        "    cleaned_txt = clean_text(text)\n",
        "    tokenized_text = tokenizer.tokenize(cleaned_txt)\n",
        "    remove_stopwords = [w for w in tokenized_text if w not in stopwords.words('english')]\n",
        "    return remove_stopwords"
      ],
      "execution_count": 175,
      "outputs": []
    },
    {
      "cell_type": "code",
      "metadata": {
        "id": "khzXeecPGeoE",
        "outputId": "1f590aba-25d7-4029-f930-e091b24b2773",
        "colab": {
          "base_uri": "https://localhost:8080/",
          "height": 119
        }
      },
      "source": [
        "# Text before pre-processing\n",
        "train_df.text.head()"
      ],
      "execution_count": 176,
      "outputs": [
        {
          "output_type": "execute_result",
          "data": {
            "text/plain": [
              "0    Our Deeds are the Reason of this #earthquake M...\n",
              "1               Forest fire near La Ronge Sask. Canada\n",
              "2    All residents asked to 'shelter in place' are ...\n",
              "3    13,000 people receive #wildfires evacuation or...\n",
              "4    Just got sent this photo from Ruby #Alaska as ...\n",
              "Name: text, dtype: object"
            ]
          },
          "metadata": {
            "tags": []
          },
          "execution_count": 176
        }
      ]
    },
    {
      "cell_type": "code",
      "metadata": {
        "id": "A7AZPAlTGeoH"
      },
      "source": [
        "# Lets pre-process train data text\n",
        "train_df2=train_df.copy()\n",
        "train_df2['text'] = train_df2['text'].apply(lambda x : pre_process_text_combined(x))"
      ],
      "execution_count": 177,
      "outputs": []
    },
    {
      "cell_type": "code",
      "metadata": {
        "id": "21Lhy5V1GeoK",
        "outputId": "66124393-49ac-422a-8a0b-254eee056b16",
        "colab": {
          "base_uri": "https://localhost:8080/",
          "height": 204
        }
      },
      "source": [
        "# Text after pre-processing the text column\n",
        "train_df2.head()"
      ],
      "execution_count": 178,
      "outputs": [
        {
          "output_type": "execute_result",
          "data": {
            "text/html": [
              "<div>\n",
              "<style scoped>\n",
              "    .dataframe tbody tr th:only-of-type {\n",
              "        vertical-align: middle;\n",
              "    }\n",
              "\n",
              "    .dataframe tbody tr th {\n",
              "        vertical-align: top;\n",
              "    }\n",
              "\n",
              "    .dataframe thead th {\n",
              "        text-align: right;\n",
              "    }\n",
              "</style>\n",
              "<table border=\"1\" class=\"dataframe\">\n",
              "  <thead>\n",
              "    <tr style=\"text-align: right;\">\n",
              "      <th></th>\n",
              "      <th>id</th>\n",
              "      <th>keyword</th>\n",
              "      <th>text</th>\n",
              "      <th>target</th>\n",
              "      <th>text_length</th>\n",
              "    </tr>\n",
              "  </thead>\n",
              "  <tbody>\n",
              "    <tr>\n",
              "      <th>0</th>\n",
              "      <td>1</td>\n",
              "      <td>NaN</td>\n",
              "      <td>deeds reason earthquake may allah forgive us</td>\n",
              "      <td>1</td>\n",
              "      <td>69</td>\n",
              "    </tr>\n",
              "    <tr>\n",
              "      <th>1</th>\n",
              "      <td>4</td>\n",
              "      <td>NaN</td>\n",
              "      <td>forest fire near la ronge sask canada</td>\n",
              "      <td>1</td>\n",
              "      <td>38</td>\n",
              "    </tr>\n",
              "    <tr>\n",
              "      <th>2</th>\n",
              "      <td>5</td>\n",
              "      <td>NaN</td>\n",
              "      <td>residents asked shelter place notified officer...</td>\n",
              "      <td>1</td>\n",
              "      <td>133</td>\n",
              "    </tr>\n",
              "    <tr>\n",
              "      <th>3</th>\n",
              "      <td>6</td>\n",
              "      <td>NaN</td>\n",
              "      <td>people receive wildfires evacuation orders cal...</td>\n",
              "      <td>1</td>\n",
              "      <td>65</td>\n",
              "    </tr>\n",
              "    <tr>\n",
              "      <th>4</th>\n",
              "      <td>7</td>\n",
              "      <td>NaN</td>\n",
              "      <td>got sent photo ruby alaska smoke wildfires pou...</td>\n",
              "      <td>1</td>\n",
              "      <td>88</td>\n",
              "    </tr>\n",
              "  </tbody>\n",
              "</table>\n",
              "</div>"
            ],
            "text/plain": [
              "   id keyword  ... target  text_length\n",
              "0   1     NaN  ...      1           69\n",
              "1   4     NaN  ...      1           38\n",
              "2   5     NaN  ...      1          133\n",
              "3   6     NaN  ...      1           65\n",
              "4   7     NaN  ...      1           88\n",
              "\n",
              "[5 rows x 5 columns]"
            ]
          },
          "metadata": {
            "tags": []
          },
          "execution_count": 178
        }
      ]
    },
    {
      "cell_type": "code",
      "metadata": {
        "id": "LWFPWpIZGeoO"
      },
      "source": [
        "# Lets pre-process test data text\n",
        "test_df2=test_df.copy()\n",
        "test_df2['text'] = test_df2['text'].apply(lambda x : pre_process_text_combined(x))"
      ],
      "execution_count": 179,
      "outputs": []
    },
    {
      "cell_type": "code",
      "metadata": {
        "id": "yb6CQRoyGeoQ",
        "outputId": "3450ea31-be4b-48ba-8acf-d0d7b4833f46",
        "colab": {
          "base_uri": "https://localhost:8080/",
          "height": 359
        }
      },
      "source": [
        "# Text after pre-processing the text column\n",
        "test_df2.head(10)"
      ],
      "execution_count": 180,
      "outputs": [
        {
          "output_type": "execute_result",
          "data": {
            "text/html": [
              "<div>\n",
              "<style scoped>\n",
              "    .dataframe tbody tr th:only-of-type {\n",
              "        vertical-align: middle;\n",
              "    }\n",
              "\n",
              "    .dataframe tbody tr th {\n",
              "        vertical-align: top;\n",
              "    }\n",
              "\n",
              "    .dataframe thead th {\n",
              "        text-align: right;\n",
              "    }\n",
              "</style>\n",
              "<table border=\"1\" class=\"dataframe\">\n",
              "  <thead>\n",
              "    <tr style=\"text-align: right;\">\n",
              "      <th></th>\n",
              "      <th>id</th>\n",
              "      <th>keyword</th>\n",
              "      <th>location</th>\n",
              "      <th>text</th>\n",
              "    </tr>\n",
              "  </thead>\n",
              "  <tbody>\n",
              "    <tr>\n",
              "      <th>0</th>\n",
              "      <td>0</td>\n",
              "      <td>NaN</td>\n",
              "      <td>NaN</td>\n",
              "      <td>happened terrible car crash</td>\n",
              "    </tr>\n",
              "    <tr>\n",
              "      <th>1</th>\n",
              "      <td>2</td>\n",
              "      <td>NaN</td>\n",
              "      <td>NaN</td>\n",
              "      <td>heard earthquake different cities stay safe ev...</td>\n",
              "    </tr>\n",
              "    <tr>\n",
              "      <th>2</th>\n",
              "      <td>3</td>\n",
              "      <td>NaN</td>\n",
              "      <td>NaN</td>\n",
              "      <td>forest fire spot pond geese fleeing across str...</td>\n",
              "    </tr>\n",
              "    <tr>\n",
              "      <th>3</th>\n",
              "      <td>9</td>\n",
              "      <td>NaN</td>\n",
              "      <td>NaN</td>\n",
              "      <td>apocalypse lighting spokane wildfires</td>\n",
              "    </tr>\n",
              "    <tr>\n",
              "      <th>4</th>\n",
              "      <td>11</td>\n",
              "      <td>NaN</td>\n",
              "      <td>NaN</td>\n",
              "      <td>typhoon soudelor kills china taiwan</td>\n",
              "    </tr>\n",
              "    <tr>\n",
              "      <th>5</th>\n",
              "      <td>12</td>\n",
              "      <td>NaN</td>\n",
              "      <td>NaN</td>\n",
              "      <td>shakingits earthquake</td>\n",
              "    </tr>\n",
              "    <tr>\n",
              "      <th>6</th>\n",
              "      <td>21</td>\n",
              "      <td>NaN</td>\n",
              "      <td>NaN</td>\n",
              "      <td>theyd probably still show life arsenal yesterd...</td>\n",
              "    </tr>\n",
              "    <tr>\n",
              "      <th>7</th>\n",
              "      <td>22</td>\n",
              "      <td>NaN</td>\n",
              "      <td>NaN</td>\n",
              "      <td>hey</td>\n",
              "    </tr>\n",
              "    <tr>\n",
              "      <th>8</th>\n",
              "      <td>27</td>\n",
              "      <td>NaN</td>\n",
              "      <td>NaN</td>\n",
              "      <td>nice hat</td>\n",
              "    </tr>\n",
              "    <tr>\n",
              "      <th>9</th>\n",
              "      <td>29</td>\n",
              "      <td>NaN</td>\n",
              "      <td>NaN</td>\n",
              "      <td>fuck</td>\n",
              "    </tr>\n",
              "  </tbody>\n",
              "</table>\n",
              "</div>"
            ],
            "text/plain": [
              "   id keyword location                                               text\n",
              "0   0     NaN      NaN                        happened terrible car crash\n",
              "1   2     NaN      NaN  heard earthquake different cities stay safe ev...\n",
              "2   3     NaN      NaN  forest fire spot pond geese fleeing across str...\n",
              "3   9     NaN      NaN              apocalypse lighting spokane wildfires\n",
              "4  11     NaN      NaN                typhoon soudelor kills china taiwan\n",
              "5  12     NaN      NaN                              shakingits earthquake\n",
              "6  21     NaN      NaN  theyd probably still show life arsenal yesterd...\n",
              "7  22     NaN      NaN                                                hey\n",
              "8  27     NaN      NaN                                           nice hat\n",
              "9  29     NaN      NaN                                               fuck"
            ]
          },
          "metadata": {
            "tags": []
          },
          "execution_count": 180
        }
      ]
    },
    {
      "cell_type": "code",
      "metadata": {
        "id": "5bHqNJL_GeoT"
      },
      "source": [
        "# Lets pre-process train data text\n",
        "train_df3=train_df.copy()\n",
        "train_df3['text'] = train_df3['text'].apply(lambda x : pre_process_text(x))"
      ],
      "execution_count": 181,
      "outputs": []
    },
    {
      "cell_type": "code",
      "metadata": {
        "id": "gtC3LEQBGeoX",
        "outputId": "d4a370f6-8ce3-4473-d032-d2a9cffa278a",
        "colab": {
          "base_uri": "https://localhost:8080/",
          "height": 204
        }
      },
      "source": [
        "train_df3.head()"
      ],
      "execution_count": 182,
      "outputs": [
        {
          "output_type": "execute_result",
          "data": {
            "text/html": [
              "<div>\n",
              "<style scoped>\n",
              "    .dataframe tbody tr th:only-of-type {\n",
              "        vertical-align: middle;\n",
              "    }\n",
              "\n",
              "    .dataframe tbody tr th {\n",
              "        vertical-align: top;\n",
              "    }\n",
              "\n",
              "    .dataframe thead th {\n",
              "        text-align: right;\n",
              "    }\n",
              "</style>\n",
              "<table border=\"1\" class=\"dataframe\">\n",
              "  <thead>\n",
              "    <tr style=\"text-align: right;\">\n",
              "      <th></th>\n",
              "      <th>id</th>\n",
              "      <th>keyword</th>\n",
              "      <th>text</th>\n",
              "      <th>target</th>\n",
              "      <th>text_length</th>\n",
              "    </tr>\n",
              "  </thead>\n",
              "  <tbody>\n",
              "    <tr>\n",
              "      <th>0</th>\n",
              "      <td>1</td>\n",
              "      <td>NaN</td>\n",
              "      <td>[deeds, reason, earthquake, may, allah, forgiv...</td>\n",
              "      <td>1</td>\n",
              "      <td>69</td>\n",
              "    </tr>\n",
              "    <tr>\n",
              "      <th>1</th>\n",
              "      <td>4</td>\n",
              "      <td>NaN</td>\n",
              "      <td>[forest, fire, near, la, ronge, sask, canada]</td>\n",
              "      <td>1</td>\n",
              "      <td>38</td>\n",
              "    </tr>\n",
              "    <tr>\n",
              "      <th>2</th>\n",
              "      <td>5</td>\n",
              "      <td>NaN</td>\n",
              "      <td>[residents, asked, shelter, place, notified, o...</td>\n",
              "      <td>1</td>\n",
              "      <td>133</td>\n",
              "    </tr>\n",
              "    <tr>\n",
              "      <th>3</th>\n",
              "      <td>6</td>\n",
              "      <td>NaN</td>\n",
              "      <td>[people, receive, wildfires, evacuation, order...</td>\n",
              "      <td>1</td>\n",
              "      <td>65</td>\n",
              "    </tr>\n",
              "    <tr>\n",
              "      <th>4</th>\n",
              "      <td>7</td>\n",
              "      <td>NaN</td>\n",
              "      <td>[got, sent, photo, ruby, alaska, smoke, wildfi...</td>\n",
              "      <td>1</td>\n",
              "      <td>88</td>\n",
              "    </tr>\n",
              "  </tbody>\n",
              "</table>\n",
              "</div>"
            ],
            "text/plain": [
              "   id keyword  ... target  text_length\n",
              "0   1     NaN  ...      1           69\n",
              "1   4     NaN  ...      1           38\n",
              "2   5     NaN  ...      1          133\n",
              "3   6     NaN  ...      1           65\n",
              "4   7     NaN  ...      1           88\n",
              "\n",
              "[5 rows x 5 columns]"
            ]
          },
          "metadata": {
            "tags": []
          },
          "execution_count": 182
        }
      ]
    },
    {
      "cell_type": "code",
      "metadata": {
        "id": "gKx6zZu7Geoa"
      },
      "source": [
        "# Lets pre-process train data text\n",
        "test_df3=test_df.copy()\n",
        "test_df3['text'] = test_df3['text'].apply(lambda x : pre_process_text(x))"
      ],
      "execution_count": 183,
      "outputs": []
    },
    {
      "cell_type": "code",
      "metadata": {
        "id": "WRR_dxL5Geod",
        "outputId": "79a6246a-cca2-4afa-fdd0-fe0689ce984d",
        "colab": {
          "base_uri": "https://localhost:8080/",
          "height": 204
        }
      },
      "source": [
        "test_df3.head()"
      ],
      "execution_count": 184,
      "outputs": [
        {
          "output_type": "execute_result",
          "data": {
            "text/html": [
              "<div>\n",
              "<style scoped>\n",
              "    .dataframe tbody tr th:only-of-type {\n",
              "        vertical-align: middle;\n",
              "    }\n",
              "\n",
              "    .dataframe tbody tr th {\n",
              "        vertical-align: top;\n",
              "    }\n",
              "\n",
              "    .dataframe thead th {\n",
              "        text-align: right;\n",
              "    }\n",
              "</style>\n",
              "<table border=\"1\" class=\"dataframe\">\n",
              "  <thead>\n",
              "    <tr style=\"text-align: right;\">\n",
              "      <th></th>\n",
              "      <th>id</th>\n",
              "      <th>keyword</th>\n",
              "      <th>location</th>\n",
              "      <th>text</th>\n",
              "    </tr>\n",
              "  </thead>\n",
              "  <tbody>\n",
              "    <tr>\n",
              "      <th>0</th>\n",
              "      <td>0</td>\n",
              "      <td>NaN</td>\n",
              "      <td>NaN</td>\n",
              "      <td>[happened, terrible, car, crash]</td>\n",
              "    </tr>\n",
              "    <tr>\n",
              "      <th>1</th>\n",
              "      <td>2</td>\n",
              "      <td>NaN</td>\n",
              "      <td>NaN</td>\n",
              "      <td>[heard, earthquake, different, cities, stay, s...</td>\n",
              "    </tr>\n",
              "    <tr>\n",
              "      <th>2</th>\n",
              "      <td>3</td>\n",
              "      <td>NaN</td>\n",
              "      <td>NaN</td>\n",
              "      <td>[forest, fire, spot, pond, geese, fleeing, acr...</td>\n",
              "    </tr>\n",
              "    <tr>\n",
              "      <th>3</th>\n",
              "      <td>9</td>\n",
              "      <td>NaN</td>\n",
              "      <td>NaN</td>\n",
              "      <td>[apocalypse, lighting, spokane, wildfires]</td>\n",
              "    </tr>\n",
              "    <tr>\n",
              "      <th>4</th>\n",
              "      <td>11</td>\n",
              "      <td>NaN</td>\n",
              "      <td>NaN</td>\n",
              "      <td>[typhoon, soudelor, kills, china, taiwan]</td>\n",
              "    </tr>\n",
              "  </tbody>\n",
              "</table>\n",
              "</div>"
            ],
            "text/plain": [
              "   id keyword location                                               text\n",
              "0   0     NaN      NaN                   [happened, terrible, car, crash]\n",
              "1   2     NaN      NaN  [heard, earthquake, different, cities, stay, s...\n",
              "2   3     NaN      NaN  [forest, fire, spot, pond, geese, fleeing, acr...\n",
              "3   9     NaN      NaN         [apocalypse, lighting, spokane, wildfires]\n",
              "4  11     NaN      NaN          [typhoon, soudelor, kills, china, taiwan]"
            ]
          },
          "metadata": {
            "tags": []
          },
          "execution_count": 184
        }
      ]
    },
    {
      "cell_type": "code",
      "metadata": {
        "id": "zewa8pGYGeog",
        "outputId": "4a45bd20-6800-4b9e-8bf1-c706af45ebe5",
        "colab": {
          "base_uri": "https://localhost:8080/",
          "height": 397
        }
      },
      "source": [
        "#Lets have a quick look of the tweets in wordcloud\n",
        "from wordcloud import WordCloud\n",
        "fig, ax = plt.subplots(figsize=[10, 6])\n",
        "wordcloud = WordCloud( background_color='red',\n",
        "                        width=600,\n",
        "                        height=400).generate(\" \".join(train_df2.text))\n",
        "ax.imshow(wordcloud)\n",
        "ax.axis('off')\n",
        "ax.set_title('Disaster Tweets',fontsize=40);"
      ],
      "execution_count": 185,
      "outputs": [
        {
          "output_type": "display_data",
          "data": {
            "image/png": "[encoded data removed]",
            "text/plain": [
              "<Figure size 720x432 with 1 Axes>"
            ]
          },
          "metadata": {
            "tags": [],
            "needs_background": "light"
          }
        }
      ]
    },
    {
      "cell_type": "markdown",
      "metadata": {
        "id": "JzCCSaTCGeok"
      },
      "source": [
        "# 3. Vectorization of text\n",
        "\n",
        "Pre-process text needs to be transformed into a vetor matrix of numbers before a machine learning model can undertsand it and learn from it.This can be done by a number of tecniques:\n",
        "\n",
        "## 1. Bag of Words\n",
        "\n",
        "The bag of words is a representation of text that describes the occurrence of words within a document. It involves two things:\n",
        "- A vocabulary of known words.\n",
        "- A measure of the presence of known words.\n",
        "\n",
        "**Why is it is called a “bag” of words?** Its called bag of words because any information about the order or structure of words in the document is discarded and the model is only concerned with whether the known words occur in the document, not where they occur in the document.\n",
        "\n",
        "### Bag of Words - Countvectorizer Features\n",
        "\n",
        "`Countvectorizer` converts a collection of text documents to a matrix of token counts. It is important to note that `CountVectorizer` comes with a lot of options to automatically do preprocessing, tokenization, and stop word removal. However, all the pre-processing of the text has already been performed by creating a function.Only vanilla version of `Countvectorizer` will be used.\n",
        "\n",
        "## 2. TFIDF Features\n",
        "\n",
        "A problem with the bag of words approach is that highly frequent words start to dominate in the document (e.g. larger score) but may not contain as much “informational content” this will lead to more weight to longer documents than shorter documents.\n",
        "\n",
        "To avoid that, one approach is to rescale the frequency of words by how often they appear in all documents so that the scores for frequent words like “the” that are also frequent across all documents are penalized. This approach to scoring is called \"Term Frequency-Inverse Document Frequency\", or TF-IDF for short, where:\n",
        "\n",
        "**Term Frequency**: is a scoring of the frequency of the word in the current document.\n",
        "\n",
        "`TF = (Number of times term t appears in a document)/(Number of terms in the document)`\n",
        "\n",
        "**Inverse Document Frequency**: is a scoring of how rare the word is across documents.\n",
        "\n",
        "`IDF = 1+log(N/n), where, N is the number of documents and n is the number of documents a term t has appeared in.`"
      ]
    },
    {
      "cell_type": "code",
      "metadata": {
        "id": "kNsaGojSGeol",
        "outputId": "57d0a9c2-e63d-49a4-ad3a-cdb71d96f552",
        "colab": {
          "base_uri": "https://localhost:8080/",
          "height": 34
        }
      },
      "source": [
        "# Vectorize the text using CountVectorizer\n",
        "count_vectorizer = CountVectorizer()\n",
        "train_cv = count_vectorizer.fit_transform(train_df2['text'])\n",
        "test_cv = count_vectorizer.transform(test_df2[\"text\"])\n",
        "\n",
        "## Keeping only non-zero elements to preserve space \n",
        "print(train_cv[0].todense())"
      ],
      "execution_count": 186,
      "outputs": [
        {
          "output_type": "stream",
          "text": [
            "[[0 0 0 ... 0 0 0]]\n"
          ],
          "name": "stdout"
        }
      ]
    },
    {
      "cell_type": "code",
      "metadata": {
        "id": "sM9cNPKqGeon"
      },
      "source": [
        "# Vectorize the text using TFIDF\n",
        "tfidf = TfidfVectorizer(min_df=2, max_df=0.5, ngram_range=(1, 2))\n",
        "train_tf = tfidf.fit_transform(train_df2['text'])\n",
        "test_tf = tfidf.transform(test_df2[\"text\"])"
      ],
      "execution_count": 187,
      "outputs": []
    },
    {
      "cell_type": "markdown",
      "metadata": {
        "id": "i4rc88vwGeoo"
      },
      "source": [
        "# 4. Build a Text Classification Machine Learning model\n",
        "\n",
        "Lets create a simple classification model using commonly used calssification algorithms and check how the models performs."
      ]
    },
    {
      "cell_type": "code",
      "metadata": {
        "id": "CsPPAhiqGeop"
      },
      "source": [
        "#Split the CountVector vectorized data into train and test datasets for model training and testing\n",
        "X_train_cv, X_test_cv, y_train_cv, y_test_cv =train_test_split(train_cv,train_df.target,test_size=0.2,random_state=2020)"
      ],
      "execution_count": 188,
      "outputs": []
    },
    {
      "cell_type": "code",
      "metadata": {
        "id": "x2YaGUWcGeos"
      },
      "source": [
        "#Define a function to fit and predict on training and test data sets\n",
        "def fit_and_predict(model,X_train,y_train,X_test,y_test):\n",
        "    \n",
        "    '''Input- model=model to be trained\n",
        "              X_train, y_train= traing data set\n",
        "              X_test,  y_test = testing data set\n",
        "       Output- Print accuracy of model for training and test data sets   \n",
        "    '''\n",
        "    \n",
        "    # Fitting a simple Logistic Regression on Counts\n",
        "    clf = model\n",
        "    clf.fit(X_train, y_train)\n",
        "    predictions=clf.predict(X_test)\n",
        "    confusion_matrix(y_test,predictions)\n",
        "    print(classification_report(y_test,predictions))\n",
        "    print('-'*50)\n",
        "    print(\"{}\" .format(model))\n",
        "    print('-'*50)\n",
        "    print('Accuracy of classifier on training set:{}%'.format(round(clf.score(X_train, y_train)*100)))\n",
        "    print('-'*50)\n",
        "    print('Accuracy of classifier on test set:{}%' .format(round(accuracy_score(y_test,predictions)*100)))\n",
        "    print('-'*50)"
      ],
      "execution_count": 189,
      "outputs": []
    },
    {
      "cell_type": "code",
      "metadata": {
        "id": "l69IV13wGeou"
      },
      "source": [
        "# Create a list of the regression models to be used\n",
        "models=[LogisticRegression(C=1.0),SVC(),MultinomialNB(),DecisionTreeClassifier(),\n",
        "        KNeighborsClassifier(n_neighbors=5),RandomForestClassifier()]"
      ],
      "execution_count": 190,
      "outputs": []
    },
    {
      "cell_type": "code",
      "metadata": {
        "id": "cmZ9WegeGeow",
        "outputId": "d984f0a9-3dbf-4a5e-8e8c-a79d03fd9cd2",
        "colab": {
          "base_uri": "https://localhost:8080/",
          "height": 1000
        }
      },
      "source": [
        "# Loop through the list of models and use 'fit_and_predict()' function to trian and make predictions\n",
        "for model in models:\n",
        "    fit_and_predict(model,X_train_cv, y_train_cv,X_test_cv,y_test_cv)"
      ],
      "execution_count": 191,
      "outputs": [
        {
          "output_type": "stream",
          "text": [
            "              precision    recall  f1-score   support\n",
            "\n",
            "           0       0.79      0.89      0.84       849\n",
            "           1       0.84      0.71      0.77       674\n",
            "\n",
            "    accuracy                           0.81      1523\n",
            "   macro avg       0.81      0.80      0.80      1523\n",
            "weighted avg       0.81      0.81      0.81      1523\n",
            "\n",
            "--------------------------------------------------\n",
            "LogisticRegression(C=1.0, class_weight=None, dual=False, fit_intercept=True,\n",
            "                   intercept_scaling=1, l1_ratio=None, max_iter=100,\n",
            "                   multi_class='auto', n_jobs=None, penalty='l2',\n",
            "                   random_state=None, solver='lbfgs', tol=0.0001, verbose=0,\n",
            "                   warm_start=False)\n",
            "--------------------------------------------------\n",
            "Accuracy of classifier on training set:96.0%\n",
            "--------------------------------------------------\n",
            "Accuracy of classifier on test set:81.0%\n",
            "--------------------------------------------------\n",
            "              precision    recall  f1-score   support\n",
            "\n",
            "           0       0.77      0.93      0.84       849\n",
            "           1       0.88      0.65      0.75       674\n",
            "\n",
            "    accuracy                           0.80      1523\n",
            "   macro avg       0.82      0.79      0.79      1523\n",
            "weighted avg       0.82      0.80      0.80      1523\n",
            "\n",
            "--------------------------------------------------\n",
            "SVC(C=1.0, break_ties=False, cache_size=200, class_weight=None, coef0=0.0,\n",
            "    decision_function_shape='ovr', degree=3, gamma='scale', kernel='rbf',\n",
            "    max_iter=-1, probability=False, random_state=None, shrinking=True,\n",
            "    tol=0.001, verbose=False)\n",
            "--------------------------------------------------\n",
            "Accuracy of classifier on training set:95.0%\n",
            "--------------------------------------------------\n",
            "Accuracy of classifier on test set:80.0%\n",
            "--------------------------------------------------\n",
            "              precision    recall  f1-score   support\n",
            "\n",
            "           0       0.81      0.85      0.83       849\n",
            "           1       0.80      0.74      0.77       674\n",
            "\n",
            "    accuracy                           0.80      1523\n",
            "   macro avg       0.80      0.80      0.80      1523\n",
            "weighted avg       0.80      0.80      0.80      1523\n",
            "\n",
            "--------------------------------------------------\n",
            "MultinomialNB(alpha=1.0, class_prior=None, fit_prior=True)\n",
            "--------------------------------------------------\n",
            "Accuracy of classifier on training set:92.0%\n",
            "--------------------------------------------------\n",
            "Accuracy of classifier on test set:80.0%\n",
            "--------------------------------------------------\n",
            "              precision    recall  f1-score   support\n",
            "\n",
            "           0       0.76      0.82      0.79       849\n",
            "           1       0.75      0.68      0.71       674\n",
            "\n",
            "    accuracy                           0.76      1523\n",
            "   macro avg       0.76      0.75      0.75      1523\n",
            "weighted avg       0.76      0.76      0.76      1523\n",
            "\n",
            "--------------------------------------------------\n",
            "DecisionTreeClassifier(ccp_alpha=0.0, class_weight=None, criterion='gini',\n",
            "                       max_depth=None, max_features=None, max_leaf_nodes=None,\n",
            "                       min_impurity_decrease=0.0, min_impurity_split=None,\n",
            "                       min_samples_leaf=1, min_samples_split=2,\n",
            "                       min_weight_fraction_leaf=0.0, presort='deprecated',\n",
            "                       random_state=None, splitter='best')\n",
            "--------------------------------------------------\n",
            "Accuracy of classifier on training set:99.0%\n",
            "--------------------------------------------------\n",
            "Accuracy of classifier on test set:76.0%\n",
            "--------------------------------------------------\n",
            "              precision    recall  f1-score   support\n",
            "\n",
            "           0       0.65      0.97      0.78       849\n",
            "           1       0.90      0.34      0.49       674\n",
            "\n",
            "    accuracy                           0.69      1523\n",
            "   macro avg       0.78      0.65      0.63      1523\n",
            "weighted avg       0.76      0.69      0.65      1523\n",
            "\n",
            "--------------------------------------------------\n",
            "KNeighborsClassifier(algorithm='auto', leaf_size=30, metric='minkowski',\n",
            "                     metric_params=None, n_jobs=None, n_neighbors=5, p=2,\n",
            "                     weights='uniform')\n",
            "--------------------------------------------------\n",
            "Accuracy of classifier on training set:76.0%\n",
            "--------------------------------------------------\n",
            "Accuracy of classifier on test set:69.0%\n",
            "--------------------------------------------------\n",
            "              precision    recall  f1-score   support\n",
            "\n",
            "           0       0.77      0.90      0.83       849\n",
            "           1       0.83      0.66      0.74       674\n",
            "\n",
            "    accuracy                           0.79      1523\n",
            "   macro avg       0.80      0.78      0.78      1523\n",
            "weighted avg       0.80      0.79      0.79      1523\n",
            "\n",
            "--------------------------------------------------\n",
            "RandomForestClassifier(bootstrap=True, ccp_alpha=0.0, class_weight=None,\n",
            "                       criterion='gini', max_depth=None, max_features='auto',\n",
            "                       max_leaf_nodes=None, max_samples=None,\n",
            "                       min_impurity_decrease=0.0, min_impurity_split=None,\n",
            "                       min_samples_leaf=1, min_samples_split=2,\n",
            "                       min_weight_fraction_leaf=0.0, n_estimators=100,\n",
            "                       n_jobs=None, oob_score=False, random_state=None,\n",
            "                       verbose=0, warm_start=False)\n",
            "--------------------------------------------------\n",
            "Accuracy of classifier on training set:99.0%\n",
            "--------------------------------------------------\n",
            "Accuracy of classifier on test set:79.0%\n",
            "--------------------------------------------------\n"
          ],
          "name": "stdout"
        }
      ]
    },
    {
      "cell_type": "code",
      "metadata": {
        "id": "ym3ooZd7Geox"
      },
      "source": [
        "# Split the TFDIF vectorized data into train and test datasets for model training and testing\n",
        "X_train_tf, X_test_tf, y_train_tf, y_test_tf =train_test_split(train_tf,train_df.target,test_size=0.2,random_state=2020)"
      ],
      "execution_count": 192,
      "outputs": []
    },
    {
      "cell_type": "code",
      "metadata": {
        "id": "jX6yOJ47Geoz",
        "outputId": "04df46ed-f80a-4d8e-9e1f-d234a3d71a9d",
        "colab": {
          "base_uri": "https://localhost:8080/",
          "height": 1000
        }
      },
      "source": [
        "# Loop through the list of models and use 'fit_and_predict()' function to train and make predictions on the TFDIF vectororized data\n",
        "for model in models:\n",
        "    fit_and_predict(model,X_train_tf, y_train_tf,X_test_tf,y_test_tf)"
      ],
      "execution_count": 193,
      "outputs": [
        {
          "output_type": "stream",
          "text": [
            "              precision    recall  f1-score   support\n",
            "\n",
            "           0       0.78      0.91      0.84       849\n",
            "           1       0.86      0.67      0.75       674\n",
            "\n",
            "    accuracy                           0.80      1523\n",
            "   macro avg       0.82      0.79      0.79      1523\n",
            "weighted avg       0.81      0.80      0.80      1523\n",
            "\n",
            "--------------------------------------------------\n",
            "LogisticRegression(C=1.0, class_weight=None, dual=False, fit_intercept=True,\n",
            "                   intercept_scaling=1, l1_ratio=None, max_iter=100,\n",
            "                   multi_class='auto', n_jobs=None, penalty='l2',\n",
            "                   random_state=None, solver='lbfgs', tol=0.0001, verbose=0,\n",
            "                   warm_start=False)\n",
            "--------------------------------------------------\n",
            "Accuracy of classifier on training set:88.0%\n",
            "--------------------------------------------------\n",
            "Accuracy of classifier on test set:80.0%\n",
            "--------------------------------------------------\n",
            "              precision    recall  f1-score   support\n",
            "\n",
            "           0       0.77      0.92      0.84       849\n",
            "           1       0.86      0.65      0.74       674\n",
            "\n",
            "    accuracy                           0.80      1523\n",
            "   macro avg       0.81      0.78      0.79      1523\n",
            "weighted avg       0.81      0.80      0.79      1523\n",
            "\n",
            "--------------------------------------------------\n",
            "SVC(C=1.0, break_ties=False, cache_size=200, class_weight=None, coef0=0.0,\n",
            "    decision_function_shape='ovr', degree=3, gamma='scale', kernel='rbf',\n",
            "    max_iter=-1, probability=False, random_state=None, shrinking=True,\n",
            "    tol=0.001, verbose=False)\n",
            "--------------------------------------------------\n",
            "Accuracy of classifier on training set:96.0%\n",
            "--------------------------------------------------\n",
            "Accuracy of classifier on test set:80.0%\n",
            "--------------------------------------------------\n",
            "              precision    recall  f1-score   support\n",
            "\n",
            "           0       0.77      0.92      0.83       849\n",
            "           1       0.86      0.65      0.74       674\n",
            "\n",
            "    accuracy                           0.80      1523\n",
            "   macro avg       0.81      0.78      0.79      1523\n",
            "weighted avg       0.81      0.80      0.79      1523\n",
            "\n",
            "--------------------------------------------------\n",
            "MultinomialNB(alpha=1.0, class_prior=None, fit_prior=True)\n",
            "--------------------------------------------------\n",
            "Accuracy of classifier on training set:87.0%\n",
            "--------------------------------------------------\n",
            "Accuracy of classifier on test set:80.0%\n",
            "--------------------------------------------------\n",
            "              precision    recall  f1-score   support\n",
            "\n",
            "           0       0.77      0.80      0.79       849\n",
            "           1       0.74      0.69      0.71       674\n",
            "\n",
            "    accuracy                           0.76      1523\n",
            "   macro avg       0.75      0.75      0.75      1523\n",
            "weighted avg       0.75      0.76      0.75      1523\n",
            "\n",
            "--------------------------------------------------\n",
            "DecisionTreeClassifier(ccp_alpha=0.0, class_weight=None, criterion='gini',\n",
            "                       max_depth=None, max_features=None, max_leaf_nodes=None,\n",
            "                       min_impurity_decrease=0.0, min_impurity_split=None,\n",
            "                       min_samples_leaf=1, min_samples_split=2,\n",
            "                       min_weight_fraction_leaf=0.0, presort='deprecated',\n",
            "                       random_state=None, splitter='best')\n",
            "--------------------------------------------------\n",
            "Accuracy of classifier on training set:98.0%\n",
            "--------------------------------------------------\n",
            "Accuracy of classifier on test set:76.0%\n",
            "--------------------------------------------------\n",
            "              precision    recall  f1-score   support\n",
            "\n",
            "           0       0.62      0.98      0.76       849\n",
            "           1       0.93      0.24      0.38       674\n",
            "\n",
            "    accuracy                           0.66      1523\n",
            "   macro avg       0.77      0.61      0.57      1523\n",
            "weighted avg       0.76      0.66      0.59      1523\n",
            "\n",
            "--------------------------------------------------\n",
            "KNeighborsClassifier(algorithm='auto', leaf_size=30, metric='minkowski',\n",
            "                     metric_params=None, n_jobs=None, n_neighbors=5, p=2,\n",
            "                     weights='uniform')\n",
            "--------------------------------------------------\n",
            "Accuracy of classifier on training set:72.0%\n",
            "--------------------------------------------------\n",
            "Accuracy of classifier on test set:66.0%\n",
            "--------------------------------------------------\n",
            "              precision    recall  f1-score   support\n",
            "\n",
            "           0       0.77      0.90      0.83       849\n",
            "           1       0.84      0.67      0.74       674\n",
            "\n",
            "    accuracy                           0.80      1523\n",
            "   macro avg       0.81      0.78      0.79      1523\n",
            "weighted avg       0.80      0.80      0.79      1523\n",
            "\n",
            "--------------------------------------------------\n",
            "RandomForestClassifier(bootstrap=True, ccp_alpha=0.0, class_weight=None,\n",
            "                       criterion='gini', max_depth=None, max_features='auto',\n",
            "                       max_leaf_nodes=None, max_samples=None,\n",
            "                       min_impurity_decrease=0.0, min_impurity_split=None,\n",
            "                       min_samples_leaf=1, min_samples_split=2,\n",
            "                       min_weight_fraction_leaf=0.0, n_estimators=100,\n",
            "                       n_jobs=None, oob_score=False, random_state=None,\n",
            "                       verbose=0, warm_start=False)\n",
            "--------------------------------------------------\n",
            "Accuracy of classifier on training set:98.0%\n",
            "--------------------------------------------------\n",
            "Accuracy of classifier on test set:80.0%\n",
            "--------------------------------------------------\n"
          ],
          "name": "stdout"
        }
      ]
    },
    {
      "cell_type": "markdown",
      "metadata": {
        "id": "-W8_tHlPGeo3"
      },
      "source": [
        "# 5. Results\n",
        "\n",
        "Based on the above results, lets print the various classifier performance results:"
      ]
    },
    {
      "cell_type": "code",
      "metadata": {
        "id": "IcxDK0boGeo3",
        "outputId": "12d4220b-4dc4-476e-ee6a-a03021a37deb",
        "colab": {
          "base_uri": "https://localhost:8080/",
          "height": 235
        }
      },
      "source": [
        "# Printing model performance results.\n",
        "results_dict={'Classifier':['Logistic regression', 'SVC', 'MultinomialNB', 'DecisionTreeClassifier',\n",
        "                            'KNeighborsClassifier','RandomForestClassifier'],\n",
        "              'F1-Score':[0.81, 0.40, .80, .75,0.65,0.76],'Accuracy':['81%', '56%', '80%','75%','69%','77%']} \n",
        "results=pd.DataFrame(results_dict)\n",
        "results"
      ],
      "execution_count": 194,
      "outputs": [
        {
          "output_type": "execute_result",
          "data": {
            "text/html": [
              "<div>\n",
              "<style scoped>\n",
              "    .dataframe tbody tr th:only-of-type {\n",
              "        vertical-align: middle;\n",
              "    }\n",
              "\n",
              "    .dataframe tbody tr th {\n",
              "        vertical-align: top;\n",
              "    }\n",
              "\n",
              "    .dataframe thead th {\n",
              "        text-align: right;\n",
              "    }\n",
              "</style>\n",
              "<table border=\"1\" class=\"dataframe\">\n",
              "  <thead>\n",
              "    <tr style=\"text-align: right;\">\n",
              "      <th></th>\n",
              "      <th>Classifier</th>\n",
              "      <th>F1-Score</th>\n",
              "      <th>Accuracy</th>\n",
              "    </tr>\n",
              "  </thead>\n",
              "  <tbody>\n",
              "    <tr>\n",
              "      <th>0</th>\n",
              "      <td>Logistic regression</td>\n",
              "      <td>0.81</td>\n",
              "      <td>81%</td>\n",
              "    </tr>\n",
              "    <tr>\n",
              "      <th>1</th>\n",
              "      <td>SVC</td>\n",
              "      <td>0.40</td>\n",
              "      <td>56%</td>\n",
              "    </tr>\n",
              "    <tr>\n",
              "      <th>2</th>\n",
              "      <td>MultinomialNB</td>\n",
              "      <td>0.80</td>\n",
              "      <td>80%</td>\n",
              "    </tr>\n",
              "    <tr>\n",
              "      <th>3</th>\n",
              "      <td>DecisionTreeClassifier</td>\n",
              "      <td>0.75</td>\n",
              "      <td>75%</td>\n",
              "    </tr>\n",
              "    <tr>\n",
              "      <th>4</th>\n",
              "      <td>KNeighborsClassifier</td>\n",
              "      <td>0.65</td>\n",
              "      <td>69%</td>\n",
              "    </tr>\n",
              "    <tr>\n",
              "      <th>5</th>\n",
              "      <td>RandomForestClassifier</td>\n",
              "      <td>0.76</td>\n",
              "      <td>77%</td>\n",
              "    </tr>\n",
              "  </tbody>\n",
              "</table>\n",
              "</div>"
            ],
            "text/plain": [
              "               Classifier  F1-Score Accuracy\n",
              "0     Logistic regression      0.81      81%\n",
              "1                     SVC      0.40      56%\n",
              "2           MultinomialNB      0.80      80%\n",
              "3  DecisionTreeClassifier      0.75      75%\n",
              "4    KNeighborsClassifier      0.65      69%\n",
              "5  RandomForestClassifier      0.76      77%"
            ]
          },
          "metadata": {
            "tags": []
          },
          "execution_count": 194
        }
      ]
    },
    {
      "cell_type": "markdown",
      "metadata": {
        "id": "XPsth1b3Geo4"
      },
      "source": [
        "It seems from all the classifiers tested, `LogisticRegression()` classifier performed best with `CountVectorizer()`."
      ]
    },
    {
      "cell_type": "code",
      "metadata": {
        "id": "pC9ODnAMGeo5",
        "outputId": "a338df77-efb5-4f3a-ae5f-c95086da68cd",
        "colab": {
          "base_uri": "https://localhost:8080/",
          "height": 204
        }
      },
      "source": [
        "# Fitting 'LogisticRegression()' with CountVectorizer() fit dataset\n",
        "clf_logreg = LogisticRegression(C=1.0)\n",
        "clf_logreg.fit(X_train_cv, y_train_cv)\n",
        "pred=clf_logreg.predict(X_test_cv)\n",
        "confusion_matrix(y_test_cv,pred)\n",
        "print(classification_report(y_test_cv,pred))\n",
        "print('Accuracy of classifier on training set:{}%'.format(round(clf_logreg.score(X_train_cv, y_train_cv)*100)))\n",
        "print('Accuracy of classifier on test set:{}%' .format(round(accuracy_score(y_test_cv,pred)*100)))"
      ],
      "execution_count": 195,
      "outputs": [
        {
          "output_type": "stream",
          "text": [
            "              precision    recall  f1-score   support\n",
            "\n",
            "           0       0.79      0.89      0.84       849\n",
            "           1       0.84      0.71      0.77       674\n",
            "\n",
            "    accuracy                           0.81      1523\n",
            "   macro avg       0.81      0.80      0.80      1523\n",
            "weighted avg       0.81      0.81      0.81      1523\n",
            "\n",
            "Accuracy of classifier on training set:96.0%\n",
            "Accuracy of classifier on test set:81.0%\n"
          ],
          "name": "stdout"
        }
      ]
    },
    {
      "cell_type": "code",
      "metadata": {
        "id": "wJ0tAwB5Geo6",
        "outputId": "21dc23eb-ff0a-48f1-f7eb-c6f6af2e97a7",
        "colab": {
          "base_uri": "https://localhost:8080/",
          "height": 102
        }
      },
      "source": [
        "clf_logreg"
      ],
      "execution_count": 196,
      "outputs": [
        {
          "output_type": "execute_result",
          "data": {
            "text/plain": [
              "LogisticRegression(C=1.0, class_weight=None, dual=False, fit_intercept=True,\n",
              "                   intercept_scaling=1, l1_ratio=None, max_iter=100,\n",
              "                   multi_class='auto', n_jobs=None, penalty='l2',\n",
              "                   random_state=None, solver='lbfgs', tol=0.0001, verbose=0,\n",
              "                   warm_start=False)"
            ]
          },
          "metadata": {
            "tags": []
          },
          "execution_count": 196
        }
      ]
    },
    {
      "cell_type": "markdown",
      "metadata": {
        "id": "1mLh74e1Geo7"
      },
      "source": [
        "### Model Performance Metrics\n",
        "\n",
        "After implementing a model and getting some output in forms of a probability or a class, the next step is to find out how effective is the model based on some metric using test data sets.Different performance metrics are used to evaluate different Machine Learning Algorithms.\n",
        "\n",
        "This problem is a classification problem hence I have claculated confusion matrix, F1-score and accuracy as a performacne metric to evaluate model performance.\n",
        "\n",
        "**1.Confusion Matrix:**\n",
        "\n",
        "The confusion matrix, is a table with two dimensions (“Actual” and “Predicted”), and sets of “classes” in both dimensions. Our Actual classifications are columns and Predicted ones are Rows.\n",
        "![image.png](attachment:image.png)\n",
        "\n",
        "The Confusion matrix in itself is not a performance measure as such, but almost all of the performance metrics are based on Confusion Matrix and the numbers inside it.\n",
        "\n",
        "**3.F1-Score:**\n",
        "\n",
        "F1-score combines precision and recall relative to a specific positive class. The F1-score can be interpreted as a weighted average of the precision and recall, where an F1-score reaches its best value at 1 and worst at 0.\n",
        "\n",
        "**2.Accuracy**:\n",
        "\n",
        "Accuracy in classification problems is the number of correct predictions made by the model over all predictions made.\n",
        "\n",
        "Accuracy is good measure when target class variable in the training dataset is nearly balanced.The distribution of the target class in provided training set is 57% for `0` class to 43% for `1` class which is about equally distributed.\n",
        "Due to this reason i chose 'accuracy' to be model performance evalution metric for this problem."
      ]
    },
    {
      "cell_type": "markdown",
      "metadata": {
        "id": "qnlfieitGeo8"
      },
      "source": [
        "### Model Improvements\n",
        "\n",
        "The result from `LogisticRegression()` classifier seems good enough than rest of the classifiers to be used as a final model.Based on the above results, it seems the classifier is not over fitting but lets try to improve the model by tuning some hyper parameters of the classifier."
      ]
    },
    {
      "cell_type": "code",
      "metadata": {
        "id": "1oPGu_ZYGeo8",
        "outputId": "67f44382-14bd-4826-9688-9b2d250df99e",
        "colab": {
          "base_uri": "https://localhost:8080/",
          "height": 34
        }
      },
      "source": [
        "# Create the list of various hyper parameters to try\n",
        "solvers = ['newton-cg', 'lbfgs', 'liblinear']\n",
        "penalty = ['l2']\n",
        "c_values = [100, 10, 1.0, 0.1, 0.01]\n",
        "logreg= LogisticRegression()\n",
        "\n",
        "# Define and fit grid search\n",
        "grid = dict(solver=solvers,penalty=penalty,C=c_values)\n",
        "cv = RepeatedStratifiedKFold(n_splits=10, n_repeats=3, random_state=1)\n",
        "grid_search = GridSearchCV(estimator=logreg, param_grid=grid, n_jobs=-1, cv=cv, scoring='accuracy',error_score=0)\n",
        "grid_result = grid_search.fit(X_train_cv, y_train_cv)\n",
        "\n",
        "# Summarize and print results\n",
        "print(\"Best: %f using %s\" % (grid_result.best_score_, grid_result.best_params_))"
      ],
      "execution_count": 197,
      "outputs": [
        {
          "output_type": "stream",
          "text": [
            "Best: 0.795676 using {'C': 0.1, 'penalty': 'l2', 'solver': 'liblinear'}\n"
          ],
          "name": "stdout"
        }
      ]
    },
    {
      "cell_type": "markdown",
      "metadata": {
        "id": "t-Hc0hc5Geo9"
      },
      "source": [
        "From above results, it seems orignal classifier with default parameters performed best so that will be used as the final model for test data predictions."
      ]
    },
    {
      "cell_type": "code",
      "metadata": {
        "id": "2yfHINBkGeo-"
      },
      "source": [
        "# Lets apply pre-processing function to clean and pre-process text data before vectorizing\n",
        "test_df_final=test_df.copy()\n",
        "test_df_final['text'] = test_df_final['text'].apply(lambda x : pre_process_text_combined(x))"
      ],
      "execution_count": 198,
      "outputs": []
    },
    {
      "cell_type": "code",
      "metadata": {
        "id": "PFUU6WPWGepB"
      },
      "source": [
        "# Lets fit the test data with Countvectorizer() method to vectroize the data\n",
        "test_vector = count_vectorizer.transform(test_df_final[\"text\"])"
      ],
      "execution_count": 199,
      "outputs": []
    },
    {
      "cell_type": "markdown",
      "metadata": {
        "id": "c_cQD490GepD"
      },
      "source": [
        "Lets create a function to generate predictions for the provided test data for submission."
      ]
    },
    {
      "cell_type": "code",
      "metadata": {
        "id": "LezXHWexGepD"
      },
      "source": [
        "# Define a function to generate predictions and store in a.csv file for submission on Kaggle\n",
        "def submission(sub_file,model,test_vector):\n",
        "    \n",
        "    '''Input- sub_file=Location of the file submission file\n",
        "              model=final fit model to be used for predictions\n",
        "              test_vector=pre-processed and vectorized test dataset\n",
        "       Output- submission file in .csv format with predictions       \n",
        "    \n",
        "    '''\n",
        "    sub_df = pd.read_csv(sub_file)\n",
        "    sub_df[\"target\"] = model.predict(test_vector)\n",
        "    sub_df.to_csv(\"submission.csv\", index=False)"
      ],
      "execution_count": 200,
      "outputs": []
    },
    {
      "cell_type": "code",
      "metadata": {
        "id": "j6XpGQdoGepF"
      },
      "source": [
        "# Use Submission() function to generate submission file for posting on Kaggle\n",
        "sub_file = \"https://raw.githubusercontent.com/pavstar619/Data-Science-Capstone/master/sample_submission.csv\"\n",
        "test_vector=test_vector\n",
        "submission(sub_file,clf_logreg,test_vector)"
      ],
      "execution_count": 201,
      "outputs": []
    },
    {
      "cell_type": "code",
      "metadata": {
        "id": "SCwp6Zc05xO3",
        "outputId": "e5bef2d9-3cd3-4ed2-a0df-d23c87b55053",
        "colab": {
          "base_uri": "https://localhost:8080/",
          "height": 17
        }
      },
      "source": [
        "''' from google.colab import files\n",
        "files.download(\"submission.csv\") '''"
      ],
      "execution_count": 202,
      "outputs": [
        {
          "output_type": "display_data",
          "data": {
            "application/javascript": [
              "\n",
              "    async function download(id, filename, size) {\n",
              "      if (!google.colab.kernel.accessAllowed) {\n",
              "        return;\n",
              "      }\n",
              "      const div = document.createElement('div');\n",
              "      const label = document.createElement('label');\n",
              "      label.textContent = `Downloading \"${filename}\": `;\n",
              "      div.appendChild(label);\n",
              "      const progress = document.createElement('progress');\n",
              "      progress.max = size;\n",
              "      div.appendChild(progress);\n",
              "      document.body.appendChild(div);\n",
              "\n",
              "      const buffers = [];\n",
              "      let downloaded = 0;\n",
              "\n",
              "      const channel = await google.colab.kernel.comms.open(id);\n",
              "      // Send a message to notify the kernel that we're ready.\n",
              "      channel.send({})\n",
              "\n",
              "      for await (const message of channel.messages) {\n",
              "        // Send a message to notify the kernel that we're ready.\n",
              "        channel.send({})\n",
              "        if (message.buffers) {\n",
              "          for (const buffer of message.buffers) {\n",
              "            buffers.push(buffer);\n",
              "            downloaded += buffer.byteLength;\n",
              "            progress.value = downloaded;\n",
              "          }\n",
              "        }\n",
              "      }\n",
              "      const blob = new Blob(buffers, {type: 'application/binary'});\n",
              "      const a = document.createElement('a');\n",
              "      a.href = window.URL.createObjectURL(blob);\n",
              "      a.download = filename;\n",
              "      div.appendChild(a);\n",
              "      a.click();\n",
              "      div.remove();\n",
              "    }\n",
              "  "
            ],
            "text/plain": [
              "<IPython.core.display.Javascript object>"
            ]
          },
          "metadata": {
            "tags": []
          }
        },
        {
          "output_type": "display_data",
          "data": {
            "application/javascript": [
              "download(\"download_ebfdda20-c976-44e6-b282-126ed56c214f\", \"submission.csv\", 22746)"
            ],
            "text/plain": [
              "<IPython.core.display.Javascript object>"
            ]
          },
          "metadata": {
            "tags": []
          }
        }
      ]
    },
    {
      "cell_type": "markdown",
      "metadata": {
        "id": "Yl8nSf3qGepH"
      },
      "source": [
        "# 6. Challenges\n",
        "\n",
        "Working on this data science capstone project went pretty smoothly without many issues. Even though every step in developing this project was smooth, following complications were faced:\n",
        "\n",
        "- There are only about 7000 data records for training which seems low and hence accuracy of model suffers.\n",
        "- I took the NLP challenge for my capstone project and this area is new and challenging for me since i had to start from scratch. \n",
        "- Learning new area and working on a capstone project was little difficult due to the fact that I don't have much time left  on my nano degree.  \n",
        "- New topic and less time also restricted me to test few more models from deep neural network area.\n"
      ]
    },
    {
      "cell_type": "markdown",
      "metadata": {
        "id": "qkGjZAduGepH"
      },
      "source": [
        "# 7. Conclusion\n",
        "\n",
        "In this capstone project, I took a Kaggle challenge to classify tweets into disaster tweets in real or not?. First, I have analyzed and explored all the provided tweets data to visualize the statistical and other properties of the presented data.Next, I performed some exploratory analysis of the data to check type of the data, whether there are unwanted features and if features have missing data. Based on the analysis, I decided to drop ‘location’ column since it has most the data missing and really have no effect on classification of tweets. The ‘text’ columns is all text data along with alpha numeric, special characters and embedded URLs.The ‘text’ column data needs to be cleaned and pre processed and vectorized before it can be used with a machine learning algorithm for the classification of the tweets.\n",
        "\n",
        "After pre processing the train and test data,the data was vectorized using `CountVectorizer` and `TFIDF` features and then it was split into training and test data, and then various classifiers were fit on the data and predictions were made.Out of all classifiers tested, LogisticRegression() performed the best with the test accuracy of 81%. An effort was made to tune some hyper parameters of the final classifier to see if accuracy can be improved.It turned out that classifier with default parameters preformed little better than tuned model .\n",
        "\n",
        "Finally, `LogisticRegression()` classifier with default parameters was selected as final model for this NLP classifications challenge and predictions were made on the test data. Kaggle submission³ of the predictions resulted in an accuracy of 79%."
      ]
    },
    {
      "cell_type": "markdown",
      "metadata": {
        "id": "g0eK9oD3GepH"
      },
      "source": [
        "# 8. Improvements\n",
        "\n",
        "I believe there are definitely opportunities to try out various machine learning models to see if there are better performing models could be found to solve this problem with higher than 79% accuracy.\n",
        "\n",
        "Trying neural network and deep neural network models such as `RNN(Recurrent Neural Network)` might result in higher accuracy and better performance but may be very costly in terms of compute resources used.\n",
        "\n",
        "Another way to improve the accuracy of the models would be to have more training data than given."
      ]
    },
    {
      "cell_type": "code",
      "metadata": {
        "id": "_PZlXhPAGepI"
      },
      "source": [
        ""
      ],
      "execution_count": null,
      "outputs": []
    },
    {
      "cell_type": "code",
      "metadata": {
        "id": "WRyPmMjpGepJ"
      },
      "source": [
        ""
      ],
      "execution_count": null,
      "outputs": []
    }
  ]
}
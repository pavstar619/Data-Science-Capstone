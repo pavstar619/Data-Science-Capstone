{
  "nbformat": 4,
  "nbformat_minor": 0,
  "metadata": {
    "kernelspec": {
      "display_name": "Python 3",
      "language": "python",
      "name": "python3"
    },
    "language_info": {
      "codemirror_mode": {
        "name": "ipython",
        "version": 3
      },
      "file_extension": ".py",
      "mimetype": "text/x-python",
      "name": "python",
      "nbconvert_exporter": "python",
      "pygments_lexer": "ipython3",
      "version": "3.7.1"
    },
    "colab": {
      "name": "DS Capstone.ipynb",
      "provenance": []
    }
  },
  "cells": [
    {
      "cell_type": "markdown",
      "metadata": {
        "id": "PS--vcQoGel3"
      },
      "source": [
        "# Capstone Project (Real or Not? NLP with Disaster Tweets)\n",
        "\n",
        "Predict which Tweets are about real disasters and which ones are not."
      ]
    },
    {
      "cell_type": "markdown",
      "metadata": {
        "id": "h1R3xCs_Gel4"
      },
      "source": [
        "## Project Overview\n",
        "\n",
        "Twitter has become an important communication channel in times of emergency.\n",
        "The ubiquitousness of smartphones enables people to announce an emergency they’re observing in real-time. Because of this, more agencies are interested in programatically monitoring tweets(i.e. disaster relief organizations and news agencies) but, it’s not always clear whether a person’s words are actually announcing a disaster.\n",
        "\n",
        "Take an example of a tweet *'On plus side LOOK AT THE SKY LAST NIGHT IT WAS ABLAZE'*.The author of the tweet explicitly uses the word “ABLAZE” but means it metaphorically. This is clear to a human right away, especially with the visual aid but it’s less clear to a machine.\n",
        "\n",
        "Kaggle hosted this challenge on their platform and dataset was created by the company figure-eight originally shared on their ‘Data For Everyone’ website here."
      ]
    },
    {
      "cell_type": "markdown",
      "metadata": {
        "id": "L33CGTcEGel5"
      },
      "source": [
        "\n",
        "## The Problem\n",
        "\n",
        "The problem to be solved by this project is how to identify which tweets are about real disasters and which one’s aren’t.This project will build a machine learning model to predict which Tweets are about real disasters and which one’s aren’t.\n"
      ]
    },
    {
      "cell_type": "markdown",
      "metadata": {
        "id": "dcdIrTwYGel6"
      },
      "source": [
        "# 1. Analysis "
      ]
    },
    {
      "cell_type": "markdown",
      "metadata": {
        "id": "Ft0KdNbBGel6"
      },
      "source": [
        "## Part I: Business understanding\n",
        "\n",
        "Objective of the capstone project is to understand the business domain, analyze and explore the given data set then train and fit the a machine learning model and finally classify given test tweets data into announcing disaster or not.Disaster relief organizations and News Agencies would be the main users of this kind of application. The data is provided by company figure-eight which contains about 10000 tweets and they are hand labeled."
      ]
    },
    {
      "cell_type": "markdown",
      "metadata": {
        "id": "shYMTv5cGel7"
      },
      "source": [
        "## Part II: Data Exploration\n",
        "\n",
        "Given dataset contains 3 files:\n",
        "- `train.csv` - the training set\n",
        "- `test.csv` - the test set\n",
        "- `sample_submission.csv` - a sample submission file in the correct format\n",
        "\n",
        "Each sample in the train and test set has the following information:\n",
        "- The text of a tweet\n",
        "- A keyword from that tweet (although this may be blank!)\n",
        "- The location the tweet was sent from (may also be blank)\n",
        "\n",
        "Features in the files:\n",
        "- `id` - a unique identifier for each tweet\n",
        "- `text` - the text of the tweet\n",
        "- `location` - the location the tweet was sent from (may be blank)\n",
        "- `keyword` - a particular keyword from the tweet (may be blank)\n",
        "- `target` - in train.csv only, this denotes whether a tweet is about a real disaster (1) or not (0)"
      ]
    },
    {
      "cell_type": "code",
      "metadata": {
        "id": "wC3UGEtGGel8",
        "outputId": "c19297c3-f363-4699-a20d-4d70a110d94d",
        "colab": {
          "base_uri": "https://localhost:8080/",
          "height": 34
        }
      },
      "source": [
        "#Importing the required libraries to read,visualize and model the givn dataset files\n",
        "import pandas as pd\n",
        "import numpy as np\n",
        "import seaborn as sns\n",
        "import matplotlib.pyplot as plt\n",
        "import plotly.graph_objects as go\n",
        "import plotly.express as px\n",
        "import missingno as msno \n",
        "import warnings\n",
        "warnings.filterwarnings(\"ignore\")\n",
        "import re\n",
        "import re\n",
        "import string\n",
        "import nltk\n",
        "from nltk.corpus import stopwords\n",
        "from sklearn import model_selection\n",
        "from sklearn.feature_extraction.text import CountVectorizer,TfidfVectorizer\n",
        "from sklearn.model_selection import train_test_split,GridSearchCV\n",
        "from sklearn.naive_bayes import MultinomialNB\n",
        "from sklearn.metrics import f1_score\n",
        "from sklearn.metrics import classification_report, confusion_matrix, accuracy_score\n",
        "from sklearn.pipeline import Pipeline\n",
        "from sklearn.feature_extraction.text import TfidfTransformer\n",
        "from sklearn.linear_model import LogisticRegression\n",
        "from sklearn.svm import SVC\n",
        "from sklearn.neighbors import KNeighborsClassifier\n",
        "from sklearn.tree import DecisionTreeClassifier\n",
        "from sklearn.ensemble import RandomForestClassifier\n",
        "from sklearn.multioutput import MultiOutputClassifier\n",
        "from sklearn.model_selection import RepeatedStratifiedKFold\n",
        "import nltk\n",
        "from nltk.tokenize import word_tokenize,RegexpTokenizer\n",
        "from nltk.stem import WordNetLemmatizer\n",
        "from platform import python_version\n",
        "print (python_version())"
      ],
      "execution_count": null,
      "outputs": [
        {
          "output_type": "stream",
          "text": [
            "3.6.9\n"
          ],
          "name": "stdout"
        }
      ]
    },
    {
      "cell_type": "code",
      "metadata": {
        "id": "9C8fM6dEK-Xd",
        "outputId": "782af82e-c5c5-4b3b-b1dc-ff4f46db8500",
        "colab": {
          "base_uri": "https://localhost:8080/",
          "height": 850
        }
      },
      "source": [
        "nltk.download(\"popular\")"
      ],
      "execution_count": null,
      "outputs": [
        {
          "output_type": "stream",
          "text": [
            "[nltk_data] Downloading collection 'popular'\n",
            "[nltk_data]    | \n",
            "[nltk_data]    | Downloading package cmudict to /root/nltk_data...\n",
            "[nltk_data]    |   Package cmudict is already up-to-date!\n",
            "[nltk_data]    | Downloading package gazetteers to /root/nltk_data...\n",
            "[nltk_data]    |   Package gazetteers is already up-to-date!\n",
            "[nltk_data]    | Downloading package genesis to /root/nltk_data...\n",
            "[nltk_data]    |   Package genesis is already up-to-date!\n",
            "[nltk_data]    | Downloading package gutenberg to /root/nltk_data...\n",
            "[nltk_data]    |   Package gutenberg is already up-to-date!\n",
            "[nltk_data]    | Downloading package inaugural to /root/nltk_data...\n",
            "[nltk_data]    |   Package inaugural is already up-to-date!\n",
            "[nltk_data]    | Downloading package movie_reviews to\n",
            "[nltk_data]    |     /root/nltk_data...\n",
            "[nltk_data]    |   Package movie_reviews is already up-to-date!\n",
            "[nltk_data]    | Downloading package names to /root/nltk_data...\n",
            "[nltk_data]    |   Package names is already up-to-date!\n",
            "[nltk_data]    | Downloading package shakespeare to /root/nltk_data...\n",
            "[nltk_data]    |   Package shakespeare is already up-to-date!\n",
            "[nltk_data]    | Downloading package stopwords to /root/nltk_data...\n",
            "[nltk_data]    |   Package stopwords is already up-to-date!\n",
            "[nltk_data]    | Downloading package treebank to /root/nltk_data...\n",
            "[nltk_data]    |   Package treebank is already up-to-date!\n",
            "[nltk_data]    | Downloading package twitter_samples to\n",
            "[nltk_data]    |     /root/nltk_data...\n",
            "[nltk_data]    |   Package twitter_samples is already up-to-date!\n",
            "[nltk_data]    | Downloading package omw to /root/nltk_data...\n",
            "[nltk_data]    |   Package omw is already up-to-date!\n",
            "[nltk_data]    | Downloading package wordnet to /root/nltk_data...\n",
            "[nltk_data]    |   Package wordnet is already up-to-date!\n",
            "[nltk_data]    | Downloading package wordnet_ic to /root/nltk_data...\n",
            "[nltk_data]    |   Package wordnet_ic is already up-to-date!\n",
            "[nltk_data]    | Downloading package words to /root/nltk_data...\n",
            "[nltk_data]    |   Package words is already up-to-date!\n",
            "[nltk_data]    | Downloading package maxent_ne_chunker to\n",
            "[nltk_data]    |     /root/nltk_data...\n",
            "[nltk_data]    |   Package maxent_ne_chunker is already up-to-date!\n",
            "[nltk_data]    | Downloading package punkt to /root/nltk_data...\n",
            "[nltk_data]    |   Package punkt is already up-to-date!\n",
            "[nltk_data]    | Downloading package snowball_data to\n",
            "[nltk_data]    |     /root/nltk_data...\n",
            "[nltk_data]    |   Package snowball_data is already up-to-date!\n",
            "[nltk_data]    | Downloading package averaged_perceptron_tagger to\n",
            "[nltk_data]    |     /root/nltk_data...\n",
            "[nltk_data]    |   Package averaged_perceptron_tagger is already up-\n",
            "[nltk_data]    |       to-date!\n",
            "[nltk_data]    | \n",
            "[nltk_data]  Done downloading collection popular\n"
          ],
          "name": "stdout"
        },
        {
          "output_type": "execute_result",
          "data": {
            "text/plain": [
              "True"
            ]
          },
          "metadata": {
            "tags": []
          },
          "execution_count": 63
        }
      ]
    },
    {
      "cell_type": "code",
      "metadata": {
        "id": "ewMqBDHdGemA",
        "outputId": "aff6b10b-bdda-46aa-96f4-d7e7c4b7b5b7",
        "colab": {
          "base_uri": "https://localhost:8080/",
          "height": 34
        }
      },
      "source": [
        "# Read the dataset csv files and create pandas datframes\n",
        "train_df=pd.read_csv(\"https://raw.githubusercontent.com/pavstar619/Data-Science-Capstone/master/train.csv\")\n",
        "test_df=pd.read_csv(\"https://raw.githubusercontent.com/pavstar619/Data-Science-Capstone/master/test.csv\")\n",
        "print(\"Train and Test data sets are imported successfully\")\n",
        "#X=train_df.text\n",
        "#y=train_df.target"
      ],
      "execution_count": null,
      "outputs": [
        {
          "output_type": "stream",
          "text": [
            "Train and Test data sets are imported successfully\n"
          ],
          "name": "stdout"
        }
      ]
    },
    {
      "cell_type": "code",
      "metadata": {
        "id": "yx1H3KTvGemG"
      },
      "source": [
        "# Define a function to explore the train and test dataframes\n",
        "def explore_data(df):\n",
        "    \n",
        "    '''Input- df= pandas dataframes to be explored\n",
        "       Output- print shape, info and first 5 records of the dataframe \n",
        "    '''\n",
        "    \n",
        "    print(\"-\"*50)\n",
        "    print('Shape of the dataframe:',df.shape)\n",
        "    print(\"Number of records in train data set:\",df.shape[0])\n",
        "    print(\"Information of the dataset:\")\n",
        "    df.info()\n",
        "    print(\"-\"*50)\n",
        "    print(\"First 5 records of the dataset:\")\n",
        "    return df.head()\n",
        "    print(\"-\"*50)"
      ],
      "execution_count": null,
      "outputs": []
    },
    {
      "cell_type": "code",
      "metadata": {
        "id": "EnTrd1loGemJ",
        "outputId": "8ece16b3-5e81-4779-c933-030470c825fe",
        "colab": {
          "base_uri": "https://localhost:8080/",
          "height": 510
        }
      },
      "source": [
        "# Lets use explore_data() function to explore train data\n",
        "explore_data(train_df)"
      ],
      "execution_count": null,
      "outputs": [
        {
          "output_type": "stream",
          "text": [
            "--------------------------------------------------\n",
            "Shape of the dataframe: (7613, 5)\n",
            "Number of records in train data set: 7613\n",
            "Information of the dataset:\n",
            "<class 'pandas.core.frame.DataFrame'>\n",
            "RangeIndex: 7613 entries, 0 to 7612\n",
            "Data columns (total 5 columns):\n",
            " #   Column    Non-Null Count  Dtype \n",
            "---  ------    --------------  ----- \n",
            " 0   id        7613 non-null   int64 \n",
            " 1   keyword   7552 non-null   object\n",
            " 2   location  5080 non-null   object\n",
            " 3   text      7613 non-null   object\n",
            " 4   target    7613 non-null   int64 \n",
            "dtypes: int64(2), object(3)\n",
            "memory usage: 297.5+ KB\n",
            "--------------------------------------------------\n",
            "First 5 records of the dataset:\n"
          ],
          "name": "stdout"
        },
        {
          "output_type": "execute_result",
          "data": {
            "text/html": [
              "<div>\n",
              "<style scoped>\n",
              "    .dataframe tbody tr th:only-of-type {\n",
              "        vertical-align: middle;\n",
              "    }\n",
              "\n",
              "    .dataframe tbody tr th {\n",
              "        vertical-align: top;\n",
              "    }\n",
              "\n",
              "    .dataframe thead th {\n",
              "        text-align: right;\n",
              "    }\n",
              "</style>\n",
              "<table border=\"1\" class=\"dataframe\">\n",
              "  <thead>\n",
              "    <tr style=\"text-align: right;\">\n",
              "      <th></th>\n",
              "      <th>id</th>\n",
              "      <th>keyword</th>\n",
              "      <th>location</th>\n",
              "      <th>text</th>\n",
              "      <th>target</th>\n",
              "    </tr>\n",
              "  </thead>\n",
              "  <tbody>\n",
              "    <tr>\n",
              "      <th>0</th>\n",
              "      <td>1</td>\n",
              "      <td>NaN</td>\n",
              "      <td>NaN</td>\n",
              "      <td>Our Deeds are the Reason of this #earthquake M...</td>\n",
              "      <td>1</td>\n",
              "    </tr>\n",
              "    <tr>\n",
              "      <th>1</th>\n",
              "      <td>4</td>\n",
              "      <td>NaN</td>\n",
              "      <td>NaN</td>\n",
              "      <td>Forest fire near La Ronge Sask. Canada</td>\n",
              "      <td>1</td>\n",
              "    </tr>\n",
              "    <tr>\n",
              "      <th>2</th>\n",
              "      <td>5</td>\n",
              "      <td>NaN</td>\n",
              "      <td>NaN</td>\n",
              "      <td>All residents asked to 'shelter in place' are ...</td>\n",
              "      <td>1</td>\n",
              "    </tr>\n",
              "    <tr>\n",
              "      <th>3</th>\n",
              "      <td>6</td>\n",
              "      <td>NaN</td>\n",
              "      <td>NaN</td>\n",
              "      <td>13,000 people receive #wildfires evacuation or...</td>\n",
              "      <td>1</td>\n",
              "    </tr>\n",
              "    <tr>\n",
              "      <th>4</th>\n",
              "      <td>7</td>\n",
              "      <td>NaN</td>\n",
              "      <td>NaN</td>\n",
              "      <td>Just got sent this photo from Ruby #Alaska as ...</td>\n",
              "      <td>1</td>\n",
              "    </tr>\n",
              "  </tbody>\n",
              "</table>\n",
              "</div>"
            ],
            "text/plain": [
              "   id keyword  ...                                               text target\n",
              "0   1     NaN  ...  Our Deeds are the Reason of this #earthquake M...      1\n",
              "1   4     NaN  ...             Forest fire near La Ronge Sask. Canada      1\n",
              "2   5     NaN  ...  All residents asked to 'shelter in place' are ...      1\n",
              "3   6     NaN  ...  13,000 people receive #wildfires evacuation or...      1\n",
              "4   7     NaN  ...  Just got sent this photo from Ruby #Alaska as ...      1\n",
              "\n",
              "[5 rows x 5 columns]"
            ]
          },
          "metadata": {
            "tags": []
          },
          "execution_count": 66
        }
      ]
    },
    {
      "cell_type": "code",
      "metadata": {
        "id": "_mUZeld6GemM",
        "outputId": "2b3b9c56-7b69-4118-fdf3-6437e1799426",
        "colab": {
          "base_uri": "https://localhost:8080/",
          "height": 493
        }
      },
      "source": [
        "# Lets use explore_data() function to explore test data\n",
        "explore_data(test_df)"
      ],
      "execution_count": null,
      "outputs": [
        {
          "output_type": "stream",
          "text": [
            "--------------------------------------------------\n",
            "Shape of the dataframe: (3263, 4)\n",
            "Number of records in train data set: 3263\n",
            "Information of the dataset:\n",
            "<class 'pandas.core.frame.DataFrame'>\n",
            "RangeIndex: 3263 entries, 0 to 3262\n",
            "Data columns (total 4 columns):\n",
            " #   Column    Non-Null Count  Dtype \n",
            "---  ------    --------------  ----- \n",
            " 0   id        3263 non-null   int64 \n",
            " 1   keyword   3237 non-null   object\n",
            " 2   location  2158 non-null   object\n",
            " 3   text      3263 non-null   object\n",
            "dtypes: int64(1), object(3)\n",
            "memory usage: 102.1+ KB\n",
            "--------------------------------------------------\n",
            "First 5 records of the dataset:\n"
          ],
          "name": "stdout"
        },
        {
          "output_type": "execute_result",
          "data": {
            "text/html": [
              "<div>\n",
              "<style scoped>\n",
              "    .dataframe tbody tr th:only-of-type {\n",
              "        vertical-align: middle;\n",
              "    }\n",
              "\n",
              "    .dataframe tbody tr th {\n",
              "        vertical-align: top;\n",
              "    }\n",
              "\n",
              "    .dataframe thead th {\n",
              "        text-align: right;\n",
              "    }\n",
              "</style>\n",
              "<table border=\"1\" class=\"dataframe\">\n",
              "  <thead>\n",
              "    <tr style=\"text-align: right;\">\n",
              "      <th></th>\n",
              "      <th>id</th>\n",
              "      <th>keyword</th>\n",
              "      <th>location</th>\n",
              "      <th>text</th>\n",
              "    </tr>\n",
              "  </thead>\n",
              "  <tbody>\n",
              "    <tr>\n",
              "      <th>0</th>\n",
              "      <td>0</td>\n",
              "      <td>NaN</td>\n",
              "      <td>NaN</td>\n",
              "      <td>Just happened a terrible car crash</td>\n",
              "    </tr>\n",
              "    <tr>\n",
              "      <th>1</th>\n",
              "      <td>2</td>\n",
              "      <td>NaN</td>\n",
              "      <td>NaN</td>\n",
              "      <td>Heard about #earthquake is different cities, s...</td>\n",
              "    </tr>\n",
              "    <tr>\n",
              "      <th>2</th>\n",
              "      <td>3</td>\n",
              "      <td>NaN</td>\n",
              "      <td>NaN</td>\n",
              "      <td>there is a forest fire at spot pond, geese are...</td>\n",
              "    </tr>\n",
              "    <tr>\n",
              "      <th>3</th>\n",
              "      <td>9</td>\n",
              "      <td>NaN</td>\n",
              "      <td>NaN</td>\n",
              "      <td>Apocalypse lighting. #Spokane #wildfires</td>\n",
              "    </tr>\n",
              "    <tr>\n",
              "      <th>4</th>\n",
              "      <td>11</td>\n",
              "      <td>NaN</td>\n",
              "      <td>NaN</td>\n",
              "      <td>Typhoon Soudelor kills 28 in China and Taiwan</td>\n",
              "    </tr>\n",
              "  </tbody>\n",
              "</table>\n",
              "</div>"
            ],
            "text/plain": [
              "   id keyword location                                               text\n",
              "0   0     NaN      NaN                 Just happened a terrible car crash\n",
              "1   2     NaN      NaN  Heard about #earthquake is different cities, s...\n",
              "2   3     NaN      NaN  there is a forest fire at spot pond, geese are...\n",
              "3   9     NaN      NaN           Apocalypse lighting. #Spokane #wildfires\n",
              "4  11     NaN      NaN      Typhoon Soudelor kills 28 in China and Taiwan"
            ]
          },
          "metadata": {
            "tags": []
          },
          "execution_count": 67
        }
      ]
    },
    {
      "cell_type": "markdown",
      "metadata": {
        "id": "7BNboGutGemQ"
      },
      "source": [
        "It seems train and test dataset has 'NaN' values for `keyword` and `location` columns. Let's explore the dataset further for missing data values."
      ]
    },
    {
      "cell_type": "code",
      "metadata": {
        "id": "l3Cq7JjCGemQ"
      },
      "source": [
        "#Calculate count and percentage of missing values in the dataframe\n",
        "\n",
        "def missing_values(df):\n",
        "    \n",
        "    '''Input- df=pandas dataframe\n",
        "       Output- print missing records count and % of the input dataframe and visualize using MSNO\n",
        "    '''\n",
        "    \n",
        "    print(\"Number of records with missing location:\",df.location.isnull().sum())\n",
        "    print(\"Number of records with missing keywords:\",df.keyword.isnull().sum())\n",
        "    print('{}% of location values are missing from Total Number of Records.'.format(round((df.location.isnull().sum())/(df.shape[0])*100),2))\n",
        "    print('{}% of keywords values are missing from Total Number of Records.'.format(round((df.keyword.isnull().sum())/(df.shape[0])*100),2))\n",
        "    msno.matrix(df);"
      ],
      "execution_count": null,
      "outputs": []
    },
    {
      "cell_type": "code",
      "metadata": {
        "id": "V9gc5QnNGemU",
        "outputId": "df4a61b3-fd1c-4b0f-cc23-e9939ddda5a9",
        "colab": {
          "base_uri": "https://localhost:8080/",
          "height": 619
        }
      },
      "source": [
        "# Lets use missing_values function to explore train dataset\n",
        "missing_values(train_df)"
      ],
      "execution_count": null,
      "outputs": [
        {
          "output_type": "stream",
          "text": [
            "Number of records with missing location: 2533\n",
            "Number of records with missing keywords: 61\n",
            "33.0% of location values are missing from Total Number of Records.\n",
            "1.0% of keywords values are missing from Total Number of Records.\n"
          ],
          "name": "stdout"
        },
        {
          "output_type": "display_data",
          "data": {
            "image/png": "[encoded data removed]",
            "text/plain": [
              "<Figure size 1800x720 with 2 Axes>"
            ]
          },
          "metadata": {
            "tags": [],
            "needs_background": "light"
          }
        }
      ]
    },
    {
      "cell_type": "code",
      "metadata": {
        "id": "_WmtxQ_dGemX",
        "outputId": "c81ee358-0da4-4fbd-a8d6-cdcf4f997741",
        "colab": {
          "base_uri": "https://localhost:8080/",
          "height": 619
        }
      },
      "source": [
        "# Lets use missing_values function to explore train dataset\n",
        "missing_values(test_df);"
      ],
      "execution_count": null,
      "outputs": [
        {
          "output_type": "stream",
          "text": [
            "Number of records with missing location: 1105\n",
            "Number of records with missing keywords: 26\n",
            "34.0% of location values are missing from Total Number of Records.\n",
            "1.0% of keywords values are missing from Total Number of Records.\n"
          ],
          "name": "stdout"
        },
        {
          "output_type": "display_data",
          "data": {
            "image/png": "[encoded data removed]",
            "text/plain": [
              "<Figure size 1800x720 with 2 Axes>"
            ]
          },
          "metadata": {
            "tags": [],
            "needs_background": "light"
          }
        }
      ]
    },
    {
      "cell_type": "markdown",
      "metadata": {
        "id": "zPi_952hGema"
      },
      "source": [
        "From train data frame description and analysis, it is obivous that:\n",
        "- `location` feature is not automatically generated feature, and it seems it is user input hence too many records are missing.In my opinion, `location` column from our dataset could be dropped.\n",
        "- We will keep the `keyword` feature because there are a lot of unique keywords and missing values are very insignificant (< 1 percentage)"
      ]
    },
    {
      "cell_type": "code",
      "metadata": {
        "id": "yB_wrUtLGema"
      },
      "source": [
        "#Lets visulaize dataframe features using charts\n",
        "def feature_viz(df,feature):\n",
        "    \n",
        "    '''Input- df=pandas dataframe\n",
        "              feature= column to be charted\n",
        "       Output- bar and scatter chart using plotly       \n",
        "    \n",
        "    '''\n",
        "    #Visualize the feature\n",
        "    if feature=='target':\n",
        "        sns.countplot(feature, data=df)\n",
        "        print('Target of 0 is {} % of total'.format(round(df[feature].value_counts()[0]/len(df[feature])*100)))\n",
        "        print('Target of 1 is {} % of total'.format(round(df[feature].value_counts()[1]/len(df[feature])*100)))\n",
        "    else:\n",
        "        #Distinct keywords in train dataset\n",
        "        feat=df[feature].value_counts()\n",
        "        print(feat.head())\n",
        "        fig = px.scatter(feat, x=feat.values, y=feat.index,size=feat.values)\n",
        "        fig.show()"
      ],
      "execution_count": null,
      "outputs": []
    },
    {
      "cell_type": "code",
      "metadata": {
        "id": "adTl9GKdGemd",
        "outputId": "e36a9c0a-d052-45f6-8211-061f984ccdd1",
        "colab": {
          "base_uri": "https://localhost:8080/",
          "height": 313
        }
      },
      "source": [
        "#Lets use feature_viz function to create charts for 'target' column\n",
        "feature_viz(train_df,'target')"
      ],
      "execution_count": null,
      "outputs": [
        {
          "output_type": "stream",
          "text": [
            "Target of 0 is 57.0 % of total\n",
            "Target of 1 is 43.0 % of total\n"
          ],
          "name": "stdout"
        },
        {
          "output_type": "display_data",
          "data": {
            "image/png": "[encoded data removed]",
            "text/plain": [
              "<Figure size 432x288 with 1 Axes>"
            ]
          },
          "metadata": {
            "tags": [],
            "needs_background": "light"
          }
        }
      ]
    },
    {
      "cell_type": "code",
      "metadata": {
        "id": "o6_ubmjbGemg",
        "outputId": "0abca7c1-723d-4f72-c184-21ad30467cdf",
        "colab": {
          "base_uri": "https://localhost:8080/",
          "height": 644
        }
      },
      "source": [
        "#Lets use feature_viz function to create charts for 'keyword' column\n",
        "feature_viz(train_df,'keyword')"
      ],
      "execution_count": null,
      "outputs": [
        {
          "output_type": "stream",
          "text": [
            "fatalities     45\n",
            "armageddon     42\n",
            "deluge         42\n",
            "sinking        41\n",
            "body%20bags    41\n",
            "Name: keyword, dtype: int64\n"
          ],
          "name": "stdout"
        },
        {
          "output_type": "display_data",
          "data": {
            "text/html": [
              "<html>\n",
              "<head><meta charset=\"utf-8\" /></head>\n",
              "<body>\n",
              "    <div>\n",
              "            <script src=\"https://cdnjs.cloudflare.com/ajax/libs/mathjax/2.7.5/MathJax.js?config=TeX-AMS-MML_SVG\"></script><script type=\"text/javascript\">if (window.MathJax) {MathJax.Hub.Config({SVG: {font: \"STIX-Web\"}});}</script>\n",
              "                <script type=\"text/javascript\">window.PlotlyConfig = {MathJaxConfig: 'local'};</script>\n",
              "        <script src=\"https://cdn.plot.ly/plotly-latest.min.js\"></script>    \n",
              "            <div id=\"32eeea38-ab58-445a-b8f6-092e64b6cc91\" class=\"plotly-graph-div\" style=\"height:525px; width:100%;\"></div>\n",
              "            <script type=\"text/javascript\">\n",
              "                \n",
              "                    window.PLOTLYENV=window.PLOTLYENV || {};\n",
              "                    \n",
              "                if (document.getElementById(\"32eeea38-ab58-445a-b8f6-092e64b6cc91\")) {\n",
              "                    Plotly.newPlot(\n",
              "                        '32eeea38-ab58-445a-b8f6-092e64b6cc91',\n",
              "                        [{\"hoverlabel\": {\"namelength\": 0}, \"hovertemplate\": \"x=%{x}<br>y=%{y}<br>size=%{marker.size}\", \"legendgroup\": \"\", \"marker\": {\"color\": \"#636efa\", \"size\": [45, 42, 42, 41, 41, 41, 41, 40, 40, 40, 40, 40, 40, 40, 39, 39, 39, 39, 39, 39, 39, 39, 39, 39, 39, 39, 39, 39, 38, 38, 38, 38, 38, 38, 38, 38, 38, 38, 38, 38, 38, 38, 38, 38, 37, 37, 37, 37, 37, 37, 37, 37, 37, 37, 37, 37, 37, 37, 37, 37, 37, 37, 37, 36, 36, 36, 36, 36, 36, 36, 36, 36, 36, 36, 36, 36, 36, 36, 36, 36, 36, 36, 36, 35, 35, 35, 35, 35, 35, 35, 35, 35, 35, 35, 35, 35, 35, 35, 35, 35, 35, 35, 35, 35, 35, 35, 35, 35, 35, 35, 35, 35, 35, 35, 34, 34, 34, 34, 34, 34, 34, 34, 34, 34, 34, 34, 34, 34, 34, 34, 34, 34, 34, 34, 34, 34, 34, 34, 34, 34, 34, 34, 34, 34, 33, 33, 33, 33, 33, 33, 33, 33, 33, 33, 33, 33, 33, 33, 33, 33, 33, 33, 33, 33, 33, 33, 33, 33, 33, 33, 32, 32, 32, 32, 32, 32, 32, 32, 32, 32, 32, 32, 32, 32, 32, 31, 31, 31, 31, 31, 31, 31, 31, 31, 30, 30, 30, 30, 30, 30, 29, 29, 29, 29, 29, 29, 29, 29, 28, 28, 27, 27, 26, 25, 24, 22, 19, 12, 11, 10, 9], \"sizemode\": \"area\", \"sizeref\": 0.1125, \"symbol\": \"circle\"}, \"mode\": \"markers\", \"name\": \"\", \"showlegend\": false, \"type\": \"scatter\", \"x\": [45, 42, 42, 41, 41, 41, 41, 40, 40, 40, 40, 40, 40, 40, 39, 39, 39, 39, 39, 39, 39, 39, 39, 39, 39, 39, 39, 39, 38, 38, 38, 38, 38, 38, 38, 38, 38, 38, 38, 38, 38, 38, 38, 38, 37, 37, 37, 37, 37, 37, 37, 37, 37, 37, 37, 37, 37, 37, 37, 37, 37, 37, 37, 36, 36, 36, 36, 36, 36, 36, 36, 36, 36, 36, 36, 36, 36, 36, 36, 36, 36, 36, 36, 35, 35, 35, 35, 35, 35, 35, 35, 35, 35, 35, 35, 35, 35, 35, 35, 35, 35, 35, 35, 35, 35, 35, 35, 35, 35, 35, 35, 35, 35, 35, 34, 34, 34, 34, 34, 34, 34, 34, 34, 34, 34, 34, 34, 34, 34, 34, 34, 34, 34, 34, 34, 34, 34, 34, 34, 34, 34, 34, 34, 34, 33, 33, 33, 33, 33, 33, 33, 33, 33, 33, 33, 33, 33, 33, 33, 33, 33, 33, 33, 33, 33, 33, 33, 33, 33, 33, 32, 32, 32, 32, 32, 32, 32, 32, 32, 32, 32, 32, 32, 32, 32, 31, 31, 31, 31, 31, 31, 31, 31, 31, 30, 30, 30, 30, 30, 30, 29, 29, 29, 29, 29, 29, 29, 29, 28, 28, 27, 27, 26, 25, 24, 22, 19, 12, 11, 10, 9], \"xaxis\": \"x\", \"y\": [\"fatalities\", \"armageddon\", \"deluge\", \"sinking\", \"body%20bags\", \"damage\", \"harm\", \"collided\", \"twister\", \"siren\", \"fear\", \"outbreak\", \"windstorm\", \"evacuate\", \"collision\", \"flames\", \"whirlwind\", \"hellfire\", \"earthquake\", \"explosion\", \"weapons\", \"derailment\", \"wreckage\", \"weapon\", \"famine\", \"sunk\", \"sinkhole\", \"wrecked\", \"deaths\", \"typhoon\", \"upheaval\", \"ambulance\", \"drowned\", \"hurricane\", \"fire\", \"oil%20spill\", \"bombed\", \"explode\", \"flooding\", \"fatal\", \"blaze\", \"thunder\", \"derailed\", \"injury\", \"quarantined\", \"police\", \"panic\", \"wreck\", \"blizzard\", \"ruin\", \"burning%20buildings\", \"crush\", \"mudslide\", \"destroy\", \"curfew\", \"debris\", \"hostages\", \"sandstorm\", \"bioterror\", \"wounded\", \"pandemonium\", \"fatality\", \"emergency\", \"massacre\", \"danger\", \"death\", \"catastrophe\", \"evacuated\", \"ablaze\", \"attack\", \"engulfed\", \"devastation\", \"nuclear%20reactor\", \"desolation\", \"dust%20storm\", \"evacuation\", \"cliff%20fall\", \"floods\", \"detonate\", \"tragedy\", \"refugees\", \"displaced\", \"screaming\", \"bleeding\", \"hijacker\", \"derail\", \"storm\", \"injured\", \"collapsed\", \"rioting\", \"tornado\", \"casualties\", \"demolition\", \"rescued\", \"traumatised\", \"hail\", \"flood\", \"emergency%20plan\", \"airplane%20accident\", \"bloody\", \"hazardous\", \"accident\", \"disaster\", \"suicide%20bomb\", \"screams\", \"inundated\", \"attacked\", \"razed\", \"buildings%20burning\", \"drought\", \"blood\", \"structural%20failure\", \"rescuers\", \"bridge%20collapse\", \"collide\", \"bomb\", \"demolish\", \"tsunami\", \"aftershock\", \"flattened\", \"collapse\", \"drowning\", \"hazard\", \"crashed\", \"blazing\", \"arsonist\", \"terrorism\", \"rainstorm\", \"heat%20wave\", \"lava\", \"destruction\", \"nuclear%20disaster\", \"annihilated\", \"riot\", \"smoke\", \"casualty\", \"electrocuted\", \"quarantine\", \"natural%20disaster\", \"loud%20bang\", \"military\", \"army\", \"burning\", \"screamed\", \"buildings%20on%20fire\", \"survived\", \"body%20bag\", \"burned\", \"panicking\", \"body%20bagging\", \"landslide\", \"blown%20up\", \"mass%20murder\", \"injuries\", \"crash\", \"wounds\", \"wildfire\", \"chemical%20emergency\", \"suicide%20bombing\", \"trouble\", \"blew%20up\", \"meltdown\", \"fire%20truck\", \"exploded\", \"emergency%20services\", \"lightning\", \"violent%20storm\", \"hijack\", \"stretcher\", \"thunderstorm\", \"mass%20murderer\", \"arson\", \"forest%20fires\", \"electrocute\", \"apocalypse\", \"hijacking\", \"destroyed\", \"drown\", \"eyewitness\", \"cyclone\", \"detonation\", \"survive\", \"blight\", \"hailstorm\", \"trapped\", \"devastated\", \"terrorist\", \"suicide%20bomber\", \"trauma\", \"obliterate\", \"hostage\", \"obliterated\", \"wild%20fires\", \"crushed\", \"avalanche\", \"catastrophic\", \"bioterrorism\", \"mayhem\", \"survivors\", \"dead\", \"seismic\", \"bombing\", \"first%20responders\", \"desolate\", \"annihilation\", \"obliteration\", \"sirens\", \"snowstorm\", \"rubble\", \"demolished\", \"deluged\", \"volcano\", \"battle\", \"bush%20fires\", \"war%20zone\", \"rescue\", \"forest%20fire\", \"epicentre\", \"threat\", \"inundation\", \"radiation%20emergency\"], \"yaxis\": \"y\"}],\n",
              "                        {\"legend\": {\"itemsizing\": \"constant\", \"tracegroupgap\": 0}, \"margin\": {\"t\": 60}, \"template\": {\"data\": {\"bar\": [{\"error_x\": {\"color\": \"#2a3f5f\"}, \"error_y\": {\"color\": \"#2a3f5f\"}, \"marker\": {\"line\": {\"color\": \"#E5ECF6\", \"width\": 0.5}}, \"type\": \"bar\"}], \"barpolar\": [{\"marker\": {\"line\": {\"color\": \"#E5ECF6\", \"width\": 0.5}}, \"type\": \"barpolar\"}], \"carpet\": [{\"aaxis\": {\"endlinecolor\": \"#2a3f5f\", \"gridcolor\": \"white\", \"linecolor\": \"white\", \"minorgridcolor\": \"white\", \"startlinecolor\": \"#2a3f5f\"}, \"baxis\": {\"endlinecolor\": \"#2a3f5f\", \"gridcolor\": \"white\", \"linecolor\": \"white\", \"minorgridcolor\": \"white\", \"startlinecolor\": \"#2a3f5f\"}, \"type\": \"carpet\"}], \"choropleth\": [{\"colorbar\": {\"outlinewidth\": 0, \"ticks\": \"\"}, \"type\": \"choropleth\"}], \"contour\": [{\"colorbar\": {\"outlinewidth\": 0, \"ticks\": \"\"}, \"colorscale\": [[0.0, \"#0d0887\"], [0.1111111111111111, \"#46039f\"], [0.2222222222222222, \"#7201a8\"], [0.3333333333333333, \"#9c179e\"], [0.4444444444444444, \"#bd3786\"], [0.5555555555555556, \"#d8576b\"], [0.6666666666666666, \"#ed7953\"], [0.7777777777777778, \"#fb9f3a\"], [0.8888888888888888, \"#fdca26\"], [1.0, \"#f0f921\"]], \"type\": \"contour\"}], \"contourcarpet\": [{\"colorbar\": {\"outlinewidth\": 0, \"ticks\": \"\"}, \"type\": \"contourcarpet\"}], \"heatmap\": [{\"colorbar\": {\"outlinewidth\": 0, \"ticks\": \"\"}, \"colorscale\": [[0.0, \"#0d0887\"], [0.1111111111111111, \"#46039f\"], [0.2222222222222222, \"#7201a8\"], [0.3333333333333333, \"#9c179e\"], [0.4444444444444444, \"#bd3786\"], [0.5555555555555556, \"#d8576b\"], [0.6666666666666666, \"#ed7953\"], [0.7777777777777778, \"#fb9f3a\"], [0.8888888888888888, \"#fdca26\"], [1.0, \"#f0f921\"]], \"type\": \"heatmap\"}], \"heatmapgl\": [{\"colorbar\": {\"outlinewidth\": 0, \"ticks\": \"\"}, \"colorscale\": [[0.0, \"#0d0887\"], [0.1111111111111111, \"#46039f\"], [0.2222222222222222, \"#7201a8\"], [0.3333333333333333, \"#9c179e\"], [0.4444444444444444, \"#bd3786\"], [0.5555555555555556, \"#d8576b\"], [0.6666666666666666, \"#ed7953\"], [0.7777777777777778, \"#fb9f3a\"], [0.8888888888888888, \"#fdca26\"], [1.0, \"#f0f921\"]], \"type\": \"heatmapgl\"}], \"histogram\": [{\"marker\": {\"colorbar\": {\"outlinewidth\": 0, \"ticks\": \"\"}}, \"type\": \"histogram\"}], \"histogram2d\": [{\"colorbar\": {\"outlinewidth\": 0, \"ticks\": \"\"}, \"colorscale\": [[0.0, \"#0d0887\"], [0.1111111111111111, \"#46039f\"], [0.2222222222222222, \"#7201a8\"], [0.3333333333333333, \"#9c179e\"], [0.4444444444444444, \"#bd3786\"], [0.5555555555555556, \"#d8576b\"], [0.6666666666666666, \"#ed7953\"], [0.7777777777777778, \"#fb9f3a\"], [0.8888888888888888, \"#fdca26\"], [1.0, \"#f0f921\"]], \"type\": \"histogram2d\"}], \"histogram2dcontour\": [{\"colorbar\": {\"outlinewidth\": 0, \"ticks\": \"\"}, \"colorscale\": [[0.0, \"#0d0887\"], [0.1111111111111111, \"#46039f\"], [0.2222222222222222, \"#7201a8\"], [0.3333333333333333, \"#9c179e\"], [0.4444444444444444, \"#bd3786\"], [0.5555555555555556, \"#d8576b\"], [0.6666666666666666, \"#ed7953\"], [0.7777777777777778, \"#fb9f3a\"], [0.8888888888888888, \"#fdca26\"], [1.0, \"#f0f921\"]], \"type\": \"histogram2dcontour\"}], \"mesh3d\": [{\"colorbar\": {\"outlinewidth\": 0, \"ticks\": \"\"}, \"type\": \"mesh3d\"}], \"parcoords\": [{\"line\": {\"colorbar\": {\"outlinewidth\": 0, \"ticks\": \"\"}}, \"type\": \"parcoords\"}], \"pie\": [{\"automargin\": true, \"type\": \"pie\"}], \"scatter\": [{\"marker\": {\"colorbar\": {\"outlinewidth\": 0, \"ticks\": \"\"}}, \"type\": \"scatter\"}], \"scatter3d\": [{\"line\": {\"colorbar\": {\"outlinewidth\": 0, \"ticks\": \"\"}}, \"marker\": {\"colorbar\": {\"outlinewidth\": 0, \"ticks\": \"\"}}, \"type\": \"scatter3d\"}], \"scattercarpet\": [{\"marker\": {\"colorbar\": {\"outlinewidth\": 0, \"ticks\": \"\"}}, \"type\": \"scattercarpet\"}], \"scattergeo\": [{\"marker\": {\"colorbar\": {\"outlinewidth\": 0, \"ticks\": \"\"}}, \"type\": \"scattergeo\"}], \"scattergl\": [{\"marker\": {\"colorbar\": {\"outlinewidth\": 0, \"ticks\": \"\"}}, \"type\": \"scattergl\"}], \"scattermapbox\": [{\"marker\": {\"colorbar\": {\"outlinewidth\": 0, \"ticks\": \"\"}}, \"type\": \"scattermapbox\"}], \"scatterpolar\": [{\"marker\": {\"colorbar\": {\"outlinewidth\": 0, \"ticks\": \"\"}}, \"type\": \"scatterpolar\"}], \"scatterpolargl\": [{\"marker\": {\"colorbar\": {\"outlinewidth\": 0, \"ticks\": \"\"}}, \"type\": \"scatterpolargl\"}], \"scatterternary\": [{\"marker\": {\"colorbar\": {\"outlinewidth\": 0, \"ticks\": \"\"}}, \"type\": \"scatterternary\"}], \"surface\": [{\"colorbar\": {\"outlinewidth\": 0, \"ticks\": \"\"}, \"colorscale\": [[0.0, \"#0d0887\"], [0.1111111111111111, \"#46039f\"], [0.2222222222222222, \"#7201a8\"], [0.3333333333333333, \"#9c179e\"], [0.4444444444444444, \"#bd3786\"], [0.5555555555555556, \"#d8576b\"], [0.6666666666666666, \"#ed7953\"], [0.7777777777777778, \"#fb9f3a\"], [0.8888888888888888, \"#fdca26\"], [1.0, \"#f0f921\"]], \"type\": \"surface\"}], \"table\": [{\"cells\": {\"fill\": {\"color\": \"#EBF0F8\"}, \"line\": {\"color\": \"white\"}}, \"header\": {\"fill\": {\"color\": \"#C8D4E3\"}, \"line\": {\"color\": \"white\"}}, \"type\": \"table\"}]}, \"layout\": {\"annotationdefaults\": {\"arrowcolor\": \"#2a3f5f\", \"arrowhead\": 0, \"arrowwidth\": 1}, \"coloraxis\": {\"colorbar\": {\"outlinewidth\": 0, \"ticks\": \"\"}}, \"colorscale\": {\"diverging\": [[0, \"#8e0152\"], [0.1, \"#c51b7d\"], [0.2, \"#de77ae\"], [0.3, \"#f1b6da\"], [0.4, \"#fde0ef\"], [0.5, \"#f7f7f7\"], [0.6, \"#e6f5d0\"], [0.7, \"#b8e186\"], [0.8, \"#7fbc41\"], [0.9, \"#4d9221\"], [1, \"#276419\"]], \"sequential\": [[0.0, \"#0d0887\"], [0.1111111111111111, \"#46039f\"], [0.2222222222222222, \"#7201a8\"], [0.3333333333333333, \"#9c179e\"], [0.4444444444444444, \"#bd3786\"], [0.5555555555555556, \"#d8576b\"], [0.6666666666666666, \"#ed7953\"], [0.7777777777777778, \"#fb9f3a\"], [0.8888888888888888, \"#fdca26\"], [1.0, \"#f0f921\"]], \"sequentialminus\": [[0.0, \"#0d0887\"], [0.1111111111111111, \"#46039f\"], [0.2222222222222222, \"#7201a8\"], [0.3333333333333333, \"#9c179e\"], [0.4444444444444444, \"#bd3786\"], [0.5555555555555556, \"#d8576b\"], [0.6666666666666666, \"#ed7953\"], [0.7777777777777778, \"#fb9f3a\"], [0.8888888888888888, \"#fdca26\"], [1.0, \"#f0f921\"]]}, \"colorway\": [\"#636efa\", \"#EF553B\", \"#00cc96\", \"#ab63fa\", \"#FFA15A\", \"#19d3f3\", \"#FF6692\", \"#B6E880\", \"#FF97FF\", \"#FECB52\"], \"font\": {\"color\": \"#2a3f5f\"}, \"geo\": {\"bgcolor\": \"white\", \"lakecolor\": \"white\", \"landcolor\": \"#E5ECF6\", \"showlakes\": true, \"showland\": true, \"subunitcolor\": \"white\"}, \"hoverlabel\": {\"align\": \"left\"}, \"hovermode\": \"closest\", \"mapbox\": {\"style\": \"light\"}, \"paper_bgcolor\": \"white\", \"plot_bgcolor\": \"#E5ECF6\", \"polar\": {\"angularaxis\": {\"gridcolor\": \"white\", \"linecolor\": \"white\", \"ticks\": \"\"}, \"bgcolor\": \"#E5ECF6\", \"radialaxis\": {\"gridcolor\": \"white\", \"linecolor\": \"white\", \"ticks\": \"\"}}, \"scene\": {\"xaxis\": {\"backgroundcolor\": \"#E5ECF6\", \"gridcolor\": \"white\", \"gridwidth\": 2, \"linecolor\": \"white\", \"showbackground\": true, \"ticks\": \"\", \"zerolinecolor\": \"white\"}, \"yaxis\": {\"backgroundcolor\": \"#E5ECF6\", \"gridcolor\": \"white\", \"gridwidth\": 2, \"linecolor\": \"white\", \"showbackground\": true, \"ticks\": \"\", \"zerolinecolor\": \"white\"}, \"zaxis\": {\"backgroundcolor\": \"#E5ECF6\", \"gridcolor\": \"white\", \"gridwidth\": 2, \"linecolor\": \"white\", \"showbackground\": true, \"ticks\": \"\", \"zerolinecolor\": \"white\"}}, \"shapedefaults\": {\"line\": {\"color\": \"#2a3f5f\"}}, \"ternary\": {\"aaxis\": {\"gridcolor\": \"white\", \"linecolor\": \"white\", \"ticks\": \"\"}, \"baxis\": {\"gridcolor\": \"white\", \"linecolor\": \"white\", \"ticks\": \"\"}, \"bgcolor\": \"#E5ECF6\", \"caxis\": {\"gridcolor\": \"white\", \"linecolor\": \"white\", \"ticks\": \"\"}}, \"title\": {\"x\": 0.05}, \"xaxis\": {\"automargin\": true, \"gridcolor\": \"white\", \"linecolor\": \"white\", \"ticks\": \"\", \"title\": {\"standoff\": 15}, \"zerolinecolor\": \"white\", \"zerolinewidth\": 2}, \"yaxis\": {\"automargin\": true, \"gridcolor\": \"white\", \"linecolor\": \"white\", \"ticks\": \"\", \"title\": {\"standoff\": 15}, \"zerolinecolor\": \"white\", \"zerolinewidth\": 2}}}, \"xaxis\": {\"anchor\": \"y\", \"domain\": [0.0, 1.0], \"title\": {\"text\": \"x\"}}, \"yaxis\": {\"anchor\": \"x\", \"domain\": [0.0, 1.0], \"title\": {\"text\": \"y\"}}},\n",
              "                        {\"responsive\": true}\n",
              "                    ).then(function(){\n",
              "                            \n",
              "var gd = document.getElementById('32eeea38-ab58-445a-b8f6-092e64b6cc91');\n",
              "var x = new MutationObserver(function (mutations, observer) {{\n",
              "        var display = window.getComputedStyle(gd).display;\n",
              "        if (!display || display === 'none') {{\n",
              "            console.log([gd, 'removed!']);\n",
              "            Plotly.purge(gd);\n",
              "            observer.disconnect();\n",
              "        }}\n",
              "}});\n",
              "\n",
              "// Listen for the removal of the full notebook cells\n",
              "var notebookContainer = gd.closest('#notebook-container');\n",
              "if (notebookContainer) {{\n",
              "    x.observe(notebookContainer, {childList: true});\n",
              "}}\n",
              "\n",
              "// Listen for the clearing of the current output cell\n",
              "var outputEl = gd.closest('.output');\n",
              "if (outputEl) {{\n",
              "    x.observe(outputEl, {childList: true});\n",
              "}}\n",
              "\n",
              "                        })\n",
              "                };\n",
              "                \n",
              "            </script>\n",
              "        </div>\n",
              "</body>\n",
              "</html>"
            ]
          },
          "metadata": {
            "tags": []
          }
        }
      ]
    },
    {
      "cell_type": "markdown",
      "metadata": {
        "id": "N9MPLEDWGemw"
      },
      "source": [
        "Let's check how often the word 'disaster' come in the 'text' feature in the dataset and whether this help us in determining whether a tweet belongs to a disaster' category or not."
      ]
    },
    {
      "cell_type": "code",
      "metadata": {
        "id": "0KKV6GsVGemx",
        "outputId": "158acd0d-4857-43b8-c998-761c9dcda30e",
        "colab": {
          "base_uri": "https://localhost:8080/",
          "height": 68
        }
      },
      "source": [
        "train_df.loc[train_df['text'].str.contains('disaster', na=False, case=False)].target.value_counts()"
      ],
      "execution_count": null,
      "outputs": [
        {
          "output_type": "execute_result",
          "data": {
            "text/plain": [
              "1    102\n",
              "0     40\n",
              "Name: target, dtype: int64"
            ]
          },
          "metadata": {
            "tags": []
          },
          "execution_count": 74
        }
      ]
    },
    {
      "cell_type": "markdown",
      "metadata": {
        "id": "M0U5lGTDGemz"
      },
      "source": [
        "It seems even though word disaster is part of the tweets but that doesn't mean tweet announces a real disaster."
      ]
    },
    {
      "cell_type": "code",
      "metadata": {
        "id": "M0z6-bPvGem0",
        "outputId": "c32e7efb-14d9-4b53-8152-90f1ee5928fc",
        "colab": {
          "base_uri": "https://localhost:8080/",
          "height": 644
        }
      },
      "source": [
        "#Lets use feature_viz function to create charts for 'location' column\n",
        "feature_viz(train_df,'location')"
      ],
      "execution_count": null,
      "outputs": [
        {
          "output_type": "stream",
          "text": [
            "USA              104\n",
            "New York          71\n",
            "United States     50\n",
            "London            45\n",
            "Canada            29\n",
            "Name: location, dtype: int64\n"
          ],
          "name": "stdout"
        },
        {
          "output_type": "display_data",
          "data": {
            "text/html": [
              "<html>\n",
              "<head><meta charset=\"utf-8\" /></head>\n",
              "<body>\n",
              "    <div>\n",
              "            <script src=\"https://cdnjs.cloudflare.com/ajax/libs/mathjax/2.7.5/MathJax.js?config=TeX-AMS-MML_SVG\"></script><script type=\"text/javascript\">if (window.MathJax) {MathJax.Hub.Config({SVG: {font: \"STIX-Web\"}});}</script>\n",
              "                <script type=\"text/javascript\">window.PlotlyConfig = {MathJaxConfig: 'local'};</script>\n",
              "        <script src=\"https://cdn.plot.ly/plotly-latest.min.js\"></script>    \n",
              "            <div id=\"a2136bfc-e941-477a-88cd-7e19c7bec40e\" class=\"plotly-graph-div\" style=\"height:525px; width:100%;\"></div>\n",
              "            <script type=\"text/javascript\">\n",
              "                \n",
              "                    window.PLOTLYENV=window.PLOTLYENV || {};\n",
              "                    \n",
              "                if (document.getElementById(\"a2136bfc-e941-477a-88cd-7e19c7bec40e\")) {\n",
              "                    Plotly.newPlot(\n",
              "                        'a2136bfc-e941-477a-88cd-7e19c7bec40e',\n",
              "                        [{\"hoverlabel\": {\"namelength\": 0}, \"hovertemplate\": \"x=%{x}<br>y=%{y}<br>size=%{marker.size}\", \"legendgroup\": \"\", \"marker\": {\"color\": \"#636efa\", \"size\": [104, 71, 50, 45, 29, 28, 27, 26, 24, 22, 21, 20, 19, 18, 18, 17, 15, 15, 15, 14, 14, 14, 13, 13, 13, 12, 12, 12, 11, 11, 11, 11, 10, 10, 10, 10, 10, 10, 10, 9, 9, 9, 9, 9, 9, 9, 9, 8, 8, 8, 7, 7, 7, 7, 7, 7, 7, 7, 6, 6, 6, 6, 6, 6, 6, 6, 6, 6, 6, 6, 6, 6, 6, 6, 6, 6, 5, 5, 5, 5, 5, 5, 5, 5, 5, 5, 5, 5, 5, 5, 5, 5, 5, 5, 5, 5, 5, 5, 5, 5, 5, 5, 5, 5, 5, 5, 5, 4, 4, 4, 4, 4, 4, 4, 4, 4, 4, 4, 4, 4, 4, 4, 4, 4, 4, 4, 4, 4, 4, 4, 4, 4, 4, 4, 4, 4, 4, 4, 4, 4, 4, 4, 4, 4, 4, 4, 4, 4, 4, 4, 4, 4, 4, 4, 4, 4, 4, 3, 3, 3, 3, 3, 3, 3, 3, 3, 3, 3, 3, 3, 3, 3, 3, 3, 3, 3, 3, 3, 3, 3, 3, 3, 3, 3, 3, 3, 3, 3, 3, 3, 3, 3, 3, 3, 3, 3, 3, 3, 3, 3, 3, 3, 3, 3, 3, 3, 3, 3, 3, 3, 3, 3, 3, 3, 3, 3, 3, 3, 3, 3, 3, 3, 3, 3, 3, 3, 3, 3, 3, 3, 3, 3, 3, 3, 3, 3, 3, 3, 3, 3, 3, 3, 3, 3, 3, 3, 3, 3, 3, 3, 3, 3, 3, 3, 3, 3, 3, 2, 2, 2, 2, 2, 2, 2, 2, 2, 2, 2, 2, 2, 2, 2, 2, 2, 2, 2, 2, 2, 2, 2, 2, 2, 2, 2, 2, 2, 2, 2, 2, 2, 2, 2, 2, 2, 2, 2, 2, 2, 2, 2, 2, 2, 2, 2, 2, 2, 2, 2, 2, 2, 2, 2, 2, 2, 2, 2, 2, 2, 2, 2, 2, 2, 2, 2, 2, 2, 2, 2, 2, 2, 2, 2, 2, 2, 2, 2, 2, 2, 2, 2, 2, 2, 2, 2, 2, 2, 2, 2, 2, 2, 2, 2, 2, 2, 2, 2, 2, 2, 2, 2, 2, 2, 2, 2, 2, 2, 2, 2, 2, 2, 2, 2, 2, 2, 2, 2, 2, 2, 2, 2, 2, 2, 2, 2, 2, 2, 2, 2, 2, 2, 2, 2, 2, 2, 2, 2, 2, 2, 2, 2, 2, 2, 2, 2, 2, 2, 2, 2, 2, 2, 2, 2, 2, 2, 2, 2, 2, 2, 2, 2, 2, 2, 2, 2, 2, 2, 2, 2, 2, 2, 2, 2, 2, 2, 2, 2, 2, 2, 2, 2, 2, 2, 2, 2, 2, 2, 2, 2, 2, 2, 2, 2, 2, 2, 2, 2, 2, 2, 2, 2, 2, 2, 2, 2, 2, 2, 2, 2, 2, 2, 2, 2, 2, 2, 2, 2, 2, 2, 2, 2, 2, 2, 2, 2, 2, 2, 2, 2, 2, 2, 2, 2, 2, 2, 2, 2, 2, 2, 2, 2, 2, 2, 2, 2, 2, 2, 2, 2, 2, 2, 2, 2, 2, 2, 2, 2, 2, 2, 2, 2, 2, 2, 2, 1, 1, 1, 1, 1, 1, 1, 1, 1, 1, 1, 1, 1, 1, 1, 1, 1, 1, 1, 1, 1, 1, 1, 1, 1, 1, 1, 1, 1, 1, 1, 1, 1, 1, 1, 1, 1, 1, 1, 1, 1, 1, 1, 1, 1, 1, 1, 1, 1, 1, 1, 1, 1, 1, 1, 1, 1, 1, 1, 1, 1, 1, 1, 1, 1, 1, 1, 1, 1, 1, 1, 1, 1, 1, 1, 1, 1, 1, 1, 1, 1, 1, 1, 1, 1, 1, 1, 1, 1, 1, 1, 1, 1, 1, 1, 1, 1, 1, 1, 1, 1, 1, 1, 1, 1, 1, 1, 1, 1, 1, 1, 1, 1, 1, 1, 1, 1, 1, 1, 1, 1, 1, 1, 1, 1, 1, 1, 1, 1, 1, 1, 1, 1, 1, 1, 1, 1, 1, 1, 1, 1, 1, 1, 1, 1, 1, 1, 1, 1, 1, 1, 1, 1, 1, 1, 1, 1, 1, 1, 1, 1, 1, 1, 1, 1, 1, 1, 1, 1, 1, 1, 1, 1, 1, 1, 1, 1, 1, 1, 1, 1, 1, 1, 1, 1, 1, 1, 1, 1, 1, 1, 1, 1, 1, 1, 1, 1, 1, 1, 1, 1, 1, 1, 1, 1, 1, 1, 1, 1, 1, 1, 1, 1, 1, 1, 1, 1, 1, 1, 1, 1, 1, 1, 1, 1, 1, 1, 1, 1, 1, 1, 1, 1, 1, 1, 1, 1, 1, 1, 1, 1, 1, 1, 1, 1, 1, 1, 1, 1, 1, 1, 1, 1, 1, 1, 1, 1, 1, 1, 1, 1, 1, 1, 1, 1, 1, 1, 1, 1, 1, 1, 1, 1, 1, 1, 1, 1, 1, 1, 1, 1, 1, 1, 1, 1, 1, 1, 1, 1, 1, 1, 1, 1, 1, 1, 1, 1, 1, 1, 1, 1, 1, 1, 1, 1, 1, 1, 1, 1, 1, 1, 1, 1, 1, 1, 1, 1, 1, 1, 1, 1, 1, 1, 1, 1, 1, 1, 1, 1, 1, 1, 1, 1, 1, 1, 1, 1, 1, 1, 1, 1, 1, 1, 1, 1, 1, 1, 1, 1, 1, 1, 1, 1, 1, 1, 1, 1, 1, 1, 1, 1, 1, 1, 1, 1, 1, 1, 1, 1, 1, 1, 1, 1, 1, 1, 1, 1, 1, 1, 1, 1, 1, 1, 1, 1, 1, 1, 1, 1, 1, 1, 1, 1, 1, 1, 1, 1, 1, 1, 1, 1, 1, 1, 1, 1, 1, 1, 1, 1, 1, 1, 1, 1, 1, 1, 1, 1, 1, 1, 1, 1, 1, 1, 1, 1, 1, 1, 1, 1, 1, 1, 1, 1, 1, 1, 1, 1, 1, 1, 1, 1, 1, 1, 1, 1, 1, 1, 1, 1, 1, 1, 1, 1, 1, 1, 1, 1, 1, 1, 1, 1, 1, 1, 1, 1, 1, 1, 1, 1, 1, 1, 1, 1, 1, 1, 1, 1, 1, 1, 1, 1, 1, 1, 1, 1, 1, 1, 1, 1, 1, 1, 1, 1, 1, 1, 1, 1, 1, 1, 1, 1, 1, 1, 1, 1, 1, 1, 1, 1, 1, 1, 1, 1, 1, 1, 1, 1, 1, 1, 1, 1, 1, 1, 1, 1, 1, 1, 1, 1, 1, 1, 1, 1, 1, 1, 1, 1, 1, 1, 1, 1, 1, 1, 1, 1, 1, 1, 1, 1, 1, 1, 1, 1, 1, 1, 1, 1, 1, 1, 1, 1, 1, 1, 1, 1, 1, 1, 1, 1, 1, 1, 1, 1, 1, 1, 1, 1, 1, 1, 1, 1, 1, 1, 1, 1, 1, 1, 1, 1, 1, 1, 1, 1, 1, 1, 1, 1, 1, 1, 1, 1, 1, 1, 1, 1, 1, 1, 1, 1, 1, 1, 1, 1, 1, 1, 1, 1, 1, 1, 1, 1, 1, 1, 1, 1, 1, 1, 1, 1, 1, 1, 1, 1, 1, 1, 1, 1, 1, 1, 1, 1, 1, 1, 1, 1, 1, 1, 1, 1, 1, 1, 1, 1, 1, 1, 1, 1, 1, 1, 1, 1, 1, 1, 1, 1, 1, 1, 1, 1, 1, 1, 1, 1, 1, 1, 1, 1, 1, 1, 1, 1, 1, 1, 1, 1, 1, 1, 1, 1, 1, 1, 1, 1, 1, 1, 1, 1, 1, 1, 1, 1, 1, 1, 1, 1, 1, 1, 1, 1, 1, 1, 1, 1, 1, 1, 1, 1, 1, 1, 1, 1, 1, 1, 1, 1, 1, 1, 1, 1, 1, 1, 1, 1, 1, 1, 1, 1, 1, 1, 1, 1, 1, 1, 1, 1, 1, 1, 1, 1, 1, 1, 1, 1, 1, 1, 1, 1, 1, 1, 1, 1, 1, 1, 1, 1, 1, 1, 1, 1, 1, 1, 1, 1, 1, 1, 1, 1, 1, 1, 1, 1, 1, 1, 1, 1, 1, 1, 1, 1, 1, 1, 1, 1, 1, 1, 1, 1, 1, 1, 1, 1, 1, 1, 1, 1, 1, 1, 1, 1, 1, 1, 1, 1, 1, 1, 1, 1, 1, 1, 1, 1, 1, 1, 1, 1, 1, 1, 1, 1, 1, 1, 1, 1, 1, 1, 1, 1, 1, 1, 1, 1, 1, 1, 1, 1, 1, 1, 1, 1, 1, 1, 1, 1, 1, 1, 1, 1, 1, 1, 1, 1, 1, 1, 1, 1, 1, 1, 1, 1, 1, 1, 1, 1, 1, 1, 1, 1, 1, 1, 1, 1, 1, 1, 1, 1, 1, 1, 1, 1, 1, 1, 1, 1, 1, 1, 1, 1, 1, 1, 1, 1, 1, 1, 1, 1, 1, 1, 1, 1, 1, 1, 1, 1, 1, 1, 1, 1, 1, 1, 1, 1, 1, 1, 1, 1, 1, 1, 1, 1, 1, 1, 1, 1, 1, 1, 1, 1, 1, 1, 1, 1, 1, 1, 1, 1, 1, 1, 1, 1, 1, 1, 1, 1, 1, 1, 1, 1, 1, 1, 1, 1, 1, 1, 1, 1, 1, 1, 1, 1, 1, 1, 1, 1, 1, 1, 1, 1, 1, 1, 1, 1, 1, 1, 1, 1, 1, 1, 1, 1, 1, 1, 1, 1, 1, 1, 1, 1, 1, 1, 1, 1, 1, 1, 1, 1, 1, 1, 1, 1, 1, 1, 1, 1, 1, 1, 1, 1, 1, 1, 1, 1, 1, 1, 1, 1, 1, 1, 1, 1, 1, 1, 1, 1, 1, 1, 1, 1, 1, 1, 1, 1, 1, 1, 1, 1, 1, 1, 1, 1, 1, 1, 1, 1, 1, 1, 1, 1, 1, 1, 1, 1, 1, 1, 1, 1, 1, 1, 1, 1, 1, 1, 1, 1, 1, 1, 1, 1, 1, 1, 1, 1, 1, 1, 1, 1, 1, 1, 1, 1, 1, 1, 1, 1, 1, 1, 1, 1, 1, 1, 1, 1, 1, 1, 1, 1, 1, 1, 1, 1, 1, 1, 1, 1, 1, 1, 1, 1, 1, 1, 1, 1, 1, 1, 1, 1, 1, 1, 1, 1, 1, 1, 1, 1, 1, 1, 1, 1, 1, 1, 1, 1, 1, 1, 1, 1, 1, 1, 1, 1, 1, 1, 1, 1, 1, 1, 1, 1, 1, 1, 1, 1, 1, 1, 1, 1, 1, 1, 1, 1, 1, 1, 1, 1, 1, 1, 1, 1, 1, 1, 1, 1, 1, 1, 1, 1, 1, 1, 1, 1, 1, 1, 1, 1, 1, 1, 1, 1, 1, 1, 1, 1, 1, 1, 1, 1, 1, 1, 1, 1, 1, 1, 1, 1, 1, 1, 1, 1, 1, 1, 1, 1, 1, 1, 1, 1, 1, 1, 1, 1, 1, 1, 1, 1, 1, 1, 1, 1, 1, 1, 1, 1, 1, 1, 1, 1, 1, 1, 1, 1, 1, 1, 1, 1, 1, 1, 1, 1, 1, 1, 1, 1, 1, 1, 1, 1, 1, 1, 1, 1, 1, 1, 1, 1, 1, 1, 1, 1, 1, 1, 1, 1, 1, 1, 1, 1, 1, 1, 1, 1, 1, 1, 1, 1, 1, 1, 1, 1, 1, 1, 1, 1, 1, 1, 1, 1, 1, 1, 1, 1, 1, 1, 1, 1, 1, 1, 1, 1, 1, 1, 1, 1, 1, 1, 1, 1, 1, 1, 1, 1, 1, 1, 1, 1, 1, 1, 1, 1, 1, 1, 1, 1, 1, 1, 1, 1, 1, 1, 1, 1, 1, 1, 1, 1, 1, 1, 1, 1, 1, 1, 1, 1, 1, 1, 1, 1, 1, 1, 1, 1, 1, 1, 1, 1, 1, 1, 1, 1, 1, 1, 1, 1, 1, 1, 1, 1, 1, 1, 1, 1, 1, 1, 1, 1, 1, 1, 1, 1, 1, 1, 1, 1, 1, 1, 1, 1, 1, 1, 1, 1, 1, 1, 1, 1, 1, 1, 1, 1, 1, 1, 1, 1, 1, 1, 1, 1, 1, 1, 1, 1, 1, 1, 1, 1, 1, 1, 1, 1, 1, 1, 1, 1, 1, 1, 1, 1, 1, 1, 1, 1, 1, 1, 1, 1, 1, 1, 1, 1, 1, 1, 1, 1, 1, 1, 1, 1, 1, 1, 1, 1, 1, 1, 1, 1, 1, 1, 1, 1, 1, 1, 1, 1, 1, 1, 1, 1, 1, 1, 1, 1, 1, 1, 1, 1, 1, 1, 1, 1, 1, 1, 1, 1, 1, 1, 1, 1, 1, 1, 1, 1, 1, 1, 1, 1, 1, 1, 1, 1, 1, 1, 1, 1, 1, 1, 1, 1, 1, 1, 1, 1, 1, 1, 1, 1, 1, 1, 1, 1, 1, 1, 1, 1, 1, 1, 1, 1, 1, 1, 1, 1, 1, 1, 1, 1, 1, 1, 1, 1, 1, 1, 1, 1, 1, 1, 1, 1, 1, 1, 1, 1, 1, 1, 1, 1, 1, 1, 1, 1, 1, 1, 1, 1, 1, 1, 1, 1, 1, 1, 1, 1, 1, 1, 1, 1, 1, 1, 1, 1, 1, 1, 1, 1, 1, 1, 1, 1, 1, 1, 1, 1, 1, 1, 1, 1, 1, 1, 1, 1, 1, 1, 1, 1, 1, 1, 1, 1, 1, 1, 1, 1, 1, 1, 1, 1, 1, 1, 1, 1, 1, 1, 1, 1, 1, 1, 1, 1, 1, 1, 1, 1, 1, 1, 1, 1, 1, 1, 1, 1, 1, 1, 1, 1, 1, 1, 1, 1, 1, 1, 1, 1, 1, 1, 1, 1, 1, 1, 1, 1, 1, 1, 1, 1, 1, 1, 1, 1, 1, 1, 1, 1, 1, 1, 1, 1, 1, 1, 1, 1, 1, 1, 1, 1, 1, 1, 1, 1, 1, 1, 1, 1, 1, 1, 1, 1, 1, 1, 1, 1, 1, 1, 1, 1, 1, 1, 1, 1, 1, 1, 1, 1, 1, 1, 1, 1, 1, 1, 1, 1, 1, 1, 1, 1, 1, 1, 1, 1, 1, 1, 1, 1, 1, 1, 1, 1, 1, 1, 1, 1, 1, 1, 1, 1, 1, 1, 1, 1, 1, 1, 1, 1, 1, 1, 1, 1, 1, 1, 1, 1, 1, 1, 1, 1, 1, 1, 1, 1, 1, 1, 1, 1, 1, 1, 1, 1, 1, 1, 1, 1, 1, 1, 1, 1, 1, 1, 1, 1, 1, 1, 1, 1, 1, 1, 1, 1, 1, 1, 1, 1, 1, 1, 1, 1, 1, 1, 1, 1, 1, 1, 1, 1, 1, 1, 1, 1, 1, 1, 1, 1, 1, 1, 1, 1, 1, 1, 1, 1, 1, 1, 1, 1, 1, 1, 1, 1, 1, 1, 1, 1, 1, 1, 1, 1, 1, 1, 1, 1, 1, 1, 1, 1, 1, 1, 1, 1, 1, 1, 1, 1, 1, 1, 1, 1, 1, 1, 1, 1, 1, 1, 1, 1, 1, 1, 1, 1, 1, 1, 1, 1, 1, 1, 1, 1, 1, 1, 1, 1, 1, 1, 1, 1, 1, 1, 1, 1, 1, 1, 1, 1, 1, 1, 1, 1, 1, 1, 1, 1, 1, 1, 1, 1, 1, 1, 1, 1, 1, 1, 1, 1, 1, 1, 1, 1, 1, 1, 1, 1, 1, 1, 1, 1, 1, 1, 1, 1, 1, 1, 1, 1, 1, 1, 1, 1, 1, 1, 1, 1, 1, 1, 1, 1, 1, 1, 1, 1, 1, 1, 1, 1, 1, 1, 1, 1, 1, 1, 1, 1, 1, 1, 1, 1, 1, 1, 1, 1, 1, 1, 1, 1, 1, 1, 1, 1, 1, 1, 1, 1, 1, 1, 1, 1, 1, 1, 1, 1, 1, 1, 1, 1, 1, 1, 1, 1, 1, 1, 1, 1, 1, 1, 1, 1, 1, 1, 1, 1, 1, 1, 1, 1, 1, 1, 1, 1, 1, 1, 1, 1, 1, 1, 1, 1, 1, 1, 1, 1, 1, 1, 1, 1, 1, 1, 1, 1, 1, 1, 1, 1, 1, 1, 1, 1, 1, 1, 1, 1, 1, 1, 1, 1, 1, 1, 1, 1, 1, 1, 1, 1, 1, 1, 1, 1, 1, 1, 1, 1, 1, 1, 1, 1, 1, 1, 1, 1, 1, 1, 1, 1, 1, 1, 1, 1, 1, 1, 1, 1, 1, 1, 1, 1, 1, 1, 1, 1, 1, 1, 1, 1, 1, 1, 1, 1, 1, 1, 1, 1, 1, 1, 1, 1, 1, 1, 1, 1, 1, 1, 1, 1, 1, 1, 1, 1, 1, 1, 1, 1, 1, 1, 1, 1, 1, 1, 1, 1, 1, 1, 1, 1, 1, 1, 1, 1, 1, 1, 1, 1, 1, 1, 1, 1, 1, 1, 1, 1, 1, 1, 1, 1, 1, 1, 1, 1, 1, 1, 1, 1, 1, 1, 1, 1, 1, 1, 1, 1, 1, 1, 1, 1, 1, 1, 1, 1, 1, 1, 1, 1, 1, 1, 1, 1, 1, 1, 1, 1, 1, 1, 1, 1, 1, 1, 1, 1, 1, 1, 1, 1, 1, 1, 1, 1, 1, 1, 1, 1, 1, 1, 1, 1, 1, 1, 1, 1, 1, 1, 1, 1, 1, 1, 1, 1, 1, 1, 1, 1, 1, 1, 1, 1, 1, 1, 1, 1, 1, 1, 1, 1, 1, 1, 1, 1, 1, 1, 1, 1, 1, 1, 1, 1, 1, 1, 1, 1, 1, 1, 1, 1, 1, 1, 1, 1, 1, 1, 1, 1, 1, 1, 1, 1, 1, 1, 1, 1, 1, 1, 1, 1, 1, 1, 1, 1, 1, 1, 1, 1, 1, 1, 1, 1, 1, 1, 1, 1, 1, 1, 1, 1, 1, 1, 1, 1, 1, 1, 1, 1, 1, 1, 1, 1, 1, 1, 1, 1, 1, 1, 1, 1, 1, 1, 1, 1, 1, 1, 1, 1, 1, 1, 1, 1, 1, 1, 1, 1, 1, 1, 1, 1, 1, 1, 1, 1, 1, 1, 1, 1, 1, 1, 1, 1, 1, 1, 1, 1, 1, 1, 1, 1, 1, 1, 1, 1, 1, 1, 1, 1, 1, 1, 1, 1, 1, 1, 1, 1, 1, 1, 1, 1, 1, 1, 1, 1, 1, 1, 1, 1, 1, 1, 1, 1, 1, 1, 1, 1, 1, 1, 1, 1, 1, 1, 1, 1, 1, 1, 1, 1, 1, 1, 1, 1, 1, 1, 1, 1, 1, 1, 1, 1, 1, 1, 1, 1, 1, 1, 1, 1, 1, 1, 1, 1, 1, 1, 1, 1, 1, 1, 1, 1, 1, 1, 1, 1, 1, 1, 1, 1, 1, 1, 1, 1, 1, 1, 1, 1, 1, 1, 1, 1, 1, 1, 1, 1, 1, 1, 1, 1, 1, 1, 1, 1, 1, 1, 1, 1, 1, 1, 1, 1, 1, 1, 1, 1, 1, 1, 1, 1, 1, 1, 1, 1, 1, 1, 1, 1, 1, 1, 1, 1, 1, 1, 1, 1, 1, 1, 1, 1, 1, 1, 1, 1, 1, 1, 1, 1, 1, 1, 1, 1, 1, 1, 1, 1, 1, 1, 1, 1, 1, 1, 1, 1, 1, 1, 1, 1, 1, 1, 1, 1, 1, 1, 1, 1, 1, 1, 1, 1, 1, 1, 1, 1, 1, 1, 1, 1, 1, 1, 1, 1, 1, 1, 1, 1, 1, 1, 1, 1, 1, 1, 1, 1, 1, 1, 1, 1, 1, 1, 1, 1, 1, 1, 1, 1, 1, 1, 1, 1, 1, 1, 1, 1, 1, 1, 1, 1, 1, 1, 1, 1, 1, 1, 1, 1, 1, 1, 1, 1, 1, 1, 1, 1, 1, 1, 1, 1, 1, 1, 1, 1, 1, 1, 1, 1, 1, 1, 1, 1, 1, 1, 1, 1, 1, 1, 1, 1, 1, 1, 1, 1, 1, 1, 1, 1, 1, 1, 1, 1, 1, 1, 1, 1, 1, 1, 1, 1, 1, 1, 1, 1, 1, 1, 1, 1, 1, 1, 1, 1, 1, 1, 1, 1, 1, 1, 1, 1, 1, 1, 1, 1, 1, 1, 1, 1, 1, 1, 1, 1, 1, 1, 1, 1, 1, 1, 1, 1, 1, 1, 1, 1, 1, 1, 1, 1, 1, 1, 1, 1, 1, 1, 1, 1, 1, 1, 1, 1, 1, 1, 1, 1, 1, 1, 1, 1, 1, 1, 1, 1, 1, 1, 1, 1, 1, 1, 1, 1, 1, 1, 1, 1, 1, 1, 1, 1, 1, 1, 1, 1, 1, 1, 1, 1, 1, 1, 1, 1, 1, 1, 1, 1, 1, 1, 1, 1, 1, 1, 1, 1, 1, 1, 1, 1, 1, 1, 1, 1, 1, 1, 1, 1, 1, 1, 1, 1, 1], \"sizemode\": \"area\", \"sizeref\": 0.26, \"symbol\": \"circle\"}, \"mode\": \"markers\", \"name\": \"\", \"showlegend\": false, \"type\": \"scattergl\", \"x\": [104, 71, 50, 45, 29, 28, 27, 26, 24, 22, 21, 20, 19, 18, 18, 17, 15, 15, 15, 14, 14, 14, 13, 13, 13, 12, 12, 12, 11, 11, 11, 11, 10, 10, 10, 10, 10, 10, 10, 9, 9, 9, 9, 9, 9, 9, 9, 8, 8, 8, 7, 7, 7, 7, 7, 7, 7, 7, 6, 6, 6, 6, 6, 6, 6, 6, 6, 6, 6, 6, 6, 6, 6, 6, 6, 6, 5, 5, 5, 5, 5, 5, 5, 5, 5, 5, 5, 5, 5, 5, 5, 5, 5, 5, 5, 5, 5, 5, 5, 5, 5, 5, 5, 5, 5, 5, 5, 4, 4, 4, 4, 4, 4, 4, 4, 4, 4, 4, 4, 4, 4, 4, 4, 4, 4, 4, 4, 4, 4, 4, 4, 4, 4, 4, 4, 4, 4, 4, 4, 4, 4, 4, 4, 4, 4, 4, 4, 4, 4, 4, 4, 4, 4, 4, 4, 4, 4, 3, 3, 3, 3, 3, 3, 3, 3, 3, 3, 3, 3, 3, 3, 3, 3, 3, 3, 3, 3, 3, 3, 3, 3, 3, 3, 3, 3, 3, 3, 3, 3, 3, 3, 3, 3, 3, 3, 3, 3, 3, 3, 3, 3, 3, 3, 3, 3, 3, 3, 3, 3, 3, 3, 3, 3, 3, 3, 3, 3, 3, 3, 3, 3, 3, 3, 3, 3, 3, 3, 3, 3, 3, 3, 3, 3, 3, 3, 3, 3, 3, 3, 3, 3, 3, 3, 3, 3, 3, 3, 3, 3, 3, 3, 3, 3, 3, 3, 3, 3, 2, 2, 2, 2, 2, 2, 2, 2, 2, 2, 2, 2, 2, 2, 2, 2, 2, 2, 2, 2, 2, 2, 2, 2, 2, 2, 2, 2, 2, 2, 2, 2, 2, 2, 2, 2, 2, 2, 2, 2, 2, 2, 2, 2, 2, 2, 2, 2, 2, 2, 2, 2, 2, 2, 2, 2, 2, 2, 2, 2, 2, 2, 2, 2, 2, 2, 2, 2, 2, 2, 2, 2, 2, 2, 2, 2, 2, 2, 2, 2, 2, 2, 2, 2, 2, 2, 2, 2, 2, 2, 2, 2, 2, 2, 2, 2, 2, 2, 2, 2, 2, 2, 2, 2, 2, 2, 2, 2, 2, 2, 2, 2, 2, 2, 2, 2, 2, 2, 2, 2, 2, 2, 2, 2, 2, 2, 2, 2, 2, 2, 2, 2, 2, 2, 2, 2, 2, 2, 2, 2, 2, 2, 2, 2, 2, 2, 2, 2, 2, 2, 2, 2, 2, 2, 2, 2, 2, 2, 2, 2, 2, 2, 2, 2, 2, 2, 2, 2, 2, 2, 2, 2, 2, 2, 2, 2, 2, 2, 2, 2, 2, 2, 2, 2, 2, 2, 2, 2, 2, 2, 2, 2, 2, 2, 2, 2, 2, 2, 2, 2, 2, 2, 2, 2, 2, 2, 2, 2, 2, 2, 2, 2, 2, 2, 2, 2, 2, 2, 2, 2, 2, 2, 2, 2, 2, 2, 2, 2, 2, 2, 2, 2, 2, 2, 2, 2, 2, 2, 2, 2, 2, 2, 2, 2, 2, 2, 2, 2, 2, 2, 2, 2, 2, 2, 2, 2, 2, 2, 2, 2, 2, 2, 2, 2, 2, 2, 1, 1, 1, 1, 1, 1, 1, 1, 1, 1, 1, 1, 1, 1, 1, 1, 1, 1, 1, 1, 1, 1, 1, 1, 1, 1, 1, 1, 1, 1, 1, 1, 1, 1, 1, 1, 1, 1, 1, 1, 1, 1, 1, 1, 1, 1, 1, 1, 1, 1, 1, 1, 1, 1, 1, 1, 1, 1, 1, 1, 1, 1, 1, 1, 1, 1, 1, 1, 1, 1, 1, 1, 1, 1, 1, 1, 1, 1, 1, 1, 1, 1, 1, 1, 1, 1, 1, 1, 1, 1, 1, 1, 1, 1, 1, 1, 1, 1, 1, 1, 1, 1, 1, 1, 1, 1, 1, 1, 1, 1, 1, 1, 1, 1, 1, 1, 1, 1, 1, 1, 1, 1, 1, 1, 1, 1, 1, 1, 1, 1, 1, 1, 1, 1, 1, 1, 1, 1, 1, 1, 1, 1, 1, 1, 1, 1, 1, 1, 1, 1, 1, 1, 1, 1, 1, 1, 1, 1, 1, 1, 1, 1, 1, 1, 1, 1, 1, 1, 1, 1, 1, 1, 1, 1, 1, 1, 1, 1, 1, 1, 1, 1, 1, 1, 1, 1, 1, 1, 1, 1, 1, 1, 1, 1, 1, 1, 1, 1, 1, 1, 1, 1, 1, 1, 1, 1, 1, 1, 1, 1, 1, 1, 1, 1, 1, 1, 1, 1, 1, 1, 1, 1, 1, 1, 1, 1, 1, 1, 1, 1, 1, 1, 1, 1, 1, 1, 1, 1, 1, 1, 1, 1, 1, 1, 1, 1, 1, 1, 1, 1, 1, 1, 1, 1, 1, 1, 1, 1, 1, 1, 1, 1, 1, 1, 1, 1, 1, 1, 1, 1, 1, 1, 1, 1, 1, 1, 1, 1, 1, 1, 1, 1, 1, 1, 1, 1, 1, 1, 1, 1, 1, 1, 1, 1, 1, 1, 1, 1, 1, 1, 1, 1, 1, 1, 1, 1, 1, 1, 1, 1, 1, 1, 1, 1, 1, 1, 1, 1, 1, 1, 1, 1, 1, 1, 1, 1, 1, 1, 1, 1, 1, 1, 1, 1, 1, 1, 1, 1, 1, 1, 1, 1, 1, 1, 1, 1, 1, 1, 1, 1, 1, 1, 1, 1, 1, 1, 1, 1, 1, 1, 1, 1, 1, 1, 1, 1, 1, 1, 1, 1, 1, 1, 1, 1, 1, 1, 1, 1, 1, 1, 1, 1, 1, 1, 1, 1, 1, 1, 1, 1, 1, 1, 1, 1, 1, 1, 1, 1, 1, 1, 1, 1, 1, 1, 1, 1, 1, 1, 1, 1, 1, 1, 1, 1, 1, 1, 1, 1, 1, 1, 1, 1, 1, 1, 1, 1, 1, 1, 1, 1, 1, 1, 1, 1, 1, 1, 1, 1, 1, 1, 1, 1, 1, 1, 1, 1, 1, 1, 1, 1, 1, 1, 1, 1, 1, 1, 1, 1, 1, 1, 1, 1, 1, 1, 1, 1, 1, 1, 1, 1, 1, 1, 1, 1, 1, 1, 1, 1, 1, 1, 1, 1, 1, 1, 1, 1, 1, 1, 1, 1, 1, 1, 1, 1, 1, 1, 1, 1, 1, 1, 1, 1, 1, 1, 1, 1, 1, 1, 1, 1, 1, 1, 1, 1, 1, 1, 1, 1, 1, 1, 1, 1, 1, 1, 1, 1, 1, 1, 1, 1, 1, 1, 1, 1, 1, 1, 1, 1, 1, 1, 1, 1, 1, 1, 1, 1, 1, 1, 1, 1, 1, 1, 1, 1, 1, 1, 1, 1, 1, 1, 1, 1, 1, 1, 1, 1, 1, 1, 1, 1, 1, 1, 1, 1, 1, 1, 1, 1, 1, 1, 1, 1, 1, 1, 1, 1, 1, 1, 1, 1, 1, 1, 1, 1, 1, 1, 1, 1, 1, 1, 1, 1, 1, 1, 1, 1, 1, 1, 1, 1, 1, 1, 1, 1, 1, 1, 1, 1, 1, 1, 1, 1, 1, 1, 1, 1, 1, 1, 1, 1, 1, 1, 1, 1, 1, 1, 1, 1, 1, 1, 1, 1, 1, 1, 1, 1, 1, 1, 1, 1, 1, 1, 1, 1, 1, 1, 1, 1, 1, 1, 1, 1, 1, 1, 1, 1, 1, 1, 1, 1, 1, 1, 1, 1, 1, 1, 1, 1, 1, 1, 1, 1, 1, 1, 1, 1, 1, 1, 1, 1, 1, 1, 1, 1, 1, 1, 1, 1, 1, 1, 1, 1, 1, 1, 1, 1, 1, 1, 1, 1, 1, 1, 1, 1, 1, 1, 1, 1, 1, 1, 1, 1, 1, 1, 1, 1, 1, 1, 1, 1, 1, 1, 1, 1, 1, 1, 1, 1, 1, 1, 1, 1, 1, 1, 1, 1, 1, 1, 1, 1, 1, 1, 1, 1, 1, 1, 1, 1, 1, 1, 1, 1, 1, 1, 1, 1, 1, 1, 1, 1, 1, 1, 1, 1, 1, 1, 1, 1, 1, 1, 1, 1, 1, 1, 1, 1, 1, 1, 1, 1, 1, 1, 1, 1, 1, 1, 1, 1, 1, 1, 1, 1, 1, 1, 1, 1, 1, 1, 1, 1, 1, 1, 1, 1, 1, 1, 1, 1, 1, 1, 1, 1, 1, 1, 1, 1, 1, 1, 1, 1, 1, 1, 1, 1, 1, 1, 1, 1, 1, 1, 1, 1, 1, 1, 1, 1, 1, 1, 1, 1, 1, 1, 1, 1, 1, 1, 1, 1, 1, 1, 1, 1, 1, 1, 1, 1, 1, 1, 1, 1, 1, 1, 1, 1, 1, 1, 1, 1, 1, 1, 1, 1, 1, 1, 1, 1, 1, 1, 1, 1, 1, 1, 1, 1, 1, 1, 1, 1, 1, 1, 1, 1, 1, 1, 1, 1, 1, 1, 1, 1, 1, 1, 1, 1, 1, 1, 1, 1, 1, 1, 1, 1, 1, 1, 1, 1, 1, 1, 1, 1, 1, 1, 1, 1, 1, 1, 1, 1, 1, 1, 1, 1, 1, 1, 1, 1, 1, 1, 1, 1, 1, 1, 1, 1, 1, 1, 1, 1, 1, 1, 1, 1, 1, 1, 1, 1, 1, 1, 1, 1, 1, 1, 1, 1, 1, 1, 1, 1, 1, 1, 1, 1, 1, 1, 1, 1, 1, 1, 1, 1, 1, 1, 1, 1, 1, 1, 1, 1, 1, 1, 1, 1, 1, 1, 1, 1, 1, 1, 1, 1, 1, 1, 1, 1, 1, 1, 1, 1, 1, 1, 1, 1, 1, 1, 1, 1, 1, 1, 1, 1, 1, 1, 1, 1, 1, 1, 1, 1, 1, 1, 1, 1, 1, 1, 1, 1, 1, 1, 1, 1, 1, 1, 1, 1, 1, 1, 1, 1, 1, 1, 1, 1, 1, 1, 1, 1, 1, 1, 1, 1, 1, 1, 1, 1, 1, 1, 1, 1, 1, 1, 1, 1, 1, 1, 1, 1, 1, 1, 1, 1, 1, 1, 1, 1, 1, 1, 1, 1, 1, 1, 1, 1, 1, 1, 1, 1, 1, 1, 1, 1, 1, 1, 1, 1, 1, 1, 1, 1, 1, 1, 1, 1, 1, 1, 1, 1, 1, 1, 1, 1, 1, 1, 1, 1, 1, 1, 1, 1, 1, 1, 1, 1, 1, 1, 1, 1, 1, 1, 1, 1, 1, 1, 1, 1, 1, 1, 1, 1, 1, 1, 1, 1, 1, 1, 1, 1, 1, 1, 1, 1, 1, 1, 1, 1, 1, 1, 1, 1, 1, 1, 1, 1, 1, 1, 1, 1, 1, 1, 1, 1, 1, 1, 1, 1, 1, 1, 1, 1, 1, 1, 1, 1, 1, 1, 1, 1, 1, 1, 1, 1, 1, 1, 1, 1, 1, 1, 1, 1, 1, 1, 1, 1, 1, 1, 1, 1, 1, 1, 1, 1, 1, 1, 1, 1, 1, 1, 1, 1, 1, 1, 1, 1, 1, 1, 1, 1, 1, 1, 1, 1, 1, 1, 1, 1, 1, 1, 1, 1, 1, 1, 1, 1, 1, 1, 1, 1, 1, 1, 1, 1, 1, 1, 1, 1, 1, 1, 1, 1, 1, 1, 1, 1, 1, 1, 1, 1, 1, 1, 1, 1, 1, 1, 1, 1, 1, 1, 1, 1, 1, 1, 1, 1, 1, 1, 1, 1, 1, 1, 1, 1, 1, 1, 1, 1, 1, 1, 1, 1, 1, 1, 1, 1, 1, 1, 1, 1, 1, 1, 1, 1, 1, 1, 1, 1, 1, 1, 1, 1, 1, 1, 1, 1, 1, 1, 1, 1, 1, 1, 1, 1, 1, 1, 1, 1, 1, 1, 1, 1, 1, 1, 1, 1, 1, 1, 1, 1, 1, 1, 1, 1, 1, 1, 1, 1, 1, 1, 1, 1, 1, 1, 1, 1, 1, 1, 1, 1, 1, 1, 1, 1, 1, 1, 1, 1, 1, 1, 1, 1, 1, 1, 1, 1, 1, 1, 1, 1, 1, 1, 1, 1, 1, 1, 1, 1, 1, 1, 1, 1, 1, 1, 1, 1, 1, 1, 1, 1, 1, 1, 1, 1, 1, 1, 1, 1, 1, 1, 1, 1, 1, 1, 1, 1, 1, 1, 1, 1, 1, 1, 1, 1, 1, 1, 1, 1, 1, 1, 1, 1, 1, 1, 1, 1, 1, 1, 1, 1, 1, 1, 1, 1, 1, 1, 1, 1, 1, 1, 1, 1, 1, 1, 1, 1, 1, 1, 1, 1, 1, 1, 1, 1, 1, 1, 1, 1, 1, 1, 1, 1, 1, 1, 1, 1, 1, 1, 1, 1, 1, 1, 1, 1, 1, 1, 1, 1, 1, 1, 1, 1, 1, 1, 1, 1, 1, 1, 1, 1, 1, 1, 1, 1, 1, 1, 1, 1, 1, 1, 1, 1, 1, 1, 1, 1, 1, 1, 1, 1, 1, 1, 1, 1, 1, 1, 1, 1, 1, 1, 1, 1, 1, 1, 1, 1, 1, 1, 1, 1, 1, 1, 1, 1, 1, 1, 1, 1, 1, 1, 1, 1, 1, 1, 1, 1, 1, 1, 1, 1, 1, 1, 1, 1, 1, 1, 1, 1, 1, 1, 1, 1, 1, 1, 1, 1, 1, 1, 1, 1, 1, 1, 1, 1, 1, 1, 1, 1, 1, 1, 1, 1, 1, 1, 1, 1, 1, 1, 1, 1, 1, 1, 1, 1, 1, 1, 1, 1, 1, 1, 1, 1, 1, 1, 1, 1, 1, 1, 1, 1, 1, 1, 1, 1, 1, 1, 1, 1, 1, 1, 1, 1, 1, 1, 1, 1, 1, 1, 1, 1, 1, 1, 1, 1, 1, 1, 1, 1, 1, 1, 1, 1, 1, 1, 1, 1, 1, 1, 1, 1, 1, 1, 1, 1, 1, 1, 1, 1, 1, 1, 1, 1, 1, 1, 1, 1, 1, 1, 1, 1, 1, 1, 1, 1, 1, 1, 1, 1, 1, 1, 1, 1, 1, 1, 1, 1, 1, 1, 1, 1, 1, 1, 1, 1, 1, 1, 1, 1, 1, 1, 1, 1, 1, 1, 1, 1, 1, 1, 1, 1, 1, 1, 1, 1, 1, 1, 1, 1, 1, 1, 1, 1, 1, 1, 1, 1, 1, 1, 1, 1, 1, 1, 1, 1, 1, 1, 1, 1, 1, 1, 1, 1, 1, 1, 1, 1, 1, 1, 1, 1, 1, 1, 1, 1, 1, 1, 1, 1, 1, 1, 1, 1, 1, 1, 1, 1, 1, 1, 1, 1, 1, 1, 1, 1, 1, 1, 1, 1, 1, 1, 1, 1, 1, 1, 1, 1, 1, 1, 1, 1, 1, 1, 1, 1, 1, 1, 1, 1, 1, 1, 1, 1, 1, 1, 1, 1, 1, 1, 1, 1, 1, 1, 1, 1, 1, 1, 1, 1, 1, 1, 1, 1, 1, 1, 1, 1, 1, 1, 1, 1, 1, 1, 1, 1, 1, 1, 1, 1, 1, 1, 1, 1, 1, 1, 1, 1, 1, 1, 1, 1, 1, 1, 1, 1, 1, 1, 1, 1, 1, 1, 1, 1, 1, 1, 1, 1, 1, 1, 1, 1, 1, 1, 1, 1, 1, 1, 1, 1, 1, 1, 1, 1, 1, 1, 1, 1, 1, 1, 1, 1, 1, 1, 1, 1, 1, 1, 1, 1, 1, 1, 1, 1, 1, 1, 1, 1, 1, 1, 1, 1, 1, 1, 1, 1, 1, 1, 1, 1, 1, 1, 1, 1, 1, 1, 1, 1, 1, 1, 1, 1, 1, 1, 1, 1, 1, 1, 1, 1, 1, 1, 1, 1, 1, 1, 1, 1, 1, 1, 1, 1, 1, 1, 1, 1, 1, 1, 1, 1, 1, 1, 1, 1, 1, 1, 1, 1, 1, 1, 1, 1, 1, 1, 1, 1, 1, 1, 1, 1, 1, 1, 1, 1, 1, 1, 1, 1, 1, 1, 1, 1, 1, 1, 1, 1, 1, 1, 1, 1, 1, 1, 1, 1, 1, 1, 1, 1, 1, 1, 1, 1, 1, 1, 1, 1, 1, 1, 1, 1, 1, 1, 1, 1, 1, 1, 1, 1, 1, 1, 1, 1, 1, 1, 1, 1, 1, 1, 1, 1, 1, 1, 1, 1, 1, 1, 1, 1, 1, 1, 1, 1, 1, 1, 1, 1, 1, 1, 1, 1, 1, 1, 1, 1, 1, 1, 1, 1, 1, 1, 1, 1, 1, 1, 1, 1, 1, 1, 1, 1, 1, 1, 1, 1, 1, 1, 1, 1, 1, 1, 1, 1, 1, 1, 1, 1, 1, 1, 1, 1, 1, 1, 1, 1, 1, 1, 1, 1, 1, 1, 1, 1, 1, 1, 1, 1, 1, 1, 1, 1, 1, 1, 1, 1, 1, 1, 1, 1, 1, 1, 1, 1, 1, 1, 1, 1, 1, 1, 1, 1, 1, 1, 1, 1, 1, 1, 1, 1, 1, 1, 1, 1, 1, 1, 1, 1, 1, 1, 1, 1, 1, 1, 1, 1, 1, 1, 1, 1, 1, 1, 1, 1, 1, 1, 1, 1, 1, 1, 1, 1, 1, 1, 1, 1, 1, 1, 1, 1, 1, 1, 1, 1, 1, 1, 1, 1, 1, 1, 1, 1, 1, 1, 1, 1, 1, 1, 1, 1, 1, 1, 1, 1, 1, 1, 1, 1, 1, 1, 1, 1, 1, 1, 1, 1, 1, 1, 1, 1, 1, 1, 1, 1, 1, 1, 1, 1, 1, 1, 1, 1, 1, 1, 1, 1, 1, 1, 1, 1, 1, 1, 1, 1, 1, 1, 1, 1, 1, 1, 1, 1, 1, 1, 1, 1, 1, 1, 1, 1, 1, 1, 1, 1, 1, 1, 1, 1, 1, 1, 1, 1, 1, 1, 1, 1, 1, 1, 1, 1, 1, 1, 1, 1, 1, 1, 1, 1, 1, 1, 1, 1, 1, 1, 1, 1, 1, 1, 1, 1, 1, 1, 1, 1, 1, 1, 1, 1, 1, 1, 1, 1, 1, 1, 1, 1, 1, 1, 1, 1, 1, 1, 1, 1, 1, 1, 1, 1, 1, 1, 1, 1, 1, 1, 1, 1, 1, 1, 1, 1, 1, 1, 1, 1, 1, 1, 1, 1, 1, 1, 1, 1, 1, 1, 1, 1, 1, 1, 1, 1, 1, 1, 1, 1, 1, 1, 1, 1, 1, 1, 1, 1, 1, 1, 1, 1, 1, 1, 1, 1, 1, 1, 1, 1, 1, 1, 1, 1, 1, 1, 1, 1, 1, 1, 1, 1, 1, 1, 1, 1, 1, 1, 1, 1, 1, 1, 1, 1, 1, 1, 1, 1, 1, 1, 1, 1, 1, 1, 1, 1, 1, 1, 1, 1, 1, 1, 1, 1, 1, 1, 1, 1, 1, 1, 1, 1, 1, 1, 1, 1, 1, 1, 1, 1, 1, 1, 1, 1, 1, 1, 1, 1, 1, 1, 1, 1, 1, 1, 1, 1, 1, 1, 1, 1, 1, 1, 1, 1, 1, 1, 1, 1, 1, 1, 1, 1, 1, 1, 1, 1, 1, 1, 1, 1, 1, 1, 1, 1, 1, 1, 1, 1, 1, 1, 1, 1, 1, 1, 1, 1, 1, 1, 1, 1, 1, 1, 1, 1, 1, 1, 1, 1, 1, 1, 1, 1, 1, 1, 1, 1, 1, 1, 1, 1, 1, 1, 1, 1, 1, 1, 1, 1, 1, 1, 1, 1, 1, 1, 1, 1, 1, 1, 1, 1, 1, 1, 1, 1, 1, 1, 1, 1, 1, 1, 1, 1, 1, 1, 1, 1, 1, 1, 1, 1, 1, 1, 1, 1, 1, 1, 1, 1, 1, 1, 1, 1, 1, 1, 1, 1, 1, 1, 1, 1, 1, 1, 1, 1, 1, 1, 1, 1, 1, 1, 1, 1, 1, 1, 1, 1, 1, 1, 1, 1, 1, 1, 1, 1, 1, 1, 1, 1, 1, 1, 1, 1, 1, 1, 1, 1, 1, 1, 1, 1, 1, 1, 1, 1, 1, 1, 1, 1, 1, 1, 1, 1, 1, 1, 1, 1, 1, 1, 1, 1, 1, 1, 1, 1, 1, 1, 1, 1, 1, 1, 1, 1, 1, 1, 1, 1, 1, 1, 1, 1, 1, 1, 1, 1, 1, 1, 1, 1, 1, 1, 1, 1, 1, 1, 1, 1, 1, 1, 1, 1, 1, 1, 1, 1, 1, 1, 1, 1, 1, 1, 1, 1, 1, 1, 1, 1, 1, 1, 1, 1, 1, 1, 1, 1, 1, 1, 1, 1, 1, 1, 1, 1, 1, 1, 1, 1, 1, 1, 1, 1, 1, 1, 1, 1, 1, 1, 1, 1, 1, 1, 1, 1, 1, 1, 1, 1, 1, 1, 1, 1, 1, 1, 1, 1, 1, 1, 1, 1, 1, 1, 1, 1, 1, 1, 1, 1, 1, 1, 1, 1, 1, 1, 1, 1, 1, 1, 1, 1, 1, 1, 1, 1], \"xaxis\": \"x\", \"y\": [\"USA\", \"New York\", \"United States\", \"London\", \"Canada\", \"Nigeria\", \"UK\", \"Los Angeles, CA\", \"India\", \"Mumbai\", \"Washington, DC\", \"Kenya\", \"Worldwide\", \"Chicago, IL\", \"Australia\", \"California\", \"Everywhere\", \"New York, NY\", \"California, USA\", \"United Kingdom\", \"San Francisco\", \"Florida\", \"Indonesia\", \"Los Angeles\", \"Washington, D.C.\", \"Toronto\", \"NYC\", \"Ireland\", \"San Francisco, CA\", \"Seattle\", \"Earth\", \"Chicago\", \"London, UK\", \"Texas\", \"New York City\", \"Sacramento, CA\", \"ss\", \"London, England\", \"Atlanta, GA\", \"US\", \"World\", \"Dallas, TX\", \"Manchester\", \"Denver, Colorado\", \"304\", \"San Diego, CA\", \"Nashville, TN\", \"South Africa\", \"Scotland\", \"Houston, TX\", \"Pennsylvania, USA\", \"worldwide\", \"Sydney\", \"Memphis, TN\", \"Austin, TX\", \"Tennessee\", \"Seattle, WA\", \"Denver, CO\", \"Paterson, New Jersey \", \"Brooklyn, NY\", \"Atlanta\", \"Charlotte, NC\", \"Oklahoma City, OK\", \"Calgary, Alberta\", \"Orlando, FL\", \"Singapore\", \"Global\", \"Planet Earth\", \" Road to the Billionaires Club\", \"Morioh, Japan\", \"California, United States\", \"??????\", \"Pedophile hunting ground\", \"Colorado\", \"Portland, OR\", \"Massachusetts\", \"Newcastle\", \"WorldWide\", \"Cleveland, OH\", \"Southern California\", \"Lagos\", \"Melbourne, Australia\", \"The Netherlands\", \"San Jose, CA\", \"Pakistan\", \"Texas, USA\", \"Lagos, Nigeria\", \"Brasil\", \"New York, USA\", \"Puerto Rico\", \"Boston, MA\", \"in the Word of God\", \"Philippines\", \"Indiana\", \"Vancouver, BC\", \"North Carolina\", \"New Jersey\", \"Tampa, FL\", \"Asheville, NC\", \"Leeds, England\", \"Calgary, AB\", \"New Hampshire\", \"Wisconsin\", \"Pennsylvania\", \"NY\", \"Florida, USA\", \"Coventry\", \"Oregon\", \"MAD as Hell\", \"Bend, Oregon\", \"Midwest\", \"Sacramento\", \"Mumbai, Maharashtra\", \"Nigeria \", \"North Carolina, USA\", \"Kansas City\", \"Paignton\", \"Atlanta Georgia \", \"Nairobi-KENYA\", \"Manchester, England\", \"British Columbia, Canada\", \"Japan\", \"Haddonfield, NJ\", \"Oakland, CA\", \"Seattle, Washington\", \"Portland, Oregon\", \"Port Harcourt, Nigeria\", \"Tokyo\", \"Melbourne\", \"london\", \"Philadelphia, PA\", \"Sydney, New South Wales\", \"Switzerland\", \"Maryland\", \"?\", \"Barbados\", \"Jakarta/Kuala Lumpur/S'pore\", \"Phoenix, AZ\", \"?????\", \"Las Vegas, Nevada\", \"Michigan\", \"Cape Town\", \"Republic of Texas\", \"Edinburgh\", \"Happily Married with 2 kids \", \"U.S.A\", \"canada\", \"Sydney, Australia\", \"Leicester\", \"Birmingham\", \"Jamaica\", \"San Francisco Bay Area\", \"Massachusetts, USA\", \"Geneva\", \"china\", \"??\", \"Calgary\", \"#FLIGHTCITY UK  \", \"South, USA\", \"Anonymous\", \"Washington DC\", \"Baltimore, MD\", \"MA\", \"NJ\", \"Victoria, BC\", \"Boston\", \"New Orleans, LA\", \"Utah\", \"Five down from the Coffeeshop\", \"nyc\", \"CA via Brum\", \"Italy\", \"Financial News and Views\", \"Germany\", \"East Coast\", \"Columbus, OH\", \"Indianapolis, IN\", \"india\", \"CA\", \"China\", \"Madison, WI\", \"London UK\", \"St. Louis, MO\", \"Los Angeles, California\", \"Illinois, USA\", \"Taylor Swift\", \"Toronto, Ontario\", \"Oklahoma City\", \"Victoria, British Columbia\", \"Oregon, USA\", \"new york\", \"San Diego\", \"Brazil\", \"Kama | 18 | France \", \"Anchorage, AK\", \"America\", \"Malaysia\", \"Subconscious LA\", \"Naperville\", \"iTunes\", \"Sweden\", \"Buy Give Me My Money \", \"NYC :) Ex- #Islamophobe\", \"State College, PA\", \"Manhattan, NY\", \"Asia\", \"Dublin, Ireland\", \"21.462446,-158.022017\", \"Hong Kong\", \"Calgary, AB, Canada\", \"Nottingham, England\", \"Narnia\", \"Nairobi, Kenya\", \"World Wide\", \"uk\", \"Austin, Texas\", \"Iraq|Afghanistan| RSA |Baghdad\", \"Adelaide, Australia\", \"Karachi Pakistan\", \"Arlington, TX\", \"Winston-Salem, NC\", \"Georgia\", \"Birmingham, England\", \"Karachi\", \"Vancouver, British Columbia\", \"Rio de Janeiro\", \"Arizona\", \"California \", \"Haysville, KS\", \"Hawaii, USA\", \"Upstairs.\", \"Virginia, USA\", \"America of Founding Fathers\", \"???\", \"Memphis\", \"Tulsa, Oklahoma\", \"Stockholm, Sweden\", \"PA\", \"Las Vegas\", \"Raleigh, NC\", \"Africa\", \"Inexpressible Island \", \"Johannesburg, South Africa\", \"Ontario, Canada\", \"Gotham City\", \"Nairobi\", \"Glasgow\", \"Des Moines, IA\", \"Washington D.C.\", \"Nowhere. Everywhere.\", \"England\", \"New Orleans ,Louisiana\", \"ARGENTINA\", \"Kansas City, MO\", \"Virginia\", \"Buffalo, NY\", \"Milwaukee, WI\", \"Palo Alto, California\", \"Epic City, BB.\", \"Charlotte NC\", \"Thailand\", \"Enfield, UK\", \"DC\", \"Baltimore\", \"Swaning Around\", \"San Antonio, TX\", \"Ashburn, VA\", \"Palo Alto, CA\", \"Jakarta\", \"Here.\", \"Leesburg, FL\", \"Ewa Beach, HI\", \"West\", \"Manchester, NH\", \"Your screen\", \"Lagos Nigeria\", \"dallas\", \"Decatur, GA\", \"140920-21 & 150718-19 BEIJING\", \"In the potters hands\", \"Wilmington, NC\", \"Rock Hill, SC\", \"Redding, California, USA\", \"Cumming, GA\", \"Trinidad & Tobago\", \"Sarasota, FL\", \"Vietnam\", \"Moncton, New Brunswick\", \"Knoxville, TN\", \"Sydney Australia\", \"Boise, Idaho\", \"Reddit \", \"Georgia, USA\", \"Philadelphia, PA \", \"19.600858, -99.047821\", \"Los Angeles \", \"Jerusalem\", \"New Hanover County, NC\", \"NC\", \"Bakersfield, California\", \"Alaska\", \"world\", \"Bournemouth\", \"Roaming around the world\", \"Gold Coast, Australia\", \"Silver Spring, MD\", \"Kent\", \"Boston MA\", \"Does it really matter!\", \"Blackpool\", \"New Delhi, India\", \"REPUBLICA DOMINICANA\", \"Phoenix\", \"WA State\", \"Street of Dallas\", \"Lincoln, NE\", \"El Dorado, Arkansas\", \"Cherry Creek Denver CO\", \"everywhere\", \"Maldives\", \"Victoria, Australia, Earth\", \"Manila, Philippines\", \"Auckland, New Zealand\", \"Derby\", \"In Hell\", \"HTX\", \"Jupiter\", \"Perth, Western Australia\", \"Chile\", \"Brisbane\", \"Washington, USA\", \"434\", \"Mumbai , India\", \"Ottawa, Canada\", \"Toronto, Canada\", \"West Virginia, USA\", \"Louisiana\", \"Chevy Chase, MD\", \"Europe\", \"Dubai\", \"New England\", \"NIGERIA\", \"Gainesville, FL\", \"Philadelphia\", \"Hackney, London\", \"texas\", \"Houston TX\", \"Columbia, SC\", \"Bangalore, India\", \"Accra,Ghana\", \"Renfrew, Scotland\", \"they/them \", \"Madison, GA\", \"New Zealand\", \"online \", \"Heaven\", \"United States of America\", \"Spare 'Oom\", \"Glasgow, Scotland\", \"Mo.City\", \"Macclesfield\", \"rome\", \"617-BTOWN-BEATDOWN\", \"New Sweden\", \"Federal Capital Territory\", \"St Paul, MN\", \"Durham, NC\", \"World Wide Web\", \"Budapest, Hungary\", \"Helsinki\", \"Pittsburgh\", \"Portland, Ore. \", \"scandinavia\", \"Above the snake line - #YoNews\", \"mumbai\", \"Pretoria\", \"Santa Cruz, CA\", \"Korea\", \"Colombia\", \"Karachi, Pakistan\", \"Roanoke, VA\", \"Sand springs oklahoma\", \"Adelaide, South Australia\", \"Dubai, UAE\", \"Yogya Berhati Nyaman\", \"Cleveland, OH - San Diego, CA\", \"???  Dreamz\", \"The American Wasteland (MV)\", \"somewhere USA \", \"Houston\", \"Breaking News\", \"????\", \"TX\", \"Ontario Canada\", \"Melbourne Australia\", \"Buenos Aires, Argentina\", \"Costa Rica\", \"Evanston, IL\", \"CA physically- Boston Strong?\", \"Minna, Nigeria\", \"Bandung\", \"SF Bay Area\", \"Norway\", \"Wales\", \"Vancouver BC\", \"Lyallpur, Pakistan\", \"Columbus\", \"Winnipeg\", \"Moscow\", \"Na:tinixw / Hoopa, Berkeley\", \"Oakland\", \"Halifax\", \"Desde Republica Argentina\", \"Israel\", \"A little house in the outback.\", \"Somewhere in the Canada\", \"Kingston, Jamaica\", \"New Delhi, Delhi\", \"Scotland, United Kingdom\", \"Dime's Palace\", \"Kashmir!\", \"New York, New York\", \"Riyadh\", \"Dundee\", \"Olympia, WA\", \"Huntsville, AL\", \"va\", \"tx\", \"The Universe\", \"Baton Rouge, LA\", \"Buenos Aires\", \"? \", \"Michigan, USA\", \"vancouver usa\", \"Berlin, Germany\", \"Somewhere Only We Know ?\", \"los angeles, ca\", \"107-18 79TH STREET\", \"EastCarolina\", \"Washington\", \"Paris\", \"Selma2Oakland\", \"Erie, PA\", \"GLOBAL\", \"Berlin - Germany\", \"Kolkata\", \"San Jose, California\", \"Muntinlupa City, Philippines\", \"http://www.amazon.com/dp/B00HR\", \"far away\", \"Somalia\", \"Belgium\", \"USA (Formerly @usNOAAgov)\", \"Connecticut\", \"anzio,italy\", \"Yamaku Academy, Class 3-4\", \"Mackay, QLD, Australia\", \"Rocky Mountains\", \"Bukittinggi  ?? Sumatera Barat\", \"St Charles, MD\", \"Orlando, Fl\", \"Detroit\", \"Istanbul\", \"Auckland\", \"England, United Kingdom\", \"302\", \"Melbourne, Victoria\", \"Suplex City\", \"Spokane, WA\", \"Alabama\", \"the insane asylum. \", \"Venezuela\", \"Live On Webcam\", \"Greensboro, North Carolina\", \"Ohio, USA\", \"New York \", \"Dublin City, Ireland\", \"Silicon Valley\", \"S\\u00cc\\u00a3o Paulo\", \"Detroit, MI\", \"EIC\", \"ph\", \"Portugal\", \"Liverpool\", \"#HarleyChick#PJNT#RunBenRun\", \"Macon, GA\", \"Charlotte\", \"Newark, NJ\", \" Queensland, Australia\", \"To The Right of You!\", \"Odawara, Japan\", \"Ukraine\", \"U.K.\", \"Incognito\", \"Dallas Fort-Worth\", \"SWMO\", \"\\u00cc\\u00cfT: 10.614817868480726,12.195582811791382\", \"Global-NoLocation\", \"Newcastle Upon Tyne, England\", \"Orange County, California\", \"Niagara Falls, Ontario\", \"Arizona \", \"Chicago, Illinois\", \"Winnipeg, Manitoba\", \"South Stand\", \"Alexandria, VA\", \"Location\", \"Mesa, AZ\", \"Bronx NY\", \"Fresno, CA\", \"San Diego California 92101\", \"Lisbon, Portugal\", \"Honduras\", \"Miami, FL\", \"Eldoret, kenya\", \"Mongolia\", \"Unknown\", \"Trinidad and Tobago\", \"Instagram - @heyimginog \", \"Manchester, UK\", \"Washington, DC & Charlotte, NC\", \"hell\", \"Washington State\", \"Asia European Continent Korea \", \"Nunya\", \"Baydestrian\", \"Cairo, Egypt.\", \"heart of darkness, unholy ?\", \"Wildomar, CA\", \"Cairo, Egypt\", \"Beside Basketball\", \"Fort Valley,GA/Fayetteville,AR\", \"Massachusetts \", \"cereal aisle #17:i4\", \"Edinburgh, Scotland\", \"#WhereverI'mAt\", \"Okanagan Valley, BC\", \"LAGOS\", \"Isle of Man\", \"Brooklyn, New York\", \"buffalo / madrid / granada\", \"Yewa zone\", \"Wellington, New Zealand\", \"Killa Hill, CO\", \"?s????ss? a?????\", \"NY Capital District\", \"Chicago Heights, IL\", \"ANYWEHERE !!\", \"#ODU\", \"East Kilbride\", \"Darnley, Prince Edward Island\", \"Contoocook Valley Region of Ne\", \"Frascati\", \"Stay Tuned ;) \", \"SEATTLE, WA USA\", \"Quito, Ecuador.\", \"Lethbridge, Alberta, Canada\", \"Texas-USA\\u0089\\u00e3\\u00a2 ?\", \"Benton City, Washington\", \"san gabriel la union\", \"U.S. Northern Virginia\", \"Canada BC\", \"EPTX\", \"NAIROBI  KENYA \", \"Shirley, NY\", \"2 high 2 come down \", \"New Brunswick, NJ\", \"My heart is a ghost town!\", \"Bushkill pa\", \"NH via Boston, MA\", \"North Dartmouth, Massachusetts\", \"WORDLDWIDE\", \"Santo Domingo Alma Rosa \", \"London, United Kingdom\", \"Amarillo\", \"timeline kamu\", \"don't run\", \"France\", \"\\u00cc\\u00cfT: 41.252426,-96.072013\", \"Coventry, UK\", \"Vail Valley\", \"Tallahassee Florida\", \"Harlem, NY or Chocolate City\", \"Tallahassee, FL\", \"Palm Desert, CA\", \"Aztec NM\", \"St. Catharines, Ontario\", \"Sunnyvale, CA\", \"Nairobi, Kenya \", \"Medford, NJ\", \"Amsterdam | San Francisco\", \"Cape Neddick, ME\", \"Hame\", \"Someday I'll live in England. \", \"Halton Region\", \"The Jewfnited State\", \"taking bath do not disturb\", \"Bombardment Bay\", \"1313 W.Patrick St, Frederick\", \"All around the world baby\", \"West Wales\", \"2B Hindhede Rd, Singapore\", \"Sheff/Bangor/Salamanca/Madrid\", \"UK,singer,songwriter,?2 act\", \"Bandar Lampung, Indonesia\", \"NYC area\", \"Dundee, UK\", \"ljp/4\", \"Torry Alvarez love forever ? ?\", \"Hemel Hempstead\", \"Maracay y Nirgua, Venezuela\", \"Aperture Science Test Facility\", \"Baker City Oregon\", \"Lucknow, India\", \"Den Helder, Rijkswerf\", \"West Richland, WA\", \"District of Gentrification/ DC\", \"Louisiana, USA\", \"Score Team Goals Buying @\", \"#NewcastleuponTyne #UK\", \"Surabaya\", \"St. Louis Mo.\", \"big boy \\u0089\\u00db\\u00a2 0802\", \"Somecity, Somerset, MD\", \"Mumbai, India\", \"  \", \"In your mind\", \"Melbourne-ish\", \"balvanera\", \"Calgary, Canada\", \"us-east-1a\", \"International \", \"Leeds, UK\", \"Miami\", \"lagos. Unilag\", \"Abuja, Nigeria\", \"Atlanta, Georgia USA\", \"Newcastle, England \", \"on twitter\", \"Dayton, OH\", \"Alphen aan den Rijn, Holland\", \"A small federal enclave\", \"\\u00cc\\u00cfT: -26.695807,27.837865\", \"Panam\\u00cc\\u00c1 \", \"Instagram: trillrebel_\", \"ona block w/ my BOY ??\", \"Baton Rouge\", \"Royton\", \"//RP\\\\ ot @Mort3mer\\\\\\\\\", \"THE 6IX\", \"@potteratthedisc\", \"Orange County, Calif.\", \"SD |Norway| KSA\", \"Daruka (near Tamworth) NSW\", \"Monterrey, M\\u00cc\\u00a9xico\", \"Edmonton, Alberta - Treaty 6\", \"L'Enfant Plaza Metro Station\", \"Waterfront\", \"Long Island NY & San Francisco\", \"Essex\", \"Uppsala, Sweden\", \"Nottingham\", \"Eau Claire, Wisconsin\", \" Baku & Erzurum \", \"All around the world!\", \"Hampstead, London.\", \"Kawartha Lakes, Ontario, Canad\", \"#937??#734\", \"jeddah | Khartoum\", \"Tampa-St. Petersburg, FL\", \"USA, Haiti, Nepal\", \"Fukuoka, Japan\", \"Boulder, CO\", \"English Midlands\", \"Zero Branco\", \"D(M)V  \", \"Wisconsin, USA\", \"United Kingdom,Fraserburgh\", \" Little Rock, AR\", \"Brizzle City !\", \"cigarknub@gmail.com\", \"on the web\", \"satan's colon\", \"Kelowna, BC\", \"#MadeInNorthumberland\", \"Quincy MA\", \"Hyrule\", \"Mississauga, Ontario\", \"IG : Sincerely_TSUNAMI\", \"Orlando \", \"Piedmont Triad, NC\", \"Romania\", \"Gloucester\", \"Cornwall\", \"Lima-Peru\", \"1/3 of the blam squad \", \"Purfleet\", \"Click the link below, okay \", \"Philadelphia, PA USA\", \"Greenville, S.C.\", \"Inside your mind.\", \"Somewhere in Jersey\", \"Somewhere \", \"East Aurora, NY\", \" New Delhi \", \"3rd Eye Chakra\", \"Cymru araul\", \"Overton NV\", \"Westerland\", \"sneaking glances at Thancred\", \"call me peach or sam lo\", \"Vilnius\", \"Where the money at\", \"California or Colorado\", \"Greensburg, PA\", \"Wherever I'm needed\", \"North Highlands, CA\", \"Maryland,Baltimore\", \"Back East in PA\", \"rural ohio (fuck)\", \"???????? ?????????.\", \"Spain but Opa-Locka, FL\", \"russia\", \"Near Yosemite\", \"Alameda and Pleasanton, CA\", \"Adventuring in Narnia\", \"california\", \"Silvermoon or Ironforge\", \"Trinity, Bailiwick of Jersey\", \"NY, CT & Greece\", \"IL\", \"manaus\", \"518 \\u00e5\\u00e1 NY\", \"Aveiro, Portugal\", \"Stage with Trey Songz\", \"wherever the $$$ at\", \"Hamilton, Ontario Canada\", \"Antarctica\", \"Huntsville AL\", \"Sioux Falls, SD\", \"A sofa\", \"Blogland\", \"please H? ?:??\", \"Houma La\", \"Wild Wild Web\", \"In the Shadows...\", \"Bow, NH\", \"Las Vegas, NV \", \"Amsterdam & Worldwide\", \"Toronto, Worldwide \", \"Hawthorne, NE\", \"Melbourne, Florida\", \"Louavul, KY\", \"Not Los Angeles, Not New York.\", \"West Coast, Cali USA\", \"{GoT | Modern AU | Lizz}\", \"Sumter, SC\", \"Chamblee, Georgia\", \"Brum/Lestah \", \"Warrandyte, Australia\", \"lia\\u0089\\u00db\\u00a2dani\\u0089\\u00db\\u00a2laura\", \"Uyo, Akwa Ibom State, Nigeria\", \"#RedSoxNation\", \"The Pumpkin Carriage of Dreams\", \"Fashion Heaven. IG: TMId_\", \"Texas \", \"the local dump\", \"Miami via Lima\", \"Cascadia\", \"?? ??\", \"Western Washington\", \"Nanaimo, BC, Canada\", \"Bayonne, NJ\", \"CHICAGO\", \"DC Metro area\", \"Queensland\", \"Le Moyne '16\", \"global\", \"wny\", \"Yooooooo\", \"WORLD WIDE\", \"The shores of Lake Kilby\", \"Lahore\", \"in my own personal hell (:\", \"Belleville, Illinois\", \"Illinois\", \"L/S/Z/L/T/H/C/H/R/A/S/C\", \"Slatina,Romania\", \"At Work\", \"Florida but I wanna be n Texas\", \"Bikini bottom\", \"#freegucci\", \"Glendale, CA\", \"Griffin :3\", \"Washington state\", \"Phila.\", \"KADUNA, NIGERIA\", \"Sunny South florida \", \"Guatemala\", \"Aix-en-Provence, France\", \"Port Jervis, NY\", \"Vancouver Canada\", \"South Florida\", \"Memphis,TN/ World Wide\", \"Menasha, WI\", \"Alicante, Spain\", \"Kingswinford\", \"perth, australia \", \"mnl\", \"Vineyard\", \"Houston,  TX\", \"Flushing, Queens\", \"Homs- Syria\", \"Atlantic, IA\", \"TN\", \"Pawnee\", \"Chester\", \"Eastbourne England\", \"Woodcreek HS, Roseville, CA\", \"Boulder\", \"Hermitage, PA\", \"Burlington, VT\", \"Chicagoland\", \"Concord, CA\", \"Aix-en-Provence/Utrecht\", \"Desert Storm?? |BCHS|\", \"Durham N.C \", \" Alex/Mika/Leo|18|he/she/they\", \"(he/him)\", \"Dalkeith, Scotland\", \"Cameroon\", \"World news\", \"between ideas & 3-5pm AEST\", \"Honolulu,Hawaii \", \"Alaska, USA\", \"Wolverhampton/Brum/Jersey\", \"a box\", \"The Circle of Life\", \"Chicago IL\", \"CA, AZ & NV\", \"  Melbourne, Australia\", \"Earth: Senseless nonsense\", \"Sligo and Galway, Ireland\", \"Elk Grove, CA, USA\", \"todaysbigstock.com\", \"Garrett\", \"Wakefield MA\", \"Santa Maria, CA\", \"Zac Newsome loves me\", \"Deadend, UK\", \"Montana \", \"Ivano-Frankivsk\", \"Wilbraham, MA\", \"Robin Hood's County \", \"GOT7SupportPH\", \"Johns Creek, GA\", \"BROKE NIGGAS DREAM!!\", \"Pembroke NH\", \"Sicamous, British Columbia\", \"State College, Pa\", \"Washington, DC 20009\", \"Fairgrounds Resident\", \"Miami?Gainesville\", \"Layang-Layang, Perak\", \"Chennai\", \"London, Kent & SE England.\", \"Whole World \", \"CHICAGO (312)\", \"home \", \"EGYPT\", \"Ikeja, Nigeria\", \"St PetersburgFL\", \"CORNFIELDS\", \"mi\", \"Pompano Beach, FL\", \"Madison, WI & St. Louis MO\", \" The World\", \"Derry, 17 \", \"PA, USA\", \"St. Louis, Missouri\", \"Dutch/English/German\", \"MY RTs ARE NOT ENDORSEMENTS\", \"Alberta Pack\", \"leyland\", \"Reddit\", \"don't buy the s*n\", \"buenos aires argentina\", \"Sochi, KDA, RU\", \"Chiswick, London\", \"Proudly Canadian!\", \"Boston \\u0089\\u00db\\u00a2 Cape Cod ?\", \"Vancouver\", \"IN our hearts  Earth Global \", \"Peoria\", \"Brooklyn\", \"Littleton, CO, USA\", \"West Palm Beach, Florida\", \"Jaipur, Rajasthan, India\", \"QUEENS.\", \"Fort Knox, KY 40121\", \"OES 4th Point. sisSTAR & TI\", \"@protectingtitan's side.\", \"death star\", \"Nice places \", \"EARTH\", \"Vero Beach , FL\", \"In the Shadows\", \"Asgard\", \"Milton/Tallahassee\", \"Galapa / Atl\\u00cc\\u00c1ntico\", \"lost in my thoughts\", \"Brazos Valley, Texas\", \"New York City ,NY\", \"District 12 - Orange County\", \"FOLLOWS YOU everywhere you go\", \"Portage, IN / Worldwide\", \"St. John's, NL, Canada\", \"Houston, TX  \", \"IDN\", \"Cassadaga Florida\", \"Houston, Texas ! \", \"North Port, FL\", \"Hogwarts\", \"Far Away From Home\", \"3000 miles from everyone\", \"St Joseph de Beauce\", \"I Heard #2MBikers\", \"Rocketing through the galaxy\", \"Riverside, CA\", \"US, PA\", \"Stanford University\", \"taking pain like pleasure\", \"Santiago de Cmpostela Galicia\", \"Calgary, Alberta, Canada\", \"County Durham, United Kingdom\", \"whs '17\", \"Balikesir - Eskisehir\", \"Fountain City, IN \", \"Palma, Islas Baleares\", \"\\u00cc\\u00cfT: 6.4682,3.18287\", \"See the barn of bleakness\", \"Tennessee, USA\", \"North East, England\", \"D\\u00cc_sseldorf, Germany\", \"Cuernavaca, Morelos, M\\u00cc\\u00a9xico.\", \"Wasington, DC\", \"Brentwood, NY\", \"WORLD\", \"everydaynigerian@gmail.com\", \"Loughton, Essex, UK\", \"khartoum sudan\", \"??????????????\", \"Travelling around the world \", \"San Jose\", \"Roads/Trails Everywhere\", \"Where ever i please\", \"Cambridge, Massachusetts\", \"Davis, California\", \"2,360 miles away\", \"Washington, DC NATIVE\", \"Estados Unidos\", \"Storybrooke / The Moors\", \"City of Angels, CA\", \"Fleet/Oxford, UK\", \"Melton, GA\", \"PG Chillin!\", \"mexico\", \"Tokyo & Osaka\", \"Vancouver, Colombie-Britannique\", \"Las Vegas, NV USA\", \"Shrewsbury\", \"[@blackparavde is my frankie]\", \"Coconut Creek, Florida\", \"Greater Manchester, UK\", \"North Carolina \", \"Espa\\u00cc\\u00b1a, Spain\", \"ELVY\", \"Alexandria, Egypt.\", \"48.870833,2.399227\", \"Nicoma Park, OK\", \"BOSTON-LONDON\", \"walking the tightrope\", \"Harpurhey, Manchester, UK\", \"Kuwait \", \"taco bell\", \"Birdland, New Meridian, FD\", \"Kansas, The Free State! ~ KC\", \"Nigeria, WORLDWIDE\", \"Jackson\", \"956\", \"Neverland\", \"Pelham, AL\", \"Victoria, Canada\", \"3.28.15|7.20.15|7.25.15\", \"UPTOWN \", \"Grimsby, England\", \"Kuala Lumpur, Malaysia\", \"Crato - CE \", \"Malaysia/Jordan\", \"my deli\", \"#GDJB #ASOT\", \"Paranaque City\", \"Ciudad Aut\\u00cc_noma de Buenos Aires, Argentina\", \"Lima, Per\\u00cc\\u00bc\", \"probably the strip club\", \"NEWCASTLE\", \"Hawaii USA\", \"a botanical garden probably\", \"marvel | books | hp | tmr\", \"Rotterdam, The Netherlands\", \"Orlando\", \"Bloomington, IN\", \"Killafornia made me \", \"Jackson, MS\", \"Charlotte \", \"St Louis, MO\", \"BIG D  HOUSTON/BOSTON/DENVER\", \"NOLA ?? TX\", \"InterplanetaryZone\", \"#KaumElite;#F?VOR;#SMOFC\", \"Raleigh (Garner/Cleveland) NC\", \"Swindon,England \", \"Joshua Tree, CA\", \"Hertfordshire \", \"Nashville, Tn\", \"Lansing, Michigan\", \"Brasil,SP\", \"Worldwide.\", \"FSC '19\", \"Ecuador\", \"\\u00cc\\u00cfT: 35.223347,-80.827834\", \"Camaqu\\u00cc\\u00a3/Pelotas\", \"Tipperary (Long Way) \", \"Score More Goals Buying @\", \"liverpool \", \"CCH \", \"MUM-DEL\", \"Skyhold\", \"washington, d.c.\", \"Charleston, SC\", \"Port Orange, FL\", \"probably watching survivor\", \"All around the world\", \"Webster, TX\", \"Ormond By The Sea, FL\", \"?205?478?\", \"Bucharest\", \"South Central Wales\", \"Moore, OK\", \"#BossNation!\", \"beacon hills \", \"Yadkinville, NC\", \"Raleigh Durham, NC\", \"USAoV\", \"Bolton & Tewkesbury, UK\", \"Dayton, Ohio\", \"White Plains, NY\", \"Edmonton, Alberta\", \"Pioneer Village, KY\", \"Enniscrone & Aughris, Sligo \", \"Colorado, USA\", \"The Hammock, FL, USA\", \"Chicago, IL 60607\", \"U.S.A and Canada\", \"Winter Park, Colorado\", \"Los Angeles New York\", \"Grand Rapids MI\", \"Charlotte, NC | K\\u00cc\\u00a6ln, NRW\", \"Our Empire State\", \"Arvada, CO\", \"Mysore, Karnataka\", \"North America\", \"mpls. \", \"Nairobi , Kenya\", \"West Hollywood\", \"Los Angeles, London, Kent\", \"Saint Paul\", \"Spinning through time.\", \"PH\", \"en el pais de los arrechos\", \"Virgo Supercluster\", \"USA - Canada - Europe - Asia\", \"The Wood\", \"Kirkwall\", \"Cleveland, Ohio\", \"Waialua, Hawaii\", \"Austin/Los Angeles\", \"Sacae Plains\", \"Ellensburg to Spokane\", \"Loading...\", \"Athens,Greece\", \"Davao City\", \"www.twitch.tv/PKSparkxx\", \"she/her/your majesty/empress\", \"Head Office: United Kingdom\", \"Santiago de Chile\", \"Youngstown, OH\", \"Nelspruit, South Africa\", \"BrowardCounty // Florida \", \"Concord, NH \", \"Elkhart, IN\", \"FLYEST HIPPIE YOU KNOW \", \"San Fransokyo\", \"ARBAILO\", \"Manchester UK\", \"Earth \", \"In Your Notifications \", \"Charleston, WV\", \"kissimmee,fl.\", \"right here\", \"Still. ??S.A.N.D.O.S??\", \"21 | PNW\", \"Ogba, Lagos, Nigeria\", \"Florida USA\", \"somewhere in Portugal\", \"PLFD cuh..\", \"Bacon\", \"houston\", \"Caracas, Venezuela.\", \"cedar rapids ia\", \"Helsinki, Finland\", \"Hermosa Beach, CA\", \"Hamilton County, IN\", \"Lubbock, TX\", \"Medan,Indonesia\", \"Croydon\", \"Argus Industries \\\\m/666\\\\m/\", \"Outside The Matrix, I Think.\", \"Greenpoint, Brooklyn\", \"Auburn, AL\", \"eBooks, North America\", \"US: 44.414510,8.942499\", \"Whiterun, Skyrim\", \"???? ???????\", \"Near Richmond, VA\", \"Clearwater, FL\", \"UAE,Sharjah/ AbuDhabi\", \"Mooseknuckle, Maine\", \"Surulere Lagos,Home Of Swagg\", \"they/her\", \"Up a hill\", \"Chicago Area\", \"in my head\", \"Global Edition\", \"Port Charlotte, FL\", \"Varies \", \"The Internet\", \"Tucson, Az\", \"calgary,ab\", \"Sunbury, Ohio\", \"God is Love. \", \"Banbridge\", \"North Hastings Ontario\", \"Ocean City, NJ\", \"Beautiful British Columbia\", \"New York. NY\", \"Erbil\", \"DRAW A CIRCLE THAT'S THE EARTH\", \"NIFC\", \"austin tx\", \"? Philly Baby ?\", \"Planet of da Bathing Apes\", \"Positive 852\", \"Paname City\", \"Holly Springs, NC \", \"The World\", \"Iowa, USA\", \"?????????????, Thailand \", \"Numa casa de old yellow bricks\", \"Lancaster California\", \"Hampshire, UK\", \"U.S.\", \"Vit\\u00cc_ria (ES)\", \"New York / Worldwide\", \"N?? Y???.\", \"BROOKLYN, NYC\", \"nbc washington\", \"Funtua, Nigeria\", \"| CA \\u0089\\u00db\\u00a2 GA  |\", \"Catalonia, Spain\", \"lugo\", \"Conversing In Janet's Caf\\u00cc\\u00ac\", \"with Doflamingo\", \"Bod\\u00cc\\u00fc, Norge\", \" Blood Indian Reserve\", \"ur\\u00cc\\u00a3nus\", \"Oregon and Washington\", \"Marietta, GA\", \"Valle Del Sol\", \"Brazil \", \"Cape Cod\", \"@notoriousD12\", \"at my home\", \"Tarragona\", \"Sandton, South Africa\", \"Atlanta Georgia\", \"Norwich\", \"the void, U.S.A\", \"New York ? ATL\", \"Dallas, Texas. \", \"\\u00cc\\u00cfT: 36.142163,-95.979189\", \"El Paso, Texas\", \"Queens, NY\", \"253\", \"Stockton on tees Teesside UK\", \"Queen Creek AZ\", \"IM LOST \", \"Multinational *****\", \"Broomfield, CO\", \"Also follow ?\", \"Third rock from the Sun\", \"Here And There\", \"Valparaiso \", \"Vancouver, BC.\", \"Mass\", \"Tulalip, Washington\", \"Crouch End, London\", \"Hamilton, ON\", \"At your back\", \"nj\", \"Moscow, Russia\", \"buhh\", \"Holly, MI\", \"Richardson TX\", \"Halifax, NS, Canada\", \"Delhi\", \"Sheffield/Leeds\", \"Bay Area, CA\", \"Thrissur\", \"Atlanta g.a.\", \"nap queen\", \"We are global!\", \"Gujranwala, Pakistan\", \"Morganville, Texas.\", \"\\u00cc\\u00f8\\u00e5\\u00c0\\u00e5_T: 40.736324,-73.990062\", \"Use #TMW in tweets get #RT\", \"lrhcthband;four - bournemouth\", \"Fort Walton Beach, FL\", \"D.C. - Baltimore - Annapolis\", \"Wilmington, DE\", \"DaKounty, Pa\", \"Devon/London \", \"wherever-the-fuck washington\", \"Lytham St Anne's \", \"92\", \"Kwara, Nigeria\", \"\\u0081\\u00cawagger!\\u00cc\\u0090ominican\\u00cc\\u00f7\", \"??????? ??????? ????????\", \"Realville\", \"bahstun/porta reeko\", \"Jersey City, NJ\", \"Greensboro, NC\", \"tri state\", \"Bloomington, Indiana\", \"peshawar pakistan \", \"Wausau, Wisconsin\", \"East London\", \"Did anybody see me here ??\", \"Dhaka\", \"playing soccer & eating pizza\", \"USA, WA\", \"Chippenham/Bath, UK\", \"on twitter \", \"Kansas\", \"Milton keynes\", \"Avon\", \"Prehistoric Earth\", \"Viejo\", \"Gold Coast\", \"Photo : Blue Mountains \", \"Rome, Italy\", \"Your notifications\", \"THE WORLD T.G.G / M.M.M \", \"Fort Walton Beach, Fl\", \"Spokane, Washington\", \"Ealing, London\", \"Groton, CT\", \"Surry Hills, Sydney\", \"WASHINGTON,DC\", \"316\", \"Greenville,SC\", \"Miami,Fla\", \"Stratford, CT\", \"Amman, Jordan\", \"LIVERPOOL\", \"USA/SO FLORIDA via BROOKLYN NY\", \"DC, frequently NYC/San Diego\", \"Berlin, NY, DC, Malibu\", \"#EngleWood CHICAGO \", \"London / Berlin / Online\", \"505 W. Maple, Suite 100\", \"EVERYWHERE\", \"Russia\", \"Paris, France\", \"LA\", \"Your Conversation\", \"Sao Paulo, Brazil\", \"Harper Woods, MI\", \"Coolidge, AZ\", \"Pune, Maharashtra\", \"Huntsville, Alabama\", \"Dreieich, Germany\", \"\\u00e5\\u00ca(?\\u0089\\u00db\\u00a2`?\\u0089\\u00db\\u00a2\\u00e5\\u00ab)??\", \"wherever there's netflix\", \"Minneapolis - St. Paul\", \"Behind The Obama Curtain\", \"nashville, tn \", \"Brecksville, OH\", \"Ibadan,Oyo state\", \"Nicola Valley\", \"Jonesboro, Arkansas USA\", \"Highland Park, CA\", \"In the middle of no where\", \"Van Buren, MO\", \"GO BLUE! HAIL YES!!\", \" Jariana Town\", \"17th Dimension\", \"iPhone: 33.104393,-96.628624\", \"Toledo, OH\", \"Fairy Tail! \", \"Goa, India\", \"Sharkatraz/Bindle's Cleft, PA\", \"Groningen, Netherlands, Europe\", \"Isolated City In World Perth\", \"btwn a rock and a hard place\", \"Statute Of Limitations_\", \"New York 2099\", \"#otrakansascity\", \"Tring, UK\", \"Henderson, Nevada\", \"Earth, Milky Way, Universe\", \"Stalybridge, Tameside\", \"H / pez & sophia \", \"LP, MN USA\", \"norway\", \"South West, England\", \"Catskills\", \"Rio\", \"Nomad, USA\", \"Colombo,Sri Lanka.\", \"B&B near Alton Towers\", \"Alberta \", \"infj \", \"#SOUTHAMPTON ENGLAND\", \"Detroit/Windsor\", \"Islamabad\", \"Hawaii\", \"Jersey City, New Jersey\", \"atx\", \"Fort Wayne, IN\", \"//??//\", \"Jacksonville, FL\", \"In the spirit world\", \"A Hoop Somewhere\", \"London/Surrey \", \"WorldWideWeb\", \"Abuja,Nigeria\", \"Skyport de la Rosa\", \"SURROUNDED BY WEEABOOS\", \"Aurora, IL\", \"i got 1/13 menpa replies, omg\", \"BestCoast\", \"on the go\", \"Thornton  Colorado\", \"Sacramento, California\", \"Jammu | Kashmir | Delhi\", \"Las Cruces, NM\", \"@UntmdOutdoors #T.O.R.K \", \"Piedmont Area, North Carolina\", \"Oxford, MS\", \"Portsmouth, UK\", \"COMING SOON\", \"Bulgaria\", \"Sugarhouse, UT\", \"Yeezy Taught Me , NV\", \"Boston/Montreal \", \"kisumu\", \"Maharashtra\", \"CA ??DC\", \"livin life in the 610\", \"Buxton, Venice, and Nottingham\", \"Scotts Valley, CA\", \"The TARDIS\", \"Nowhere Islands/Smash Manor\", \"www.facebook.com/stuntfm\", \"Mogadishu, New Jersey\", \"Warszawa\", \"The Main \", \"cody, austin follows ?*?\", \"Mid West\", \"New Haven, Connecticut\", \"Porto Alegre, Rio Grande do Sul\", \"NYC,US - Cali, Colombia\", \"Xi'an, China\", \"WORLDWIDE!\", \"Frostburg\", \"DFW, Texas\", \"Australian Capital Territory\", \"we?it \\u0089\\u00db\\u00a2 ixwin\", \"Downtown Oklahoma City\", \"Saskatchewan, Canada\", \"Pekanbaru\\u00e5\\u00a1Batam Island\\u00e5\\u00a1Medan\", \"midwest\", \"Hannover, Germany\", \"AUS\", \"CAMARILLO, CA\", \"Victoria, BC  Canada\", \"EastAtlanta ??#WestGeorgia'18\", \"twitch.tv/naturalemblem26\", \"Fort Worth,  Texas \", \"Duncan\", \"Kwajalein/Virginia/Dayton, OH\", \"Free State, South Africa\", \"Hatteras, North Carolina\", \"Melbourne, Australia.\", \"401 livin'\", \"Chicora ?? Oakland\", \"Loveland Colorado\", \"Kaneohe\", \"EveryWhere\", \"Your Sister's Bedroom\", \"ava\", \"The Desert\", \"Temecula, CA\", \"Paradise City\", \" 45\\u00e5\\u00a1 5'12.53N   14\\u00e5\\u00a1 7'24.93E\", \"US-PR\", \"Lima, Peru\", \"CLT\", \"Poconos\", \"North East USA\", \"Davidson, NC\", \"fluffy cloud\", \"???????????\", \"Headed To The Top\", \"Sutton, London UK\", \"Brasil, Fortaleza ce\", \"\\u0089\\u00db\\u00a2OlderCandyBloom\\u0089\\u00db\\u00a2\", \"gaffney, sc \", \"Fairfax, VA\", \"Livingston, MT\", \"Rotterdam, Zuid-Holland\", \"on a catwalk somewhere\", \"Montgomery, AL\", \"Watch Those Videos -\", \"pissing off antis\", \"livin in a plastic world\", \"Shipwreck Cove\", \"Lowell, MA\", \"Elizabeth, NJ\", \"swindon\", \"potters bar\", \"Akure city in ondo state \", \"??? ???? ??????\", \"Noida, NCR, India\", \"Cypress, CA 90630\", \"yorkshire\\n\", \"Peterborough, Ont.\", \"New York - Connecticut\", \"North West England UK\", \"NJ/NY/NM/NE/ND\", \"Greenwich Meridian\", \"IUPUI '19\", \"Georgia, U.S.A.\", \"ny\", \"DMV\", \"Alger-New York-San Francisco\", \"my house\", \"Wynne, AR\", \"The windy plains of Denver\", \"Leitchfield Kentucky\", \"West Vancouver, B.C.\", \"have car; will travel\", \"New York, NY \", \"Lethbridge, AB, Canada\", \"In the moment\", \"maryland\", \"In @4SkinChan 's arms\", \"Charlotte, North Carolina\", \"Pune, mostly \", \"watford\", \"Fredericksburg, Virginia\", \"Lakewood, Tennessee\", \"NAWF SIDE POKING OUT \", \"23 countries and counting!\", \"Na waffi\", \"Dubai, United Arab Emirates\", \"NBO\", \"Brisbane.\", \"Dalston, Hackney\", \"In Space\", \"Between the worlds \", \"New Britain, CT\", \"#PhanTrash\", \"Denver Colorado. Fun Times\", \"Belgrade\", \"T E X A S | wwat 8.24.14\", \"Jacksonville Beach, FL\", \"Norf Carolina\", \"kansas\", \"Planet Eyal, Shandral System\", \"London/Bristol/Guildford\", \"Konoha\", \"Peshawar\", \"Georgia ? Tennessee\", \"Colorado/WorldWide\", \"toronto \\u0089\\u00db\\u00a2 dallas\", \"Hailing from Dayton \", \"Own planet!!\", \"University Heights, Ohio\", \"paradise\", \"Pontefract UK\", \"??t?a\", \"Nagpur\", \"Neath, South Wales\", \"[Gia.] | #KardashianEmpire\", \"south of heaven \", \"Iliff,Colorado  \", \"Belbroughton, England\", \"Kingston, Pennsylvania\", \"Pluto\", \"Wonderland\\u0089\\u00db\\u00d3 ?????? ???? ??????\", \"Anaheim\", \"Land of Lincoln\", \"Tornado Alley, USA \", \"Guelph Ontario Canada\", \"Viterbo BFA Acting '18\", \"College Station, TX\", \"Littleton, CO\", \"Paris \", \"Spring Tx\", \"Eagle Pass, Texas\", \"Roadside\", \"Chicago, but Philly is home\", \"Some where\", \"Bangalore\", \"South Asia\", \"Laguna Beach, Calif. \", \"Arlington, VA\", \"Huber Heights, OH\", \"phuket thailand\", \"Surrey & Manchester\", \"Kuwait\", \"texas a&m university\", \"Chattanooga TN\", \"??? ?? ??????? \", \"Storybrooke \", \"NY, NY\", \"Johannesburg \", \"london / st catharines ?\", \"Cochrane, Alberta, Canada\", \"Pon Di Gully\", \"State of Dreaming\", \"Born in Baltimore Living in PA\", \"Uganda\", \"Malang\", \"\\u00cc\\u00cfT: 40.707762,-74.014213\", \"801 SL,UT\", \"JKT48-Muse-A7X\", \"Ylisse\", \"Madrid\", \"sitting on the fence, New York\", \"Hustletown\", \"Fife, WA\", \"Scottsdale. AZ\", \"New Hampshire, USA\", \"Saint Louis, Missouri\", \"The Land of MAss Stupidity\", \"England \", \"GLOBAL/WORLDWIDE\", \"cleveland, oh\", \"Salt Lake City, UT\", \"beijing .China\", \"Las Vegas, NV\", \"Oklahoma\", \"Franklin, TN near Nashville\", \" Alberta\", \"Riverdale, GA \", \"518\", \"Essex/Brighton\", \"PDX\", \"Here there and everywhere\", \"PSA Nursing \", \"Columbus, Georgia\", \"Emirates\", \"Plain O' Texas\", \"bajaur\", \"london essex england uk\", \"Depok\", \"Not where I want to be, yet\", \"Tafekop Ga-Matsepe\", \"Sevier County.\", \"University of Toronto\", \"The green and pleasant land.\", \"Milton Keynes \", \"Punjab\", \"bk. \", \"United Hoods of the Globe\", \"Halfrica\", \"Vidalia GA\", \"Adelaide\", \"Napa, CA\", \"Mount Vernon, NY\", \"#1 Vacation Destination,HAWAII\", \"Gameday\", \"Huntington, WV\", \"by a piano probably. \", \"Hollywood\", \"Albany/NY\", \"In my own world!!!\", \"all over the world\", \"Intermountain West\", \"Brisbane, Queensland\", \"front row at a show\", \"Near Warrington\", \"Philadelphia, Pennsylvania USA\", \"University of Chicago\", \"Two Up Two Down\", \"Elchilicitanierraversal \", \"Downtown Churubusco, Indiana\", \"Online 24/7. Not even kidding.\", \"Somewhere in Spain\", \"Adventist - Lesson Sabbath\", \"Malibu/SantaFe/Winning!\", \"peekskill. new york, 10566 \", \"NYC / International\", \"Jerusalem, Israel\", \"Oklahoma, USA\", \"Gwersyllt, Wales\", \"www.youtube.com?Malkavius2\", \"11/4/14\", \"TonyJ@Centralizedhockey.com\", \"Email: Lovethterry@gmail.com\", \"\\u00e5\\u00a1\\u00e5\\u00a1Midwest \\u0089\\u00db\\u00a2\\u0089\\u00db\\u00a2\", \"AZ\", \"nc\", \"Ventura\", \"Serva Fidem\", \"MA via PA\", \"Ashxjonespr@gmail.com\", \"Saint Lucia\", \"milky way\", \"Victorville, CA\", \"www.tmgcgart.com\", \"????? ???? ????\", \"????????????\", \"Rhyme Or Reason?\", \"Hinterestland\", \"The Shady Hyenatown of Finland\", \"\\u0089\\u00db\\u00a2 Views From The Six \\u0089\\u00db\\u00a2\", \"Soufside\", \"Denton, Texas\", \"AUSTRALIA-SOUTHAFRICA-CAMBODIA\", \"Former Yugoslav Republic of Macedonia\", \"PROV\", \"Reading a romance novel\", \"Cottonwood Arizona\", \"At Da Laundry Mat Wit Nivea \", \"di langit 7 bidadari (^,^ )\", \"Bedford, England\", \"St. Patrick's Purgatory\", \"Reading MA\", \"Alliston Ontario\", \"STL ?NOLA\", \"come here in 20 minutes for an ass kicking\", \"CPT & JHB, South Africa\", \"Me mammy's belly\", \"not so cool KY\", \"Terlingua, Texas\", \"Paducah, KY\", \"Porthcawl\", \"Northern Ireland\", \"Peru\", \"Spokane, Washington 99206\", \"Conroe, TX\", \"Whippany, NJ\", \"Loughborough.\", \"21, Porto\", \"Ely, Cambridgeshire\", \"JamDung\", \"Otsego, MI\", \"Tractor land aka Bristol\", \"Savage States of America\", \"KSU 2017\", \"City Of Joy\", \"Bangalore, INDIA\", \"S.F. Bay area\", \"Gold Coast, Qld, Australia\", \"boston\", \"Palmyra, NJ\", \"highlands&slands scotland\", \"Niall's arms\", \"Columbia Heights, MN\", \"... -.- -.--\", \"Spain - China - Latin America.\", \"Riyadh ')\", \"Docker container\", \"Guayaquil\", \"Ukraine and Ireland\", \"keli x\", \"Toronto, Bob-Lo, Miami Beach\", \"Kualar Lumpur, Malaysia\", \"Hilton Head, SC  \", \"Topeka, KS\", \"Jerseyville, IL\", \"Basketball City, USA \", \"Haiku, Maui, Hawaii\", \"East Islip, NY\", \"hollywoodland \", \"Top Secret\", \"Argentina\", \"hatena bookmark\", \"Wanderlust\", \"Manhattan\", \"New Mexico, USA\", \"somewhere in Indiana \", \"Gumptown\", \"Madisonville TN\", \"guaravitas\", \"Jubail IC, Saudi Arabia\", \" Miami Beach\", \"Live4Heed??\", \"ATLANTA , GEORGIA \", \"Gettysburg, PA\", \"Finland\", \"dublin \", \"Arnhem, the Netherlands\", \"?????? in Yokohama Japan\", \"#expelcl*y\", \"I O W A\", \"Dundas, Ontario\", \"Quezon City, Philippines\", \"Queensland, Australia\", \"Dallas, TX \", \"Vancouver (HQ) and worldwide\", \"someplace living my life\", \"Harbour Heights, FL\", \"Dakar\", \"Hamilton, Ontario CA\", \"Varanasi\", \"British girl in Texas\", \"Dorset, United Kingdom\", \"Screwston, TX\", \"Unite. Bless. Wallahi \", \"Inverness, Nova Scotia\", \"italy\", \"Atlanta, Ga\", \"Cape Cod, Massachusetts USA\", \"Norwalk, CT\", \"Roanoke VA\", \"Leaving Bikini Bottom\", \"#partsunknown\", \"Macon, Georgia\", \"North East / Middlesbrough \", \"(a) property of the universe\", \"NC || OR\", \"Escondido, CA\", \"Dorset, UK\", \"Definitely NOT the stables\", \"Nashville, Tennessee\", \"San Antonio-ish, TX\", \"??9?\", \"\\u00e5_\\u00e5_Los Mina City\\u0089\\u00e3\\u00a2\", \"Charter Member of the VRWC\", \"oman muscat al seeb \", \"icon: cheese3d\", \"columbus ohio\", \"Kodiak, AK\", \"Lawrence, KS via Emporia, KS\", \"wisco\", \"i love you zayn\", \"SOUTHERN CALIFORNIA DESERT\", \"New Jersey/ D.R.\", \"Absecon, NJ\", \"THANJAVUR\", \"Vancouver, BC, Canada\", \"Est. September 2012 - Bristol\", \"Oneonta, NY/ Staten Island, NY\", \"The Pig Sty\", \"rowyso dallas \", \"$ad $hawty\", \"Newport, Wales, UK\", \"Pomfret/Providence\", \"Over the Moon...\", \"Gotham\", \"New Jersey, usually\", \"The Empire/First Order\", \"New Delhi,India\", \"LEALMAN, FLORIDA\", \"Fakefams\", \"San Jose, CA, USA\", \"Long Beach, CA\", \"ilford\", \"us\", \"Perthshire \", \"Inang Pamantasan\", \"SEC Country\", \"Maricopa, AZ\", \"Quincy\", \"chicago\", \"TV5, Philippines\", \"Alicante, Valencia\", \"Kutztown, PA\", \"IN\", \"ALWAYS DYING NEVER RESTING\", \"204, 555 11 Ave. S.W.\", \"Dudetown\", \"Aracaju - Sergipe\", \"Birmingham UK\", \"Atlanta - FAU class of '18\", \"Waterloo, ON\", \"? miranda ? 521 mi\", \"Canadian bread\", \"nj/ny\", \"The Internet & NYC\", \"oxford\", \"Rutherfordton, NC\", \"San Juan, Puerto Rico\", \"Jackson TN\", \"Brisbane Australia\", \"cyprus\", \"#keepthefaith J&J\", \"Athens, Greece\", \"The Sun's Corona\", \"Dallas, Tejas\", \"Shady Pines \", \"Los Angeles,CA, USA\", \"Detroit, Michigan\", \"manchester, uk.\", \"alberta, canada\", \"?^\\u00e5\\u00e1??\\u00e5\\u00e1?^?? ??\", \"philly \", \"Henderson, NV\", \"Arundel \", \"Nevada (wishing for Colorado)\", \"London, Riyadh\", \"Maryland \", \"Redondo Beach, CA\", \"Lynnfield, MA\", \" |IG: imaginedragoner\", \"Tunbridge Wells\", \"Here & There\", \"KurveZ@GearHeadCentral.net\", \"Bolivar, MO\", \"Minneapolis, MN\", \"Host of #MindMoversPodcast\", \"Lincoln City Oregon\", \"Canberra, Australian Capital Territory\", \"Bishops Lydeard, England\", \"Plano,TX\", \"Cuttack, Orissa\", \"Evansville, IN\", \"Ziam af \", \"Himalayan Mountains\", \"412 NW 5th Ave. Portland OR\", \"Brackley Beach, PE, Canada\", \"Williamsbridge, Bronx, New Yor\", \"Bristol, UK\", \"kenya\", \"London \", \"Ohio\", \"Swag Francisco\", \"Lancaster, CA\", \"The Memesphere\", \"V-RP @OZRP_ ?MV, AU, R18+?\", \"Displaced Son of TEXAS!\", \"Washington DC / Nantes, France\", \"Le Memenet\", \"Tama, Iowa\", \"BKI-KUA\", \"\\u00cc\\u00cfT: 39.982988,-75.261624\", \"indiana\", \"Walker County, Alabama\", \"Gurgaon, Haryana. \", \"@cockerelshoes\", \"University of South Florida\", \"portland, oregon\", \"Yobe State\", \"Wakefield, West Yorkshire\", \"Alameda, CA\", \"9/1/13\", \"Albuquerque New Mexico\", \"Lives in London\", \"Hoxton, London\", \"Eddyville, Oregon 97343\", \"MNL\", \"AEP\", \"Coventry, Rhode Island\", \"Hueco Mundo\", \"IJmuiden, The Netherlands\", \"My subconscious\", \"Alabama, USA\", \"Here, unless there.  \", \"Melbourne, FL\", \"Yulee, FL\", \"probably petting an animal\", \"Southern Maine\", \"turner fenton\", \"Geneva, Switzerland\", \"Eagle Mountain, Texas \", \"65\", \"Dublin\", \"On a beach \", \"golborne, north west england.\", \"Freddy Fazbears pizzeria\", \"HOMRA.\", \"Somewhere\", \"Mostly Yuin.\", \"Frome, Somerset, England\", \"Nova Scotia, Canada\", \"eARth 3\", \"ATL, GA\", \"Winston Salem, North Carolina\", \"a van down by the river\", \"Speaking the Truth in Love\", \"ATL??AL??\", \"Narnia, Maryland\", \"Warm Heart Of Africa\", \"Fredonia,NY\", \"Blackpool, England, UK.\", \"Corpus - Las Vegas - Houston\", \"california mermaid ? \", \"\\u0089\\u00db\\u00a2901\\u0089\\u00db\\u00a2\", \"laying on the bass\", \"Not a U.S resident\", \" Bouvet Island\", \"  Glasgow \", \"Richmond Heights, OH\", \"Abuja\", \"Anywhere Safe\", \"Missouri, USA\", \"sitting on Eddie Vedders lap,\", \"Greenville\", \"Chester \", \"Bhubneshwar\", \"dorito land\", \"Atlanta(ish), GA\", \"\\u00cc\\u00cfT: 27.9136024,-81.6078532\", \"Fort Myers, Florida\", \"Corpus Christi\", \"Gainesville/Tampa, FL\", \"Bathtub de Bett \", \"Montr\\u00cc\\u00a9al, Qu\\u00cc\\u00a9bec\", \"London.\", \"PROUD INDIANS\", \"ohio\", \"ChicagoRObotz\", \"KOLKATA\", \"302???? 815\", \"Astley, Manchester\", \"Dil's Campsite\", \"Daddy Kink Central\", \"Bellevue NE\", \"Slateport City, Hoenn\", \"Medell\\u00cc_n, Antioquia\", \"h+l\", \"Palm Bay, FL (Kissimmee)\", \"Ab, Canada\", \"Mars\", \"shoujo hell \", \"Riverview, FL \", \"Duval, WV 25573, USA ?\", \"Frankfort, KY\", \"Hartford,  connecticut\", \"\\u00cc\\u00cfT: 30.307558,-81.403118\", \"Warwick, RI @Dollarocracy also\", \"elena's bed // info on link\", \"The Epicenter, and Beyond\", \"Twitter Lockout in progress\", \"Toronto, ON, Canada\", \"MAURITIUS\", \"Kenosha, WI 53143\", \"Selena | Britney | Hilary\", \"The land of New Jersey. \", \"Shanghai\", \"#UNITE THE BLUE  \", \"This Is Paradise. Relax. \", \"Portoviejo-Manabi-Ecuador\", \"\\u0089\\u00db\\u00a2III.XII.MMXI\\u0089\\u00db\\u00a2\", \"Gloucestershire , UK\", \"N. California USA\", \"Paris (France)\", \"Play For Ryan ??\", \"Afghanistan\", \"Va Beach, Virginia\", \"mainly California\", \"University of Limerick\", \"Mackem in Bolton\", \"WESTSIDE OF PHILLY 7? BLOCK??\", \"cork\", \"PS4, now stop asking\", \"?? Cloud Mafia ??\", \"On the toilet having a dump \", \"Warsaw\", \"proudly South African\", \"Rural Northern Nevada\", \"#goingdownthetoilet Illinois\", \"Tamworth\", \" Tropical SE FLorida\", \"Waterloo, Ont\", \"tokyo\", \"PG County, MD\", \"Los Angeles for now\", \"Williamstown, VT\", \"Meereen \", \"toronto\", \"Pakistan, Islamabad\", \"Zimbabwe\", \"seattle wa\", \"V\\u00cc_a L\\u00cc\\u00c1ctea\", \"Greg's place\", \"tripoli international airport\", \"melbourne\", \"IG: AyshBanaysh\", \"Njoro, Kenya\", \"Canada \", \"Western New York\", \"Campo Grande-MS\", \"LFC x GSW\", \"Arlington, VA and DC\", \"Metro Manila\", \"Campinas Sp\", \"London / Birmingham\", \"#BlackLivesMatter\", \"Smash Manor/Kanto\", \"Sylacauga, Alabama\", \"where I'm supposed to be\", \"Kabul, Tuebingen, Innsbruck\", \"??????????????????\", \"The Kingdom of Fife, Scotland\", \"1648 Queen St. West, Toronto.\", \"facebook.com/tradcatknights\", \"miami x dallas \", \"Americas Newsroom\", \"Lima, Ohio\", \"Lahti, Finland\", \"hyderabad\", \"a feminist, modernist hag.\", \"New York City, NY\", \"they/them\", \"The Web\", \"In the clouds...\", \"Azeroth\", \"Manila City\", \"Somewhere Powerbraking A Chevy\", \"access to njh/5 and cth/4\", \"chillin at ceder rapids\", \"? icon by @Hashiren_3 ?\", \"Karachi \", \"Cimahi,West Java,Indonesia\", \"England.\", \"southern california\", \"Jonesboro, AR MO, IOWA USA\", \"PA.USA\", \"Konoha Village\", \"rio de janeiro | brazil\", \"#Bummerville otw\", \"Mankato, MN\", \"Inglewood, CA\", \"Wyoming, MI (Grand Rapids)\", \"Beacon Hills\", \"Hogsmeade\", \"Suva, Fiji Islands.\", \"St Austell, Cornwall\", \"Mexico City\", \"central chazifornia\", \"Zeerust, South Africa\", \"Dammam- KSA\", \"East Atlanta, Georgia\", \"18 \\u0089\\u00db\\u00a2 CC\", \"The Weird Part of Wonderland\", \"Shah Alam,Malaysia\", \"i beg vines sorry \", \"Nashua NH\", \"Live m\\u00cc\\u00c1s\", \"\\u00cc\\u00cfT: 42.910975,-78.865828\", \"England, Great Britain.\", \"IG/SC:bjfordiani\", \"876 Jamrock.\", \"MI - CA\", \"Fairfield, California\", \"belleville\", \"Paulton, England\", \"dope show\", \"RhodeIsland\", \"St.Cloud, MN\", \"westwestwestwestwestwestwest\", \"right next to you\", \"Medford, Oregon\", \"Cape Town, Khayelitsha\", \"Pratt-on-Wye\", \"New Chicago\", \"Waverly, IA\", \"Oshawa, Canada\", \"Bakersfield, CA\", \"Bracknell\", \"pittsboro\", \"Carregado\", \"Selangor\", \"\\u00e5_: ?? \\u00cc\\u00d1 ? : ?\", \"San Luis Obispo, CA\", \"The Triskelion\", \"Cardiff, UK\", \"3?3?7?SLOPelousas??2?2?5?\", \"Livingston, IL  U.S.A.\", \"Somewhere between here & there\", \"My contac 27B80F7E 08170156520\", \"Notts\", \"Kajang ? UiTM Puncak Alam\", \"Palestine Texas\", \"Sao Paulo\", \"Huntley, IL\", \"627\", \"Asunci\\u00cc_n-PY / T\\u00cc_bingen-GER\", \"cognitive dissonance town\", \"Regalo Island\", \"Midwestern USA\", \"Chicago,Illinois\", \"Menlo Park. SFO. The World.\", \"Galatians 2:20 \", \"10 Steps Ahead.  Cloud 9\", \"philly\", \"dundalk ireland\", \"South east of U.K\", \"Waukesha, WI\", \"Amsterdam\", \"Colchester Essex \", \"Searching for Bae \", \"Ventura, Ca\", \"Buscame EL tu Melte\", \"Keighley, England\", \"\\u00e5\\u00f8\\\\_(?)_/\\u00e5\\u00f8\", \"[ kate + they/them + infp-t ]\", \"#MayGodHelpUS\", \"Studio\", \"qosqo\", \"toledo\", \"Gages Lake, IL\", \"Central Illinois\", \"Anywhere I like\", \"lowestoft\", \"LA - everywhere\", \"Flipadelphia\", \"Predjama, Eslovenia.\", \"Hope Road, Jamaica \", \"La Grange Park, IL\", \"NY || live easy? \", \"South of D.C.\", \"The Sanctuary Network, Rome\", \"taken by piper curda\", \"Kokomo, In\", \"EARTH \", \"828??864??803\", \"Forging my Story\", \"Kentucky, USA\", \"Hensley Street, Portland\", \"America | New Zealand \", \"Rapid City, South Dakota\", \"Rockville, Maryland\", \"Island Lake, IL\", \"Chapel Hill, NC\", \"Liberty Lake, WA\", \"Tripsburg, ms.\", \"somewhere in cali \", \"Books Published, USA\", \"Santa Monica, CA\", \"? Jet Life ?\", \"Antigua ?? NYC \", \"Clayton, NC\", \"Merica!\", \"Pig Symbol, Alabama\", \"Ashford, Kent, United Kingdom\", \"Esp\\u00cc_rito Santo\", \"GCC\", \"Silang, Cavite / Para\\u00cc\\u00b1aque\", \"amsterdayum 120615 062415\", \"Jersey Shore\", \"??? ???? ?f glory. ?\", \"instagram: bribriony\", \"Mexico! ^_^\", \"Marbella. Spain\", \"Montgomery County, MD\", \"WestEnd, Puritan Ave \", \"sweden\", \"Cobblestone\", \" 616 \\u0089\\u00db\\u00a2 Kentwood , MI \", \"www.aprylpooley.com\", \"Los Angeles, Calif.\", \"New Jersey/New York\", \"2005 |-/\", \"London/Lagos/FL \\u00cc\\u00cfT: 6.6200132,\", \"Worldwide - Global\", \"im definitely taller than you.\", \"Bartholomew County, Indiana\", \"The barn\", \"Watertown, Mass.\", \"Dunwoody, GA\", \"Tucson, AZ\", \"nowhere\", \" New England\", \"Not Steven Yeun / AMC.\", \"Wiltshire\", \"LITTLETON, CO, USA, TERRAN\", \"In a crazy genius mind\", \"East TN.\", \"back in japan ??????????\", \"Montreal\", \"sindria\", \"Benicia, CA \", \"Somewhere between Chicago & Milwaukee\", \"??+ ... ??+\", \"Nashville\", \"Newcastle upon Tyne\", \"#iminchina\", \"Jersey\", \"Woosley\", \"africa\", \"Gander NF\", \"Central Coast, California\", \"Rock Springs, WY\", \"V\\u00cc_ster\\u00cc\\u00b4s, Sweden\", \"Jaipur, India\", \"Ames, IA\", \"Mumbai india\", \"Yuba City, CA\", \"germany\", \"709?\", \"Bronx, New York\", \"middle eastern palace\", \"New Delhi\", \"Starling City\", \"Virginia, United States\", \"UK & Ibiza\", \"Trackside California\", \"West Hollywood, CA\", \"Ebola\", \"dreamy lake\", \"Every where\", \"Numenor\", \"Yellowknife\", \"Oldenburg // London\", \"Northern California U.S.A.\", \"Sheffield Township, Ohio\", \"staggering on tenement roofs\", \"Trapped in my Conscience \", \"Vancouver, Canada\", \"Internet\", \"Haveli, Maharashtra\", \"blackfalds.\", \"Saint Marys, GA\", \"Bangalore City, India\", \"(RP)\", \"Lurking\", \"POFFIN\", \"Hooters on Peachtree\", \"SoDak\", \"Charleston, IL\", \"Greeley, CO\", \"Somewhere with Clyde\", \"Kilkenny\", \"antioch, california\", \"Voorhees, NJ\", \"on to the next adventure\", \"seoul\", \"Augusta, GA\", \"Beirut/Toronto\", \"Bournemouth, Dorset, UK\", \"K\\u00cc\\u00a6ln, Nordrhein-Westfalen\", \"lesa * she/her\", \"bangalore\", \"South Carolina, USA\", \"Charlottetown\", \"Very SW CA, USA....Draenor\", \"Center for Domestic Preparedness\", \"Cambridge, MA\", \"LiVE M\\u00cc\\u0081S\", \"West Chester, PA\", \"Elmwood Park, NJ\", \"East London. \", \"Every Where in the World\", \"Methville, CA\", \"828/704(Soufside)/while looking goofy in NJ\", \"Proudly frozen Canuck eh !!\", \"MI,USA\", \"Atlanta, Georgia\", \"The Citadel, Oldtown, Westeros\", \"Ideally under a big tree\", \"Upper St Clair, PA\", \"Yellowknife, NT\", \"Terre Haute, IN\", \"Montana, USA\", \"JDB/LJC/AGB/TW/PLL\", \"\\u00cc\\u00cfT: 33.209923,-87.545328\", \"Itirapina, S\\u00cc\\u00a3o Paulo\", \"AKRON OHIO USA\", \"New York, United States\", \"Rhode Island\", \"it's a journey \", \"RSN: Tru\", \"OK\", \"36 & 38\", \"Arkansas\", \"the azure cloud\", \"Carry On Jutta!!!\", \"New South Wales, Australia\", \"Amman,Jordan\", \"South Carolina\", \"FCT, Abuja \", \"Spain\", \"The Howling\", \"NYC, New York\", \"Orange County, NY\", \"Bahrain\", \" Eugene, Oregon\", \"Sugar Land, TX\", \"Higher Places\", \"Utica NY\", \"ayr\", \"Mooresville, NC\", \"Made Here In Detroit \", \"Right here\", \"Oblivion?\", \"prob turning up with sheen\", \"The UK\", \"Leeds, U.K.\", \"Ames, Iowa\", \"iamdigitalent.com\", \"Rapid City, Black Hills, SD\", \"az\", \"southwest, Tx\", \"Madrid, Comunidad de Madrid\", \"McLean, VA\", \"Pueblo, Colorado\", \"St. Joseph, Minnesota\", \" Somewhere.\", \"USA , AZ\", \"Tampa, Fl\", \"City of London, London\", \"Cleveland, TN\", \"Wellington\", \"From a torn up town MANCHESTER\", \"Extraterrestrial Highway\", \"Boston, Massachusetts\", \"Houston |??| Corsicana\", \"Port Williams NS\", \"Team Slytherin\", \"Sydney, NSW\", \"England & Wales Border, UK\", \"ColoRADo\", \"Hillsville/Lynchburg, VA\", \"Indiana, USA\", \"hertfordshire.\", \"Richmond, VA\", \"Hamburg, DE\", \"\\u0089\\u00db\\u00ca\\u0089\\u00db\\u00ca\\u0089\\u00db\\u00ca\", \"high way 99\", \"Unknown \", \"ACCRA GHANA\", \"Ad Majorem Dei Glorium\", \"U.S.A. - Global Members Site\", \"Espa\\u00cc\\u00b1a\", \" snapchat // fvck_casper \", \"Bangalore. India\", \"Anywhere\", \"Hell\", \"Heinz Field \", \"port matilda pa\", \"statesboro/vidalia\", \"Fort Worth, Texas\", \"?@symbolicjensen?\", \" ?currently writing a book?\", \"Danville, VA\", \"Trost District\", \"Innerhalb der L\\u00cc_cke\", \"iPhone: -27.499212,153.011072\", \"Passamaquoddy\", \"somewhere too cold for me\", \"The Waystone Inn\", \"los angeles\", \"Tennessee/Gallifrey\", \"VONT ISLAND, LAGOS\", \"Sydney & Worldwide\", \"zboyer@washingtontimes.com\", \"Ondo\", \"ON\", \"i'm a Citizen of the World\", \"Fresno\", \"Principality of Zeron\", \"46.950109,7.439469\", \"Fruit Bowl\", \"Michel Delving.\", \"The Windy City\", \"Earth 0\", \"Illumination \", \"The North\", \"??? ?????????????\", \"probably not home\", \"One World\", \"New York Brooklyn\", \"y(our) boyfriends legs \", \"Kernow\", \"new york, ny\", \"Kauai, Hawaii\", \"IndiLand \", \"FIMAK A.S Ist Bolge Muduru\", \"Ottawa,Ontario Canada\", \"he/him or she/her (ask)\", \"Peterborough, On\", \"Stay Fly?\", \"Wrex\", \"Atmosphere\", \"CT ? NYC\", \"The Shire\", \"UK, Republic of Ireland and Australia\", \"Beit El - Israel\", \"Polmont \", \"Bras\\u00cc_lia\", \"Southern Califorina\", \"Honolulu, Hawaii\", \"followurDREAMS(& my instagram)\", \"West Africa\", \"xiumin's nonexistent solos\", \"El Paso, TX\", \"Fiore, Lamia Scale\", \"Hampshire UK\", \"???????, ??'??????\", \"USA, North Dakota\", \"772 Temperance Permenence\", \"BOT ACCOUNT\", \"U.S.A.   FEMA Region 5\", \"Bellville, Ohio\", \"Irving , Texas\", \"eritrean\", \"Miami,FL\", \"Minneapolis/St. Paul\", \"Jubail IC, Saudi Arabia.\", \"The 5th Dimension. \", \"Halifax, Nova Scotia\", \"Eugene, Oregon\", \"?Gangsta OC / MV RP; 18+.?\", \"Delhi \", \"Orange County, CA\", \"Paonia, Colorado \", \"Dindigul,TamilNadu.\", \"Wilmington, Delaware\", \"London/New York\", \"i love the smurfs 2\", \"the Refrigerator \", \"Carterville\", \"Ile-Ife,Osun state, Nigeria\", \"Park Ridge, Illinois\", \"Orlando/Cocoa Beach, FL\", \"New Jersey \", \"Tema,Accra\", \"Just Happy to Be Anywhere\", \"Jakarta, Indonesia\", \"Portsmouth, VA\", \"Bangor, Co.Down\", \" Quantico Marine Base, VA.\", \" Indiana\", \"North Ferriby, East Yorkshire\", \"Petaluma, CA\", \"Clean World\", \"M!$$!$$!PP!\", \"Largo, MD\", \"Greenfield, Massachusetts\", \"17-Feb\", \"Christchurch New Zealand\", \"jersey \", \"Some Where in this World\", \"Stateless Global Citizen\", \"Ottawa, Ontario\", \"Columbus ?? North Carolina\", \"LYNBROOK\", \"Stowmarket\", \"Pocatello, ID\", \"Shelby County\", \"St. Louis\", \"Waco, Texas\", \"Wolmers Trust School for Boys \", \"NYC-LA-MIAMI\", \"the moon\", \"Elsewhere, NZ\", \"Toronto-Citizen of Canada & US\", \"hkXfYMhEx\", \"Pennsylvania, PA\", \"Spring Grove, IL\", \"SEA Server\", \"Marysville, MI\", \"Cheshire. London. #allover\", \"Lynchburg, VA\", \"Cardiff, Wales\", \"Winnipeg, MB, Canada\", \"Waterford MI\", \"trapped in America\", \"Lansdale,Pennsylvania\", \"Lincoln\", \"Oslo, Norway\", \"Wandsworth, London\", \"Midwest City, OK\", \"Chasing My Dreams w/Jass??\", \"Olathe, KS\", \"\\u00cc\\u00cfT: 19.123127,72.825133\", \"Brighton and Hove\", \"california | oregon | peru |\", \"gamertag: bexrayandvav \", \"Kansas City, Mo.\", \"antoine fisher \", \"The dark\", \"Slappin and Smackin \", \"Newcastle, England\", \"Northern Kentucky, USA\", \"United States where it's warm\", \"Across the Atlantic\", \"Birmingham and the Marches\", \"Norman, Oklahoma\", \"Minority Privilege, USA\", \"@ ForSL/RP\", \"canberra\", \"snapchat~ maddzz_babby \", \"Thibodaux, LA\", \"y/e/l\", \"Lake Monticello, VA\", \"Dover, DE\", \"Quilmes , Arg\", \"Enterprise, Alabama\", \"Cincinnati, OH\", \"Victoria, Tx.\", \"Williamsburg, VA\", \"Kettering, OH\", \"Some other mansion\", \"Toronto, ON\", \"Pacific Northwest\", \"NYC&NJ\", \"Austin TX\", \"West Coast, USA\", \"http://twitch.tv/jcmonkey\", \"Telangana\", \"Chorley, Lancashire, UK\", \"Land Of The Kings\", \"Mid north coast of NSW\", \"U.S\", \"Gaborone, Botswana\", \"Miami Beach, Fl\", \"Laventillemoorings \", \"Peterborough, Ontario, Canada\", \"Bridport, England\", \"Bristol\", \"Oakland, Ca\", \"planeta H2o\", \"The P (South Philly)\", \"dmv ?? fashion school @ KSU. \", \"Holland MI via Houston, CLE\", \"Deployed in the Middle East\", \"Oxford, OH\", \"Between Dire and Radiant\", \"Bokaro Steel City, Jharkhand\", \"NV\", \"Am International\", \"Garden City, NY\", \"Long Eaton \\u00e5\\u00e1 Derbyshire \\u00e5\\u00e1 UK\", \"ca(NADA) \", \"ITALY\", \"CLVLND\", \"Orm\", \"Insula Barataria\", \"World Wide!!\", \"sydney, australia\", \"Bangkok\", \"fujo garbage heaven \", \"#Gladiator \\u0089\\u00db\\u00a2860\\u0089\\u00db\\u00a2757\\u0089\\u00db\\u00a2\", \"?? Made in the Philippines ??\", \"Welt\", \"Playa del Carmen, Mexico\", \"Mariveles, Bataan\", \"Seattle WA\", \"ECSU16\", \"Boksburg\", \"instagram- Chloe_Bellx\", \"Nevada, USA\", \"teh internets\", \"International\", \"Annapolis, MD\", \"WORLDWI$E \", \"Chatham, IL\", \"No ID, No VOTE!!!\", \"Biloxi, Mississippi\", \"ATX\", \"Jump City\", \"Hampton Roads, VA\", \"Purgatory, USA\", \"houstn\", \"Castaic, CA\", \"London, Sydney\", \"Kalamazoo, Michigan\", \"Palermo, Sicily\", \"Patra-Greece.\", \"Liberty Township, Ohio\", \"Washington, D.C. \", \"Harris County, Texas\", \"Karolinska v\\u00cc_gen 18, Solna\", \"ducked off . . . \", \"Warri\", \"Upstate New York\", \"iTunes - RSS\", \"05/04/2014 18:23 ?\", \"Queens New York\", \"Newton, NJ 07860\", \"neil's kitchen  |  32215\", \"marysville ca \", \"Santiago,Rep\\u00cc\\u00bcblica Dominicana\", \"On the court \", \"Harlingen, TX\", \"Perenjori, WA\", \"650/559\", \"Nirvana\", \"The Great State of Maine \", \"Hearts & Minds\", \"Providence RI / Lisnaskea \", \"sri lanka\", \"Cosmic Oneness\", \"{Detailed}\", \"Turkmenistan\", \"winston-salem north carolina\", \"Broadview Heights, Ohio\", \"Halifax, Nouvelle-\\u00cc\\u00e4cosse\", \"Charleston S.C.\", \"fl\", \"Freeport il \", \"July 11th, 2015. ?\", \"Somewhere Around You\", \"Leeds\", \"Uruguay / Westeros / Gallifrey\", \"Poplar, London\", \"KLA,Uganda\", \"Made in America\", \"Morocco\", \"ill yorker\", \"Austin | San Diego\", \"Haarlem\", \"S\\u00cc\\u00a3o Paulo, Brasil\", \"Doghouse\", \"Central Florida\", \"In my studio\", \"Walthamstow, London\", \"Westchester\", \"Jerusalem!\", \"mind ya business\", \"w. Nykae \", \"Evergreen Colorado\", \"Paradise, NV\", \"Magnolia\", \"Havenford\", \"kediri,,jawa timur\", \"Upper manhattan, New York\", \"Manchester, The World, England\", \"|-/\", \"Carol Stream, Illinois\", \"Wailuku, Maui\", \"North Jersey\", \"Lehigh Valley, PA\", \"Kenton, Ohio\", \"Earth-616\", \"Kamloops, BC\", \"In a graveyard \", \"??????????? ???????????..? \", \"Rogersville, MO\", \"Rheinbach / Germany\", \"Kuala Lumpur\", \"San Francisco , CA\", \"ANDY 4 LEADER X\", \"11202\", \"Madison, Wisconsin, USA\", \"Eagle River Alaska\", \"everywhere \", \"Lahar & Gwalior\", \"CT & NY\", \"Eastern Iowa\", \"cuba\", \"london town..\", \"Bug Forest\", \"An eight-sided polygon\", \"Honeymoon \\u00cc\\u00a3ve.\", \"Paris.\", \"[ Blonde Bi Fry. ]\", \"5/5 access / rt link please x\", \"WORLDWIDE-BOSTON\", \"Aarhus, Central Jutland\", \"Concord, N.C.\", \"Tring \", \"travelling to tae's pants\", \"Under Santa Barbara Skies\", \"Li\\u00cc\\u00acge\", \"Shity land of Northern Ireland\", \"#WashingtonState #Seattle\", \"94123\", \"#LemonGang \", \"lagos nigeria\", \"6\", \"Laredo, TX\", \"m3, k, a, d\", \"Plano, IL\", \"18 | 509 \", \"Hartford, Connecticut\", \"Caribbean\", \"oklahoma\", \"ATL ? SEA \", \"SE London(heart is by the sea)\", \"Greater Los Angeles Bearia\", \"South africa\", \"Basking Ridge, NJ\", \"Proud @BuckMasonUSA supporter!\", \"Where I Need To Be\", \"Dhaka, Bangladsh\", \"England,UK,Europe,Sol 3.\", \"Netherlands,Amsterdam-Virtual \", \"YA MOTHA BED\", \"Christiana,Tennessee\", \"Idaho\", \"Penn Hills, PA\", \"All Around the World\", \"Somewhere in China.\", \"texasss\", \"Wood Buffalo, Alberta\", \"Sunrise Manor, NV\", \"L. A.\", \"too far\", \"Centurion \", \"Timaru District, New Zealand\", \"Freeport IL. USA\", \"Asheboro, NC\", \"pettyville, usa\", \"Gidi\", \"Savannah, GA\", \"Lincoln, IL\", \"Cambridge, Massachusetts, U.S.\", \"Frisco, TX\", \"Cyprus\", \"??? ??? ????? ??? ???.\", \"Afghanistan, USA\", \"QLD Australia\", \"New Your\", \"am everywhere\", \"Co. Tyrone Northern Ireland\", \"Windsor,Ontario\", \"S\\u00cc\\u00a3o Paulo SP,  Brasil\", \"Pro-American and Anti-#Occupy\", \"aggressive cannoli eater \", \"Hendersonville, NC\", \"Milwaukee WI\", \"missouri USA\", \"Texas af\", \"Durban, South Africa\", \"South Pasadena, CA\", \"Rockford, IL\", \"Danbury, CT\", \"1D | 5SOS | AG\", \"Edappally,Kochi\", \"Manavadar, Gujarat\", \"Galveston, Texas\", \"|| c h i c a g o ||\", \"Innsmouth, Mass.\", \"Pittsburgh PA\", \"Bedford IN \", \"Wahpeton, ND\", \"Rafael castillo\", \"R'lyeh, South Pacific\", \"Ontario\", \"Memphis, in the Tennessees\", \"Pocatello, Idaho\", \"NYHC\", \"Newcastle, OK\", \"South, England\", \"Bucks County, Pa\", \" BC, US, Asia or Europe.\", \"Asia Pacific   \", \"elizabeth king\", \"Republica Dominicana\", \"Florida Forever\", \"Lancashire, United Kingdom\", \"Light and dark, form and void\", \"BILASPUR,CHHATTISGARH,495001\", \"Eaubonne, 95, France\", \"El Dorado, KS\", \"Cedar Island, Clinton CT 06413\", \"MIchigan\", \"Waddesdon\", \"North West London\", \"FILM OUT LATE 2015\", \"Republic of the Philippines\", \"emily | helen | shelley \", \"Northampton, MA\", \"Plano, Texas\", \"INDIA\", \"Amazon Seller , Propagandist\", \"Roppongi, Minato, Tokyo \", \" Nevada Carson City,Freeman St\", \"the own zone layer \", \"Traverse City, MI\", \"San Diego CA\", \"Alvin, TX\", \"Get our App\", \"Eureka, California, USA\", \"Linton Hall, VA\", \"Torrance, CA\", \"lee london\", \"Bronx, NY\", \"The South & WestCoast \", \"nearest trash can \", \"Antioch, CA \", \"Unites States\", \"North Vancouver, BC\", \"Rockland County, NY\", \"khanna\", \"Auburn \", \"Mountains\", \"Ktx\", \"WAISTDEEP, TX\", \"Official Website\", \"Ontario, Canada. \", \"'soooota\", \"nap central\", \"Around the world\", \"sisterhood\", \"Detroit Tigers Dugout\", \"Garden Grove\", \"IRAQ\", \"PunPunl\\u00cc\\u00a2ndia\", \"San Diego, Texas.\", \"Lizzy's Knee\", \"Houston \", \"MI\", \"Visit our  dedicated website @\", \"Freeport Ny\", \"North Memphis/Global Citizen\", \"The Desert of the Real\", \"SouthEast Asia\", \"kano\", \"San Diego, California\", \"Chicago - Lake Buena Vista\", \"justin & ari follow || tvd\", \"Anderson, SC\", \"i luv raquel\", \"Im In Route \", \"garowe puntland somalia\", \"Hollywood, CA\", \"T\\u00cc\\u00c1chira - Venezuela\", \"denmark\", \"USA \", \"Leduc, Alberta, Canada\", \"261 5th Avenue New York, NY \", \"Chester, IL\", \"Pittsburgh \", \"Suitland\", \"Miami, Florida\", \"Maryland, USA\", \"Minneapolis,MN,US\", \"Not Of This World\", \"Espa\\u00cc\\u00b1a - Spain - Espagne\", \"???????, Texas\", \"Namjoon's pants\", \"#ForeverWithBAP 8 \", \"Stamford & Cork (& Shropshire)\", \"Home of the Takers.\", \"The Multiverse\", \"Miami ??\", \"-?s?s?j??s-\", \"in Dimitri's arms\", \"VISIT MY YOUTUBE CHANNEL.\", \"UK  & Germany\", \"Mpela'zwe \", \"Melrose\", \"Kalimantan Timur, Indonesia\", \"sheffield // rotherham\", \"Charlotte County Florida\", \"Salt Lake City, Utah\", \"Birmingham & Bristol\", \"Australia \", \"Everett, WA\", \"Pueblo, CO\", \"brooklyn, NYC\", \"Swan River\", \"VCU\", \"The Internetz\", \"Bon Temps Louisiana\", \"Alexandria, VA, USA\", \"s\\u00cc\\u00a3o luis\", \"Bozeman, Montana\", \"CT, USA\", \"SWinfo@dot.state.al.us\", \"Silesia, Poland\", \"North London\", \"Camberwell, Melbourne\", \"Reading UK\", \"Benedict College\", \"Seattle native in Prescott, AZ\", \"Houston, Texas\", \" Nxgerxa\", \"Palestine \", \"\\u0089\\u00db\\u00a25\\u0089\\u00db\\u00a212\\u0089\\u00db\\u00a214\\u0089\\u00db\\u00a2 | \\u00e5\\u00c8#SaviourSquad\\u00e5\\u00c7\", \"Giddy, Greenland\", \"Coasts of Maine & California\", \"Chicago, IL \", \"Beirut, Lebanon\", \"London/Outlaw Country \", \"Mentor OH\", \"music.\", \"Athens - Nicosia\", \"From NY. In Scranton, PA\", \"Somewhere Out There\", \"West Midlands\", \"AFRICA\", \"Hudson Valley, NY\", \"Friendswood, TX\", \"Nottingham, United Kingdom\", \"Bremerton, WA\", \"NYC metro\", \"Kleenex factory\", \"Crayford, London\", \"Jersey - C.I\", \"( ?\\u00e5\\u00a1 ?? ?\\u00e5\\u00a1), \", \"Eww, I'm not Paul Elam\", \"The Globe\", \"God.Family.Money\", \"New York NYC\", \"Area 8 \", \"Srinagar,Kashmir\", \"San Diego, Calif.\", \"[marvel\\u0089\\u00db\\u00a2dragon age\\u0089\\u00db\\u00a2wicdiv]\", \"Alberta | Sask. | Montana\", \"Canterbury kent\", \"ngapain?\", \"The Forever Girl\", \"Rochester\", \"Buffalo NY\", \"Arthas US\", \"The ?? below ???\", \"Albuquerque\", \"Londonstan\", \"Earthling (For now!)\", \"T-Ville\", \"Milky Way galaxy \", \"UGA '15 Alumnus - Economics \", \"Killarney\", \"(Spain)\", \"London, Greater London, UK\", \"Heathrow\", \"GrC Founder, 8,000 Subscribers\", \"Tampa\", \"Thailand Malaysia Indonesia \", \"Playa\", \"atlanta\", \"Buffalo/DC\", \"Scottsdale, AZ\", \"Hartford  London Hong Kong\", \"Okuma Town, Fukushima\", \"Calgary,AB, Canada\", \"Some pum pum\", \"Colonial Heights, VA\", \"Louisville, KY \", \"Bhopal, Madhya Pradesh, India.\", \"Loughborough, England\", \"wrapped arnd hyuk's finger\", \"Bagalkote Karnataka \", \"Unnamed City\", \"BC\", \"Ted&Qz Inc, Ireland, Europe\", \"\\u00cc\\u00cfT: 6.488400524109015,3.352798039832285\", \"lakewood colorado\", \"Lima, OH\", \"Rochester, NY\", \"Wakanda\", \"Bleak House\", \"Bishops Stortford, England\", \"Brentwood,TN\", \"moss chamber b\", \"Los Angeles... CA... USA\", \"japon\", \"Philippines \", \"illinois. united state \", \"You're not 19 forever   \", \"North Cack/919\", \"Darlington\", \"Santa Clara, CA\", \"Level 3 Garrison, Sector G\", \"Ankara - Malatya - ad Orontem\", \"Somerset, UK\", \"Cavite, Philippines\", \"Like us on Face \", \"labyrinthia\", \"We're All Mad Here\", \"Wrigley Field\", \"Ljubljana, Slovenia\", \"Halton, Ontario\", \"miami\", \"11th dimension, los angeles\", \"PURPLE BOOTH STUDIO\\u0089\\u00e3\\u00a2\", \"Coimbatore\", \"  \\u00e5_ \", \"Oxford / bristol\", \"Rochester Hills, MI\", \"Hyderabad Telangana INDIA\", \"1/10 Taron squad\", \"Waco TX\", \"Quantico, VA\", \"La Puente, CA\", \"Atlanta,Ga\", \"GREENSBORO,NORTH CAROLINA\", \"Canada Eh! \", \"52.479722, 62.184971\", \"Reston, VA, USA\", \"Geneva. And beyond. \", \"Chicago, Il\", \"Saline, MI\", \"Livonia, MI\", \"Bi\\u00cc\\u00b1an,Laguna\", \"Beaumont, TX\", \"st.louis county missouri \", \"The Canopy Kingdom\", \"Mogadishu, Somalia\", \"Vermont, USA\", \"Mostly Wellington, NZ \", \"Chandler, AZ\", \"Tyler, TX\", \"Aro Diaspora\", \"Leeds, United Kingdom\", \"heccfidmss@gmail.com\", \"Gloucester, MA\", \"Gotham City,USA\", \"Riverside, California.\", \"Overland Park, KS\", \"14/cis/istj \", \"dubai \", \"EIU  Chucktown/LaSalle IL\", \"'SAN ANTONIOOOOO'\", \"Intramuros, Manila\", \" ? ??????? ? ( ?? \\u00e5\\u00a1 ? ? ? \\u00e5\\u00a1)\", \"?????? ???? ??????\", \"south africa eastern cape\", \"Nebraska, Colorado & The GLOBE\", \"Netherlands\", \"Fort Collins, CO\", \"where the wild things are\", \"SF Bay Area, California / Greater Phoenix, AZ\", \"Lynwood, CA\", \"Big NorthEast Litter Box\", \"Phoenix, Arizona, USA\", \"Dappar (Mohali) Punjab\", \"Augusta, Maine, 04330\", \"hey Georgia\", \"South Korea GMT+9\", \"West Lancashire, UK.\", \"My mind is my world\", \"Milton Keynes, England\", \"Calgary/Airdrie/RedDeer/AB\", \"ARIZONA\", \"New Jersey, USA\", \"Bristol, England\", \"Old Blighty\", \"glasgow\", \"but i love kaylen ??\", \"victoria moz\\u00cc\\u00a3o \", \"PSN: Pipbois \", \"Wales, United Kingdom\", \"North East Unsigned Radio\", \"North-East Region, Singapore\", \"Fort Fizz, Ohio\", \"Reality\", \"Dagenham, Essex\", \"The Grey Area\", \"Orlando,FL  USA\", \"Fukushima city Fukushima.pref\", \"santo domingo\", \"Lindenhurst\", \"In #Fairie, where else? ;-)\", \"Charlotte, N.C.\", \"Based out of Portland, Oregon\", \"International Action\", \"Bangkok Thailand\", \"Mumbai (India)\", \"Des Moines, Iowa \", \"San Mateo County, CA\", \"Tulsa, OK\", \"Sioux Falls, S.D. \", \"Orbost, Victoria, Australia\", \"Lake Highlands\", \"5-Feb\", \"The D\", \"jayankondacholapuram.tamilnadu\", \"Copenhagen, Capital Region of Denmark\", \"Fort Smith, AR\", \"The Orwellion police-state\", \"NJ/NYC\", \"The Harbinger.\", \"Semarang, Indonesia\", \"\\u00cc\\u00cfT: 40.562796,-75.488849\", \"Aurora, Ontario \", \"Whitby, ON\", \"South 37\", \"Weyburn\", \"Based in CA - Serve Nationwide\", \"Atlantic Highlands, NJ\", \"planet earth\", \"Magnolia, Fiore \", \"Anna Maria, FL\", \"Middle Earth / Asgard / Berk\", \"SaudI arabia - riyadh \", \"Chappaqua NY and Redlands CA\", \"East Lansing, MI\", \"Somewhere out there\", \"?semekeepschanging@soyeh?\", \"Milwaukee County\", \"Burbank,CA\", \"nigeria\", \"youtube.com/channel/UCHWTLC9B4ZjUGh7yDlb55Iw\", \" Neverland \", \"LONG ISLAND, NY\", \"Ojodu,Lagos\", \"Tri-Cities, Wash.\", \"Indonesia\\n\", \"Sunshine Coast, Queensland\", \"  News\", \"Oshawa/Toronto\", \"the road to success\", \"TechFish \", \"Live Oak, TX\", \"Arkansas, Jonesboro\", \"The Peach State\", \"brisbane, australia\", \"Trancy Manor\", \"Louisville, KY\", \"Kolkata, India\", \"Ikorodu\", \"Tips on my blog at\", \"lost in history\", \"LA ??\", \"The Meadow\", \"Spying on your thoughts\", \"Fountain Valley, CA\", \"Pontevedra, Galicia\", \"austin, texas\", \"Jammu and Kashmir\", \"Sanganer, Rajasthan\", \"State of Georgia\", \"Home is where we park it!\", \"In The Mansion\", \"'Merica\", \"Temporary Towers\", \"Utah, USA\", \"Thane\", \"?? ?+254? ? \\\\??\\u00e5\\u00a1_??\\u00e5\\u00a1_???\\u00e5\\u00a1_?/??\", \"nor*cal\", \"Bossland\", \"Wolverhampton\", \"Football Field\", \"somewhere over a rainbow\", \"Morris, IL\", \"Tn\", \"Barcelona, Spain\", \"Palm Beach County, FL\", \"Guildford, UK\", \"?????? ??? ?????? ????????\", \"eating strawberry shitsickles\", \"Top secret bunker \", \"Newton Centre, Massachusetts\", \"Hattiesburg, MS\", \"A.A.S my Aztec Princess\", \"Fort Calhoun, NE\", \"Saipan, CNMI\", \"Dimapur\", \"Derbyshire, United Kingdom\", \"UK Great Britain \", \"Lebanon, Tennessee\", \"Washington, D.C., area\", \"Wherever I'm sent\", \"Suginami-ku, Tokyo, Japan\", \"Johannesburg, South Africa \", \"honeymoon avenue\", \"Long Island, NY\", \"#HAMont\", \"Weston super mare\", \"Sherwood, Brisbane, Australia\", \"????s ?? ????\\u00cc\\u00f8????\\u00cc\\u00a1a\", \"M\\u00cc\\u00a9xico D.F.\", \"denver colorado\", \"\\u0089\\u00db\\u00a2FLG\\u0089\\u00db\\u00a2\", \"Aberdeenshire\", \"#????? Libya#\", \"contactSimpleNews@gmail.com\", \"I-75 in Florida\", \"plymouth\", \"Hinton, W.Va.\", \"Yuuko-san's shop\", \"LA/OC/Vegas\", \"Kicking Horse Pass\", \"In your head\", \"St. Louis, Mo\", \"Somewhere else...\", \"Room 234\", \"ATL ??\", \"10-Jul\", \"seattle grace mercy death\", \"The Low-Cal Calzone Zone\", \"-6.152261,106.775995\", \"North\", \"W.I.T.S Academy\", \"Perth, Australia\", \"Cydia\", \"Black Canyon New River, AZ\", \"Trumann, Arkansas\", \"Enterprise, NV\", \"Worcester, MA\", \"Nantes, France\", \"Birmingham, United Kingdom\", \"Austin\", \"Your Six\", \"Bronx NYC / M-City NY\", \"Chester Football Club\", \"Essex, England\", \"Attock\", \"Jogja, Indonesia Slowly Asia\", \"I'm standing behind you\", \"Michigan \", \"Caserta-Roma, Italy \", \"labuan, malaysia\", \"Kensington, MD\", \"the Dirty D\", \"Colorado Springs\", \"Vista, CA\", \"Eastlake, OH\", \"60th St (SS)\", \"Hospital, bc of SKH vid.\", \"In My Lab Creating \", \"M\\u00cc\\u00a9rida, Yucat\\u00cc\\u00c1n\", \"I ACCEPT SONG REQUESTS\", \"Here, there and everywhere\", \"New Orleans, Louisiana\", \"Im Around ... Jersey\", \"Fresno, California\", \"under the blanket\", \"Saltillo, Coahuila de Zaragoza\", \"Chiyoda Ward, Tokyo\", \"Scotland \", \"Horsemind, MI\", \"Nakhon Si Thammarat\", \"somewhere outside\", \"Saudi Arabia\", \"Murray Hill, New Jersey\", \"israel\", \"Hagerstown, MD\", \"Hammersmith, London\", \"Why should you know?\", \"Avon, OH\", \"Tacoma,Washington\", \"Marrakech M\\u00cc\\u00a9dina, Marrakech - Tensift - Al Haouz\", \"Primum non nocere\", \"Pleasanton, CA\", \"HI\\u0089\\u00db\\u00a2UT\\u0089\\u00db\\u00a2AS\", \"Leicester, England\", \"MD\", \"Wema building\", \"3???2???????\", \"Belfast\", \"Scituate, MA\", \"570 Vanderbilt; Brooklyn, NY\", \"Suburban Detroit, Michigan\", \"Northern Colorado\", \"Manila\", \"\\u00cc\\u00cfT: 1.50225,103.742992\", \"Dicky Beach\", \"Philadelphia, Pennsylvania\", \"Santiago Bernabeau\", \"Greenpoint\", \"I rap to burn shame.\", \"PARACHUTE\", \"the burrow\", \"The Great State of Texas\", \"Glenview to Knoxville \", \"Twitterville\", \"Bay Area\", \"Lexington\", \"NEPA/570\", \"NEW YORK\", \"Chicopee MA\", \"Washington, Krasnodar (Russia)\", \"USA, Alabama\", \"M\\u00cc\\u00a9xico\", \"Makai\", \"scumbernauld\", \"Nigeria, Global\", \"50% Queanbeyan - 50% Sydney\", \"Htx\", \"Ashland, Oregon\", \"West Bank, Gaza Strip\", \"Making Worldwide Change Near U\", \"LOCAL ATLANTA NEWS 4/28/00 - 4/28/15 FREELANCER\", \"South Bloomfield, OH\", \"Tucson, Arizona \", \"Las Vegas aka Hell\", \"Los Angles, CA\", \"SoCal\", \"Right next to Compton\", \"Lubbock, Texas\", \"Phoenix Az\", \"Long Island\", \"Alberta, VA\", \"Rochelle, GA\", \"Kyiv, Ukraine\", \"Espoo, Finland\", \"M!A: None\", \"73101\", \"WV, love the blue and gold\", \"Hickville, USA\", \"My old New England home\", \"Harlem, New York\", \"Inside the Beltway (DC Area)\", \"Detroit, MI, United States\", \"Hughes, AR\", \"#SandraBland\", \"Durand, MI\", \"Diamondville\", \"Inside your webcam. Stop that.\", \"Sale, England\", \"Pensacola, FL\", \"\\u00cc\\u00cfT: 0.0,0.0\", \"toronto, ontario\", \"Cloud 9\", \"Corpus Christi, Texas\", \"Birmingham, UK\", \"Jamshedpur, Jharkhand\", \"Lancaster, Pennsylvania, USA\", \"Cimerak - Pangandaran\", \"\\u00cc\\u00cfT: 43.631838,-79.55807\", \"Nadiad ,Gujarat , India!!\", \"rzl ?\", \"louisville, kentucky\", \"Justin and Ariana follow\", \"Fort Lauderdale, FL\", \"Jeddah_Saudi Arabia.\", \"Soul Somalia/Body Montreal\", \"Novi, MI\"], \"yaxis\": \"y\"}],\n",
              "                        {\"legend\": {\"itemsizing\": \"constant\", \"tracegroupgap\": 0}, \"margin\": {\"t\": 60}, \"template\": {\"data\": {\"bar\": [{\"error_x\": {\"color\": \"#2a3f5f\"}, \"error_y\": {\"color\": \"#2a3f5f\"}, \"marker\": {\"line\": {\"color\": \"#E5ECF6\", \"width\": 0.5}}, \"type\": \"bar\"}], \"barpolar\": [{\"marker\": {\"line\": {\"color\": \"#E5ECF6\", \"width\": 0.5}}, \"type\": \"barpolar\"}], \"carpet\": [{\"aaxis\": {\"endlinecolor\": \"#2a3f5f\", \"gridcolor\": \"white\", \"linecolor\": \"white\", \"minorgridcolor\": \"white\", \"startlinecolor\": \"#2a3f5f\"}, \"baxis\": {\"endlinecolor\": \"#2a3f5f\", \"gridcolor\": \"white\", \"linecolor\": \"white\", \"minorgridcolor\": \"white\", \"startlinecolor\": \"#2a3f5f\"}, \"type\": \"carpet\"}], \"choropleth\": [{\"colorbar\": {\"outlinewidth\": 0, \"ticks\": \"\"}, \"type\": \"choropleth\"}], \"contour\": [{\"colorbar\": {\"outlinewidth\": 0, \"ticks\": \"\"}, \"colorscale\": [[0.0, \"#0d0887\"], [0.1111111111111111, \"#46039f\"], [0.2222222222222222, \"#7201a8\"], [0.3333333333333333, \"#9c179e\"], [0.4444444444444444, \"#bd3786\"], [0.5555555555555556, \"#d8576b\"], [0.6666666666666666, \"#ed7953\"], [0.7777777777777778, \"#fb9f3a\"], [0.8888888888888888, \"#fdca26\"], [1.0, \"#f0f921\"]], \"type\": \"contour\"}], \"contourcarpet\": [{\"colorbar\": {\"outlinewidth\": 0, \"ticks\": \"\"}, \"type\": \"contourcarpet\"}], \"heatmap\": [{\"colorbar\": {\"outlinewidth\": 0, \"ticks\": \"\"}, \"colorscale\": [[0.0, \"#0d0887\"], [0.1111111111111111, \"#46039f\"], [0.2222222222222222, \"#7201a8\"], [0.3333333333333333, \"#9c179e\"], [0.4444444444444444, \"#bd3786\"], [0.5555555555555556, \"#d8576b\"], [0.6666666666666666, \"#ed7953\"], [0.7777777777777778, \"#fb9f3a\"], [0.8888888888888888, \"#fdca26\"], [1.0, \"#f0f921\"]], \"type\": \"heatmap\"}], \"heatmapgl\": [{\"colorbar\": {\"outlinewidth\": 0, \"ticks\": \"\"}, \"colorscale\": [[0.0, \"#0d0887\"], [0.1111111111111111, \"#46039f\"], [0.2222222222222222, \"#7201a8\"], [0.3333333333333333, \"#9c179e\"], [0.4444444444444444, \"#bd3786\"], [0.5555555555555556, \"#d8576b\"], [0.6666666666666666, \"#ed7953\"], [0.7777777777777778, \"#fb9f3a\"], [0.8888888888888888, \"#fdca26\"], [1.0, \"#f0f921\"]], \"type\": \"heatmapgl\"}], \"histogram\": [{\"marker\": {\"colorbar\": {\"outlinewidth\": 0, \"ticks\": \"\"}}, \"type\": \"histogram\"}], \"histogram2d\": [{\"colorbar\": {\"outlinewidth\": 0, \"ticks\": \"\"}, \"colorscale\": [[0.0, \"#0d0887\"], [0.1111111111111111, \"#46039f\"], [0.2222222222222222, \"#7201a8\"], [0.3333333333333333, \"#9c179e\"], [0.4444444444444444, \"#bd3786\"], [0.5555555555555556, \"#d8576b\"], [0.6666666666666666, \"#ed7953\"], [0.7777777777777778, \"#fb9f3a\"], [0.8888888888888888, \"#fdca26\"], [1.0, \"#f0f921\"]], \"type\": \"histogram2d\"}], \"histogram2dcontour\": [{\"colorbar\": {\"outlinewidth\": 0, \"ticks\": \"\"}, \"colorscale\": [[0.0, \"#0d0887\"], [0.1111111111111111, \"#46039f\"], [0.2222222222222222, \"#7201a8\"], [0.3333333333333333, \"#9c179e\"], [0.4444444444444444, \"#bd3786\"], [0.5555555555555556, \"#d8576b\"], [0.6666666666666666, \"#ed7953\"], [0.7777777777777778, \"#fb9f3a\"], [0.8888888888888888, \"#fdca26\"], [1.0, \"#f0f921\"]], \"type\": \"histogram2dcontour\"}], \"mesh3d\": [{\"colorbar\": {\"outlinewidth\": 0, \"ticks\": \"\"}, \"type\": \"mesh3d\"}], \"parcoords\": [{\"line\": {\"colorbar\": {\"outlinewidth\": 0, \"ticks\": \"\"}}, \"type\": \"parcoords\"}], \"pie\": [{\"automargin\": true, \"type\": \"pie\"}], \"scatter\": [{\"marker\": {\"colorbar\": {\"outlinewidth\": 0, \"ticks\": \"\"}}, \"type\": \"scatter\"}], \"scatter3d\": [{\"line\": {\"colorbar\": {\"outlinewidth\": 0, \"ticks\": \"\"}}, \"marker\": {\"colorbar\": {\"outlinewidth\": 0, \"ticks\": \"\"}}, \"type\": \"scatter3d\"}], \"scattercarpet\": [{\"marker\": {\"colorbar\": {\"outlinewidth\": 0, \"ticks\": \"\"}}, \"type\": \"scattercarpet\"}], \"scattergeo\": [{\"marker\": {\"colorbar\": {\"outlinewidth\": 0, \"ticks\": \"\"}}, \"type\": \"scattergeo\"}], \"scattergl\": [{\"marker\": {\"colorbar\": {\"outlinewidth\": 0, \"ticks\": \"\"}}, \"type\": \"scattergl\"}], \"scattermapbox\": [{\"marker\": {\"colorbar\": {\"outlinewidth\": 0, \"ticks\": \"\"}}, \"type\": \"scattermapbox\"}], \"scatterpolar\": [{\"marker\": {\"colorbar\": {\"outlinewidth\": 0, \"ticks\": \"\"}}, \"type\": \"scatterpolar\"}], \"scatterpolargl\": [{\"marker\": {\"colorbar\": {\"outlinewidth\": 0, \"ticks\": \"\"}}, \"type\": \"scatterpolargl\"}], \"scatterternary\": [{\"marker\": {\"colorbar\": {\"outlinewidth\": 0, \"ticks\": \"\"}}, \"type\": \"scatterternary\"}], \"surface\": [{\"colorbar\": {\"outlinewidth\": 0, \"ticks\": \"\"}, \"colorscale\": [[0.0, \"#0d0887\"], [0.1111111111111111, \"#46039f\"], [0.2222222222222222, \"#7201a8\"], [0.3333333333333333, \"#9c179e\"], [0.4444444444444444, \"#bd3786\"], [0.5555555555555556, \"#d8576b\"], [0.6666666666666666, \"#ed7953\"], [0.7777777777777778, \"#fb9f3a\"], [0.8888888888888888, \"#fdca26\"], [1.0, \"#f0f921\"]], \"type\": \"surface\"}], \"table\": [{\"cells\": {\"fill\": {\"color\": \"#EBF0F8\"}, \"line\": {\"color\": \"white\"}}, \"header\": {\"fill\": {\"color\": \"#C8D4E3\"}, \"line\": {\"color\": \"white\"}}, \"type\": \"table\"}]}, \"layout\": {\"annotationdefaults\": {\"arrowcolor\": \"#2a3f5f\", \"arrowhead\": 0, \"arrowwidth\": 1}, \"coloraxis\": {\"colorbar\": {\"outlinewidth\": 0, \"ticks\": \"\"}}, \"colorscale\": {\"diverging\": [[0, \"#8e0152\"], [0.1, \"#c51b7d\"], [0.2, \"#de77ae\"], [0.3, \"#f1b6da\"], [0.4, \"#fde0ef\"], [0.5, \"#f7f7f7\"], [0.6, \"#e6f5d0\"], [0.7, \"#b8e186\"], [0.8, \"#7fbc41\"], [0.9, \"#4d9221\"], [1, \"#276419\"]], \"sequential\": [[0.0, \"#0d0887\"], [0.1111111111111111, \"#46039f\"], [0.2222222222222222, \"#7201a8\"], [0.3333333333333333, \"#9c179e\"], [0.4444444444444444, \"#bd3786\"], [0.5555555555555556, \"#d8576b\"], [0.6666666666666666, \"#ed7953\"], [0.7777777777777778, \"#fb9f3a\"], [0.8888888888888888, \"#fdca26\"], [1.0, \"#f0f921\"]], \"sequentialminus\": [[0.0, \"#0d0887\"], [0.1111111111111111, \"#46039f\"], [0.2222222222222222, \"#7201a8\"], [0.3333333333333333, \"#9c179e\"], [0.4444444444444444, \"#bd3786\"], [0.5555555555555556, \"#d8576b\"], [0.6666666666666666, \"#ed7953\"], [0.7777777777777778, \"#fb9f3a\"], [0.8888888888888888, \"#fdca26\"], [1.0, \"#f0f921\"]]}, \"colorway\": [\"#636efa\", \"#EF553B\", \"#00cc96\", \"#ab63fa\", \"#FFA15A\", \"#19d3f3\", \"#FF6692\", \"#B6E880\", \"#FF97FF\", \"#FECB52\"], \"font\": {\"color\": \"#2a3f5f\"}, \"geo\": {\"bgcolor\": \"white\", \"lakecolor\": \"white\", \"landcolor\": \"#E5ECF6\", \"showlakes\": true, \"showland\": true, \"subunitcolor\": \"white\"}, \"hoverlabel\": {\"align\": \"left\"}, \"hovermode\": \"closest\", \"mapbox\": {\"style\": \"light\"}, \"paper_bgcolor\": \"white\", \"plot_bgcolor\": \"#E5ECF6\", \"polar\": {\"angularaxis\": {\"gridcolor\": \"white\", \"linecolor\": \"white\", \"ticks\": \"\"}, \"bgcolor\": \"#E5ECF6\", \"radialaxis\": {\"gridcolor\": \"white\", \"linecolor\": \"white\", \"ticks\": \"\"}}, \"scene\": {\"xaxis\": {\"backgroundcolor\": \"#E5ECF6\", \"gridcolor\": \"white\", \"gridwidth\": 2, \"linecolor\": \"white\", \"showbackground\": true, \"ticks\": \"\", \"zerolinecolor\": \"white\"}, \"yaxis\": {\"backgroundcolor\": \"#E5ECF6\", \"gridcolor\": \"white\", \"gridwidth\": 2, \"linecolor\": \"white\", \"showbackground\": true, \"ticks\": \"\", \"zerolinecolor\": \"white\"}, \"zaxis\": {\"backgroundcolor\": \"#E5ECF6\", \"gridcolor\": \"white\", \"gridwidth\": 2, \"linecolor\": \"white\", \"showbackground\": true, \"ticks\": \"\", \"zerolinecolor\": \"white\"}}, \"shapedefaults\": {\"line\": {\"color\": \"#2a3f5f\"}}, \"ternary\": {\"aaxis\": {\"gridcolor\": \"white\", \"linecolor\": \"white\", \"ticks\": \"\"}, \"baxis\": {\"gridcolor\": \"white\", \"linecolor\": \"white\", \"ticks\": \"\"}, \"bgcolor\": \"#E5ECF6\", \"caxis\": {\"gridcolor\": \"white\", \"linecolor\": \"white\", \"ticks\": \"\"}}, \"title\": {\"x\": 0.05}, \"xaxis\": {\"automargin\": true, \"gridcolor\": \"white\", \"linecolor\": \"white\", \"ticks\": \"\", \"title\": {\"standoff\": 15}, \"zerolinecolor\": \"white\", \"zerolinewidth\": 2}, \"yaxis\": {\"automargin\": true, \"gridcolor\": \"white\", \"linecolor\": \"white\", \"ticks\": \"\", \"title\": {\"standoff\": 15}, \"zerolinecolor\": \"white\", \"zerolinewidth\": 2}}}, \"xaxis\": {\"anchor\": \"y\", \"domain\": [0.0, 1.0], \"title\": {\"text\": \"x\"}}, \"yaxis\": {\"anchor\": \"x\", \"domain\": [0.0, 1.0], \"title\": {\"text\": \"y\"}}},\n",
              "                        {\"responsive\": true}\n",
              "                    ).then(function(){\n",
              "                            \n",
              "var gd = document.getElementById('a2136bfc-e941-477a-88cd-7e19c7bec40e');\n",
              "var x = new MutationObserver(function (mutations, observer) {{\n",
              "        var display = window.getComputedStyle(gd).display;\n",
              "        if (!display || display === 'none') {{\n",
              "            console.log([gd, 'removed!']);\n",
              "            Plotly.purge(gd);\n",
              "            observer.disconnect();\n",
              "        }}\n",
              "}});\n",
              "\n",
              "// Listen for the removal of the full notebook cells\n",
              "var notebookContainer = gd.closest('#notebook-container');\n",
              "if (notebookContainer) {{\n",
              "    x.observe(notebookContainer, {childList: true});\n",
              "}}\n",
              "\n",
              "// Listen for the clearing of the current output cell\n",
              "var outputEl = gd.closest('.output');\n",
              "if (outputEl) {{\n",
              "    x.observe(outputEl, {childList: true});\n",
              "}}\n",
              "\n",
              "                        })\n",
              "                };\n",
              "                \n",
              "            </script>\n",
              "        </div>\n",
              "</body>\n",
              "</html>"
            ]
          },
          "metadata": {
            "tags": []
          }
        }
      ]
    },
    {
      "cell_type": "markdown",
      "metadata": {
        "id": "E7NeNwoMGem2"
      },
      "source": [
        "### Exploring the 'location' column\n",
        "\n",
        "Even though the column 'location' has lots of missing values, let's check the top 20 locations present in the dataset. Since some of the locations are duplicated, lets clean the duplicate locations and plot them."
      ]
    },
    {
      "cell_type": "code",
      "metadata": {
        "id": "21VOr-XQGem3",
        "outputId": "6fc9e757-8c54-4858-af41-386f6c5def0a",
        "colab": {
          "base_uri": "https://localhost:8080/",
          "height": 279
        }
      },
      "source": [
        "# Replacing the ambigious locations name with standard names and create a dictionary object\n",
        "\n",
        "loc_dict={'United States':'USA','New York':'USA',\"London\":'UK',\"Los Angeles, CA\":'USA',\"Washington, D.C.\":'USA',\n",
        "          \"California\":'USA',\"Chicago, IL\":'USA',\"Chicago\":'USA',\"New York, NY\":'USA',\"California, USA\":'USA',\n",
        "          \"FLorida\":'USA',\"Nigeria\":'Africa',\"Kenya\":'Africa',\"Everywhere\":'Worldwide',\"San Francisco\":'USA',\n",
        "          \"Florida\":'USA',\"United Kingdom\":'UK',\"Los Angeles\":'USA',\"Toronto\":'Canada',\"San Francisco, CA\":'USA',\n",
        "          \"NYC\":'USA',\"Seattle\":'USA',\"Earth\":'Worldwide',\"Ireland\":'UK',\"London, England\":'UK',\"New York City\":'USA',\n",
        "          \"Texas\":'USA',\"London, UK\":'UK',\"Atlanta, GA\":'USA',\"Mumbai\":\"India\"}\n",
        "\n",
        "train_df['location'].replace(loc_dict,inplace=True)\n",
        "\n",
        "#Create barchart for top 10 locations using seaborn\n",
        "sns.barplot(y=train_df['location'].value_counts()[:10].index,x=train_df['location'].value_counts()[:10],\n",
        "            orient='h');"
      ],
      "execution_count": null,
      "outputs": [
        {
          "output_type": "display_data",
          "data": {
            "image/png": "[encoded data removed]",
            "text/plain": [
              "<Figure size 432x288 with 1 Axes>"
            ]
          },
          "metadata": {
            "tags": [],
            "needs_background": "light"
          }
        }
      ]
    },
    {
      "cell_type": "markdown",
      "metadata": {
        "id": "xjvNanSSGem5"
      },
      "source": [
        "It doesn't seem that `location` feature has any value in our analysis and could be dropped from the dataframe."
      ]
    },
    {
      "cell_type": "code",
      "metadata": {
        "id": "1DfnRVzuGem5"
      },
      "source": [
        "# Drop the column 'location' from the training dataset\n",
        "train_df=train_df.drop(['location'],axis=1)"
      ],
      "execution_count": null,
      "outputs": []
    },
    {
      "cell_type": "markdown",
      "metadata": {
        "id": "k8q1NdomGem8"
      },
      "source": [
        "Lets further analyize the `text` feature and if there is any correlation between `text` and length of the tweets itself."
      ]
    },
    {
      "cell_type": "code",
      "metadata": {
        "id": "R_YHkjECGem9",
        "outputId": "a0379b59-7173-4d56-f829-31e09a09a67f",
        "colab": {
          "base_uri": "https://localhost:8080/",
          "height": 173
        }
      },
      "source": [
        "# Lets find the length of the 'text' for each row and add a new cloumn to train dataframe \n",
        "train_df['text_length'] = train_df['text'].apply(lambda x : len(x))\n",
        "train_df.head(4)"
      ],
      "execution_count": null,
      "outputs": [
        {
          "output_type": "execute_result",
          "data": {
            "text/html": [
              "<div>\n",
              "<style scoped>\n",
              "    .dataframe tbody tr th:only-of-type {\n",
              "        vertical-align: middle;\n",
              "    }\n",
              "\n",
              "    .dataframe tbody tr th {\n",
              "        vertical-align: top;\n",
              "    }\n",
              "\n",
              "    .dataframe thead th {\n",
              "        text-align: right;\n",
              "    }\n",
              "</style>\n",
              "<table border=\"1\" class=\"dataframe\">\n",
              "  <thead>\n",
              "    <tr style=\"text-align: right;\">\n",
              "      <th></th>\n",
              "      <th>id</th>\n",
              "      <th>keyword</th>\n",
              "      <th>text</th>\n",
              "      <th>target</th>\n",
              "      <th>text_length</th>\n",
              "    </tr>\n",
              "  </thead>\n",
              "  <tbody>\n",
              "    <tr>\n",
              "      <th>0</th>\n",
              "      <td>1</td>\n",
              "      <td>NaN</td>\n",
              "      <td>Our Deeds are the Reason of this #earthquake M...</td>\n",
              "      <td>1</td>\n",
              "      <td>69</td>\n",
              "    </tr>\n",
              "    <tr>\n",
              "      <th>1</th>\n",
              "      <td>4</td>\n",
              "      <td>NaN</td>\n",
              "      <td>Forest fire near La Ronge Sask. Canada</td>\n",
              "      <td>1</td>\n",
              "      <td>38</td>\n",
              "    </tr>\n",
              "    <tr>\n",
              "      <th>2</th>\n",
              "      <td>5</td>\n",
              "      <td>NaN</td>\n",
              "      <td>All residents asked to 'shelter in place' are ...</td>\n",
              "      <td>1</td>\n",
              "      <td>133</td>\n",
              "    </tr>\n",
              "    <tr>\n",
              "      <th>3</th>\n",
              "      <td>6</td>\n",
              "      <td>NaN</td>\n",
              "      <td>13,000 people receive #wildfires evacuation or...</td>\n",
              "      <td>1</td>\n",
              "      <td>65</td>\n",
              "    </tr>\n",
              "  </tbody>\n",
              "</table>\n",
              "</div>"
            ],
            "text/plain": [
              "   id keyword  ... target  text_length\n",
              "0   1     NaN  ...      1           69\n",
              "1   4     NaN  ...      1           38\n",
              "2   5     NaN  ...      1          133\n",
              "3   6     NaN  ...      1           65\n",
              "\n",
              "[4 rows x 5 columns]"
            ]
          },
          "metadata": {
            "tags": []
          },
          "execution_count": 78
        }
      ]
    },
    {
      "cell_type": "code",
      "metadata": {
        "id": "to6K9iFhGenA",
        "outputId": "91973215-afb2-483d-94a8-d0db6c0aa049",
        "colab": {
          "base_uri": "https://localhost:8080/",
          "height": 170
        }
      },
      "source": [
        "train_df.text_length.describe()"
      ],
      "execution_count": null,
      "outputs": [
        {
          "output_type": "execute_result",
          "data": {
            "text/plain": [
              "count    7613.000000\n",
              "mean      101.037436\n",
              "std        33.781325\n",
              "min         7.000000\n",
              "25%        78.000000\n",
              "50%       107.000000\n",
              "75%       133.000000\n",
              "max       157.000000\n",
              "Name: text_length, dtype: float64"
            ]
          },
          "metadata": {
            "tags": []
          },
          "execution_count": 79
        }
      ]
    },
    {
      "cell_type": "code",
      "metadata": {
        "id": "fJOzvcOdGenC",
        "outputId": "8dbb3f9e-79f4-4587-87b4-1a2b2ddb84be",
        "colab": {
          "base_uri": "https://localhost:8080/",
          "height": 296
        }
      },
      "source": [
        "#Create distribution chart to visualize text length distribution\n",
        "ax=sns.distplot(train_df['text_length']).set_title('Distribution of the tweet lengths');\n",
        "plt.grid(True)"
      ],
      "execution_count": null,
      "outputs": [
        {
          "output_type": "display_data",
          "data": {
            "image/png": "[encoded data removed]",
            "text/plain": [
              "<Figure size 432x288 with 1 Axes>"
            ]
          },
          "metadata": {
            "tags": [],
            "needs_background": "light"
          }
        }
      ]
    },
    {
      "cell_type": "code",
      "metadata": {
        "id": "tSjYqrPzGenE",
        "outputId": "0cb1fa66-606d-44f1-8967-5be5b144049e",
        "colab": {
          "base_uri": "https://localhost:8080/",
          "height": 436
        }
      },
      "source": [
        "#Create visualization of the distribution of text length in comparision to target feature\n",
        "f, (ax1, ax2) = plt.subplots(1, 2, sharex=True,figsize=(10,6))\n",
        "sns.distplot(train_df[(train_df['target'] == 1)]['text_length'], ax=ax1, kde=False, color='green',label='Disater Tweets')\n",
        "sns.distplot(train_df[(train_df['target'] == 0)]['text_length'],ax=ax2, kde=False, color='red',label='Non-Disater Tweets');\n",
        "f.suptitle('Tweet length distribution')\n",
        "f.legend(loc='upper right')\n",
        "ax1.grid()\n",
        "ax2.grid()\n",
        "plt.show()"
      ],
      "execution_count": null,
      "outputs": [
        {
          "output_type": "display_data",
          "data": {
            "image/png": "[encoded data removed]",
            "text/plain": [
              "<Figure size 720x432 with 2 Axes>"
            ]
          },
          "metadata": {
            "tags": [],
            "needs_background": "light"
          }
        }
      ]
    },
    {
      "cell_type": "markdown",
      "metadata": {
        "id": "r7L28p8FGenG"
      },
      "source": [
        "The distribution of both kind of tweets seems to be almost same.About 120 to 140 characters in a tweet are the most common among both."
      ]
    },
    {
      "cell_type": "code",
      "metadata": {
        "id": "x2Jvbmh4GenG",
        "outputId": "7baaaa8d-447a-4934-de33-25f872a9e78e",
        "colab": {
          "base_uri": "https://localhost:8080/",
          "height": 356
        }
      },
      "source": [
        "#Create visualization of the distribution of the word counts in comparision to target feature\n",
        "fig,(ax1,ax2)=plt.subplots(1,2,figsize=(10,5))\n",
        "dis_tweet=train_df[train_df['target']==1]['text'].str.split().map(lambda x: len(x))\n",
        "ax1.hist(dis_tweet,color='blue')\n",
        "ax1.set_title('Disaster tweets')\n",
        "ax1.grid()\n",
        "nondis_tweet=train_df[train_df['target']==0]['text'].str.split().map(lambda x: len(x))\n",
        "ax2.hist(nondis_tweet,color='red')\n",
        "ax2.set_title('Non-disaster tweets')\n",
        "ax2.grid()\n",
        "fig.suptitle('Words in a tweet')\n",
        "plt.show()"
      ],
      "execution_count": null,
      "outputs": [
        {
          "output_type": "display_data",
          "data": {
            "image/png": "[encoded data removed]",
            "text/plain": [
              "<Figure size 720x360 with 2 Axes>"
            ]
          },
          "metadata": {
            "tags": [],
            "needs_background": "light"
          }
        }
      ]
    },
    {
      "cell_type": "markdown",
      "metadata": {
        "id": "Tv4glIFWGenI"
      },
      "source": [
        "### Exploring the Target Column\n",
        "\n",
        "- Distribution of the Target Column-\n",
        "   - We have to predict whether a given tweet is about a real disaster or not.\n",
        "   - If real disaster, predict a `1`. If not, predict a `0`.\n",
        "- Exploring the Target Column- Let's look at what the disaster and the non disaster tweets look like."
      ]
    },
    {
      "cell_type": "code",
      "metadata": {
        "id": "OBK7QDjMGenJ",
        "outputId": "98450886-68bb-44ee-8616-46acfcda182d",
        "colab": {
          "base_uri": "https://localhost:8080/",
          "height": 204
        }
      },
      "source": [
        "# A disaster tweet exmaple\n",
        "train_df[train_df['target']==1]['text'][10:20]"
      ],
      "execution_count": null,
      "outputs": [
        {
          "output_type": "execute_result",
          "data": {
            "text/plain": [
              "10          Three people died from the heat wave so far\n",
              "11    Haha South Tampa is getting flooded hah- WAIT ...\n",
              "12    #raining #flooding #Florida #TampaBay #Tampa 1...\n",
              "13              #Flood in Bago Myanmar #We arrived Bago\n",
              "14    Damage to school bus on 80 in multi car crash ...\n",
              "31    @bbcmtd Wholesale Markets ablaze http://t.co/l...\n",
              "33    #AFRICANBAZE: Breaking news:Nigeria flag set a...\n",
              "37    INEC Office in Abia Set Ablaze - http://t.co/3...\n",
              "38    Barbados #Bridgetown JAMAICA ÛÒ Two cars set ...\n",
              "46    How the West was burned: Thousands of wildfire...\n",
              "Name: text, dtype: object"
            ]
          },
          "metadata": {
            "tags": []
          },
          "execution_count": 83
        }
      ]
    },
    {
      "cell_type": "code",
      "metadata": {
        "id": "L1JMtuvMGenL",
        "outputId": "1af9fdca-389b-418a-8fbc-b80bb6940b59",
        "colab": {
          "base_uri": "https://localhost:8080/",
          "height": 204
        }
      },
      "source": [
        "#A non-disaster tweet example\n",
        "train_df[train_df['target']==0]['text'][10:20]"
      ],
      "execution_count": null,
      "outputs": [
        {
          "output_type": "execute_result",
          "data": {
            "text/plain": [
              "25                       No way...I can't eat that shit\n",
              "26                                Was in NYC last week!\n",
              "27                                   Love my girlfriend\n",
              "28                                            Cooool :)\n",
              "29                                   Do you like pasta?\n",
              "30                                             The end!\n",
              "32    We always try to bring the heavy. #metal #RT h...\n",
              "34                   Crying out for more! Set me ablaze\n",
              "35    On plus side LOOK AT THE SKY LAST NIGHT IT WAS...\n",
              "36    @PhDSquares #mufc they've built so much hype a...\n",
              "Name: text, dtype: object"
            ]
          },
          "metadata": {
            "tags": []
          },
          "execution_count": 84
        }
      ]
    },
    {
      "cell_type": "markdown",
      "metadata": {
        "id": "4Vg1c7itGenN"
      },
      "source": [
        "# 2. Data Preprocessing"
      ]
    },
    {
      "cell_type": "markdown",
      "metadata": {
        "id": "OVW0TItuGenO"
      },
      "source": [
        "### Data Cleaning\n",
        "\n",
        "Before starting any NLP project, text data needs to be pre-processed to convert it into in a consistent format.Text will be cleaned, tokneized and converted into a matrix.\n",
        "\n",
        "Some of the basic text pre-processing techniques includes:\n",
        "### Make text all lower or uppercase\n",
        "Algorithms does not treat the same word different in different cases.\n",
        "### Removing Noise\n",
        "Everything in the text that isn’t a standard number or letter i.e. Punctuation, Numerical values,etc.\n",
        "###  Tokenization\n",
        "Tokenization is just the term used to describe the process of converting the normal text strings into a list of tokens i.e. words.Sentence tokenizer can be used to find the list of sentences and Word tokenizer can be used to find the list of words in strings.\n",
        "### Stopword Removal\n",
        "Sometimes, some extremely common words which would appear to be of little value in helping select documents matching a user need are excluded from the vocabulary entirely. These words are called stop words\n",
        "\n",
        "### Stemming\n",
        "Stemming is the process of reducing inflected (or sometimes derived) words to their stem, base or root form — generally a written word form. Example if we were to stem the following words: “Stems”, “Stemming”, “Stemmed”, “and Stemtization”, the result would be a single word “stem”.\n",
        "### Lemmatization\n",
        "A slight variant of stemming is lemmatization. The major difference between these is, that, stemming can often create non-existent words, whereas lemmas are actual words. So, your root stem, meaning the word you end up with, is not something you can just look up in a dictionary, but you can look up a lemma. Examples of Lemmatization are that “run” is a base form for words like “running” or “ran” or that the word “better” and “good” are in the same lemma so they are considered the same."
      ]
    },
    {
      "cell_type": "code",
      "metadata": {
        "id": "CUlD_ut1GenO",
        "outputId": "dd8558f0-17d7-4049-ba52-d0f0ecf28a26",
        "colab": {
          "base_uri": "https://localhost:8080/",
          "height": 119
        }
      },
      "source": [
        "#Lets have a quick look of the text data\n",
        "train_df['text'][:5]"
      ],
      "execution_count": null,
      "outputs": [
        {
          "output_type": "execute_result",
          "data": {
            "text/plain": [
              "0    Our Deeds are the Reason of this #earthquake M...\n",
              "1               Forest fire near La Ronge Sask. Canada\n",
              "2    All residents asked to 'shelter in place' are ...\n",
              "3    13,000 people receive #wildfires evacuation or...\n",
              "4    Just got sent this photo from Ruby #Alaska as ...\n",
              "Name: text, dtype: object"
            ]
          },
          "metadata": {
            "tags": []
          },
          "execution_count": 85
        }
      ]
    },
    {
      "cell_type": "code",
      "metadata": {
        "id": "I2f7Yvv5GenR"
      },
      "source": [
        "# Create a function to clean the text\n",
        "\n",
        "def clean_text(text):\n",
        "\n",
        "    '''\n",
        "    Input- 'text' to be cleaned\n",
        "       \n",
        "       Output- Convert input 'text' to lowercase,remove square brackets,links,punctuation\n",
        "       and words containing numbers. Return clean text.\n",
        "    \n",
        "    '''\n",
        "    text = text.lower()\n",
        "    text = re.sub('\\[.*?\\]', '', text)\n",
        "    text = re.sub('https?://\\S+|www\\.\\S+', '', text)\n",
        "    text = re.sub('<.*?>+', '', text)\n",
        "    text = re.sub('[%s]' % re.escape(string.punctuation), '', text)\n",
        "    text = re.sub('\\n', '', text)\n",
        "    text = re.sub('\\w*\\d\\w*', '', text)\n",
        "    return text"
      ],
      "execution_count": null,
      "outputs": []
    },
    {
      "cell_type": "code",
      "metadata": {
        "id": "t4Xy3SB3GenT"
      },
      "source": [
        "# Lets apply the clean_text function to both test and training datasets copies\n",
        "train_df1=train_df.copy()\n",
        "test_df1=test_df.copy()\n",
        "train_df1['text'] = train_df1['text'].apply(lambda x: clean_text(x))\n",
        "test_df1['text'] = test_df1['text'].apply(lambda x: clean_text(x))"
      ],
      "execution_count": null,
      "outputs": []
    },
    {
      "cell_type": "code",
      "metadata": {
        "id": "GhX4l3YTkotJ",
        "outputId": "e35e5db2-6c43-45cd-c3bb-920be960f2ef",
        "colab": {
          "base_uri": "https://localhost:8080/",
          "height": 119
        }
      },
      "source": [
        "train_df1['text'][:5]"
      ],
      "execution_count": null,
      "outputs": [
        {
          "output_type": "execute_result",
          "data": {
            "text/plain": [
              "0    our deeds are the reason of this earthquake ma...\n",
              "1                forest fire near la ronge sask canada\n",
              "2    all residents asked to shelter in place are be...\n",
              "3     people receive wildfires evacuation orders in...\n",
              "4    just got sent this photo from ruby alaska as s...\n",
              "Name: text, dtype: object"
            ]
          },
          "metadata": {
            "tags": []
          },
          "execution_count": 88
        }
      ]
    },
    {
      "cell_type": "code",
      "metadata": {
        "id": "jecLk_0SGenV"
      },
      "source": [
        "#Lets look cleaned text data\n",
        "def text_after_preprocess(before_text,after_text):\n",
        "    \n",
        "    '''\n",
        "    Input- before_text=text column before cleanup\n",
        "              after_text= text column after cleanup\n",
        "       Output- print before and after text to compare how it looks after cleanup\n",
        "       \n",
        "    '''\n",
        "    print('-'*60)\n",
        "    print('Text before cleanup')\n",
        "    print('-'*60)\n",
        "    print(before_text.head(5))\n",
        "    print('-'*60)\n",
        "    print('Text after cleanup')\n",
        "    print('-'*60)\n",
        "    print(after_text.head(5))"
      ],
      "execution_count": null,
      "outputs": []
    },
    {
      "cell_type": "code",
      "metadata": {
        "id": "JITjpv--GenX",
        "outputId": "f8f47f32-1c5c-435c-e7eb-5f30075bde5a",
        "colab": {
          "base_uri": "https://localhost:8080/",
          "height": 323
        }
      },
      "source": [
        "text_after_preprocess(train_df.text,train_df1.text)"
      ],
      "execution_count": null,
      "outputs": [
        {
          "output_type": "stream",
          "text": [
            "------------------------------------------------------------\n",
            "Text before cleanup\n",
            "------------------------------------------------------------\n",
            "0    Our Deeds are the Reason of this #earthquake M...\n",
            "1               Forest fire near La Ronge Sask. Canada\n",
            "2    All residents asked to 'shelter in place' are ...\n",
            "3    13,000 people receive #wildfires evacuation or...\n",
            "4    Just got sent this photo from Ruby #Alaska as ...\n",
            "Name: text, dtype: object\n",
            "------------------------------------------------------------\n",
            "Text after cleanup\n",
            "------------------------------------------------------------\n",
            "0    our deeds are the reason of this earthquake ma...\n",
            "1                forest fire near la ronge sask canada\n",
            "2    all residents asked to shelter in place are be...\n",
            "3     people receive wildfires evacuation orders in...\n",
            "4    just got sent this photo from ruby alaska as s...\n",
            "Name: text, dtype: object\n"
          ],
          "name": "stdout"
        }
      ]
    },
    {
      "cell_type": "code",
      "metadata": {
        "id": "Xc7Xp983GenZ",
        "outputId": "6c79a324-e444-43a5-df95-fb8221b9eccc",
        "colab": {
          "base_uri": "https://localhost:8080/",
          "height": 323
        }
      },
      "source": [
        "text_after_preprocess(test_df.text,test_df1.text)"
      ],
      "execution_count": null,
      "outputs": [
        {
          "output_type": "stream",
          "text": [
            "------------------------------------------------------------\n",
            "Text before cleanup\n",
            "------------------------------------------------------------\n",
            "0                   Just happened a terrible car crash\n",
            "1    Heard about #earthquake is different cities, s...\n",
            "2    there is a forest fire at spot pond, geese are...\n",
            "3             Apocalypse lighting. #Spokane #wildfires\n",
            "4        Typhoon Soudelor kills 28 in China and Taiwan\n",
            "Name: text, dtype: object\n",
            "------------------------------------------------------------\n",
            "Text after cleanup\n",
            "------------------------------------------------------------\n",
            "0                   just happened a terrible car crash\n",
            "1    heard about earthquake is different cities sta...\n",
            "2    there is a forest fire at spot pond geese are ...\n",
            "3                apocalypse lighting spokane wildfires\n",
            "4          typhoon soudelor kills  in china and taiwan\n",
            "Name: text, dtype: object\n"
          ],
          "name": "stdout"
        }
      ]
    },
    {
      "cell_type": "code",
      "metadata": {
        "id": "9vr7oc0EGenc",
        "outputId": "1930303b-ccb5-4cc8-e610-c4ffcd02e603",
        "colab": {
          "base_uri": "https://localhost:8080/",
          "height": 35
        }
      },
      "source": [
        "test_df.text[1]"
      ],
      "execution_count": null,
      "outputs": [
        {
          "output_type": "execute_result",
          "data": {
            "application/vnd.google.colaboratory.intrinsic+json": {
              "type": "string"
            },
            "text/plain": [
              "'Heard about #earthquake is different cities, stay safe everyone.'"
            ]
          },
          "metadata": {
            "tags": []
          },
          "execution_count": 92
        }
      ]
    },
    {
      "cell_type": "markdown",
      "metadata": {
        "id": "N565rdbFGene"
      },
      "source": [
        "### Tokenization\n",
        "Tokenization is a process which splits an input text into tokens and the tokens can be a word, sentence, paragraph etc.\n",
        "\n",
        "Following code will show how tokenization of text works:"
      ]
    },
    {
      "cell_type": "code",
      "metadata": {
        "id": "9_ELvCk1Genf",
        "outputId": "d5f3be74-9a0f-471f-9bdc-570edf87c982",
        "colab": {
          "base_uri": "https://localhost:8080/",
          "height": 136
        }
      },
      "source": [
        "# Example how tokenization of text works\n",
        "text = \"Heard about #earthquake is different cities, stay safe everyone.\"\n",
        "tokenizer1 = nltk.tokenize.WhitespaceTokenizer()\n",
        "tokenizer2 = nltk.tokenize.TreebankWordTokenizer()\n",
        "tokenizer3 = nltk.tokenize.WordPunctTokenizer()\n",
        "tokenizer4 = nltk.tokenize.RegexpTokenizer(r'\\w+')\n",
        "print(\"-\"*100)\n",
        "print(\"Example Text: \",text)\n",
        "print(\"-\"*100)\n",
        "print(\"Tokenization by whitespace:- \",tokenizer1.tokenize(text))\n",
        "print(\"Tokenization by words using Treebank Word Tokenizer:- \",tokenizer2.tokenize(text))\n",
        "print(\"Tokenization by punctuation:- \",tokenizer3.tokenize(text))\n",
        "print(\"Tokenization by regular expression:- \",tokenizer4.tokenize(text))"
      ],
      "execution_count": null,
      "outputs": [
        {
          "output_type": "stream",
          "text": [
            "----------------------------------------------------------------------------------------------------\n",
            "Example Text:  Heard about #earthquake is different cities, stay safe everyone.\n",
            "----------------------------------------------------------------------------------------------------\n",
            "Tokenization by whitespace:-  ['Heard', 'about', '#earthquake', 'is', 'different', 'cities,', 'stay', 'safe', 'everyone.']\n",
            "Tokenization by words using Treebank Word Tokenizer:-  ['Heard', 'about', '#', 'earthquake', 'is', 'different', 'cities', ',', 'stay', 'safe', 'everyone', '.']\n",
            "Tokenization by punctuation:-  ['Heard', 'about', '#', 'earthquake', 'is', 'different', 'cities', ',', 'stay', 'safe', 'everyone', '.']\n",
            "Tokenization by regular expression:-  ['Heard', 'about', 'earthquake', 'is', 'different', 'cities', 'stay', 'safe', 'everyone']\n"
          ],
          "name": "stdout"
        }
      ]
    },
    {
      "cell_type": "code",
      "metadata": {
        "id": "SjArD3p-Genh"
      },
      "source": [
        "# Lets Tokenize the training and the test dataset copies with RegEx tokenizer\n",
        "tokenizer = nltk.tokenize.RegexpTokenizer(r'\\w+')\n",
        "train_df1['text'] = train_df1['text'].apply(lambda x: tokenizer.tokenize(x))\n",
        "test_df1['text'] = test_df1['text'].apply(lambda x: tokenizer.tokenize(x))"
      ],
      "execution_count": null,
      "outputs": []
    },
    {
      "cell_type": "code",
      "metadata": {
        "id": "jAYzdnvDGenj",
        "outputId": "2e70231c-a400-4af6-fe69-cee5fb38a29a",
        "colab": {
          "base_uri": "https://localhost:8080/",
          "height": 119
        }
      },
      "source": [
        "#Lets checy tokenized text\n",
        "train_df1['text'].head()"
      ],
      "execution_count": null,
      "outputs": [
        {
          "output_type": "execute_result",
          "data": {
            "text/plain": [
              "0    [our, deeds, are, the, reason, of, this, earth...\n",
              "1        [forest, fire, near, la, ronge, sask, canada]\n",
              "2    [all, residents, asked, to, shelter, in, place...\n",
              "3    [people, receive, wildfires, evacuation, order...\n",
              "4    [just, got, sent, this, photo, from, ruby, ala...\n",
              "Name: text, dtype: object"
            ]
          },
          "metadata": {
            "tags": []
          },
          "execution_count": 95
        }
      ]
    },
    {
      "cell_type": "code",
      "metadata": {
        "id": "0deNDQpiGenl",
        "outputId": "1f2c2de7-002b-4d95-b0f4-0a3b800e0e8d",
        "colab": {
          "base_uri": "https://localhost:8080/",
          "height": 119
        }
      },
      "source": [
        "test_df1['text'].head()"
      ],
      "execution_count": null,
      "outputs": [
        {
          "output_type": "execute_result",
          "data": {
            "text/plain": [
              "0            [just, happened, a, terrible, car, crash]\n",
              "1    [heard, about, earthquake, is, different, citi...\n",
              "2    [there, is, a, forest, fire, at, spot, pond, g...\n",
              "3           [apocalypse, lighting, spokane, wildfires]\n",
              "4    [typhoon, soudelor, kills, in, china, and, tai...\n",
              "Name: text, dtype: object"
            ]
          },
          "metadata": {
            "tags": []
          },
          "execution_count": 96
        }
      ]
    },
    {
      "cell_type": "markdown",
      "metadata": {
        "id": "bAlw79dqGenn"
      },
      "source": [
        "### Stopwords Removal\n",
        "\n",
        "Now, let's get rid of the stopwords i.e words which occur very frequently and have possible value like a, an, the, are etc."
      ]
    },
    {
      "cell_type": "code",
      "metadata": {
        "id": "qGve1r6-Genn"
      },
      "source": [
        "#Create a funtion to remove stopwords\n",
        "def remove_stopwords(text):\n",
        "    \n",
        "    \"\"\"\n",
        "    Input- text=text from which english stopwprds will be removed\n",
        "    Output- return text without english stopwords \n",
        "    \n",
        "    \"\"\"\n",
        "    words = [w for w in text if w not in stopwords.words('english')]\n",
        "    return words"
      ],
      "execution_count": null,
      "outputs": []
    },
    {
      "cell_type": "code",
      "metadata": {
        "id": "hwmvvzV1Genp"
      },
      "source": [
        "train_df1['text'] = train_df1['text'].apply(lambda x : remove_stopwords(x))\n",
        "test_df1['text'] = test_df1['text'].apply(lambda x : remove_stopwords(x))"
      ],
      "execution_count": null,
      "outputs": []
    },
    {
      "cell_type": "code",
      "metadata": {
        "id": "42W3vowEGenr",
        "outputId": "eb412ed5-939c-4298-f386-d09d54481257",
        "colab": {
          "base_uri": "https://localhost:8080/",
          "height": 119
        }
      },
      "source": [
        "train_df1.text.head()"
      ],
      "execution_count": null,
      "outputs": [
        {
          "output_type": "execute_result",
          "data": {
            "text/plain": [
              "0    [deeds, reason, earthquake, may, allah, forgiv...\n",
              "1        [forest, fire, near, la, ronge, sask, canada]\n",
              "2    [residents, asked, shelter, place, notified, o...\n",
              "3    [people, receive, wildfires, evacuation, order...\n",
              "4    [got, sent, photo, ruby, alaska, smoke, wildfi...\n",
              "Name: text, dtype: object"
            ]
          },
          "metadata": {
            "tags": []
          },
          "execution_count": 99
        }
      ]
    },
    {
      "cell_type": "code",
      "metadata": {
        "id": "7so9peq6Genu",
        "outputId": "ceaab625-3b51-4342-a739-efbb451159e9",
        "colab": {
          "base_uri": "https://localhost:8080/",
          "height": 119
        }
      },
      "source": [
        "test_df1.text.head()"
      ],
      "execution_count": null,
      "outputs": [
        {
          "output_type": "execute_result",
          "data": {
            "text/plain": [
              "0                     [happened, terrible, car, crash]\n",
              "1    [heard, earthquake, different, cities, stay, s...\n",
              "2    [forest, fire, spot, pond, geese, fleeing, acr...\n",
              "3           [apocalypse, lighting, spokane, wildfires]\n",
              "4            [typhoon, soudelor, kills, china, taiwan]\n",
              "Name: text, dtype: object"
            ]
          },
          "metadata": {
            "tags": []
          },
          "execution_count": 100
        }
      ]
    },
    {
      "cell_type": "markdown",
      "metadata": {
        "id": "Q_GZFkFBGenx"
      },
      "source": [
        "### Stemming and Lemmatization\n",
        "- **Stemming**: Removing and replacing suffixes to get to the root form of the word, which is called the stem for instance cats - cat, wolves - wolv\n",
        "- **Lemmatization** : Returns the base or dictionary form of a word, which is known as the lemma\n",
        "\n",
        "It is important to note that stemming and lemmatization sometimes doesnt necessarily improve results as sometimes we dont want to trim words rather preserve their original form.Its usage from problem to problem and for this problem it wouldnt be good idea to use it."
      ]
    },
    {
      "cell_type": "code",
      "metadata": {
        "id": "t474E1ixGenx",
        "outputId": "72439ebb-8043-4a79-ffab-7b156362bf98",
        "colab": {
          "base_uri": "https://localhost:8080/",
          "height": 51
        }
      },
      "source": [
        "# Stemming and Lemmatization examples\n",
        "text =  \"ran deduced dogs talking studies\"\n",
        "\n",
        "tokenizer = nltk.tokenize.TreebankWordTokenizer()\n",
        "tokens = tokenizer.tokenize(text)\n",
        "\n",
        "# Stemmer\n",
        "stemmer = nltk.stem.PorterStemmer()\n",
        "print(\"Stemming the sentence: \", \" \".join(stemmer.stem(token) for token in tokens))\n",
        "\n",
        "# Lemmatizer\n",
        "lemmatizer=nltk.stem.WordNetLemmatizer()\n",
        "print(\"Lemmatizing the sentence: \", \" \".join(lemmatizer.lemmatize(token) for token in tokens))"
      ],
      "execution_count": null,
      "outputs": [
        {
          "output_type": "stream",
          "text": [
            "Stemming the sentence:  ran deduc dog talk studi\n",
            "Lemmatizing the sentence:  ran deduced dog talking study\n"
          ],
          "name": "stdout"
        }
      ]
    },
    {
      "cell_type": "code",
      "metadata": {
        "id": "fEFZlw8dGen0"
      },
      "source": [
        "# Lets combine text after processing it\n",
        "def combine_text(text):\n",
        "    \n",
        "    '''\n",
        "    Input-text= list cleand and tokenized text\n",
        "    Output- Takes a list of text and returns combined one large chunk of text.\n",
        "    \n",
        "    '''\n",
        "    all_text = ' '.join(text)\n",
        "    return all_text"
      ],
      "execution_count": null,
      "outputs": []
    },
    {
      "cell_type": "code",
      "metadata": {
        "id": "6RHna4roGen3"
      },
      "source": [
        "train_df1['text'] = train_df1['text'].apply(lambda x : combine_text(x))\n",
        "test_df1['text'] = test_df1['text'].apply(lambda x : combine_text(x))"
      ],
      "execution_count": null,
      "outputs": []
    },
    {
      "cell_type": "code",
      "metadata": {
        "id": "r8iMd9TvGen5",
        "outputId": "615c5475-e82f-4502-a0af-6bc3f5ae2ed9",
        "colab": {
          "base_uri": "https://localhost:8080/",
          "height": 204
        }
      },
      "source": [
        "train_df1.head()"
      ],
      "execution_count": null,
      "outputs": [
        {
          "output_type": "execute_result",
          "data": {
            "text/html": [
              "<div>\n",
              "<style scoped>\n",
              "    .dataframe tbody tr th:only-of-type {\n",
              "        vertical-align: middle;\n",
              "    }\n",
              "\n",
              "    .dataframe tbody tr th {\n",
              "        vertical-align: top;\n",
              "    }\n",
              "\n",
              "    .dataframe thead th {\n",
              "        text-align: right;\n",
              "    }\n",
              "</style>\n",
              "<table border=\"1\" class=\"dataframe\">\n",
              "  <thead>\n",
              "    <tr style=\"text-align: right;\">\n",
              "      <th></th>\n",
              "      <th>id</th>\n",
              "      <th>keyword</th>\n",
              "      <th>text</th>\n",
              "      <th>target</th>\n",
              "      <th>text_length</th>\n",
              "    </tr>\n",
              "  </thead>\n",
              "  <tbody>\n",
              "    <tr>\n",
              "      <th>0</th>\n",
              "      <td>1</td>\n",
              "      <td>NaN</td>\n",
              "      <td>deeds reason earthquake may allah forgive us</td>\n",
              "      <td>1</td>\n",
              "      <td>69</td>\n",
              "    </tr>\n",
              "    <tr>\n",
              "      <th>1</th>\n",
              "      <td>4</td>\n",
              "      <td>NaN</td>\n",
              "      <td>forest fire near la ronge sask canada</td>\n",
              "      <td>1</td>\n",
              "      <td>38</td>\n",
              "    </tr>\n",
              "    <tr>\n",
              "      <th>2</th>\n",
              "      <td>5</td>\n",
              "      <td>NaN</td>\n",
              "      <td>residents asked shelter place notified officer...</td>\n",
              "      <td>1</td>\n",
              "      <td>133</td>\n",
              "    </tr>\n",
              "    <tr>\n",
              "      <th>3</th>\n",
              "      <td>6</td>\n",
              "      <td>NaN</td>\n",
              "      <td>people receive wildfires evacuation orders cal...</td>\n",
              "      <td>1</td>\n",
              "      <td>65</td>\n",
              "    </tr>\n",
              "    <tr>\n",
              "      <th>4</th>\n",
              "      <td>7</td>\n",
              "      <td>NaN</td>\n",
              "      <td>got sent photo ruby alaska smoke wildfires pou...</td>\n",
              "      <td>1</td>\n",
              "      <td>88</td>\n",
              "    </tr>\n",
              "  </tbody>\n",
              "</table>\n",
              "</div>"
            ],
            "text/plain": [
              "   id keyword  ... target  text_length\n",
              "0   1     NaN  ...      1           69\n",
              "1   4     NaN  ...      1           38\n",
              "2   5     NaN  ...      1          133\n",
              "3   6     NaN  ...      1           65\n",
              "4   7     NaN  ...      1           88\n",
              "\n",
              "[5 rows x 5 columns]"
            ]
          },
          "metadata": {
            "tags": []
          },
          "execution_count": 104
        }
      ]
    },
    {
      "cell_type": "markdown",
      "metadata": {
        "id": "0Dkq6IArGen8"
      },
      "source": [
        "### Text Pre-processing Function\n",
        "\n",
        "Putting all above functions together, below will be final function to pre-process the text before modeling with ML algorithms."
      ]
    },
    {
      "cell_type": "code",
      "metadata": {
        "id": "MRGGBOp4Gen9"
      },
      "source": [
        "# Create a function to pre-process the tweets\n",
        "def pre_process_text_combined(text):\n",
        "    \n",
        "    \"\"\"\n",
        "    Input- text= text to be pre-processed\n",
        "    \n",
        "    Oputput- return cleaned and combined text to be vectrorized for Machine learning.\n",
        "\n",
        "    \"\"\"\n",
        "    #Initiate a tokenizer\n",
        "    tokenizer = nltk.tokenize.RegexpTokenizer(r'\\w+')\n",
        "    # Clean the text using clean_text function\n",
        "    cleaned_txt = clean_text(text)\n",
        "    tokenized_text = tokenizer.tokenize(cleaned_txt)\n",
        "    remove_stopwords = [w for w in tokenized_text if w not in stopwords.words('english')]\n",
        "    combined_text = ' '.join(remove_stopwords)\n",
        "    return  combined_text"
      ],
      "execution_count": null,
      "outputs": []
    },
    {
      "cell_type": "code",
      "metadata": {
        "id": "eMFds3l7GeoB"
      },
      "source": [
        "# Create a function to pre-process the tweets\n",
        "def pre_process_text(text):\n",
        "    \"\"\"\n",
        "    Input- text= text to be pre-processed\n",
        "    \n",
        "    Oputput- return cleaned text to be vectrorized for Machine learning.\n",
        "\n",
        "    \"\"\"\n",
        "    #Initiate a tokenizer\n",
        "    tokenizer = nltk.tokenize.RegexpTokenizer(r'\\w+')\n",
        "    # Clean the text using clean_text function\n",
        "    cleaned_txt = clean_text(text)\n",
        "    tokenized_text = tokenizer.tokenize(cleaned_txt)\n",
        "    remove_stopwords = [w for w in tokenized_text if w not in stopwords.words('english')]\n",
        "    return remove_stopwords"
      ],
      "execution_count": null,
      "outputs": []
    },
    {
      "cell_type": "code",
      "metadata": {
        "id": "khzXeecPGeoE",
        "outputId": "a9d90a82-3af5-4bbe-8e15-62817b87ec9a",
        "colab": {
          "base_uri": "https://localhost:8080/",
          "height": 119
        }
      },
      "source": [
        "# Text before pre-processing\n",
        "train_df.text.head()"
      ],
      "execution_count": null,
      "outputs": [
        {
          "output_type": "execute_result",
          "data": {
            "text/plain": [
              "0    Our Deeds are the Reason of this #earthquake M...\n",
              "1               Forest fire near La Ronge Sask. Canada\n",
              "2    All residents asked to 'shelter in place' are ...\n",
              "3    13,000 people receive #wildfires evacuation or...\n",
              "4    Just got sent this photo from Ruby #Alaska as ...\n",
              "Name: text, dtype: object"
            ]
          },
          "metadata": {
            "tags": []
          },
          "execution_count": 107
        }
      ]
    },
    {
      "cell_type": "code",
      "metadata": {
        "id": "A7AZPAlTGeoH"
      },
      "source": [
        "# Lets pre-process train data text\n",
        "train_df2=train_df.copy()\n",
        "train_df2['text'] = train_df2['text'].apply(lambda x : pre_process_text_combined(x))"
      ],
      "execution_count": null,
      "outputs": []
    },
    {
      "cell_type": "code",
      "metadata": {
        "id": "21Lhy5V1GeoK",
        "outputId": "10361aca-0cbf-4709-8a84-a73919f521e3",
        "colab": {
          "base_uri": "https://localhost:8080/",
          "height": 204
        }
      },
      "source": [
        "# Text after pre-processing the text column\n",
        "train_df2.head()"
      ],
      "execution_count": null,
      "outputs": [
        {
          "output_type": "execute_result",
          "data": {
            "text/html": [
              "<div>\n",
              "<style scoped>\n",
              "    .dataframe tbody tr th:only-of-type {\n",
              "        vertical-align: middle;\n",
              "    }\n",
              "\n",
              "    .dataframe tbody tr th {\n",
              "        vertical-align: top;\n",
              "    }\n",
              "\n",
              "    .dataframe thead th {\n",
              "        text-align: right;\n",
              "    }\n",
              "</style>\n",
              "<table border=\"1\" class=\"dataframe\">\n",
              "  <thead>\n",
              "    <tr style=\"text-align: right;\">\n",
              "      <th></th>\n",
              "      <th>id</th>\n",
              "      <th>keyword</th>\n",
              "      <th>text</th>\n",
              "      <th>target</th>\n",
              "      <th>text_length</th>\n",
              "    </tr>\n",
              "  </thead>\n",
              "  <tbody>\n",
              "    <tr>\n",
              "      <th>0</th>\n",
              "      <td>1</td>\n",
              "      <td>NaN</td>\n",
              "      <td>deeds reason earthquake may allah forgive us</td>\n",
              "      <td>1</td>\n",
              "      <td>69</td>\n",
              "    </tr>\n",
              "    <tr>\n",
              "      <th>1</th>\n",
              "      <td>4</td>\n",
              "      <td>NaN</td>\n",
              "      <td>forest fire near la ronge sask canada</td>\n",
              "      <td>1</td>\n",
              "      <td>38</td>\n",
              "    </tr>\n",
              "    <tr>\n",
              "      <th>2</th>\n",
              "      <td>5</td>\n",
              "      <td>NaN</td>\n",
              "      <td>residents asked shelter place notified officer...</td>\n",
              "      <td>1</td>\n",
              "      <td>133</td>\n",
              "    </tr>\n",
              "    <tr>\n",
              "      <th>3</th>\n",
              "      <td>6</td>\n",
              "      <td>NaN</td>\n",
              "      <td>people receive wildfires evacuation orders cal...</td>\n",
              "      <td>1</td>\n",
              "      <td>65</td>\n",
              "    </tr>\n",
              "    <tr>\n",
              "      <th>4</th>\n",
              "      <td>7</td>\n",
              "      <td>NaN</td>\n",
              "      <td>got sent photo ruby alaska smoke wildfires pou...</td>\n",
              "      <td>1</td>\n",
              "      <td>88</td>\n",
              "    </tr>\n",
              "  </tbody>\n",
              "</table>\n",
              "</div>"
            ],
            "text/plain": [
              "   id keyword  ... target  text_length\n",
              "0   1     NaN  ...      1           69\n",
              "1   4     NaN  ...      1           38\n",
              "2   5     NaN  ...      1          133\n",
              "3   6     NaN  ...      1           65\n",
              "4   7     NaN  ...      1           88\n",
              "\n",
              "[5 rows x 5 columns]"
            ]
          },
          "metadata": {
            "tags": []
          },
          "execution_count": 109
        }
      ]
    },
    {
      "cell_type": "code",
      "metadata": {
        "id": "LWFPWpIZGeoO"
      },
      "source": [
        "# Lets pre-process test data text\n",
        "test_df2=test_df.copy()\n",
        "test_df2['text'] = test_df2['text'].apply(lambda x : pre_process_text_combined(x))"
      ],
      "execution_count": null,
      "outputs": []
    },
    {
      "cell_type": "code",
      "metadata": {
        "id": "yb6CQRoyGeoQ",
        "outputId": "506c7cdf-c60d-40b3-be85-9478caf82a12",
        "colab": {
          "base_uri": "https://localhost:8080/",
          "height": 359
        }
      },
      "source": [
        "# Text after pre-processing the text column\n",
        "test_df2.head(10)"
      ],
      "execution_count": null,
      "outputs": [
        {
          "output_type": "execute_result",
          "data": {
            "text/html": [
              "<div>\n",
              "<style scoped>\n",
              "    .dataframe tbody tr th:only-of-type {\n",
              "        vertical-align: middle;\n",
              "    }\n",
              "\n",
              "    .dataframe tbody tr th {\n",
              "        vertical-align: top;\n",
              "    }\n",
              "\n",
              "    .dataframe thead th {\n",
              "        text-align: right;\n",
              "    }\n",
              "</style>\n",
              "<table border=\"1\" class=\"dataframe\">\n",
              "  <thead>\n",
              "    <tr style=\"text-align: right;\">\n",
              "      <th></th>\n",
              "      <th>id</th>\n",
              "      <th>keyword</th>\n",
              "      <th>location</th>\n",
              "      <th>text</th>\n",
              "    </tr>\n",
              "  </thead>\n",
              "  <tbody>\n",
              "    <tr>\n",
              "      <th>0</th>\n",
              "      <td>0</td>\n",
              "      <td>NaN</td>\n",
              "      <td>NaN</td>\n",
              "      <td>happened terrible car crash</td>\n",
              "    </tr>\n",
              "    <tr>\n",
              "      <th>1</th>\n",
              "      <td>2</td>\n",
              "      <td>NaN</td>\n",
              "      <td>NaN</td>\n",
              "      <td>heard earthquake different cities stay safe ev...</td>\n",
              "    </tr>\n",
              "    <tr>\n",
              "      <th>2</th>\n",
              "      <td>3</td>\n",
              "      <td>NaN</td>\n",
              "      <td>NaN</td>\n",
              "      <td>forest fire spot pond geese fleeing across str...</td>\n",
              "    </tr>\n",
              "    <tr>\n",
              "      <th>3</th>\n",
              "      <td>9</td>\n",
              "      <td>NaN</td>\n",
              "      <td>NaN</td>\n",
              "      <td>apocalypse lighting spokane wildfires</td>\n",
              "    </tr>\n",
              "    <tr>\n",
              "      <th>4</th>\n",
              "      <td>11</td>\n",
              "      <td>NaN</td>\n",
              "      <td>NaN</td>\n",
              "      <td>typhoon soudelor kills china taiwan</td>\n",
              "    </tr>\n",
              "    <tr>\n",
              "      <th>5</th>\n",
              "      <td>12</td>\n",
              "      <td>NaN</td>\n",
              "      <td>NaN</td>\n",
              "      <td>shakingits earthquake</td>\n",
              "    </tr>\n",
              "    <tr>\n",
              "      <th>6</th>\n",
              "      <td>21</td>\n",
              "      <td>NaN</td>\n",
              "      <td>NaN</td>\n",
              "      <td>theyd probably still show life arsenal yesterd...</td>\n",
              "    </tr>\n",
              "    <tr>\n",
              "      <th>7</th>\n",
              "      <td>22</td>\n",
              "      <td>NaN</td>\n",
              "      <td>NaN</td>\n",
              "      <td>hey</td>\n",
              "    </tr>\n",
              "    <tr>\n",
              "      <th>8</th>\n",
              "      <td>27</td>\n",
              "      <td>NaN</td>\n",
              "      <td>NaN</td>\n",
              "      <td>nice hat</td>\n",
              "    </tr>\n",
              "    <tr>\n",
              "      <th>9</th>\n",
              "      <td>29</td>\n",
              "      <td>NaN</td>\n",
              "      <td>NaN</td>\n",
              "      <td>fuck</td>\n",
              "    </tr>\n",
              "  </tbody>\n",
              "</table>\n",
              "</div>"
            ],
            "text/plain": [
              "   id keyword location                                               text\n",
              "0   0     NaN      NaN                        happened terrible car crash\n",
              "1   2     NaN      NaN  heard earthquake different cities stay safe ev...\n",
              "2   3     NaN      NaN  forest fire spot pond geese fleeing across str...\n",
              "3   9     NaN      NaN              apocalypse lighting spokane wildfires\n",
              "4  11     NaN      NaN                typhoon soudelor kills china taiwan\n",
              "5  12     NaN      NaN                              shakingits earthquake\n",
              "6  21     NaN      NaN  theyd probably still show life arsenal yesterd...\n",
              "7  22     NaN      NaN                                                hey\n",
              "8  27     NaN      NaN                                           nice hat\n",
              "9  29     NaN      NaN                                               fuck"
            ]
          },
          "metadata": {
            "tags": []
          },
          "execution_count": 111
        }
      ]
    },
    {
      "cell_type": "code",
      "metadata": {
        "id": "5bHqNJL_GeoT"
      },
      "source": [
        "# Lets pre-process train data text\n",
        "train_df3=train_df.copy()\n",
        "train_df3['text'] = train_df3['text'].apply(lambda x : pre_process_text(x))"
      ],
      "execution_count": null,
      "outputs": []
    },
    {
      "cell_type": "code",
      "metadata": {
        "id": "gtC3LEQBGeoX",
        "outputId": "af9002ef-6cd9-4b01-c48a-aaaec55b3c3c",
        "colab": {
          "base_uri": "https://localhost:8080/",
          "height": 204
        }
      },
      "source": [
        "train_df3.head()"
      ],
      "execution_count": null,
      "outputs": [
        {
          "output_type": "execute_result",
          "data": {
            "text/html": [
              "<div>\n",
              "<style scoped>\n",
              "    .dataframe tbody tr th:only-of-type {\n",
              "        vertical-align: middle;\n",
              "    }\n",
              "\n",
              "    .dataframe tbody tr th {\n",
              "        vertical-align: top;\n",
              "    }\n",
              "\n",
              "    .dataframe thead th {\n",
              "        text-align: right;\n",
              "    }\n",
              "</style>\n",
              "<table border=\"1\" class=\"dataframe\">\n",
              "  <thead>\n",
              "    <tr style=\"text-align: right;\">\n",
              "      <th></th>\n",
              "      <th>id</th>\n",
              "      <th>keyword</th>\n",
              "      <th>text</th>\n",
              "      <th>target</th>\n",
              "      <th>text_length</th>\n",
              "    </tr>\n",
              "  </thead>\n",
              "  <tbody>\n",
              "    <tr>\n",
              "      <th>0</th>\n",
              "      <td>1</td>\n",
              "      <td>NaN</td>\n",
              "      <td>[deeds, reason, earthquake, may, allah, forgiv...</td>\n",
              "      <td>1</td>\n",
              "      <td>69</td>\n",
              "    </tr>\n",
              "    <tr>\n",
              "      <th>1</th>\n",
              "      <td>4</td>\n",
              "      <td>NaN</td>\n",
              "      <td>[forest, fire, near, la, ronge, sask, canada]</td>\n",
              "      <td>1</td>\n",
              "      <td>38</td>\n",
              "    </tr>\n",
              "    <tr>\n",
              "      <th>2</th>\n",
              "      <td>5</td>\n",
              "      <td>NaN</td>\n",
              "      <td>[residents, asked, shelter, place, notified, o...</td>\n",
              "      <td>1</td>\n",
              "      <td>133</td>\n",
              "    </tr>\n",
              "    <tr>\n",
              "      <th>3</th>\n",
              "      <td>6</td>\n",
              "      <td>NaN</td>\n",
              "      <td>[people, receive, wildfires, evacuation, order...</td>\n",
              "      <td>1</td>\n",
              "      <td>65</td>\n",
              "    </tr>\n",
              "    <tr>\n",
              "      <th>4</th>\n",
              "      <td>7</td>\n",
              "      <td>NaN</td>\n",
              "      <td>[got, sent, photo, ruby, alaska, smoke, wildfi...</td>\n",
              "      <td>1</td>\n",
              "      <td>88</td>\n",
              "    </tr>\n",
              "  </tbody>\n",
              "</table>\n",
              "</div>"
            ],
            "text/plain": [
              "   id keyword  ... target  text_length\n",
              "0   1     NaN  ...      1           69\n",
              "1   4     NaN  ...      1           38\n",
              "2   5     NaN  ...      1          133\n",
              "3   6     NaN  ...      1           65\n",
              "4   7     NaN  ...      1           88\n",
              "\n",
              "[5 rows x 5 columns]"
            ]
          },
          "metadata": {
            "tags": []
          },
          "execution_count": 113
        }
      ]
    },
    {
      "cell_type": "code",
      "metadata": {
        "id": "gKx6zZu7Geoa"
      },
      "source": [
        "# Lets pre-process train data text\n",
        "test_df3=test_df.copy()\n",
        "test_df3['text'] = test_df3['text'].apply(lambda x : pre_process_text(x))"
      ],
      "execution_count": null,
      "outputs": []
    },
    {
      "cell_type": "code",
      "metadata": {
        "id": "WRR_dxL5Geod",
        "outputId": "7022f45d-a625-4862-d2c0-df212b51a725",
        "colab": {
          "base_uri": "https://localhost:8080/",
          "height": 204
        }
      },
      "source": [
        "test_df3.head()"
      ],
      "execution_count": null,
      "outputs": [
        {
          "output_type": "execute_result",
          "data": {
            "text/html": [
              "<div>\n",
              "<style scoped>\n",
              "    .dataframe tbody tr th:only-of-type {\n",
              "        vertical-align: middle;\n",
              "    }\n",
              "\n",
              "    .dataframe tbody tr th {\n",
              "        vertical-align: top;\n",
              "    }\n",
              "\n",
              "    .dataframe thead th {\n",
              "        text-align: right;\n",
              "    }\n",
              "</style>\n",
              "<table border=\"1\" class=\"dataframe\">\n",
              "  <thead>\n",
              "    <tr style=\"text-align: right;\">\n",
              "      <th></th>\n",
              "      <th>id</th>\n",
              "      <th>keyword</th>\n",
              "      <th>location</th>\n",
              "      <th>text</th>\n",
              "    </tr>\n",
              "  </thead>\n",
              "  <tbody>\n",
              "    <tr>\n",
              "      <th>0</th>\n",
              "      <td>0</td>\n",
              "      <td>NaN</td>\n",
              "      <td>NaN</td>\n",
              "      <td>[happened, terrible, car, crash]</td>\n",
              "    </tr>\n",
              "    <tr>\n",
              "      <th>1</th>\n",
              "      <td>2</td>\n",
              "      <td>NaN</td>\n",
              "      <td>NaN</td>\n",
              "      <td>[heard, earthquake, different, cities, stay, s...</td>\n",
              "    </tr>\n",
              "    <tr>\n",
              "      <th>2</th>\n",
              "      <td>3</td>\n",
              "      <td>NaN</td>\n",
              "      <td>NaN</td>\n",
              "      <td>[forest, fire, spot, pond, geese, fleeing, acr...</td>\n",
              "    </tr>\n",
              "    <tr>\n",
              "      <th>3</th>\n",
              "      <td>9</td>\n",
              "      <td>NaN</td>\n",
              "      <td>NaN</td>\n",
              "      <td>[apocalypse, lighting, spokane, wildfires]</td>\n",
              "    </tr>\n",
              "    <tr>\n",
              "      <th>4</th>\n",
              "      <td>11</td>\n",
              "      <td>NaN</td>\n",
              "      <td>NaN</td>\n",
              "      <td>[typhoon, soudelor, kills, china, taiwan]</td>\n",
              "    </tr>\n",
              "  </tbody>\n",
              "</table>\n",
              "</div>"
            ],
            "text/plain": [
              "   id keyword location                                               text\n",
              "0   0     NaN      NaN                   [happened, terrible, car, crash]\n",
              "1   2     NaN      NaN  [heard, earthquake, different, cities, stay, s...\n",
              "2   3     NaN      NaN  [forest, fire, spot, pond, geese, fleeing, acr...\n",
              "3   9     NaN      NaN         [apocalypse, lighting, spokane, wildfires]\n",
              "4  11     NaN      NaN          [typhoon, soudelor, kills, china, taiwan]"
            ]
          },
          "metadata": {
            "tags": []
          },
          "execution_count": 115
        }
      ]
    },
    {
      "cell_type": "code",
      "metadata": {
        "id": "zewa8pGYGeog",
        "outputId": "e6735e35-383e-42e3-88a6-786b3bc689fe",
        "colab": {
          "base_uri": "https://localhost:8080/",
          "height": 397
        }
      },
      "source": [
        "#Lets have a quick look of the tweets in wordcloud\n",
        "from wordcloud import WordCloud\n",
        "fig, ax = plt.subplots(figsize=[10, 6])\n",
        "wordcloud = WordCloud( background_color='red',\n",
        "                        width=600,\n",
        "                        height=400).generate(\" \".join(train_df2.text))\n",
        "ax.imshow(wordcloud)\n",
        "ax.axis('off')\n",
        "ax.set_title('Disaster Tweets',fontsize=40);"
      ],
      "execution_count": null,
      "outputs": [
        {
          "output_type": "display_data",
          "data": {
            "image/png": "[encoded data removed]",
            "text/plain": [
              "<Figure size 720x432 with 1 Axes>"
            ]
          },
          "metadata": {
            "tags": [],
            "needs_background": "light"
          }
        }
      ]
    },
    {
      "cell_type": "markdown",
      "metadata": {
        "id": "JzCCSaTCGeok"
      },
      "source": [
        "# 3. Vectorization of text\n",
        "\n",
        "Pre-process text needs to be transformed into a vetor matrix of numbers before a machine learning model can undertsand it and learn from it.This can be done by a number of tecniques:\n",
        "\n",
        "## 1. Bag of Words\n",
        "\n",
        "The bag of words is a representation of text that describes the occurrence of words within a document. It involves two things:\n",
        "- A vocabulary of known words.\n",
        "- A measure of the presence of known words.\n",
        "\n",
        "**Why is it is called a “bag” of words?** Its called bag of words because any information about the order or structure of words in the document is discarded and the model is only concerned with whether the known words occur in the document, not where they occur in the document.\n",
        "\n",
        "### Bag of Words - Countvectorizer Features\n",
        "\n",
        "`Countvectorizer` converts a collection of text documents to a matrix of token counts. It is important to note that `CountVectorizer` comes with a lot of options to automatically do preprocessing, tokenization, and stop word removal. However, all the pre-processing of the text has already been performed by creating a function.Only vanilla version of `Countvectorizer` will be used.\n",
        "\n",
        "## 2. TFIDF Features\n",
        "\n",
        "A problem with the bag of words approach is that highly frequent words start to dominate in the document (e.g. larger score) but may not contain as much “informational content” this will lead to more weight to longer documents than shorter documents.\n",
        "\n",
        "To avoid that, one approach is to rescale the frequency of words by how often they appear in all documents so that the scores for frequent words like “the” that are also frequent across all documents are penalized. This approach to scoring is called \"Term Frequency-Inverse Document Frequency\", or TF-IDF for short, where:\n",
        "\n",
        "**Term Frequency**: is a scoring of the frequency of the word in the current document.\n",
        "\n",
        "`TF = (Number of times term t appears in a document)/(Number of terms in the document)`\n",
        "\n",
        "**Inverse Document Frequency**: is a scoring of how rare the word is across documents.\n",
        "\n",
        "`IDF = 1+log(N/n), where, N is the number of documents and n is the number of documents a term t has appeared in.`"
      ]
    },
    {
      "cell_type": "code",
      "metadata": {
        "id": "kNsaGojSGeol",
        "outputId": "6b077c83-e7cb-458e-fdb8-6418c6c4dc0e",
        "colab": {
          "base_uri": "https://localhost:8080/",
          "height": 34
        }
      },
      "source": [
        "# Vectorize the text using CountVectorizer\n",
        "count_vectorizer = CountVectorizer()\n",
        "train_cv = count_vectorizer.fit_transform(train_df2['text'])\n",
        "test_cv = count_vectorizer.transform(test_df2[\"text\"])\n",
        "\n",
        "## Keeping only non-zero elements to preserve space \n",
        "print(train_cv[0].todense())"
      ],
      "execution_count": null,
      "outputs": [
        {
          "output_type": "stream",
          "text": [
            "[[0 0 0 ... 0 0 0]]\n"
          ],
          "name": "stdout"
        }
      ]
    },
    {
      "cell_type": "code",
      "metadata": {
        "id": "sM9cNPKqGeon"
      },
      "source": [
        "# Vectorize the text using TFIDF\n",
        "tfidf = TfidfVectorizer(min_df=2, max_df=0.5, ngram_range=(1, 2))\n",
        "train_tf = tfidf.fit_transform(train_df2['text'])\n",
        "test_tf = tfidf.transform(test_df2[\"text\"])"
      ],
      "execution_count": null,
      "outputs": []
    },
    {
      "cell_type": "markdown",
      "metadata": {
        "id": "i4rc88vwGeoo"
      },
      "source": [
        "# 4. Build a Text Classification Machine Learning model\n",
        "\n",
        "Lets create a simple classification model using commonly used calssification algorithms and check how the models performs."
      ]
    },
    {
      "cell_type": "code",
      "metadata": {
        "id": "CsPPAhiqGeop"
      },
      "source": [
        "#Split the CountVector vectorized data into train and test datasets for model training and testing\n",
        "X_train_cv, X_test_cv, y_train_cv, y_test_cv =train_test_split(train_cv,train_df.target,test_size=0.2,random_state=2020)"
      ],
      "execution_count": null,
      "outputs": []
    },
    {
      "cell_type": "code",
      "metadata": {
        "id": "x2YaGUWcGeos"
      },
      "source": [
        "#Define a function to fit and predict on training and test data sets\n",
        "def fit_and_predict(model,X_train,y_train,X_test,y_test):\n",
        "    \n",
        "    '''Input- model=model to be trained\n",
        "              X_train, y_train= traing data set\n",
        "              X_test,  y_test = testing data set\n",
        "       Output- Print accuracy of model for training and test data sets   \n",
        "    '''\n",
        "    \n",
        "    # Fitting a simple Logistic Regression on Counts\n",
        "    clf = model\n",
        "    clf.fit(X_train, y_train)\n",
        "    predictions=clf.predict(X_test)\n",
        "    confusion_matrix(y_test,predictions)\n",
        "    print(classification_report(y_test,predictions))\n",
        "    print('-'*50)\n",
        "    print(\"{}\" .format(model))\n",
        "    print('-'*50)\n",
        "    print('Accuracy of classifier on training set:{}%'.format(round(clf.score(X_train, y_train)*100)))\n",
        "    print('-'*50)\n",
        "    print('Accuracy of classifier on test set:{}%' .format(round(accuracy_score(y_test,predictions)*100)))\n",
        "    print('-'*50)"
      ],
      "execution_count": null,
      "outputs": []
    },
    {
      "cell_type": "code",
      "metadata": {
        "id": "l69IV13wGeou"
      },
      "source": [
        "# Create a list of the regression models to be used\n",
        "models=[LogisticRegression(C=1.0),SVC(),MultinomialNB(),DecisionTreeClassifier(),\n",
        "        KNeighborsClassifier(n_neighbors=5),RandomForestClassifier()]"
      ],
      "execution_count": null,
      "outputs": []
    },
    {
      "cell_type": "code",
      "metadata": {
        "id": "cmZ9WegeGeow",
        "outputId": "5baf604b-cdcd-4ed5-8800-9d06ac0936fc",
        "colab": {
          "base_uri": "https://localhost:8080/",
          "height": 1000
        }
      },
      "source": [
        "# Loop through the list of models and use 'fit_and_predict()' function to trian and make predictions\n",
        "for model in models:\n",
        "    fit_and_predict(model,X_train_cv, y_train_cv,X_test_cv,y_test_cv)"
      ],
      "execution_count": null,
      "outputs": [
        {
          "output_type": "stream",
          "text": [
            "              precision    recall  f1-score   support\n",
            "\n",
            "           0       0.79      0.89      0.84       849\n",
            "           1       0.84      0.71      0.77       674\n",
            "\n",
            "    accuracy                           0.81      1523\n",
            "   macro avg       0.81      0.80      0.80      1523\n",
            "weighted avg       0.81      0.81      0.81      1523\n",
            "\n",
            "--------------------------------------------------\n",
            "LogisticRegression(C=1.0, class_weight=None, dual=False, fit_intercept=True,\n",
            "                   intercept_scaling=1, l1_ratio=None, max_iter=100,\n",
            "                   multi_class='auto', n_jobs=None, penalty='l2',\n",
            "                   random_state=None, solver='lbfgs', tol=0.0001, verbose=0,\n",
            "                   warm_start=False)\n",
            "--------------------------------------------------\n",
            "Accuracy of classifier on training set:96.0%\n",
            "--------------------------------------------------\n",
            "Accuracy of classifier on test set:81.0%\n",
            "--------------------------------------------------\n",
            "              precision    recall  f1-score   support\n",
            "\n",
            "           0       0.77      0.93      0.84       849\n",
            "           1       0.88      0.65      0.75       674\n",
            "\n",
            "    accuracy                           0.80      1523\n",
            "   macro avg       0.82      0.79      0.79      1523\n",
            "weighted avg       0.82      0.80      0.80      1523\n",
            "\n",
            "--------------------------------------------------\n",
            "SVC(C=1.0, break_ties=False, cache_size=200, class_weight=None, coef0=0.0,\n",
            "    decision_function_shape='ovr', degree=3, gamma='scale', kernel='rbf',\n",
            "    max_iter=-1, probability=False, random_state=None, shrinking=True,\n",
            "    tol=0.001, verbose=False)\n",
            "--------------------------------------------------\n",
            "Accuracy of classifier on training set:95.0%\n",
            "--------------------------------------------------\n",
            "Accuracy of classifier on test set:80.0%\n",
            "--------------------------------------------------\n",
            "              precision    recall  f1-score   support\n",
            "\n",
            "           0       0.81      0.85      0.83       849\n",
            "           1       0.80      0.74      0.77       674\n",
            "\n",
            "    accuracy                           0.80      1523\n",
            "   macro avg       0.80      0.80      0.80      1523\n",
            "weighted avg       0.80      0.80      0.80      1523\n",
            "\n",
            "--------------------------------------------------\n",
            "MultinomialNB(alpha=1.0, class_prior=None, fit_prior=True)\n",
            "--------------------------------------------------\n",
            "Accuracy of classifier on training set:92.0%\n",
            "--------------------------------------------------\n",
            "Accuracy of classifier on test set:80.0%\n",
            "--------------------------------------------------\n",
            "              precision    recall  f1-score   support\n",
            "\n",
            "           0       0.76      0.82      0.79       849\n",
            "           1       0.75      0.67      0.71       674\n",
            "\n",
            "    accuracy                           0.75      1523\n",
            "   macro avg       0.75      0.75      0.75      1523\n",
            "weighted avg       0.75      0.75      0.75      1523\n",
            "\n",
            "--------------------------------------------------\n",
            "DecisionTreeClassifier(ccp_alpha=0.0, class_weight=None, criterion='gini',\n",
            "                       max_depth=None, max_features=None, max_leaf_nodes=None,\n",
            "                       min_impurity_decrease=0.0, min_impurity_split=None,\n",
            "                       min_samples_leaf=1, min_samples_split=2,\n",
            "                       min_weight_fraction_leaf=0.0, presort='deprecated',\n",
            "                       random_state=None, splitter='best')\n",
            "--------------------------------------------------\n",
            "Accuracy of classifier on training set:99.0%\n",
            "--------------------------------------------------\n",
            "Accuracy of classifier on test set:75.0%\n",
            "--------------------------------------------------\n",
            "              precision    recall  f1-score   support\n",
            "\n",
            "           0       0.65      0.97      0.78       849\n",
            "           1       0.90      0.34      0.49       674\n",
            "\n",
            "    accuracy                           0.69      1523\n",
            "   macro avg       0.78      0.65      0.63      1523\n",
            "weighted avg       0.76      0.69      0.65      1523\n",
            "\n",
            "--------------------------------------------------\n",
            "KNeighborsClassifier(algorithm='auto', leaf_size=30, metric='minkowski',\n",
            "                     metric_params=None, n_jobs=None, n_neighbors=5, p=2,\n",
            "                     weights='uniform')\n",
            "--------------------------------------------------\n",
            "Accuracy of classifier on training set:76.0%\n",
            "--------------------------------------------------\n",
            "Accuracy of classifier on test set:69.0%\n",
            "--------------------------------------------------\n",
            "              precision    recall  f1-score   support\n",
            "\n",
            "           0       0.77      0.91      0.83       849\n",
            "           1       0.85      0.66      0.75       674\n",
            "\n",
            "    accuracy                           0.80      1523\n",
            "   macro avg       0.81      0.79      0.79      1523\n",
            "weighted avg       0.81      0.80      0.79      1523\n",
            "\n",
            "--------------------------------------------------\n",
            "RandomForestClassifier(bootstrap=True, ccp_alpha=0.0, class_weight=None,\n",
            "                       criterion='gini', max_depth=None, max_features='auto',\n",
            "                       max_leaf_nodes=None, max_samples=None,\n",
            "                       min_impurity_decrease=0.0, min_impurity_split=None,\n",
            "                       min_samples_leaf=1, min_samples_split=2,\n",
            "                       min_weight_fraction_leaf=0.0, n_estimators=100,\n",
            "                       n_jobs=None, oob_score=False, random_state=None,\n",
            "                       verbose=0, warm_start=False)\n",
            "--------------------------------------------------\n",
            "Accuracy of classifier on training set:99.0%\n",
            "--------------------------------------------------\n",
            "Accuracy of classifier on test set:80.0%\n",
            "--------------------------------------------------\n"
          ],
          "name": "stdout"
        }
      ]
    },
    {
      "cell_type": "code",
      "metadata": {
        "id": "ym3ooZd7Geox"
      },
      "source": [
        "# Split the TFDIF vectorized data into train and test datasets for model training and testing\n",
        "X_train_tf, X_test_tf, y_train_tf, y_test_tf =train_test_split(train_tf,train_df.target,test_size=0.2,random_state=2020)"
      ],
      "execution_count": null,
      "outputs": []
    },
    {
      "cell_type": "code",
      "metadata": {
        "id": "jX6yOJ47Geoz",
        "outputId": "e76c52cd-d51c-4741-c0c8-b24ed2c07a87",
        "colab": {
          "base_uri": "https://localhost:8080/",
          "height": 1000
        }
      },
      "source": [
        "# Loop through the list of models and use 'fit_and_predict()' function to train and make predictions on the TFDIF vectororized data\n",
        "for model in models:\n",
        "    fit_and_predict(model,X_train_tf, y_train_tf,X_test_tf,y_test_tf)"
      ],
      "execution_count": null,
      "outputs": [
        {
          "output_type": "stream",
          "text": [
            "              precision    recall  f1-score   support\n",
            "\n",
            "           0       0.78      0.91      0.84       849\n",
            "           1       0.86      0.67      0.75       674\n",
            "\n",
            "    accuracy                           0.80      1523\n",
            "   macro avg       0.82      0.79      0.79      1523\n",
            "weighted avg       0.81      0.80      0.80      1523\n",
            "\n",
            "--------------------------------------------------\n",
            "LogisticRegression(C=1.0, class_weight=None, dual=False, fit_intercept=True,\n",
            "                   intercept_scaling=1, l1_ratio=None, max_iter=100,\n",
            "                   multi_class='auto', n_jobs=None, penalty='l2',\n",
            "                   random_state=None, solver='lbfgs', tol=0.0001, verbose=0,\n",
            "                   warm_start=False)\n",
            "--------------------------------------------------\n",
            "Accuracy of classifier on training set:88.0%\n",
            "--------------------------------------------------\n",
            "Accuracy of classifier on test set:80.0%\n",
            "--------------------------------------------------\n",
            "              precision    recall  f1-score   support\n",
            "\n",
            "           0       0.77      0.92      0.84       849\n",
            "           1       0.86      0.65      0.74       674\n",
            "\n",
            "    accuracy                           0.80      1523\n",
            "   macro avg       0.81      0.78      0.79      1523\n",
            "weighted avg       0.81      0.80      0.79      1523\n",
            "\n",
            "--------------------------------------------------\n",
            "SVC(C=1.0, break_ties=False, cache_size=200, class_weight=None, coef0=0.0,\n",
            "    decision_function_shape='ovr', degree=3, gamma='scale', kernel='rbf',\n",
            "    max_iter=-1, probability=False, random_state=None, shrinking=True,\n",
            "    tol=0.001, verbose=False)\n",
            "--------------------------------------------------\n",
            "Accuracy of classifier on training set:96.0%\n",
            "--------------------------------------------------\n",
            "Accuracy of classifier on test set:80.0%\n",
            "--------------------------------------------------\n",
            "              precision    recall  f1-score   support\n",
            "\n",
            "           0       0.77      0.92      0.83       849\n",
            "           1       0.86      0.65      0.74       674\n",
            "\n",
            "    accuracy                           0.80      1523\n",
            "   macro avg       0.81      0.78      0.79      1523\n",
            "weighted avg       0.81      0.80      0.79      1523\n",
            "\n",
            "--------------------------------------------------\n",
            "MultinomialNB(alpha=1.0, class_prior=None, fit_prior=True)\n",
            "--------------------------------------------------\n",
            "Accuracy of classifier on training set:87.0%\n",
            "--------------------------------------------------\n",
            "Accuracy of classifier on test set:80.0%\n",
            "--------------------------------------------------\n",
            "              precision    recall  f1-score   support\n",
            "\n",
            "           0       0.76      0.79      0.78       849\n",
            "           1       0.72      0.68      0.70       674\n",
            "\n",
            "    accuracy                           0.74      1523\n",
            "   macro avg       0.74      0.74      0.74      1523\n",
            "weighted avg       0.74      0.74      0.74      1523\n",
            "\n",
            "--------------------------------------------------\n",
            "DecisionTreeClassifier(ccp_alpha=0.0, class_weight=None, criterion='gini',\n",
            "                       max_depth=None, max_features=None, max_leaf_nodes=None,\n",
            "                       min_impurity_decrease=0.0, min_impurity_split=None,\n",
            "                       min_samples_leaf=1, min_samples_split=2,\n",
            "                       min_weight_fraction_leaf=0.0, presort='deprecated',\n",
            "                       random_state=None, splitter='best')\n",
            "--------------------------------------------------\n",
            "Accuracy of classifier on training set:98.0%\n",
            "--------------------------------------------------\n",
            "Accuracy of classifier on test set:74.0%\n",
            "--------------------------------------------------\n",
            "              precision    recall  f1-score   support\n",
            "\n",
            "           0       0.62      0.98      0.76       849\n",
            "           1       0.93      0.24      0.38       674\n",
            "\n",
            "    accuracy                           0.66      1523\n",
            "   macro avg       0.77      0.61      0.57      1523\n",
            "weighted avg       0.76      0.66      0.59      1523\n",
            "\n",
            "--------------------------------------------------\n",
            "KNeighborsClassifier(algorithm='auto', leaf_size=30, metric='minkowski',\n",
            "                     metric_params=None, n_jobs=None, n_neighbors=5, p=2,\n",
            "                     weights='uniform')\n",
            "--------------------------------------------------\n",
            "Accuracy of classifier on training set:72.0%\n",
            "--------------------------------------------------\n",
            "Accuracy of classifier on test set:66.0%\n",
            "--------------------------------------------------\n",
            "              precision    recall  f1-score   support\n",
            "\n",
            "           0       0.77      0.90      0.83       849\n",
            "           1       0.83      0.66      0.74       674\n",
            "\n",
            "    accuracy                           0.79      1523\n",
            "   macro avg       0.80      0.78      0.78      1523\n",
            "weighted avg       0.80      0.79      0.79      1523\n",
            "\n",
            "--------------------------------------------------\n",
            "RandomForestClassifier(bootstrap=True, ccp_alpha=0.0, class_weight=None,\n",
            "                       criterion='gini', max_depth=None, max_features='auto',\n",
            "                       max_leaf_nodes=None, max_samples=None,\n",
            "                       min_impurity_decrease=0.0, min_impurity_split=None,\n",
            "                       min_samples_leaf=1, min_samples_split=2,\n",
            "                       min_weight_fraction_leaf=0.0, n_estimators=100,\n",
            "                       n_jobs=None, oob_score=False, random_state=None,\n",
            "                       verbose=0, warm_start=False)\n",
            "--------------------------------------------------\n",
            "Accuracy of classifier on training set:98.0%\n",
            "--------------------------------------------------\n",
            "Accuracy of classifier on test set:79.0%\n",
            "--------------------------------------------------\n"
          ],
          "name": "stdout"
        }
      ]
    },
    {
      "cell_type": "markdown",
      "metadata": {
        "id": "-W8_tHlPGeo3"
      },
      "source": [
        "# 5. Results\n",
        "\n",
        "Based on the above results, lets print the various classifier performance results:"
      ]
    },
    {
      "cell_type": "code",
      "metadata": {
        "id": "IcxDK0boGeo3",
        "outputId": "8ccf2cd4-af90-4a91-f806-b29e0b6f9889",
        "colab": {
          "base_uri": "https://localhost:8080/",
          "height": 235
        }
      },
      "source": [
        "# Printing model performance results.\n",
        "results_dict={'Classifier':['Logistic regression', 'SVC', 'MultinomialNB', 'DecisionTreeClassifier',\n",
        "                            'KNeighborsClassifier','RandomForestClassifier'],\n",
        "              'F1-Score':[0.81, 0.40, .80, .75,0.65,0.76],'Accuracy':['81%', '56%', '80%','75%','69%','77%']} \n",
        "results=pd.DataFrame(results_dict)\n",
        "results"
      ],
      "execution_count": null,
      "outputs": [
        {
          "output_type": "execute_result",
          "data": {
            "text/html": [
              "<div>\n",
              "<style scoped>\n",
              "    .dataframe tbody tr th:only-of-type {\n",
              "        vertical-align: middle;\n",
              "    }\n",
              "\n",
              "    .dataframe tbody tr th {\n",
              "        vertical-align: top;\n",
              "    }\n",
              "\n",
              "    .dataframe thead th {\n",
              "        text-align: right;\n",
              "    }\n",
              "</style>\n",
              "<table border=\"1\" class=\"dataframe\">\n",
              "  <thead>\n",
              "    <tr style=\"text-align: right;\">\n",
              "      <th></th>\n",
              "      <th>Classifier</th>\n",
              "      <th>F1-Score</th>\n",
              "      <th>Accuracy</th>\n",
              "    </tr>\n",
              "  </thead>\n",
              "  <tbody>\n",
              "    <tr>\n",
              "      <th>0</th>\n",
              "      <td>Logistic regression</td>\n",
              "      <td>0.81</td>\n",
              "      <td>81%</td>\n",
              "    </tr>\n",
              "    <tr>\n",
              "      <th>1</th>\n",
              "      <td>SVC</td>\n",
              "      <td>0.40</td>\n",
              "      <td>56%</td>\n",
              "    </tr>\n",
              "    <tr>\n",
              "      <th>2</th>\n",
              "      <td>MultinomialNB</td>\n",
              "      <td>0.80</td>\n",
              "      <td>80%</td>\n",
              "    </tr>\n",
              "    <tr>\n",
              "      <th>3</th>\n",
              "      <td>DecisionTreeClassifier</td>\n",
              "      <td>0.75</td>\n",
              "      <td>75%</td>\n",
              "    </tr>\n",
              "    <tr>\n",
              "      <th>4</th>\n",
              "      <td>KNeighborsClassifier</td>\n",
              "      <td>0.65</td>\n",
              "      <td>69%</td>\n",
              "    </tr>\n",
              "    <tr>\n",
              "      <th>5</th>\n",
              "      <td>RandomForestClassifier</td>\n",
              "      <td>0.76</td>\n",
              "      <td>77%</td>\n",
              "    </tr>\n",
              "  </tbody>\n",
              "</table>\n",
              "</div>"
            ],
            "text/plain": [
              "               Classifier  F1-Score Accuracy\n",
              "0     Logistic regression      0.81      81%\n",
              "1                     SVC      0.40      56%\n",
              "2           MultinomialNB      0.80      80%\n",
              "3  DecisionTreeClassifier      0.75      75%\n",
              "4    KNeighborsClassifier      0.65      69%\n",
              "5  RandomForestClassifier      0.76      77%"
            ]
          },
          "metadata": {
            "tags": []
          },
          "execution_count": 70
        }
      ]
    },
    {
      "cell_type": "markdown",
      "metadata": {
        "id": "XPsth1b3Geo4"
      },
      "source": [
        "It seems from all the classifiers tested, `LogisticRegression()` classifier performed best with `CountVectorizer()`."
      ]
    },
    {
      "cell_type": "code",
      "metadata": {
        "id": "pC9ODnAMGeo5",
        "outputId": "356b5689-07e6-4248-de20-b5b12b4128e8",
        "colab": {
          "base_uri": "https://localhost:8080/",
          "height": 204
        }
      },
      "source": [
        "# Fitting 'LogisticRegression()' with CountVectorizer() fit dataset\n",
        "clf_logreg = LogisticRegression(C=1.0)\n",
        "clf_logreg.fit(X_train_cv, y_train_cv)\n",
        "pred=clf_logreg.predict(X_test_cv)\n",
        "confusion_matrix(y_test_cv,pred)\n",
        "print(classification_report(y_test_cv,pred))\n",
        "print('Accuracy of classifier on training set:{}%'.format(round(clf_logreg.score(X_train_cv, y_train_cv)*100)))\n",
        "print('Accuracy of classifier on test set:{}%' .format(round(accuracy_score(y_test_cv,pred)*100)))"
      ],
      "execution_count": null,
      "outputs": [
        {
          "output_type": "stream",
          "text": [
            "              precision    recall  f1-score   support\n",
            "\n",
            "           0       0.79      0.89      0.84       849\n",
            "           1       0.84      0.71      0.77       674\n",
            "\n",
            "    accuracy                           0.81      1523\n",
            "   macro avg       0.81      0.80      0.80      1523\n",
            "weighted avg       0.81      0.81      0.81      1523\n",
            "\n",
            "Accuracy of classifier on training set:96.0%\n",
            "Accuracy of classifier on test set:81.0%\n"
          ],
          "name": "stdout"
        }
      ]
    },
    {
      "cell_type": "code",
      "metadata": {
        "id": "wJ0tAwB5Geo6",
        "outputId": "8eed909f-dd17-47b0-b11b-06171f4b0347",
        "colab": {
          "base_uri": "https://localhost:8080/",
          "height": 102
        }
      },
      "source": [
        "clf_logreg"
      ],
      "execution_count": null,
      "outputs": [
        {
          "output_type": "execute_result",
          "data": {
            "text/plain": [
              "LogisticRegression(C=1.0, class_weight=None, dual=False, fit_intercept=True,\n",
              "                   intercept_scaling=1, l1_ratio=None, max_iter=100,\n",
              "                   multi_class='auto', n_jobs=None, penalty='l2',\n",
              "                   random_state=None, solver='lbfgs', tol=0.0001, verbose=0,\n",
              "                   warm_start=False)"
            ]
          },
          "metadata": {
            "tags": []
          },
          "execution_count": 72
        }
      ]
    },
    {
      "cell_type": "markdown",
      "metadata": {
        "id": "1mLh74e1Geo7"
      },
      "source": [
        "### Model Performance Metrics\n",
        "\n",
        "After implementing a model and getting some output in forms of a probability or a class, the next step is to find out how effective is the model based on some metric using test data sets.Different performance metrics are used to evaluate different Machine Learning Algorithms.\n",
        "\n",
        "This problem is a classification problem hence I have claculated confusion matrix, F1-score and accuracy as a performacne metric to evaluate model performance.\n",
        "\n",
        "**1.Confusion Matrix:**\n",
        "\n",
        "The confusion matrix, is a table with two dimensions (“Actual” and “Predicted”), and sets of “classes” in both dimensions. Our Actual classifications are columns and Predicted ones are Rows.\n",
        "![image.png](attachment:image.png)\n",
        "\n",
        "The Confusion matrix in itself is not a performance measure as such, but almost all of the performance metrics are based on Confusion Matrix and the numbers inside it.\n",
        "\n",
        "**3.F1-Score:**\n",
        "\n",
        "F1-score combines precision and recall relative to a specific positive class. The F1-score can be interpreted as a weighted average of the precision and recall, where an F1-score reaches its best value at 1 and worst at 0.\n",
        "\n",
        "**2.Accuracy**:\n",
        "\n",
        "Accuracy in classification problems is the number of correct predictions made by the model over all predictions made.\n",
        "\n",
        "Accuracy is good measure when target class variable in the training dataset is nearly balanced.The distribution of the target class in provided training set is 57% for `0` class to 43% for `1` class which is about equally distributed.\n",
        "Due to this reason i chose 'accuracy' to be model performance evalution metric for this problem."
      ]
    },
    {
      "cell_type": "markdown",
      "metadata": {
        "id": "qnlfieitGeo8"
      },
      "source": [
        "### Model Improvements\n",
        "\n",
        "The result from `LogisticRegression()` classifier seems good enough than rest of the classifiers to be used as a final model.Based on the above results, it seems the classifier is not over fitting but lets try to improve the model by tuning some hyper parameters of the classifier."
      ]
    },
    {
      "cell_type": "code",
      "metadata": {
        "id": "1oPGu_ZYGeo8",
        "outputId": "decb6587-b922-4ea5-c290-533573d271c0",
        "colab": {
          "base_uri": "https://localhost:8080/",
          "height": 34
        }
      },
      "source": [
        "# Create the list of various hyper parameters to try\n",
        "solvers = ['newton-cg', 'lbfgs', 'liblinear']\n",
        "penalty = ['l2']\n",
        "c_values = [100, 10, 1.0, 0.1, 0.01]\n",
        "logreg= LogisticRegression()\n",
        "\n",
        "# Define and fit grid search\n",
        "grid = dict(solver=solvers,penalty=penalty,C=c_values)\n",
        "cv = RepeatedStratifiedKFold(n_splits=10, n_repeats=3, random_state=1)\n",
        "grid_search = GridSearchCV(estimator=logreg, param_grid=grid, n_jobs=-1, cv=cv, scoring='accuracy',error_score=0)\n",
        "grid_result = grid_search.fit(X_train_cv, y_train_cv)\n",
        "\n",
        "# Summarize and print results\n",
        "print(\"Best: %f using %s\" % (grid_result.best_score_, grid_result.best_params_))"
      ],
      "execution_count": null,
      "outputs": [
        {
          "output_type": "stream",
          "text": [
            "Best: 0.795676 using {'C': 0.1, 'penalty': 'l2', 'solver': 'liblinear'}\n"
          ],
          "name": "stdout"
        }
      ]
    },
    {
      "cell_type": "markdown",
      "metadata": {
        "id": "t-Hc0hc5Geo9"
      },
      "source": [
        "From above results, it seems orignal classifier with default parameters performed best so that will be used as the final model for test data predictions."
      ]
    },
    {
      "cell_type": "code",
      "metadata": {
        "id": "2yfHINBkGeo-"
      },
      "source": [
        "# Lets apply pre-processing function to clean and pre-process text data before vectorizing\n",
        "test_df_final=test_df.copy()\n",
        "test_df_final['text'] = test_df_final['text'].apply(lambda x : pre_process_text_combined(x))"
      ],
      "execution_count": null,
      "outputs": []
    },
    {
      "cell_type": "code",
      "metadata": {
        "id": "PFUU6WPWGepB"
      },
      "source": [
        "# Lets fit the test data with Countvectorizer() method to vectroize the data\n",
        "test_vector = count_vectorizer.transform(test_df_final[\"text\"])"
      ],
      "execution_count": null,
      "outputs": []
    },
    {
      "cell_type": "markdown",
      "metadata": {
        "id": "c_cQD490GepD"
      },
      "source": [
        "Lets create a function to generate predictions for the provided test data for submission."
      ]
    },
    {
      "cell_type": "code",
      "metadata": {
        "id": "LezXHWexGepD"
      },
      "source": [
        "# Define a function to generate predictions and store in a.csv file for submission on Kaggle\n",
        "def submission(sub_file,model,test_vector):\n",
        "    \n",
        "    '''Input- sub_file=Location of the file submission file\n",
        "              model=final fit model to be used for predictions\n",
        "              test_vector=pre-processed and vectorized test dataset\n",
        "       Output- submission file in .csv format with predictions       \n",
        "    \n",
        "    '''\n",
        "    sub_df = pd.read_csv(sub_file)\n",
        "    sub_df[\"target\"] = model.predict(test_vector)\n",
        "    sub_df.to_csv(\"submission.csv\", index=False)"
      ],
      "execution_count": null,
      "outputs": []
    },
    {
      "cell_type": "code",
      "metadata": {
        "id": "j6XpGQdoGepF"
      },
      "source": [
        "# Use Submission() function to generate submission file for posting on Kaggle\n",
        "sub_file = \"https://raw.githubusercontent.com/pavstar619/Data-Science-Capstone/master/sample_submission.csv\"\n",
        "test_vector=test_vector\n",
        "submission(sub_file,clf_logreg,test_vector)"
      ],
      "execution_count": null,
      "outputs": []
    },
    {
      "cell_type": "markdown",
      "metadata": {
        "id": "Yl8nSf3qGepH"
      },
      "source": [
        "# 6. Challenges\n",
        "\n",
        "Working on this data science capstone project went pretty smoothly without many issues. Even though every step in developing this project was smooth, following complications were faced:\n",
        "\n",
        "- There are only about 7000 data records for training which seems low and hence accuracy of model suffers.\n",
        "- I took the NLP challenge for my capstone project and this area is new and challenging for me since i had to start from scratch. \n",
        "- Learning new area and working on a capstone project was little difficult due to the fact that I don't have much time left  on my nano degree.  \n",
        "- New topic and less time also restricted me to test few more models from deep neural network area.\n"
      ]
    },
    {
      "cell_type": "markdown",
      "metadata": {
        "id": "qkGjZAduGepH"
      },
      "source": [
        "# 7. Conclusion\n",
        "\n",
        "In this capstone project, I took a Kaggle challenge to classify tweets into disaster tweets in real or not?. First, I have analyzed and explored all the provided tweets data to visualize the statistical and other properties of the presented data.Next, I performed some exploratory analysis of the data to check type of the data, whether there are unwanted features and if features have missing data. Based on the analysis, I decided to drop ‘location’ column since it has most the data missing and really have no effect on classification of tweets. The ‘text’ columns is all text data along with alpha numeric, special characters and embedded URLs.The ‘text’ column data needs to be cleaned and pre processed and vectorized before it can be used with a machine learning algorithm for the classification of the tweets.\n",
        "\n",
        "After pre processing the train and test data,the data was vectorized using `CountVectorizer` and `TFIDF` features and then it was split into training and test data, and then various classifiers were fit on the data and predictions were made.Out of all classifiers tested, LogisticRegression() performed the best with the test accuracy of 81%. An effort was made to tune some hyper parameters of the final classifier to see if accuracy can be improved.It turned out that classifier with default parameters preformed little better than tuned model .\n",
        "\n",
        "Finally, `LogisticRegression()` classifier with default parameters was selected as final model for this NLP classifications challenge and predictions were made on the test data. Kaggle submission³ of the predictions resulted in an accuracy of 79%."
      ]
    },
    {
      "cell_type": "markdown",
      "metadata": {
        "id": "g0eK9oD3GepH"
      },
      "source": [
        "# 8. Improvements\n",
        "\n",
        "I believe there are definitely opportunities to try out various machine learning models to see if there are better performing models could be found to solve this problem with higher than 79% accuracy.\n",
        "\n",
        "Trying neural network and deep neural network models such as `RNN(Recurrent Neural Network)` might result in higher accuracy and better performance but may be very costly in terms of compute resources used.\n",
        "\n",
        "Another way to improve the accuracy of the models would be to have more training data than given."
      ]
    },
    {
      "cell_type": "code",
      "metadata": {
        "id": "_PZlXhPAGepI"
      },
      "source": [
        ""
      ],
      "execution_count": null,
      "outputs": []
    },
    {
      "cell_type": "code",
      "metadata": {
        "id": "WRyPmMjpGepJ"
      },
      "source": [
        ""
      ],
      "execution_count": null,
      "outputs": []
    }
  ]
}